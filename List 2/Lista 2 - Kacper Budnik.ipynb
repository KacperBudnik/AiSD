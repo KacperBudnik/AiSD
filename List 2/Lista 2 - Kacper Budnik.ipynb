{
 "cells": [
  {
   "cell_type": "markdown",
   "metadata": {},
   "source": [
    "# Zadanie 1"
   ]
  },
  {
   "cell_type": "markdown",
   "metadata": {},
   "source": [
    "### Grupa 1\n",
    "<center>$ f_1(n) = n^{0.999999}\\log n $</center>\n",
    "<center>$ f_2(n) = 10000000n $</center>\n",
    "<center>$ f_3(n) = 1.000001^n $</center>\n",
    "<center>$ f_4(n) = n^2 $</center>"
   ]
  },
  {
   "cell_type": "markdown",
   "metadata": {},
   "source": [
    "Twierdzę, że\n",
    "<center>$ f_1\\preccurlyeq f_2\\preccurlyeq f_4 \\preccurlyeq f_3$</center>"
   ]
  },
  {
   "cell_type": "markdown",
   "metadata": {},
   "source": [
    "D-d\n",
    "\n",
    "$f_1\\preccurlyeq f_2$\n",
    "\n",
    "$ \\lim\\limits_{n\\to\\infty} \\frac{f_1(n)}{f_2(n)} = \\lim\\limits_{n\\to\\infty} \\frac{n^{0.999999}\\log n}{10000000n} = \\lim\\limits_{n\\to\\infty} \\frac{ n*n^{-10^6}\\log n}{10^7n} = \\lim\\limits_{n\\to\\infty} \\frac{1}{10^7} \\frac{\\ln n}{n^{10^{-6}}} \\overset{H}{=} \\lim\\limits_{n\\to\\infty} \\frac{1}{10} \\frac{\\frac{1}{n}}{n^{10^{-6}-1}}= \\frac{1}{10} \\lim\\limits_{n\\to\\infty} \\frac{1}{n^{10^{-6}}}=0 $\n",
    "\n",
    "\n",
    "$f_2\\preccurlyeq f_4$\n",
    "\n",
    "$ \\lim\\limits_{n\\to\\infty} \\frac{f_2(n)}{f_4(n)} =  \\lim\\limits_{n\\to\\infty} \\frac{10^7n}{n^2} = \\lim\\limits_{n\\to\\infty} \\frac{10^7}{n} = 0$\n",
    "\n",
    "$f_4\\preccurlyeq f_3$\n",
    "\n",
    "$ \\lim\\limits_{n\\to\\infty} \\frac{f_4(n)}{f_3(n)} $"
   ]
  },
  {
   "cell_type": "markdown",
   "metadata": {},
   "source": [
    "### Grupa 1\n",
    "<center>$ f_1(n) = n^{0.999999n}\\log n $</center>\n",
    "<center>$ f_2(n) = 10000000n $</center>\n",
    "<center>$ f_3(n) = 1.000001^n $</center>\n",
    "<center>$ f_4(n) = n^2 $</center>"
   ]
  },
  {
   "cell_type": "markdown",
   "metadata": {},
   "source": [
    "$a \\overset{H}{=} b$"
   ]
  },
  {
   "cell_type": "code",
   "execution_count": null,
   "metadata": {},
   "outputs": [],
   "source": []
  }
 ],
 "metadata": {
  "kernelspec": {
   "display_name": "Python 3",
   "language": "python",
   "name": "python3"
  },
  "language_info": {
   "codemirror_mode": {
    "name": "ipython",
    "version": 3
   },
   "file_extension": ".py",
   "mimetype": "text/x-python",
   "name": "python",
   "nbconvert_exporter": "python",
   "pygments_lexer": "ipython3",
   "version": "3.8.5"
  }
 },
 "nbformat": 4,
 "nbformat_minor": 4
}
