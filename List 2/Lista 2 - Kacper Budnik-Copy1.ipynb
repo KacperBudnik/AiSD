{
 "cells": [
  {
   "cell_type": "markdown",
   "metadata": {},
   "source": [
    "# Lista 2\n",
    "repo: https://github.com/KacperBudnik/AiSD/tree/main/List%202"
   ]
  },
  {
   "cell_type": "code",
   "execution_count": 1,
   "metadata": {},
   "outputs": [],
   "source": [
    "import math\n",
    "import random"
   ]
  },
  {
   "cell_type": "markdown",
   "metadata": {},
   "source": [
    "Sposób głupi polega na losowaniu po kolei liczby i sprawdzaniu czy spełniają założenia (dana kombinacja jest sprawdzana tylko raz)"
   ]
  },
  {
   "cell_type": "code",
   "execution_count": 2,
   "metadata": {},
   "outputs": [],
   "source": [
    "def fun0(n):#Głupie\n",
    "    k=0\n",
    "    a=[x for x in range(1,n+1)]\n",
    "    while a:\n",
    "        x=a.pop(random.randint(0,len(a)-1))\n",
    "        b=[x for x in range(1,n+1)]\n",
    "        while b:\n",
    "            y=b.pop(random.randint(0,len(b)-1))\n",
    "            c=[x for x in range(1,n+1)]\n",
    "            while c:\n",
    "                z=c.pop(random.randint(0,len(c)-1))\n",
    "                k+=8\n",
    "                if x**2+y**2==z**2 and x+y+z==n:\n",
    "                    return(x,y,z,k)\n",
    "    return (0,0,0,k)"
   ]
  },
  {
   "cell_type": "markdown",
   "metadata": {},
   "source": [
    "Sposób najwolniejszy ale czasem może rozwiązać problem jedynie kilkoma operacjami (Poniżej, za 1110 razem program znalazł trójkę przy 8 operacjach)"
   ]
  },
  {
   "cell_type": "code",
   "execution_count": 3,
   "metadata": {},
   "outputs": [
    {
     "name": "stdout",
     "output_type": "stream",
     "text": [
      "102 (3, 4, 5, 8)\n"
     ]
    }
   ],
   "source": [
    "i=0\n",
    "while True:\n",
    "    i+=1\n",
    "    d=fun0(12)\n",
    "    if d[-1]<10:\n",
    "        break;\n",
    "        \n",
    "print(i,d)"
   ]
  },
  {
   "cell_type": "markdown",
   "metadata": {},
   "source": [
    "Drugi sposób pochodzi z ćwiczeń"
   ]
  },
  {
   "cell_type": "code",
   "execution_count": 4,
   "metadata": {},
   "outputs": [],
   "source": [
    "def fun(n):# Z ćwiczeń\n",
    "    k=0\n",
    "    for a in range(1,n+1):\n",
    "        for b in range(1,n+1):\n",
    "            for c in range(1,n+1):\n",
    "                k+=8\n",
    "                if a**2+b**2==c**2 and a+b+c==n:\n",
    "                    return (a,b,c,k)\n",
    "    return (0,0,0,k)"
   ]
  },
  {
   "cell_type": "markdown",
   "metadata": {},
   "source": [
    "Trzeci jest ulepszeniem drugiego"
   ]
  },
  {
   "cell_type": "code",
   "execution_count": 5,
   "metadata": {},
   "outputs": [],
   "source": [
    "def fun2(n): # Z ćwiczeń ulepszone\n",
    "    k=0\n",
    "    for a in range(1,n+1):\n",
    "        for b in range(1,n+1):\n",
    "            k+=7\n",
    "            if a**2+b**2 == (n-a-b)**2:\n",
    "                return (a,b,n-a-b,k)\n",
    "    return (0,0,0,k)"
   ]
  },
  {
   "cell_type": "markdown",
   "metadata": {},
   "source": [
    "Mój pomysł polega na czy dla danego 'C' istnieją liczby a,b spełniające żądane warunki.\n",
    "Jeśli mamy znane C, wystrczy jednocześnie zwiększać a i zmniejszać b dopóki nie spełnimy warunków (lub a będzie równe 0)"
   ]
  },
  {
   "cell_type": "code",
   "execution_count": 6,
   "metadata": {},
   "outputs": [],
   "source": [
    "# Własny pomysł\n",
    "def fun3_help(n,c):\n",
    "    k=0\n",
    "    b=int(c//math.sqrt(2))\n",
    "    a=n-c-b\n",
    "    m=c**2\n",
    "    k+=10\n",
    "    while a**2+b**2<m and a>0:\n",
    "        a-=1\n",
    "        b+=1\n",
    "        k+=7\n",
    "    \n",
    "    return (a,b,k)\n",
    "        \n",
    "    \n",
    "    \n",
    "def fun3(n):\n",
    "    k=0\n",
    "    for i in range(1,n//2):\n",
    "        d=fun3_help(n,i)\n",
    "        k+=1+d[-1]\n",
    "        if d[0]!=0:\n",
    "            k+=5\n",
    "            if d[0]**2+d[1]**2==i**2:\n",
    "                return (d[0],d[1],i,k)\n",
    "    return (0,0,0,k)"
   ]
  },
  {
   "cell_type": "markdown",
   "metadata": {},
   "source": [
    "Ulepszenie tego sposobu:\n",
    "\n",
    "• Liczba n musi być parzysta\n",
    "\n",
    "• Szukamy trójki pierwotnej, więc c jest nie parzyste (z tego wynika, że a i b nie mają tej samej parzystości)\n",
    "\n",
    "• Zmniejszamy a lub zwiększamy b dopóki nie trafimy na odpowiednie, bądź a będzie mniejsze od b\n",
    "\n",
    "• Jeżeli n jest podzielne przez a+b+c, to mamy szukaną trójkę (pierwotną mnożymy przez uzyskaną liczbę)\n",
    "\n",
    "• Dodatkowo program może szukać (jeśli `every=True`) wszystkich trójek spełniające warunki zadania"
   ]
  },
  {
   "cell_type": "code",
   "execution_count": 7,
   "metadata": {},
   "outputs": [],
   "source": [
    "# Włąsny ulepszony\n",
    "def fun3_help_v2(n,c,k):\n",
    "    b=1\n",
    "    a=c-1\n",
    "    m=c**2\n",
    "    \n",
    "    e=a**2+b**2\n",
    "    \n",
    "    k+=5\n",
    "    \n",
    "    while a>b:\n",
    "        k+=1\n",
    "        if e>m:\n",
    "            a-=1\n",
    "            k+=2\n",
    "        elif e<m:\n",
    "            b+=1\n",
    "            k+=3\n",
    "        else:\n",
    "            k+=2\n",
    "            if (n/(a+b+c)).is_integer():\n",
    "                k+=4\n",
    "                break\n",
    "            else:\n",
    "                a-=1\n",
    "                b+=1\n",
    "                k+=6\n",
    "        e=a**2+b**2\n",
    "        k+=3\n",
    "\n",
    "    d=n/(a+b+c)\n",
    "    k+=3\n",
    "    \n",
    "    if d.is_integer() and a**2+b**2==m:\n",
    "        k+=6\n",
    "        d=int(d)\n",
    "        k+=4\n",
    "        return (d*a,d*b,d*c,k)\n",
    "    return (0,0,0,k)\n",
    "        \n",
    "    \n",
    "    \n",
    "def fun3_v2(n,every=False):\n",
    "    k=0\n",
    "    if every:\n",
    "        k+=1\n",
    "        e=[]\n",
    "        k+=2\n",
    "        for i in range(5,n//2,2):\n",
    "            k+=1\n",
    "            d=fun3_help_v2(n,i,k)\n",
    "            k+=d[-1]\n",
    "            k+=1\n",
    "            if d[0]!=0:\n",
    "                k+=1\n",
    "                e.append((d[0],d[1],d[2]))\n",
    "        return (set(e),k)\n",
    "    else:\n",
    "        k+=3\n",
    "        for i in range(5,n//2,2):\n",
    "            k+=1\n",
    "            d=fun3_help_v2(n,i,k)\n",
    "            k+=d[-1]\n",
    "            k+=2\n",
    "            if d[0]!=0:\n",
    "                return (d[0],d[1],d[2],k)\n",
    "        return (0,0,0,k)\n",
    "        "
   ]
  },
  {
   "cell_type": "markdown",
   "metadata": {},
   "source": [
    "Ostatnie sposób wykorzystuje własność, że\n",
    "\n",
    "$ a = m^2 - n ^2 $\n",
    "\n",
    "$ b = 2 m n $\n",
    "\n",
    "$ c= m^2 + n^2 $\n",
    "\n",
    "Dla pewnych liczb całkowitych m,n które są względnie pierwsze. Niestety, ponieważ m i n są względnie pierwsze program znajduje zawsze trójki pierwotne, lecz pozostałe jedynie gdy spełniają dodatkowe założenia (szukana trójka jest wielokrotnością kwadratu liczby naturalnej)."
   ]
  },
  {
   "cell_type": "code",
   "execution_count": 8,
   "metadata": {},
   "outputs": [],
   "source": [
    "def fun4(n):\n",
    "    k=2\n",
    "    if n%2!=0:\n",
    "        return (0,0,0,k)\n",
    "    x=int(math.sqrt(n))\n",
    "    y=1\n",
    "    m=n//2\n",
    "    k+=3\n",
    "    while x>y:\n",
    "        k+=3\n",
    "        d=x*(x+y)\n",
    "        if m>d:\n",
    "            y+=1\n",
    "            k+=2\n",
    "        elif m<d:\n",
    "            x-=1\n",
    "            k+=3\n",
    "        else:\n",
    "            k+=2\n",
    "            return (x**2-y**2,2*x*y,x**2+y**2,k)\n",
    "        \n",
    "    return (0,0,0,k)"
   ]
  },
  {
   "cell_type": "markdown",
   "metadata": {},
   "source": [
    "Dla tej funkcji złożoność asymptotyczna to $o(\\sqrt n)$, (zaczynamy od $x=\\sqrt n$ oraz $ y = 1$ i zbliżamy te liczby do siebie o 1 w każdej iteracji)"
   ]
  },
  {
   "cell_type": "markdown",
   "metadata": {},
   "source": [
    "Ulepszona funkcja szuka wszystkich miejsc (funkcja fun4_v2_help od fun4 różni się tylko brakiem sprawdzania czy liczba jest parzysta)"
   ]
  },
  {
   "cell_type": "code",
   "execution_count": 9,
   "metadata": {},
   "outputs": [],
   "source": [
    "def fun4_v2_help(n):\n",
    "    x=int(math.sqrt(n))\n",
    "    y=1\n",
    "    m=n//2\n",
    "    k=3\n",
    "    while x>y:\n",
    "        k+=3\n",
    "        d=x*(x+y)\n",
    "        if m>d:\n",
    "            y+=1\n",
    "            k+=2\n",
    "        elif m<d:\n",
    "            x-=1\n",
    "            k+=3\n",
    "        else:\n",
    "            k+=2\n",
    "            return (x**2-y**2,2*x*y,x**2+y**2,k)\n",
    "        \n",
    "    return (0,0,0,k)\n",
    "\n",
    "def fun4_v2(n):\n",
    "    k=1\n",
    "    for i in range(6,n+1,2):\n",
    "        d=fun4_v2_help(i)\n",
    "        k+=d[-1]+1\n",
    "        if d[1]!=0:\n",
    "            k+=3\n",
    "            if (n/sum(d[:-1])).is_integer():\n",
    "                k+=3\n",
    "                e=int(n/sum(d[:-1]))\n",
    "                k+=3\n",
    "                return(d[0]*e,d[1]*e,d[2]*e,k)\n",
    "    return(0,0,0,k)\n",
    "    "
   ]
  },
  {
   "cell_type": "markdown",
   "metadata": {},
   "source": [
    "# Porównanie metod"
   ]
  },
  {
   "cell_type": "markdown",
   "metadata": {},
   "source": [
    "## Czas działania"
   ]
  },
  {
   "cell_type": "code",
   "execution_count": 10,
   "metadata": {},
   "outputs": [
    {
     "name": "stdout",
     "output_type": "stream",
     "text": [
      "865 µs ± 21.1 µs per loop (mean ± std. dev. of 7 runs, 1000 loops each)\n"
     ]
    }
   ],
   "source": [
    "%%timeit\n",
    "fun0(12)"
   ]
  },
  {
   "cell_type": "code",
   "execution_count": 11,
   "metadata": {},
   "outputs": [
    {
     "name": "stdout",
     "output_type": "stream",
     "text": [
      "930 ms ± 2.55 ms per loop (mean ± std. dev. of 7 runs, 1 loop each)\n"
     ]
    }
   ],
   "source": [
    "%%timeit\n",
    "fun(200)"
   ]
  },
  {
   "cell_type": "code",
   "execution_count": 12,
   "metadata": {},
   "outputs": [
    {
     "name": "stdout",
     "output_type": "stream",
     "text": [
      "126 ms ± 528 µs per loop (mean ± std. dev. of 7 runs, 10 loops each)\n"
     ]
    }
   ],
   "source": [
    "%%timeit\n",
    "fun2(1000)"
   ]
  },
  {
   "cell_type": "code",
   "execution_count": 13,
   "metadata": {},
   "outputs": [
    {
     "name": "stdout",
     "output_type": "stream",
     "text": [
      "1.05 ms ± 14 µs per loop (mean ± std. dev. of 7 runs, 1000 loops each)\n"
     ]
    }
   ],
   "source": [
    "%%timeit\n",
    "fun3(1000)"
   ]
  },
  {
   "cell_type": "code",
   "execution_count": 14,
   "metadata": {},
   "outputs": [
    {
     "name": "stdout",
     "output_type": "stream",
     "text": [
      "38.2 µs ± 615 ns per loop (mean ± std. dev. of 7 runs, 10000 loops each)\n"
     ]
    }
   ],
   "source": [
    "%%timeit\n",
    "fun3_v2(1000)"
   ]
  },
  {
   "cell_type": "code",
   "execution_count": 15,
   "metadata": {},
   "outputs": [
    {
     "name": "stdout",
     "output_type": "stream",
     "text": [
      "3.58 µs ± 99 ns per loop (mean ± std. dev. of 7 runs, 100000 loops each)\n"
     ]
    }
   ],
   "source": [
    "%%timeit\n",
    "fun4(1000)# Ale może nie znaleźć"
   ]
  },
  {
   "cell_type": "code",
   "execution_count": 16,
   "metadata": {},
   "outputs": [
    {
     "name": "stdout",
     "output_type": "stream",
     "text": [
      "20.5 µs ± 793 ns per loop (mean ± std. dev. of 7 runs, 100000 loops each)\n"
     ]
    }
   ],
   "source": [
    "%%timeit\n",
    "fun4_v2(1000)"
   ]
  },
  {
   "cell_type": "code",
   "execution_count": 17,
   "metadata": {},
   "outputs": [
    {
     "name": "stdout",
     "output_type": "stream",
     "text": [
      "34.4 ms ± 449 µs per loop (mean ± std. dev. of 7 runs, 10 loops each)\n"
     ]
    }
   ],
   "source": [
    "%%timeit\n",
    "fun3_v2(1000,True)#wszystkie"
   ]
  },
  {
   "cell_type": "code",
   "execution_count": 18,
   "metadata": {},
   "outputs": [
    {
     "name": "stdout",
     "output_type": "stream",
     "text": [
      "38.5 µs ± 479 ns per loop (mean ± std. dev. of 7 runs, 10000 loops each)\n"
     ]
    }
   ],
   "source": [
    "%%timeit\n",
    "fun3_v2(10**15)"
   ]
  },
  {
   "cell_type": "code",
   "execution_count": 19,
   "metadata": {},
   "outputs": [
    {
     "name": "stdout",
     "output_type": "stream",
     "text": [
      "21.1 µs ± 384 ns per loop (mean ± std. dev. of 7 runs, 10000 loops each)\n"
     ]
    }
   ],
   "source": [
    "%%timeit\n",
    "fun4_v2(10**15)"
   ]
  },
  {
   "cell_type": "markdown",
   "metadata": {},
   "source": [
    "## Liczba operacji"
   ]
  },
  {
   "cell_type": "code",
   "execution_count": 20,
   "metadata": {},
   "outputs": [
    {
     "data": {
      "text/plain": [
       "1936"
      ]
     },
     "execution_count": 20,
     "metadata": {},
     "output_type": "execute_result"
    }
   ],
   "source": [
    "fun0(12)[-1]"
   ]
  },
  {
   "cell_type": "code",
   "execution_count": 21,
   "metadata": {},
   "outputs": [
    {
     "data": {
      "text/plain": [
       "12599080"
      ]
     },
     "execution_count": 21,
     "metadata": {},
     "output_type": "execute_result"
    }
   ],
   "source": [
    "fun(200)[-1]"
   ]
  },
  {
   "cell_type": "code",
   "execution_count": 22,
   "metadata": {},
   "outputs": [
    {
     "data": {
      "text/plain": [
       "1395625"
      ]
     },
     "execution_count": 22,
     "metadata": {},
     "output_type": "execute_result"
    }
   ],
   "source": [
    "fun2(1000)[-1]"
   ]
  },
  {
   "cell_type": "code",
   "execution_count": 23,
   "metadata": {},
   "outputs": [
    {
     "data": {
      "text/plain": [
       "11035"
      ]
     },
     "execution_count": 23,
     "metadata": {},
     "output_type": "execute_result"
    }
   ],
   "source": [
    "fun3(1000)[-1]"
   ]
  },
  {
   "cell_type": "code",
   "execution_count": 24,
   "metadata": {},
   "outputs": [
    {
     "data": {
      "text/plain": [
       "6438"
      ]
     },
     "execution_count": 24,
     "metadata": {},
     "output_type": "execute_result"
    }
   ],
   "source": [
    "fun3_v2(1000)[-1]"
   ]
  },
  {
   "cell_type": "code",
   "execution_count": 25,
   "metadata": {},
   "outputs": [
    {
     "data": {
      "text/plain": [
       "96"
      ]
     },
     "execution_count": 25,
     "metadata": {},
     "output_type": "execute_result"
    }
   ],
   "source": [
    "fun4(1000)[-1]"
   ]
  },
  {
   "cell_type": "code",
   "execution_count": 26,
   "metadata": {},
   "outputs": [
    {
     "data": {
      "text/plain": [
       "401"
      ]
     },
     "execution_count": 26,
     "metadata": {},
     "output_type": "execute_result"
    }
   ],
   "source": [
    "fun4_v2(1000)[-1]"
   ]
  },
  {
   "cell_type": "code",
   "execution_count": 27,
   "metadata": {},
   "outputs": [
    {
     "data": {
      "text/plain": [
       "22794485086505201871190707186913255810584489583406075775610753875932019862275"
      ]
     },
     "execution_count": 27,
     "metadata": {},
     "output_type": "execute_result"
    }
   ],
   "source": [
    "fun3_v2(1000,True)[-1] # Szuka wszystkich"
   ]
  },
  {
   "cell_type": "code",
   "execution_count": 28,
   "metadata": {},
   "outputs": [
    {
     "data": {
      "text/plain": [
       "(700, 525, 875, 49)"
      ]
     },
     "execution_count": 28,
     "metadata": {},
     "output_type": "execute_result"
    }
   ],
   "source": [
    "fun3_v2(2100)"
   ]
  },
  {
   "cell_type": "code",
   "execution_count": 29,
   "metadata": {},
   "outputs": [
    {
     "data": {
      "text/plain": [
       "({(630, 600, 870),\n",
       "  (700, 525, 875),\n",
       "  (840, 350, 910),\n",
       "  (850, 336, 914),\n",
       "  (875, 300, 925),\n",
       "  (924, 225, 951),\n",
       "  (975, 140, 985)},\n",
       " 1448611060743910493625022412734728221690209417933451067951622308014960323037370651208519293630831375998404915182835605964184509243915842853588861590009524736815)"
      ]
     },
     "execution_count": 29,
     "metadata": {},
     "output_type": "execute_result"
    }
   ],
   "source": [
    "fun3_v2(2100, True)"
   ]
  },
  {
   "cell_type": "markdown",
   "metadata": {},
   "source": [
    "# Tabela"
   ]
  },
  {
   "cell_type": "markdown",
   "metadata": {},
   "source": [
    "<img src=\"https://cdn.discordapp.com/attachments/766259826367004712/904805485864177724/Tabela_Lista_2.png\" alt=\"Girl in a jacket\">"
   ]
  }
 ],
 "metadata": {
  "kernelspec": {
   "display_name": "Python 3",
   "language": "python",
   "name": "python3"
  },
  "language_info": {
   "codemirror_mode": {
    "name": "ipython",
    "version": 3
   },
   "file_extension": ".py",
   "mimetype": "text/x-python",
   "name": "python",
   "nbconvert_exporter": "python",
   "pygments_lexer": "ipython3",
   "version": "3.9.5"
  }
 },
 "nbformat": 4,
 "nbformat_minor": 4
}
