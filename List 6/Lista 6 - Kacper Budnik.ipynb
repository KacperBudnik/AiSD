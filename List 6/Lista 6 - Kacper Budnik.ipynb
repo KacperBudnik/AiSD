{
 "cells": [
  {
   "cell_type": "markdown",
   "metadata": {},
   "source": [
    "https://github.com/KacperBudnik/AiSD"
   ]
  },
  {
   "cell_type": "markdown",
   "metadata": {
    "heading_collapsed": true
   },
   "source": [
    "# Zad 1"
   ]
  },
  {
   "cell_type": "code",
   "execution_count": 201,
   "metadata": {
    "code_folding": [
     3,
     4,
     58,
     66,
     91,
     129,
     134,
     137,
     147,
     160,
     163,
     170,
     177,
     194
    ],
    "hidden": true
   },
   "outputs": [],
   "source": [
    "import types\n",
    "\n",
    "# Z wykładu\n",
    "class BinaryTree:\n",
    "    def __init__(self,*items):\n",
    "        if len(items)==0:\n",
    "            raise ValueError(\"Drzewko potrzebuje korzenia!\")\n",
    "            \n",
    "        if type(items[0]) in (list, tuple): # jeśli podany jest kontener to wykonuje dla każdego elementu z osobna\n",
    "            temp=BinaryTree(items[0][0])\n",
    "            self.key=temp.key\n",
    "            self.right=temp.right\n",
    "            self.left=temp.left\n",
    "            self.add(items[0][1:])\n",
    "            \n",
    "        elif type(items[0]) in (set, dict):\n",
    "            item=list(items[0])\n",
    "            temp=BinaryTree(item[0])\n",
    "            self.key=temp.key\n",
    "            self.right=temp.right\n",
    "            self.left=temp.left\n",
    "            self.add(item[1:])\n",
    "            \n",
    "        elif type(items[0])==types.GeneratorType: # zadawanie przy użyciu generatora\n",
    "            for item in items[0]:\n",
    "                temp=BinaryTree(item)\n",
    "                break\n",
    "            self.key=temp.key\n",
    "            self.left=temp.left\n",
    "            self.right=temp.right\n",
    "            self.add(items[0])\n",
    "            \n",
    "        elif type(items[0]) == range: # zadawanie przy użyciu range\n",
    "            if len(items[0])>0: # na wypadek przykładowo range(0), brak elementu zerowego\n",
    "                self.key=items[0][0]\n",
    "                self.right=None\n",
    "                self.left=None\n",
    "                for i in items[0][1:]:\n",
    "                    self.add(i)\n",
    "                    \n",
    "        elif type(items[0]) == BinaryTree: # Bo dlaczego nie\n",
    "            self.key=items[0].key\n",
    "            self.right=None\n",
    "            self.left=None\n",
    "            \n",
    "            if items[0].right!=None:\n",
    "                self.right=items[0].right.copy()\n",
    "            if items[0].left!=None:\n",
    "                self.left=items[0].left.copy()\n",
    "        \n",
    "        else:\n",
    "            self.key = items[0]\n",
    "            self.left = None\n",
    "            self.right = None\n",
    "        self.add(items[1:])\n",
    "        \n",
    "        \n",
    "        \n",
    "    def __insertLeft(self,newNode):\n",
    "        if self.left == None:\n",
    "            self.left = BinaryTree(newNode)\n",
    "        else:\n",
    "            temp = BinaryTree(newNode)\n",
    "            temp.left = self.left\n",
    "            self.left = temp\n",
    "            \n",
    "    def __insertRight(self,newNode):\n",
    "        if self.right == None:\n",
    "            self.right = BinaryTree(newNode)\n",
    "        else:\n",
    "            temp = BinaryTree(newNode)\n",
    "            temp.right = self.right\n",
    "            self.right = temp     \n",
    "            \n",
    "    def __getRightChild(self):\n",
    "        return self.right\n",
    "\n",
    "    def __getLeftChild(self):\n",
    "        return self.left\n",
    "\n",
    "    def __setRootVal(self,obj):\n",
    "        self.key = obj\n",
    "\n",
    "    def getRootVal(self):\n",
    "        return self.key    \n",
    "    \n",
    "############ Własne ##############\n",
    "    \n",
    "    def __repr__(self): # jakaś prezentacja wyników\n",
    "        return str(self.key)+\"->\"+str([self.left,self.right])\n",
    "                \n",
    "    def add(self, *items):\n",
    "        for item in items:\n",
    "            if type(item) in (list, tuple,set,dict): # jeśli podany jest kontener to wykonuje dla każdego elementu z osobna\n",
    "                self.add(*item) # dla słownika dodaję kluczę\n",
    "                \n",
    "            elif type(item) in (types.GeneratorType, range): # generatory lub range(x)\n",
    "                for i in item:\n",
    "                    self.add(i)\n",
    "            \n",
    "            elif type(item) == BinaryTree: # Bo dlaczego nie\n",
    "                i=item.key\n",
    "                temp=self\n",
    "                while True: # wstawia całe drzewko w miejsce, gdzie powinien się znaleźć klucz dodany do drzewa\n",
    "                    if temp.key<i:\n",
    "                        if temp.left==None:\n",
    "                            temp.left=item.copy()\n",
    "                            break\n",
    "                        else:\n",
    "                            temp=temp.left\n",
    "                    else:\n",
    "                        if temp.right==None:\n",
    "                            temp.right=item.copy()\n",
    "                            break\n",
    "                        else:\n",
    "                            temp=temp.right        \n",
    "            \n",
    "            else:\n",
    "                if item < self.key: # równe na prawo (jako większe)\n",
    "                    if self.left == None:\n",
    "                        self.left = BinaryTree(item)\n",
    "                    else:\n",
    "                        self.left.add(item)\n",
    "                else:\n",
    "                    if self.right == None:\n",
    "                        self.right = BinaryTree(item)\n",
    "                    else:\n",
    "                        self.right.add(item)\n",
    "    \n",
    "    def __add__(self, item):\n",
    "        temp=self.copy()\n",
    "        temp.add(item)\n",
    "        return temp\n",
    "    \n",
    "    def __sub__(self,item):\n",
    "        return self+(-item)\n",
    "    \n",
    "    def copy(self):\n",
    "        temp=BinaryTree(self.key)\n",
    "        if self.left!=None:\n",
    "            temp.left=self.left.copy()\n",
    "            \n",
    "        if self.right!=None:\n",
    "            temp.right=self.right.copy()\n",
    "\n",
    "        return temp\n",
    "    \n",
    "    def __contains__(self, item):\n",
    "        if self.key < item:\n",
    "            if self.right != None:\n",
    "                return item in self.right\n",
    "            else:\n",
    "                return False\n",
    "        elif self.key > item:\n",
    "            if self.left != None:\n",
    "                return item in self.left\n",
    "            else:\n",
    "                return False\n",
    "        return True\n",
    "    \n",
    "    def __len__(self):\n",
    "        return 1 + len(self.right if self.right != None else []) + len(self.left if self.left != None else [])\n",
    "    \n",
    "    def find_min(self): # zwraca najmniejszy\n",
    "        if self.left != None:\n",
    "            return self.left.find_min()\n",
    "        elif self.right != None:\n",
    "            return self.right.find_min()\n",
    "        return self.key\n",
    "    \n",
    "    def find_max(self): # zwraca największy\n",
    "        if self.right != None:\n",
    "            return self.right.find_max()\n",
    "        elif self.left != None:\n",
    "            return self.left.find_max()\n",
    "        return self.key\n",
    "    \n",
    "    def to_list(self): # zwraca _Posortowaną_ listę elementów\n",
    "        lst=[]\n",
    "        \n",
    "        if self.left!= None:\n",
    "            lst.extend(self.left.to_list())\n",
    "            \n",
    "        lst.append(self.key)\n",
    "        \n",
    "        if self.right!= None:\n",
    "            lst.extend(self.right.to_list())\n",
    "            \n",
    "        return lst\n",
    "    \n",
    "    def __iter__(self):\n",
    "        return BinaryTreeIterator(self)\n",
    "    \n",
    "    \n",
    "class BinaryTreeIterator: # Do iterowania zadanego drzewa\n",
    "    def __init__(self, tree:BinaryTree):\n",
    "        self.val=tree.to_list()\n",
    "        self.index=-1\n",
    "        self.max=len(self.val)\n",
    "        \n",
    "    def __next__(self):\n",
    "        self.index+=1\n",
    "        if self.index<self.max:\n",
    "            return self.val[self.index]\n",
    "        raise StopIteration"
   ]
  },
  {
   "cell_type": "code",
   "execution_count": 741,
   "metadata": {
    "hidden": true
   },
   "outputs": [],
   "source": [
    "a = BinaryTree([[23,-15]])"
   ]
  },
  {
   "cell_type": "code",
   "execution_count": 721,
   "metadata": {
    "hidden": true
   },
   "outputs": [
    {
     "data": {
      "text/plain": [
       "23->[-15->[None, None], None]"
      ]
     },
     "execution_count": 721,
     "metadata": {},
     "output_type": "execute_result"
    }
   ],
   "source": [
    "a"
   ]
  },
  {
   "cell_type": "code",
   "execution_count": 722,
   "metadata": {
    "hidden": true
   },
   "outputs": [],
   "source": [
    "a = BinaryTree([{0,-1,32,2},{100},23,23],1,2,-2,[23],{-50})"
   ]
  },
  {
   "cell_type": "code",
   "execution_count": 723,
   "metadata": {
    "hidden": true
   },
   "outputs": [
    {
     "data": {
      "text/plain": [
       "0->[-1->[-2->[-50->[None, None], None], None], 32->[2->[1->[None, None], 23->[2->[None, None], 23->[None, 23->[None, None]]]], 100->[None, None]]]"
      ]
     },
     "execution_count": 723,
     "metadata": {},
     "output_type": "execute_result"
    }
   ],
   "source": [
    "a"
   ]
  },
  {
   "cell_type": "code",
   "execution_count": 700,
   "metadata": {
    "hidden": true
   },
   "outputs": [],
   "source": [
    "a=BinaryTree([[([{0,0,0,0,0},23],3),5,6,7,8],-12,3,4,5],20,{2,3,4})"
   ]
  },
  {
   "cell_type": "code",
   "execution_count": 701,
   "metadata": {
    "hidden": true
   },
   "outputs": [
    {
     "data": {
      "text/plain": [
       "0->[-12->[None, None], 23->[3->[2->[None, None], 5->[3->[None, 4->[3->[None, None], 4->[None, None]]], 6->[5->[None, None], 7->[None, 8->[None, 20->[None, None]]]]]], None]]"
      ]
     },
     "execution_count": 701,
     "metadata": {},
     "output_type": "execute_result"
    }
   ],
   "source": [
    "a"
   ]
  },
  {
   "cell_type": "code",
   "execution_count": 647,
   "metadata": {
    "hidden": true
   },
   "outputs": [],
   "source": [
    "a=BinaryTree(1,2)"
   ]
  },
  {
   "cell_type": "code",
   "execution_count": 648,
   "metadata": {
    "hidden": true
   },
   "outputs": [
    {
     "data": {
      "text/plain": [
       "1->[None, 2->[None, None]]"
      ]
     },
     "execution_count": 648,
     "metadata": {},
     "output_type": "execute_result"
    }
   ],
   "source": [
    "a"
   ]
  },
  {
   "cell_type": "code",
   "execution_count": 649,
   "metadata": {
    "hidden": true
   },
   "outputs": [],
   "source": [
    "a.add(-12)"
   ]
  },
  {
   "cell_type": "code",
   "execution_count": 650,
   "metadata": {
    "hidden": true
   },
   "outputs": [
    {
     "data": {
      "text/plain": [
       "1->[-12->[None, None], 2->[None, None]]"
      ]
     },
     "execution_count": 650,
     "metadata": {},
     "output_type": "execute_result"
    }
   ],
   "source": [
    "a"
   ]
  },
  {
   "cell_type": "code",
   "execution_count": 651,
   "metadata": {
    "hidden": true
   },
   "outputs": [],
   "source": [
    "a=BinaryTree(1,2)"
   ]
  },
  {
   "cell_type": "code",
   "execution_count": 652,
   "metadata": {
    "hidden": true
   },
   "outputs": [
    {
     "name": "stdout",
     "output_type": "stream",
     "text": [
      "1->[0->[None, None], 2->[None, None]]\n"
     ]
    }
   ],
   "source": [
    "print(a+0)"
   ]
  },
  {
   "cell_type": "code",
   "execution_count": 653,
   "metadata": {
    "hidden": true
   },
   "outputs": [
    {
     "data": {
      "text/plain": [
       "1->[None, 2->[None, None]]"
      ]
     },
     "execution_count": 653,
     "metadata": {},
     "output_type": "execute_result"
    }
   ],
   "source": [
    "a"
   ]
  },
  {
   "cell_type": "code",
   "execution_count": 654,
   "metadata": {
    "hidden": true
   },
   "outputs": [],
   "source": [
    "b=a+0"
   ]
  },
  {
   "cell_type": "code",
   "execution_count": 655,
   "metadata": {
    "hidden": true
   },
   "outputs": [
    {
     "data": {
      "text/plain": [
       "1->[0->[None, None], 2->[None, None]]"
      ]
     },
     "execution_count": 655,
     "metadata": {},
     "output_type": "execute_result"
    }
   ],
   "source": [
    "b"
   ]
  },
  {
   "cell_type": "code",
   "execution_count": 656,
   "metadata": {
    "hidden": true
   },
   "outputs": [
    {
     "data": {
      "text/plain": [
       "1->[None, 2->[None, None]]"
      ]
     },
     "execution_count": 656,
     "metadata": {},
     "output_type": "execute_result"
    }
   ],
   "source": [
    "a"
   ]
  },
  {
   "cell_type": "code",
   "execution_count": 657,
   "metadata": {
    "hidden": true
   },
   "outputs": [],
   "source": [
    "b-=3"
   ]
  },
  {
   "cell_type": "code",
   "execution_count": 658,
   "metadata": {
    "hidden": true
   },
   "outputs": [
    {
     "data": {
      "text/plain": [
       "1->[0->[-3->[None, None], None], 2->[None, None]]"
      ]
     },
     "execution_count": 658,
     "metadata": {},
     "output_type": "execute_result"
    }
   ],
   "source": [
    "b"
   ]
  },
  {
   "cell_type": "code",
   "execution_count": 659,
   "metadata": {
    "hidden": true
   },
   "outputs": [
    {
     "data": {
      "text/plain": [
       "1->[None, 2->[None, None]]"
      ]
     },
     "execution_count": 659,
     "metadata": {},
     "output_type": "execute_result"
    }
   ],
   "source": [
    "a"
   ]
  },
  {
   "cell_type": "code",
   "execution_count": 660,
   "metadata": {
    "hidden": true
   },
   "outputs": [
    {
     "data": {
      "text/plain": [
       "True"
      ]
     },
     "execution_count": 660,
     "metadata": {},
     "output_type": "execute_result"
    }
   ],
   "source": [
    "1 in a"
   ]
  },
  {
   "cell_type": "code",
   "execution_count": 661,
   "metadata": {
    "hidden": true
   },
   "outputs": [
    {
     "data": {
      "text/plain": [
       "False"
      ]
     },
     "execution_count": 661,
     "metadata": {},
     "output_type": "execute_result"
    }
   ],
   "source": [
    "12 in a"
   ]
  },
  {
   "cell_type": "code",
   "execution_count": 662,
   "metadata": {
    "hidden": true
   },
   "outputs": [
    {
     "data": {
      "text/plain": [
       "2"
      ]
     },
     "execution_count": 662,
     "metadata": {},
     "output_type": "execute_result"
    }
   ],
   "source": [
    "len(a)"
   ]
  },
  {
   "cell_type": "code",
   "execution_count": 663,
   "metadata": {
    "hidden": true
   },
   "outputs": [
    {
     "data": {
      "text/plain": [
       "4"
      ]
     },
     "execution_count": 663,
     "metadata": {},
     "output_type": "execute_result"
    }
   ],
   "source": [
    "len(b)"
   ]
  },
  {
   "cell_type": "code",
   "execution_count": 664,
   "metadata": {
    "hidden": true
   },
   "outputs": [
    {
     "data": {
      "text/plain": [
       "1->[0->[-3->[None, None], None], 2->[None, None]]"
      ]
     },
     "execution_count": 664,
     "metadata": {},
     "output_type": "execute_result"
    }
   ],
   "source": [
    "b"
   ]
  },
  {
   "cell_type": "code",
   "execution_count": 665,
   "metadata": {
    "hidden": true
   },
   "outputs": [
    {
     "data": {
      "text/plain": [
       "6"
      ]
     },
     "execution_count": 665,
     "metadata": {},
     "output_type": "execute_result"
    }
   ],
   "source": [
    "len(b+2+3)"
   ]
  },
  {
   "cell_type": "code",
   "execution_count": 666,
   "metadata": {
    "hidden": true
   },
   "outputs": [
    {
     "data": {
      "text/plain": [
       "-3"
      ]
     },
     "execution_count": 666,
     "metadata": {},
     "output_type": "execute_result"
    }
   ],
   "source": [
    "b.find_min()"
   ]
  },
  {
   "cell_type": "code",
   "execution_count": 667,
   "metadata": {
    "hidden": true
   },
   "outputs": [
    {
     "data": {
      "text/plain": [
       "2"
      ]
     },
     "execution_count": 667,
     "metadata": {},
     "output_type": "execute_result"
    }
   ],
   "source": [
    "b.find_max()"
   ]
  },
  {
   "cell_type": "code",
   "execution_count": 668,
   "metadata": {
    "hidden": true
   },
   "outputs": [
    {
     "data": {
      "text/plain": [
       "12"
      ]
     },
     "execution_count": 668,
     "metadata": {},
     "output_type": "execute_result"
    }
   ],
   "source": [
    "(b+12).find_max()"
   ]
  },
  {
   "cell_type": "code",
   "execution_count": 669,
   "metadata": {
    "hidden": true
   },
   "outputs": [
    {
     "data": {
      "text/plain": [
       "-12"
      ]
     },
     "execution_count": 669,
     "metadata": {},
     "output_type": "execute_result"
    }
   ],
   "source": [
    "(b-12).find_min()"
   ]
  },
  {
   "cell_type": "code",
   "execution_count": 763,
   "metadata": {
    "hidden": true
   },
   "outputs": [],
   "source": [
    "b=BinaryTree(1,2,23,23,2,31,3,12,3,123,3)"
   ]
  },
  {
   "cell_type": "code",
   "execution_count": 764,
   "metadata": {
    "hidden": true
   },
   "outputs": [],
   "source": [
    "b+=[1,2,3,-5,23,-54,-1.2,32,4,4,7,7,6,5,4,3,-123,3-4,-34,2-2,4-5,5,-5,-3-23,-5]"
   ]
  },
  {
   "cell_type": "code",
   "execution_count": 765,
   "metadata": {
    "hidden": true
   },
   "outputs": [
    {
     "data": {
      "text/plain": [
       "1->[-5->[-54->[-123->[None, None], -34->[None, -26->[None, None]]], -1.2->[-5->[None, -5->[None, None]], -1->[None, 0->[-1->[None, None], None]]]], 2->[1->[None, None], 23->[2->[None, 3->[2->[None, None], 12->[3->[None, 3->[None, 3->[None, 4->[3->[None, None], 4->[None, 7->[6->[5->[4->[None, None], 5->[None, None]], None], 7->[None, None]]]]]]], None]]], 23->[None, 31->[23->[None, None], 123->[32->[None, None], None]]]]]]"
      ]
     },
     "execution_count": 765,
     "metadata": {},
     "output_type": "execute_result"
    }
   ],
   "source": [
    "b"
   ]
  },
  {
   "cell_type": "code",
   "execution_count": 766,
   "metadata": {
    "hidden": true
   },
   "outputs": [
    {
     "data": {
      "text/plain": [
       "[-123,\n",
       " -54,\n",
       " -34,\n",
       " -26,\n",
       " -5,\n",
       " -5,\n",
       " -5,\n",
       " -1.2,\n",
       " -1,\n",
       " -1,\n",
       " 0,\n",
       " 1,\n",
       " 1,\n",
       " 2,\n",
       " 2,\n",
       " 2,\n",
       " 3,\n",
       " 3,\n",
       " 3,\n",
       " 3,\n",
       " 3,\n",
       " 4,\n",
       " 4,\n",
       " 4,\n",
       " 5,\n",
       " 5,\n",
       " 6,\n",
       " 7,\n",
       " 7,\n",
       " 12,\n",
       " 23,\n",
       " 23,\n",
       " 23,\n",
       " 31,\n",
       " 32,\n",
       " 123]"
      ]
     },
     "execution_count": 766,
     "metadata": {},
     "output_type": "execute_result"
    }
   ],
   "source": [
    "b.to_list()"
   ]
  },
  {
   "cell_type": "code",
   "execution_count": 767,
   "metadata": {
    "hidden": true
   },
   "outputs": [
    {
     "data": {
      "text/plain": [
       "36"
      ]
     },
     "execution_count": 767,
     "metadata": {},
     "output_type": "execute_result"
    }
   ],
   "source": [
    "len(b)"
   ]
  },
  {
   "cell_type": "code",
   "execution_count": 768,
   "metadata": {
    "hidden": true
   },
   "outputs": [
    {
     "data": {
      "text/plain": [
       "36"
      ]
     },
     "execution_count": 768,
     "metadata": {},
     "output_type": "execute_result"
    }
   ],
   "source": [
    "len(b.to_list())"
   ]
  },
  {
   "cell_type": "code",
   "execution_count": 769,
   "metadata": {
    "hidden": true
   },
   "outputs": [
    {
     "data": {
      "text/plain": [
       "True"
      ]
     },
     "execution_count": 769,
     "metadata": {},
     "output_type": "execute_result"
    }
   ],
   "source": [
    "all(b.to_list()[i] in b for i in range(len(b)))"
   ]
  },
  {
   "cell_type": "code",
   "execution_count": 770,
   "metadata": {
    "hidden": true
   },
   "outputs": [
    {
     "name": "stdout",
     "output_type": "stream",
     "text": [
      "-123\n",
      "-54\n",
      "-34\n",
      "-26\n",
      "-5\n",
      "-5\n",
      "-5\n",
      "-1.2\n",
      "-1\n",
      "-1\n",
      "0\n",
      "1\n",
      "1\n",
      "2\n",
      "2\n",
      "2\n",
      "3\n",
      "3\n",
      "3\n",
      "3\n",
      "3\n",
      "4\n",
      "4\n",
      "4\n",
      "5\n",
      "5\n",
      "6\n",
      "7\n",
      "7\n",
      "12\n",
      "23\n",
      "23\n",
      "23\n",
      "31\n",
      "32\n",
      "123\n"
     ]
    }
   ],
   "source": [
    "for i in b:\n",
    "    print(i)"
   ]
  },
  {
   "cell_type": "code",
   "execution_count": 771,
   "metadata": {
    "hidden": true
   },
   "outputs": [
    {
     "data": {
      "text/plain": [
       "True"
      ]
     },
     "execution_count": 771,
     "metadata": {},
     "output_type": "execute_result"
    }
   ],
   "source": [
    "all(i in b.to_list() for i in b)"
   ]
  },
  {
   "cell_type": "code",
   "execution_count": 86,
   "metadata": {
    "hidden": true
   },
   "outputs": [],
   "source": [
    "from random import randint\n",
    "a = BinaryTree(randint(-50,50) for i in range(50))"
   ]
  },
  {
   "cell_type": "code",
   "execution_count": 87,
   "metadata": {
    "hidden": true
   },
   "outputs": [
    {
     "data": {
      "text/plain": [
       "20->[-50->[None, -2->[-31->[-40->[-46->[None, -44->[-45->[None, None], -42->[-43->[None, None], None]]], -36->[None, -32->[-34->[-36->[None, -35->[None, None]], None], -32->[None, -32->[None, None]]]]], -26->[-30->[-31->[None, None], None], -23->[None, -5->[-6->[-13->[-20->[None, None], -12->[None, -7->[None, None]]], -6->[None, None]], None]]]], 9->[5->[-1->[None, None], None], 11->[10->[None, None], 18->[12->[None, None], None]]]]], 49->[36->[20->[None, 30->[22->[None, 23->[22->[None, 22->[None, None]], 27->[None, None]]], 35->[31->[None, None], None]]], 46->[45->[None, None], 47->[None, 48->[None, None]]]], None]]"
      ]
     },
     "execution_count": 87,
     "metadata": {},
     "output_type": "execute_result"
    }
   ],
   "source": [
    "a"
   ]
  },
  {
   "cell_type": "code",
   "execution_count": 226,
   "metadata": {
    "hidden": true
   },
   "outputs": [],
   "source": [
    "a = BinaryTree([12,3],( -i**2 for i in range(3)), [range(15)])"
   ]
  },
  {
   "cell_type": "code",
   "execution_count": 227,
   "metadata": {
    "hidden": true
   },
   "outputs": [
    {
     "data": {
      "text/plain": [
       "12->[3->[0->[-1->[-4->[None, None], None], 0->[None, 1->[None, 2->[None, None]]]], 3->[None, 4->[None, 5->[None, 6->[None, 7->[None, 8->[None, 9->[None, 10->[None, 11->[None, None]]]]]]]]]], 12->[None, 13->[None, 14->[None, None]]]]"
      ]
     },
     "execution_count": 227,
     "metadata": {},
     "output_type": "execute_result"
    }
   ],
   "source": [
    "a"
   ]
  },
  {
   "cell_type": "code",
   "execution_count": 228,
   "metadata": {
    "hidden": true
   },
   "outputs": [],
   "source": [
    "a = BinaryTree(range(124))"
   ]
  },
  {
   "cell_type": "code",
   "execution_count": 229,
   "metadata": {
    "hidden": true
   },
   "outputs": [
    {
     "data": {
      "text/plain": [
       "0->[None, 1->[None, 2->[None, 3->[None, 4->[None, 5->[None, 6->[None, 7->[None, 8->[None, 9->[None, 10->[None, 11->[None, 12->[None, 13->[None, 14->[None, 15->[None, 16->[None, 17->[None, 18->[None, 19->[None, 20->[None, 21->[None, 22->[None, 23->[None, 24->[None, 25->[None, 26->[None, 27->[None, 28->[None, 29->[None, 30->[None, 31->[None, 32->[None, 33->[None, 34->[None, 35->[None, 36->[None, 37->[None, 38->[None, 39->[None, 40->[None, 41->[None, 42->[None, 43->[None, 44->[None, 45->[None, 46->[None, 47->[None, 48->[None, 49->[None, 50->[None, 51->[None, 52->[None, 53->[None, 54->[None, 55->[None, 56->[None, 57->[None, 58->[None, 59->[None, 60->[None, 61->[None, 62->[None, 63->[None, 64->[None, 65->[None, 66->[None, 67->[None, 68->[None, 69->[None, 70->[None, 71->[None, 72->[None, 73->[None, 74->[None, 75->[None, 76->[None, 77->[None, 78->[None, 79->[None, 80->[None, 81->[None, 82->[None, 83->[None, 84->[None, 85->[None, 86->[None, 87->[None, 88->[None, 89->[None, 90->[None, 91->[None, 92->[None, 93->[None, 94->[None, 95->[None, 96->[None, 97->[None, 98->[None, 99->[None, 100->[None, 101->[None, 102->[None, 103->[None, 104->[None, 105->[None, 106->[None, 107->[None, 108->[None, 109->[None, 110->[None, 111->[None, 112->[None, 113->[None, 114->[None, 115->[None, 116->[None, 117->[None, 118->[None, 119->[None, 120->[None, 121->[None, 122->[None, 123->[None, None]]]]]]]]]]]]]]]]]]]]]]]]]]]]]]]]]]]]]]]]]]]]]]]]]]]]]]]]]]]]]]]]]]]]]]]]]]]]]]]]]]]]]]]]]]]]]]]]]]]]]]]]]]]]]]]]]]]]]]]]]]]]"
      ]
     },
     "execution_count": 229,
     "metadata": {},
     "output_type": "execute_result"
    }
   ],
   "source": [
    "a"
   ]
  },
  {
   "cell_type": "code",
   "execution_count": 231,
   "metadata": {
    "hidden": true
   },
   "outputs": [],
   "source": [
    "a=BinaryTree(1,2,-3)"
   ]
  },
  {
   "cell_type": "code",
   "execution_count": 232,
   "metadata": {
    "hidden": true
   },
   "outputs": [
    {
     "data": {
      "text/plain": [
       "1->[-3->[None, None], 2->[None, None]]"
      ]
     },
     "execution_count": 232,
     "metadata": {},
     "output_type": "execute_result"
    }
   ],
   "source": [
    "a"
   ]
  },
  {
   "cell_type": "code",
   "execution_count": 233,
   "metadata": {
    "hidden": true
   },
   "outputs": [],
   "source": [
    "b=BinaryTree(a)"
   ]
  },
  {
   "cell_type": "code",
   "execution_count": 234,
   "metadata": {
    "hidden": true
   },
   "outputs": [
    {
     "data": {
      "text/plain": [
       "1->[-3->[None, None], 2->[None, None]]"
      ]
     },
     "execution_count": 234,
     "metadata": {},
     "output_type": "execute_result"
    }
   ],
   "source": [
    "b"
   ]
  },
  {
   "cell_type": "code",
   "execution_count": 237,
   "metadata": {
    "hidden": true
   },
   "outputs": [],
   "source": [
    "b=BinaryTree(a for i in [1,1,1]) # 3 razy a"
   ]
  },
  {
   "cell_type": "code",
   "execution_count": 238,
   "metadata": {
    "hidden": true
   },
   "outputs": [
    {
     "data": {
      "text/plain": [
       "1->[-3->[None, None], 2->[None, 1->[-3->[None, None], 2->[None, 1->[-3->[None, None], 2->[None, None]]]]]]"
      ]
     },
     "execution_count": 238,
     "metadata": {},
     "output_type": "execute_result"
    }
   ],
   "source": [
    "b"
   ]
  },
  {
   "cell_type": "markdown",
   "metadata": {
    "heading_collapsed": true
   },
   "source": [
    "# Zadanie 2"
   ]
  },
  {
   "cell_type": "code",
   "execution_count": 22,
   "metadata": {
    "hidden": true
   },
   "outputs": [],
   "source": [
    "import types\n",
    "import numpy as np\n",
    "# Z wykładu zmienione\n",
    "\n",
    "class BinHeap:\n",
    "    def __init__(self,*items): # skrócenie nazw + możliwość podania elementów kopca przy dodawaniu\n",
    "        self.list = [0]\n",
    "        self.size = 0\n",
    "        self.add(*items)\n",
    "        \n",
    "    def percUp(self,i):\n",
    "        while i // 2 > 0:\n",
    "            if self.list[i] < self.list[i // 2]:\n",
    "                tmp = self.list[i // 2]\n",
    "                self.list[i // 2] = self.list[i]\n",
    "                self.list[i] = tmp\n",
    "            i = i // 2      \n",
    "        \n",
    "    def insert(self,k):\n",
    "        self.list.append(k)\n",
    "        self.size = self.size + 1\n",
    "        self.percUp(self.size)        \n",
    "        \n",
    "    def findMin(self):\n",
    "        if self.size==0:\n",
    "            raise IndexError(\"Kopiec jest pusty\")\n",
    "        return self.list[1]\n",
    "\n",
    "    def percDown(self,i):\n",
    "        while (i * 2) <= self.size:\n",
    "            mc = self.minChild(i)\n",
    "            if self.list[i] > self.list[mc]:\n",
    "                tmp = self.list[i]\n",
    "                self.list[i] = self.list[mc]\n",
    "                self.list[mc] = tmp\n",
    "            i = mc\n",
    "\n",
    "    def minChild(self,i):\n",
    "        if i * 2 + 1 > self.size:\n",
    "            return i * 2\n",
    "        else:\n",
    "            if self.list[i*2] < self.list[i*2+1]:\n",
    "                return i * 2\n",
    "            else:\n",
    "                return i * 2 + 1    \n",
    "            \n",
    "    def delMin(self):\n",
    "        if self.size==0:\n",
    "            raise IndexError(\"Kopiec jest pusty\")\n",
    "        retval = self.list[1]\n",
    "        self.list[1] = self.list[self.size]\n",
    "        self.size = self.size - 1\n",
    "        self.list.pop()\n",
    "        self.percDown(1)\n",
    "        return retval           \n",
    "    \n",
    "    def buildHeap(self,alist): # już nie potrzebne (jest to _clear i dodanie po prostu listy)\n",
    "        i = len(alist) // 2\n",
    "        self.size = len(alist)\n",
    "        self.list = [0] + alist[:]\n",
    "        while (i > 0):\n",
    "            self.percDown(i)\n",
    "            i = i - 1    \n",
    "            \n",
    "    def size(self):\n",
    "        return self.size\n",
    "    \n",
    "    def isEmpty(self):\n",
    "        return self.size == 0\n",
    "    \n",
    "    def __str__(self):\n",
    "        txt = \"{}\".format(self.list[1:])\n",
    "        return txt\n",
    "    \n",
    "##################################################################\n",
    "#                             Własne                             #\n",
    "##################################################################\n",
    "\n",
    "    def __repr__(self):\n",
    "        return str(self.list[1:])\n",
    "    \n",
    "    def __len__(self):\n",
    "        return self.size\n",
    "    \n",
    "    def add(self,*items): # by było można podawać wiele argumentów, wraz z kontenerami\n",
    "        for item in items:\n",
    "            if type(item) in (tuple, list):\n",
    "                self.add(*item)\n",
    "            elif type(item) in (dict, set):\n",
    "                self.add(*list(item))\n",
    "            elif type(item) == types.GeneratorType:\n",
    "                for i in item:\n",
    "                    self.add(i)\n",
    "            elif isinstance(item, np.ndarray):\n",
    "                item=list(item)\n",
    "                self.add(item)\n",
    "            else:\n",
    "                self.insert(item)\n",
    "\n",
    "    def _clear(self): # czyszczenie kopca (prywatna, by nie użyć przez przypadek)\n",
    "        self.list=[0]\n",
    "        self.size=0\n",
    "        \n",
    "    \"\"\" #Nie działa dla list wielkości >> 2**12\n",
    "    def sort(self):\n",
    "        if self.size>0:\n",
    "            sortedList=[self.findMin()]\n",
    "            self.delMin()\n",
    "            self.sort()\n",
    "            self.list=[0]+sortedList+self.list[1:]\n",
    "        else:\n",
    "            #print(\"Hakunamatata\")\n",
    "            pass\"\"\"\n",
    "    \n",
    "    def sort(self):\n",
    "        sortedList=[]\n",
    "        s=self.size\n",
    "        while self.size>0:\n",
    "            sortedList.append(self.delMin())\n",
    "        self.list=[0]+sortedList\n",
    "        self.size=s"
   ]
  },
  {
   "cell_type": "code",
   "execution_count": 23,
   "metadata": {
    "hidden": true
   },
   "outputs": [],
   "source": [
    "from random import randint\n",
    "a=BinHeap(randint(-50,50) for i in range(31))"
   ]
  },
  {
   "cell_type": "code",
   "execution_count": 24,
   "metadata": {
    "hidden": true
   },
   "outputs": [
    {
     "data": {
      "text/plain": [
       "[-50, -39, -44, -37, -39, -43, -37, -19, -30, -8, -37, -6, -41, 19, -22, 44, 0, 38, -15, 45, 9, 14, -3, 43, 17, 13, -40, 40, 27, 34, 20]"
      ]
     },
     "execution_count": 24,
     "metadata": {},
     "output_type": "execute_result"
    }
   ],
   "source": [
    "a"
   ]
  },
  {
   "cell_type": "code",
   "execution_count": 29,
   "metadata": {
    "hidden": true
   },
   "outputs": [],
   "source": [
    "a.sort()"
   ]
  },
  {
   "cell_type": "code",
   "execution_count": 30,
   "metadata": {
    "hidden": true
   },
   "outputs": [
    {
     "data": {
      "text/plain": [
       "[-50, -44, -43, -41, -40, -39, -39, -37, -37, -37, -30, -22, -19, -15, -8, -6, -3, 0, 9, 13, 14, 17, 19, 20, 27, 34, 38, 40, 43, 44, 45]"
      ]
     },
     "execution_count": 30,
     "metadata": {},
     "output_type": "execute_result"
    }
   ],
   "source": [
    "a"
   ]
  },
  {
   "cell_type": "code",
   "execution_count": 31,
   "metadata": {
    "hidden": true
   },
   "outputs": [
    {
     "name": "stdout",
     "output_type": "stream",
     "text": [
      "3000\n"
     ]
    }
   ],
   "source": [
    "import sys\n",
    "recursionlimit=sys.getrecursionlimit()\n",
    "print(recursionlimit)"
   ]
  },
  {
   "cell_type": "code",
   "execution_count": 4,
   "metadata": {
    "hidden": true
   },
   "outputs": [],
   "source": [
    "sys.setrecursionlimit(3000)"
   ]
  },
  {
   "cell_type": "code",
   "execution_count": 36,
   "metadata": {
    "hidden": true
   },
   "outputs": [],
   "source": [
    "import time\n",
    "import numpy as np\n",
    "\n",
    "n=20\n",
    "times=np.zeros(n+1)\n",
    "numbers=np.random.randint(-2**n,2**n,2**n)\n",
    "\n",
    "for i in range(n+1):\n",
    "    a=BinHeap(numbers[:2**i])\n",
    "    T=time.time()\n",
    "    a.sort()\n",
    "    times[i]=time.time()-T\n"
   ]
  },
  {
   "cell_type": "code",
   "execution_count": 37,
   "metadata": {
    "hidden": true
   },
   "outputs": [
    {
     "data": {
      "text/plain": [
       "array([0.00000000e+00, 0.00000000e+00, 0.00000000e+00, 0.00000000e+00,\n",
       "       0.00000000e+00, 9.99689102e-04, 0.00000000e+00, 1.00159645e-03,\n",
       "       2.00057030e-03, 2.99811363e-03, 6.50477409e-03, 1.50029659e-02,\n",
       "       3.20076942e-02, 7.20188618e-02, 1.61966085e-01, 3.50565195e-01,\n",
       "       7.49270439e-01, 1.66262412e+00, 3.62837553e+00, 7.87286735e+00,\n",
       "       1.70448165e+01])"
      ]
     },
     "execution_count": 37,
     "metadata": {},
     "output_type": "execute_result"
    }
   ],
   "source": [
    "times"
   ]
  },
  {
   "cell_type": "code",
   "execution_count": 38,
   "metadata": {
    "hidden": true
   },
   "outputs": [],
   "source": [
    "import matplotlib.pyplot as plt"
   ]
  },
  {
   "cell_type": "code",
   "execution_count": 47,
   "metadata": {
    "hidden": true
   },
   "outputs": [
    {
     "data": {
      "image/png": "[encoded data removed]",
      "text/plain": [
       "<Figure size 432x288 with 2 Axes>"
      ]
     },
     "metadata": {
      "needs_background": "light"
     },
     "output_type": "display_data"
    }
   ],
   "source": [
    "fig, ax1 = plt.subplots()\n",
    "\n",
    "color = 'tab:red'\n",
    "ax1.set_xlabel('$2^n$')\n",
    "ax1.set_ylabel('real time', color=color)\n",
    "ax1.plot(range(n+1), times, color=color)\n",
    "ax1.tick_params(axis='y', labelcolor=color)\n",
    "\n",
    "ax2 = ax1.twinx()  # instantiate a second axes that shares the same x-axis\n",
    "\n",
    "color = 'tab:blue'\n",
    "ax2.set_ylabel('$n\\ln(n)$', color=color)  # we already handled the x-label with ax1\n",
    "ax2.plot(range(n+1), [2**i*np.log(2**i) for i in range(n+1)], color=color)\n",
    "ax2.tick_params(axis='y', labelcolor=color)\n",
    "\n",
    "fig.tight_layout()  # otherwise the right y-label is slightly clipped\n",
    "plt.show()"
   ]
  },
  {
   "cell_type": "code",
   "execution_count": 48,
   "metadata": {
    "hidden": true
   },
   "outputs": [
    {
     "data": {
      "image/png": "[encoded data removed]",
      "text/plain": [
       "<Figure size 432x288 with 2 Axes>"
      ]
     },
     "metadata": {
      "needs_background": "light"
     },
     "output_type": "display_data"
    }
   ],
   "source": [
    "fig, ax1 = plt.subplots()\n",
    "\n",
    "color = 'tab:red'\n",
    "ax1.set_xlabel('$2^n$')\n",
    "ax1.set_ylabel('real time', color=color)\n",
    "ax1.plot(range(n+1), times, color=color)\n",
    "ax1.tick_params(axis='y', labelcolor=color)\n",
    "#ax1.yscale('log')\n",
    "ax1.set_yscale('log')\n",
    "\n",
    "ax2 = ax1.twinx()  # instantiate a second axes that shares the same x-axis\n",
    "\n",
    "color = 'tab:blue'\n",
    "ax2.set_ylabel('$n\\ln(n)$', color=color)  # we already handled the x-label with ax1\n",
    "ax2.plot(range(n+1), [2**i*np.log(2**i) for i in range(n+1)], color=color)\n",
    "ax2.tick_params(axis='y', labelcolor=color)\n",
    "ax2.set_yscale('log')\n",
    "\n",
    "fig.tight_layout()  # otherwise the right y-label is slightly clipped\n",
    "plt.show()"
   ]
  },
  {
   "cell_type": "markdown",
   "metadata": {
    "heading_collapsed": true
   },
   "source": [
    "# Zadanie 4"
   ]
  },
  {
   "cell_type": "markdown",
   "metadata": {
    "hidden": true
   },
   "source": [
    "Usuń `_ _` i daj jedno `_` chyba w każdym zadaniu"
   ]
  },
  {
   "cell_type": "code",
   "execution_count": 17,
   "metadata": {
    "code_folding": [
     2
    ],
    "hidden": true
   },
   "outputs": [],
   "source": [
    "import numpy as np\n",
    "\n",
    "class MathTree:\n",
    "    def __init__(self,L_number,operator,R_number):\n",
    "        self.key=operator\n",
    "        self.right=None\n",
    "        self.left=None\n",
    "        \n",
    "        if R_number:\n",
    "            if R_number[1]==True:\n",
    "                self.right=R_number\n",
    "            elif R_number[1]==False:\n",
    "                self.right=MathTree(self.cos(R_number[0])) \n",
    "        if L_number:\n",
    "            if L_number[1]==True:\n",
    "                self.left=L_number\n",
    "            elif R_number[1]==False:\n",
    "                self.left=MathTree(self.cos(L_number[0])) \n",
    "        \n",
    "    def cos(txt):\n",
    "        \n",
    "        order=np.array([\n",
    "            [\"+\",\"-\"],\n",
    "            [\"*\",\"/\"], # nie ma różnicy między `/`, oraz `\\` są dzieleniem prawostronnym\n",
    "            [\"^\"]])\n",
    "        \n",
    "        function=np.array([\n",
    "            [\"sqrt\",\"log_\",\"log\",\"ln\",\"pow\",\"exp\",\"log2\"],\n",
    "            [\"sin\",\"cos\",\"tan\",\"cot\",\"sec\",\"cosec\"]\n",
    "            [\"arcsin\",\"arccos\",\"asin\",\"acos\",\"arctan\",\"atan\",\"acot\",\"arccot\"],\n",
    "            [\"sinh\",\"cosh\",\"tanh\",\"coth\",\"sech\",\"cosech\"]#,\n",
    "            #[\"'\"]\n",
    "        ])\n",
    "        \n",
    "        i=0\n",
    "        l=len(txt)\n",
    "        \n",
    "        first=\"\"\n",
    "        secound=\"\"\n",
    "        operator_level=-5\n",
    "        operator_place=-2\n",
    "        \n",
    "        while i < l:\n",
    "            if txt[i]==\"(\":\n",
    "                j=1\n",
    "                parenthesis=0\n",
    "                while True: # założyłem, że nawiasy są poprawnie wstawione\n",
    "                    if txt[i+j]==\")\":\n",
    "                        if parenthesis==0:\n",
    "                            if first:\n",
    "                                pass\n",
    "                            else:\n",
    "                                first=txt[i+1:i+j]\n",
    "                                \n",
    "            elif txt[i] in order[0]: # Dodawanie/odejmowanie\n",
    "            \n",
    "                return [txt[0:i], False], txt[i], [txt[i+1:], False]\n",
    "\n",
    "            elif txt[i] in order[1]: #Mnożeni/dzielenie\n",
    "                if operator_level<0:\n",
    "                    operator_level=1\n",
    "                    operator_place=i\n",
    "                else:\n",
    "                    if operator_level>1:\n",
    "                        return [txt[0:i], False], txt[i], [txt[i+1:], False]\n",
    "                    else:\n",
    "                        return [txt[0:operator_place], False], txt[operator_place], [txt[operator_place+1:], False]\n",
    "            \n",
    "            elif txt[i] == order[2]:\n",
    "                if operator_level<0:\n",
    "                    operator_level=2\n",
    "                    operator_place=i\n",
    "                else:\n",
    "                    if operator_level>1:\n",
    "                        return [txt[0:i], False], txt[i], [txt[i+1:], False]\n",
    "                    else:\n",
    "                        return [txt[0:operator_place], False], txt[operator_place], [txt[operator_place+1:], False]\n",
    "                    \n",
    "        \n",
    "        \n",
    "        while i<l:\n",
    "            if txt[i].isnumeric():\n",
    "                j=1\n",
    "                while i+j<l and txt[i:i+j+1].isnumeric():\n",
    "                    j+=1\n",
    "                \n",
    "                numbers.append(float(txt[i:i+j]))\n",
    "            elif txt[i] in order[0]:\n",
    "                operators.append(txt[i])\n",
    "                action=True\n",
    "                \n",
    "            elif txt[i] in order[1]:\n",
    "                operators.append(txt[i])\n",
    "                action=True\n",
    "            \n",
    "            elif txt[i] in order[2] or txt[i:i+2] in order[2]:\n",
    "                operators.append(\"^\")\n",
    "                action=True\n",
    "            \n",
    "\n"
   ]
  },
  {
   "cell_type": "code",
   "execution_count": 61,
   "metadata": {
    "code_folding": [],
    "hidden": true
   },
   "outputs": [],
   "source": [
    "def derivate(txt):\n",
    "    txt=txt.replace(\" \", \"\")\n",
    "    txt=txt.replace(\"**\", \"^\")\n",
    "    txt=txt.replace(\"\\\\\", \"/\")\n",
    "    txt=txt.replace(\":\", \"/\")\n",
    "    txt=txt.replace(\"arc\", \"a\")\n",
    "    \n",
    "    tree=MathTree([txt,False],\"=\",[None,None])"
   ]
  },
  {
   "cell_type": "code",
   "execution_count": null,
   "metadata": {
    "hidden": true
   },
   "outputs": [],
   "source": [
    "any(a in i for i in function)"
   ]
  },
  {
   "cell_type": "code",
   "execution_count": 67,
   "metadata": {
    "code_folding": [
     2,
     28,
     33,
     43
    ],
    "hidden": true
   },
   "outputs": [
    {
     "ename": "IndentationError",
     "evalue": "expected an indented block (<ipython-input-67-12a4390f0aa6>, line 76)",
     "output_type": "error",
     "traceback": [
      "\u001b[1;36m  File \u001b[1;32m\"<ipython-input-67-12a4390f0aa6>\"\u001b[1;36m, line \u001b[1;32m76\u001b[0m\n\u001b[1;33m    else:\u001b[0m\n\u001b[1;37m    ^\u001b[0m\n\u001b[1;31mIndentationError\u001b[0m\u001b[1;31m:\u001b[0m expected an indented block\n"
     ]
    }
   ],
   "source": [
    "import numpy as np\n",
    "\n",
    "class MathTree:\n",
    "    def __init__(self,L_number,operator,R_number):\n",
    "        self.key=operator\n",
    "        self.right=None\n",
    "        self.left=None\n",
    "        \n",
    "        if type(L_number) is MathTree:\n",
    "            self.left=L_umber\n",
    "        if type(R_number) is MathTree:\n",
    "            self.right=R_umber\n",
    "            \n",
    "        \n",
    "        if R_number != None:\n",
    "            if R_number.isnumeric():\n",
    "                self.right=R_number\n",
    "            else:\n",
    "                self.right=self.cos(R_number)\n",
    "                \n",
    "        if L_number != None:\n",
    "            if L_number.isnumeric():\n",
    "                self.left=L_number\n",
    "            else:\n",
    "                self.left=self.cos(L_number) \n",
    "        \n",
    "    def cos(txt):\n",
    "        \n",
    "        order=np.array([\n",
    "            [\"+\",\"-\"],\n",
    "            [\"*\",\"/\"],\n",
    "            [\"^\"]])\n",
    "        \n",
    "        function=np.array([\n",
    "            [\"sqrt\",\"log_\",\"log\",\"ln\",\"pow\",\"exp\",\"log2\"],\n",
    "            [\"sin\",\"cos\",\"tan\",\"cot\",\"sec\",\"cosec\"]\n",
    "            [\"asin\",\"acos\",\"atan\",\"acot\"],\n",
    "            [\"sinh\",\"cosh\",\"tanh\",\"coth\",\"sech\",\"cosech\"]#,\n",
    "            #[\"'\"]\n",
    "        ])\n",
    "        \n",
    "        \n",
    "        \n",
    "        function=np.array([\n",
    "            []\n",
    "            [\"ln\"],\n",
    "            [\"log\",\"pow\",\"exp\",\"sin\",\"cos\",\"tan\",\"cot\",\"sec\"],\n",
    "            [\"sqrt\",\"log2\",\"asin\",\"acos\",\"atan\",\"acot\",\"sinh\",\"cosh\",\"tanh\",\"coth\",\"sech\"],\n",
    "            [\"log10\"],\n",
    "            [\"cosech\"]\n",
    "        ])\n",
    "        \n",
    "        tree=[]\n",
    "        first=[]\n",
    "        \n",
    "        i=0\n",
    "        l=len(txt)\n",
    "        \n",
    "        while i<l:\n",
    "            if txt[i:i+6] in function[6]:\n",
    "                j=i+6\n",
    "                if txt[j]==\"(\":\n",
    "                    parenthesis=0\n",
    "                    while True:\n",
    "                        if txt[j]==\"(\":\n",
    "                            parenthesis+=1\n",
    "                        elif txt[j]==\")\":\n",
    "                            parenthesis-=1\n",
    "                        if parenthesis==0:\n",
    "                            break\n",
    "                        j+=1\n",
    "                    first=(MathTree(txt[i+6+1:j], txt[i:i+6], None))\n",
    "                else:\n",
    "                    raise InputError(\"Podano niedobre wyrażenie\")\n",
    "                i=j+2\n",
    "                if txt[i] in order[0]:\n",
    "                    return MathTree(first,txt[i],txt[i+1:])\n",
    "                elif txt[i] in order[1]:\n",
    "                    return order1(first,txt[i],txt[i+1:])\n",
    "                elif txt[i] == \"^\":\n",
    "                    return order2(first,txt[i],txt[i+1:])\n",
    "                \n",
    "            elif txt[i:i+5] in function[5]:\n",
    "                pass\n",
    "            elif txt[i:i+4] in function[4]:\n",
    "                pass\n",
    "            elif txt[i:i+3] in function[3]:\n",
    "                pass\n",
    "            elif txt[i:i+2] in function[2]:\n",
    "                pass\n",
    "        \n",
    "        first=\"\"\n",
    "        secound=\"\"\n",
    "        operator_level=-5\n",
    "        operator_place=-2\n",
    "        \n",
    "        while i < l:\n",
    "            if txt[i]==\"(\":\n",
    "                j=1\n",
    "                parenthesis=0\n",
    "                while True: # założyłem, że nawiasy są poprawnie wstawione\n",
    "                    if txt[i+j]==\")\":\n",
    "                        if parenthesis==0:\n",
    "                            if first:\n",
    "                                pass\n",
    "                            else:\n",
    "                                first=txt[i+1:i+j]\n",
    "                                \n",
    "            elif txt[i] in order[0]: # Dodawanie/odejmowanie\n",
    "\n",
    "\n"
   ]
  },
  {
   "cell_type": "code",
   "execution_count": 70,
   "metadata": {
    "code_folding": [
     0
    ],
    "hidden": true
   },
   "outputs": [
    {
     "name": "stderr",
     "output_type": "stream",
     "text": [
      "<>:10: SyntaxWarning: list indices must be integers or slices, not tuple; perhaps you missed a comma?\n",
      "<>:19: SyntaxWarning: list indices must be integers or slices, not str; perhaps you missed a comma?\n",
      "<>:10: SyntaxWarning: list indices must be integers or slices, not tuple; perhaps you missed a comma?\n",
      "<>:19: SyntaxWarning: list indices must be integers or slices, not str; perhaps you missed a comma?\n",
      "<ipython-input-70-8f434689b720>:10: SyntaxWarning: list indices must be integers or slices, not tuple; perhaps you missed a comma?\n",
      "  [\"sin\",\"cos\",\"tan\",\"cot\",\"sec\",\"cosec\"]\n",
      "<ipython-input-70-8f434689b720>:19: SyntaxWarning: list indices must be integers or slices, not str; perhaps you missed a comma?\n",
      "  []\n"
     ]
    }
   ],
   "source": [
    "    def order1(Tree,op,txt):\n",
    "        \n",
    "        order=np.array([\n",
    "            [\"+\",\"-\"],\n",
    "            [\"*\",\"/\"],\n",
    "            [\"^\"]])\n",
    "        \n",
    "        \n",
    "        function=np.array([\n",
    "            []\n",
    "            [\"ln\"],\n",
    "            [\"log\",\"pow\",\"exp\",\"sin\",\"cos\",\"tan\",\"cot\",\"sec\"],\n",
    "            [\"sqrt\",\"log2\",\"asin\",\"acos\",\"atan\",\"acot\",\"sinh\",\"cosh\",\"tanh\",\"coth\",\"sech\"],\n",
    "            [\"log10\"],\n",
    "            [\"cosech\"]\n",
    "        ])\n",
    "        \n",
    "        \n",
    "        i=0\n",
    "        l=len(txt)\n",
    "        \n",
    "        while i<l:\n",
    "            if txt[i] in order[0]:\n",
    "                return MathTree(txt[:i],txt[i],txt[i+1:])\n",
    "            elif txt[i] in order[1]:\n",
    "                return MathTree(txt[:i],txt[i],order1()\n",
    "\n"
   ]
  },
  {
   "cell_type": "code",
   "execution_count": null,
   "metadata": {
    "hidden": true
   },
   "outputs": [],
   "source": []
  },
  {
   "cell_type": "code",
   "execution_count": null,
   "metadata": {
    "hidden": true
   },
   "outputs": [],
   "source": []
  },
  {
   "cell_type": "code",
   "execution_count": 75,
   "metadata": {
    "hidden": true
   },
   "outputs": [
    {
     "data": {
      "text/plain": [
       "False"
      ]
     },
     "execution_count": 75,
     "metadata": {},
     "output_type": "execute_result"
    }
   ],
   "source": [
    "(1,) in (1,2)"
   ]
  },
  {
   "cell_type": "code",
   "execution_count": null,
   "metadata": {
    "hidden": true
   },
   "outputs": [],
   "source": []
  },
  {
   "cell_type": "code",
   "execution_count": null,
   "metadata": {
    "hidden": true
   },
   "outputs": [],
   "source": []
  },
  {
   "cell_type": "code",
   "execution_count": null,
   "metadata": {
    "hidden": true
   },
   "outputs": [],
   "source": []
  },
  {
   "cell_type": "code",
   "execution_count": 79,
   "metadata": {
    "code_folding": [
     0
    ],
    "hidden": true
   },
   "outputs": [],
   "source": [
    "def derivate(txt):\n",
    "    txt=txt.replace(\" \", \"\")\n",
    "    txt=txt.replace(\"**\", \"^\")\n",
    "    txt=txt.replace(\"\\\\\", \"/\")\n",
    "    txt=txt.replace(\":\", \"/\")\n",
    "    txt=txt.replace(\"arc\", \"a\")\n",
    "    \n",
    "    txt=prepare([txt],\"(\")\n",
    "    \n",
    "    \n",
    "    tree=MathTree([txt,False],\"=\",[None,None])"
   ]
  },
  {
   "cell_type": "code",
   "execution_count": 200,
   "metadata": {
    "hidden": true
   },
   "outputs": [],
   "source": [
    "#def Tree:\n",
    "    \n",
    "#    def __init__(self,txt):\n",
    " \n",
    "def prepare(txts):\n",
    "    function=np.array([\n",
    "        [],\n",
    "        [],\n",
    "        [\"ln\"],\n",
    "        [\"log\",\"pow\",\"exp\",\"sin\",\"cos\",\"tan\",\"cot\",\"sec\"],\n",
    "        [\"sqrt\",\"log2\",\"asin\",\"acos\",\"atan\",\"acot\",\"sinh\",\"cosh\",\"tanh\",\"coth\",\"sech\"],\n",
    "        [\"log10\"],\n",
    "        [\"cosech\"]\n",
    "    ])\n",
    "\n",
    "    operators=[\"+\",\"-\",\"*\",\"/\",\"^\"]\n",
    "\n",
    "    unknown=False\n",
    "    res=[]\n",
    "    for txt in txts:\n",
    "        l=len(txt)\n",
    "        i=0\n",
    "        while i<l:\n",
    "            if txt[i]==\"(\":\n",
    "                par=0\n",
    "                j=i\n",
    "                while True:\n",
    "                    if txt[j]==\"(\":\n",
    "                        par+=1\n",
    "                        \n",
    "                    if txt[j]==\")\":\n",
    "                        par-=1\n",
    "                        #print(-1)\n",
    "                        \n",
    "                    if par==0:\n",
    "                        break\n",
    "                    j+=1\n",
    "                res.append(prepare(txt[i+1:j]))\n",
    "                i=j\n",
    "                \n",
    "                \n",
    "            elif txt[i:i+6] in function[6]:\n",
    "                #res.append(txt[i:i+6])\n",
    "                j=i+6\n",
    "                if txt[j]==\"(\":\n",
    "                    par=0\n",
    "                    while True:\n",
    "                        if txt[j]==\"(\":\n",
    "                            par+=1\n",
    "\n",
    "                        if txt[j]==\")\":\n",
    "                            par-=1\n",
    "\n",
    "                        if par==0:\n",
    "                            break\n",
    "                        j+=1\n",
    "                    res.append([txt[i:i+6],prepare(txt[i+1:j])])\n",
    "                    i=j\n",
    "                else:\n",
    "                    res.append([txt[i:i+6],txt[i+6]])\n",
    "                i+=6\n",
    "                \n",
    "                \n",
    "            elif txt[i:i+5] in function[5]:\n",
    "                #res.append(txt[i:i+5])\n",
    "                j=i+5\n",
    "                if txt[j]==\"(\":\n",
    "                    par=0\n",
    "                    while True:\n",
    "                        if txt[j]==\"(\":\n",
    "                            par+=1\n",
    "\n",
    "                        if txt[j]==\")\":\n",
    "                            par-=1\n",
    "\n",
    "                        if par==0:\n",
    "                            break\n",
    "                        j+=1\n",
    "                    res.append([txt[i:i+5],prepare(txt[i+1:j])])\n",
    "                    i=j\n",
    "                else:\n",
    "                    res.append([txt[i:i+5],txt[i+5]])\n",
    "                i+=5\n",
    "                \n",
    "                \n",
    "            elif txt[i:i+4] in function[4]:\n",
    "                #res.append(txt[i:i+4])\n",
    "                j=i+4\n",
    "                if txt[j]==\"(\":\n",
    "                    par=0\n",
    "                    while True:\n",
    "                        if txt[j]==\"(\":\n",
    "                            par+=1\n",
    "\n",
    "                        if txt[j]==\")\":\n",
    "                            par-=1\n",
    "\n",
    "                        j+=1\n",
    "                        if par==0:\n",
    "                            break\n",
    "                    print(txt[i+4:j])\n",
    "                    res.append([txt[i:i+4],prepare([txt[i+4:j]])])\n",
    "                    i=j\n",
    "                else:\n",
    "                    res.append([txt[i:i+4],txt[i+4]])\n",
    "                i+=4\n",
    "                \n",
    "                \n",
    "            elif txt[i:i+3] in function[3]:\n",
    "                #res.append(txt[i:i+3])\n",
    "                j=i+3\n",
    "                if txt[j]==\"(\":\n",
    "                    par=0\n",
    "                    while True:\n",
    "                        if txt[j]==\"(\":\n",
    "                            par+=1\n",
    "\n",
    "                        if txt[j]==\")\":\n",
    "                            par-=1\n",
    "\n",
    "                        if par==0:\n",
    "                            break\n",
    "                        j+=1\n",
    "                    res.append([txt[i:i+3],prepare([txt[i+1:j]])])\n",
    "                    i=j\n",
    "                else:\n",
    "                    res.append([txt[i:i+3],txt[i+3]])\n",
    "                i+=3\n",
    "                \n",
    "                \n",
    "            elif txt[i:i+2] in function[2]:\n",
    "                #res.append(txt[i:i+2])\n",
    "                j=i+2\n",
    "                if txt[j]==\"(\":\n",
    "                    par=0\n",
    "                    while True:\n",
    "                        if txt[j]==\"(\":\n",
    "                            par+=1\n",
    "\n",
    "                        if txt[j]==\")\":\n",
    "                            par-=1\n",
    "\n",
    "                        if par==0:\n",
    "                            break\n",
    "                        j+=1\n",
    "                    res.append([txt[i:i+2],prepare(txt[i+1:j])])\n",
    "                    i=j\n",
    "                else:\n",
    "                    res.append([txt[i:i+2],txt[i+2]])\n",
    "                i+=2\n",
    "                \n",
    "                \n",
    "            elif txt[i] in operators:\n",
    "                res.append(txt[i])\n",
    "            else:\n",
    "                unnown=False\n",
    "                if txt[i].isnumeric():\n",
    "                    j=1\n",
    "                    while txt[i:i+j+1].isnumeric() and j<l:\n",
    "                        j+=1\n",
    "                    if unknown:\n",
    "                        pass\n",
    "                        #res.append(\"*\")\n",
    "                    else:\n",
    "                        unknown=True\n",
    "                    res.append(txt[i:j])\n",
    "                    i+=j-1\n",
    "                else:\n",
    "                    res.append(txt[i])\n",
    "\n",
    "\n",
    "\n",
    "            i+=1    \n",
    "    return res"
   ]
  },
  {
   "cell_type": "code",
   "execution_count": 203,
   "metadata": {
    "hidden": true
   },
   "outputs": [],
   "source": [
    "txt=\"(tanh(5-3))\""
   ]
  },
  {
   "cell_type": "code",
   "execution_count": 204,
   "metadata": {
    "hidden": true
   },
   "outputs": [
    {
     "name": "stderr",
     "output_type": "stream",
     "text": [
      "<ipython-input-200-ab72b5933650>:6: VisibleDeprecationWarning: Creating an ndarray from ragged nested sequences (which is a list-or-tuple of lists-or-tuples-or ndarrays with different lengths or shapes) is deprecated. If you meant to do this, you must specify 'dtype=object' when creating the ndarray.\n",
      "  function=np.array([\n"
     ]
    },
    {
     "ename": "IndexError",
     "evalue": "string index out of range",
     "output_type": "error",
     "traceback": [
      "\u001b[1;31m---------------------------------------------------------------------------\u001b[0m",
      "\u001b[1;31mIndexError\u001b[0m                                Traceback (most recent call last)",
      "\u001b[1;32m<ipython-input-204-9f2a307bf4b4>\u001b[0m in \u001b[0;36m<module>\u001b[1;34m\u001b[0m\n\u001b[1;32m----> 1\u001b[1;33m \u001b[0mprepare\u001b[0m\u001b[1;33m(\u001b[0m\u001b[1;33m[\u001b[0m\u001b[0mtxt\u001b[0m\u001b[1;33m]\u001b[0m\u001b[1;33m)\u001b[0m\u001b[1;33m\u001b[0m\u001b[1;33m\u001b[0m\u001b[0m\n\u001b[0m",
      "\u001b[1;32m<ipython-input-200-ab72b5933650>\u001b[0m in \u001b[0;36mprepare\u001b[1;34m(txts)\u001b[0m\n\u001b[0;32m     36\u001b[0m                         \u001b[1;32mbreak\u001b[0m\u001b[1;33m\u001b[0m\u001b[1;33m\u001b[0m\u001b[0m\n\u001b[0;32m     37\u001b[0m                     \u001b[0mj\u001b[0m\u001b[1;33m+=\u001b[0m\u001b[1;36m1\u001b[0m\u001b[1;33m\u001b[0m\u001b[1;33m\u001b[0m\u001b[0m\n\u001b[1;32m---> 38\u001b[1;33m                 \u001b[0mres\u001b[0m\u001b[1;33m.\u001b[0m\u001b[0mappend\u001b[0m\u001b[1;33m(\u001b[0m\u001b[0mprepare\u001b[0m\u001b[1;33m(\u001b[0m\u001b[0mtxt\u001b[0m\u001b[1;33m[\u001b[0m\u001b[0mi\u001b[0m\u001b[1;33m+\u001b[0m\u001b[1;36m1\u001b[0m\u001b[1;33m:\u001b[0m\u001b[0mj\u001b[0m\u001b[1;33m]\u001b[0m\u001b[1;33m)\u001b[0m\u001b[1;33m)\u001b[0m\u001b[1;33m\u001b[0m\u001b[1;33m\u001b[0m\u001b[0m\n\u001b[0m\u001b[0;32m     39\u001b[0m                 \u001b[0mi\u001b[0m\u001b[1;33m=\u001b[0m\u001b[0mj\u001b[0m\u001b[1;33m\u001b[0m\u001b[1;33m\u001b[0m\u001b[0m\n\u001b[0;32m     40\u001b[0m \u001b[1;33m\u001b[0m\u001b[0m\n",
      "\u001b[1;32m<ipython-input-200-ab72b5933650>\u001b[0m in \u001b[0;36mprepare\u001b[1;34m(txts)\u001b[0m\n\u001b[0;32m     26\u001b[0m                 \u001b[0mj\u001b[0m\u001b[1;33m=\u001b[0m\u001b[0mi\u001b[0m\u001b[1;33m\u001b[0m\u001b[1;33m\u001b[0m\u001b[0m\n\u001b[0;32m     27\u001b[0m                 \u001b[1;32mwhile\u001b[0m \u001b[1;32mTrue\u001b[0m\u001b[1;33m:\u001b[0m\u001b[1;33m\u001b[0m\u001b[1;33m\u001b[0m\u001b[0m\n\u001b[1;32m---> 28\u001b[1;33m                     \u001b[1;32mif\u001b[0m \u001b[0mtxt\u001b[0m\u001b[1;33m[\u001b[0m\u001b[0mj\u001b[0m\u001b[1;33m]\u001b[0m\u001b[1;33m==\u001b[0m\u001b[1;34m\"(\"\u001b[0m\u001b[1;33m:\u001b[0m\u001b[1;33m\u001b[0m\u001b[1;33m\u001b[0m\u001b[0m\n\u001b[0m\u001b[0;32m     29\u001b[0m                         \u001b[0mpar\u001b[0m\u001b[1;33m+=\u001b[0m\u001b[1;36m1\u001b[0m\u001b[1;33m\u001b[0m\u001b[1;33m\u001b[0m\u001b[0m\n\u001b[0;32m     30\u001b[0m \u001b[1;33m\u001b[0m\u001b[0m\n",
      "\u001b[1;31mIndexError\u001b[0m: string index out of range"
     ]
    }
   ],
   "source": [
    "prepare([txt])"
   ]
  },
  {
   "cell_type": "code",
   "execution_count": 88,
   "metadata": {
    "hidden": true
   },
   "outputs": [],
   "source": [
    "a+=b-1"
   ]
  },
  {
   "cell_type": "code",
   "execution_count": 89,
   "metadata": {
    "hidden": true
   },
   "outputs": [
    {
     "data": {
      "text/plain": [
       "2"
      ]
     },
     "execution_count": 89,
     "metadata": {},
     "output_type": "execute_result"
    }
   ],
   "source": [
    "a"
   ]
  },
  {
   "cell_type": "markdown",
   "metadata": {},
   "source": [
    "# Zad 4 dobre"
   ]
  },
  {
   "cell_type": "code",
   "execution_count": 232,
   "metadata": {
    "code_folding": []
   },
   "outputs": [],
   "source": [
    "class MathTree:\n",
    "    \n",
    "    def __init__(self, equation):\n",
    "        #print(len(equation))\n",
    "        self.key=None\n",
    "        self.left=None\n",
    "        self.right=None\n",
    "        if len(equation)==1:\n",
    "            self.key=equation[0]\n",
    "            \n",
    "        if len(equation)==2:\n",
    "            self.key=equation[0]\n",
    "            while type(equation[1]) is list and len(equation[1]) == 1:\n",
    "                equation[1]=equation[1][0]\n",
    "            self.left=MathTree(equation[1])\n",
    "            \n",
    "        if len(equation)==3:\n",
    "            self.key=equation[1]\n",
    "            self.left=MathTree(equation[0])\n",
    "            self.right=MathTree(equation[2])"
   ]
  },
  {
   "cell_type": "code",
   "execution_count": 227,
   "metadata": {
    "code_folding": [
     0,
     11,
     12,
     29,
     47,
     69,
     92,
     114,
     137
    ]
   },
   "outputs": [],
   "source": [
    "def derivate(txt):\n",
    "    txt=txt.replace(\" \", \"\")\n",
    "    txt=txt.replace(\"**\", \"^\")\n",
    "    txt=txt.replace(\"\\\\\", \"/\")\n",
    "    txt=txt.replace(\":\", \"/\")\n",
    "    txt=txt.replace(\"arc\", \"a\")\n",
    "    \n",
    "    tree=MathTree(*prepare(txt))\n",
    "    return tree\n",
    "\n",
    "\n",
    "def prepare(txt):\n",
    "    function=np.array([\n",
    "        [],\n",
    "        [],\n",
    "        [\"ln\"],\n",
    "        [\"log\",\"pow\",\"exp\",\"sin\",\"cos\",\"tan\",\"cot\",\"sec\"],\n",
    "        [\"sqrt\",\"log2\",\"asin\",\"acos\",\"atan\",\"acot\",\"sinh\",\"cosh\",\"tanh\",\"coth\",\"sech\"],\n",
    "        [\"log10\"],\n",
    "        [\"cosech\"]\n",
    "    ])\n",
    "\n",
    "    operators=[\"+\",\"-\",\"*\",\"/\",\"^\"]#,\"'\"]\n",
    "\n",
    "    unknown=False\n",
    "    res=[]\n",
    "    l=len(txt)\n",
    "    i=0\n",
    "    while i<l:\n",
    "        if txt[i]==\"(\":\n",
    "            par=0\n",
    "            j=i\n",
    "            while True:\n",
    "                if txt[j]==\"(\":\n",
    "                    par+=1\n",
    "\n",
    "                if txt[j]==\")\":\n",
    "                    par-=1\n",
    "\n",
    "                if par==0:\n",
    "                    break\n",
    "                j+=1\n",
    "            res.append(prepare(txt[i+1:j]))\n",
    "            i=j\n",
    "            unnown=True\n",
    "\n",
    "\n",
    "        elif txt[i:i+6] in function[6]:\n",
    "            j=i+6\n",
    "            if txt[j]==\"(\":\n",
    "                par=0\n",
    "                while True:\n",
    "                    if txt[j]==\"(\":\n",
    "                        par+=1\n",
    "\n",
    "                    if txt[j]==\")\":\n",
    "                        par-=1\n",
    "\n",
    "                    if par==0:\n",
    "                        break\n",
    "                    j+=1\n",
    "                res.append([txt[i:i+6],prepare(txt[i+6+1:j])])\n",
    "                i=j\n",
    "            else:\n",
    "                res.append([txt[i:i+6],txt[i+6]])\n",
    "            i+=6\n",
    "            unnown=True\n",
    "\n",
    "\n",
    "        elif txt[i:i+5] in function[5]:\n",
    "            #res.append(txt[i:i+5])\n",
    "            j=i+5\n",
    "            if txt[j]==\"(\":\n",
    "                par=0\n",
    "                while True:\n",
    "                    if txt[j]==\"(\":\n",
    "                        par+=1\n",
    "\n",
    "                    if txt[j]==\")\":\n",
    "                        par-=1\n",
    "\n",
    "                    if par==0:\n",
    "                        break\n",
    "                    j+=1\n",
    "                res.append([txt[i:i+5],prepare(txt[i+5+1:j])])\n",
    "                i=j\n",
    "            else:\n",
    "                res.append([txt[i:i+5],txt[i+5]])\n",
    "            i+=5\n",
    "            unnown=True\n",
    "\n",
    "\n",
    "        elif txt[i:i+4] in function[4]:\n",
    "            j=i+4\n",
    "            if txt[j]==\"(\":\n",
    "                par=0\n",
    "                while True:\n",
    "                    if txt[j]==\"(\":\n",
    "                        par+=1\n",
    "\n",
    "                    if txt[j]==\")\":\n",
    "                        par-=1\n",
    "\n",
    "                    if par==0:\n",
    "                        break\n",
    "                    j+=1\n",
    "                res.append([txt[i:i+4],prepare(txt[i+4+1:j])])\n",
    "                i=j\n",
    "            else:\n",
    "                res.append([txt[i:i+4],txt[i+4]])\n",
    "            i+=4\n",
    "            unnown=True\n",
    "\n",
    "#########\n",
    "        elif txt[i:i+3] in function[3]:\n",
    "            #res.append(txt[i:i+3])\n",
    "            j=i+3\n",
    "            if txt[j]==\"(\":\n",
    "                par=0\n",
    "                while True:\n",
    "                    if txt[j]==\"(\":\n",
    "                        par+=1\n",
    "\n",
    "                    if txt[j]==\")\":\n",
    "                        par-=1\n",
    "\n",
    "                    if par==0:\n",
    "                        break\n",
    "                    j+=1\n",
    "                res.append([txt[i:i+3],prepare(txt[i+3+1:j])])\n",
    "                i=j\n",
    "            else:\n",
    "                res.append([txt[i:i+3],txt[i+3]])\n",
    "            i+=3\n",
    "            unnown=True\n",
    "\n",
    "##########\n",
    "        elif txt[i:i+2] in function[2]:\n",
    "            #res.append(txt[i:i+2])\n",
    "            j=i+2\n",
    "            if txt[j]==\"(\":\n",
    "                par=0\n",
    "                while True:\n",
    "                    if txt[j]==\"(\":\n",
    "                        par+=1\n",
    "\n",
    "                    if txt[j]==\")\":\n",
    "                        par-=1\n",
    "\n",
    "                    if par==0:\n",
    "                        break\n",
    "                    j+=1\n",
    "                res.append([txt[i:i+2],prepare(txt[i+2+1:j])])\n",
    "                i=j\n",
    "            else:\n",
    "                res.append([txt[i:i+2],txt[i+2]])\n",
    "            i+=2\n",
    "            unnown=True\n",
    "\n",
    "\n",
    "        elif txt[i] in operators:\n",
    "            res.append(txt[i])\n",
    "            unknown=False\n",
    "            \n",
    "        else:\n",
    "            if txt[i].isnumeric():\n",
    "                j=1\n",
    "                while txt[i:i+j+1].isnumeric() and j<l:\n",
    "                    j+=1\n",
    "                if unknown:\n",
    "                    pass\n",
    "                    #res.append('*')\n",
    "                res.append(txt[i:i+j])\n",
    "                i+=j-1\n",
    "            else:\n",
    "                if unknown:\n",
    "                    pass\n",
    "                    res.append(\"*\")\n",
    "                res.append(txt[i])\n",
    "            unknown=True\n",
    "\n",
    "\n",
    "\n",
    "        i+=1    \n",
    "    res=correct(res)\n",
    "        \n",
    "    return res"
   ]
  },
  {
   "cell_type": "code",
   "execution_count": 148,
   "metadata": {
    "code_folding": [
     0
    ]
   },
   "outputs": [],
   "source": [
    "def correct(equation,lvl=4):\n",
    "    operators=[\"+\",\"-\",\"*\",\"/\",\"^\"]\n",
    "    if operators[lvl] in (\"^\",):\n",
    "        reverse=True\n",
    "    else:\n",
    "        reverse=False\n",
    "    \n",
    "    for i in range(len(equation))[::(-1)**reverse]:\n",
    "        if equation[i] == operators[lvl]:\n",
    "            return correct(equation[:i-1]+[equation[i-1:i+2]]+equation[i+2:],lvl=lvl)\n",
    "        \n",
    "    if lvl>0:\n",
    "        return correct(equation,lvl=lvl-1)\n",
    "    return equation"
   ]
  },
  {
   "cell_type": "code",
   "execution_count": 233,
   "metadata": {},
   "outputs": [
    {
     "name": "stderr",
     "output_type": "stream",
     "text": [
      "<ipython-input-227-3a3cc4f00204>:13: VisibleDeprecationWarning: Creating an ndarray from ragged nested sequences (which is a list-or-tuple of lists-or-tuples-or ndarrays with different lengths or shapes) is deprecated. If you meant to do this, you must specify 'dtype=object' when creating the ndarray.\n",
      "  function=np.array([\n"
     ]
    }
   ],
   "source": [
    "a=derivate(txt)"
   ]
  },
  {
   "cell_type": "code",
   "execution_count": 275,
   "metadata": {},
   "outputs": [],
   "source": []
  },
  {
   "cell_type": "code",
   "execution_count": 230,
   "metadata": {},
   "outputs": [
    {
     "name": "stderr",
     "output_type": "stream",
     "text": [
      "<ipython-input-227-3a3cc4f00204>:13: VisibleDeprecationWarning: Creating an ndarray from ragged nested sequences (which is a list-or-tuple of lists-or-tuples-or ndarrays with different lengths or shapes) is deprecated. If you meant to do this, you must specify 'dtype=object' when creating the ndarray.\n",
      "  function=np.array([\n"
     ]
    },
    {
     "data": {
      "text/plain": [
       "[['5',\n",
       "  '*',\n",
       "  ['tanh',\n",
       "   [[['a', '*', ['x', '^', ['2', '^', '3']]],\n",
       "     '-',\n",
       "     ['sin', [['2', '*', 'x']]]]]]]]"
      ]
     },
     "execution_count": 230,
     "metadata": {},
     "output_type": "execute_result"
    }
   ],
   "source": [
    "prepare(txt)"
   ]
  },
  {
   "cell_type": "code",
   "execution_count": 191,
   "metadata": {},
   "outputs": [],
   "source": [
    "txt=\"5*tanh(ax^2^3-sin(2x))\""
   ]
  },
  {
   "cell_type": "code",
   "execution_count": 52,
   "metadata": {},
   "outputs": [],
   "source": [
    "txt=\"tanh(5-3)\""
   ]
  },
  {
   "cell_type": "code",
   "execution_count": 181,
   "metadata": {},
   "outputs": [],
   "source": [
    "txt=\"ax\""
   ]
  },
  {
   "cell_type": "code",
   "execution_count": 64,
   "metadata": {},
   "outputs": [
    {
     "data": {
      "text/plain": [
       "'))x2(nis-3^2^xa(hnat*5'"
      ]
     },
     "execution_count": 64,
     "metadata": {},
     "output_type": "execute_result"
    }
   ],
   "source": [
    "txt[::-1]"
   ]
  },
  {
   "cell_type": "code",
   "execution_count": 68,
   "metadata": {},
   "outputs": [
    {
     "data": {
      "text/plain": [
       "-1"
      ]
     },
     "execution_count": 68,
     "metadata": {},
     "output_type": "execute_result"
    }
   ],
   "source": [
    "-1**False"
   ]
  },
  {
   "cell_type": "code",
   "execution_count": 69,
   "metadata": {},
   "outputs": [
    {
     "data": {
      "text/plain": [
       "[2, 3, 'cos']"
      ]
     },
     "execution_count": 69,
     "metadata": {},
     "output_type": "execute_result"
    }
   ],
   "source": [
    "[2]+[3]+[\"cos\"]"
   ]
  },
  {
   "cell_type": "code",
   "execution_count": null,
   "metadata": {},
   "outputs": [],
   "source": []
  }
 ],
 "metadata": {
  "@webio": {
   "lastCommId": null,
   "lastKernelId": null
  },
  "kernelspec": {
   "display_name": "Python 3",
   "language": "python",
   "name": "python3"
  },
  "language_info": {
   "codemirror_mode": {
    "name": "ipython",
    "version": 3
   },
   "file_extension": ".py",
   "mimetype": "text/x-python",
   "name": "python",
   "nbconvert_exporter": "python",
   "pygments_lexer": "ipython3",
   "version": "3.9.5"
  },
  "toc": {
   "base_numbering": 1,
   "nav_menu": {},
   "number_sections": true,
   "sideBar": true,
   "skip_h1_title": false,
   "title_cell": "Table of Contents",
   "title_sidebar": "Contents",
   "toc_cell": false,
   "toc_position": {},
   "toc_section_display": true,
   "toc_window_display": false
  },
  "varInspector": {
   "cols": {
    "lenName": 16,
    "lenType": 16,
    "lenVar": 40
   },
   "kernels_config": {
    "python": {
     "delete_cmd_postfix": "",
     "delete_cmd_prefix": "del ",
     "library": "var_list.py",
     "varRefreshCmd": "print(var_dic_list())"
    },
    "r": {
     "delete_cmd_postfix": ") ",
     "delete_cmd_prefix": "rm(",
     "library": "var_list.r",
     "varRefreshCmd": "cat(var_dic_list()) "
    }
   },
   "position": {
    "height": "325.85px",
    "left": "1664.4px",
    "right": "20px",
    "top": "120px",
    "width": "350px"
   },
   "types_to_exclude": [
    "module",
    "function",
    "builtin_function_or_method",
    "instance",
    "_Feature"
   ],
   "window_display": false
  }
 },
 "nbformat": 4,
 "nbformat_minor": 4
}
