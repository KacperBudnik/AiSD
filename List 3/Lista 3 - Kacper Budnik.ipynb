{
 "cells": [
  {
   "cell_type": "markdown",
   "metadata": {},
   "source": [
    "# Zadanie 1"
   ]
  },
  {
   "cell_type": "markdown",
   "metadata": {},
   "source": [
    "$$ P(n,k) = \\sum\\limits_{i=0}^k {n\\choose i} p^i{(1-p)}^{n-i}$$"
   ]
  },
  {
   "cell_type": "markdown",
   "metadata": {},
   "source": [
    "Możemy przekształcić w następujący sposób\n",
    "$$ P(n,k) = \\sum\\limits_{i=0}^k {n\\choose i} p^i{(1-p)}^{n-i} = \\sum\\limits_{i=0}^k {n\\choose i} p^i{(1-p)}^{-i}{(1-p)}^{n} = \\sum\\limits_{i=0}^k {n\\choose i} {\\left(\\frac{p}{1-p}\\right)}^i{(1-p)}^n$$"
   ]
  },
  {
   "cell_type": "markdown",
   "metadata": {},
   "source": [
    "Ponieważ czynnik $(1-p)^n$ nie zależy od n możemy wyciągnąć go przed sumę otrzymując wyrażenie\n",
    "$$ P(n,k)={(1-p)}^n\\sum\\limits_{i=0}^k {n\\choose i} {\\left(\\frac{p}{1-p}\\right)}^i$$"
   ]
  },
  {
   "cell_type": "markdown",
   "metadata": {},
   "source": [
    "By obliczyć czynnik przed sumą skorzystam z algorytmu _Exponentiation by squaring_ o złożoności algorytmicznej $o(\\log n)$"
   ]
  },
  {
   "cell_type": "markdown",
   "metadata": {},
   "source": []
  },
  {
   "cell_type": "code",
   "execution_count": 11,
   "metadata": {},
   "outputs": [],
   "source": [
    "def probability(n, k, p):\n",
    "    # w ciele funkcji umieść swój kod realizujący cel zadania;\n",
    "    # argument 'n' niech będzie liczbą prób;\n",
    "    # argument 'k' niech będzie maksymalną liczbą sukcesów;\n",
    "    # argument 'p' niech będzie prawdpodobieństwem sukcesu w pojedynczej próbie;\n",
    "    # w zmiennej 'prob' zwróć oczekiwane prawdopodobieństwo;\n",
    "    # w zmiennej 'count_mult' zwróć liczbę mnożeń, jaką wykonał Twój program;\n",
    "    # jeśli potrzebujesz, możesz dopisać również inne funkcje (pomocnicze), \n",
    "    # jednak główny cel zadania musi być realizowany w tej funkcji;\n",
    "    \n",
    "    prob=1\n",
    "    count_mult=0\n",
    "    rev=1-p\n",
    "    \n",
    "    for i in bin(n)[:1:-1]:\n",
    "        if i==\"1\":\n",
    "            prob*=rev\n",
    "            count_mult+=1\n",
    "#        print(i, prob)\n",
    "        rev**=2\n",
    "        count_mult+=1\n",
    "        \n",
    "    prob_frac_pow=p/(1-p)\n",
    "    count_mult+=1\n",
    "    prob_frac=1\n",
    "    prob_sum=0\n",
    "    for i in range(k+1):\n",
    "        prob_sum+=newton(i,n)*prob_frac\n",
    "        prob_frac*=prob_frac_pow\n",
    "        count_mult+=2\n",
    "    \n",
    "    prob*=prob_sum\n",
    "        \n",
    "        \n",
    "        \n",
    "\n",
    "    return (prob, count_mult)\n",
    "\n",
    "def newton(k,n):\n",
    "    if k==0 or k==n:\n",
    "        return 1\n",
    "    return newton(k-1,n-1) + newton(k, n-1)\n",
    "    "
   ]
  },
  {
   "cell_type": "code",
   "execution_count": 250,
   "metadata": {},
   "outputs": [],
   "source": [
    "def probability_fast(n, k, p):\n",
    "    # w ciele funkcji umieść swój kod realizujący cel zadania;\n",
    "    # argument 'n' niech będzie liczbą prób;\n",
    "    # argument 'k' niech będzie maksymalną liczbą sukcesów;\n",
    "    # argument 'p' niech będzie prawdpodobieństwem sukcesu w pojedynczej próbie;\n",
    "    # w zmiennej 'prob' zwróć oczekiwane prawdopodobieństwo;\n",
    "    # w zmiennej 'count_mult' zwróć liczbę mnożeń, jaką wykonał Twój program;\n",
    "    # jeśli potrzebujesz, możesz dopisać również inne funkcje (pomocnicze), \n",
    "    # jednak główny cel zadania musi być realizowany w tej funkcji;\n",
    "    \n",
    "    prob=1\n",
    "    count_mult=0\n",
    "    rev=1-p\n",
    "    newton=1\n",
    "    \n",
    "    for i in bin(n)[:1:-1]:\n",
    "        if i==\"1\":\n",
    "            prob*=rev\n",
    "            count_mult+=1\n",
    "#        print(i, prob)\n",
    "        rev**=2\n",
    "        count_mult+=1\n",
    "    print(prob)\n",
    "        \n",
    "    prob_frac_pow=p/(1-p)\n",
    "    count_mult+=1\n",
    "    prob_frac=1\n",
    "    prob_sum=0\n",
    "    for i in range(k+1):\n",
    "        prob_sum+=newton*prob_frac\n",
    "        newton*=(n-i)/(i+1)\n",
    "        prob_frac*=prob_frac_pow\n",
    "        count_mult+=4\n",
    "    \n",
    "    prob*=prob_sum\n",
    "        \n",
    "        \n",
    "        \n",
    "\n",
    "    return (prob, count_mult)\n"
   ]
  },
  {
   "cell_type": "markdown",
   "metadata": {},
   "source": [
    "$k+7$ mnożeń"
   ]
  },
  {
   "cell_type": "code",
   "execution_count": 262,
   "metadata": {},
   "outputs": [],
   "source": [
    "def probability_no_mult(n, k, p, acc=16):\n",
    "    # acc - dokładność do której liczby po przecinku (n jest odwrotnie proporcjonalne do acc)\n",
    "    \n",
    "    # w ciele funkcji umieść swój kod realizujący cel zadania;\n",
    "    # argument 'n' niech będzie liczbą prób;\n",
    "    # argument 'k' niech będzie maksymalną liczbą sukcesów;\n",
    "    # argument 'p' niech będzie prawdpodobieństwem sukcesu w pojedynczej próbie;\n",
    "    # w zmiennej 'prob' zwróć oczekiwane prawdopodobieństwo;\n",
    "    # w zmiennej 'count_mult' zwróć liczbę mnożeń, jaką wykonał Twój program;\n",
    "    # jeśli potrzebujesz, możesz dopisać również inne funkcje (pomocnicze), \n",
    "    # jednak główny cel zadania musi być realizowany w tej funkcji;\n",
    "    \n",
    "    if not 0<=p<=1:\n",
    "        return 0, 0\n",
    "    \n",
    "    prob=1\n",
    "    count_mult=0\n",
    "    prob_frac_pow=int((p/(1-p))*int(float(\"1e\"+str(acc))))\n",
    "    rev=int((1-p)*int(float(\"1e\"+str(acc))))\n",
    "    p = int(p*int(float(\"1e\"+str(acc))))\n",
    "    count_mult+=4\n",
    "    \n",
    "    for i in bin(n)[:1:-1]:\n",
    "        if i==\"1\":\n",
    "            prob=bin_mult(prob,rev)\n",
    "        rev=bin_mult(rev,rev)\n",
    "\n",
    "    prob = prob/float(\"1e\"+str(bin_mult(acc,n)))\n",
    "    print(prob)\n",
    "    count_mult+=1\n",
    "\n",
    "    \n",
    "    prob_frac=1\n",
    "    prob_sum=0\n",
    "    for i in range(k+1):\n",
    "        prob_sum+=bin_mult(newton(i,n),prob_frac)/float(\"1e\"+str(bin_mult(acc,i)))\n",
    "        count_mult+=1\n",
    "        prob_frac=bin_mult(prob_frac,prob_frac_pow)\n",
    "    \n",
    "    prob*=prob_sum\n",
    "    count_mult+=1\n",
    "        \n",
    "        \n",
    "        \n",
    "\n",
    "    return (prob, count_mult)\n",
    "\n",
    "def newton(k,n):\n",
    "    if k==0 or k==n:\n",
    "        return 1\n",
    "    return newton(k-1,n-1) + newton(k, n-1)\n",
    "\n",
    "def bin_mult(first_number,secound_number):\n",
    "    secound=bin(secound_number)\n",
    "    mult=0\n",
    "    res=bin(0)\n",
    "    \n",
    "    for i in bin(first_number)[:1:-1]:\n",
    "        if i==\"1\":\n",
    "            res=bin(int(res,2)+int(secound,2))\n",
    "        secound+=\"0\"\n",
    "    return int(res,2)"
   ]
  },
  {
   "cell_type": "code",
   "execution_count": 247,
   "metadata": {},
   "outputs": [],
   "source": [
    "def probability_no_mult_bin(n, k, p, acc=64):\n",
    "    # acc - dokładność do której liczby po przecinku (n jest odwrotnie proporcjonalne do acc)\n",
    "    \n",
    "    # w ciele funkcji umieść swój kod realizujący cel zadania;\n",
    "    # argument 'n' niech będzie liczbą prób;\n",
    "    # argument 'k' niech będzie maksymalną liczbą sukcesów;\n",
    "    # argument 'p' niech będzie prawdpodobieństwem sukcesu w pojedynczej próbie;\n",
    "    # w zmiennej 'prob' zwróć oczekiwane prawdopodobieństwo;\n",
    "    # w zmiennej 'count_mult' zwróć liczbę mnożeń, jaką wykonał Twój program;\n",
    "    # jeśli potrzebujesz, możesz dopisać również inne funkcje (pomocnicze), \n",
    "    # jednak główny cel zadania musi być realizowany w tej funkcji;\n",
    "    \n",
    "    if not 0<=p<=1:\n",
    "        return 0, 0\n",
    "    \n",
    "    prob=1\n",
    "    count_mult=0\n",
    "    prob_frac_pow=int((p/(1-p))*bin_pow(acc))\n",
    "    rev=int((1-p)*bin_pow(acc))\n",
    "    p = int(p*bin_pow(acc))\n",
    "    count_mult+=4\n",
    "    \n",
    "    for i in bin(n)[:1:-1]:\n",
    "        if i==\"1\":\n",
    "            prob=bin_mult(prob,rev)\n",
    "        rev=bin_mult(rev,rev)\n",
    "\n",
    "    prob = prob/bin_pow(bin_mult(acc,n))\n",
    "    print(prob)\n",
    "    count_mult+=1\n",
    "\n",
    "    \n",
    "    prob_frac=1\n",
    "    prob_sum=0\n",
    "    for i in range(k+1):\n",
    "        #prob_sum+=bin_mult(newton(i,n),prob_frac)/float(\"1e\"+str(bin_mult(acc,i)))\n",
    "        prob_sum+=bin_mult(bin_mult(newton(i,n),prob_frac),bin_pow(k-i))\n",
    "        count_mult+=1\n",
    "        prob_frac=bin_mult(prob_frac,prob_frac_pow)\n",
    "    \n",
    "    prob*=prob_sum/float(\"1e\"+str(bin_mult(acc,k)))\n",
    "    count_mult+=1\n",
    "        \n",
    "        \n",
    "        \n",
    "\n",
    "    return (prob, count_mult)\n",
    "\n",
    "def newton(k,n):\n",
    "    if k==0 or k==n:\n",
    "        return 1\n",
    "    return newton(k-1,n-1) + newton(k, n-1)\n",
    "\n",
    "def bin_mult(first_number,secound_number):\n",
    "    secound=bin(secound_number)\n",
    "    mult=0\n",
    "    res=bin(0)\n",
    "    \n",
    "    for i in bin(first_number)[:1:-1]:\n",
    "        if i==\"1\":\n",
    "            res=bin(int(res,2)+int(secound,2))\n",
    "        secound+=\"0\"\n",
    "    return int(res,2)\n",
    "\n",
    "def bin_pow(power):\n",
    "    res=1\n",
    "    for i in range(power):\n",
    "        res=bin_mult(res,2)\n",
    "    return res"
   ]
  },
  {
   "cell_type": "markdown",
   "metadata": {},
   "source": [
    "Tutaj jedynie $6$ mnożeń niezależnie od $k$ oraz $n$"
   ]
  },
  {
   "cell_type": "code",
   "execution_count": 263,
   "metadata": {},
   "outputs": [],
   "source": [
    "def probability_no_mult_v2(n, k, p, acc=16):\n",
    "    # acc - dokładność do której liczby po przecinku (n jest odwrotnie proporcjonalne do acc)\n",
    "    \n",
    "    # w ciele funkcji umieść swój kod realizujący cel zadania;\n",
    "    # argument 'n' niech będzie liczbą prób;\n",
    "    # argument 'k' niech będzie maksymalną liczbą sukcesów;\n",
    "    # argument 'p' niech będzie prawdpodobieństwem sukcesu w pojedynczej próbie;\n",
    "    # w zmiennej 'prob' zwróć oczekiwane prawdopodobieństwo;\n",
    "    # w zmiennej 'count_mult' zwróć liczbę mnożeń, jaką wykonał Twój program;\n",
    "    # jeśli potrzebujesz, możesz dopisać również inne funkcje (pomocnicze), \n",
    "    # jednak główny cel zadania musi być realizowany w tej funkcji;\n",
    "    \n",
    "    if not 0<=p<=1:\n",
    "        return 0, 0\n",
    "    \n",
    "    prob=1\n",
    "    count_mult=0\n",
    "    prob_frac_pow=int((p/(1-p))*int(float(\"1e\"+str(acc))))\n",
    "    rev=int((1-p)*int(float(\"1e\"+str(acc))))\n",
    "    p = int(p*int(float(\"1e\"+str(acc))))\n",
    "    count_mult+=4\n",
    "    \n",
    "    for i in bin(n)[:1:-1]:\n",
    "        if i==\"1\":\n",
    "            prob=bin_mult(prob,rev)\n",
    "        rev=bin_mult(rev,rev)\n",
    "\n",
    "    prob = prob/float(\"1e\"+str(bin_mult(acc,n)))\n",
    "    print(prob)\n",
    "    count_mult+=1\n",
    "\n",
    "    \n",
    "    prob_frac=1\n",
    "    prob_sum=0\n",
    "    for i in range(k+1):\n",
    "        prob_sum+=bin_mult(bin_mult(newton(i,n),prob_frac),int(float(\"1e\"+str(bin_mult(acc,k-i)))))\n",
    "        #count_mult+=1\n",
    "        prob_frac=bin_mult(prob_frac,prob_frac_pow)\n",
    "    \n",
    "    prob*=prob_sum/float(\"1e\"+str(bin_mult(acc,k)))\n",
    "    count_mult+=1\n",
    "        \n",
    "        \n",
    "        \n",
    "\n",
    "    return (prob, count_mult)\n",
    "\n",
    "def newton(k,n):\n",
    "    if k==0 or k==n:\n",
    "        return 1\n",
    "    return newton(k-1,n-1) + newton(k, n-1)\n",
    "\n",
    "def bin_mult(first_number,secound_number):\n",
    "    secound=bin(secound_number)\n",
    "    mult=0\n",
    "    res=bin(0)\n",
    "    \n",
    "    for i in bin(first_number)[:1:-1]:\n",
    "        if i==\"1\":\n",
    "            res=bin(int(res,2)+int(secound,2))\n",
    "        secound+=\"0\"\n",
    "    return int(res,2)"
   ]
  },
  {
   "cell_type": "code",
   "execution_count": 177,
   "metadata": {},
   "outputs": [],
   "source": [
    "def probability_check(n,k,p):\n",
    "    prob=0\n",
    "    for i in range(k+1):\n",
    "        prob+=newton(i,n)*(p**i)*((1-p)**(n-i))\n",
    "    return prob"
   ]
  },
  {
   "cell_type": "code",
   "execution_count": 251,
   "metadata": {},
   "outputs": [
    {
     "name": "stdout",
     "output_type": "stream",
     "text": [
      "0.0004510929897325771\n"
     ]
    },
    {
     "data": {
      "text/plain": [
       "(0.999999966444729, 81)"
      ]
     },
     "execution_count": 251,
     "metadata": {},
     "output_type": "execute_result"
    }
   ],
   "source": [
    "probability_fast(19,17,1/3)"
   ]
  },
  {
   "cell_type": "code",
   "execution_count": 267,
   "metadata": {},
   "outputs": [
    {
     "name": "stdout",
     "output_type": "stream",
     "text": [
      "0.0004510929897325767\n"
     ]
    },
    {
     "data": {
      "text/plain": [
       "(0.5430877663261635, 13)"
      ]
     },
     "execution_count": 267,
     "metadata": {},
     "output_type": "execute_result"
    }
   ],
   "source": [
    "probability_no_mult(19,6,1/3)"
   ]
  },
  {
   "cell_type": "code",
   "execution_count": 266,
   "metadata": {},
   "outputs": [
    {
     "name": "stdout",
     "output_type": "stream",
     "text": [
      "0.0004510929897325767\n"
     ]
    },
    {
     "data": {
      "text/plain": [
       "(0.5430877663261634, 6)"
      ]
     },
     "execution_count": 266,
     "metadata": {},
     "output_type": "execute_result"
    }
   ],
   "source": [
    "probability_no_mult_v2(19,6,1/3)"
   ]
  },
  {
   "cell_type": "code",
   "execution_count": 258,
   "metadata": {},
   "outputs": [
    {
     "name": "stdout",
     "output_type": "stream",
     "text": [
      "0.0004510929897325772\n"
     ]
    },
    {
     "data": {
      "text/plain": [
       "(0.0, 24)"
      ]
     },
     "execution_count": 258,
     "metadata": {},
     "output_type": "execute_result"
    }
   ],
   "source": [
    "probability_no_mult_bin(19,17,1/3,64)"
   ]
  },
  {
   "cell_type": "code",
   "execution_count": 133,
   "metadata": {},
   "outputs": [],
   "source": [
    "import struct\n",
    "def binary(num):\n",
    "    return ''.join('{:0>8b}'.format(c) for c in struct.pack('!f', num))"
   ]
  },
  {
   "cell_type": "code",
   "execution_count": 237,
   "metadata": {},
   "outputs": [
    {
     "data": {
      "text/plain": [
       "7.065874824632723e-05"
      ]
     },
     "execution_count": 237,
     "metadata": {},
     "output_type": "execute_result"
    }
   ],
   "source": [
    "probability_fast(30,7,1/3)[0]-probability_no_mult(30,7,1/3,5)[0]"
   ]
  },
  {
   "cell_type": "code",
   "execution_count": 244,
   "metadata": {},
   "outputs": [
    {
     "name": "stdout",
     "output_type": "stream",
     "text": [
      "0\n"
     ]
    }
   ],
   "source": [
    "for i in range(1):\n",
    "    print(i)"
   ]
  },
  {
   "cell_type": "code",
   "execution_count": null,
   "metadata": {},
   "outputs": [],
   "source": []
  },
  {
   "cell_type": "code",
   "execution_count": null,
   "metadata": {},
   "outputs": [],
   "source": []
  }
 ],
 "metadata": {
  "kernelspec": {
   "display_name": "Python 3",
   "language": "python",
   "name": "python3"
  },
  "language_info": {
   "codemirror_mode": {
    "name": "ipython",
    "version": 3
   },
   "file_extension": ".py",
   "mimetype": "text/x-python",
   "name": "python",
   "nbconvert_exporter": "python",
   "pygments_lexer": "ipython3",
   "version": "3.8.5"
  }
 },
 "nbformat": 4,
 "nbformat_minor": 4
}
