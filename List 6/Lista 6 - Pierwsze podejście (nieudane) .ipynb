{
 "cells": [
  {
   "cell_type": "markdown",
   "metadata": {},
   "source": [
    "https://github.com/KacperBudnik/AiSD"
   ]
  },
  {
   "cell_type": "markdown",
   "metadata": {
    "heading_collapsed": true
   },
   "source": [
    "# Zadanie 1"
   ]
  },
  {
   "cell_type": "markdown",
   "metadata": {
    "hidden": true
   },
   "source": []
  },
  {
   "cell_type": "code",
   "execution_count": 1,
   "metadata": {
    "code_folding": [
     4,
     6,
     9,
     16,
     24,
     33,
     41,
     51,
     59,
     67,
     75,
     78,
     81,
     84,
     89,
     92,
     130,
     135,
     138,
     148,
     161,
     164,
     171,
     178,
     194,
     218,
     223
    ],
    "hidden": true
   },
   "outputs": [],
   "source": [
    "import types\n",
    "\n",
    "# Z wykładu\n",
    "class BinaryTree:\n",
    "    def __init__(self,*items):\n",
    "        self.count=1\n",
    "        if len(items)==0:\n",
    "            raise ValueError(\"Drzewko potrzebuje korzenia!\")\n",
    "            \n",
    "        if type(items[0]) in (list, tuple): # jeśli podany jest kontener to wykonuje dla każdego elementu z osobna\n",
    "            temp=BinaryTree(items[0][0])\n",
    "            self.key=temp.key\n",
    "            self.right=temp.right\n",
    "            self.left=temp.left\n",
    "            self.add(items[0][1:])\n",
    "            \n",
    "        elif type(items[0]) in (set, dict):\n",
    "            item=list(items[0])\n",
    "            temp=BinaryTree(item[0])\n",
    "            self.key=temp.key\n",
    "            self.right=temp.right\n",
    "            self.left=temp.left\n",
    "            self.add(item[1:])\n",
    "            \n",
    "        elif type(items[0]) == types.GeneratorType: # zadawanie przy użyciu generatora\n",
    "            for item in items[0]:\n",
    "                temp=BinaryTree(item)\n",
    "                break\n",
    "            self.key=temp.key\n",
    "            self.left=temp.left\n",
    "            self.right=temp.right\n",
    "            self.add(items[0])\n",
    "            \n",
    "        elif type(items[0]) == range: # zadawanie przy użyciu range\n",
    "            if len(items[0])>0: # na wypadek przykładowo range(0), brak elementu zerowego\n",
    "                self.key=items[0][0]\n",
    "                self.right=None\n",
    "                self.left=None\n",
    "                for i in items[0][1:]:\n",
    "                    self.add(i)\n",
    "                    \n",
    "        elif type(items[0]) == BinaryTree: # Bo dlaczego nie\n",
    "            self.key=items[0].key\n",
    "            self.right=None\n",
    "            self.left=None\n",
    "            \n",
    "            if items[0].right!=None:\n",
    "                self.right=items[0].right.copy()\n",
    "            if items[0].left!=None:\n",
    "                self.left=items[0].left.copy()\n",
    "        \n",
    "        else:\n",
    "            self.key = items[0]\n",
    "            self.left = None\n",
    "            self.right = None\n",
    "        self.add(items[1:])\n",
    "        \n",
    "        \n",
    "        \n",
    "    def __insertLeft(self,newNode):\n",
    "        if self.left == None:\n",
    "            self.left = BinaryTree(newNode)\n",
    "        else:\n",
    "            temp = BinaryTree(newNode)\n",
    "            temp.left = self.left\n",
    "            self.left = temp\n",
    "            \n",
    "    def __insertRight(self,newNode):\n",
    "        if self.right == None:\n",
    "            self.right = BinaryTree(newNode)\n",
    "        else:\n",
    "            temp = BinaryTree(newNode)\n",
    "            temp.right = self.right\n",
    "            self.right = temp     \n",
    "            \n",
    "    def __getRightChild(self):\n",
    "        return self.right\n",
    "\n",
    "    def __getLeftChild(self):\n",
    "        return self.left\n",
    "\n",
    "    def __setRootVal(self,obj):\n",
    "        self.key = obj\n",
    "\n",
    "    def getRootVal(self):\n",
    "        return self.key    \n",
    "    \n",
    "############ Własne ##############\n",
    "    \n",
    "    def __repr__(self): # jakaś prezentacja wyników\n",
    "        return str(self.key)+\"->\"+str([self.left,self.right])\n",
    "                \n",
    "    def add(self, *items):\n",
    "        for item in items:\n",
    "            if type(item) in (list, tuple,set,dict): # jeśli podany jest kontener to wykonuje dla każdego elementu z osobna\n",
    "                self.add(*item) # dla słownika dodaję kluczę\n",
    "                \n",
    "            elif type(item) in (types.GeneratorType, range): # generatory lub range(x)\n",
    "                for i in item:\n",
    "                    self.add(i)\n",
    "            \n",
    "            elif type(item) == BinaryTree: # Bo dlaczego nie\n",
    "                i=item.key\n",
    "                temp=self\n",
    "                while True: # wstawia całe drzewko w miejsce, gdzie powinien się znaleźć klucz dodany do drzewa\n",
    "                    if temp.key<i:\n",
    "                        if temp.left==None:\n",
    "                            temp.left=item.copy()\n",
    "                            break\n",
    "                        else:\n",
    "                            temp=temp.left\n",
    "                    else:\n",
    "                        if temp.right==None:\n",
    "                            temp.right=item.copy()\n",
    "                            break\n",
    "                        else:\n",
    "                            temp=temp.right        \n",
    "            \n",
    "            else:\n",
    "                if item < self.key: # równe na prawo (jako większe)\n",
    "                    if self.left == None:\n",
    "                        self.left = BinaryTree(item)\n",
    "                    else:\n",
    "                        self.left.add(item)\n",
    "                else:\n",
    "                    if self.right == None:\n",
    "                        self.right = BinaryTree(item)\n",
    "                    else:\n",
    "                        self.right.add(item)\n",
    "    \n",
    "    def __add__(self, item):\n",
    "        temp=self.copy()\n",
    "        temp.add(item)\n",
    "        return temp\n",
    "    \n",
    "    def __sub__(self,item):\n",
    "        return self+(-item)\n",
    "    \n",
    "    def copy(self):\n",
    "        temp=BinaryTree(self.key)\n",
    "        if self.left!=None:\n",
    "            temp.left=self.left.copy()\n",
    "            \n",
    "        if self.right!=None:\n",
    "            temp.right=self.right.copy()\n",
    "\n",
    "        return temp\n",
    "    \n",
    "    def __contains__(self, item):\n",
    "        if self.key < item:\n",
    "            if self.right != None:\n",
    "                return item in self.right\n",
    "            else:\n",
    "                return False\n",
    "        elif self.key > item:\n",
    "            if self.left != None:\n",
    "                return item in self.left\n",
    "            else:\n",
    "                return False\n",
    "        return True\n",
    "    \n",
    "    def __len__(self):\n",
    "        return 1 + len(self.right if self.right != None else []) + len(self.left if self.left != None else [])\n",
    "    \n",
    "    def find_min(self): # zwraca najmniejszy\n",
    "        if self.left != None:\n",
    "            return self.left.find_min()\n",
    "        elif self.right != None:\n",
    "            return self.right.find_min()\n",
    "        return self.key\n",
    "    \n",
    "    def find_max(self): # zwraca największy\n",
    "        if self.right != None:\n",
    "            return self.right.find_max()\n",
    "        elif self.left != None:\n",
    "            return self.left.find_max()\n",
    "        return self.key\n",
    "    \n",
    "    def to_list(self): # zwraca _Posortowaną_ listę elementów\n",
    "        lst=[]\n",
    "        \n",
    "        if self.left!= None:\n",
    "            lst.extend(self.left.to_list())\n",
    "            \n",
    "        lst.append(self.key)\n",
    "        \n",
    "        if self.right!= None:\n",
    "            lst.extend(self.right.to_list())\n",
    "            \n",
    "        return lst\n",
    "    \n",
    "    def __iter__(self):\n",
    "        return BinaryTreeIterator(self)\n",
    "    \n",
    "    def erase(self, item):\n",
    "        if not item in self:\n",
    "            raise ValueErro(\"Nie ma takiego elementu\")\n",
    "        if self.key>item:\n",
    "            if self.left.key == item:\n",
    "                if self.count>1:\n",
    "                    self.count-=1\n",
    "                else:\n",
    "                    temp=self.left\n",
    "                    if temp.left == None:\n",
    "                        if self.right == None:\n",
    "                            self.left = None\n",
    "                        else:\n",
    "                            self.left = temp.right\n",
    "                    else:\n",
    "                        if temp.right = None:\n",
    "                            self.\n",
    "            else:   \n",
    "                self.left.erase(item)\n",
    "        elif self.key<item:\n",
    "            self.right.erase(item)\n",
    "    \n",
    "    \n",
    "class BinaryTreeIterator: # Do iterowania zadanego drzewa\n",
    "    def __init__(self, tree:BinaryTree):\n",
    "        self.val=tree.to_list()\n",
    "        self.index=-1\n",
    "        self.max=len(self.val)\n",
    "        \n",
    "    def __next__(self):\n",
    "        self.index+=1\n",
    "        if self.index<self.max:\n",
    "            return self.val[self.index]\n",
    "        raise StopIteration"
   ]
  },
  {
   "cell_type": "markdown",
   "metadata": {
    "hidden": true
   },
   "source": [
    "Możliwość tworzenia od razu od listy elementów"
   ]
  },
  {
   "cell_type": "code",
   "execution_count": 136,
   "metadata": {
    "hidden": true
   },
   "outputs": [],
   "source": [
    "a = BinaryTree([23,-15])"
   ]
  },
  {
   "cell_type": "code",
   "execution_count": 137,
   "metadata": {
    "hidden": true
   },
   "outputs": [
    {
     "data": {
      "text/plain": [
       "23->[-15->[None, None], None]"
      ]
     },
     "execution_count": 137,
     "metadata": {},
     "output_type": "execute_result"
    }
   ],
   "source": [
    "a"
   ]
  },
  {
   "cell_type": "markdown",
   "metadata": {
    "hidden": true
   },
   "source": [
    "Nawet od list, która zawiera listę, która zawiera $\\dots$\n",
    "Albo od krotki, zbiorum, słownika, oraz po prostu wpisywanie elementów jeden za drugim jako kolejne argumenty funkcji"
   ]
  },
  {
   "cell_type": "code",
   "execution_count": 138,
   "metadata": {
    "hidden": true
   },
   "outputs": [],
   "source": [
    "a = BinaryTree([{0,-1,32,2},{100},23,23],1,2,-2,[23],{-50})"
   ]
  },
  {
   "cell_type": "code",
   "execution_count": 139,
   "metadata": {
    "hidden": true
   },
   "outputs": [
    {
     "data": {
      "text/plain": [
       "0->[-1->[-2->[-50->[None, None], None], None], 32->[2->[1->[None, None], 23->[2->[None, None], 23->[None, 23->[None, None]]]], 100->[None, None]]]"
      ]
     },
     "execution_count": 139,
     "metadata": {},
     "output_type": "execute_result"
    }
   ],
   "source": [
    "a"
   ]
  },
  {
   "cell_type": "code",
   "execution_count": 140,
   "metadata": {
    "hidden": true
   },
   "outputs": [],
   "source": [
    "a=BinaryTree([[([{0,0,0,0,0},23],3),5,6,7,8],-12,3,4,5],20,{2,3,4})"
   ]
  },
  {
   "cell_type": "code",
   "execution_count": 141,
   "metadata": {
    "hidden": true
   },
   "outputs": [
    {
     "data": {
      "text/plain": [
       "0->[-12->[None, None], 23->[3->[2->[None, None], 5->[3->[None, 4->[3->[None, None], 4->[None, None]]], 6->[5->[None, None], 7->[None, 8->[None, 20->[None, None]]]]]], None]]"
      ]
     },
     "execution_count": 141,
     "metadata": {},
     "output_type": "execute_result"
    }
   ],
   "source": [
    "a"
   ]
  },
  {
   "cell_type": "code",
   "execution_count": 148,
   "metadata": {
    "hidden": true
   },
   "outputs": [],
   "source": [
    "a=BinaryTree(1,2)"
   ]
  },
  {
   "cell_type": "code",
   "execution_count": 149,
   "metadata": {
    "hidden": true
   },
   "outputs": [
    {
     "data": {
      "text/plain": [
       "1->[None, 2->[None, None]]"
      ]
     },
     "execution_count": 149,
     "metadata": {},
     "output_type": "execute_result"
    }
   ],
   "source": [
    "a"
   ]
  },
  {
   "cell_type": "markdown",
   "metadata": {
    "hidden": true
   },
   "source": [
    "Oczywiście dodawanie elementów"
   ]
  },
  {
   "cell_type": "code",
   "execution_count": 150,
   "metadata": {
    "hidden": true
   },
   "outputs": [],
   "source": [
    "a.add(-12)"
   ]
  },
  {
   "cell_type": "code",
   "execution_count": 151,
   "metadata": {
    "hidden": true
   },
   "outputs": [
    {
     "data": {
      "text/plain": [
       "1->[-12->[None, None], 2->[None, None]]"
      ]
     },
     "execution_count": 151,
     "metadata": {},
     "output_type": "execute_result"
    }
   ],
   "source": [
    "a"
   ]
  },
  {
   "cell_type": "markdown",
   "metadata": {
    "hidden": true
   },
   "source": [
    "Oraz nawet dodawanie przy pomocy `+` (ale nie zmienia to samego drzewka, tak jak powinno być)"
   ]
  },
  {
   "cell_type": "code",
   "execution_count": 152,
   "metadata": {
    "hidden": true
   },
   "outputs": [],
   "source": [
    "a=BinaryTree(1,2)"
   ]
  },
  {
   "cell_type": "code",
   "execution_count": 153,
   "metadata": {
    "hidden": true
   },
   "outputs": [
    {
     "name": "stdout",
     "output_type": "stream",
     "text": [
      "1->[0->[None, None], 2->[None, None]]\n"
     ]
    }
   ],
   "source": [
    "print(a+0)"
   ]
  },
  {
   "cell_type": "code",
   "execution_count": 154,
   "metadata": {
    "hidden": true
   },
   "outputs": [
    {
     "data": {
      "text/plain": [
       "1->[None, 2->[None, None]]"
      ]
     },
     "execution_count": 154,
     "metadata": {},
     "output_type": "execute_result"
    }
   ],
   "source": [
    "a"
   ]
  },
  {
   "cell_type": "code",
   "execution_count": 155,
   "metadata": {
    "hidden": true
   },
   "outputs": [],
   "source": [
    "b=a+0"
   ]
  },
  {
   "cell_type": "code",
   "execution_count": 156,
   "metadata": {
    "hidden": true
   },
   "outputs": [
    {
     "data": {
      "text/plain": [
       "1->[0->[None, None], 2->[None, None]]"
      ]
     },
     "execution_count": 156,
     "metadata": {},
     "output_type": "execute_result"
    }
   ],
   "source": [
    "b"
   ]
  },
  {
   "cell_type": "code",
   "execution_count": 157,
   "metadata": {
    "hidden": true
   },
   "outputs": [
    {
     "data": {
      "text/plain": [
       "1->[None, 2->[None, None]]"
      ]
     },
     "execution_count": 157,
     "metadata": {},
     "output_type": "execute_result"
    }
   ],
   "source": [
    "a"
   ]
  },
  {
   "cell_type": "code",
   "execution_count": 158,
   "metadata": {
    "hidden": true
   },
   "outputs": [],
   "source": [
    "b-=3"
   ]
  },
  {
   "cell_type": "code",
   "execution_count": 159,
   "metadata": {
    "hidden": true
   },
   "outputs": [
    {
     "data": {
      "text/plain": [
       "1->[0->[-3->[None, None], None], 2->[None, None]]"
      ]
     },
     "execution_count": 159,
     "metadata": {},
     "output_type": "execute_result"
    }
   ],
   "source": [
    "b"
   ]
  },
  {
   "cell_type": "code",
   "execution_count": 160,
   "metadata": {
    "hidden": true
   },
   "outputs": [
    {
     "data": {
      "text/plain": [
       "1->[None, 2->[None, None]]"
      ]
     },
     "execution_count": 160,
     "metadata": {},
     "output_type": "execute_result"
    }
   ],
   "source": [
    "a"
   ]
  },
  {
   "cell_type": "markdown",
   "metadata": {
    "hidden": true
   },
   "source": [
    "Zmiany w `b` nie wpływają na `a`"
   ]
  },
  {
   "cell_type": "markdown",
   "metadata": {
    "hidden": true
   },
   "source": [
    "Można jeszcze szukać elementów"
   ]
  },
  {
   "cell_type": "code",
   "execution_count": 161,
   "metadata": {
    "hidden": true
   },
   "outputs": [
    {
     "data": {
      "text/plain": [
       "True"
      ]
     },
     "execution_count": 161,
     "metadata": {},
     "output_type": "execute_result"
    }
   ],
   "source": [
    "1 in a"
   ]
  },
  {
   "cell_type": "code",
   "execution_count": 162,
   "metadata": {
    "hidden": true
   },
   "outputs": [
    {
     "data": {
      "text/plain": [
       "False"
      ]
     },
     "execution_count": 162,
     "metadata": {},
     "output_type": "execute_result"
    }
   ],
   "source": [
    "12 in a"
   ]
  },
  {
   "cell_type": "markdown",
   "metadata": {
    "hidden": true
   },
   "source": [
    "Albo sprawdzić wielkość (ilość elementów) drzewa"
   ]
  },
  {
   "cell_type": "code",
   "execution_count": 163,
   "metadata": {
    "hidden": true
   },
   "outputs": [
    {
     "data": {
      "text/plain": [
       "2"
      ]
     },
     "execution_count": 163,
     "metadata": {},
     "output_type": "execute_result"
    }
   ],
   "source": [
    "len(a)"
   ]
  },
  {
   "cell_type": "code",
   "execution_count": 164,
   "metadata": {
    "hidden": true
   },
   "outputs": [
    {
     "data": {
      "text/plain": [
       "4"
      ]
     },
     "execution_count": 164,
     "metadata": {},
     "output_type": "execute_result"
    }
   ],
   "source": [
    "len(b)"
   ]
  },
  {
   "cell_type": "code",
   "execution_count": 165,
   "metadata": {
    "hidden": true
   },
   "outputs": [
    {
     "data": {
      "text/plain": [
       "1->[0->[-3->[None, None], None], 2->[None, None]]"
      ]
     },
     "execution_count": 165,
     "metadata": {},
     "output_type": "execute_result"
    }
   ],
   "source": [
    "b"
   ]
  },
  {
   "cell_type": "code",
   "execution_count": 166,
   "metadata": {
    "hidden": true
   },
   "outputs": [
    {
     "data": {
      "text/plain": [
       "6"
      ]
     },
     "execution_count": 166,
     "metadata": {},
     "output_type": "execute_result"
    }
   ],
   "source": [
    "len(b+2+3)"
   ]
  },
  {
   "cell_type": "markdown",
   "metadata": {
    "hidden": true
   },
   "source": [
    "Oczywiście znajdować wartości skrajne"
   ]
  },
  {
   "cell_type": "code",
   "execution_count": 167,
   "metadata": {
    "hidden": true
   },
   "outputs": [
    {
     "data": {
      "text/plain": [
       "-3"
      ]
     },
     "execution_count": 167,
     "metadata": {},
     "output_type": "execute_result"
    }
   ],
   "source": [
    "b.find_min()"
   ]
  },
  {
   "cell_type": "code",
   "execution_count": 168,
   "metadata": {
    "hidden": true
   },
   "outputs": [
    {
     "data": {
      "text/plain": [
       "2"
      ]
     },
     "execution_count": 168,
     "metadata": {},
     "output_type": "execute_result"
    }
   ],
   "source": [
    "b.find_max()"
   ]
  },
  {
   "cell_type": "code",
   "execution_count": 169,
   "metadata": {
    "hidden": true
   },
   "outputs": [
    {
     "data": {
      "text/plain": [
       "12"
      ]
     },
     "execution_count": 169,
     "metadata": {},
     "output_type": "execute_result"
    }
   ],
   "source": [
    "(b+12).find_max()"
   ]
  },
  {
   "cell_type": "code",
   "execution_count": 170,
   "metadata": {
    "hidden": true
   },
   "outputs": [
    {
     "data": {
      "text/plain": [
       "-12"
      ]
     },
     "execution_count": 170,
     "metadata": {},
     "output_type": "execute_result"
    }
   ],
   "source": [
    "(b-12).find_min()"
   ]
  },
  {
   "cell_type": "markdown",
   "metadata": {
    "hidden": true
   },
   "source": [
    "No i z danego drzewa tworzyć posortowaną listę"
   ]
  },
  {
   "cell_type": "code",
   "execution_count": 174,
   "metadata": {
    "hidden": true
   },
   "outputs": [],
   "source": [
    "b=BinaryTree(1,2,23,23,2,31,3,12,3,123,3)"
   ]
  },
  {
   "cell_type": "code",
   "execution_count": 175,
   "metadata": {
    "hidden": true
   },
   "outputs": [],
   "source": [
    "b+=[1,2,3,-5,23,-54,-1.2,32,4,4,7,7,6,5,4,3,-123,3-4,-34,2-2,4-5,5,-5,-3-23,-5]"
   ]
  },
  {
   "cell_type": "code",
   "execution_count": 176,
   "metadata": {
    "hidden": true
   },
   "outputs": [
    {
     "data": {
      "text/plain": [
       "1->[-5->[-54->[-123->[None, None], -34->[None, -26->[None, None]]], -1.2->[-5->[None, -5->[None, None]], -1->[None, 0->[-1->[None, None], None]]]], 2->[1->[None, None], 23->[2->[None, 3->[2->[None, None], 12->[3->[None, 3->[None, 3->[None, 4->[3->[None, None], 4->[None, 7->[6->[5->[4->[None, None], 5->[None, None]], None], 7->[None, None]]]]]]], None]]], 23->[None, 31->[23->[None, None], 123->[32->[None, None], None]]]]]]"
      ]
     },
     "execution_count": 176,
     "metadata": {},
     "output_type": "execute_result"
    }
   ],
   "source": [
    "b"
   ]
  },
  {
   "cell_type": "code",
   "execution_count": 177,
   "metadata": {
    "hidden": true
   },
   "outputs": [
    {
     "data": {
      "text/plain": [
       "[-123,\n",
       " -54,\n",
       " -34,\n",
       " -26,\n",
       " -5,\n",
       " -5,\n",
       " -5,\n",
       " -1.2,\n",
       " -1,\n",
       " -1,\n",
       " 0,\n",
       " 1,\n",
       " 1,\n",
       " 2,\n",
       " 2,\n",
       " 2,\n",
       " 3,\n",
       " 3,\n",
       " 3,\n",
       " 3,\n",
       " 3,\n",
       " 4,\n",
       " 4,\n",
       " 4,\n",
       " 5,\n",
       " 5,\n",
       " 6,\n",
       " 7,\n",
       " 7,\n",
       " 12,\n",
       " 23,\n",
       " 23,\n",
       " 23,\n",
       " 31,\n",
       " 32,\n",
       " 123]"
      ]
     },
     "execution_count": 177,
     "metadata": {},
     "output_type": "execute_result"
    }
   ],
   "source": [
    "b.to_list()"
   ]
  },
  {
   "cell_type": "code",
   "execution_count": 178,
   "metadata": {
    "hidden": true
   },
   "outputs": [
    {
     "data": {
      "text/plain": [
       "36"
      ]
     },
     "execution_count": 178,
     "metadata": {},
     "output_type": "execute_result"
    }
   ],
   "source": [
    "len(b)"
   ]
  },
  {
   "cell_type": "code",
   "execution_count": 179,
   "metadata": {
    "hidden": true
   },
   "outputs": [
    {
     "data": {
      "text/plain": [
       "36"
      ]
     },
     "execution_count": 179,
     "metadata": {},
     "output_type": "execute_result"
    }
   ],
   "source": [
    "len(b.to_list())"
   ]
  },
  {
   "cell_type": "code",
   "execution_count": 180,
   "metadata": {
    "hidden": true
   },
   "outputs": [
    {
     "data": {
      "text/plain": [
       "True"
      ]
     },
     "execution_count": 180,
     "metadata": {},
     "output_type": "execute_result"
    }
   ],
   "source": [
    "all(b.to_list()[i] in b for i in range(len(b)))"
   ]
  },
  {
   "cell_type": "markdown",
   "metadata": {
    "hidden": true
   },
   "source": [
    "Zatem wszystkie elementy z listy znajdują się w drzewie (długość taka sama, więc są sobie równe)"
   ]
  },
  {
   "cell_type": "markdown",
   "metadata": {
    "hidden": true
   },
   "source": [
    "Co ciekawse można iterować po drzewie"
   ]
  },
  {
   "cell_type": "code",
   "execution_count": 181,
   "metadata": {
    "hidden": true
   },
   "outputs": [
    {
     "name": "stdout",
     "output_type": "stream",
     "text": [
      "-123\n",
      "-54\n",
      "-34\n",
      "-26\n",
      "-5\n",
      "-5\n",
      "-5\n",
      "-1.2\n",
      "-1\n",
      "-1\n",
      "0\n",
      "1\n",
      "1\n",
      "2\n",
      "2\n",
      "2\n",
      "3\n",
      "3\n",
      "3\n",
      "3\n",
      "3\n",
      "4\n",
      "4\n",
      "4\n",
      "5\n",
      "5\n",
      "6\n",
      "7\n",
      "7\n",
      "12\n",
      "23\n",
      "23\n",
      "23\n",
      "31\n",
      "32\n",
      "123\n"
     ]
    }
   ],
   "source": [
    "for i in b:\n",
    "    print(i)"
   ]
  },
  {
   "cell_type": "code",
   "execution_count": 182,
   "metadata": {
    "hidden": true
   },
   "outputs": [
    {
     "data": {
      "text/plain": [
       "True"
      ]
     },
     "execution_count": 182,
     "metadata": {},
     "output_type": "execute_result"
    }
   ],
   "source": [
    "all(i in b.to_list() for i in b)"
   ]
  },
  {
   "cell_type": "markdown",
   "metadata": {
    "hidden": true
   },
   "source": [
    "oraz tworzyć drzewa z iteratorów"
   ]
  },
  {
   "cell_type": "code",
   "execution_count": 187,
   "metadata": {
    "hidden": true
   },
   "outputs": [],
   "source": [
    "from random import randint\n",
    "a = BinaryTree(randint(-50,50) for i in range(50))"
   ]
  },
  {
   "cell_type": "code",
   "execution_count": 188,
   "metadata": {
    "hidden": true
   },
   "outputs": [
    {
     "data": {
      "text/plain": [
       "-7->[-44->[-48->[None, None], -25->[-29->[-30->[-37->[-40->[None, None], -34->[None, None]], None], -28->[None, -28->[None, None]]], -9->[-17->[-19->[-21->[-25->[None, -23->[None, None]], None], -18->[-19->[None, None], None]], -13->[None, -10->[None, None]]], -9->[None, None]]]], 47->[1->[-6->[-7->[None, None], -6->[None, -1->[-6->[None, None], None]]], 35->[33->[13->[7->[6->[None, None], 8->[7->[None, None], None]], 20->[16->[None, None], 31->[27->[23->[22->[None, None], 26->[None, 26->[None, None]]], None], 31->[None, None]]]], None], 42->[35->[None, None], 45->[None, 46->[None, None]]]]], 48->[None, None]]]"
      ]
     },
     "execution_count": 188,
     "metadata": {},
     "output_type": "execute_result"
    }
   ],
   "source": [
    "a"
   ]
  },
  {
   "cell_type": "code",
   "execution_count": 189,
   "metadata": {
    "hidden": true
   },
   "outputs": [],
   "source": [
    "a = BinaryTree([12,3],( -i**2 for i in range(3)), [range(15)])"
   ]
  },
  {
   "cell_type": "code",
   "execution_count": 190,
   "metadata": {
    "hidden": true
   },
   "outputs": [
    {
     "data": {
      "text/plain": [
       "12->[3->[0->[-1->[-4->[None, None], None], 0->[None, 1->[None, 2->[None, None]]]], 3->[None, 4->[None, 5->[None, 6->[None, 7->[None, 8->[None, 9->[None, 10->[None, 11->[None, None]]]]]]]]]], 12->[None, 13->[None, 14->[None, None]]]]"
      ]
     },
     "execution_count": 190,
     "metadata": {},
     "output_type": "execute_result"
    }
   ],
   "source": [
    "a"
   ]
  },
  {
   "cell_type": "code",
   "execution_count": 191,
   "metadata": {
    "hidden": true
   },
   "outputs": [],
   "source": [
    "a = BinaryTree(range(124))"
   ]
  },
  {
   "cell_type": "code",
   "execution_count": 192,
   "metadata": {
    "hidden": true
   },
   "outputs": [
    {
     "data": {
      "text/plain": [
       "0->[None, 1->[None, 2->[None, 3->[None, 4->[None, 5->[None, 6->[None, 7->[None, 8->[None, 9->[None, 10->[None, 11->[None, 12->[None, 13->[None, 14->[None, 15->[None, 16->[None, 17->[None, 18->[None, 19->[None, 20->[None, 21->[None, 22->[None, 23->[None, 24->[None, 25->[None, 26->[None, 27->[None, 28->[None, 29->[None, 30->[None, 31->[None, 32->[None, 33->[None, 34->[None, 35->[None, 36->[None, 37->[None, 38->[None, 39->[None, 40->[None, 41->[None, 42->[None, 43->[None, 44->[None, 45->[None, 46->[None, 47->[None, 48->[None, 49->[None, 50->[None, 51->[None, 52->[None, 53->[None, 54->[None, 55->[None, 56->[None, 57->[None, 58->[None, 59->[None, 60->[None, 61->[None, 62->[None, 63->[None, 64->[None, 65->[None, 66->[None, 67->[None, 68->[None, 69->[None, 70->[None, 71->[None, 72->[None, 73->[None, 74->[None, 75->[None, 76->[None, 77->[None, 78->[None, 79->[None, 80->[None, 81->[None, 82->[None, 83->[None, 84->[None, 85->[None, 86->[None, 87->[None, 88->[None, 89->[None, 90->[None, 91->[None, 92->[None, 93->[None, 94->[None, 95->[None, 96->[None, 97->[None, 98->[None, 99->[None, 100->[None, 101->[None, 102->[None, 103->[None, 104->[None, 105->[None, 106->[None, 107->[None, 108->[None, 109->[None, 110->[None, 111->[None, 112->[None, 113->[None, 114->[None, 115->[None, 116->[None, 117->[None, 118->[None, 119->[None, 120->[None, 121->[None, 122->[None, 123->[None, None]]]]]]]]]]]]]]]]]]]]]]]]]]]]]]]]]]]]]]]]]]]]]]]]]]]]]]]]]]]]]]]]]]]]]]]]]]]]]]]]]]]]]]]]]]]]]]]]]]]]]]]]]]]]]]]]]]]]]]]]]]]]"
      ]
     },
     "execution_count": 192,
     "metadata": {},
     "output_type": "execute_result"
    }
   ],
   "source": [
    "a"
   ]
  },
  {
   "cell_type": "markdown",
   "metadata": {
    "hidden": true
   },
   "source": [
    "A nawet drzewa od drzew"
   ]
  },
  {
   "cell_type": "code",
   "execution_count": 196,
   "metadata": {
    "hidden": true
   },
   "outputs": [],
   "source": [
    "a=BinaryTree(1,2,-3)"
   ]
  },
  {
   "cell_type": "code",
   "execution_count": 197,
   "metadata": {
    "hidden": true
   },
   "outputs": [
    {
     "data": {
      "text/plain": [
       "1->[-3->[None, None], 2->[None, None]]"
      ]
     },
     "execution_count": 197,
     "metadata": {},
     "output_type": "execute_result"
    }
   ],
   "source": [
    "a"
   ]
  },
  {
   "cell_type": "code",
   "execution_count": 198,
   "metadata": {
    "hidden": true
   },
   "outputs": [],
   "source": [
    "b=BinaryTree(a)"
   ]
  },
  {
   "cell_type": "code",
   "execution_count": 199,
   "metadata": {
    "hidden": true
   },
   "outputs": [
    {
     "data": {
      "text/plain": [
       "1->[-3->[None, None], 2->[None, None]]"
      ]
     },
     "execution_count": 199,
     "metadata": {},
     "output_type": "execute_result"
    }
   ],
   "source": [
    "b"
   ]
  },
  {
   "cell_type": "markdown",
   "metadata": {
    "hidden": true
   },
   "source": [
    "Nie mówiąc o towrzeniu kombinacji drzew z iteratorami i tym podobnymi"
   ]
  },
  {
   "cell_type": "code",
   "execution_count": 202,
   "metadata": {
    "hidden": true
   },
   "outputs": [],
   "source": [
    "b=BinaryTree(a for i in [1,1,1]) # 3 razy a"
   ]
  },
  {
   "cell_type": "code",
   "execution_count": 203,
   "metadata": {
    "hidden": true
   },
   "outputs": [
    {
     "data": {
      "text/plain": [
       "1->[-3->[None, None], 2->[None, 1->[-3->[None, None], 2->[None, 1->[-3->[None, None], 2->[None, None]]]]]]"
      ]
     },
     "execution_count": 203,
     "metadata": {},
     "output_type": "execute_result"
    }
   ],
   "source": [
    "b"
   ]
  },
  {
   "cell_type": "markdown",
   "metadata": {},
   "source": [
    "# Zadanie 2"
   ]
  },
  {
   "cell_type": "code",
   "execution_count": 204,
   "metadata": {
    "code_folding": []
   },
   "outputs": [],
   "source": [
    "import types\n",
    "import numpy as np\n",
    "\n",
    "class BinHeap:\n",
    "    def __init__(self,*items): # skrócenie nazw + możliwość podania elementów kopca przy dodawaniu\n",
    "        self.list = [0]\n",
    "        self.size = 0\n",
    "        self.add(*items)\n",
    "        \n",
    "    def percUp(self,i):\n",
    "        while i // 2 > 0:\n",
    "            if self.list[i] < self.list[i // 2]:\n",
    "                tmp = self.list[i // 2]\n",
    "                self.list[i // 2] = self.list[i]\n",
    "                self.list[i] = tmp\n",
    "            i = i // 2      \n",
    "        \n",
    "    def insert(self,k):\n",
    "        self.list.append(k)\n",
    "        self.size = self.size + 1\n",
    "        self.percUp(self.size)        \n",
    "        \n",
    "    def findMin(self):\n",
    "        if self.size==0:\n",
    "            raise IndexError(\"Kopiec jest pusty\")\n",
    "        return self.list[1]\n",
    "\n",
    "    def percDown(self,i):\n",
    "        while (i * 2) <= self.size:\n",
    "            mc = self.minChild(i)\n",
    "            if self.list[i] > self.list[mc]:\n",
    "                tmp = self.list[i]\n",
    "                self.list[i] = self.list[mc]\n",
    "                self.list[mc] = tmp\n",
    "            i = mc\n",
    "\n",
    "    def minChild(self,i):\n",
    "        if i * 2 + 1 > self.size:\n",
    "            return i * 2\n",
    "        else:\n",
    "            if self.list[i*2] < self.list[i*2+1]:\n",
    "                return i * 2\n",
    "            else:\n",
    "                return i * 2 + 1    \n",
    "            \n",
    "    def delMin(self):\n",
    "        if self.size==0:\n",
    "            raise IndexError(\"Kopiec jest pusty\")\n",
    "        retval = self.list[1]\n",
    "        self.list[1] = self.list[self.size]\n",
    "        self.size = self.size - 1\n",
    "        self.list.pop()\n",
    "        self.percDown(1)\n",
    "        return retval           \n",
    "    \n",
    "    def buildHeap(self,alist): # już nie potrzebne (jest to _clear i dodanie po prostu listy)\n",
    "        i = len(alist) // 2\n",
    "        self.size = len(alist)\n",
    "        self.list = [0] + alist[:]\n",
    "        while (i > 0):\n",
    "            self.percDown(i)\n",
    "            i = i - 1    \n",
    "            \n",
    "    def size(self):\n",
    "        return self.size\n",
    "    \n",
    "    def isEmpty(self):\n",
    "        return self.size == 0\n",
    "    \n",
    "    def __str__(self):\n",
    "        txt = \"{}\".format(self.list[1:])\n",
    "        return txt\n",
    "    \n",
    "##################################################################\n",
    "#                             Własne                             #\n",
    "##################################################################\n",
    "\n",
    "    def __repr__(self):\n",
    "        return str(self.list[1:])\n",
    "    \n",
    "    def __len__(self):\n",
    "        return self.size\n",
    "    \n",
    "    def add(self,*items): # by było można podawać wiele argumentów, wraz z kontenerami\n",
    "        for item in items:\n",
    "            if type(item) in (tuple, list):\n",
    "                self.add(*item)\n",
    "            elif type(item) in (dict, set):\n",
    "                self.add(*list(item))\n",
    "            elif type(item) == types.GeneratorType:\n",
    "                for i in item:\n",
    "                    self.add(i)\n",
    "            elif isinstance(item, np.ndarray):\n",
    "                item=list(item)\n",
    "                self.add(item)\n",
    "            else:\n",
    "                self.insert(item)\n",
    "\n",
    "    def _clear(self): # czyszczenie kopca (prywatna, by nie użyć przez przypadek)\n",
    "        self.list=[0]\n",
    "        self.size=0\n",
    "    \n",
    "    def sort(self):\n",
    "        sortedList=[]\n",
    "        s=self.size\n",
    "        while self.size>0:\n",
    "            sortedList.append(self.delMin())\n",
    "        self.list=[0]+sortedList\n",
    "        self.size=s"
   ]
  },
  {
   "cell_type": "code",
   "execution_count": 205,
   "metadata": {},
   "outputs": [],
   "source": [
    "from random import randint\n",
    "a=BinHeap(randint(-50,50) for i in range(31))"
   ]
  },
  {
   "cell_type": "code",
   "execution_count": 206,
   "metadata": {},
   "outputs": [
    {
     "data": {
      "text/plain": [
       "[-46, -39, -41, -33, -32, -27, -34, -33, -8, -32, -31, 16, -16, -13, 19, 50, 23, 43, 7, 38, -3, 41, 27, 39, 21, 37, 11, 38, 14, 43, 26]"
      ]
     },
     "execution_count": 206,
     "metadata": {},
     "output_type": "execute_result"
    }
   ],
   "source": [
    "a"
   ]
  },
  {
   "cell_type": "code",
   "execution_count": 207,
   "metadata": {},
   "outputs": [],
   "source": [
    "a.sort()"
   ]
  },
  {
   "cell_type": "code",
   "execution_count": 208,
   "metadata": {},
   "outputs": [
    {
     "data": {
      "text/plain": [
       "[-46, -41, -39, -34, -33, -33, -32, -32, -31, -27, -16, -13, -8, -3, 7, 11, 14, 16, 19, 21, 23, 26, 27, 37, 38, 38, 39, 41, 43, 43, 50]"
      ]
     },
     "execution_count": 208,
     "metadata": {},
     "output_type": "execute_result"
    }
   ],
   "source": [
    "a"
   ]
  },
  {
   "cell_type": "markdown",
   "metadata": {},
   "source": [
    "Co tu tłumaczyć, sortowanie przez kopcowanie"
   ]
  },
  {
   "cell_type": "markdown",
   "metadata": {
    "heading_collapsed": true
   },
   "source": [
    "## Szybki test"
   ]
  },
  {
   "cell_type": "code",
   "execution_count": 209,
   "metadata": {
    "hidden": true
   },
   "outputs": [],
   "source": [
    "from random import randint\n",
    "import numpy as np"
   ]
  },
  {
   "cell_type": "code",
   "execution_count": 210,
   "metadata": {
    "hidden": true
   },
   "outputs": [
    {
     "data": {
      "text/plain": [
       "-311579883951653978"
      ]
     },
     "execution_count": 210,
     "metadata": {},
     "output_type": "execute_result"
    }
   ],
   "source": [
    "randint(-2**60,2**60)"
   ]
  },
  {
   "cell_type": "code",
   "execution_count": 211,
   "metadata": {
    "hidden": true
   },
   "outputs": [
    {
     "ename": "ValueError",
     "evalue": "low is out of bounds for int32",
     "output_type": "error",
     "traceback": [
      "\u001b[1;31m---------------------------------------------------------------------------\u001b[0m",
      "\u001b[1;31mValueError\u001b[0m                                Traceback (most recent call last)",
      "\u001b[1;32m<ipython-input-211-dca632216ed4>\u001b[0m in \u001b[0;36m<module>\u001b[1;34m\u001b[0m\n\u001b[1;32m----> 1\u001b[1;33m \u001b[0mnp\u001b[0m\u001b[1;33m.\u001b[0m\u001b[0mrandom\u001b[0m\u001b[1;33m.\u001b[0m\u001b[0mrandint\u001b[0m\u001b[1;33m(\u001b[0m\u001b[1;33m-\u001b[0m\u001b[1;36m2\u001b[0m\u001b[1;33m**\u001b[0m\u001b[1;36m32\u001b[0m\u001b[1;33m,\u001b[0m\u001b[1;36m2\u001b[0m\u001b[1;33m**\u001b[0m\u001b[1;36m32\u001b[0m\u001b[1;33m)\u001b[0m\u001b[1;33m\u001b[0m\u001b[1;33m\u001b[0m\u001b[0m\n\u001b[0m",
      "\u001b[1;32mmtrand.pyx\u001b[0m in \u001b[0;36mnumpy.random.mtrand.RandomState.randint\u001b[1;34m()\u001b[0m\n",
      "\u001b[1;32m_bounded_integers.pyx\u001b[0m in \u001b[0;36mnumpy.random._bounded_integers._rand_int32\u001b[1;34m()\u001b[0m\n",
      "\u001b[1;31mValueError\u001b[0m: low is out of bounds for int32"
     ]
    }
   ],
   "source": [
    "np.random.randint(-2**32,2**32)"
   ]
  },
  {
   "cell_type": "code",
   "execution_count": 212,
   "metadata": {
    "hidden": true
   },
   "outputs": [
    {
     "name": "stdout",
     "output_type": "stream",
     "text": [
      "827 ns ± 7.66 ns per loop (mean ± std. dev. of 7 runs, 1000000 loops each)\n"
     ]
    }
   ],
   "source": [
    "%%timeit\n",
    "randint(-2**31,2**31)"
   ]
  },
  {
   "cell_type": "code",
   "execution_count": 34,
   "metadata": {
    "hidden": true
   },
   "outputs": [
    {
     "name": "stdout",
     "output_type": "stream",
     "text": [
      "764 ns ± 4.48 ns per loop (mean ± std. dev. of 7 runs, 1000000 loops each)\n"
     ]
    }
   ],
   "source": [
    "%%timeit\n",
    "randint(-2**10,2**10)"
   ]
  },
  {
   "cell_type": "code",
   "execution_count": 35,
   "metadata": {
    "hidden": true
   },
   "outputs": [
    {
     "name": "stdout",
     "output_type": "stream",
     "text": [
      "2.58 µs ± 5.77 ns per loop (mean ± std. dev. of 7 runs, 100000 loops each)\n"
     ]
    }
   ],
   "source": [
    "%%timeit\n",
    "np.random.randint(-2**31,2**31)"
   ]
  },
  {
   "cell_type": "code",
   "execution_count": 36,
   "metadata": {
    "hidden": true
   },
   "outputs": [
    {
     "name": "stdout",
     "output_type": "stream",
     "text": [
      "881 µs ± 1.86 µs per loop (mean ± std. dev. of 7 runs, 1000 loops each)\n"
     ]
    }
   ],
   "source": [
    "%%timeit\n",
    "[randint(-2**31,2**31) for _ in range(2**10)]"
   ]
  },
  {
   "cell_type": "code",
   "execution_count": 37,
   "metadata": {
    "hidden": true
   },
   "outputs": [
    {
     "name": "stdout",
     "output_type": "stream",
     "text": [
      "10.2 µs ± 57.9 ns per loop (mean ± std. dev. of 7 runs, 100000 loops each)\n"
     ]
    }
   ],
   "source": [
    "%%timeit\n",
    "np.random.randint(-2**31,2**31,2**10)"
   ]
  },
  {
   "cell_type": "code",
   "execution_count": 38,
   "metadata": {
    "hidden": true
   },
   "outputs": [
    {
     "name": "stdout",
     "output_type": "stream",
     "text": [
      "107 µs ± 602 ns per loop (mean ± std. dev. of 7 runs, 10000 loops each)\n"
     ]
    }
   ],
   "source": [
    "%%timeit\n",
    "np.random.randint(-2**31,2**31,2**15)"
   ]
  },
  {
   "cell_type": "code",
   "execution_count": 39,
   "metadata": {
    "hidden": true
   },
   "outputs": [
    {
     "name": "stdout",
     "output_type": "stream",
     "text": [
      "3.89 ms ± 40.6 µs per loop (mean ± std. dev. of 7 runs, 100 loops each)\n"
     ]
    }
   ],
   "source": [
    "%%timeit\n",
    "np.random.randint(-2**31,2**31,2**20)"
   ]
  },
  {
   "cell_type": "code",
   "execution_count": 40,
   "metadata": {
    "hidden": true
   },
   "outputs": [
    {
     "name": "stdout",
     "output_type": "stream",
     "text": [
      "8.41 s ± 863 ms per loop (mean ± std. dev. of 7 runs, 1 loop each)\n"
     ]
    }
   ],
   "source": [
    "%%timeit\n",
    "np.random.randint(-2**31,2**31,2**31)"
   ]
  },
  {
   "cell_type": "markdown",
   "metadata": {
    "hidden": true
   },
   "source": [
    "Losując pojedyńcze liczby tradycyjna bibliotego zwycięża, ale jeśli chcemy mieć listę liczb losowych to numpy nie ma sobie równych, ale nie możemy losować przy jego urzyciu liczb większych (i więcej liczb) niż 2**31"
   ]
  },
  {
   "cell_type": "markdown",
   "metadata": {},
   "source": [
    "## Test właściwy"
   ]
  },
  {
   "cell_type": "markdown",
   "metadata": {},
   "source": [
    "Poniżej pojawiają się powiadomienia o błędach. Są to przerwania wykonywania iteracji. Zrobiłem delikatny błąd rachunkowy i zamiast planowanego wykonania programu w ciągu 8 godzin, wykonywałby się ponad 24. Nie puszaczałem symulacji jeszcze raz, tylko ograniczyłem liczbę wyników to tych które zdążyły się wykonać"
   ]
  },
  {
   "cell_type": "code",
   "execution_count": 46,
   "metadata": {},
   "outputs": [
    {
     "ename": "KeyboardInterrupt",
     "evalue": "",
     "output_type": "error",
     "traceback": [
      "\u001b[1;31m---------------------------------------------------------------------------\u001b[0m",
      "\u001b[1;31mKeyboardInterrupt\u001b[0m                         Traceback (most recent call last)",
      "\u001b[1;32m<ipython-input-46-0a11c17ee2f6>\u001b[0m in \u001b[0;36m<module>\u001b[1;34m\u001b[0m\n\u001b[0;32m     10\u001b[0m     \u001b[0ma\u001b[0m\u001b[1;33m=\u001b[0m\u001b[0mBinHeap\u001b[0m\u001b[1;33m(\u001b[0m\u001b[0mnumbers\u001b[0m\u001b[1;33m[\u001b[0m\u001b[1;33m:\u001b[0m\u001b[1;36m2\u001b[0m\u001b[1;33m**\u001b[0m\u001b[0mi\u001b[0m\u001b[1;33m]\u001b[0m\u001b[1;33m)\u001b[0m\u001b[1;33m\u001b[0m\u001b[1;33m\u001b[0m\u001b[0m\n\u001b[0;32m     11\u001b[0m     \u001b[0mT\u001b[0m\u001b[1;33m=\u001b[0m\u001b[0mtime\u001b[0m\u001b[1;33m.\u001b[0m\u001b[0mtime\u001b[0m\u001b[1;33m(\u001b[0m\u001b[1;33m)\u001b[0m\u001b[1;33m\u001b[0m\u001b[1;33m\u001b[0m\u001b[0m\n\u001b[1;32m---> 12\u001b[1;33m     \u001b[0ma\u001b[0m\u001b[1;33m.\u001b[0m\u001b[0msort\u001b[0m\u001b[1;33m(\u001b[0m\u001b[1;33m)\u001b[0m\u001b[1;33m\u001b[0m\u001b[1;33m\u001b[0m\u001b[0m\n\u001b[0m\u001b[0;32m     13\u001b[0m     \u001b[0mtimes\u001b[0m\u001b[1;33m[\u001b[0m\u001b[0mi\u001b[0m\u001b[1;33m]\u001b[0m\u001b[1;33m=\u001b[0m\u001b[0mtime\u001b[0m\u001b[1;33m.\u001b[0m\u001b[0mtime\u001b[0m\u001b[1;33m(\u001b[0m\u001b[1;33m)\u001b[0m\u001b[1;33m-\u001b[0m\u001b[0mT\u001b[0m\u001b[1;33m\u001b[0m\u001b[1;33m\u001b[0m\u001b[0m\n",
      "\u001b[1;32m<ipython-input-1-1dd12c072ab6>\u001b[0m in \u001b[0;36msort\u001b[1;34m(self)\u001b[0m\n\u001b[0;32m    117\u001b[0m         \u001b[0ms\u001b[0m\u001b[1;33m=\u001b[0m\u001b[0mself\u001b[0m\u001b[1;33m.\u001b[0m\u001b[0msize\u001b[0m\u001b[1;33m\u001b[0m\u001b[1;33m\u001b[0m\u001b[0m\n\u001b[0;32m    118\u001b[0m         \u001b[1;32mwhile\u001b[0m \u001b[0mself\u001b[0m\u001b[1;33m.\u001b[0m\u001b[0msize\u001b[0m\u001b[1;33m>\u001b[0m\u001b[1;36m0\u001b[0m\u001b[1;33m:\u001b[0m\u001b[1;33m\u001b[0m\u001b[1;33m\u001b[0m\u001b[0m\n\u001b[1;32m--> 119\u001b[1;33m             \u001b[0msortedList\u001b[0m\u001b[1;33m.\u001b[0m\u001b[0mappend\u001b[0m\u001b[1;33m(\u001b[0m\u001b[0mself\u001b[0m\u001b[1;33m.\u001b[0m\u001b[0mdelMin\u001b[0m\u001b[1;33m(\u001b[0m\u001b[1;33m)\u001b[0m\u001b[1;33m)\u001b[0m\u001b[1;33m\u001b[0m\u001b[1;33m\u001b[0m\u001b[0m\n\u001b[0m\u001b[0;32m    120\u001b[0m         \u001b[0mself\u001b[0m\u001b[1;33m.\u001b[0m\u001b[0mlist\u001b[0m\u001b[1;33m=\u001b[0m\u001b[1;33m[\u001b[0m\u001b[1;36m0\u001b[0m\u001b[1;33m]\u001b[0m\u001b[1;33m+\u001b[0m\u001b[0msortedList\u001b[0m\u001b[1;33m\u001b[0m\u001b[1;33m\u001b[0m\u001b[0m\n\u001b[0;32m    121\u001b[0m         \u001b[0mself\u001b[0m\u001b[1;33m.\u001b[0m\u001b[0msize\u001b[0m\u001b[1;33m=\u001b[0m\u001b[0ms\u001b[0m\u001b[1;33m\u001b[0m\u001b[1;33m\u001b[0m\u001b[0m\n",
      "\u001b[1;32m<ipython-input-1-1dd12c072ab6>\u001b[0m in \u001b[0;36mdelMin\u001b[1;34m(self)\u001b[0m\n\u001b[0;32m     52\u001b[0m         \u001b[0mself\u001b[0m\u001b[1;33m.\u001b[0m\u001b[0msize\u001b[0m \u001b[1;33m=\u001b[0m \u001b[0mself\u001b[0m\u001b[1;33m.\u001b[0m\u001b[0msize\u001b[0m \u001b[1;33m-\u001b[0m \u001b[1;36m1\u001b[0m\u001b[1;33m\u001b[0m\u001b[1;33m\u001b[0m\u001b[0m\n\u001b[0;32m     53\u001b[0m         \u001b[0mself\u001b[0m\u001b[1;33m.\u001b[0m\u001b[0mlist\u001b[0m\u001b[1;33m.\u001b[0m\u001b[0mpop\u001b[0m\u001b[1;33m(\u001b[0m\u001b[1;33m)\u001b[0m\u001b[1;33m\u001b[0m\u001b[1;33m\u001b[0m\u001b[0m\n\u001b[1;32m---> 54\u001b[1;33m         \u001b[0mself\u001b[0m\u001b[1;33m.\u001b[0m\u001b[0mpercDown\u001b[0m\u001b[1;33m(\u001b[0m\u001b[1;36m1\u001b[0m\u001b[1;33m)\u001b[0m\u001b[1;33m\u001b[0m\u001b[1;33m\u001b[0m\u001b[0m\n\u001b[0m\u001b[0;32m     55\u001b[0m         \u001b[1;32mreturn\u001b[0m \u001b[0mretval\u001b[0m\u001b[1;33m\u001b[0m\u001b[1;33m\u001b[0m\u001b[0m\n\u001b[0;32m     56\u001b[0m \u001b[1;33m\u001b[0m\u001b[0m\n",
      "\u001b[1;32m<ipython-input-1-1dd12c072ab6>\u001b[0m in \u001b[0;36mpercDown\u001b[1;34m(self, i)\u001b[0m\n\u001b[0;32m     31\u001b[0m             \u001b[0mmc\u001b[0m \u001b[1;33m=\u001b[0m \u001b[0mself\u001b[0m\u001b[1;33m.\u001b[0m\u001b[0mminChild\u001b[0m\u001b[1;33m(\u001b[0m\u001b[0mi\u001b[0m\u001b[1;33m)\u001b[0m\u001b[1;33m\u001b[0m\u001b[1;33m\u001b[0m\u001b[0m\n\u001b[0;32m     32\u001b[0m             \u001b[1;32mif\u001b[0m \u001b[0mself\u001b[0m\u001b[1;33m.\u001b[0m\u001b[0mlist\u001b[0m\u001b[1;33m[\u001b[0m\u001b[0mi\u001b[0m\u001b[1;33m]\u001b[0m \u001b[1;33m>\u001b[0m \u001b[0mself\u001b[0m\u001b[1;33m.\u001b[0m\u001b[0mlist\u001b[0m\u001b[1;33m[\u001b[0m\u001b[0mmc\u001b[0m\u001b[1;33m]\u001b[0m\u001b[1;33m:\u001b[0m\u001b[1;33m\u001b[0m\u001b[1;33m\u001b[0m\u001b[0m\n\u001b[1;32m---> 33\u001b[1;33m                 \u001b[0mtmp\u001b[0m \u001b[1;33m=\u001b[0m \u001b[0mself\u001b[0m\u001b[1;33m.\u001b[0m\u001b[0mlist\u001b[0m\u001b[1;33m[\u001b[0m\u001b[0mi\u001b[0m\u001b[1;33m]\u001b[0m\u001b[1;33m\u001b[0m\u001b[1;33m\u001b[0m\u001b[0m\n\u001b[0m\u001b[0;32m     34\u001b[0m                 \u001b[0mself\u001b[0m\u001b[1;33m.\u001b[0m\u001b[0mlist\u001b[0m\u001b[1;33m[\u001b[0m\u001b[0mi\u001b[0m\u001b[1;33m]\u001b[0m \u001b[1;33m=\u001b[0m \u001b[0mself\u001b[0m\u001b[1;33m.\u001b[0m\u001b[0mlist\u001b[0m\u001b[1;33m[\u001b[0m\u001b[0mmc\u001b[0m\u001b[1;33m]\u001b[0m\u001b[1;33m\u001b[0m\u001b[1;33m\u001b[0m\u001b[0m\n\u001b[0;32m     35\u001b[0m                 \u001b[0mself\u001b[0m\u001b[1;33m.\u001b[0m\u001b[0mlist\u001b[0m\u001b[1;33m[\u001b[0m\u001b[0mmc\u001b[0m\u001b[1;33m]\u001b[0m \u001b[1;33m=\u001b[0m \u001b[0mtmp\u001b[0m\u001b[1;33m\u001b[0m\u001b[1;33m\u001b[0m\u001b[0m\n",
      "\u001b[1;31mKeyboardInterrupt\u001b[0m: "
     ]
    }
   ],
   "source": [
    "import time\n",
    "import numpy as np\n",
    "from random import randint\n",
    "\n",
    "n=31\n",
    "times=np.zeros(n+1)\n",
    "numbers=np.random.randint(-2**n,2**n,2**n)\n",
    "\n",
    "for i in range(n+1):\n",
    "    a=BinHeap(numbers[:2**i])\n",
    "    T=time.time()\n",
    "    a.sort()\n",
    "    times[i]=time.time()-T"
   ]
  },
  {
   "cell_type": "code",
   "execution_count": 47,
   "metadata": {},
   "outputs": [
    {
     "data": {
      "text/plain": [
       "array([1.00350380e-03, 0.00000000e+00, 0.00000000e+00, 0.00000000e+00,\n",
       "       0.00000000e+00, 0.00000000e+00, 0.00000000e+00, 1.00088120e-03,\n",
       "       2.99978256e-03, 3.00002098e-03, 7.00163841e-03, 1.89836025e-02,\n",
       "       3.20072174e-02, 7.10296631e-02, 1.63076878e-01, 3.38948488e-01,\n",
       "       7.46915102e-01, 1.66279936e+00, 3.68977952e+00, 7.81150126e+00,\n",
       "       1.69718349e+01, 3.62357903e+01, 7.84339437e+01, 1.68431542e+02,\n",
       "       3.64554195e+02, 7.74962467e+02, 0.00000000e+00, 0.00000000e+00,\n",
       "       0.00000000e+00, 0.00000000e+00, 0.00000000e+00, 0.00000000e+00])"
      ]
     },
     "execution_count": 47,
     "metadata": {},
     "output_type": "execute_result"
    }
   ],
   "source": [
    "times"
   ]
  },
  {
   "cell_type": "code",
   "execution_count": 48,
   "metadata": {},
   "outputs": [
    {
     "ename": "KeyboardInterrupt",
     "evalue": "",
     "output_type": "error",
     "traceback": [
      "\u001b[1;31m---------------------------------------------------------------------------\u001b[0m",
      "\u001b[1;31mKeyboardInterrupt\u001b[0m                         Traceback (most recent call last)",
      "\u001b[1;32m<ipython-input-48-66a24169f6f1>\u001b[0m in \u001b[0;36m<module>\u001b[1;34m\u001b[0m\n\u001b[0;32m      9\u001b[0m \u001b[1;33m\u001b[0m\u001b[0m\n\u001b[0;32m     10\u001b[0m \u001b[1;32mfor\u001b[0m \u001b[0mi\u001b[0m \u001b[1;32min\u001b[0m \u001b[0mrange\u001b[0m\u001b[1;33m(\u001b[0m\u001b[0mn\u001b[0m\u001b[1;33m+\u001b[0m\u001b[1;36m1\u001b[0m\u001b[1;33m)\u001b[0m\u001b[1;33m:\u001b[0m\u001b[1;33m\u001b[0m\u001b[1;33m\u001b[0m\u001b[0m\n\u001b[1;32m---> 11\u001b[1;33m     \u001b[0ma\u001b[0m\u001b[1;33m=\u001b[0m\u001b[0mBinHeap\u001b[0m\u001b[1;33m(\u001b[0m\u001b[0mnumbers\u001b[0m\u001b[1;33m[\u001b[0m\u001b[1;33m:\u001b[0m\u001b[1;36m2\u001b[0m\u001b[1;33m**\u001b[0m\u001b[0mi\u001b[0m\u001b[1;33m]\u001b[0m\u001b[1;33m)\u001b[0m\u001b[1;33m\u001b[0m\u001b[1;33m\u001b[0m\u001b[0m\n\u001b[0m\u001b[0;32m     12\u001b[0m     \u001b[0mT\u001b[0m\u001b[1;33m=\u001b[0m\u001b[0mtime\u001b[0m\u001b[1;33m.\u001b[0m\u001b[0mtime\u001b[0m\u001b[1;33m(\u001b[0m\u001b[1;33m)\u001b[0m\u001b[1;33m\u001b[0m\u001b[1;33m\u001b[0m\u001b[0m\n\u001b[0;32m     13\u001b[0m     \u001b[0ma\u001b[0m\u001b[1;33m.\u001b[0m\u001b[0msort\u001b[0m\u001b[1;33m(\u001b[0m\u001b[1;33m)\u001b[0m\u001b[1;33m\u001b[0m\u001b[1;33m\u001b[0m\u001b[0m\n",
      "\u001b[1;32m<ipython-input-1-1dd12c072ab6>\u001b[0m in \u001b[0;36m__init__\u001b[1;34m(self, *items)\u001b[0m\n\u001b[0;32m      7\u001b[0m         \u001b[0mself\u001b[0m\u001b[1;33m.\u001b[0m\u001b[0mlist\u001b[0m \u001b[1;33m=\u001b[0m \u001b[1;33m[\u001b[0m\u001b[1;36m0\u001b[0m\u001b[1;33m]\u001b[0m\u001b[1;33m\u001b[0m\u001b[1;33m\u001b[0m\u001b[0m\n\u001b[0;32m      8\u001b[0m         \u001b[0mself\u001b[0m\u001b[1;33m.\u001b[0m\u001b[0msize\u001b[0m \u001b[1;33m=\u001b[0m \u001b[1;36m0\u001b[0m\u001b[1;33m\u001b[0m\u001b[1;33m\u001b[0m\u001b[0m\n\u001b[1;32m----> 9\u001b[1;33m         \u001b[0mself\u001b[0m\u001b[1;33m.\u001b[0m\u001b[0madd\u001b[0m\u001b[1;33m(\u001b[0m\u001b[1;33m*\u001b[0m\u001b[0mitems\u001b[0m\u001b[1;33m)\u001b[0m\u001b[1;33m\u001b[0m\u001b[1;33m\u001b[0m\u001b[0m\n\u001b[0m\u001b[0;32m     10\u001b[0m \u001b[1;33m\u001b[0m\u001b[0m\n\u001b[0;32m     11\u001b[0m     \u001b[1;32mdef\u001b[0m \u001b[0mpercUp\u001b[0m\u001b[1;33m(\u001b[0m\u001b[0mself\u001b[0m\u001b[1;33m,\u001b[0m\u001b[0mi\u001b[0m\u001b[1;33m)\u001b[0m\u001b[1;33m:\u001b[0m\u001b[1;33m\u001b[0m\u001b[1;33m\u001b[0m\u001b[0m\n",
      "\u001b[1;32m<ipython-input-1-1dd12c072ab6>\u001b[0m in \u001b[0;36madd\u001b[1;34m(self, *items)\u001b[0m\n\u001b[0;32m     94\u001b[0m             \u001b[1;32melif\u001b[0m \u001b[0misinstance\u001b[0m\u001b[1;33m(\u001b[0m\u001b[0mitem\u001b[0m\u001b[1;33m,\u001b[0m \u001b[0mnp\u001b[0m\u001b[1;33m.\u001b[0m\u001b[0mndarray\u001b[0m\u001b[1;33m)\u001b[0m\u001b[1;33m:\u001b[0m\u001b[1;33m\u001b[0m\u001b[1;33m\u001b[0m\u001b[0m\n\u001b[0;32m     95\u001b[0m                 \u001b[0mitem\u001b[0m\u001b[1;33m=\u001b[0m\u001b[0mlist\u001b[0m\u001b[1;33m(\u001b[0m\u001b[0mitem\u001b[0m\u001b[1;33m)\u001b[0m\u001b[1;33m\u001b[0m\u001b[1;33m\u001b[0m\u001b[0m\n\u001b[1;32m---> 96\u001b[1;33m                 \u001b[0mself\u001b[0m\u001b[1;33m.\u001b[0m\u001b[0madd\u001b[0m\u001b[1;33m(\u001b[0m\u001b[0mitem\u001b[0m\u001b[1;33m)\u001b[0m\u001b[1;33m\u001b[0m\u001b[1;33m\u001b[0m\u001b[0m\n\u001b[0m\u001b[0;32m     97\u001b[0m             \u001b[1;32melse\u001b[0m\u001b[1;33m:\u001b[0m\u001b[1;33m\u001b[0m\u001b[1;33m\u001b[0m\u001b[0m\n\u001b[0;32m     98\u001b[0m                 \u001b[0mself\u001b[0m\u001b[1;33m.\u001b[0m\u001b[0minsert\u001b[0m\u001b[1;33m(\u001b[0m\u001b[0mitem\u001b[0m\u001b[1;33m)\u001b[0m\u001b[1;33m\u001b[0m\u001b[1;33m\u001b[0m\u001b[0m\n",
      "\u001b[1;32m<ipython-input-1-1dd12c072ab6>\u001b[0m in \u001b[0;36madd\u001b[1;34m(self, *items)\u001b[0m\n\u001b[0;32m     86\u001b[0m         \u001b[1;32mfor\u001b[0m \u001b[0mitem\u001b[0m \u001b[1;32min\u001b[0m \u001b[0mitems\u001b[0m\u001b[1;33m:\u001b[0m\u001b[1;33m\u001b[0m\u001b[1;33m\u001b[0m\u001b[0m\n\u001b[0;32m     87\u001b[0m             \u001b[1;32mif\u001b[0m \u001b[0mtype\u001b[0m\u001b[1;33m(\u001b[0m\u001b[0mitem\u001b[0m\u001b[1;33m)\u001b[0m \u001b[1;32min\u001b[0m \u001b[1;33m(\u001b[0m\u001b[0mtuple\u001b[0m\u001b[1;33m,\u001b[0m \u001b[0mlist\u001b[0m\u001b[1;33m)\u001b[0m\u001b[1;33m:\u001b[0m\u001b[1;33m\u001b[0m\u001b[1;33m\u001b[0m\u001b[0m\n\u001b[1;32m---> 88\u001b[1;33m                 \u001b[0mself\u001b[0m\u001b[1;33m.\u001b[0m\u001b[0madd\u001b[0m\u001b[1;33m(\u001b[0m\u001b[1;33m*\u001b[0m\u001b[0mitem\u001b[0m\u001b[1;33m)\u001b[0m\u001b[1;33m\u001b[0m\u001b[1;33m\u001b[0m\u001b[0m\n\u001b[0m\u001b[0;32m     89\u001b[0m             \u001b[1;32melif\u001b[0m \u001b[0mtype\u001b[0m\u001b[1;33m(\u001b[0m\u001b[0mitem\u001b[0m\u001b[1;33m)\u001b[0m \u001b[1;32min\u001b[0m \u001b[1;33m(\u001b[0m\u001b[0mdict\u001b[0m\u001b[1;33m,\u001b[0m \u001b[0mset\u001b[0m\u001b[1;33m)\u001b[0m\u001b[1;33m:\u001b[0m\u001b[1;33m\u001b[0m\u001b[1;33m\u001b[0m\u001b[0m\n\u001b[0;32m     90\u001b[0m                 \u001b[0mself\u001b[0m\u001b[1;33m.\u001b[0m\u001b[0madd\u001b[0m\u001b[1;33m(\u001b[0m\u001b[1;33m*\u001b[0m\u001b[0mlist\u001b[0m\u001b[1;33m(\u001b[0m\u001b[0mitem\u001b[0m\u001b[1;33m)\u001b[0m\u001b[1;33m)\u001b[0m\u001b[1;33m\u001b[0m\u001b[1;33m\u001b[0m\u001b[0m\n",
      "\u001b[1;32m<ipython-input-1-1dd12c072ab6>\u001b[0m in \u001b[0;36madd\u001b[1;34m(self, *items)\u001b[0m\n\u001b[0;32m     96\u001b[0m                 \u001b[0mself\u001b[0m\u001b[1;33m.\u001b[0m\u001b[0madd\u001b[0m\u001b[1;33m(\u001b[0m\u001b[0mitem\u001b[0m\u001b[1;33m)\u001b[0m\u001b[1;33m\u001b[0m\u001b[1;33m\u001b[0m\u001b[0m\n\u001b[0;32m     97\u001b[0m             \u001b[1;32melse\u001b[0m\u001b[1;33m:\u001b[0m\u001b[1;33m\u001b[0m\u001b[1;33m\u001b[0m\u001b[0m\n\u001b[1;32m---> 98\u001b[1;33m                 \u001b[0mself\u001b[0m\u001b[1;33m.\u001b[0m\u001b[0minsert\u001b[0m\u001b[1;33m(\u001b[0m\u001b[0mitem\u001b[0m\u001b[1;33m)\u001b[0m\u001b[1;33m\u001b[0m\u001b[1;33m\u001b[0m\u001b[0m\n\u001b[0m\u001b[0;32m     99\u001b[0m \u001b[1;33m\u001b[0m\u001b[0m\n\u001b[0;32m    100\u001b[0m     \u001b[1;32mdef\u001b[0m \u001b[0m_clear\u001b[0m\u001b[1;33m(\u001b[0m\u001b[0mself\u001b[0m\u001b[1;33m)\u001b[0m\u001b[1;33m:\u001b[0m \u001b[1;31m# czyszczenie kopca (prywatna, by nie użyć przez przypadek)\u001b[0m\u001b[1;33m\u001b[0m\u001b[1;33m\u001b[0m\u001b[0m\n",
      "\u001b[1;32m<ipython-input-1-1dd12c072ab6>\u001b[0m in \u001b[0;36minsert\u001b[1;34m(self, k)\u001b[0m\n\u001b[0;32m     20\u001b[0m         \u001b[0mself\u001b[0m\u001b[1;33m.\u001b[0m\u001b[0mlist\u001b[0m\u001b[1;33m.\u001b[0m\u001b[0mappend\u001b[0m\u001b[1;33m(\u001b[0m\u001b[0mk\u001b[0m\u001b[1;33m)\u001b[0m\u001b[1;33m\u001b[0m\u001b[1;33m\u001b[0m\u001b[0m\n\u001b[0;32m     21\u001b[0m         \u001b[0mself\u001b[0m\u001b[1;33m.\u001b[0m\u001b[0msize\u001b[0m \u001b[1;33m=\u001b[0m \u001b[0mself\u001b[0m\u001b[1;33m.\u001b[0m\u001b[0msize\u001b[0m \u001b[1;33m+\u001b[0m \u001b[1;36m1\u001b[0m\u001b[1;33m\u001b[0m\u001b[1;33m\u001b[0m\u001b[0m\n\u001b[1;32m---> 22\u001b[1;33m         \u001b[0mself\u001b[0m\u001b[1;33m.\u001b[0m\u001b[0mpercUp\u001b[0m\u001b[1;33m(\u001b[0m\u001b[0mself\u001b[0m\u001b[1;33m.\u001b[0m\u001b[0msize\u001b[0m\u001b[1;33m)\u001b[0m\u001b[1;33m\u001b[0m\u001b[1;33m\u001b[0m\u001b[0m\n\u001b[0m\u001b[0;32m     23\u001b[0m \u001b[1;33m\u001b[0m\u001b[0m\n\u001b[0;32m     24\u001b[0m     \u001b[1;32mdef\u001b[0m \u001b[0mfindMin\u001b[0m\u001b[1;33m(\u001b[0m\u001b[0mself\u001b[0m\u001b[1;33m)\u001b[0m\u001b[1;33m:\u001b[0m\u001b[1;33m\u001b[0m\u001b[1;33m\u001b[0m\u001b[0m\n",
      "\u001b[1;32m<ipython-input-1-1dd12c072ab6>\u001b[0m in \u001b[0;36mpercUp\u001b[1;34m(self, i)\u001b[0m\n\u001b[0;32m     11\u001b[0m     \u001b[1;32mdef\u001b[0m \u001b[0mpercUp\u001b[0m\u001b[1;33m(\u001b[0m\u001b[0mself\u001b[0m\u001b[1;33m,\u001b[0m\u001b[0mi\u001b[0m\u001b[1;33m)\u001b[0m\u001b[1;33m:\u001b[0m\u001b[1;33m\u001b[0m\u001b[1;33m\u001b[0m\u001b[0m\n\u001b[0;32m     12\u001b[0m         \u001b[1;32mwhile\u001b[0m \u001b[0mi\u001b[0m \u001b[1;33m//\u001b[0m \u001b[1;36m2\u001b[0m \u001b[1;33m>\u001b[0m \u001b[1;36m0\u001b[0m\u001b[1;33m:\u001b[0m\u001b[1;33m\u001b[0m\u001b[1;33m\u001b[0m\u001b[0m\n\u001b[1;32m---> 13\u001b[1;33m             \u001b[1;32mif\u001b[0m \u001b[0mself\u001b[0m\u001b[1;33m.\u001b[0m\u001b[0mlist\u001b[0m\u001b[1;33m[\u001b[0m\u001b[0mi\u001b[0m\u001b[1;33m]\u001b[0m \u001b[1;33m<\u001b[0m \u001b[0mself\u001b[0m\u001b[1;33m.\u001b[0m\u001b[0mlist\u001b[0m\u001b[1;33m[\u001b[0m\u001b[0mi\u001b[0m \u001b[1;33m//\u001b[0m \u001b[1;36m2\u001b[0m\u001b[1;33m]\u001b[0m\u001b[1;33m:\u001b[0m\u001b[1;33m\u001b[0m\u001b[1;33m\u001b[0m\u001b[0m\n\u001b[0m\u001b[0;32m     14\u001b[0m                 \u001b[0mtmp\u001b[0m \u001b[1;33m=\u001b[0m \u001b[0mself\u001b[0m\u001b[1;33m.\u001b[0m\u001b[0mlist\u001b[0m\u001b[1;33m[\u001b[0m\u001b[0mi\u001b[0m \u001b[1;33m//\u001b[0m \u001b[1;36m2\u001b[0m\u001b[1;33m]\u001b[0m\u001b[1;33m\u001b[0m\u001b[1;33m\u001b[0m\u001b[0m\n\u001b[0;32m     15\u001b[0m                 \u001b[0mself\u001b[0m\u001b[1;33m.\u001b[0m\u001b[0mlist\u001b[0m\u001b[1;33m[\u001b[0m\u001b[0mi\u001b[0m \u001b[1;33m//\u001b[0m \u001b[1;36m2\u001b[0m\u001b[1;33m]\u001b[0m \u001b[1;33m=\u001b[0m \u001b[0mself\u001b[0m\u001b[1;33m.\u001b[0m\u001b[0mlist\u001b[0m\u001b[1;33m[\u001b[0m\u001b[0mi\u001b[0m\u001b[1;33m]\u001b[0m\u001b[1;33m\u001b[0m\u001b[1;33m\u001b[0m\u001b[0m\n",
      "\u001b[1;31mKeyboardInterrupt\u001b[0m: "
     ]
    }
   ],
   "source": [
    "import time\n",
    "import numpy as np\n",
    "from random import randint\n",
    "\n",
    "n=31-2 #szacowany czas ostatniego 5-5.7h\n",
    "n=31-3 # szacowany czas ostatniego 2.3h\n",
    "Tim=np.zeros(n+1)\n",
    "numbers=np.random.randint(-2**n,2**n,2**n)\n",
    "\n",
    "for i in range(n+1):\n",
    "    a=BinHeap(numbers[:2**i])\n",
    "    T=time.time()\n",
    "    a.sort()\n",
    "    Tim[i]=time.time()-T"
   ]
  },
  {
   "cell_type": "code",
   "execution_count": 49,
   "metadata": {},
   "outputs": [
    {
     "data": {
      "text/plain": [
       "array([0.00000000e+00, 0.00000000e+00, 0.00000000e+00, 0.00000000e+00,\n",
       "       0.00000000e+00, 0.00000000e+00, 0.00000000e+00, 1.00040436e-03,\n",
       "       9.99927521e-04, 3.00073624e-03, 6.00147247e-03, 1.50039196e-02,\n",
       "       3.60085964e-02, 7.40170479e-02, 1.59030199e-01, 3.48716497e-01,\n",
       "       7.71439791e-01, 1.65170741e+00, 3.59301019e+00, 7.75503492e+00,\n",
       "       1.69674728e+01, 3.60844564e+01, 7.80425515e+01, 1.67152969e+02,\n",
       "       3.60247869e+02, 7.79478208e+02, 1.67020568e+03, 0.00000000e+00,\n",
       "       0.00000000e+00])"
      ]
     },
     "execution_count": 49,
     "metadata": {},
     "output_type": "execute_result"
    }
   ],
   "source": [
    "Tim"
   ]
  },
  {
   "cell_type": "code",
   "execution_count": 51,
   "metadata": {},
   "outputs": [],
   "source": [
    "import matplotlib.pyplot as plt"
   ]
  },
  {
   "cell_type": "code",
   "execution_count": 59,
   "metadata": {},
   "outputs": [],
   "source": [
    "y=times[:26]\n",
    "x=range(26)"
   ]
  },
  {
   "cell_type": "markdown",
   "metadata": {},
   "source": [
    "Poniżej jest wykres czasu wykonania funkcji (na czerwono). Jeśli porównamy z wykresem funkcji $n\\ln n$ (na niebiesko) to zauważymym, że obie funkcjie niemal dokładnie się pokrywają, nasza (czerwona) jest delikatni niżej, ponieważ w zależnośći od przypadku liczba wykonujemy mniej iteracji (tak jak można było się domyślać). Oczywiście oś niebieska i czerwona się różnią, ale różnica miedzy jedną a drugą to \"stała czasowa\" (na niebiesko ile zrobiliśmy iteracji, na czerwono jaki czas trwały. czerwony = niebieski * \"stała\")."
   ]
  },
  {
   "cell_type": "code",
   "execution_count": 62,
   "metadata": {},
   "outputs": [
    {
     "data": {
      "image/png": "[encoded data removed]",
      "text/plain": [
       "<Figure size 432x288 with 2 Axes>"
      ]
     },
     "metadata": {
      "needs_background": "light"
     },
     "output_type": "display_data"
    }
   ],
   "source": [
    "fig, ax1 = plt.subplots()\n",
    "\n",
    "color = 'tab:red'\n",
    "ax1.set_xlabel('$2^n$')\n",
    "ax1.set_ylabel('real time', color=color)\n",
    "ax1.plot(x, y, color=color)\n",
    "ax1.tick_params(axis='y', labelcolor=color)\n",
    "\n",
    "ax2 = ax1.twinx()  # instantiate a second axes that shares the same x-axis\n",
    "\n",
    "color = 'tab:blue'\n",
    "ax2.set_ylabel('$n\\ln(n)$', color=color)  # we already handled the x-label with ax1\n",
    "ax2.plot(x, [2**i*np.log(2**i) for i in x], color=color)\n",
    "ax2.tick_params(axis='y', labelcolor=color)\n",
    "\n",
    "fig.tight_layout()  # otherwise the right y-label is slightly clipped\n",
    "plt.show()"
   ]
  },
  {
   "cell_type": "code",
   "execution_count": 68,
   "metadata": {},
   "outputs": [],
   "source": [
    "y=Tim[:-2] # dwa ostatnie nie dały rady się zrobić\n",
    "x=range(len(Tim[:-2]))"
   ]
  },
  {
   "cell_type": "code",
   "execution_count": 71,
   "metadata": {},
   "outputs": [
    {
     "data": {
      "image/png": "[encoded data removed]",
      "text/plain": [
       "<Figure size 432x288 with 2 Axes>"
      ]
     },
     "metadata": {
      "needs_background": "light"
     },
     "output_type": "display_data"
    }
   ],
   "source": [
    "fig, ax1 = plt.subplots()\n",
    "\n",
    "color = 'tab:red'\n",
    "ax1.set_xlabel('$2^n$')\n",
    "ax1.set_ylabel('real time', color=color)\n",
    "ax1.plot(x, y, color=color)\n",
    "ax1.tick_params(axis='y', labelcolor=color)\n",
    "\n",
    "ax2 = ax1.twinx()  # instantiate a second axes that shares the same x-axis\n",
    "\n",
    "color = 'tab:blue'\n",
    "ax2.set_ylabel('$n\\ln(n)$', color=color)  # we already handled the x-label with ax1\n",
    "ax2.plot(x, [2**i*np.log(2**i) for i in x], color=color)\n",
    "ax2.tick_params(axis='y', labelcolor=color)\n",
    "\n",
    "fig.tight_layout()  # otherwise the right y-label is slightly clipped\n",
    "plt.show()"
   ]
  },
  {
   "cell_type": "markdown",
   "metadata": {},
   "source": [
    "Z wykresów możemy odczytać, że złożoność obliczeniowe jest rzędu $O(n\\ln n)$"
   ]
  },
  {
   "cell_type": "markdown",
   "metadata": {
    "heading_collapsed": true
   },
   "source": [
    "# Zadanie 3"
   ]
  },
  {
   "cell_type": "markdown",
   "metadata": {
    "hidden": true
   },
   "source": [
    "Jest to BinHeap z zmodyfikowanym jedynie konstruktorem oraz metodą insert"
   ]
  },
  {
   "cell_type": "code",
   "execution_count": 215,
   "metadata": {
    "code_folding": [
     3
    ],
    "hidden": true
   },
   "outputs": [],
   "source": [
    "import types\n",
    "import numpy as np\n",
    "\n",
    "class BinHeapN:\n",
    "    def __init__(self,n:int,*items): # n - maksymalna wielkość kopca\n",
    "        if type(n) is not int or not n >0:\n",
    "            raise ValueError(\"Maksymalna wielkość musi być liczbą naturalną (>0)\")\n",
    "        self.max_size=n\n",
    "        self.list = [0]\n",
    "        self.size = 0\n",
    "        self.add(*items)\n",
    "        \n",
    "    def percUp(self,i):\n",
    "        while i // 2 > 0:\n",
    "            if self.list[i] < self.list[i // 2]:\n",
    "                tmp = self.list[i // 2]\n",
    "                self.list[i // 2] = self.list[i]\n",
    "                self.list[i] = tmp\n",
    "            i = i // 2      \n",
    "        \n",
    "    def insert(self,k):\n",
    "        self.list.append(k)\n",
    "        self.size = self.size + 1\n",
    "        if self.size<=self.max_size: # jeśli wielkość jest mniejsza niż maksymalna\n",
    "            self.percUp(self.size)    \n",
    "        else: \n",
    "            if k>self.findMin(): # robi coś jeśli dodajemy element większy (mniejszy od razu jest usuwany)\n",
    "                self.percUp(self.size) \n",
    "                self.delMin()\n",
    "            else:\n",
    "                self.list.pop() # jeśli nowy jest najmniejszy do go usuwamy (dodany na końcu i jeszcze nie przesunięty)\n",
    "        \n",
    "    def findMin(self):\n",
    "        if self.size==0:\n",
    "            raise IndexError(\"Kopiec jest pusty\")\n",
    "        return self.list[1]\n",
    "\n",
    "    def percDown(self,i):\n",
    "        while (i * 2) <= self.size:\n",
    "            mc = self.minChild(i)\n",
    "            if self.list[i] > self.list[mc]:\n",
    "                tmp = self.list[i]\n",
    "                self.list[i] = self.list[mc]\n",
    "                self.list[mc] = tmp\n",
    "            i = mc\n",
    "\n",
    "    def minChild(self,i):\n",
    "        if i * 2 + 1 > self.size:\n",
    "            return i * 2\n",
    "        else:\n",
    "            if self.list[i*2] < self.list[i*2+1]:\n",
    "                return i * 2\n",
    "            else:\n",
    "                return i * 2 + 1    \n",
    "            \n",
    "    def delMin(self):\n",
    "        if self.size==0:\n",
    "            raise IndexError(\"Kopiec jest pusty\")\n",
    "        retval = self.list[1]\n",
    "        self.list[1] = self.list[self.size]\n",
    "        self.size = self.size - 1\n",
    "        self.list.pop()\n",
    "        self.percDown(1)\n",
    "        return retval           \n",
    "    \n",
    "    def buildHeap(self,alist):\n",
    "        i = len(alist) // 2\n",
    "        self.size = len(alist)\n",
    "        self.list = [0] + alist[:]\n",
    "        while (i > 0):\n",
    "            self.percDown(i)\n",
    "            i = i - 1    \n",
    "            \n",
    "    def size(self):\n",
    "        return self.size\n",
    "    \n",
    "    def isEmpty(self):\n",
    "        return self.size == 0\n",
    "    \n",
    "    def __str__(self):\n",
    "        txt = \"{}\".format(self.list[1:])\n",
    "        return txt\n",
    "    \n",
    "##################################################################\n",
    "#                             Własne                             #\n",
    "##################################################################\n",
    "\n",
    "    \"nie zmienione w stosunku do BinHeap\"\n",
    "\n",
    "    def __repr__(self):\n",
    "        return str(self.list[1:])\n",
    "    \n",
    "    def __len__(self):\n",
    "        return self.size\n",
    "    \n",
    "    def add(self,*items):\n",
    "        for item in items:\n",
    "            if type(item) in (tuple, list):\n",
    "                self.add(*item)\n",
    "            elif type(item) in (dict, set):\n",
    "                self.add(*list(item))\n",
    "            elif type(item) == types.GeneratorType:\n",
    "                for i in item:\n",
    "                    self.add(i)\n",
    "            elif isinstance(item, np.ndarray):\n",
    "                item=list(item)\n",
    "                self.add(item)\n",
    "            else:\n",
    "                self.insert(item)\n",
    "\n",
    "    def _clear(self):\n",
    "        self.list=[0]\n",
    "        self.size=0\n",
    "    \n",
    "    def sort(self):\n",
    "        sortedList=[]\n",
    "        s=self.size\n",
    "        while self.size>0:\n",
    "            sortedList.append(self.delMin())\n",
    "        self.list=[0]+sortedList\n",
    "        self.size=s"
   ]
  },
  {
   "cell_type": "code",
   "execution_count": 216,
   "metadata": {
    "hidden": true
   },
   "outputs": [],
   "source": [
    "a=BinHeapN(5,[2,3,2])"
   ]
  },
  {
   "cell_type": "code",
   "execution_count": 217,
   "metadata": {
    "hidden": true
   },
   "outputs": [
    {
     "data": {
      "text/plain": [
       "[2, 3, 2]"
      ]
     },
     "execution_count": 217,
     "metadata": {},
     "output_type": "execute_result"
    }
   ],
   "source": [
    "a"
   ]
  },
  {
   "cell_type": "code",
   "execution_count": 218,
   "metadata": {
    "hidden": true
   },
   "outputs": [],
   "source": [
    "a.add(12,12)"
   ]
  },
  {
   "cell_type": "code",
   "execution_count": 219,
   "metadata": {
    "hidden": true
   },
   "outputs": [
    {
     "data": {
      "text/plain": [
       "[2, 3, 2, 12, 12]"
      ]
     },
     "execution_count": 219,
     "metadata": {},
     "output_type": "execute_result"
    }
   ],
   "source": [
    "a"
   ]
  },
  {
   "cell_type": "code",
   "execution_count": 220,
   "metadata": {
    "hidden": true
   },
   "outputs": [],
   "source": [
    "a.add(3)"
   ]
  },
  {
   "cell_type": "code",
   "execution_count": 221,
   "metadata": {
    "hidden": true
   },
   "outputs": [
    {
     "data": {
      "text/plain": [
       "[2, 3, 3, 12, 12]"
      ]
     },
     "execution_count": 221,
     "metadata": {},
     "output_type": "execute_result"
    }
   ],
   "source": [
    "a"
   ]
  },
  {
   "cell_type": "code",
   "execution_count": 222,
   "metadata": {
    "hidden": true
   },
   "outputs": [],
   "source": [
    "a.add(5)"
   ]
  },
  {
   "cell_type": "code",
   "execution_count": 223,
   "metadata": {
    "hidden": true
   },
   "outputs": [
    {
     "data": {
      "text/plain": [
       "[3, 3, 5, 12, 12]"
      ]
     },
     "execution_count": 223,
     "metadata": {},
     "output_type": "execute_result"
    }
   ],
   "source": [
    "a"
   ]
  },
  {
   "cell_type": "code",
   "execution_count": 224,
   "metadata": {
    "hidden": true
   },
   "outputs": [
    {
     "data": {
      "text/plain": [
       "[3, 3, 5, 12, 12]"
      ]
     },
     "execution_count": 224,
     "metadata": {},
     "output_type": "execute_result"
    }
   ],
   "source": [
    "a #niezmienione bo 2<3"
   ]
  },
  {
   "cell_type": "markdown",
   "metadata": {},
   "source": [
    "# Zadanie 4"
   ]
  },
  {
   "cell_type": "markdown",
   "metadata": {},
   "source": [
    "Funkcja:\n",
    "- `derivate` pobiera wyrażenie matematyczne, łączy wszystkie inne funkcjie i zwraca drzewo wyrażenia matematycznego (`MathTree`).\n",
    "- `derivate_to_latex` działa podobnie jak poprzednia, ale pobiera od razu zmienną po której ma różniczkować i zwraca wynik\n",
    "- `prepare` zagnieżdża wyrażenia jedno w drugim (\"wstawia nawiasy\", ustala, że np. mnożenie robimy przed dodawaniem)\n",
    "- `correct` decyduje o kolejności działań w obrębie działań równoważnych (np. dla $a\\cdot b\\cdot c$ ustala, które mnożenie pierwsze"
   ]
  },
  {
   "cell_type": "code",
   "execution_count": 2,
   "metadata": {
    "code_folding": [
     0,
     10,
     20,
     36,
     37,
     54,
     71,
     91,
     112,
     132,
     153
    ]
   },
   "outputs": [],
   "source": [
    "def derivate(txt): # zwraca drzewko matematyczne\n",
    "    txt=txt.replace(\" \", \"\")\n",
    "    txt=txt.replace(\"**\", \"^\")\n",
    "    txt=txt.replace(\"\\\\\", \"/\")\n",
    "    txt=txt.replace(\":\", \"/\")\n",
    "    txt=txt.replace(\"arc\", \"a\")\n",
    "    \n",
    "    tree=MathTree(*prepare(txt))\n",
    "    return tree\n",
    "\n",
    "def derivate_to_latex(txt,variable):\n",
    "    txt=txt.replace(\" \", \"\")\n",
    "    txt=txt.replace(\"**\", \"^\")\n",
    "    txt=txt.replace(\"\\\\\", \"/\")\n",
    "    txt=txt.replace(\":\", \"/\")\n",
    "    txt=txt.replace(\"arc\", \"a\")\n",
    "    \n",
    "    tree=MathTree(*prepare(txt))\n",
    "    return \"$$\"+tree.derivate_to_latex(variable)+\"$$\" # zwraca pochodną w latexu\n",
    "\n",
    "def correct(equation,lvl=4):\n",
    "    # lvl - który operator rozpatrujemy (dzielenie przed mnożenim, odejmowanie przed dodawaniem)\n",
    "    operators=[\"+\",\"-\",\"*\",\"/\",\"^\"]\n",
    "    if operators[lvl] in (\"^\",):\n",
    "        reverse=True\n",
    "    else:\n",
    "        reverse=False\n",
    "    \n",
    "    for i in range(len(equation))[::(-1)**reverse]:\n",
    "        if equation[i] == operators[lvl]:\n",
    "            return correct(equation[:i-1]+[equation[i-1:i+2]]+equation[i+2:],lvl=lvl)\n",
    "        \n",
    "    if lvl>0:\n",
    "        return correct(equation,lvl=lvl-1)\n",
    "    return equation # Jeśli są działania równie ważne (np a*b*c), to wyznacza kolejność działania\n",
    "\n",
    "def prepare(txt): # Wyznacza kolejność działań itp.\n",
    "    function=[\n",
    "        [],\n",
    "        [],\n",
    "        [\"ln\"],\n",
    "        [\"log\",\"pow\",\"exp\",\"sin\",\"cos\",\"tan\",\"cot\",\"sec\"],\n",
    "        [\"sqrt\",\"log2\",\"asin\",\"acos\",\"atan\",\"acot\",\"sinh\",\"cosh\",\"tanh\",\"coth\",\"sech\"],\n",
    "        [\"log10\"],\n",
    "        [\"cosech\"]\n",
    "    ]\n",
    "\n",
    "    operators=[\"+\",\"-\",\"*\",\"/\",\"^\"]#,\"'\"]\n",
    "\n",
    "    unknown=False\n",
    "    res=[]\n",
    "    l=len(txt)\n",
    "    i=0\n",
    "    while i<l:\n",
    "        if txt[i]==\"(\":\n",
    "            par=0\n",
    "            j=i\n",
    "            while True:\n",
    "                if txt[j]==\"(\":\n",
    "                    par+=1\n",
    "\n",
    "                if txt[j]==\")\":\n",
    "                    par-=1\n",
    "\n",
    "                if par==0:\n",
    "                    break\n",
    "                j+=1\n",
    "            res.append(prepare(txt[i+1:j]))\n",
    "            i=j\n",
    "            unnown=True\n",
    "\n",
    "        elif txt[i:i+6] in function[6]:\n",
    "            j=i+6\n",
    "            if txt[j]==\"(\":\n",
    "                par=0\n",
    "                while True:\n",
    "                    if txt[j]==\"(\":\n",
    "                        par+=1\n",
    "\n",
    "                    if txt[j]==\")\":\n",
    "                        par-=1\n",
    "\n",
    "                    if par==0:\n",
    "                        break\n",
    "                    j+=1\n",
    "                res.append([txt[i:i+6],prepare(txt[i+6+1:j])])\n",
    "                i=j\n",
    "            else:\n",
    "                res.append([txt[i:i+6],txt[i+6]])\n",
    "            unnown=True\n",
    "\n",
    "        elif txt[i:i+5] in function[5]:\n",
    "            #res.append(txt[i:i+5])\n",
    "            j=i+5\n",
    "            if txt[j]==\"(\":\n",
    "                par=0\n",
    "                while True:\n",
    "                    if txt[j]==\"(\":\n",
    "                        par+=1\n",
    "\n",
    "                    if txt[j]==\")\":\n",
    "                        par-=1\n",
    "\n",
    "                    if par==0:\n",
    "                        break\n",
    "                    j+=1\n",
    "                res.append([txt[i:i+5],prepare(txt[i+5+1:j])])\n",
    "                i=j\n",
    "            else:\n",
    "                res.append([txt[i:i+5],txt[i+5]])\n",
    "            unnown=True\n",
    "\n",
    "        elif txt[i:i+4] in function[4]:\n",
    "            j=i+4\n",
    "            if txt[j]==\"(\":\n",
    "                par=0\n",
    "                while True:\n",
    "                    if txt[j]==\"(\":\n",
    "                        par+=1\n",
    "\n",
    "                    if txt[j]==\")\":\n",
    "                        par-=1\n",
    "\n",
    "                    if par==0:\n",
    "                        break\n",
    "                    j+=1\n",
    "                res.append([txt[i:i+4],prepare(txt[i+4+1:j])])\n",
    "                i=j\n",
    "            else:\n",
    "                res.append([txt[i:i+4],txt[i+4]])\n",
    "            unnown=True\n",
    "\n",
    "        elif txt[i:i+3] in function[3]:\n",
    "            #res.append(txt[i:i+3])\n",
    "            j=i+3\n",
    "            if txt[j]==\"(\":\n",
    "                par=0\n",
    "                while True:\n",
    "                    if txt[j]==\"(\":\n",
    "                        par+=1\n",
    "\n",
    "                    if txt[j]==\")\":\n",
    "                        par-=1\n",
    "\n",
    "                    if par==0:\n",
    "                        break\n",
    "                    j+=1\n",
    "                res.append([txt[i:i+3],prepare(txt[i+3+1:j])])\n",
    "                i=j\n",
    "            else:\n",
    "                res.append([txt[i:i+3],txt[i+3]])\n",
    "            unnown=True\n",
    "\n",
    "        elif txt[i:i+2] in function[2]:\n",
    "            #res.append(txt[i:i+2])\n",
    "            j=i+2\n",
    "            if txt[j]==\"(\":\n",
    "                par=0\n",
    "                while True:\n",
    "                    if txt[j]==\"(\":\n",
    "                        par+=1\n",
    "\n",
    "                    if txt[j]==\")\":\n",
    "                        par-=1\n",
    "\n",
    "                    if par==0:\n",
    "                        break\n",
    "                    j+=1\n",
    "                res.append([txt[i:i+2],prepare(txt[i+2+1:j])])\n",
    "                i=j\n",
    "            else:\n",
    "                res.append([txt[i:i+2],txt[i+2]])\n",
    "            unnown=True\n",
    "\n",
    "        elif txt[i] in operators:\n",
    "            res.append(txt[i])\n",
    "            unknown=False\n",
    "            \n",
    "        else:\n",
    "            if txt[i].isnumeric():\n",
    "                j=1\n",
    "                while txt[i:i+j+1].isnumeric() and j<l:\n",
    "                    j+=1\n",
    "                if unknown:\n",
    "                    res.append('*')\n",
    "                res.append(txt[i:i+j])\n",
    "                i+=j-1\n",
    "            else:\n",
    "                if unknown:\n",
    "                    res.append(\"*\")\n",
    "                res.append(txt[i])\n",
    "            unknown=True\n",
    "\n",
    "\n",
    "\n",
    "        i+=1    \n",
    "    res=correct(res)\n",
    "        \n",
    "    return res"
   ]
  },
  {
   "cell_type": "markdown",
   "metadata": {},
   "source": [
    "Classa `MathTree`, tu się dzieje cała magia. Pobiera wyrażenie matematyczne przygotowane przez funkcjie `prepare`. Takie wyrażenie jest to lista, która zawiera od 1 do 3 elementów. \n",
    " - Jeśli zawiera 1, to jest to zmienna, stała, albo liczba, z którą nic więcej nie robimy.\n",
    " - Przy 2 elementach otrzymujemy funkcjię. Pierwszy element to sama funkcja, drugi natomiast to jej argument. Argument jest zapisywany w lewej gałęzi\n",
    " - Może zawierać jeszcze 3 elementy. Wtedy dostajemy działanie na dwóch wyrażeniach. Pierwszy i trzeci to owe wyrażenia, środkowy to działanie między nimi. (Przykładowo $2^3$ daje `['2','^','3']`)\n",
    " \n",
    "Classa ta zawiera dwie metody\n",
    " - `__repr__` to wyświetlajnia wyrażenia, oraz zwracania wyniku (w kodzie $\\LaTeX$)\n",
    " - `derivare_to_latex` która zawiera całe mięsko i na niej się skupię"
   ]
  },
  {
   "cell_type": "markdown",
   "metadata": {},
   "source": [
    "Metoda ta pobiera zmienną po której chcemy różniczkować (jeśli jest ich za dużo, lub za mało zwraca błąd). Lista `function` zawiera listę obsługiwanych funkcji matematycznych, posegregowaną w listach wedługi długości ich nazw. Poniżej jest funkcja różniczkująca. Szuka operacji którą mamy wykonać i zwraca jej pochodną.<br>\n",
    "Metoda może różniczkować szeroką klasę funkcji (przykładowo $f(x)^{g(x)}$), ale przezto wyniki nie zawsze są w najprostszej postaci (nie skraca ich).<br>\n",
    "Przykładowo dla\n",
    "$$ f(x)=x^2,$$<br>\n",
    "funkcjia zwróci wynik, w którym każda działanie oraz liczba będzie w nawiasach, które po opuszczeniu wygląda następująco<br><br>\n",
    "$$ f'(x)=x^2\\cdot\\left(2\\cdot\\dfrac{1}{x}+\\ln x\\cdot 0\\right) $$<br>\n",
    "Wynik jest poprawny, natomiast nie skrócony (no można się przyczepić co dla $x<=0$)."
   ]
  },
  {
   "cell_type": "code",
   "execution_count": 107,
   "metadata": {
    "code_folding": [
     6,
     21,
     27,
     32
    ]
   },
   "outputs": [],
   "source": [
    "class MathTree:\n",
    "    \n",
    "    def __init__(self, equation):\n",
    "        self.key=None\n",
    "        self.left=None\n",
    "        self.right=None\n",
    "        if len(equation)==1 or type(equation)==str:\n",
    "            while type(equation) is list and len(equation) == 1:\n",
    "                equation=equation[0]\n",
    "\n",
    "            if type(equation) is list:\n",
    "                if len(equation)==2:\n",
    "                    self.key=equation[0]\n",
    "                    self.left=equation[1]\n",
    "                else:\n",
    "                    self.key=equation[1]\n",
    "                    self.left=equation[0]\n",
    "                    self.right=equation[2]\n",
    "            else:\n",
    "                self.key=equation\n",
    "            \n",
    "        elif len(equation)==2:\n",
    "            self.key=equation[0]\n",
    "            while type(equation[1]) is list and len(equation[1]) == 1:\n",
    "                equation[1]=equation[1][0]\n",
    "            self.left=MathTree(equation[1])\n",
    "            \n",
    "        elif len(equation)==3:\n",
    "            self.key=equation[1]\n",
    "            self.left=MathTree(equation[0])\n",
    "            self.right=MathTree(equation[2])\n",
    "            \n",
    "    def __repr__(self):\n",
    "        if self.right==None:\n",
    "            if self.left==None:\n",
    "                return self.key\n",
    "            else:\n",
    "                return self.key+r\"\\left(\"+str(self.left)+r\"\\right)\"\n",
    "        else:\n",
    "            return r\"\\left(\"+str(self.left)+r\"\\right)\" + self.key +r\"\\left(\"+str(self.right)+r\"\\right)\"\n",
    "\n",
    "        \n",
    "    def derivate_to_latex(self,variable):\n",
    "        if len(variable)!=1 or variable.isnumeric():\n",
    "            raise ValueError(\"Błędna zmienna\")\n",
    "            \n",
    "        function=[\n",
    "            [],\n",
    "            [],\n",
    "            [\"ln\"],\n",
    "            [\"log\",\"pow\",\"exp\",\"sin\",\"cos\",\"tan\",\"cot\",\"sec\",\"csch\"],\n",
    "            [\"sqrt\",\"log2\",\"asin\",\"acos\",\"atan\",\"acot\",\"sinh\",\"cosh\",\"tanh\",\"coth\",\"sech\"],\n",
    "            [\"log10\"],\n",
    "            []#[\"cosech\"]\n",
    "        ]\n",
    "        \n",
    "        \n",
    "        \n",
    "        if self.key in (\"+\",\"-\"):\n",
    "            return self.left.derivate_to_latex(variable) + self.key + self.right.derivate_to_latex(variable)\n",
    "        \n",
    "        elif self.key==\"*\":\n",
    "            return self.left.derivate_to_latex(variable)+r\"\\cdot \"+str(self.right)+r\"+\"+str(self.left)+r\"\\cdot \"+self.right.derivate_to_latex(variable)\n",
    "        \n",
    "        elif self.key==\"/\":\n",
    "            return r\"\\dfrac{\\left(\\left(\"+self.left.derivate_to_latex(variable)+r\"\\right)\\cdot \\left(\"+str(self.right)+r\"\\right)\\right) - \\left(\\left(\"+str(self.left)+r\"\\right)\\cdot \\left(\"+self.right.derivate_to_latex(variable)+\"\\right)\\right)}{\\left(\"+str(self.right)+\"\\right)^2}\"\n",
    "        \n",
    "        elif self.key==\"^\":\n",
    "            return r\"\\left(\"+str(self.left)+r\"\\right)^{\\left(\"+str(self.right)+r\"\\right)}\\cdot \\left(\\left(\"+str(self.right)+r\"\\right)\\cdot \\dfrac{\\left(\"+self.left.derivate_to_latex(variable)+r\"\\right)}{\\left(\"+str(self.left)+r\"\\right)}+\\ln\\left(\"+str(self.left)+r\"\\right)\\cdot \\left(\"+self.right.derivate_to_latex(variable)+r\"\\right)\\right)\"\n",
    "        \n",
    "        else:\n",
    "            if self.key==\"ln\":\n",
    "                return r\"\\dfrac{\"+self.left.derivate_to_latex(variable)+r\"}{\"+str(self.left)+r\"}\"\n",
    "            elif self.key==\"log\":\n",
    "                return r\"\\dfrac{\"+self.left.derivate_to_latex(variable)+r\"}{\\left(\"+str(self.left)+r\"\\right)\\cdot \\ln 10}\"\n",
    "            elif self.key==\"log2\":\n",
    "                return r\"\\dfrac{\"+self.left.derivate_to_latex(variable)+r\"}{\\left(\"+str(self.left)+r\"\\right)\\cdot \\ln 2}\"\n",
    "            elif self.key==\"exp\":\n",
    "                return r\"e^{\"+str(self.left)+r\"}\\cdot \\left(\"+self.left.derivate_to_latex(variable)+r\"\\right)\"\n",
    "            elif self.key==\"sin\":\n",
    "                return r\"\\cos\\left(\"+str(self.left)+r\"\\right)\\cdot \\left(\"+self.left.derivate_to_latex(variable)+r\"\\right)\"\n",
    "            elif self.key==\"cos\":\n",
    "                return r\"-\\sin\\left(\"+str(self.left)+r\"\\right)\\cdot \\left(\"+self.left.derivate_to_latex(variable)+r\"\\right)\"\n",
    "            elif self.key==\"tan\":\n",
    "                return r\"\\dfrac{\"+self.left.derivate_to_latex(variable)+r\"}{\\cos\\left(\"+str(self.left)+r\"\\right)}\"\n",
    "            elif self.key==\"cot\":\n",
    "                return r\"-\\dfrac{\"+self.left.derivate_to_latex(variable)+r\"}{\\sin\\left(\"+str(self.left)+r\"\\right)}\"\n",
    "            elif self.key==\"sec\":\n",
    "                return r\"\\sec\\left(\"+str(self.left)+r\"\\right)\\cdot \\tan\\left(\"+str(self.left)+r\"\\right)\\cdot \\left(\"+self.left.derivate_to_latex(variable)+r\"\\right)\"\n",
    "            elif self.key==\"csc\":\n",
    "                return r\"-\\csc\\left(\"+str(self.left)+r\"\\right)\\cdot \\cot\\left(\"+str(self.left)+r\"\\right)\\cdot \\left(\"+self.left.derivate_to_latex(variable)+r\"\\right)\"\n",
    "            elif self.key==\"sqrt\":\n",
    "                return r\"\\dfrac{\"+self.left.derivate_to_latex(variable)+r\"}{\\sqrt{}\"+str(self.left)+r\"}}\"\n",
    "            elif self.key==\"asin\":\n",
    "                return r\"\\dfrac{\"+self.left.derivate_to_latex(variable)+r\"}{\\sqrt{1-\\left(\"+str(self.left)+r\"\\right)^2}}\"\n",
    "            elif self.key==\"acos\":\n",
    "                return r\"-\\dfrac{\"+self.left.derivate_to_latex(variable)+r\"}{\\sqrt{1-\\left(\"+str(self.left)+r\"\\right)^2}}\"\n",
    "            elif self.key==\"\":\n",
    "                return r\"\\dfrac{\"+self.left.derivate_to_latex(variable)+r\"}{\\left(\"+str(self.left)+r\"\\right)^2+1}\"\n",
    "            elif self.key==\"\":\n",
    "                return r\"-\\dfrac{\"+self.left.derivate_to_latex(variable)+r\"}{\\left(\"+str(self.left)+r\"\\right)^2+1}\"\n",
    "            elif self.key==\"sinh\":\n",
    "                return r\"\\cosh\\left(\"+str(self.left)+r\"\\right)\\cdot \\left(\"+self.left.derivate_to_latex(variable)+r\"\\right)\"\n",
    "            elif self.key==\"cosh\":\n",
    "                return r\"\\sinh\\left(\"+str(self.left)+r\"\\right)\\cdot \\left(\"+self.left.derivate_to_latex(variable)+r\"\\right)\"\n",
    "            elif self.key==\"tanh\":\n",
    "                return r\"\\sech\\left(\"+str(self.left)+r\"\\right)^2\\cdot \\left(\"+self.left.derivate_to_latex(variable)+r\"\\right)\"\n",
    "            elif self.key==\"coth\":\n",
    "                return r\"-\\csch\\left(\"+str(self.left)+r\"\\right)^2\\cdot \\left(\"+self.left.derivate_to_latex(variable)+r\"\\right)\"\n",
    "            elif self.key==\"sech\":\n",
    "                return r\"-\\sech\\left(\"+str(self.left)+r\"\\right)\\cdot \\tanh\\left(\"+str(self.left)+r\"\\right)\\cdot \\left(\"+self.left.derivate_to_latex(variable)+r\"\\right)\"\n",
    "            elif self.key==\"\":\n",
    "                return r\"-\\sech\\left(\"+str(self.left)+r\"\\right)\\cdot \\tanh\\left(\"+str(self.left)+r\"\\right)\\cdot \\left(\"+self.left.derivate_to_latex(variable)+r\"\\right)\"\n",
    "            elif self.key==\"csch\":\n",
    "                return r\"-\\csch\\left(\"+str(self.left)+r\"\\right)\\cdot \\coth\\left(\"+str(self.left)+r\"\\right)\\cdot \\left(\"+self.left.derivate_to_latex(variable)+r\"\\right)\"\n",
    "            elif self.key==\"\":\n",
    "                return\n",
    "            elif self.key==\"\":\n",
    "                return\n",
    "            \n",
    "            if self.key==variable:\n",
    "                return r\"1\"\n",
    "            else:\n",
    "                return r\"0\"\n"
   ]
  },
  {
   "cell_type": "markdown",
   "metadata": {},
   "source": [
    "W przykładach kożystałem z rozszerzenia jupytera `Python Markdown`, które pozwala uzywać zmiennych jupytera (pythona) w markdown'ie. Przykładowo"
   ]
  },
  {
   "cell_type": "code",
   "execution_count": 23,
   "metadata": {},
   "outputs": [
    {
     "name": "stdout",
     "output_type": "stream",
     "text": [
      "$$\\left(x\\right)^{\\left(2\\right)}\\cdot \\left(\\left(2\\right)\\cdot \\dfrac{\\left(1\\right)}{\\left(x\\right)}+\\ln\\left(x\\right)\\cdot \\left(0\\right)\\right)$$\n"
     ]
    }
   ],
   "source": [
    "a=derivate_to_latex(\"x^2\",\"x\")\n",
    "print(a)"
   ]
  },
  {
   "cell_type": "markdown",
   "metadata": {},
   "source": [
    "Zamiast przekopiować powyższy kod wystarczy dać `{ {a} }` (użyłem teraz spacji by rozszerzenie nie działało), by otrzymać poniższy wynik"
   ]
  },
  {
   "cell_type": "markdown",
   "metadata": {
    "variables": {
     "a": "<p><strong>NameError</strong>: name &#39;a&#39; is not defined</p>\n"
    }
   },
   "source": [
    "{{a}}"
   ]
  },
  {
   "cell_type": "markdown",
   "metadata": {},
   "source": [
    "<b>Uwaga!</b>\n",
    "By dane rozszerzenie działało notatnik musi być zaufany, oraz niestety nie ma możliwości wyeksportować pliku z poniższymi wynikami."
   ]
  },
  {
   "cell_type": "markdown",
   "metadata": {},
   "source": [
    "Przykłądy innych pochodnych"
   ]
  },
  {
   "cell_type": "code",
   "execution_count": 32,
   "metadata": {},
   "outputs": [],
   "source": [
    "a=derivate_to_latex(\"x^x\",\"x\")"
   ]
  },
  {
   "cell_type": "markdown",
   "metadata": {
    "variables": {
     "a": "$$\\left(x\\right)^{\\left(x\\right)}\\cdot \\left(\\left(x\\right)\\cdot \\dfrac{\\left(1\\right)}{\\left(x\\right)}+\\ln\\left(x\\right)\\cdot \\left(1\\right)\\right)$$"
    }
   },
   "source": [
    "{{a}}"
   ]
  },
  {
   "cell_type": "code",
   "execution_count": 33,
   "metadata": {},
   "outputs": [],
   "source": [
    "a=derivate_to_latex(\"cos(x)^(sin(x)+x^2)\",\"x\")"
   ]
  },
  {
   "cell_type": "markdown",
   "metadata": {
    "variables": {
     "a": "$$\\left(cos\\left(x\\right)\\right)^{\\left(\\left(sin\\left(x\\right)\\right)+\\left(\\left(x\\right)^\\left(2\\right)\\right)\\right)}\\cdot \\left(\\left(\\left(sin\\left(x\\right)\\right)+\\left(\\left(x\\right)^\\left(2\\right)\\right)\\right)\\cdot \\dfrac{\\left(-\\sin\\left(x\\right)\\cdot \\left(1\\right)\\right)}{\\left(cos\\left(x\\right)\\right)}+\\ln\\left(cos\\left(x\\right)\\right)\\cdot \\left(\\cos\\left(x\\right)\\cdot \\left(1\\right)+\\left(x\\right)^{\\left(2\\right)}\\cdot \\left(\\left(2\\right)\\cdot \\dfrac{\\left(1\\right)}{\\left(x\\right)}+\\ln\\left(x\\right)\\cdot \\left(0\\right)\\right)\\right)\\right)$$"
    }
   },
   "source": [
    "{{a}}"
   ]
  },
  {
   "cell_type": "code",
   "execution_count": 34,
   "metadata": {},
   "outputs": [],
   "source": [
    "a=derivate_to_latex(\"ax^2+bx+c-12\",\"x\")"
   ]
  },
  {
   "cell_type": "markdown",
   "metadata": {
    "variables": {
     "a": "$$0\\cdot \\left(x\\right)^\\left(2\\right)+a\\cdot \\left(x\\right)^{\\left(2\\right)}\\cdot \\left(\\left(2\\right)\\cdot \\dfrac{\\left(1\\right)}{\\left(x\\right)}+\\ln\\left(x\\right)\\cdot \\left(0\\right)\\right)+0\\cdot x+b\\cdot 1+0-0$$"
    }
   },
   "source": [
    "Działą z parametrami\n",
    "{{a}}"
   ]
  },
  {
   "cell_type": "code",
   "execution_count": 35,
   "metadata": {},
   "outputs": [],
   "source": [
    "a=derivate_to_latex(\"ax^2+bx+c-12\",\"a\")"
   ]
  },
  {
   "cell_type": "markdown",
   "metadata": {
    "variables": {
     "a": "$$1\\cdot \\left(x\\right)^\\left(2\\right)+a\\cdot \\left(x\\right)^{\\left(2\\right)}\\cdot \\left(\\left(2\\right)\\cdot \\dfrac{\\left(0\\right)}{\\left(x\\right)}+\\ln\\left(x\\right)\\cdot \\left(0\\right)\\right)+0\\cdot x+b\\cdot 0+0-0$$"
    }
   },
   "source": [
    "Nieważne jakie wybierzemy (przykładowo a)\n",
    "{{a}}"
   ]
  },
  {
   "cell_type": "code",
   "execution_count": 31,
   "metadata": {},
   "outputs": [
    {
     "ename": "ValueError",
     "evalue": "Błędna zmienna",
     "output_type": "error",
     "traceback": [
      "\u001b[1;31m---------------------------------------------------------------------------\u001b[0m",
      "\u001b[1;31mValueError\u001b[0m                                Traceback (most recent call last)",
      "\u001b[1;32m<ipython-input-31-f065a5f7f65e>\u001b[0m in \u001b[0;36m<module>\u001b[1;34m\u001b[0m\n\u001b[1;32m----> 1\u001b[1;33m \u001b[0ma\u001b[0m\u001b[1;33m=\u001b[0m\u001b[0mderivate_to_latex\u001b[0m\u001b[1;33m(\u001b[0m\u001b[1;34m\"ax^2+bx+c-12\"\u001b[0m\u001b[1;33m,\u001b[0m\u001b[1;34m\"1\"\u001b[0m\u001b[1;33m)\u001b[0m\u001b[1;33m\u001b[0m\u001b[1;33m\u001b[0m\u001b[0m\n\u001b[0m",
      "\u001b[1;32m<ipython-input-2-82cbc111d9ed>\u001b[0m in \u001b[0;36mderivate_to_latex\u001b[1;34m(txt, variable)\u001b[0m\n\u001b[0;32m     17\u001b[0m \u001b[1;33m\u001b[0m\u001b[0m\n\u001b[0;32m     18\u001b[0m     \u001b[0mtree\u001b[0m\u001b[1;33m=\u001b[0m\u001b[0mMathTree\u001b[0m\u001b[1;33m(\u001b[0m\u001b[1;33m*\u001b[0m\u001b[0mprepare\u001b[0m\u001b[1;33m(\u001b[0m\u001b[0mtxt\u001b[0m\u001b[1;33m)\u001b[0m\u001b[1;33m)\u001b[0m\u001b[1;33m\u001b[0m\u001b[1;33m\u001b[0m\u001b[0m\n\u001b[1;32m---> 19\u001b[1;33m     \u001b[1;32mreturn\u001b[0m \u001b[1;34m\"$$\"\u001b[0m\u001b[1;33m+\u001b[0m\u001b[0mtree\u001b[0m\u001b[1;33m.\u001b[0m\u001b[0mderivate_to_latex\u001b[0m\u001b[1;33m(\u001b[0m\u001b[0mvariable\u001b[0m\u001b[1;33m)\u001b[0m\u001b[1;33m+\u001b[0m\u001b[1;34m\"$$\"\u001b[0m \u001b[1;31m# zwraca pochodną w latexu\u001b[0m\u001b[1;33m\u001b[0m\u001b[1;33m\u001b[0m\u001b[0m\n\u001b[0m\u001b[0;32m     20\u001b[0m \u001b[1;33m\u001b[0m\u001b[0m\n\u001b[0;32m     21\u001b[0m \u001b[1;32mdef\u001b[0m \u001b[0mcorrect\u001b[0m\u001b[1;33m(\u001b[0m\u001b[0mequation\u001b[0m\u001b[1;33m,\u001b[0m\u001b[0mlvl\u001b[0m\u001b[1;33m=\u001b[0m\u001b[1;36m4\u001b[0m\u001b[1;33m)\u001b[0m\u001b[1;33m:\u001b[0m\u001b[1;33m\u001b[0m\u001b[1;33m\u001b[0m\u001b[0m\n",
      "\u001b[1;32m<ipython-input-29-252a757a72b6>\u001b[0m in \u001b[0;36mderivate_to_latex\u001b[1;34m(self, variable)\u001b[0m\n\u001b[0;32m     43\u001b[0m     \u001b[1;32mdef\u001b[0m \u001b[0mderivate_to_latex\u001b[0m\u001b[1;33m(\u001b[0m\u001b[0mself\u001b[0m\u001b[1;33m,\u001b[0m\u001b[0mvariable\u001b[0m\u001b[1;33m)\u001b[0m\u001b[1;33m:\u001b[0m\u001b[1;33m\u001b[0m\u001b[1;33m\u001b[0m\u001b[0m\n\u001b[0;32m     44\u001b[0m         \u001b[1;32mif\u001b[0m \u001b[0mlen\u001b[0m\u001b[1;33m(\u001b[0m\u001b[0mvariable\u001b[0m\u001b[1;33m)\u001b[0m\u001b[1;33m!=\u001b[0m\u001b[1;36m1\u001b[0m \u001b[1;32mor\u001b[0m \u001b[0mvariable\u001b[0m\u001b[1;33m.\u001b[0m\u001b[0misnumeric\u001b[0m\u001b[1;33m(\u001b[0m\u001b[1;33m)\u001b[0m\u001b[1;33m:\u001b[0m\u001b[1;33m\u001b[0m\u001b[1;33m\u001b[0m\u001b[0m\n\u001b[1;32m---> 45\u001b[1;33m             \u001b[1;32mraise\u001b[0m \u001b[0mValueError\u001b[0m\u001b[1;33m(\u001b[0m\u001b[1;34m\"Błędna zmienna\"\u001b[0m\u001b[1;33m)\u001b[0m\u001b[1;33m\u001b[0m\u001b[1;33m\u001b[0m\u001b[0m\n\u001b[0m\u001b[0;32m     46\u001b[0m \u001b[1;33m\u001b[0m\u001b[0m\n\u001b[0;32m     47\u001b[0m         function=[\n",
      "\u001b[1;31mValueError\u001b[0m: Błędna zmienna"
     ]
    }
   ],
   "source": [
    "a=derivate_to_latex(\"ax^2+bx+c-12\",\"1\")"
   ]
  },
  {
   "cell_type": "markdown",
   "metadata": {},
   "source": [
    "Po liczbie nie działa"
   ]
  },
  {
   "cell_type": "markdown",
   "metadata": {},
   "source": [
    "Może bardziej skomplikowany przykład"
   ]
  },
  {
   "cell_type": "code",
   "execution_count": 110,
   "metadata": {},
   "outputs": [],
   "source": [
    "a=derivate_to_latex(\"23x\",\"x\")"
   ]
  },
  {
   "cell_type": "markdown",
   "metadata": {
    "variables": {
     "a": "$$0\\cdot x+23\\cdot 1$$"
    }
   },
   "source": [
    "Można ominąć znaki mnożeni\n",
    "{{a}}"
   ]
  },
  {
   "cell_type": "code",
   "execution_count": 121,
   "metadata": {},
   "outputs": [],
   "source": [
    "a=derivate_to_latex(\"sin(x)^cos(x)^x\",'x')"
   ]
  },
  {
   "cell_type": "markdown",
   "metadata": {
    "variables": {
     "a": "$$\\left(sin\\left(x\\right)\\right)^{\\left(\\left(cos\\left(x\\right)\\right)^\\left(x\\right)\\right)}\\cdot \\left(\\left(\\left(cos\\left(x\\right)\\right)^\\left(x\\right)\\right)\\cdot \\dfrac{\\left(\\cos\\left(x\\right)\\cdot \\left(1\\right)\\right)}{\\left(sin\\left(x\\right)\\right)}+\\ln\\left(sin\\left(x\\right)\\right)\\cdot \\left(\\left(cos\\left(x\\right)\\right)^{\\left(x\\right)}\\cdot \\left(\\left(x\\right)\\cdot \\dfrac{\\left(-\\sin\\left(x\\right)\\cdot \\left(1\\right)\\right)}{\\left(cos\\left(x\\right)\\right)}+\\ln\\left(cos\\left(x\\right)\\right)\\cdot \\left(1\\right)\\right)\\right)\\right)$$"
    }
   },
   "source": [
    "{{a}}"
   ]
  }
 ],
 "metadata": {
  "@webio": {
   "lastCommId": null,
   "lastKernelId": null
  },
  "kernelspec": {
   "display_name": "Python 3",
   "language": "python",
   "name": "python3"
  },
  "language_info": {
   "codemirror_mode": {
    "name": "ipython",
    "version": 3
   },
   "file_extension": ".py",
   "mimetype": "text/x-python",
   "name": "python",
   "nbconvert_exporter": "python",
   "pygments_lexer": "ipython3",
   "version": "3.9.5"
  },
  "toc": {
   "base_numbering": 1,
   "nav_menu": {},
   "number_sections": true,
   "sideBar": true,
   "skip_h1_title": false,
   "title_cell": "Table of Contents",
   "title_sidebar": "Contents",
   "toc_cell": false,
   "toc_position": {},
   "toc_section_display": true,
   "toc_window_display": false
  },
  "varInspector": {
   "cols": {
    "lenName": 16,
    "lenType": 16,
    "lenVar": 40
   },
   "kernels_config": {
    "python": {
     "delete_cmd_postfix": "",
     "delete_cmd_prefix": "del ",
     "library": "var_list.py",
     "varRefreshCmd": "print(var_dic_list())"
    },
    "r": {
     "delete_cmd_postfix": ") ",
     "delete_cmd_prefix": "rm(",
     "library": "var_list.r",
     "varRefreshCmd": "cat(var_dic_list()) "
    }
   },
   "types_to_exclude": [
    "module",
    "function",
    "builtin_function_or_method",
    "instance",
    "_Feature"
   ],
   "window_display": false
  }
 },
 "nbformat": 4,
 "nbformat_minor": 4
}
