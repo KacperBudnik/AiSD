{
 "cells": [
  {
   "cell_type": "markdown",
   "id": "ba6c9897",
   "metadata": {},
   "source": [
    "https://github.com/KacperBudnik/AiSD"
   ]
  },
  {
   "cell_type": "code",
   "execution_count": 1262,
   "id": "3f7bc110",
   "metadata": {},
   "outputs": [],
   "source": [
    "import time\n",
    "import matplotlib.pyplot as plt\n",
    "import numpy as np\n",
    "import random as rng"
   ]
  },
  {
   "cell_type": "markdown",
   "id": "cbe76f82",
   "metadata": {},
   "source": [
    "# Zadanie 1"
   ]
  },
  {
   "cell_type": "code",
   "execution_count": 246,
   "id": "e42680ae",
   "metadata": {},
   "outputs": [],
   "source": [
    "class QueueBaE(object):\n",
    "    \"\"\"\n",
    "    Klasa implementująca kolejkę za pomocą pythonowej listy tak,\n",
    "    że początek kolejki jest przechowywany na początku listy.\n",
    "    \"\"\"\n",
    "\n",
    "    def __init__(self):\n",
    "        self.list_of_items = []\n",
    "\n",
    "\n",
    "\n",
    "    def enqueue(self, item):\n",
    "        \"\"\"\n",
    "        Metoda służąca do dodawania obiektu do kolejki.\n",
    "        Pobiera jako argument obiekt który ma być dodany.\n",
    "        Niczego nie zwraca.\n",
    "        \"\"\"\n",
    "        #self.list_of_items+=[item]\n",
    "        self.list_of_items.append(item)\n",
    "\n",
    "    def dequeue(self):\n",
    "        \"\"\"\n",
    "        Metoda służąca do ściągania obiektu do kolejki.\n",
    "        Nie pobiera argumentów.\n",
    "        Zwraca ściągnięty obiekt.\n",
    "        \"\"\"\n",
    "        return self.list_of_items.pop()\n",
    "\n",
    "    def is_empty(self):\n",
    "        \"\"\"\n",
    "        Metoda służąca do sprawdzania, czy kolejka jest pusta.\n",
    "        Nie pobiera argumentów.\n",
    "        Zwraca True jeśli kolejka jest pusta lub False gdy nie jest.\n",
    "        \"\"\"\n",
    "        return not self.list_of_items\n",
    "\n",
    "    def size(self):\n",
    "        \"\"\"\n",
    "        Metoda służąca do określania wielkości kolejki.\n",
    "        Nie pobiera argumentów.\n",
    "        Zwraca liczbę obiektów w kolejce.\n",
    "        \"\"\"\n",
    "        return len(self.list_of_items)\n",
    "\n",
    "\n",
    "class QueueBaB(object):\n",
    "    \"\"\"\n",
    "    Klasa implementująca kolejkę za pomocą pythonowej listy tak,\n",
    "    że początek kolejki jest przechowywany na końcu listy.\n",
    "    \"\"\"\n",
    "\n",
    "    def __init__(self):\n",
    "        self.list_of_items = []\n",
    "\n",
    "    def enqueue(self, item):\n",
    "        \"\"\"\n",
    "        Metoda służąca do dodawania obiektu do kolejki.\n",
    "        Pobiera jako argument obiekt który ma być dodany.\n",
    "        Niczego nie zwraca.\n",
    "        \"\"\"\n",
    "        #self.list_of_items=[item] + self.list_of_items\n",
    "        self.list_of_items.insert(0,item)\n",
    "\n",
    "\n",
    "    def dequeue(self):\n",
    "        \"\"\"\n",
    "        Metoda służąca do ściągania obiektu do kolejki.\n",
    "        Nie pobiera argumentów.\n",
    "        Zwraca ściągnięty obiekt.\n",
    "        \"\"\"\n",
    "        return self.list_of_items.pop(0)\n",
    "\n",
    "    def is_empty(self):\n",
    "        \"\"\"\n",
    "        Metoda służąca do sprawdzania, czy kolejka jest pusta.\n",
    "        Nie pobiera argumentów.\n",
    "        Zwraca True jeśli kolejka jest pusta lub False gdy nie jest.\n",
    "        \"\"\"\n",
    "        return not self.list_of_items\n",
    "\n",
    "    def size(self):\n",
    "        \"\"\"\n",
    "        Metoda służąca do określania wielkości kolejki.\n",
    "        Nie pobiera argumentów.\n",
    "        Zwraca liczbę obiektów w kolejce.\n",
    "        \"\"\"\n",
    "        return len(self.list_of_items)"
   ]
  },
  {
   "cell_type": "markdown",
   "id": "b9f92b9a",
   "metadata": {},
   "source": [
    "# Zadanie 2"
   ]
  },
  {
   "cell_type": "code",
   "execution_count": 248,
   "id": "e6b70d87",
   "metadata": {},
   "outputs": [
    {
     "name": "stdout",
     "output_type": "stream",
     "text": [
      "253 µs ± 5.79 µs per loop (mean ± std. dev. of 7 runs, 1000 loops each)\n"
     ]
    }
   ],
   "source": [
    "%%timeit -n 1000\n",
    "B.enqueue(12)"
   ]
  },
  {
   "cell_type": "code",
   "execution_count": 249,
   "id": "c89f7aa6",
   "metadata": {},
   "outputs": [
    {
     "name": "stdout",
     "output_type": "stream",
     "text": [
      "115 ns ± 7.7 ns per loop (mean ± std. dev. of 7 runs, 1000 loops each)\n"
     ]
    }
   ],
   "source": [
    "%%timeit -n 1000\n",
    "E.enqueue(12)"
   ]
  },
  {
   "cell_type": "code",
   "execution_count": 250,
   "id": "7e24e1e3",
   "metadata": {},
   "outputs": [
    {
     "name": "stdout",
     "output_type": "stream",
     "text": [
      "20.6 µs ± 525 ns per loop (mean ± std. dev. of 7 runs, 1000 loops each)\n"
     ]
    }
   ],
   "source": [
    "%%timeit -n 1000\n",
    "B.dequeue()"
   ]
  },
  {
   "cell_type": "code",
   "execution_count": 251,
   "id": "492854a1",
   "metadata": {},
   "outputs": [
    {
     "name": "stdout",
     "output_type": "stream",
     "text": [
      "109 ns ± 2.05 ns per loop (mean ± std. dev. of 7 runs, 1000 loops each)\n"
     ]
    }
   ],
   "source": [
    "%%timeit -n 1000\n",
    "E.dequeue()"
   ]
  },
  {
   "cell_type": "code",
   "execution_count": 266,
   "id": "b5664a09",
   "metadata": {},
   "outputs": [],
   "source": [
    "B=QueueBaB()\n",
    "x_en=[0 for _ in range(100001)]\n",
    "x_en[0]=time.time()\n",
    "for i in range(100000):\n",
    "    B.enqueue(12)\n",
    "    x_en[i+1]=time.time()-x_en[0]"
   ]
  },
  {
   "cell_type": "code",
   "execution_count": 267,
   "id": "f98735d9",
   "metadata": {},
   "outputs": [],
   "source": [
    "E=QueueBaE()\n",
    "y_en=[0 for _ in range(100001)]\n",
    "y_en[0]=time.time()\n",
    "for i in range(100000):\n",
    "    E.enqueue(12)\n",
    "    y_en[i+1]=time.time()-y_en[0]"
   ]
  },
  {
   "cell_type": "code",
   "execution_count": 268,
   "id": "4b312cde",
   "metadata": {},
   "outputs": [],
   "source": [
    "x_de=[0 for _ in range(100001)]\n",
    "x_de[0]=time.time()\n",
    "for i in range(100000):\n",
    "    B.dequeue()\n",
    "    x_de[i+1]=time.time()-x_de[0]"
   ]
  },
  {
   "cell_type": "code",
   "execution_count": 269,
   "id": "748a6fe7",
   "metadata": {},
   "outputs": [],
   "source": [
    "y_de=[0 for _ in range(100001)]\n",
    "y_de[0]=time.time()\n",
    "for i in range(100000):\n",
    "    E.dequeue()\n",
    "    y_de[i+1]=time.time()-y_de[0]"
   ]
  },
  {
   "cell_type": "code",
   "execution_count": 270,
   "id": "91dabde2",
   "metadata": {},
   "outputs": [
    {
     "data": {
      "image/png": "[encoded data removed]",
      "text/plain": [
       "<Figure size 432x288 with 2 Axes>"
      ]
     },
     "metadata": {
      "needs_background": "light"
     },
     "output_type": "display_data"
    }
   ],
   "source": [
    "t = range(100001)\n",
    "fig, ax1 = plt.subplots()\n",
    "\n",
    "color = 'tab:red'\n",
    "ax1.set_xlabel('time (s)')\n",
    "ax1.set_ylabel('BaB', color=color)\n",
    "ax1.plot(t[1::5000], x_en[1::5000], color=color)\n",
    "ax1.tick_params(axis='y', labelcolor=color)\n",
    "\n",
    "ax2 = ax1.twinx()  # instantiate a second axes that shares the same x-axis\n",
    "\n",
    "color = 'tab:blue'\n",
    "ax2.set_ylabel('BaE', color=color)  # we already handled the x-label with ax1\n",
    "ax2.plot(t[1::5000], y_en[1::5000], color=color)\n",
    "ax2.tick_params(axis='y', labelcolor=color)\n",
    "\n",
    "fig.tight_layout()  # otherwise the right y-label is slightly clipped\n",
    "plt.show()"
   ]
  },
  {
   "cell_type": "code",
   "execution_count": 272,
   "id": "ad7b30a2",
   "metadata": {},
   "outputs": [
    {
     "data": {
      "image/png": "[encoded data removed]",
      "text/plain": [
       "<Figure size 432x288 with 2 Axes>"
      ]
     },
     "metadata": {
      "needs_background": "light"
     },
     "output_type": "display_data"
    }
   ],
   "source": [
    "t = range(100001)\n",
    "fig, ax1 = plt.subplots()\n",
    "\n",
    "color = 'tab:red'\n",
    "ax1.set_xlabel('time (s)')\n",
    "ax1.set_ylabel('BaB', color=color)\n",
    "ax1.plot(t[1::5000], x_de[1::5000], color=color)\n",
    "ax1.tick_params(axis='y', labelcolor=color)\n",
    "ax1.ticklabel_format(useOffset=False)\n",
    "\n",
    "ax2 = ax1.twinx()  # instantiate a second axes that shares the same x-axis\n",
    "\n",
    "color = 'tab:blue'\n",
    "ax2.set_ylabel('BaE', color=color)  # we already handled the x-label with ax1\n",
    "ax2.plot(t[1::5000], y_de[1::5000], color=color)\n",
    "ax2.tick_params(axis='y', labelcolor=color)\n",
    "ax2.ticklabel_format(useOffset=False)\n",
    "\n",
    "fig.tight_layout()  # otherwise the right y-label is slightly clipped\n",
    "plt.show()"
   ]
  },
  {
   "cell_type": "code",
   "execution_count": 271,
   "id": "8c0e87bd",
   "metadata": {},
   "outputs": [
    {
     "data": {
      "text/plain": [
       "0.9833700656890869"
      ]
     },
     "execution_count": 271,
     "metadata": {},
     "output_type": "execute_result"
    }
   ],
   "source": [
    "x_de[-1]"
   ]
  },
  {
   "cell_type": "code",
   "execution_count": 229,
   "id": "20403d8a",
   "metadata": {},
   "outputs": [],
   "source": [
    "a=[1,2,3,4]"
   ]
  },
  {
   "cell_type": "code",
   "execution_count": 230,
   "id": "7fd90324",
   "metadata": {},
   "outputs": [
    {
     "name": "stdout",
     "output_type": "stream",
     "text": [
      "78.8 ns ± 0.967 ns per loop (mean ± std. dev. of 7 runs, 10000000 loops each)\n"
     ]
    }
   ],
   "source": [
    "%%timeit\n",
    "[1]+a"
   ]
  },
  {
   "cell_type": "code",
   "execution_count": 231,
   "id": "971a2680",
   "metadata": {},
   "outputs": [
    {
     "name": "stdout",
     "output_type": "stream",
     "text": [
      "79.5 ns ± 0.953 ns per loop (mean ± std. dev. of 7 runs, 10000000 loops each)\n"
     ]
    }
   ],
   "source": [
    "%%timeit\n",
    "a+[1]"
   ]
  },
  {
   "cell_type": "code",
   "execution_count": 232,
   "id": "519efb7d",
   "metadata": {},
   "outputs": [
    {
     "name": "stdout",
     "output_type": "stream",
     "text": [
      "114 ns ± 1.4 ns per loop (mean ± std. dev. of 7 runs, 10000000 loops each)\n"
     ]
    }
   ],
   "source": [
    "%%timeit\n",
    "a=[1,2,3,4]\n",
    "a+[1]"
   ]
  },
  {
   "cell_type": "code",
   "execution_count": 233,
   "id": "91325fbe",
   "metadata": {},
   "outputs": [
    {
     "name": "stdout",
     "output_type": "stream",
     "text": [
      "79.7 ns ± 1.11 ns per loop (mean ± std. dev. of 7 runs, 10000000 loops each)\n"
     ]
    }
   ],
   "source": [
    "%%timeit\n",
    "a=[1,2,3,4]\n",
    "a.append(1)"
   ]
  },
  {
   "cell_type": "code",
   "execution_count": 235,
   "id": "84f3f156",
   "metadata": {},
   "outputs": [
    {
     "name": "stdout",
     "output_type": "stream",
     "text": [
      "116 ns ± 2.06 ns per loop (mean ± std. dev. of 7 runs, 10000000 loops each)\n"
     ]
    }
   ],
   "source": [
    "%%timeit\n",
    "a=[1,2,3,4]\n",
    "[1]+a"
   ]
  },
  {
   "cell_type": "code",
   "execution_count": 245,
   "id": "1c201489",
   "metadata": {},
   "outputs": [
    {
     "name": "stdout",
     "output_type": "stream",
     "text": [
      "103 ns ± 3.34 ns per loop (mean ± std. dev. of 7 runs, 10000000 loops each)\n"
     ]
    }
   ],
   "source": [
    "%%timeit\n",
    "a=[1,2,3,4]\n",
    "a.insert(0,1)"
   ]
  },
  {
   "cell_type": "code",
   "execution_count": 239,
   "id": "825fd885",
   "metadata": {},
   "outputs": [],
   "source": [
    "b=[1]"
   ]
  },
  {
   "cell_type": "code",
   "execution_count": 241,
   "id": "a9590b3c",
   "metadata": {},
   "outputs": [],
   "source": [
    "b.append([1,2,3,4])"
   ]
  },
  {
   "cell_type": "code",
   "execution_count": 242,
   "id": "ba02bca4",
   "metadata": {},
   "outputs": [
    {
     "data": {
      "text/plain": [
       "[1, [1, 2, 3, 4]]"
      ]
     },
     "execution_count": 242,
     "metadata": {},
     "output_type": "execute_result"
    }
   ],
   "source": [
    "b"
   ]
  },
  {
   "cell_type": "code",
   "execution_count": null,
   "id": "403c0697",
   "metadata": {},
   "outputs": [],
   "source": [
    "test_list.insert(0, 6)"
   ]
  },
  {
   "cell_type": "code",
   "execution_count": null,
   "id": "a32726e2",
   "metadata": {},
   "outputs": [],
   "source": []
  },
  {
   "cell_type": "code",
   "execution_count": null,
   "id": "d8eaaaf2",
   "metadata": {},
   "outputs": [],
   "source": []
  },
  {
   "cell_type": "code",
   "execution_count": null,
   "id": "282ee512",
   "metadata": {},
   "outputs": [],
   "source": []
  },
  {
   "cell_type": "markdown",
   "id": "19a67039",
   "metadata": {},
   "source": [
    "# Zadanie 3"
   ]
  },
  {
   "cell_type": "markdown",
   "id": "eaadc9eb",
   "metadata": {},
   "source": [
    "## "
   ]
  },
  {
   "cell_type": "markdown",
   "id": "d8741827",
   "metadata": {},
   "source": [
    "W pewnym urzędzie każdy wniosek musi zostać przyjęty, rozpatrzony, zeskanowany i zarchiwizowany. Do tej pory każdy z pracowników wykonywał wszystkie czynności związane z daną osobą (przyjmował, rozpatrywał itp). Zatem cały urząd działał na podstawie koljeki (FiFo)."
   ]
  },
  {
   "cell_type": "markdown",
   "id": "66966461",
   "metadata": {},
   "source": [
    "Dyrektor placówki postanowił coś zmienić, chciał **zwiększyć liczbę wniosków rozpatrywanych dziennie**, dlatego zebrał największe umysły jakie miał pod ręką i rozpoczęła się pierwsza rewolucja urzędowa. Po wielogodzinnej naradzie, Pani Basia, która od 30 lat działa na pierwszej lini front (okienko) wpadła na pomysł:\n",
    "\n",
    "    \"Od dzieciństwa uwielbiałam kontakt z innymi ludzmi. Od samego początku kochałam tą pracę, to że każdego dnia mogłam poznawać nowe osoby, ale niestety szybko zorientowałam się, że nie nie wszystko działa tak jak powinno. Każdego dnia widzę masę ludzi przychodzących do nas z różnymi potrzebami, z prośbą o rady, widzą w nas wybawienie, odpowiedź na ich problemy. Niestety czas potrzebny by załatwić każdy wniosek osoby muszą przez cały czas stać przy nas, nie mogą odejść nawet na chwilę. Większość nawet nie da rady przyjść do okienka, a by załatwić sprawę przychodzą z samego rana i czekają godzinami, blokują ruch w urzędzie. Jeśli zmniejszyć liczbę okienek, ale przy każdym z nich można by tylko złożyć wniosek, a rozpatrywaniem, skanowaniem i archiwizowaniem zajmowałyby się inne osoby oddalone z okienek, wyspecjalizowane w danej rzeczy,\"\n",
    "    \n",
    "    \n",
    "Pewny urząd chcąc zwiększyć liczbę rozpatrywanych wniosków dziennie postanowił coś zmienić. "
   ]
  },
  {
   "cell_type": "markdown",
   "id": "0b76e5d8",
   "metadata": {},
   "source": [
    "Dyrektor placówki postanowił coś zmienić, chciał **zwiększyć liczbę wniosków rozpatrywanych dziennie**, dlatego zebrał największe umysły jakie miał pod ręką i rozpoczęła się pierwsza rewolucja urzędowa. Po wielogodzinnej naradzie, Pani Basia, która od 30 lat działa na pierwszej lini front (okienko) wpadła na pomysł:\n",
    "\n",
    "_Jeśli zamiast robienia wszytkiego przy okienku, to można by podzielić się obowiązkami. Każdy by robił jedną rzecz, dzięki czemu wykonywałby to szybciej, oraz zmniejszyć czas oczekiwania w kolejce na samo złożenie wniosku. Jeśli ludzie nie będą czekać godzinami, tylko chwilę by złożyć wniosek i mogli by iść do domu, zlikwidowałoby to liczbę incydentów związanych z zdenerwowanymi wielogodzinnymi postojami w kolejce, tym samym mniejszy czas potrzebny na uspokajanie przy okienku awanturników._ \n",
    "\n",
    "Po takiej przemowie Pani Basi Dyrektor z nadzieją w oczach rozkazał by wykonać jej pomysł (tylko nie wiadomo czy uważał go za dobry, czy w głowiem miał tylko soczystego steka, którego zapach już od godziny roznosił się po całym korytarzu przed salą spotkań)."
   ]
  },
  {
   "cell_type": "markdown",
   "id": "6763f43b",
   "metadata": {},
   "source": [
    "## Założenia\n",
    "<ul>\n",
    "    <li> Czas potrzebny na: \n",
    "        <ol>\n",
    "            <li> Przyjęcie wniosku: 10 min </li>  \n",
    "            <li> Rozpatrzenie wniosku: 30 min </li>\n",
    "            <li> Zeskanowanie i zarchiwiozowanie wniosku: 10 min </li>\n",
    "        </ol></li>\n",
    "    <li> Liczba pracowników: 20 </li>\n",
    "    <li> Czas pracu urzędu: 8-16 (8 godzin) </li>\n",
    "    <!--<li> Bonus czasu wyspecjalizowanego pracownika: -10% </li>-->\n",
    "    <li> Czas poświęcony na uspokajanie awanturników: 10 min </li>\n",
    "    <li> Szansa na awanturnika: 5 %/20min (co każde 20min istnieje 5% szans, że osoba będzie się awanturowała)</li>\n",
    "    <li> Przerwa pracownicza: 0 min </li>\n",
    "    <li> Liczba wniosków danego dnia: 100-400 </li>\n",
    "    <li> Godzina przychodzienia ludzi:  8-15 </li>\n",
    "    <li> Osoby przychodzą o równych godzinach </li>\n",
    "    <li> Schemat przychodzenia: $\\frac{1}{5(T-6)^2}+0.05$ (szansa każdej osoby na przyjście o godzinie T)</li>\n",
    "    <li> Schemat przychodzenia: weights=(25,15,10,10,10,10,10,10) (25% na 7, 15% na 8 itd.)</li>\n",
    "    <li> Jeśli nie uda się ukończyć całego wniosku w jeden dzień, trzeba zacząć od nowa następnego </li>\n",
    "    <li> Jeśli do końca zostało parę osób (nikt już nie przyjdzie to pracownicy siedzą parę minut dłużej i wszystkie wnioski odbiorą)</li>\n",
    "</ul>"
   ]
  },
  {
   "cell_type": "markdown",
   "id": "c65c2712",
   "metadata": {},
   "source": [
    "### Zasada działania nowego urzędu\n",
    "<ul>\n",
    "    <li> 4 pracowników przyjmuje wnioski </li>\n",
    "    <li> po przyjęciu odkładają je na jeden stos </li>\n",
    "    <li> kolejnych 12 osób odbiera wnioski i je rozpatruje (biorą pierwsze z góry LiFo)</li>\n",
    "    <li> rozpatrzone wnioski układają na skanerze, który automatycznie je skanuje w kolejności ich otrzymywania (FiFo) </li>\n",
    "    <li> po zeskanowaniu pozostałe (4) osoby archiwizują je (w kolejności skanowania) </li>\n",
    "\n",
    "</ul>"
   ]
  },
  {
   "cell_type": "code",
   "execution_count": 1629,
   "id": "bcc57b9f",
   "metadata": {},
   "outputs": [],
   "source": [
    "def f(T):\n",
    "    return 1/(5*(T-6)^2)+0.05\n",
    "\n",
    "def test():\n",
    "    n = rng.randint(100,400) # Ile maksymalnie może przyjść osób\n",
    "    \n",
    "    def old():\n",
    "        count_angry = 0 # ilu było awanturników\n",
    "        hooman = rng.choices([8,9,10,11,12,13,14,15], weights=(25,15,10,10,10,10,10,10), k=n) # godziny o której przychodzą\n",
    "        angry = [0]*n # czy będzie się awanturował 0-nie 1-tak\n",
    "        hooman.sort()\n",
    "        worker = [0]*20 # ile jeszcze będą zajęci 1 - 1 tick\n",
    "        done = 0 # ile dziś zostało zakończonych wniosków\n",
    "        #print(hooman)\n",
    "        # 1 tick = 10 min   (1h = 6*10 min)\n",
    "        for tick in range(8*6):\n",
    "            if tick % 2 == 0:\n",
    "                for i in range(len(hooman)):\n",
    "                    if (hooman[i]-7)*6 - tick <= 0 :\n",
    "                        if rng.random() < 0.05:\n",
    "                            angry[i]=1\n",
    "            for i in range(20):\n",
    "                if worker[i]>0:\n",
    "                    worker[i]-=1\n",
    "                    if worker[i]==0:\n",
    "                        done+=1\n",
    "                else:\n",
    "                    if hooman[0]*6<=8*6+tick:\n",
    "                        is_angry = angry.pop(0)\n",
    "                        if is_angry == 1:\n",
    "                            count_angry+=1\n",
    "                        hooman.pop(0)\n",
    "                        if not hooman:\n",
    "                            return dict(done=done,angry=count_angry)\n",
    "                        worker[i] = 5 if is_angry==0 else 6\n",
    "\n",
    "            \n",
    "        return dict(done=done,angry=count_angry)\n",
    "    \n",
    "    \n",
    "    def new():\n",
    "        count_angry = 0 # ilu było awanturników\n",
    "        hooman = rng.choices([8,9,10,11,12,13,14,15], weights=(25,15,10,10,10,10,10,10), k=n) # godziny o której przychodzą\n",
    "        angry = [0]*n # czy będzie się awanturował 0-nie 1-tak\n",
    "        hooman.sort()\n",
    "        worker = [0]*20 # ile jeszcze będą zajęci 1 - 1 tick\n",
    "        done = 0 # ile dziś zostało zakończonych wniosków\n",
    "        accepted =[] # przyjęte do rozpatrzenia\n",
    "        to_scan = [] # do zeskanowania\n",
    "        worker_eff=[0]*20\n",
    "        \n",
    "        \n",
    "        # 1 tick = 10 min   (1h = 6*10 min)\n",
    "        for tick in range(8*6):\n",
    "            if tick % 2 == 0:\n",
    "                for i in range(len(hooman)):\n",
    "                    if (hooman[i]-7)*6 - tick <= 0 :\n",
    "                        if rng.random() < 0.05:\n",
    "                            angry[i]=1\n",
    "                            \n",
    "            for i in range(4):\n",
    "                if worker[i]>0:\n",
    "                    worker[i]-=1\n",
    "                    if worker[i]==0:\n",
    "                        accepted.append(i)\n",
    "                else:\n",
    "                    if hooman[0]*6<=8*6+tick:\n",
    "                        is_angry = angry.pop(0)\n",
    "                        if is_angry == 1:\n",
    "                            count_angry+=1\n",
    "                        hooman.pop(0)\n",
    "                        if not hooman:\n",
    "                            return dict(done=done,angry=count_angry)\n",
    "                        worker[i] = 1 if is_angry==0 else 2\n",
    "                        \n",
    "            for i in range(4,4+12):\n",
    "                if worker[i]>0:\n",
    "                    worker[i]-=1\n",
    "                    if worker[i]==0:\n",
    "                        to_scan.append(i)\n",
    "                else:\n",
    "                    if accepted:\n",
    "                        worker_eff[accepted.pop()]+=1\n",
    "                        worker[i]+=3\n",
    "            \n",
    "            for i in range(12+4,12+4+4):\n",
    "                if to_scan:\n",
    "                    worker_eff[to_scan.pop(0)]+=1\n",
    "                    done+=1 #zawsze robi się to 1 tick, więc do następnego wszystko zrobią\n",
    "                    worker_eff[i]+=1\n",
    "\n",
    "        return dict(done=done,angry=count_angry)\n",
    "            \n",
    "            \n",
    "            \n",
    "    return dict(old=old(),new=new())"
   ]
  },
  {
   "cell_type": "code",
   "execution_count": 1645,
   "id": "d160751c",
   "metadata": {},
   "outputs": [
    {
     "data": {
      "text/plain": [
       "{'old': {'done': 143, 'angry': 31}, 'new': {'done': 78, 'angry': 26}}"
      ]
     },
     "execution_count": 1645,
     "metadata": {},
     "output_type": "execute_result"
    }
   ],
   "source": [
    "test()"
   ]
  },
  {
   "cell_type": "code",
   "execution_count": 1653,
   "id": "3dd46cc5",
   "metadata": {},
   "outputs": [],
   "source": [
    "old_win=0\n",
    "old_angry=0\n",
    "new_win=0\n",
    "new_angry=0\n",
    "draw=0\n",
    "\n",
    "for i in range(1000):\n",
    "    result=test()\n",
    "    if result[\"old\"][\"done\"]>result[\"new\"][\"done\"]:\n",
    "        old_win+=1\n",
    "    elif result[\"old\"][\"done\"]<result[\"new\"][\"done\"]:\n",
    "        new_win+=1\n",
    "    else:\n",
    "        draw+=1\n",
    "        \n",
    "    if result[\"old\"][\"angry\"]>result[\"new\"][\"angry\"]:\n",
    "        old_angry+=1\n",
    "    elif result[\"old\"][\"angry\"]<result[\"new\"][\"angry\"]:\n",
    "        new_angry+=1\n"
   ]
  },
  {
   "cell_type": "code",
   "execution_count": 1654,
   "id": "c03bbada",
   "metadata": {},
   "outputs": [
    {
     "name": "stdout",
     "output_type": "stream",
     "text": [
      "old/angry: 999 / 614 \n",
      "new/angry: 0 / 374 \n",
      "draw: 1\n"
     ]
    }
   ],
   "source": [
    "print(\"old/angry:\",old_win,\"/\",old_angry,\"\\nnew/angry:\",new_win,\"/\",new_angry,\"\\ndraw:\",draw)"
   ]
  },
  {
   "cell_type": "markdown",
   "id": "b3ef7a0a",
   "metadata": {},
   "source": [
    "Możemu tu zobaczyć, że Pani Basia zdecydowanie nie miała racji"
   ]
  },
  {
   "cell_type": "markdown",
   "id": "2a8559b1",
   "metadata": {},
   "source": [
    "W nowym systemi osoby czekają znacznie mniej w kolejce, ale jest mniej effectywny. Jeśli zwrócimy uwagę na to, że to była gwałtowna rewolucja. Osoby nadal przychodzą najczęściej o 8 rano i czekają długo w kolejce. Po dłuższym czasie nasz trwabnia eksperymentu, ludzie nauczyli by się, że można przychodzić o każdej porze, co jeszcze zminejszyo by liczbę niezadowolonych."
   ]
  },
  {
   "cell_type": "markdown",
   "id": "0257a8b8",
   "metadata": {},
   "source": [
    "Przewaga w ilości przerobionych wniosków wynika również z uproszczenia. Kolejnego dnia musimy zaczynać wszystko od nowa, więc przez pierwsze 10 min pracuje jedynie 20% pracowników, przez kolejnie 30 min tylko 80%, oraz nie zwracamy uwagi na wyspecjalizowanie pracowników (robiąc tylko jedną rzecz robimy ją lepiej)"
   ]
  },
  {
   "cell_type": "code",
   "execution_count": null,
   "id": "ac54ceaf",
   "metadata": {},
   "outputs": [],
   "source": []
  },
  {
   "cell_type": "markdown",
   "id": "3cfcd88c",
   "metadata": {},
   "source": [
    "# Zadanie 4"
   ]
  },
  {
   "cell_type": "code",
   "execution_count": 273,
   "id": "74958374",
   "metadata": {},
   "outputs": [
    {
     "name": "stdout",
     "output_type": "stream",
     "text": [
      "Encountered a start tag: html\n",
      "Encountered a start tag: head\n",
      "Encountered a start tag: title\n",
      "Encountered some data  : Test\n",
      "Encountered an end tag : title\n",
      "Encountered an end tag : head\n",
      "Encountered a start tag: body\n",
      "Encountered a start tag: h1\n",
      "Encountered some data  : Parse me!\n",
      "Encountered an end tag : h1\n",
      "Encountered an end tag : body\n",
      "Encountered an end tag : html\n"
     ]
    }
   ],
   "source": [
    "from html.parser import HTMLParser\n",
    "\n",
    "\n",
    "parser = MyHTMLParser()\n",
    "parser.feed('<html><head><title>Test</title></head>'\n",
    "            '<body><h1>Parse me!</h1></body></html>')"
   ]
  },
  {
   "cell_type": "code",
   "execution_count": 363,
   "id": "2dbbe3d4",
   "metadata": {},
   "outputs": [],
   "source": [
    "class MyHTMLParser(HTMLParser):\n",
    "    def __init__(self,**args):\n",
    "        self.tagu=[]\n",
    "        super().__init__(**args)\n",
    "    \n",
    "    def handle_starttag(self, tag, attrs):\n",
    "        self.tagu.append(tag)\n",
    "\n",
    "    def handle_endtag(self, tag):\n",
    "        self.tagu.append('/'+tag)\n",
    "        \n",
    "    def handle_data(self, data):\n",
    "        pass\n",
    "        #print(\"Encountered some data  :\", data)\n",
    "\n",
    "def checking_HTML_correctness(filename):\n",
    "    \"\"\"\n",
    "    Funkcja ma za zadanie sprawdzać poprawność składni dokumentu HTML.\n",
    "    Jako argument przyjmuje nazwę pliku, który ma sprawdzić.\n",
    "    Zwraca True jeśli dokument jest poprawny składniowo i False jeśli nie jest.\n",
    "    \"\"\"\n",
    "    file_obj = open(filename, 'r')\n",
    "    text = file_obj.read()\n",
    "    parser = MyHTMLParser()\n",
    "    parser.feed(text)\n",
    "    g=[]\n",
    "    to_pass=[\"area\",\"base\",\"col\",\"command\",\"embed\",\"hr\",\"img\",\"input\",\"keygen\",\"link\",\"meta\",\"param\",\"source\",\"track\",\"wbr\"]\n",
    "    for i in parser.tagu:\n",
    "        if i[0]!=\"/\":\n",
    "            g.append(i)\n",
    "        else:\n",
    "            d=g.pop()\n",
    "\n",
    "            if not d in to_pass and i[1:]!=d:\n",
    "                print(i,d)\n",
    "                return False\n",
    "    return True"
   ]
  },
  {
   "cell_type": "code",
   "execution_count": 364,
   "id": "de8b14e3",
   "metadata": {},
   "outputs": [
    {
     "data": {
      "text/plain": [
       "True"
      ]
     },
     "execution_count": 364,
     "metadata": {},
     "output_type": "execute_result"
    }
   ],
   "source": [
    "checking_HTML_correctness(r\"D:\\GitHub\\AiSD\\List 4\\L4_ZAD4_sampleHTML_3.txt\")"
   ]
  },
  {
   "cell_type": "markdown",
   "id": "ee5f7837",
   "metadata": {},
   "source": [
    "# Zadanie 5"
   ]
  },
  {
   "cell_type": "code",
   "execution_count": 1212,
   "id": "402a58ba",
   "metadata": {},
   "outputs": [],
   "source": [
    "import numpy as np\n",
    "\n",
    "class Node:\n",
    "    \n",
    "    def __repr__(self):\n",
    "\n",
    "        return str(self.data)\n",
    "    \n",
    "    def __init__(self,init_data):\n",
    "        self.data = init_data\n",
    "        self.next = None\n",
    "  \n",
    "    def get_data(self):\n",
    "        return self.data\n",
    "\n",
    "    def get_next(self):\n",
    "        return self.next\n",
    "  \n",
    "    def set_data(self,new_data):\n",
    "        self.data = new_data\n",
    "  \n",
    "    def set_next(self,new_next):\n",
    "        self.next = new_next\n",
    "    \n",
    "\n",
    "class UnorderedList(object):\n",
    "  \n",
    "    def __init__(self):\n",
    "        self.head = None\n",
    "        self.n=0\n",
    "\n",
    "    def is_empty(self):\n",
    "        return self.head == None\n",
    "\n",
    "    def add(self, item):\n",
    "        temp = Node(item)\n",
    "        temp.set_next(self.head)\n",
    "        self.head = temp\n",
    "\n",
    "    def size(self):\n",
    "        current = self.head\n",
    "        count = 0\n",
    "        while current != None:\n",
    "            count = count + 1\n",
    "            current = current.get_next()\n",
    "        return count\n",
    "    \n",
    "    def search(self,item):\n",
    "        current = self.head\n",
    "        found = False\n",
    "        while current != None and not found:\n",
    "            if current.get_data() == item:\n",
    "                found = True\n",
    "            else:\n",
    "                current = current.get_next()\n",
    "        return found\n",
    "    \n",
    "    def remove(self, item):\n",
    "        current = self.head\n",
    "        previous = None\n",
    "        found = False\n",
    "\n",
    "        while not found:\n",
    "            if current.get_data() == item:\n",
    "                found = True\n",
    "            else:\n",
    "                previous = current\n",
    "                current = current.get_next()\n",
    "\n",
    "        if previous == None: #jeśli usuwamy pierwszy element\n",
    "            self.head = current.get_next()\n",
    "        else:\n",
    "            previous.set_next(current.get_next())\n",
    "\n",
    "##################################################################################################################   \n",
    "#                                               Uzupełnienie                                                     #\n",
    "##################################################################################################################   \n",
    "            \n",
    "    def append(self, item):\n",
    "        \"\"\"\n",
    "        Metoda dodająca element na koniec listy.\n",
    "        Przyjmuje jako argument obiekt, który ma zostać dodany.\n",
    "        Niczego nie zwraca.\n",
    "        \"\"\"\n",
    "        if self.head:\n",
    "            current=self.head\n",
    "            while current:\n",
    "                previous=current\n",
    "                current=current.get_next()\n",
    "            previous.set_next(Node(item))\n",
    "        else:\n",
    "            self.add(item)\n",
    "        \n",
    "    \n",
    "    def index(self, item):\n",
    "        \"\"\"\n",
    "        Metoda podaje miejsce na liście, \n",
    "        na którym znajduje się określony element - \n",
    "        element pod self.head ma indeks 0.\n",
    "        Przyjmuje jako argument element, \n",
    "        którego pozycja ma zostać określona.\n",
    "        Zwraca pozycję elementu na liście lub None w przypadku, \n",
    "        gdy wskazanego elementu na liście nie ma.\n",
    "        \"\"\"\n",
    "        current = self.head\n",
    "        found = False\n",
    "        i=0\n",
    "        while current != None and not found:\n",
    "            if current.get_data() == item:\n",
    "                found = True\n",
    "            else:\n",
    "                current = current.get_next()\n",
    "                i+=1\n",
    "        return i if found else None\n",
    "     \n",
    "        \n",
    "    def insert(self, pos, item):\n",
    "        \"\"\"\n",
    "        Metoda umieszcza na wskazanej pozycji zadany element.\n",
    "        Przyjmuje jako argumenty pozycję, \n",
    "        na której ma umiescić element oraz ten element.\n",
    "        Niczego nie zwraca.\n",
    "        Rzuca wyjątkiem IndexError w przypadku, \n",
    "        gdy nie jest możliwe umieszczenie elementu\n",
    "        na zadanej pozycji (np. na 5. miejsce w 3-elementowej liście).\n",
    "        \"\"\"\n",
    "        current = self.head\n",
    "        previous=None\n",
    "        while current != None and pos >0:\n",
    "            pos-=1\n",
    "            previous=current\n",
    "            current=current.get_next()\n",
    "            \n",
    "        if pos == 0:\n",
    "            if previous:\n",
    "                if current:\n",
    "                    previous.set_next(Node(item))\n",
    "                    previous.get_next().set_next(current)\n",
    "                else:\n",
    "                    previous.set_next(Node(item))\n",
    "            else:\n",
    "                self.add(item)\n",
    "        else:\n",
    "            raise IndexError(\"Wyjście poza zakres\")\n",
    "                    \n",
    "  \n",
    "    def pop(self, pos=-1):\n",
    "        \"\"\"\n",
    "        Metoda usuwa z listy element na zadaniej pozycji.\n",
    "        Przyjmuje jako opcjonalny argument pozycję, \n",
    "        z której ma zostać usunięty element.\n",
    "        Jeśli pozycja nie zostanie podana, \n",
    "        metoda usuwa (odłącza) ostatni element z listy. \n",
    "        Zwraca wartość usuniętego elementu.\n",
    "        Rzuca wyjątkiem IndexError w przypadku,\n",
    "        gdy usunięcie elementu z danej pozycji jest niemożliwe.\n",
    "        \"\"\"\n",
    "        n=self.size()\n",
    "        if pos + 1 > n or -pos > n:\n",
    "            raise IndexError(\"Wyjście poza zekres\")\n",
    "        \n",
    "        if pos > 0:\n",
    "            i = pos\n",
    "        elif pos == 0:\n",
    "            temp=self.head\n",
    "            self.head=self.head.get_next()\n",
    "            return temp.get_data()\n",
    "        else:\n",
    "            i = n + pos\n",
    "            \n",
    "        current = self.head\n",
    "        for _ in range(i-1):\n",
    "            current = current.get_next()\n",
    "        temp=current.get_next()\n",
    "        current.set_next(current.get_next().get_next())\n",
    "        return temp.get_data()\n",
    "    \n",
    "    \n",
    "##################################################################################################################   \n",
    "#                                               Dodatkowe                                                        #\n",
    "##################################################################################################################   \n",
    "            \n",
    "    def __repr__(self):\n",
    "        current=self.head\n",
    "        tab=[]\n",
    "        while current:\n",
    "            tab.append(current.get_data())\n",
    "            current=current.get_next()\n",
    "        return str(tab)\n",
    "    \n",
    "    def reverse(self):\n",
    "        \"\"\"\n",
    "        Metoda odwraca kolejność elementów w liście\n",
    "        \"\"\"\n",
    "        temp=[]\n",
    "        current=self.head\n",
    "        while current:\n",
    "            temp.append(current)\n",
    "            current=current.get_next()\n",
    "                    \n",
    "        current=temp.pop()\n",
    "        current.set_next(temp.pop())\n",
    "        self.head=current\n",
    "        \n",
    "        \n",
    "        while temp:\n",
    "            current=current.get_next()\n",
    "            current.set_next(temp.pop())\n",
    "        current. get_next().set_next(None)\n",
    "        \n",
    "    def count(self, item):\n",
    "        \"\"\"\n",
    "        Metoda zwraca liczbę danego elementu z listy\n",
    "        \"\"\"\n",
    "        i=0\n",
    "        current=self.head\n",
    "        while current:\n",
    "            i += 1 if current.get_data()==item else 0\n",
    "            current = current.get_next()\n",
    "        return i\n",
    "            \n",
    "    def shuffle(self):\n",
    "        \"\"\"\n",
    "        Metoda permutuje listę\n",
    "        \"\"\"\n",
    "        temp=[]\n",
    "        current=self.head\n",
    "        while current:\n",
    "            temp.append(current)\n",
    "            current=current.get_next()\n",
    "            \n",
    "        temp = [i for i in np.random.permutation(temp)]\n",
    "                    \n",
    "        current=temp.pop()\n",
    "        current.set_next(temp.pop())\n",
    "        self.head=current\n",
    "        \n",
    "        while temp:\n",
    "            current=current.get_next()\n",
    "            current.set_next(temp.pop())\n",
    "        current.get_next().set_next(None)\n",
    "        \n",
    "    def __eq__(self, other):\n",
    "        \n",
    "        if type(other) == UnorderedList:\n",
    "            current_self = self.head\n",
    "            current_other = other.head\n",
    "            \n",
    "            while current_self and current_other:\n",
    "                if current_self.get_data() != current_other.get_data():\n",
    "                    return False\n",
    "                current_self = current_self.get_next()\n",
    "                current_other = current_other.get_next()\n",
    "            if current_self or current_other:\n",
    "                return False\n",
    "            return True\n",
    "        raise TypeError(\"'==' not supported between instances of 'UnorderedList' and '\"+str(type(other).__name__)+\"'\")\n",
    "            \n",
    "\n",
    "    def same_element(self,other):\n",
    "        \"\"\"\n",
    "        Sprawdza, czy kolejki mają takie same elementy (i ich liczbę)\n",
    "        \"\"\"\n",
    "        temp_self = []\n",
    "        temp_other = []\n",
    "        current=self.head\n",
    "        while current:\n",
    "            temp_self.append(current.get_data())\n",
    "            current = current.get_next()\n",
    "            \n",
    "        current=other.head\n",
    "        while current:\n",
    "            temp_other.append(current.get_data())\n",
    "            current = current.get_next()\n",
    "            \n",
    "        while temp_self and temp_other:\n",
    "            temp = temp_self.pop()\n",
    "            for i in range(len(temp_other)):\n",
    "                if temp==temp_other[i]:\n",
    "                    temp_other.pop(i)\n",
    "                    break\n",
    "            else:\n",
    "                return False\n",
    "        return False if temp_self or temp_other else True\n",
    "        \n",
    "    def same_type_of_elements(self, other):\n",
    "        \"\"\"\n",
    "        Sprawdza, czy wszystkie elementy jednego są w drugim\n",
    "        \"\"\"\n",
    "        temp_self = []\n",
    "        temp_other = []\n",
    "        current=self.head\n",
    "        while current:\n",
    "            temp_self.append(current.get_data())\n",
    "            current = current.get_next()\n",
    "            \n",
    "        current=other.head\n",
    "        while current:\n",
    "            temp_other.append(current.get_data())\n",
    "            current = current.get_next()\n",
    "            \n",
    "        return all(i in temp_self for i in temp_other) and all(i in temp_other for i in temp_self)\n",
    "    \n",
    "    def __getitem__(self, pos):\n",
    "        n=self.size()\n",
    "        \n",
    "        if pos + 1 > n or -pos > n:\n",
    "            raise IndexError(\"Wyjście poza zekres\")\n",
    "            \n",
    "        if pos > 0:\n",
    "            i = pos\n",
    "        elif pos == 0:\n",
    "            return self.head.get_data()\n",
    "        else:\n",
    "            pos = n + pos\n",
    "        \n",
    "        current=self.head\n",
    "        while current and pos > 0:\n",
    "            current = current.get_next()\n",
    "            pos-=1\n",
    "        \n",
    "        return current.get_data()\n",
    "    \n",
    "    def __contein__(self, item):\n",
    "        return self.search(item)\n",
    "\n",
    "    def __len__(self):\n",
    "        return self.size()"
   ]
  },
  {
   "cell_type": "code",
   "execution_count": 1173,
   "id": "d790bf5b",
   "metadata": {},
   "outputs": [],
   "source": [
    "A=UnorderedList()"
   ]
  },
  {
   "cell_type": "code",
   "execution_count": 1174,
   "id": "d9dafe04",
   "metadata": {},
   "outputs": [],
   "source": [
    "A.add(1)"
   ]
  },
  {
   "cell_type": "code",
   "execution_count": 1175,
   "id": "8329fad9",
   "metadata": {},
   "outputs": [
    {
     "data": {
      "text/plain": [
       "[1]"
      ]
     },
     "execution_count": 1175,
     "metadata": {},
     "output_type": "execute_result"
    }
   ],
   "source": [
    "A"
   ]
  },
  {
   "cell_type": "code",
   "execution_count": 1177,
   "id": "035a3809",
   "metadata": {},
   "outputs": [
    {
     "data": {
      "text/plain": [
       "True"
      ]
     },
     "execution_count": 1177,
     "metadata": {},
     "output_type": "execute_result"
    }
   ],
   "source": [
    "1 in A"
   ]
  },
  {
   "cell_type": "code",
   "execution_count": 1027,
   "id": "d43e779a",
   "metadata": {},
   "outputs": [
    {
     "ename": "IndexError",
     "evalue": "Wyjście poza zekres",
     "output_type": "error",
     "traceback": [
      "\u001b[1;31m---------------------------------------------------------------------------\u001b[0m",
      "\u001b[1;31mIndexError\u001b[0m                                Traceback (most recent call last)",
      "\u001b[1;32m<ipython-input-1027-7423ee27b9de>\u001b[0m in \u001b[0;36m<module>\u001b[1;34m\u001b[0m\n\u001b[1;32m----> 1\u001b[1;33m \u001b[0mA\u001b[0m\u001b[1;33m[\u001b[0m\u001b[1;36m7\u001b[0m\u001b[1;33m]\u001b[0m\u001b[1;33m\u001b[0m\u001b[1;33m\u001b[0m\u001b[0m\n\u001b[0m",
      "\u001b[1;32m<ipython-input-989-348e97abd0ba>\u001b[0m in \u001b[0;36m__getitem__\u001b[1;34m(self, pos)\u001b[0m\n\u001b[0;32m    306\u001b[0m \u001b[1;33m\u001b[0m\u001b[0m\n\u001b[0;32m    307\u001b[0m         \u001b[1;32mif\u001b[0m \u001b[0mpos\u001b[0m \u001b[1;33m+\u001b[0m \u001b[1;36m1\u001b[0m \u001b[1;33m>\u001b[0m \u001b[0mn\u001b[0m \u001b[1;32mor\u001b[0m \u001b[1;33m-\u001b[0m\u001b[0mpos\u001b[0m \u001b[1;33m>\u001b[0m \u001b[0mn\u001b[0m\u001b[1;33m:\u001b[0m\u001b[1;33m\u001b[0m\u001b[1;33m\u001b[0m\u001b[0m\n\u001b[1;32m--> 308\u001b[1;33m             \u001b[1;32mraise\u001b[0m \u001b[0mIndexError\u001b[0m\u001b[1;33m(\u001b[0m\u001b[1;34m\"Wyjście poza zekres\"\u001b[0m\u001b[1;33m)\u001b[0m\u001b[1;33m\u001b[0m\u001b[1;33m\u001b[0m\u001b[0m\n\u001b[0m\u001b[0;32m    309\u001b[0m \u001b[1;33m\u001b[0m\u001b[0m\n\u001b[0;32m    310\u001b[0m         \u001b[1;32mif\u001b[0m \u001b[0mpos\u001b[0m \u001b[1;33m>\u001b[0m \u001b[1;36m0\u001b[0m\u001b[1;33m:\u001b[0m\u001b[1;33m\u001b[0m\u001b[1;33m\u001b[0m\u001b[0m\n",
      "\u001b[1;31mIndexError\u001b[0m: Wyjście poza zekres"
     ]
    }
   ],
   "source": [
    "A[7]"
   ]
  },
  {
   "cell_type": "code",
   "execution_count": null,
   "id": "bfef863d",
   "metadata": {},
   "outputs": [],
   "source": []
  },
  {
   "cell_type": "code",
   "execution_count": 992,
   "id": "27724e61",
   "metadata": {},
   "outputs": [],
   "source": [
    "def f(x):\n",
    "    return x if x>0 else -x"
   ]
  },
  {
   "cell_type": "code",
   "execution_count": 1014,
   "id": "9ab187b0",
   "metadata": {},
   "outputs": [],
   "source": [
    "A=UnorderedList()"
   ]
  },
  {
   "cell_type": "code",
   "execution_count": 1015,
   "id": "b5b82900",
   "metadata": {},
   "outputs": [],
   "source": [
    "A.add(1)"
   ]
  },
  {
   "cell_type": "code",
   "execution_count": 1016,
   "id": "01c7b4fe",
   "metadata": {},
   "outputs": [
    {
     "data": {
      "text/plain": [
       "[1]"
      ]
     },
     "execution_count": 1016,
     "metadata": {},
     "output_type": "execute_result"
    }
   ],
   "source": [
    "A"
   ]
  },
  {
   "cell_type": "code",
   "execution_count": 1017,
   "id": "bcea614e",
   "metadata": {},
   "outputs": [],
   "source": [
    "A.append(232)\n",
    "A.append(123)\n",
    "A.add(3)\n",
    "A.add(2)\n",
    "A.add(1)\n",
    "A.add(0)"
   ]
  },
  {
   "cell_type": "code",
   "execution_count": 873,
   "id": "83838711",
   "metadata": {},
   "outputs": [],
   "source": [
    "A.reverse()"
   ]
  },
  {
   "cell_type": "code",
   "execution_count": 874,
   "id": "c5c343df",
   "metadata": {},
   "outputs": [
    {
     "data": {
      "text/plain": [
       "[123, 232, 1, 3, 2, 1, 0]"
      ]
     },
     "execution_count": 874,
     "metadata": {},
     "output_type": "execute_result"
    }
   ],
   "source": [
    "A"
   ]
  },
  {
   "cell_type": "code",
   "execution_count": 877,
   "id": "5a03f7f0",
   "metadata": {},
   "outputs": [
    {
     "data": {
      "text/plain": [
       "232"
      ]
     },
     "execution_count": 877,
     "metadata": {},
     "output_type": "execute_result"
    }
   ],
   "source": [
    "A[1]"
   ]
  },
  {
   "cell_type": "code",
   "execution_count": 785,
   "id": "3917a349",
   "metadata": {},
   "outputs": [
    {
     "data": {
      "text/plain": [
       "[3, 2, 0, 232, 123, 1, 1]"
      ]
     },
     "execution_count": 785,
     "metadata": {},
     "output_type": "execute_result"
    }
   ],
   "source": [
    "A.shuffle()\n",
    "A"
   ]
  },
  {
   "cell_type": "code",
   "execution_count": 847,
   "id": "cf1b7e73",
   "metadata": {},
   "outputs": [
    {
     "data": {
      "text/plain": [
       "[123, 232, 1, 3, 2, 1, 0]"
      ]
     },
     "execution_count": 847,
     "metadata": {},
     "output_type": "execute_result"
    }
   ],
   "source": [
    "A"
   ]
  },
  {
   "cell_type": "code",
   "execution_count": 787,
   "id": "b2914cdd",
   "metadata": {},
   "outputs": [
    {
     "data": {
      "text/plain": [
       "0"
      ]
     },
     "execution_count": 787,
     "metadata": {},
     "output_type": "execute_result"
    }
   ],
   "source": [
    "A.count(1234)"
   ]
  },
  {
   "cell_type": "code",
   "execution_count": 788,
   "id": "493ae2fc",
   "metadata": {},
   "outputs": [],
   "source": [
    "A.insert(0,4)"
   ]
  },
  {
   "cell_type": "code",
   "execution_count": 789,
   "id": "90c3eb4d",
   "metadata": {},
   "outputs": [],
   "source": [
    "A.index(5)"
   ]
  },
  {
   "cell_type": "code",
   "execution_count": 790,
   "id": "8bce83c6",
   "metadata": {},
   "outputs": [
    {
     "data": {
      "text/plain": [
       "1"
      ]
     },
     "execution_count": 790,
     "metadata": {},
     "output_type": "execute_result"
    }
   ],
   "source": [
    "A.pop(-1)"
   ]
  },
  {
   "cell_type": "code",
   "execution_count": 791,
   "id": "9e3c6b1f",
   "metadata": {},
   "outputs": [
    {
     "name": "stdout",
     "output_type": "stream",
     "text": [
      "0\n"
     ]
    }
   ],
   "source": [
    "for i in range(1):\n",
    "    print(i)"
   ]
  },
  {
   "cell_type": "code",
   "execution_count": 792,
   "id": "393385ff",
   "metadata": {},
   "outputs": [],
   "source": [
    "a=[1,2,3,4]"
   ]
  },
  {
   "cell_type": "code",
   "execution_count": 793,
   "id": "97a45e24",
   "metadata": {},
   "outputs": [
    {
     "data": {
      "text/plain": [
       "[1, 2, 3, 4]"
      ]
     },
     "execution_count": 793,
     "metadata": {},
     "output_type": "execute_result"
    }
   ],
   "source": [
    "a"
   ]
  },
  {
   "cell_type": "code",
   "execution_count": 794,
   "id": "da3aad9f",
   "metadata": {},
   "outputs": [
    {
     "data": {
      "text/plain": [
       "[3, 2]"
      ]
     },
     "execution_count": 794,
     "metadata": {},
     "output_type": "execute_result"
    }
   ],
   "source": [
    "a[-2:0:-1]"
   ]
  },
  {
   "cell_type": "code",
   "execution_count": 795,
   "id": "483874db",
   "metadata": {},
   "outputs": [
    {
     "data": {
      "text/plain": [
       "4"
      ]
     },
     "execution_count": 795,
     "metadata": {},
     "output_type": "execute_result"
    }
   ],
   "source": [
    "a.pop()\n"
   ]
  },
  {
   "cell_type": "code",
   "execution_count": 811,
   "id": "5c2a1f00",
   "metadata": {},
   "outputs": [],
   "source": [
    "A=UnorderedList()\n",
    "A.append(232)\n",
    "A.append(123)\n",
    "A.add(3)\n",
    "A.add(2)\n",
    "A.add(1)\n",
    "A.add(0)"
   ]
  },
  {
   "cell_type": "code",
   "execution_count": 816,
   "id": "426cdfe2",
   "metadata": {},
   "outputs": [],
   "source": [
    "B=UnorderedList()\n",
    "B.append(232)\n",
    "B.append(123)\n",
    "B.add(3)\n",
    "B.add(2)\n",
    "B.add(1)\n",
    "B.add(1)\n",
    "B.add(1)\n",
    "B.add(1)\n",
    "B.add(1)\n",
    "B.add(1)\n",
    "B.add(0)"
   ]
  },
  {
   "cell_type": "code",
   "execution_count": 819,
   "id": "e1815e9b",
   "metadata": {},
   "outputs": [
    {
     "data": {
      "text/plain": [
       "False"
      ]
     },
     "execution_count": 819,
     "metadata": {},
     "output_type": "execute_result"
    }
   ],
   "source": [
    "A.same_element(B)\n"
   ]
  },
  {
   "cell_type": "code",
   "execution_count": 820,
   "id": "a9b8761d",
   "metadata": {},
   "outputs": [
    {
     "data": {
      "text/plain": [
       "True"
      ]
     },
     "execution_count": 820,
     "metadata": {},
     "output_type": "execute_result"
    }
   ],
   "source": [
    "A.same_type_of_elements(B)"
   ]
  },
  {
   "cell_type": "code",
   "execution_count": 817,
   "id": "c70cd2a3",
   "metadata": {},
   "outputs": [
    {
     "data": {
      "text/plain": [
       "[0, 1, 2, 3, 232, 123]"
      ]
     },
     "execution_count": 817,
     "metadata": {},
     "output_type": "execute_result"
    }
   ],
   "source": [
    "A"
   ]
  },
  {
   "cell_type": "code",
   "execution_count": 818,
   "id": "ca23a7ac",
   "metadata": {},
   "outputs": [
    {
     "data": {
      "text/plain": [
       "[0, 1, 1, 1, 1, 1, 1, 2, 3, 232, 123]"
      ]
     },
     "execution_count": 818,
     "metadata": {},
     "output_type": "execute_result"
    }
   ],
   "source": [
    "B"
   ]
  },
  {
   "cell_type": "code",
   "execution_count": 709,
   "id": "1e2af3b0",
   "metadata": {},
   "outputs": [],
   "source": [
    "A.add(1)"
   ]
  },
  {
   "cell_type": "code",
   "execution_count": 710,
   "id": "62d8fe01",
   "metadata": {},
   "outputs": [
    {
     "data": {
      "text/plain": [
       "[1, 2, 3]"
      ]
     },
     "execution_count": 710,
     "metadata": {},
     "output_type": "execute_result"
    }
   ],
   "source": [
    "a"
   ]
  },
  {
   "cell_type": "code",
   "execution_count": 447,
   "id": "a1644940",
   "metadata": {},
   "outputs": [],
   "source": [
    "a += [2] if False else [3]"
   ]
  },
  {
   "cell_type": "code",
   "execution_count": 161,
   "id": "b4dbb741",
   "metadata": {},
   "outputs": [
    {
     "data": {
      "text/plain": [
       "[1, 2, 3, 2, 2, 2, 3, 3, 3]"
      ]
     },
     "execution_count": 161,
     "metadata": {},
     "output_type": "execute_result"
    }
   ],
   "source": [
    "a"
   ]
  },
  {
   "cell_type": "code",
   "execution_count": 198,
   "id": "5d397814",
   "metadata": {},
   "outputs": [
    {
     "data": {
      "text/plain": [
       "<itertools.permutations at 0x1b925bfb220>"
      ]
     },
     "execution_count": 198,
     "metadata": {},
     "output_type": "execute_result"
    }
   ],
   "source": [
    "permutations([1,2,3,4])"
   ]
  },
  {
   "cell_type": "code",
   "execution_count": 210,
   "id": "9eb81477",
   "metadata": {},
   "outputs": [
    {
     "name": "stdout",
     "output_type": "stream",
     "text": [
      "3\n",
      "4\n",
      "2\n",
      "1\n"
     ]
    }
   ],
   "source": [
    "for i in np.random.permutation([1,2,3,4]):\n",
    "    print(i)"
   ]
  },
  {
   "cell_type": "code",
   "execution_count": 214,
   "id": "9201ced0",
   "metadata": {},
   "outputs": [
    {
     "data": {
      "text/plain": [
       "[3, 1, 4, 2]"
      ]
     },
     "execution_count": 214,
     "metadata": {},
     "output_type": "execute_result"
    }
   ],
   "source": [
    "list(np.random.permutation([1,2,3,4]))"
   ]
  },
  {
   "cell_type": "code",
   "execution_count": 304,
   "id": "809cfc8f",
   "metadata": {},
   "outputs": [
    {
     "data": {
      "text/plain": [
       "list"
      ]
     },
     "execution_count": 304,
     "metadata": {},
     "output_type": "execute_result"
    }
   ],
   "source": [
    "type([i for i in np.random.permutation([1,2,3,4])])"
   ]
  },
  {
   "cell_type": "code",
   "execution_count": 502,
   "id": "4dafc116",
   "metadata": {},
   "outputs": [
    {
     "ename": "TypeError",
     "evalue": "'>' not supported between instances of 'UnorderedList' and 'list'",
     "output_type": "error",
     "traceback": [
      "\u001b[1;31m---------------------------------------------------------------------------\u001b[0m",
      "\u001b[1;31mTypeError\u001b[0m                                 Traceback (most recent call last)",
      "\u001b[1;32m<ipython-input-502-278c88e20835>\u001b[0m in \u001b[0;36m<module>\u001b[1;34m\u001b[0m\n\u001b[1;32m----> 1\u001b[1;33m \u001b[0mA\u001b[0m\u001b[1;33m>\u001b[0m\u001b[0ma\u001b[0m\u001b[1;33m\u001b[0m\u001b[1;33m\u001b[0m\u001b[0m\n\u001b[0m",
      "\u001b[1;31mTypeError\u001b[0m: '>' not supported between instances of 'UnorderedList' and 'list'"
     ]
    }
   ],
   "source": [
    "A>a"
   ]
  },
  {
   "cell_type": "code",
   "execution_count": 534,
   "id": "2eff870a",
   "metadata": {},
   "outputs": [
    {
     "name": "stdout",
     "output_type": "stream",
     "text": [
      "list\n"
     ]
    }
   ],
   "source": [
    "print(type([1,2,3]).__name__)"
   ]
  },
  {
   "cell_type": "code",
   "execution_count": null,
   "id": "e2934328",
   "metadata": {},
   "outputs": [],
   "source": []
  },
  {
   "cell_type": "code",
   "execution_count": null,
   "id": "cb92ef26",
   "metadata": {},
   "outputs": [],
   "source": []
  },
  {
   "cell_type": "code",
   "execution_count": null,
   "id": "7d257e33",
   "metadata": {},
   "outputs": [],
   "source": []
  },
  {
   "cell_type": "markdown",
   "id": "7db55f41",
   "metadata": {},
   "source": [
    "# Zadanie 6"
   ]
  },
  {
   "cell_type": "code",
   "execution_count": 879,
   "id": "4697d2e5",
   "metadata": {},
   "outputs": [],
   "source": [
    "class StackUsingUL(object):\n",
    "    def __init__(self):\n",
    "        self.items = UnorderedList()\n",
    "    \n",
    "    def is_empty(self):\n",
    "        \"\"\"\n",
    "        Metoda sprawdzajacą, czy stos jest pusty.\n",
    "        Nie pobiera argumentów.\n",
    "        Zwraca True lub False.\n",
    "        \"\"\"\n",
    "        return self.item.is_empty()\n",
    "  \n",
    "    def push(self, item):\n",
    "        \"\"\"\n",
    "        Metoda umieszcza nowy element na stosie.\n",
    "        Pobiera element, który ma zostać umieszczony.\n",
    "        Niczego nie zwraca.\n",
    "        \"\"\"\n",
    "        self.item.append(item)\n",
    "    \n",
    "    def pop(self):\n",
    "        \"\"\"\n",
    "        Metoda ściąga element ze stosu.\n",
    "        Nie przyjmuje żadnych argumentów.\n",
    "        Zwraca ściągnięty element.\n",
    "        Jeśli stos jest pusty, rzuca wyjątkiem IndexError.\n",
    "        \"\"\"\n",
    "\n",
    "        return self.item.pop()\n",
    "\n",
    "    def peek(self):\n",
    "        \"\"\"\n",
    "        Metoda podaje wartość elementu na wierzchu stosu\n",
    "        nie ściągajac go.\n",
    "        Nie pobiera argumentów.\n",
    "        Zwraca wierzchni element stosu.\n",
    "        Jeśli stos jest pusty, rzuca wyjątkiem IndexError.\n",
    "        \"\"\"\n",
    "        return self.item[-1]\n",
    "\n",
    "    def size(self):\n",
    "        \"\"\"\n",
    "        Metoda zwraca liczę elementów na stosie.\n",
    "        Nie pobiera argumentów.\n",
    "        Zwraca liczbę elementów na stosie.\n",
    "        \"\"\"\n",
    "        return self.item.size()\n",
    "    "
   ]
  },
  {
   "cell_type": "markdown",
   "id": "8061f134",
   "metadata": {},
   "source": [
    "# Zadanie 7"
   ]
  },
  {
   "cell_type": "code",
   "execution_count": 1028,
   "id": "a66da1d2",
   "metadata": {},
   "outputs": [],
   "source": [
    "class DequeueUsingUL(object):\n",
    "\n",
    "    def __init__(self):\n",
    "        self.items = UnorderedList()\n",
    "\n",
    "    def is_empty(self):\n",
    "        \"\"\"\n",
    "        Metoda sprawdzajacą, czy kolejka jest pusta.\n",
    "        Nie pobiera argumentów.\n",
    "        Zwraca True lub False.\n",
    "        \"\"\"\n",
    "        return self.items.is_empty()\n",
    "    \n",
    "    def add_left(self, item):\n",
    "        \"\"\"\n",
    "        Metoda dodaje element do kolejki z lewej strony.\n",
    "        Pobiera jako argument element, który ma zostać dodany.\n",
    "        Niczego nie zwraca.\n",
    "        \"\"\"\n",
    "        self.items.add(item)\n",
    "\n",
    "    def add_right(self, item):\n",
    "        \"\"\"\n",
    "        Metoda dodaje element do kolejki z prawej strony.\n",
    "        Pobiera jako argument element, który ma zostać dodany.\n",
    "        Niczego nie zwraca.\n",
    "        \"\"\"\n",
    "        self.items.append(item)\n",
    "    \n",
    "    def remove_left(self):\n",
    "        \"\"\"\n",
    "        Metoda usuwa element z kolejki z lewej strony.\n",
    "        Nie pobiera argumentów.\n",
    "        Zwraca usuwany element.\n",
    "        W przypadku pustej kolejku rzuca wyjątkiem IndexError\n",
    "        \"\"\"\n",
    "        return self.items.pop(0)\n",
    "    \n",
    "    def remove_right(self):\n",
    "        \"\"\"\n",
    "        Metoda usuwa element z kolejki z prawej strony.\n",
    "        Nie pobiera argumentów.\n",
    "        Zwraca usuwany element.\n",
    "        W przypadku pustej kolejku rzuca wyjątkiem IndexError\n",
    "        \"\"\"\n",
    "        return self.items.pop()\n",
    "  \n",
    "    def size(self):\n",
    "        \"\"\"\n",
    "        Metoda zwraca liczę elementów na w kolejce.\n",
    "        Nie pobiera argumentów.\n",
    "        Zwraca liczbę elementów na w kolejce.\n",
    "        \"\"\"\n",
    "        return self.items.size()\n",
    "\n",
    "    def __repr__(self):\n",
    "        return self.items.__repr__()\n",
    "    "
   ]
  },
  {
   "cell_type": "code",
   "execution_count": 1029,
   "id": "e3cd0471",
   "metadata": {},
   "outputs": [],
   "source": [
    "D=DequeueUsingUL()\n"
   ]
  },
  {
   "cell_type": "code",
   "execution_count": 1030,
   "id": "6239ed8e",
   "metadata": {},
   "outputs": [],
   "source": [
    "D.add_right(2)"
   ]
  },
  {
   "cell_type": "code",
   "execution_count": 1031,
   "id": "0d1e6966",
   "metadata": {},
   "outputs": [
    {
     "data": {
      "text/plain": [
       "[2]"
      ]
     },
     "execution_count": 1031,
     "metadata": {},
     "output_type": "execute_result"
    }
   ],
   "source": [
    "D"
   ]
  },
  {
   "cell_type": "code",
   "execution_count": 1032,
   "id": "47fa0180",
   "metadata": {},
   "outputs": [],
   "source": [
    "D.add_left(123)"
   ]
  },
  {
   "cell_type": "code",
   "execution_count": 1033,
   "id": "ff96b545",
   "metadata": {},
   "outputs": [
    {
     "data": {
      "text/plain": [
       "[123, 2]"
      ]
     },
     "execution_count": 1033,
     "metadata": {},
     "output_type": "execute_result"
    }
   ],
   "source": [
    "D"
   ]
  },
  {
   "cell_type": "code",
   "execution_count": 1034,
   "id": "2966dc56",
   "metadata": {},
   "outputs": [],
   "source": [
    "D.add_right(1332)"
   ]
  },
  {
   "cell_type": "code",
   "execution_count": 1035,
   "id": "bab4cb0b",
   "metadata": {},
   "outputs": [
    {
     "data": {
      "text/plain": [
       "[123, 2, 1332]"
      ]
     },
     "execution_count": 1035,
     "metadata": {},
     "output_type": "execute_result"
    }
   ],
   "source": [
    "D"
   ]
  },
  {
   "cell_type": "code",
   "execution_count": 1036,
   "id": "e6bb4f72",
   "metadata": {},
   "outputs": [
    {
     "data": {
      "text/plain": [
       "3"
      ]
     },
     "execution_count": 1036,
     "metadata": {},
     "output_type": "execute_result"
    }
   ],
   "source": [
    "D.size()"
   ]
  },
  {
   "cell_type": "code",
   "execution_count": 1037,
   "id": "aeffcb7d",
   "metadata": {},
   "outputs": [
    {
     "data": {
      "text/plain": [
       "123"
      ]
     },
     "execution_count": 1037,
     "metadata": {},
     "output_type": "execute_result"
    }
   ],
   "source": [
    "D.remove_left()"
   ]
  },
  {
   "cell_type": "code",
   "execution_count": 1038,
   "id": "e4834dda",
   "metadata": {},
   "outputs": [
    {
     "data": {
      "text/plain": [
       "[2, 1332]"
      ]
     },
     "execution_count": 1038,
     "metadata": {},
     "output_type": "execute_result"
    }
   ],
   "source": [
    "D"
   ]
  },
  {
   "cell_type": "code",
   "execution_count": 1039,
   "id": "716d98e5",
   "metadata": {},
   "outputs": [
    {
     "data": {
      "text/plain": [
       "1332"
      ]
     },
     "execution_count": 1039,
     "metadata": {},
     "output_type": "execute_result"
    }
   ],
   "source": [
    "D.remove_right()"
   ]
  },
  {
   "cell_type": "code",
   "execution_count": 1040,
   "id": "5bb81cd1",
   "metadata": {},
   "outputs": [
    {
     "data": {
      "text/plain": [
       "[2]"
      ]
     },
     "execution_count": 1040,
     "metadata": {},
     "output_type": "execute_result"
    }
   ],
   "source": [
    "D"
   ]
  },
  {
   "cell_type": "code",
   "execution_count": 1041,
   "id": "1743d944",
   "metadata": {},
   "outputs": [
    {
     "data": {
      "text/plain": [
       "False"
      ]
     },
     "execution_count": 1041,
     "metadata": {},
     "output_type": "execute_result"
    }
   ],
   "source": [
    "D.is_empty()"
   ]
  },
  {
   "cell_type": "code",
   "execution_count": 1042,
   "id": "150f7c19",
   "metadata": {},
   "outputs": [
    {
     "ename": "IndexError",
     "evalue": "Wyjście poza zekres",
     "output_type": "error",
     "traceback": [
      "\u001b[1;31m---------------------------------------------------------------------------\u001b[0m",
      "\u001b[1;31mIndexError\u001b[0m                                Traceback (most recent call last)",
      "\u001b[1;32m<ipython-input-1042-0af366a78c84>\u001b[0m in \u001b[0;36m<module>\u001b[1;34m\u001b[0m\n\u001b[0;32m      1\u001b[0m \u001b[0mD\u001b[0m\u001b[1;33m.\u001b[0m\u001b[0mremove_left\u001b[0m\u001b[1;33m(\u001b[0m\u001b[1;33m)\u001b[0m\u001b[1;33m\u001b[0m\u001b[1;33m\u001b[0m\u001b[0m\n\u001b[1;32m----> 2\u001b[1;33m \u001b[0mD\u001b[0m\u001b[1;33m.\u001b[0m\u001b[0mremove_left\u001b[0m\u001b[1;33m(\u001b[0m\u001b[1;33m)\u001b[0m\u001b[1;33m\u001b[0m\u001b[1;33m\u001b[0m\u001b[0m\n\u001b[0m\u001b[0;32m      3\u001b[0m \u001b[0mD\u001b[0m\u001b[1;33m.\u001b[0m\u001b[0mremove_left\u001b[0m\u001b[1;33m(\u001b[0m\u001b[1;33m)\u001b[0m\u001b[1;33m\u001b[0m\u001b[1;33m\u001b[0m\u001b[0m\n",
      "\u001b[1;32m<ipython-input-1028-47a4c3c3205c>\u001b[0m in \u001b[0;36mremove_left\u001b[1;34m(self)\u001b[0m\n\u001b[0;32m     35\u001b[0m         \u001b[0mW\u001b[0m \u001b[0mprzypadku\u001b[0m \u001b[0mpustej\u001b[0m \u001b[0mkolejku\u001b[0m \u001b[0mrzuca\u001b[0m \u001b[0mwyjątkiem\u001b[0m \u001b[0mIndexError\u001b[0m\u001b[1;33m\u001b[0m\u001b[1;33m\u001b[0m\u001b[0m\n\u001b[0;32m     36\u001b[0m         \"\"\"\n\u001b[1;32m---> 37\u001b[1;33m         \u001b[1;32mreturn\u001b[0m \u001b[0mself\u001b[0m\u001b[1;33m.\u001b[0m\u001b[0mitems\u001b[0m\u001b[1;33m.\u001b[0m\u001b[0mpop\u001b[0m\u001b[1;33m(\u001b[0m\u001b[1;36m0\u001b[0m\u001b[1;33m)\u001b[0m\u001b[1;33m\u001b[0m\u001b[1;33m\u001b[0m\u001b[0m\n\u001b[0m\u001b[0;32m     38\u001b[0m \u001b[1;33m\u001b[0m\u001b[0m\n\u001b[0;32m     39\u001b[0m     \u001b[1;32mdef\u001b[0m \u001b[0mremove_right\u001b[0m\u001b[1;33m(\u001b[0m\u001b[0mself\u001b[0m\u001b[1;33m)\u001b[0m\u001b[1;33m:\u001b[0m\u001b[1;33m\u001b[0m\u001b[1;33m\u001b[0m\u001b[0m\n",
      "\u001b[1;32m<ipython-input-989-348e97abd0ba>\u001b[0m in \u001b[0;36mpop\u001b[1;34m(self, pos)\u001b[0m\n\u001b[0;32m    158\u001b[0m         \u001b[0mn\u001b[0m\u001b[1;33m=\u001b[0m\u001b[0mself\u001b[0m\u001b[1;33m.\u001b[0m\u001b[0msize\u001b[0m\u001b[1;33m(\u001b[0m\u001b[1;33m)\u001b[0m\u001b[1;33m\u001b[0m\u001b[1;33m\u001b[0m\u001b[0m\n\u001b[0;32m    159\u001b[0m         \u001b[1;32mif\u001b[0m \u001b[0mpos\u001b[0m \u001b[1;33m+\u001b[0m \u001b[1;36m1\u001b[0m \u001b[1;33m>\u001b[0m \u001b[0mn\u001b[0m \u001b[1;32mor\u001b[0m \u001b[1;33m-\u001b[0m\u001b[0mpos\u001b[0m \u001b[1;33m>\u001b[0m \u001b[0mn\u001b[0m\u001b[1;33m:\u001b[0m\u001b[1;33m\u001b[0m\u001b[1;33m\u001b[0m\u001b[0m\n\u001b[1;32m--> 160\u001b[1;33m             \u001b[1;32mraise\u001b[0m \u001b[0mIndexError\u001b[0m\u001b[1;33m(\u001b[0m\u001b[1;34m\"Wyjście poza zekres\"\u001b[0m\u001b[1;33m)\u001b[0m\u001b[1;33m\u001b[0m\u001b[1;33m\u001b[0m\u001b[0m\n\u001b[0m\u001b[0;32m    161\u001b[0m \u001b[1;33m\u001b[0m\u001b[0m\n\u001b[0;32m    162\u001b[0m         \u001b[1;32mif\u001b[0m \u001b[0mpos\u001b[0m \u001b[1;33m>\u001b[0m \u001b[1;36m0\u001b[0m\u001b[1;33m:\u001b[0m\u001b[1;33m\u001b[0m\u001b[1;33m\u001b[0m\u001b[0m\n",
      "\u001b[1;31mIndexError\u001b[0m: Wyjście poza zekres"
     ]
    }
   ],
   "source": [
    "D.remove_left()\n",
    "D.remove_left()\n",
    "D.remove_left()"
   ]
  },
  {
   "cell_type": "code",
   "execution_count": 1043,
   "id": "2e16148b",
   "metadata": {},
   "outputs": [
    {
     "data": {
      "text/plain": [
       "[]"
      ]
     },
     "execution_count": 1043,
     "metadata": {},
     "output_type": "execute_result"
    }
   ],
   "source": [
    "D"
   ]
  },
  {
   "cell_type": "code",
   "execution_count": 1044,
   "id": "b9512fef",
   "metadata": {},
   "outputs": [
    {
     "data": {
      "text/plain": [
       "True"
      ]
     },
     "execution_count": 1044,
     "metadata": {},
     "output_type": "execute_result"
    }
   ],
   "source": [
    "D.is_empty()"
   ]
  },
  {
   "cell_type": "code",
   "execution_count": 1045,
   "id": "6d0125e5",
   "metadata": {},
   "outputs": [
    {
     "ename": "IndexError",
     "evalue": "Wyjście poza zekres",
     "output_type": "error",
     "traceback": [
      "\u001b[1;31m---------------------------------------------------------------------------\u001b[0m",
      "\u001b[1;31mIndexError\u001b[0m                                Traceback (most recent call last)",
      "\u001b[1;32m<ipython-input-1045-928a7b0bea6c>\u001b[0m in \u001b[0;36m<module>\u001b[1;34m\u001b[0m\n\u001b[1;32m----> 1\u001b[1;33m \u001b[0mD\u001b[0m\u001b[1;33m.\u001b[0m\u001b[0mremove_left\u001b[0m\u001b[1;33m(\u001b[0m\u001b[1;33m)\u001b[0m\u001b[1;33m\u001b[0m\u001b[1;33m\u001b[0m\u001b[0m\n\u001b[0m",
      "\u001b[1;32m<ipython-input-1028-47a4c3c3205c>\u001b[0m in \u001b[0;36mremove_left\u001b[1;34m(self)\u001b[0m\n\u001b[0;32m     35\u001b[0m         \u001b[0mW\u001b[0m \u001b[0mprzypadku\u001b[0m \u001b[0mpustej\u001b[0m \u001b[0mkolejku\u001b[0m \u001b[0mrzuca\u001b[0m \u001b[0mwyjątkiem\u001b[0m \u001b[0mIndexError\u001b[0m\u001b[1;33m\u001b[0m\u001b[1;33m\u001b[0m\u001b[0m\n\u001b[0;32m     36\u001b[0m         \"\"\"\n\u001b[1;32m---> 37\u001b[1;33m         \u001b[1;32mreturn\u001b[0m \u001b[0mself\u001b[0m\u001b[1;33m.\u001b[0m\u001b[0mitems\u001b[0m\u001b[1;33m.\u001b[0m\u001b[0mpop\u001b[0m\u001b[1;33m(\u001b[0m\u001b[1;36m0\u001b[0m\u001b[1;33m)\u001b[0m\u001b[1;33m\u001b[0m\u001b[1;33m\u001b[0m\u001b[0m\n\u001b[0m\u001b[0;32m     38\u001b[0m \u001b[1;33m\u001b[0m\u001b[0m\n\u001b[0;32m     39\u001b[0m     \u001b[1;32mdef\u001b[0m \u001b[0mremove_right\u001b[0m\u001b[1;33m(\u001b[0m\u001b[0mself\u001b[0m\u001b[1;33m)\u001b[0m\u001b[1;33m:\u001b[0m\u001b[1;33m\u001b[0m\u001b[1;33m\u001b[0m\u001b[0m\n",
      "\u001b[1;32m<ipython-input-989-348e97abd0ba>\u001b[0m in \u001b[0;36mpop\u001b[1;34m(self, pos)\u001b[0m\n\u001b[0;32m    158\u001b[0m         \u001b[0mn\u001b[0m\u001b[1;33m=\u001b[0m\u001b[0mself\u001b[0m\u001b[1;33m.\u001b[0m\u001b[0msize\u001b[0m\u001b[1;33m(\u001b[0m\u001b[1;33m)\u001b[0m\u001b[1;33m\u001b[0m\u001b[1;33m\u001b[0m\u001b[0m\n\u001b[0;32m    159\u001b[0m         \u001b[1;32mif\u001b[0m \u001b[0mpos\u001b[0m \u001b[1;33m+\u001b[0m \u001b[1;36m1\u001b[0m \u001b[1;33m>\u001b[0m \u001b[0mn\u001b[0m \u001b[1;32mor\u001b[0m \u001b[1;33m-\u001b[0m\u001b[0mpos\u001b[0m \u001b[1;33m>\u001b[0m \u001b[0mn\u001b[0m\u001b[1;33m:\u001b[0m\u001b[1;33m\u001b[0m\u001b[1;33m\u001b[0m\u001b[0m\n\u001b[1;32m--> 160\u001b[1;33m             \u001b[1;32mraise\u001b[0m \u001b[0mIndexError\u001b[0m\u001b[1;33m(\u001b[0m\u001b[1;34m\"Wyjście poza zekres\"\u001b[0m\u001b[1;33m)\u001b[0m\u001b[1;33m\u001b[0m\u001b[1;33m\u001b[0m\u001b[0m\n\u001b[0m\u001b[0;32m    161\u001b[0m \u001b[1;33m\u001b[0m\u001b[0m\n\u001b[0;32m    162\u001b[0m         \u001b[1;32mif\u001b[0m \u001b[0mpos\u001b[0m \u001b[1;33m>\u001b[0m \u001b[1;36m0\u001b[0m\u001b[1;33m:\u001b[0m\u001b[1;33m\u001b[0m\u001b[1;33m\u001b[0m\u001b[0m\n",
      "\u001b[1;31mIndexError\u001b[0m: Wyjście poza zekres"
     ]
    }
   ],
   "source": [
    "D.remove_left()"
   ]
  },
  {
   "cell_type": "code",
   "execution_count": 1046,
   "id": "42efe715",
   "metadata": {},
   "outputs": [
    {
     "ename": "IndexError",
     "evalue": "Wyjście poza zekres",
     "output_type": "error",
     "traceback": [
      "\u001b[1;31m---------------------------------------------------------------------------\u001b[0m",
      "\u001b[1;31mIndexError\u001b[0m                                Traceback (most recent call last)",
      "\u001b[1;32m<ipython-input-1046-a36f57180947>\u001b[0m in \u001b[0;36m<module>\u001b[1;34m\u001b[0m\n\u001b[1;32m----> 1\u001b[1;33m \u001b[0mD\u001b[0m\u001b[1;33m.\u001b[0m\u001b[0mremove_right\u001b[0m\u001b[1;33m(\u001b[0m\u001b[1;33m)\u001b[0m\u001b[1;33m\u001b[0m\u001b[1;33m\u001b[0m\u001b[0m\n\u001b[0m",
      "\u001b[1;32m<ipython-input-1028-47a4c3c3205c>\u001b[0m in \u001b[0;36mremove_right\u001b[1;34m(self)\u001b[0m\n\u001b[0;32m     44\u001b[0m         \u001b[0mW\u001b[0m \u001b[0mprzypadku\u001b[0m \u001b[0mpustej\u001b[0m \u001b[0mkolejku\u001b[0m \u001b[0mrzuca\u001b[0m \u001b[0mwyjątkiem\u001b[0m \u001b[0mIndexError\u001b[0m\u001b[1;33m\u001b[0m\u001b[1;33m\u001b[0m\u001b[0m\n\u001b[0;32m     45\u001b[0m         \"\"\"\n\u001b[1;32m---> 46\u001b[1;33m         \u001b[1;32mreturn\u001b[0m \u001b[0mself\u001b[0m\u001b[1;33m.\u001b[0m\u001b[0mitems\u001b[0m\u001b[1;33m.\u001b[0m\u001b[0mpop\u001b[0m\u001b[1;33m(\u001b[0m\u001b[1;33m)\u001b[0m\u001b[1;33m\u001b[0m\u001b[1;33m\u001b[0m\u001b[0m\n\u001b[0m\u001b[0;32m     47\u001b[0m \u001b[1;33m\u001b[0m\u001b[0m\n\u001b[0;32m     48\u001b[0m     \u001b[1;32mdef\u001b[0m \u001b[0msize\u001b[0m\u001b[1;33m(\u001b[0m\u001b[0mself\u001b[0m\u001b[1;33m)\u001b[0m\u001b[1;33m:\u001b[0m\u001b[1;33m\u001b[0m\u001b[1;33m\u001b[0m\u001b[0m\n",
      "\u001b[1;32m<ipython-input-989-348e97abd0ba>\u001b[0m in \u001b[0;36mpop\u001b[1;34m(self, pos)\u001b[0m\n\u001b[0;32m    158\u001b[0m         \u001b[0mn\u001b[0m\u001b[1;33m=\u001b[0m\u001b[0mself\u001b[0m\u001b[1;33m.\u001b[0m\u001b[0msize\u001b[0m\u001b[1;33m(\u001b[0m\u001b[1;33m)\u001b[0m\u001b[1;33m\u001b[0m\u001b[1;33m\u001b[0m\u001b[0m\n\u001b[0;32m    159\u001b[0m         \u001b[1;32mif\u001b[0m \u001b[0mpos\u001b[0m \u001b[1;33m+\u001b[0m \u001b[1;36m1\u001b[0m \u001b[1;33m>\u001b[0m \u001b[0mn\u001b[0m \u001b[1;32mor\u001b[0m \u001b[1;33m-\u001b[0m\u001b[0mpos\u001b[0m \u001b[1;33m>\u001b[0m \u001b[0mn\u001b[0m\u001b[1;33m:\u001b[0m\u001b[1;33m\u001b[0m\u001b[1;33m\u001b[0m\u001b[0m\n\u001b[1;32m--> 160\u001b[1;33m             \u001b[1;32mraise\u001b[0m \u001b[0mIndexError\u001b[0m\u001b[1;33m(\u001b[0m\u001b[1;34m\"Wyjście poza zekres\"\u001b[0m\u001b[1;33m)\u001b[0m\u001b[1;33m\u001b[0m\u001b[1;33m\u001b[0m\u001b[0m\n\u001b[0m\u001b[0;32m    161\u001b[0m \u001b[1;33m\u001b[0m\u001b[0m\n\u001b[0;32m    162\u001b[0m         \u001b[1;32mif\u001b[0m \u001b[0mpos\u001b[0m \u001b[1;33m>\u001b[0m \u001b[1;36m0\u001b[0m\u001b[1;33m:\u001b[0m\u001b[1;33m\u001b[0m\u001b[1;33m\u001b[0m\u001b[0m\n",
      "\u001b[1;31mIndexError\u001b[0m: Wyjście poza zekres"
     ]
    }
   ],
   "source": [
    "D.remove_right()"
   ]
  },
  {
   "cell_type": "code",
   "execution_count": null,
   "id": "771c8e06",
   "metadata": {},
   "outputs": [],
   "source": []
  },
  {
   "cell_type": "markdown",
   "id": "ed4edd92",
   "metadata": {},
   "source": [
    "# Zadanie 8"
   ]
  },
  {
   "cell_type": "markdown",
   "id": "8cf3dbed",
   "metadata": {},
   "source": [
    "Przeprowadzanie eksperymentu zaczniemy od różniczy w dodawaniu elementów na końcu listy."
   ]
  },
  {
   "cell_type": "code",
   "execution_count": 1075,
   "id": "944bc6bc",
   "metadata": {},
   "outputs": [],
   "source": [
    "A=UnorderedList()\n",
    "B=[]"
   ]
  },
  {
   "cell_type": "code",
   "execution_count": 1076,
   "id": "d6e3e778",
   "metadata": {},
   "outputs": [
    {
     "name": "stdout",
     "output_type": "stream",
     "text": [
      "The slowest run took 14.52 times longer than the fastest. This could mean that an intermediate result is being cached.\n",
      "330 µs ± 191 µs per loop (mean ± std. dev. of 7 runs, 1000 loops each)\n"
     ]
    }
   ],
   "source": [
    "%%timeit -n 1000\n",
    "A.append(1)"
   ]
  },
  {
   "cell_type": "code",
   "execution_count": 1077,
   "id": "5c0e8a49",
   "metadata": {},
   "outputs": [
    {
     "name": "stdout",
     "output_type": "stream",
     "text": [
      "41.4 ns ± 5.92 ns per loop (mean ± std. dev. of 7 runs, 1000 loops each)\n"
     ]
    }
   ],
   "source": [
    "%%timeit -n 1000\n",
    "B.append(1)"
   ]
  },
  {
   "cell_type": "markdown",
   "id": "f8f03150",
   "metadata": {},
   "source": [
    "Jeśli do pustej listy dodajemy 1000 elementów widzimy różnicę całego rzędu w czasie wykonania, ale możemy również zauważyć, że w przypadku naszej listy czas wykonani najszybszego i najwolniejszego dodania różni się ponad 14-sto krotnie, jeśli dodamy kolejne 1000 elementów:"
   ]
  },
  {
   "cell_type": "code",
   "execution_count": 1078,
   "id": "7e95de2b",
   "metadata": {},
   "outputs": [
    {
     "name": "stdout",
     "output_type": "stream",
     "text": [
      "1.02 ms ± 166 µs per loop (mean ± std. dev. of 7 runs, 1000 loops each)\n"
     ]
    }
   ],
   "source": [
    "%%timeit -n 1000\n",
    "A.append(1)"
   ]
  },
  {
   "cell_type": "code",
   "execution_count": 1079,
   "id": "0c5146f4",
   "metadata": {},
   "outputs": [
    {
     "name": "stdout",
     "output_type": "stream",
     "text": [
      "37.6 ns ± 3.72 ns per loop (mean ± std. dev. of 7 runs, 1000 loops each)\n"
     ]
    }
   ],
   "source": [
    "%%timeit -n 1000\n",
    "B.append(1)"
   ]
  },
  {
   "cell_type": "markdown",
   "id": "5f6eba04",
   "metadata": {},
   "source": [
    "widzimy, że w naszej liście czas działania zależy od ilości dodanych wcześniej elementów. "
   ]
  },
  {
   "cell_type": "markdown",
   "id": "1ed8d976",
   "metadata": {},
   "source": [
    "Jeśli teraz sprawdzimy dodawanie na początku listy"
   ]
  },
  {
   "cell_type": "code",
   "execution_count": 1080,
   "id": "54da1ca7",
   "metadata": {},
   "outputs": [],
   "source": [
    "A=UnorderedList()\n",
    "B=[]"
   ]
  },
  {
   "cell_type": "code",
   "execution_count": 1081,
   "id": "b44ca7e8",
   "metadata": {},
   "outputs": [
    {
     "name": "stdout",
     "output_type": "stream",
     "text": [
      "384 ns ± 9.81 ns per loop (mean ± std. dev. of 7 runs, 1000 loops each)\n"
     ]
    }
   ],
   "source": [
    "%%timeit -n 1000\n",
    "A.add(1)"
   ]
  },
  {
   "cell_type": "code",
   "execution_count": 1082,
   "id": "8ec837ec",
   "metadata": {},
   "outputs": [
    {
     "name": "stdout",
     "output_type": "stream",
     "text": [
      "The slowest run took 7.39 times longer than the fastest. This could mean that an intermediate result is being cached.\n",
      "1.08 µs ± 590 ns per loop (mean ± std. dev. of 7 runs, 1000 loops each)\n"
     ]
    }
   ],
   "source": [
    "%%timeit -n 1000\n",
    "B.insert(0,1)"
   ]
  },
  {
   "cell_type": "markdown",
   "id": "f546cc64",
   "metadata": {},
   "source": [
    "możemy zauważyć sytuację odwrotną, jeśli powtórzymy to dla kolejnych 1000 elementów"
   ]
  },
  {
   "cell_type": "code",
   "execution_count": 1083,
   "id": "3e97b4c5",
   "metadata": {},
   "outputs": [
    {
     "name": "stdout",
     "output_type": "stream",
     "text": [
      "475 ns ± 103 ns per loop (mean ± std. dev. of 7 runs, 1000 loops each)\n"
     ]
    }
   ],
   "source": [
    "%%timeit -n 1000\n",
    "A.add(1)"
   ]
  },
  {
   "cell_type": "code",
   "execution_count": 1086,
   "id": "c3d7f2dc",
   "metadata": {},
   "outputs": [
    {
     "name": "stdout",
     "output_type": "stream",
     "text": [
      "5.2 µs ± 640 ns per loop (mean ± std. dev. of 7 runs, 1000 loops each)\n"
     ]
    }
   ],
   "source": [
    "%%timeit -n 1000\n",
    "B.insert(0,1)"
   ]
  },
  {
   "cell_type": "markdown",
   "id": "26672d4d",
   "metadata": {},
   "source": [
    "Zauważymy, że tym razem listy pythonowskie działają wolniej i zależą od ilości elementów"
   ]
  },
  {
   "cell_type": "markdown",
   "id": "cedd22b7",
   "metadata": {},
   "source": []
  },
  {
   "cell_type": "code",
   "execution_count": 1108,
   "id": "d012c9ed",
   "metadata": {},
   "outputs": [],
   "source": [
    "A_pocz=UnorderedList() # nasza dodawanie na początku\n",
    "A_kon=UnorderedList()  # Dodawanie na koncu\n",
    "B_pocz=[] # Pythonowska dodawanie na początku\n",
    "B_kon=[]  # na koncu\n",
    "\n",
    "\n",
    "# tavela czasow\n",
    "pyt_pocz=[0 for i in range(30000)]\n",
    "pyt_kon=[0 for i in range(30000)]\n",
    "nasz_pocz=[0 for i in range(30000)]\n",
    "nasz_kon=[0 for i in range(30000)]\n",
    "\n",
    "\n",
    "#liczenie czasow dodawania\n",
    "tim=time.time()\n",
    "for i in range(30000):\n",
    "    B_pocz.insert(0,i)\n",
    "    pyt_pocz[i]=time.time()-tim\n",
    "    \n",
    "tim=time.time()\n",
    "for i in range(30000):\n",
    "    B_kon.append(i)\n",
    "    pyt_kon[i]=time.time()-tim\n",
    "    \n",
    "tim=time.time()\n",
    "for i in range(30000):\n",
    "    A_pocz.add(i)\n",
    "    nasz_pocz[i]=time.time()-tim\n",
    "    \n",
    "tim=time.time()\n",
    "for i in range(30000):\n",
    "    A_kon.append(i)\n",
    "    nasz_kon[i]=time.time()-tim"
   ]
  },
  {
   "cell_type": "code",
   "execution_count": 1114,
   "id": "933a09cc",
   "metadata": {},
   "outputs": [
    {
     "data": {
      "text/plain": [
       "range(0, 30000)"
      ]
     },
     "execution_count": 1114,
     "metadata": {},
     "output_type": "execute_result"
    }
   ],
   "source": [
    "t"
   ]
  },
  {
   "cell_type": "code",
   "execution_count": 1117,
   "id": "16e64de1",
   "metadata": {},
   "outputs": [
    {
     "data": {
      "text/plain": [
       "42.86649751663208"
      ]
     },
     "execution_count": 1117,
     "metadata": {},
     "output_type": "execute_result"
    }
   ],
   "source": [
    "nasz_kon[-1]"
   ]
  },
  {
   "cell_type": "code",
   "execution_count": null,
   "id": "fa8c917f",
   "metadata": {},
   "outputs": [],
   "source": []
  },
  {
   "cell_type": "code",
   "execution_count": 1138,
   "id": "5893400e",
   "metadata": {},
   "outputs": [
    {
     "data": {
      "image/png": "[encoded data removed]",
      "text/plain": [
       "<Figure size 432x288 with 2 Axes>"
      ]
     },
     "metadata": {
      "needs_background": "light"
     },
     "output_type": "display_data"
    }
   ],
   "source": [
    "t = range(30000)\n",
    "fig, ax1 = plt.subplots()\n",
    "\n",
    "plt.title(\"Dodawanie na końcu\")\n",
    "\n",
    "color = 'tab:red'\n",
    "ax1.set_xlabel('Liczba elementów')\n",
    "ax1.set_ylabel('Nasza', color=color)\n",
    "ax1.plot(t[::4999], nasz_kon[::4999], color=color)\n",
    "ax1.tick_params(axis='y', labelcolor=color)\n",
    "\n",
    "ax2 = ax1.twinx()  # instantiate a second axes that shares the same x-axis\n",
    "\n",
    "color = 'tab:blue'\n",
    "ax2.set_ylabel('Pythonowska', color=color)  # we already handled the x-label with ax1\n",
    "ax2.plot(t[::4999], pyt_kon[::4999], color=color)\n",
    "ax2.tick_params(axis='y', labelcolor=color)\n",
    "\n",
    "fig.tight_layout()  # otherwise the right y-label is slightly clipped\n",
    "plt.show()"
   ]
  },
  {
   "cell_type": "code",
   "execution_count": 1137,
   "id": "94141c5c",
   "metadata": {},
   "outputs": [
    {
     "data": {
      "image/png": "[encoded data removed]",
      "text/plain": [
       "<Figure size 432x288 with 2 Axes>"
      ]
     },
     "metadata": {
      "needs_background": "light"
     },
     "output_type": "display_data"
    }
   ],
   "source": [
    "t = range(30000)\n",
    "fig, ax1 = plt.subplots()\n",
    "\n",
    "plt.title(\"Dodawanie na początku\")\n",
    "\n",
    "color = 'tab:red'\n",
    "ax1.set_xlabel('Liczba elementów')\n",
    "ax1.set_ylabel('Nasz', color=color)\n",
    "ax1.plot(t[::4999], nasz_pocz[::4999], color=color)\n",
    "ax1.tick_params(axis='y', labelcolor=color)\n",
    "\n",
    "ax2 = ax1.twinx()  # instantiate a second axes that shares the same x-axis\n",
    "\n",
    "color = 'tab:blue'\n",
    "ax2.set_ylabel('Pythonowska', color=color)  # we already handled the x-label with ax1\n",
    "ax2.plot(t[::4999], pyt_pocz[::4999], color=color)\n",
    "ax2.tick_params(axis='y', labelcolor=color)\n",
    "\n",
    "fig.tight_layout()  # otherwise the right y-label is slightly clipped\n",
    "plt.show()"
   ]
  },
  {
   "cell_type": "markdown",
   "id": "0447b4bd",
   "metadata": {},
   "source": [
    "Z powyższych wykresów możemy odczytać, że w dodawaniu na końcu listy pythonowskie mają nieporównywalną przewagę (przy 3e4 elementów ułamek sekundy kontra ponad 40s), natomiast nasze listy wykrywają w dodawaniu elementów na początku listy (około dwukrotna przewaga).\n",
    "Jeśli natomiast rozpatrzymy najszybsze dodawanie elementów to"
   ]
  },
  {
   "cell_type": "code",
   "execution_count": 1141,
   "id": "b17f1802",
   "metadata": {},
   "outputs": [],
   "source": [
    "A = UnorderedList()"
   ]
  },
  {
   "cell_type": "code",
   "execution_count": 1142,
   "id": "d920fa2b",
   "metadata": {},
   "outputs": [
    {
     "name": "stdout",
     "output_type": "stream",
     "text": [
      "416 ns ± 2.88 ns per loop (mean ± std. dev. of 7 runs, 1000000 loops each)\n"
     ]
    }
   ],
   "source": [
    "%%timeit -n 1000000\n",
    "A.add(1)"
   ]
  },
  {
   "cell_type": "code",
   "execution_count": 1143,
   "id": "30e1c43a",
   "metadata": {},
   "outputs": [],
   "source": [
    "B=[]"
   ]
  },
  {
   "cell_type": "code",
   "execution_count": 1144,
   "id": "4df3542e",
   "metadata": {},
   "outputs": [
    {
     "name": "stdout",
     "output_type": "stream",
     "text": [
      "55.2 ns ± 3.4 ns per loop (mean ± std. dev. of 7 runs, 1000000 loops each)\n"
     ]
    }
   ],
   "source": [
    "%%timeit -n 1000000\n",
    "B.append(1)"
   ]
  },
  {
   "cell_type": "markdown",
   "id": "420bfbdc",
   "metadata": {},
   "source": [
    "To listy pythonowskie również mają znaczną przewagę, ale w przeciwieństwie do przypadku dodawania na końcu listy jesteśmy w stanie porównać te dwa czasy (przy 1e6 różnica jest jednego rzędu)"
   ]
  },
  {
   "cell_type": "markdown",
   "id": "f583fa46",
   "metadata": {},
   "source": [
    "Porównajmy teraz czas zdejmowania elementów"
   ]
  },
  {
   "cell_type": "code",
   "execution_count": 1249,
   "id": "099c2b77",
   "metadata": {},
   "outputs": [],
   "source": [
    "A=UnorderedList()\n",
    "B=[]"
   ]
  },
  {
   "cell_type": "code",
   "execution_count": 1250,
   "id": "e234d676",
   "metadata": {},
   "outputs": [],
   "source": [
    "for _ in range(1000):\n",
    "    A.add(0)\n",
    "    B.append(0)"
   ]
  },
  {
   "cell_type": "code",
   "execution_count": 1251,
   "id": "1e12357d",
   "metadata": {},
   "outputs": [
    {
     "name": "stdout",
     "output_type": "stream",
     "text": [
      "148 µs ± 52.8 µs per loop (mean ± std. dev. of 7 runs, 100 loops each)\n"
     ]
    }
   ],
   "source": [
    "%%timeit -n 100\n",
    "A.pop()"
   ]
  },
  {
   "cell_type": "code",
   "execution_count": 1252,
   "id": "1796034a",
   "metadata": {},
   "outputs": [
    {
     "name": "stdout",
     "output_type": "stream",
     "text": [
      "42.6 ns ± 12.6 ns per loop (mean ± std. dev. of 7 runs, 100 loops each)\n"
     ]
    }
   ],
   "source": [
    "%%timeit -n 100\n",
    "B.pop()"
   ]
  },
  {
   "cell_type": "code",
   "execution_count": 1253,
   "id": "3b279c81",
   "metadata": {},
   "outputs": [],
   "source": [
    "A=UnorderedList()\n",
    "B=[]\n",
    "for _ in range(10000):\n",
    "    A.add(0)\n",
    "    B.append(0)"
   ]
  },
  {
   "cell_type": "code",
   "execution_count": 1254,
   "id": "765ef7a8",
   "metadata": {},
   "outputs": [
    {
     "name": "stdout",
     "output_type": "stream",
     "text": [
      "2.21 ms ± 58.1 µs per loop (mean ± std. dev. of 7 runs, 100 loops each)\n"
     ]
    }
   ],
   "source": [
    "%%timeit -n 100\n",
    "A.pop()"
   ]
  },
  {
   "cell_type": "code",
   "execution_count": 1255,
   "id": "03c3a11d",
   "metadata": {},
   "outputs": [
    {
     "name": "stdout",
     "output_type": "stream",
     "text": [
      "86 ns ± 0.756 ns per loop (mean ± std. dev. of 7 runs, 100 loops each)\n"
     ]
    }
   ],
   "source": [
    "%%timeit -n 100\n",
    "B.pop()"
   ]
  },
  {
   "cell_type": "code",
   "execution_count": 1256,
   "id": "431fecfc",
   "metadata": {},
   "outputs": [],
   "source": [
    "A=UnorderedList()\n",
    "B=[]\n",
    "for _ in range(1000):\n",
    "    A.add(0)\n",
    "    B.append(0)"
   ]
  },
  {
   "cell_type": "code",
   "execution_count": 1257,
   "id": "9eba89c3",
   "metadata": {},
   "outputs": [
    {
     "name": "stdout",
     "output_type": "stream",
     "text": [
      "88.7 µs ± 33.9 µs per loop (mean ± std. dev. of 7 runs, 100 loops each)\n"
     ]
    }
   ],
   "source": [
    "%%timeit -n 100\n",
    "A.pop(0)"
   ]
  },
  {
   "cell_type": "code",
   "execution_count": 1258,
   "id": "75488396",
   "metadata": {},
   "outputs": [
    {
     "name": "stdout",
     "output_type": "stream",
     "text": [
      "158 ns ± 14.2 ns per loop (mean ± std. dev. of 7 runs, 100 loops each)\n"
     ]
    }
   ],
   "source": [
    "%%timeit -n 100\n",
    "B.pop(0)"
   ]
  },
  {
   "cell_type": "code",
   "execution_count": 1259,
   "id": "15e7f1ac",
   "metadata": {},
   "outputs": [],
   "source": [
    "A=UnorderedList()\n",
    "B=[]\n",
    "for _ in range(10000):\n",
    "    A.add(0)\n",
    "    B.append(0)"
   ]
  },
  {
   "cell_type": "code",
   "execution_count": 1260,
   "id": "b620761e",
   "metadata": {},
   "outputs": [
    {
     "name": "stdout",
     "output_type": "stream",
     "text": [
      "1.31 ms ± 28 µs per loop (mean ± std. dev. of 7 runs, 100 loops each)\n"
     ]
    }
   ],
   "source": [
    "%%timeit -n 100\n",
    "A.pop(0)"
   ]
  },
  {
   "cell_type": "code",
   "execution_count": 1261,
   "id": "06f74132",
   "metadata": {},
   "outputs": [
    {
     "name": "stdout",
     "output_type": "stream",
     "text": [
      "1.38 µs ± 80.6 ns per loop (mean ± std. dev. of 7 runs, 100 loops each)\n"
     ]
    }
   ],
   "source": [
    "%%timeit -n 100\n",
    "B.pop(0)"
   ]
  },
  {
   "cell_type": "markdown",
   "id": "fbe07d75",
   "metadata": {},
   "source": [
    "Możemy zauważyć, że listy pythonowskie są szybsze w obu przypadkach, niezależnie czy zabieramy element z początku, czy z końca listy, ale co ważniejsze zwiększenie wielkości listy 10-cio krotnie zwiększa zwiększa w małym stopniu czas trwania funkcji (w gorszym przypadku liniowo), natomiast czas trwania naszej listy rośnie znacznie szybciej przz co przy dużych ilościach elementów nasze listy robią więcej szkód niż pożytku"
   ]
  },
  {
   "cell_type": "code",
   "execution_count": null,
   "id": "26adb416",
   "metadata": {},
   "outputs": [],
   "source": []
  },
  {
   "cell_type": "code",
   "execution_count": null,
   "id": "4e24efe1",
   "metadata": {},
   "outputs": [],
   "source": []
  },
  {
   "cell_type": "code",
   "execution_count": null,
   "id": "2ccc7c85",
   "metadata": {},
   "outputs": [],
   "source": []
  },
  {
   "cell_type": "code",
   "execution_count": null,
   "id": "b9d05a43",
   "metadata": {},
   "outputs": [],
   "source": []
  },
  {
   "cell_type": "code",
   "execution_count": 1192,
   "id": "47a34e51",
   "metadata": {},
   "outputs": [],
   "source": [
    "# tavela czasow\n",
    "pyt=[0 for i in range(10000000)]\n",
    "nasz=[0 for i in range(10000000)]\n",
    "\n",
    "\n",
    "\n",
    "#liczenie czasow dodawania\n",
    "tim=time.time()\n",
    "for i in range(10000000):\n",
    "    B.pop()\n",
    "    pyt[i]=time.time()-tim\n",
    "    \n",
    "tim=time.time()\n",
    "for i in range(10000000):\n",
    "    A.pop()\n",
    "    nasz[i]=time.time()-tim\n"
   ]
  },
  {
   "cell_type": "code",
   "execution_count": null,
   "id": "d4b9bd17",
   "metadata": {},
   "outputs": [],
   "source": []
  },
  {
   "cell_type": "code",
   "execution_count": null,
   "id": "e4f49f0b",
   "metadata": {},
   "outputs": [],
   "source": []
  },
  {
   "cell_type": "code",
   "execution_count": null,
   "id": "7e198550",
   "metadata": {},
   "outputs": [],
   "source": []
  }
 ],
 "metadata": {
  "kernelspec": {
   "display_name": "Python 3",
   "language": "python",
   "name": "python3"
  },
  "language_info": {
   "codemirror_mode": {
    "name": "ipython",
    "version": 3
   },
   "file_extension": ".py",
   "mimetype": "text/x-python",
   "name": "python",
   "nbconvert_exporter": "python",
   "pygments_lexer": "ipython3",
   "version": "3.9.5"
  }
 },
 "nbformat": 4,
 "nbformat_minor": 5
}
