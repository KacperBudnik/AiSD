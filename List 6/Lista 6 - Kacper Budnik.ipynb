{
 "cells": [
  {
   "cell_type": "markdown",
   "metadata": {},
   "source": [
    "https://github.com/KacperBudnik/AiSD"
   ]
  },
  {
   "cell_type": "markdown",
   "metadata": {},
   "source": [
    "# Zad 1"
   ]
  },
  {
   "cell_type": "code",
   "execution_count": 201,
   "metadata": {},
   "outputs": [],
   "source": [
    "import types\n",
    "\n",
    "# Z wykładu\n",
    "class BinaryTree:\n",
    "    def __init__(self,*items):\n",
    "        if len(items)==0:\n",
    "            raise ValueError(\"Drzewko potrzebuje korzenia!\")\n",
    "            \n",
    "        if type(items[0]) in (list, tuple): # jeśli podany jest kontener to wykonuje dla każdego elementu z osobna\n",
    "            temp=BinaryTree(items[0][0])\n",
    "            self.key=temp.key\n",
    "            self.right=temp.right\n",
    "            self.left=temp.left\n",
    "            self.add(items[0][1:])\n",
    "            \n",
    "        elif type(items[0]) in (set, dict):\n",
    "            item=list(items[0])\n",
    "            temp=BinaryTree(item[0])\n",
    "            self.key=temp.key\n",
    "            self.right=temp.right\n",
    "            self.left=temp.left\n",
    "            self.add(item[1:])\n",
    "            \n",
    "        elif type(items[0])==types.GeneratorType: # zadawanie przy użyciu generatora\n",
    "            for item in items[0]:\n",
    "                temp=BinaryTree(item)\n",
    "                break\n",
    "            self.key=temp.key\n",
    "            self.left=temp.left\n",
    "            self.right=temp.right\n",
    "            self.add(items[0])\n",
    "            \n",
    "        elif type(items[0]) == range: # zadawanie przy użyciu range\n",
    "            if len(items[0])>0: # na wypadek przykładowo range(0), brak elementu zerowego\n",
    "                self.key=items[0][0]\n",
    "                self.right=None\n",
    "                self.left=None\n",
    "                for i in items[0][1:]:\n",
    "                    self.add(i)\n",
    "                    \n",
    "        elif type(items[0]) == BinaryTree: # Bo dlaczego nie\n",
    "            self.key=items[0].key\n",
    "            self.right=None\n",
    "            self.left=None\n",
    "            \n",
    "            if items[0].right!=None:\n",
    "                self.right=items[0].right.copy()\n",
    "            if items[0].left!=None:\n",
    "                self.left=items[0].left.copy()\n",
    "        \n",
    "        else:\n",
    "            self.key = items[0]\n",
    "            self.left = None\n",
    "            self.right = None\n",
    "        self.add(items[1:])\n",
    "        \n",
    "        \n",
    "        \n",
    "    def __insertLeft(self,newNode):\n",
    "        if self.left == None:\n",
    "            self.left = BinaryTree(newNode)\n",
    "        else:\n",
    "            temp = BinaryTree(newNode)\n",
    "            temp.left = self.left\n",
    "            self.left = temp\n",
    "            \n",
    "    def __insertRight(self,newNode):\n",
    "        if self.right == None:\n",
    "            self.right = BinaryTree(newNode)\n",
    "        else:\n",
    "            temp = BinaryTree(newNode)\n",
    "            temp.right = self.right\n",
    "            self.right = temp     \n",
    "            \n",
    "    def __getRightChild(self):\n",
    "        return self.right\n",
    "\n",
    "    def __getLeftChild(self):\n",
    "        return self.left\n",
    "\n",
    "    def __setRootVal(self,obj):\n",
    "        self.key = obj\n",
    "\n",
    "    def getRootVal(self):\n",
    "        return self.key    \n",
    "    \n",
    "############ Własne ##############\n",
    "    \n",
    "    def __repr__(self): # jakaś prezentacja wyników\n",
    "        return str(self.key)+\"->\"+str([self.left,self.right])\n",
    "                \n",
    "    def add(self, *items):\n",
    "        for item in items:\n",
    "            if type(item) in (list, tuple,set,dict): # jeśli podany jest kontener to wykonuje dla każdego elementu z osobna\n",
    "                self.add(*item) # dla słownika dodaję kluczę\n",
    "                \n",
    "            elif type(item) in (types.GeneratorType, range): # generatory lub range(x)\n",
    "                for i in item:\n",
    "                    self.add(i)\n",
    "            \n",
    "            elif type(item) == BinaryTree: # Bo dlaczego nie\n",
    "                i=item.key\n",
    "                temp=self\n",
    "                while True: # wstawia całe drzewko w miejsce, gdzie powinien się znaleźć klucz dodany do drzewa\n",
    "                    if temp.key<i:\n",
    "                        if temp.left==None:\n",
    "                            temp.left=item.copy()\n",
    "                            break\n",
    "                        else:\n",
    "                            temp=temp.left\n",
    "                    else:\n",
    "                        if temp.right==None:\n",
    "                            temp.right=item.copy()\n",
    "                            break\n",
    "                        else:\n",
    "                            temp=temp.right        \n",
    "            \n",
    "            else:\n",
    "                if item < self.key: # równe na prawo (jako większe)\n",
    "                    if self.left == None:\n",
    "                        self.left = BinaryTree(item)\n",
    "                    else:\n",
    "                        self.left.add(item)\n",
    "                else:\n",
    "                    if self.right == None:\n",
    "                        self.right = BinaryTree(item)\n",
    "                    else:\n",
    "                        self.right.add(item)\n",
    "    \n",
    "    def __add__(self, item):\n",
    "        temp=self.copy()\n",
    "        temp.add(item)\n",
    "        return temp\n",
    "    \n",
    "    def __sub__(self,item):\n",
    "        return self+(-item)\n",
    "    \n",
    "    def copy(self):\n",
    "        temp=BinaryTree(self.key)\n",
    "        if self.left!=None:\n",
    "            temp.left=self.left.copy()\n",
    "            \n",
    "        if self.right!=None:\n",
    "            temp.right=self.right.copy()\n",
    "\n",
    "        return temp\n",
    "    \n",
    "    def __contains__(self, item):\n",
    "        if self.key < item:\n",
    "            if self.right != None:\n",
    "                return item in self.right\n",
    "            else:\n",
    "                return False\n",
    "        elif self.key > item:\n",
    "            if self.left != None:\n",
    "                return item in self.left\n",
    "            else:\n",
    "                return False\n",
    "        return True\n",
    "    \n",
    "    def __len__(self):\n",
    "        return 1 + len(self.right if self.right != None else []) + len(self.left if self.left != None else [])\n",
    "    \n",
    "    def find_min(self): # zwraca najmniejszy\n",
    "        if self.left != None:\n",
    "            return self.left.find_min()\n",
    "        elif self.right != None:\n",
    "            return self.right.find_min()\n",
    "        return self.key\n",
    "    \n",
    "    def find_max(self): # zwraca największy\n",
    "        if self.right != None:\n",
    "            return self.right.find_max()\n",
    "        elif self.left != None:\n",
    "            return self.left.find_max()\n",
    "        return self.key\n",
    "    \n",
    "    def to_list(self): # zwraca _Posortowaną_ listę elementów\n",
    "        lst=[]\n",
    "        \n",
    "        if self.left!= None:\n",
    "            lst.extend(self.left.to_list())\n",
    "            \n",
    "        lst.append(self.key)\n",
    "        \n",
    "        if self.right!= None:\n",
    "            lst.extend(self.right.to_list())\n",
    "            \n",
    "        return lst\n",
    "    \n",
    "    def __iter__(self):\n",
    "        return BinaryTreeIterator(self)\n",
    "    \n",
    "    \n",
    "class BinaryTreeIterator: # Do iterowania zadanego drzewa\n",
    "    def __init__(self, tree:BinaryTree):\n",
    "        self.val=tree.to_list()\n",
    "        self.index=-1\n",
    "        self.max=len(self.val)\n",
    "        \n",
    "    def __next__(self):\n",
    "        self.index+=1\n",
    "        if self.index<self.max:\n",
    "            return self.val[self.index]\n",
    "        raise StopIteration"
   ]
  },
  {
   "cell_type": "code",
   "execution_count": 741,
   "metadata": {},
   "outputs": [],
   "source": [
    "a = BinaryTree([[23,-15]])"
   ]
  },
  {
   "cell_type": "code",
   "execution_count": 721,
   "metadata": {},
   "outputs": [
    {
     "data": {
      "text/plain": [
       "23->[-15->[None, None], None]"
      ]
     },
     "execution_count": 721,
     "metadata": {},
     "output_type": "execute_result"
    }
   ],
   "source": [
    "a"
   ]
  },
  {
   "cell_type": "code",
   "execution_count": 722,
   "metadata": {},
   "outputs": [],
   "source": [
    "a = BinaryTree([{0,-1,32,2},{100},23,23],1,2,-2,[23],{-50})"
   ]
  },
  {
   "cell_type": "code",
   "execution_count": 723,
   "metadata": {},
   "outputs": [
    {
     "data": {
      "text/plain": [
       "0->[-1->[-2->[-50->[None, None], None], None], 32->[2->[1->[None, None], 23->[2->[None, None], 23->[None, 23->[None, None]]]], 100->[None, None]]]"
      ]
     },
     "execution_count": 723,
     "metadata": {},
     "output_type": "execute_result"
    }
   ],
   "source": [
    "a"
   ]
  },
  {
   "cell_type": "code",
   "execution_count": 700,
   "metadata": {},
   "outputs": [],
   "source": [
    "a=BinaryTree([[([{0,0,0,0,0},23],3),5,6,7,8],-12,3,4,5],20,{2,3,4})"
   ]
  },
  {
   "cell_type": "code",
   "execution_count": 701,
   "metadata": {},
   "outputs": [
    {
     "data": {
      "text/plain": [
       "0->[-12->[None, None], 23->[3->[2->[None, None], 5->[3->[None, 4->[3->[None, None], 4->[None, None]]], 6->[5->[None, None], 7->[None, 8->[None, 20->[None, None]]]]]], None]]"
      ]
     },
     "execution_count": 701,
     "metadata": {},
     "output_type": "execute_result"
    }
   ],
   "source": [
    "a"
   ]
  },
  {
   "cell_type": "code",
   "execution_count": 647,
   "metadata": {},
   "outputs": [],
   "source": [
    "a=BinaryTree(1,2)"
   ]
  },
  {
   "cell_type": "code",
   "execution_count": 648,
   "metadata": {},
   "outputs": [
    {
     "data": {
      "text/plain": [
       "1->[None, 2->[None, None]]"
      ]
     },
     "execution_count": 648,
     "metadata": {},
     "output_type": "execute_result"
    }
   ],
   "source": [
    "a"
   ]
  },
  {
   "cell_type": "code",
   "execution_count": 649,
   "metadata": {},
   "outputs": [],
   "source": [
    "a.add(-12)"
   ]
  },
  {
   "cell_type": "code",
   "execution_count": 650,
   "metadata": {},
   "outputs": [
    {
     "data": {
      "text/plain": [
       "1->[-12->[None, None], 2->[None, None]]"
      ]
     },
     "execution_count": 650,
     "metadata": {},
     "output_type": "execute_result"
    }
   ],
   "source": [
    "a"
   ]
  },
  {
   "cell_type": "code",
   "execution_count": 651,
   "metadata": {},
   "outputs": [],
   "source": [
    "a=BinaryTree(1,2)"
   ]
  },
  {
   "cell_type": "code",
   "execution_count": 652,
   "metadata": {},
   "outputs": [
    {
     "name": "stdout",
     "output_type": "stream",
     "text": [
      "1->[0->[None, None], 2->[None, None]]\n"
     ]
    }
   ],
   "source": [
    "print(a+0)"
   ]
  },
  {
   "cell_type": "code",
   "execution_count": 653,
   "metadata": {},
   "outputs": [
    {
     "data": {
      "text/plain": [
       "1->[None, 2->[None, None]]"
      ]
     },
     "execution_count": 653,
     "metadata": {},
     "output_type": "execute_result"
    }
   ],
   "source": [
    "a"
   ]
  },
  {
   "cell_type": "code",
   "execution_count": 654,
   "metadata": {},
   "outputs": [],
   "source": [
    "b=a+0"
   ]
  },
  {
   "cell_type": "code",
   "execution_count": 655,
   "metadata": {},
   "outputs": [
    {
     "data": {
      "text/plain": [
       "1->[0->[None, None], 2->[None, None]]"
      ]
     },
     "execution_count": 655,
     "metadata": {},
     "output_type": "execute_result"
    }
   ],
   "source": [
    "b"
   ]
  },
  {
   "cell_type": "code",
   "execution_count": 656,
   "metadata": {},
   "outputs": [
    {
     "data": {
      "text/plain": [
       "1->[None, 2->[None, None]]"
      ]
     },
     "execution_count": 656,
     "metadata": {},
     "output_type": "execute_result"
    }
   ],
   "source": [
    "a"
   ]
  },
  {
   "cell_type": "code",
   "execution_count": 657,
   "metadata": {},
   "outputs": [],
   "source": [
    "b-=3"
   ]
  },
  {
   "cell_type": "code",
   "execution_count": 658,
   "metadata": {},
   "outputs": [
    {
     "data": {
      "text/plain": [
       "1->[0->[-3->[None, None], None], 2->[None, None]]"
      ]
     },
     "execution_count": 658,
     "metadata": {},
     "output_type": "execute_result"
    }
   ],
   "source": [
    "b"
   ]
  },
  {
   "cell_type": "code",
   "execution_count": 659,
   "metadata": {},
   "outputs": [
    {
     "data": {
      "text/plain": [
       "1->[None, 2->[None, None]]"
      ]
     },
     "execution_count": 659,
     "metadata": {},
     "output_type": "execute_result"
    }
   ],
   "source": [
    "a"
   ]
  },
  {
   "cell_type": "code",
   "execution_count": 660,
   "metadata": {},
   "outputs": [
    {
     "data": {
      "text/plain": [
       "True"
      ]
     },
     "execution_count": 660,
     "metadata": {},
     "output_type": "execute_result"
    }
   ],
   "source": [
    "1 in a"
   ]
  },
  {
   "cell_type": "code",
   "execution_count": 661,
   "metadata": {},
   "outputs": [
    {
     "data": {
      "text/plain": [
       "False"
      ]
     },
     "execution_count": 661,
     "metadata": {},
     "output_type": "execute_result"
    }
   ],
   "source": [
    "12 in a"
   ]
  },
  {
   "cell_type": "code",
   "execution_count": 662,
   "metadata": {},
   "outputs": [
    {
     "data": {
      "text/plain": [
       "2"
      ]
     },
     "execution_count": 662,
     "metadata": {},
     "output_type": "execute_result"
    }
   ],
   "source": [
    "len(a)"
   ]
  },
  {
   "cell_type": "code",
   "execution_count": 663,
   "metadata": {},
   "outputs": [
    {
     "data": {
      "text/plain": [
       "4"
      ]
     },
     "execution_count": 663,
     "metadata": {},
     "output_type": "execute_result"
    }
   ],
   "source": [
    "len(b)"
   ]
  },
  {
   "cell_type": "code",
   "execution_count": 664,
   "metadata": {},
   "outputs": [
    {
     "data": {
      "text/plain": [
       "1->[0->[-3->[None, None], None], 2->[None, None]]"
      ]
     },
     "execution_count": 664,
     "metadata": {},
     "output_type": "execute_result"
    }
   ],
   "source": [
    "b"
   ]
  },
  {
   "cell_type": "code",
   "execution_count": 665,
   "metadata": {},
   "outputs": [
    {
     "data": {
      "text/plain": [
       "6"
      ]
     },
     "execution_count": 665,
     "metadata": {},
     "output_type": "execute_result"
    }
   ],
   "source": [
    "len(b+2+3)"
   ]
  },
  {
   "cell_type": "code",
   "execution_count": 666,
   "metadata": {},
   "outputs": [
    {
     "data": {
      "text/plain": [
       "-3"
      ]
     },
     "execution_count": 666,
     "metadata": {},
     "output_type": "execute_result"
    }
   ],
   "source": [
    "b.find_min()"
   ]
  },
  {
   "cell_type": "code",
   "execution_count": 667,
   "metadata": {},
   "outputs": [
    {
     "data": {
      "text/plain": [
       "2"
      ]
     },
     "execution_count": 667,
     "metadata": {},
     "output_type": "execute_result"
    }
   ],
   "source": [
    "b.find_max()"
   ]
  },
  {
   "cell_type": "code",
   "execution_count": 668,
   "metadata": {},
   "outputs": [
    {
     "data": {
      "text/plain": [
       "12"
      ]
     },
     "execution_count": 668,
     "metadata": {},
     "output_type": "execute_result"
    }
   ],
   "source": [
    "(b+12).find_max()"
   ]
  },
  {
   "cell_type": "code",
   "execution_count": 669,
   "metadata": {},
   "outputs": [
    {
     "data": {
      "text/plain": [
       "-12"
      ]
     },
     "execution_count": 669,
     "metadata": {},
     "output_type": "execute_result"
    }
   ],
   "source": [
    "(b-12).find_min()"
   ]
  },
  {
   "cell_type": "code",
   "execution_count": 763,
   "metadata": {},
   "outputs": [],
   "source": [
    "b=BinaryTree(1,2,23,23,2,31,3,12,3,123,3)"
   ]
  },
  {
   "cell_type": "code",
   "execution_count": 764,
   "metadata": {},
   "outputs": [],
   "source": [
    "b+=[1,2,3,-5,23,-54,-1.2,32,4,4,7,7,6,5,4,3,-123,3-4,-34,2-2,4-5,5,-5,-3-23,-5]"
   ]
  },
  {
   "cell_type": "code",
   "execution_count": 765,
   "metadata": {},
   "outputs": [
    {
     "data": {
      "text/plain": [
       "1->[-5->[-54->[-123->[None, None], -34->[None, -26->[None, None]]], -1.2->[-5->[None, -5->[None, None]], -1->[None, 0->[-1->[None, None], None]]]], 2->[1->[None, None], 23->[2->[None, 3->[2->[None, None], 12->[3->[None, 3->[None, 3->[None, 4->[3->[None, None], 4->[None, 7->[6->[5->[4->[None, None], 5->[None, None]], None], 7->[None, None]]]]]]], None]]], 23->[None, 31->[23->[None, None], 123->[32->[None, None], None]]]]]]"
      ]
     },
     "execution_count": 765,
     "metadata": {},
     "output_type": "execute_result"
    }
   ],
   "source": [
    "b"
   ]
  },
  {
   "cell_type": "code",
   "execution_count": 766,
   "metadata": {},
   "outputs": [
    {
     "data": {
      "text/plain": [
       "[-123,\n",
       " -54,\n",
       " -34,\n",
       " -26,\n",
       " -5,\n",
       " -5,\n",
       " -5,\n",
       " -1.2,\n",
       " -1,\n",
       " -1,\n",
       " 0,\n",
       " 1,\n",
       " 1,\n",
       " 2,\n",
       " 2,\n",
       " 2,\n",
       " 3,\n",
       " 3,\n",
       " 3,\n",
       " 3,\n",
       " 3,\n",
       " 4,\n",
       " 4,\n",
       " 4,\n",
       " 5,\n",
       " 5,\n",
       " 6,\n",
       " 7,\n",
       " 7,\n",
       " 12,\n",
       " 23,\n",
       " 23,\n",
       " 23,\n",
       " 31,\n",
       " 32,\n",
       " 123]"
      ]
     },
     "execution_count": 766,
     "metadata": {},
     "output_type": "execute_result"
    }
   ],
   "source": [
    "b.to_list()"
   ]
  },
  {
   "cell_type": "code",
   "execution_count": 767,
   "metadata": {},
   "outputs": [
    {
     "data": {
      "text/plain": [
       "36"
      ]
     },
     "execution_count": 767,
     "metadata": {},
     "output_type": "execute_result"
    }
   ],
   "source": [
    "len(b)"
   ]
  },
  {
   "cell_type": "code",
   "execution_count": 768,
   "metadata": {},
   "outputs": [
    {
     "data": {
      "text/plain": [
       "36"
      ]
     },
     "execution_count": 768,
     "metadata": {},
     "output_type": "execute_result"
    }
   ],
   "source": [
    "len(b.to_list())"
   ]
  },
  {
   "cell_type": "code",
   "execution_count": 769,
   "metadata": {},
   "outputs": [
    {
     "data": {
      "text/plain": [
       "True"
      ]
     },
     "execution_count": 769,
     "metadata": {},
     "output_type": "execute_result"
    }
   ],
   "source": [
    "all(b.to_list()[i] in b for i in range(len(b)))"
   ]
  },
  {
   "cell_type": "code",
   "execution_count": 770,
   "metadata": {},
   "outputs": [
    {
     "name": "stdout",
     "output_type": "stream",
     "text": [
      "-123\n",
      "-54\n",
      "-34\n",
      "-26\n",
      "-5\n",
      "-5\n",
      "-5\n",
      "-1.2\n",
      "-1\n",
      "-1\n",
      "0\n",
      "1\n",
      "1\n",
      "2\n",
      "2\n",
      "2\n",
      "3\n",
      "3\n",
      "3\n",
      "3\n",
      "3\n",
      "4\n",
      "4\n",
      "4\n",
      "5\n",
      "5\n",
      "6\n",
      "7\n",
      "7\n",
      "12\n",
      "23\n",
      "23\n",
      "23\n",
      "31\n",
      "32\n",
      "123\n"
     ]
    }
   ],
   "source": [
    "for i in b:\n",
    "    print(i)"
   ]
  },
  {
   "cell_type": "code",
   "execution_count": 771,
   "metadata": {},
   "outputs": [
    {
     "data": {
      "text/plain": [
       "True"
      ]
     },
     "execution_count": 771,
     "metadata": {},
     "output_type": "execute_result"
    }
   ],
   "source": [
    "all(i in b.to_list() for i in b)"
   ]
  },
  {
   "cell_type": "code",
   "execution_count": 86,
   "metadata": {},
   "outputs": [],
   "source": [
    "from random import randint\n",
    "a = BinaryTree(randint(-50,50) for i in range(50))"
   ]
  },
  {
   "cell_type": "code",
   "execution_count": 87,
   "metadata": {},
   "outputs": [
    {
     "data": {
      "text/plain": [
       "20->[-50->[None, -2->[-31->[-40->[-46->[None, -44->[-45->[None, None], -42->[-43->[None, None], None]]], -36->[None, -32->[-34->[-36->[None, -35->[None, None]], None], -32->[None, -32->[None, None]]]]], -26->[-30->[-31->[None, None], None], -23->[None, -5->[-6->[-13->[-20->[None, None], -12->[None, -7->[None, None]]], -6->[None, None]], None]]]], 9->[5->[-1->[None, None], None], 11->[10->[None, None], 18->[12->[None, None], None]]]]], 49->[36->[20->[None, 30->[22->[None, 23->[22->[None, 22->[None, None]], 27->[None, None]]], 35->[31->[None, None], None]]], 46->[45->[None, None], 47->[None, 48->[None, None]]]], None]]"
      ]
     },
     "execution_count": 87,
     "metadata": {},
     "output_type": "execute_result"
    }
   ],
   "source": [
    "a"
   ]
  },
  {
   "cell_type": "code",
   "execution_count": 226,
   "metadata": {},
   "outputs": [],
   "source": [
    "a = BinaryTree([12,3],( -i**2 for i in range(3)), [range(15)])"
   ]
  },
  {
   "cell_type": "code",
   "execution_count": 227,
   "metadata": {},
   "outputs": [
    {
     "data": {
      "text/plain": [
       "12->[3->[0->[-1->[-4->[None, None], None], 0->[None, 1->[None, 2->[None, None]]]], 3->[None, 4->[None, 5->[None, 6->[None, 7->[None, 8->[None, 9->[None, 10->[None, 11->[None, None]]]]]]]]]], 12->[None, 13->[None, 14->[None, None]]]]"
      ]
     },
     "execution_count": 227,
     "metadata": {},
     "output_type": "execute_result"
    }
   ],
   "source": [
    "a"
   ]
  },
  {
   "cell_type": "code",
   "execution_count": 228,
   "metadata": {},
   "outputs": [],
   "source": [
    "a = BinaryTree(range(124))"
   ]
  },
  {
   "cell_type": "code",
   "execution_count": 229,
   "metadata": {},
   "outputs": [
    {
     "data": {
      "text/plain": [
       "0->[None, 1->[None, 2->[None, 3->[None, 4->[None, 5->[None, 6->[None, 7->[None, 8->[None, 9->[None, 10->[None, 11->[None, 12->[None, 13->[None, 14->[None, 15->[None, 16->[None, 17->[None, 18->[None, 19->[None, 20->[None, 21->[None, 22->[None, 23->[None, 24->[None, 25->[None, 26->[None, 27->[None, 28->[None, 29->[None, 30->[None, 31->[None, 32->[None, 33->[None, 34->[None, 35->[None, 36->[None, 37->[None, 38->[None, 39->[None, 40->[None, 41->[None, 42->[None, 43->[None, 44->[None, 45->[None, 46->[None, 47->[None, 48->[None, 49->[None, 50->[None, 51->[None, 52->[None, 53->[None, 54->[None, 55->[None, 56->[None, 57->[None, 58->[None, 59->[None, 60->[None, 61->[None, 62->[None, 63->[None, 64->[None, 65->[None, 66->[None, 67->[None, 68->[None, 69->[None, 70->[None, 71->[None, 72->[None, 73->[None, 74->[None, 75->[None, 76->[None, 77->[None, 78->[None, 79->[None, 80->[None, 81->[None, 82->[None, 83->[None, 84->[None, 85->[None, 86->[None, 87->[None, 88->[None, 89->[None, 90->[None, 91->[None, 92->[None, 93->[None, 94->[None, 95->[None, 96->[None, 97->[None, 98->[None, 99->[None, 100->[None, 101->[None, 102->[None, 103->[None, 104->[None, 105->[None, 106->[None, 107->[None, 108->[None, 109->[None, 110->[None, 111->[None, 112->[None, 113->[None, 114->[None, 115->[None, 116->[None, 117->[None, 118->[None, 119->[None, 120->[None, 121->[None, 122->[None, 123->[None, None]]]]]]]]]]]]]]]]]]]]]]]]]]]]]]]]]]]]]]]]]]]]]]]]]]]]]]]]]]]]]]]]]]]]]]]]]]]]]]]]]]]]]]]]]]]]]]]]]]]]]]]]]]]]]]]]]]]]]]]]]]]]"
      ]
     },
     "execution_count": 229,
     "metadata": {},
     "output_type": "execute_result"
    }
   ],
   "source": [
    "a"
   ]
  },
  {
   "cell_type": "code",
   "execution_count": 231,
   "metadata": {},
   "outputs": [],
   "source": [
    "a=BinaryTree(1,2,-3)"
   ]
  },
  {
   "cell_type": "code",
   "execution_count": 232,
   "metadata": {},
   "outputs": [
    {
     "data": {
      "text/plain": [
       "1->[-3->[None, None], 2->[None, None]]"
      ]
     },
     "execution_count": 232,
     "metadata": {},
     "output_type": "execute_result"
    }
   ],
   "source": [
    "a"
   ]
  },
  {
   "cell_type": "code",
   "execution_count": 233,
   "metadata": {},
   "outputs": [],
   "source": [
    "b=BinaryTree(a)"
   ]
  },
  {
   "cell_type": "code",
   "execution_count": 234,
   "metadata": {},
   "outputs": [
    {
     "data": {
      "text/plain": [
       "1->[-3->[None, None], 2->[None, None]]"
      ]
     },
     "execution_count": 234,
     "metadata": {},
     "output_type": "execute_result"
    }
   ],
   "source": [
    "b"
   ]
  },
  {
   "cell_type": "code",
   "execution_count": 237,
   "metadata": {},
   "outputs": [],
   "source": [
    "b=BinaryTree(a for i in [1,1,1]) # 3 razy a"
   ]
  },
  {
   "cell_type": "code",
   "execution_count": 238,
   "metadata": {},
   "outputs": [
    {
     "data": {
      "text/plain": [
       "1->[-3->[None, None], 2->[None, 1->[-3->[None, None], 2->[None, 1->[-3->[None, None], 2->[None, None]]]]]]"
      ]
     },
     "execution_count": 238,
     "metadata": {},
     "output_type": "execute_result"
    }
   ],
   "source": [
    "b"
   ]
  },
  {
   "cell_type": "markdown",
   "metadata": {},
   "source": [
    "# Zadanie 2"
   ]
  },
  {
   "cell_type": "code",
   "execution_count": 452,
   "metadata": {},
   "outputs": [],
   "source": [
    "import types\n",
    "# Z wykładu zmienione\n",
    "\n",
    "class BinHeap:\n",
    "    def __init__(self,*items): # skrócenie nazw + możliwość podania elementów kopca przy dodawaniu\n",
    "        self.list = [0]\n",
    "        self.size = 0\n",
    "        self.add(*items)\n",
    "        \n",
    "    def percUp(self,i):\n",
    "        while i // 2 > 0:\n",
    "            if self.list[i] < self.list[i // 2]:\n",
    "                tmp = self.list[i // 2]\n",
    "                self.list[i // 2] = self.list[i]\n",
    "                self.list[i] = tmp\n",
    "            i = i // 2      \n",
    "        \n",
    "    def insert(self,k):\n",
    "        self.list.append(k)\n",
    "        self.size = self.size + 1\n",
    "        self.percUp(self.size)        \n",
    "        \n",
    "    def findMin(self):\n",
    "        if self.size==0:\n",
    "            raise IndexError(\"Kopiec jest pusty\")\n",
    "        return self.list[1]\n",
    "\n",
    "    def percDown(self,i):\n",
    "        while (i * 2) <= self.size:\n",
    "            mc = self.minChild(i)\n",
    "            if self.list[i] > self.list[mc]:\n",
    "                tmp = self.list[i]\n",
    "                self.list[i] = self.list[mc]\n",
    "                self.list[mc] = tmp\n",
    "            i = mc\n",
    "\n",
    "    def minChild(self,i):\n",
    "        if i * 2 + 1 > self.size:\n",
    "            return i * 2\n",
    "        else:\n",
    "            if self.list[i*2] < self.list[i*2+1]:\n",
    "                return i * 2\n",
    "            else:\n",
    "                return i * 2 + 1    \n",
    "            \n",
    "    def delMin(self):\n",
    "        if self.size==0:\n",
    "            raise IndexError(\"Kopiec jest pusty\")\n",
    "        retval = self.list[1]\n",
    "        self.list[1] = self.list[self.size]\n",
    "        self.size = self.size - 1\n",
    "        self.list.pop()\n",
    "        self.percDown(1)\n",
    "        return retval           \n",
    "    \n",
    "    def buildHeap(self,alist): # już nie potrzebne (jest to _clear i dodanie po prostu listy)\n",
    "        i = len(alist) // 2\n",
    "        self.size = len(alist)\n",
    "        self.list = [0] + alist[:]\n",
    "        while (i > 0):\n",
    "            self.percDown(i)\n",
    "            i = i - 1    \n",
    "            \n",
    "    def size(self):\n",
    "        return self.size\n",
    "    \n",
    "    def isEmpty(self):\n",
    "        return self.size == 0\n",
    "    \n",
    "    def __str__(self):\n",
    "        txt = \"{}\".format(self.list[1:])\n",
    "        return txt\n",
    "    \n",
    "##################################################################\n",
    "#                             Własne                             #\n",
    "##################################################################\n",
    "\n",
    "    def __repr__(self):\n",
    "        return str(self.list[1:])\n",
    "    \n",
    "    def add(self,*items): # by było można podawać wiele argumentów, wraz z kontenerami\n",
    "        for item in items:\n",
    "            if type(item) in (tuple, list):\n",
    "                self.add(*item)\n",
    "            elif type(item) in (dict, set):\n",
    "                self.add(*list(item))\n",
    "            elif type(item) == types.GeneratorType:\n",
    "                for i in item:\n",
    "                    self.add(i)\n",
    "            else:\n",
    "                self.insert(item)\n",
    "\n",
    "    def _clear(self): # czyszczenie kopca (prywatna, by nie użyć przez przypadek)\n",
    "        self.list=[0]\n",
    "        self.size=0\n",
    "        \n",
    "    def sort(self):\n",
    "        if self.size>0:\n",
    "            sortedList=[self.findMin()]\n",
    "            self.delMin()\n",
    "            print(\"\\t\",sortedList)\n",
    "            print(self.list)\n",
    "            self.sort()\n",
    "            print(self.list)\n",
    "            #sortedList.extend(self.list)\n",
    "            print(sortedList)\n",
    "            self.list+=sortedList\n",
    "            #return self.list\n",
    "            #print(self.list)\n",
    "        else:\n",
    "            print(\"Hakunamatata\")\n",
    "            pass"
   ]
  },
  {
   "cell_type": "code",
   "execution_count": 444,
   "metadata": {},
   "outputs": [],
   "source": [
    "from random import randint\n",
    "a=BinHeap(randint(-50,50) for i in range(31))"
   ]
  },
  {
   "cell_type": "code",
   "execution_count": 445,
   "metadata": {},
   "outputs": [
    {
     "data": {
      "text/plain": [
       "[-49, -44, -38, -23, -41, -38, -14, -6, 3, -17, -38, -1, -18, 6, 0, 50, 10, 38, 21, 43, 46, 31, -6, 14, 4, 30, 2, 49, 13, 22, 2]"
      ]
     },
     "execution_count": 445,
     "metadata": {},
     "output_type": "execute_result"
    }
   ],
   "source": [
    "a"
   ]
  },
  {
   "cell_type": "code",
   "execution_count": 446,
   "metadata": {},
   "outputs": [],
   "source": [
    "a=BinHeap([6,5,4,3,2,1])"
   ]
  },
  {
   "cell_type": "code",
   "execution_count": 447,
   "metadata": {},
   "outputs": [
    {
     "data": {
      "text/plain": [
       "[1, 3, 2, 6, 4, 5]"
      ]
     },
     "execution_count": 447,
     "metadata": {},
     "output_type": "execute_result"
    }
   ],
   "source": [
    "a"
   ]
  },
  {
   "cell_type": "code",
   "execution_count": 448,
   "metadata": {},
   "outputs": [],
   "source": [
    "a=BinHeap([0])"
   ]
  },
  {
   "cell_type": "code",
   "execution_count": 449,
   "metadata": {},
   "outputs": [
    {
     "name": "stdout",
     "output_type": "stream",
     "text": [
      "([1, 2, 3],)\n",
      "[2, 3]\n",
      "[2, 3]\n"
     ]
    }
   ],
   "source": [
    "a.buildHeap([1,2,3])"
   ]
  },
  {
   "cell_type": "code",
   "execution_count": 450,
   "metadata": {},
   "outputs": [
    {
     "data": {
      "text/plain": [
       "[0]"
      ]
     },
     "execution_count": 450,
     "metadata": {},
     "output_type": "execute_result"
    }
   ],
   "source": [
    "a"
   ]
  },
  {
   "cell_type": "code",
   "execution_count": 451,
   "metadata": {},
   "outputs": [
    {
     "data": {
      "text/plain": [
       "[0]"
      ]
     },
     "execution_count": 451,
     "metadata": {},
     "output_type": "execute_result"
    }
   ],
   "source": [
    "a"
   ]
  },
  {
   "cell_type": "code",
   "execution_count": null,
   "metadata": {},
   "outputs": [],
   "source": []
  },
  {
   "cell_type": "code",
   "execution_count": null,
   "metadata": {},
   "outputs": [],
   "source": []
  },
  {
   "cell_type": "code",
   "execution_count": null,
   "metadata": {},
   "outputs": [],
   "source": []
  },
  {
   "cell_type": "code",
   "execution_count": null,
   "metadata": {},
   "outputs": [],
   "source": []
  },
  {
   "cell_type": "code",
   "execution_count": null,
   "metadata": {},
   "outputs": [],
   "source": []
  },
  {
   "cell_type": "code",
   "execution_count": null,
   "metadata": {},
   "outputs": [],
   "source": []
  },
  {
   "cell_type": "code",
   "execution_count": null,
   "metadata": {},
   "outputs": [],
   "source": []
  },
  {
   "cell_type": "code",
   "execution_count": null,
   "metadata": {},
   "outputs": [],
   "source": []
  },
  {
   "cell_type": "code",
   "execution_count": null,
   "metadata": {},
   "outputs": [],
   "source": []
  },
  {
   "cell_type": "code",
   "execution_count": null,
   "metadata": {},
   "outputs": [],
   "source": []
  },
  {
   "cell_type": "code",
   "execution_count": null,
   "metadata": {},
   "outputs": [],
   "source": []
  },
  {
   "cell_type": "code",
   "execution_count": null,
   "metadata": {},
   "outputs": [],
   "source": []
  },
  {
   "cell_type": "markdown",
   "metadata": {},
   "source": [
    "# Wykład"
   ]
  },
  {
   "cell_type": "code",
   "execution_count": null,
   "metadata": {},
   "outputs": [],
   "source": [
    "import types\n",
    "# Z wykładu zmienione\n",
    "\n",
    "class BinHeap:\n",
    "    def __init__(self,*items): # skrócenie nazw + możliwość podania elementów kopca przy dodawaniu\n",
    "        self.list = [0]\n",
    "        self.size = 0\n",
    "        self.add(*items)\n",
    "        \n",
    "    def percUp(self,i):\n",
    "        while i // 2 > 0:\n",
    "            if self.list[i] < self.list[i // 2]:\n",
    "                tmp = self.list[i // 2]\n",
    "                self.list[i // 2] = self.list[i]\n",
    "                self.list[i] = tmp\n",
    "            i = i // 2      \n",
    "        \n",
    "    def insert(self,k):\n",
    "        self.list.append(k)\n",
    "        self.size = self.size + 1\n",
    "        self.percUp(self.size)        \n",
    "        \n",
    "    def findMin(self):\n",
    "        if self.size==0:\n",
    "            raise IndexError(\"Kopiec jest pusty\")\n",
    "        return self.list[1]\n",
    "\n",
    "    def percDown(self,i):\n",
    "        while (i * 2) <= self.size:\n",
    "            mc = self.minChild(i)\n",
    "            if self.list[i] > self.list[mc]:\n",
    "                tmp = self.list[i]\n",
    "                self.list[i] = self.list[mc]\n",
    "                self.list[mc] = tmp\n",
    "            i = mc\n",
    "\n",
    "    def minChild(self,i):\n",
    "        if i * 2 + 1 > self.size:\n",
    "            return i * 2\n",
    "        else:\n",
    "            if self.list[i*2] < self.list[i*2+1]:\n",
    "                return i * 2\n",
    "            else:\n",
    "                return i * 2 + 1    \n",
    "            \n",
    "    def delMin(self):\n",
    "        if self.size==0:\n",
    "            raise IndexError(\"Kopiec jest pusty\")\n",
    "        retval = self.list[1]\n",
    "        self.list[1] = self.list[self.size]\n",
    "        self.size = self.size - 1\n",
    "        self.list.pop()\n",
    "        self.percDown(1)\n",
    "        return retval           \n",
    "    \n",
    "    def buildHeap(self,alist): # już nie potrzebne (jest to _clear i dodanie po prostu listy)\n",
    "        i = len(alist) // 2\n",
    "        self.size = len(alist)\n",
    "        self.list = [0] + alist[:]\n",
    "        while (i > 0):\n",
    "            self.percDown(i)\n",
    "            i = i - 1    \n",
    "            \n",
    "    def size(self):\n",
    "        return self.size\n",
    "    \n",
    "    def isEmpty(self):\n",
    "        return self.size == 0\n",
    "    \n",
    "    def __str__(self):\n",
    "        txt = \"{}\".format(self.list[1:])\n",
    "        return txt\n",
    "    \n",
    "##################################################################\n",
    "#                             Własne                             #\n",
    "##################################################################\n",
    "\n",
    "    def __repr__(self):\n",
    "        return str(self.list[1:])\n",
    "    \n",
    "    def add(self,*items): # by było można podawać wiele argumentów, wraz z kontenerami\n",
    "        for item in items:\n",
    "            if type(item) in (tuple, list):\n",
    "                self.add(*item)\n",
    "            elif type(item) in (dict, set):\n",
    "                self.add(*list(item))\n",
    "            elif type(item) == types.GeneratorType:\n",
    "                for i in item:\n",
    "                    self.add(i)\n",
    "            else:\n",
    "                self.insert(item)\n",
    "\n",
    "    def _clear(self): # czyszczenie kopca (prywatna, by nie użyć przez przypadek)\n",
    "        self.list=[0]\n",
    "        self.size=0\n",
    "        \n",
    "    def sort(self):\n",
    "        if self.size>0:\n",
    "            sortedList=[self.findMin()]\n",
    "            self.delMin()\n",
    "            print(\"\\t\",sortedList)\n",
    "            print(self.list)\n",
    "            self.sort()\n",
    "            print(self.list)\n",
    "            #sortedList.extend(self.list)\n",
    "            print(sortedList)\n",
    "            self.list+=sortedList\n",
    "            #return self.list\n",
    "            #print(self.list)\n",
    "        else:\n",
    "            print(\"Hakunamatata\")\n",
    "            pass"
   ]
  }
 ],
 "metadata": {
  "@webio": {
   "lastCommId": null,
   "lastKernelId": null
  },
  "kernelspec": {
   "display_name": "Python 3",
   "language": "python",
   "name": "python3"
  },
  "language_info": {
   "codemirror_mode": {
    "name": "ipython",
    "version": 3
   },
   "file_extension": ".py",
   "mimetype": "text/x-python",
   "name": "python",
   "nbconvert_exporter": "python",
   "pygments_lexer": "ipython3",
   "version": "3.8.5"
  }
 },
 "nbformat": 4,
 "nbformat_minor": 4
}
