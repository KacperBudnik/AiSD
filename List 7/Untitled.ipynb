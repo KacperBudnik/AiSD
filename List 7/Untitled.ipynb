{
 "cells": [
  {
   "cell_type": "markdown",
   "id": "5d3cb676",
   "metadata": {},
   "source": [
    "https://github.com/KacperBudnik/AiSD"
   ]
  },
  {
   "cell_type": "code",
   "execution_count": 19,
   "id": "f83da1b9",
   "metadata": {
    "code_folding": [
     0
    ]
   },
   "outputs": [],
   "source": [
    "class QueueBaE(object):\n",
    "    \"\"\"\n",
    "    Klasa implementująca kolejkę za pomocą pythonowej listy tak,\n",
    "    że początek kolejki jest przechowywany na początku listy.\n",
    "    \"\"\"\n",
    "\n",
    "    def __init__(self):\n",
    "        self.list_of_items = []\n",
    "\n",
    "\n",
    "\n",
    "    def enqueue(self, item):\n",
    "        \"\"\"\n",
    "        Metoda służąca do dodawania obiektu do kolejki.\n",
    "        Pobiera jako argument obiekt który ma być dodany.\n",
    "        Niczego nie zwraca.\n",
    "        \"\"\"\n",
    "        #self.list_of_items+=[item]\n",
    "        self.list_of_items.append(item)\n",
    "\n",
    "    def dequeue(self):\n",
    "        \"\"\"\n",
    "        Metoda służąca do ściągania obiektu do kolejki.\n",
    "        Nie pobiera argumentów.\n",
    "        Zwraca ściągnięty obiekt.\n",
    "        \"\"\"\n",
    "        return self.list_of_items.pop()\n",
    "\n",
    "    def is_empty(self):\n",
    "        \"\"\"\n",
    "        Metoda służąca do sprawdzania, czy kolejka jest pusta.\n",
    "        Nie pobiera argumentów.\n",
    "        Zwraca True jeśli kolejka jest pusta lub False gdy nie jest.\n",
    "        \"\"\"\n",
    "        return not self.list_of_items\n",
    "\n",
    "    def size(self):\n",
    "        \"\"\"\n",
    "        Metoda służąca do określania wielkości kolejki.\n",
    "        Nie pobiera argumentów.\n",
    "        Zwraca liczbę obiektów w kolejce.\n",
    "        \"\"\"\n",
    "        return len(self.list_of_items)"
   ]
  },
  {
   "cell_type": "code",
   "execution_count": 16,
   "id": "01fba6e9",
   "metadata": {
    "code_folding": [
     1
    ]
   },
   "outputs": [],
   "source": [
    "import numpy as np\n",
    "class Vertex:\n",
    "    def __init__(self,key):\n",
    "        self.id = key\n",
    "        self.connectedTo = {}   #lista sąsiedztwa z wagami\n",
    "        self.color=\"Black\"\n",
    "        self.distance= np.inf\n",
    "        self.parent=None\n",
    "        self.start_time=0\n",
    "        self.end_time=0\n",
    "        self.visited=False\n",
    "\n",
    "    def addNeighbor(self,nbr,weight=0):\n",
    "        self.connectedTo[nbr] = weight\n",
    "\n",
    "    def __str__(self):\n",
    "        return str(self.id) + ' connectedTo: ' + str([x.id for x in self.connectedTo])\n",
    "\n",
    "    def getConnections(self):\n",
    "        return self.connectedTo.keys()\n",
    "\n",
    "    def getId(self):\n",
    "        return self.id\n",
    "\n",
    "    def getWeight(self,nbr):\n",
    "        return self.connectedTo[nbr]\n",
    "    \n",
    "    def new_search(self):\n",
    "        self.color=\"White\"\n",
    "        self.distance= np.inf\n",
    "        self.parent=None\n",
    "        self.start_time=0\n",
    "        self.end_time=0\n",
    "        "
   ]
  },
  {
   "cell_type": "code",
   "execution_count": 17,
   "id": "ab2c3e61",
   "metadata": {
    "code_folding": [
     2,
     10,
     16,
     22,
     25,
     32,
     35,
     47,
     53,
     63,
     73,
     97,
     133,
     145,
     160,
     190,
     197
    ]
   },
   "outputs": [],
   "source": [
    "import graphviz\n",
    "\n",
    "class Graph:\n",
    "    def __init__(self,name=\"graphname\"):\n",
    "        self.vertList = {}\n",
    "        self.numVertices = 0\n",
    "        self.path_start=None\n",
    "        self.graphname=name\n",
    "        self.time=1\n",
    "\n",
    "    def addVertex(self,key):\n",
    "        self.numVertices = self.numVertices + 1\n",
    "        newVertex = Vertex(key)\n",
    "        self.vertList[key] = newVertex\n",
    "        return newVertex\n",
    "\n",
    "    def getVertex(self,n):\n",
    "        if n in self.vertList:\n",
    "            return self.vertList[n]\n",
    "        else:\n",
    "            return None\n",
    "\n",
    "    def __contains__(self,n):\n",
    "        return n in self.vertList\n",
    "\n",
    "    def addEdge(self,f,t,cost=0):\n",
    "        if f not in self.vertList:\n",
    "            nv = self.addVertex(f)\n",
    "        if t not in self.vertList:\n",
    "            nv = self.addVertex(t)\n",
    "        self.vertList[f].addNeighbor(self.vertList[t], cost)\n",
    "\n",
    "    def getVertices(self):\n",
    "        return self.vertList.keys()\n",
    "    \n",
    "    def __iter__(self):\n",
    "        return iter(self.vertList.values())\n",
    "    \n",
    "\n",
    "###### Pomocnicze\n",
    "    \n",
    "    def __repr__(self):\n",
    "        txt=\"\"\n",
    "        for i in self:\n",
    "            txt+=str(i)+\"\\n\"\n",
    "        return txt[:-1]\n",
    "                \n",
    "    def __getitem__(self,k):\n",
    "        return self.getVertex(k)\n",
    "    \n",
    "    \n",
    "###### Zad 2\n",
    "    \n",
    "    def to_dot_language(self,name=None):\n",
    "        if not name:\n",
    "            name = self.graphname\n",
    "        res=\"digraph \"+ name +\" {\\n\"\n",
    "        for i in self.getVertices():\n",
    "            for j in self.getVertex(i).getConnections():\n",
    "                res+= '\"'+str(i)+'\"' + \" -> \" + '\"'+str(j.id)+'\"' + \"\\n\"\n",
    "        res+=\"}\"\n",
    "        return res\n",
    "    \n",
    "    def create_graphviz(self):\n",
    "        dot = graphviz.Digraph()\n",
    "        for i in self.getVertices():\n",
    "            for j in self.getVertex(i).getConnections():\n",
    "                dot.edge(str(i),str(j.id))\n",
    "        return dot\n",
    "    \n",
    "    \n",
    "###### Zad 3 & 5\n",
    "    \n",
    "    def Breadth_first_search(self, root):\n",
    "        \n",
    "        if not root in self:\n",
    "            raise ValueError(\"Nie istnieje taka wartość\")\n",
    "            \n",
    "        Q=QueueBaE() # z listy 4\n",
    "            \n",
    "        for i in self.vertList:\n",
    "            self.vertList[i].new_search()\n",
    "        \n",
    "        self.vertList[root].distance=0\n",
    "        self.vertList[root].color=\"Grey\"\n",
    "        \n",
    "        Q.enqueue(self.vertList[root])\n",
    "        while not Q.is_empty():\n",
    "            v=Q.dequeue()\n",
    "            for i in v.getConnections(): \n",
    "                if i.color==\"White\":\n",
    "                    i.color=\"Grey\"\n",
    "                    i.distance = v.distance + 1\n",
    "                    i.parent = v\n",
    "                    Q.enqueue(i)\n",
    "            v.color=\"Black\"\n",
    "            \n",
    "    def get_connection(self, start, end, arrows=False):\n",
    "        # start - punkt początkowy\n",
    "        # end - końcowy\n",
    "        # arrows - czy wyświetlać pod sobą, czy strzałkami\n",
    "        \n",
    "        if start!=self.path_start:\n",
    "            self.Breadth_first_search(start)\n",
    "         \n",
    "        if not end in self:\n",
    "            raise ValueError(\"Nie ma takiego punktu końcowego\")\n",
    "        \n",
    "        if self[end].color == \"White\":\n",
    "            raise Exception(\"Nie ma takeigo połączenia\")\n",
    "            \n",
    "        path=[]\n",
    "        \n",
    "        current=end\n",
    "        while self[current].parent:\n",
    "            #print(self[current].id)\n",
    "            path.append(self[current])\n",
    "            current=self[current].parent.id\n",
    "        path.append(self[start])\n",
    "        \n",
    "        txt=\"\"\n",
    "        if not arrows:\n",
    "            for i in path[::-1]:\n",
    "                txt+=str(i.id) + \"\\n\"\n",
    "                \n",
    "            txt = txt[:-1]\n",
    "        else:\n",
    "            for i in path[::-1]:\n",
    "                txt+=str(i.id) + \" -> \"\n",
    "            txt = txt[:-4]\n",
    "            \n",
    "        return txt\n",
    "        \n",
    "    def Depth_first_search(self, root):\n",
    "        self.time=1\n",
    "        if not root in self:\n",
    "            raise ValueError(\"Nie istnieje taka wartość\")\n",
    "        \n",
    "        self.path_start=root\n",
    "                        \n",
    "        for i in self.vertList:\n",
    "            self.vertList[i].new_search()\n",
    "            \n",
    "        self.depth_help(self.vertList[root])\n",
    "        \n",
    "    def depth_help(self, vert):\n",
    "        vert.color=\"Grey\"\n",
    "        vert.start_time=self.time\n",
    "        for i in vert.getConnections():\n",
    "            if i.color==\"White\":\n",
    "                self.time+=1\n",
    "                i.parent=vert\n",
    "                self.depth_help(i)\n",
    "        self.time+=1\n",
    "        vert.end_time=self.time\n",
    "        vert.color=\"Black\"\n",
    "        \n",
    "        \n",
    "###### Zad 4\n",
    "        \n",
    "    def Topological_sorting(self):\n",
    "        Vert=set(self.vertList)\n",
    "        \n",
    "        \n",
    "        for i in self.vertList: # szukanie elementu na który nie wskazuje żaden inny (nie jest końcem połączenia)\n",
    "            Vert-=set([j.id for j in self[i].getConnections()]) \n",
    "                \n",
    "        if len(Vert)==0: # jeśli nie ma takeigo, to pojawił się cykl\n",
    "            raise Exception(\"W grafie pojawiają się cykle\")\n",
    "            \n",
    "            \n",
    "        for i in self.vertList:\n",
    "            for j in self.vertList:\n",
    "                self[j].visited=False\n",
    "            if self.has_cycle(i, []):\n",
    "                print(i)\n",
    "                raise Exception(\"W grafie pojawiają się cykle\")\n",
    "        \n",
    "            \n",
    "        self.time=1\n",
    "        self.Depth_first_search_topological_sorting(Vert)\n",
    "        self.path_start=None\n",
    "        \n",
    "        \n",
    "        res={i.end_time:i for i in self.vertList.values()}\n",
    "        #print(res)\n",
    "        key = list(res.keys())\n",
    "        key.sort()\n",
    "        return [res[i] for i in key[::-1]]\n",
    "        \n",
    "    def Depth_first_search_topological_sorting(self, vertSet):\n",
    "        for i in self.vertList:\n",
    "            self.vertList[i].new_search()\n",
    "            \n",
    "        for i in vertSet:\n",
    "            self.depth_help(self[i])\n",
    "            \n",
    "    def has_cycle(self, k, visited):\n",
    "        visited.append(k)\n",
    "        if any(i.id in visited for i in self[k].connectedTo):\n",
    "            print(self[k])\n",
    "            print(visited)\n",
    "            return True\n",
    "        \n",
    "        for i in self[k].connectedTo:\n",
    "            if self.has_cycle(i.id, visited):\n",
    "                return True\n",
    "            visited.pop()\n",
    "        \n",
    "        return False"
   ]
  },
  {
   "cell_type": "markdown",
   "id": "5753fe41",
   "metadata": {
    "heading_collapsed": true
   },
   "source": [
    "# Zadanie 6"
   ]
  },
  {
   "cell_type": "code",
   "execution_count": 67,
   "id": "aa690e36",
   "metadata": {
    "code_folding": [
     0
    ],
    "hidden": true
   },
   "outputs": [],
   "source": [
    "def Missionaries_and_cannibals_problem(m=3, k=3, b=2):\n",
    "    # m - liczba misjonarzy\n",
    "    # k - liczba kanibali\n",
    "    # b - pojemność łodzi\n",
    "    if k>m:\n",
    "        raise ValueError(\"Misjonerze nie żyją!\")\n",
    "    g=Graph()\n",
    "    g.addVertex(str(m)+\",\"+str(k)+\",1,0,0\") # Pokolei: liczba na lewym brzegu: misjonarzy, kanibali, łodzi;\n",
    "                                            # liczba na prawym brzegu: misjonarzy kanibali\n",
    "    goal=\"0,0,1,\"+str(m)+\",\"+str(k)\n",
    "    current = goal\n",
    "    g=Miss_options(m, k, True, 0, 0 ,b ,g) # zero to liczba na prawym brzegu, jedynka pozycja łodzi (lewy brzeg)\n",
    "    \n",
    "    return g\n",
    "    \n",
    "    if not goal in g:\n",
    "        raise Exception(\"Nope\")\n",
    "    \n",
    "def Miss_options(ml, kl, pos, mp, kp, b, g):\n",
    "    options = []\n",
    "    #print(type(ml),type(kl),type(pos))\n",
    "    for i in range(1,b+1): # rozpatrujemy liczbę osób podróżującą\n",
    "        for j in range(i+1): # ile spośród nich jest misjonarzy\n",
    "            #print(i,j)\n",
    "            if pos:\n",
    "                if j<=ml and i-j<=kl:\n",
    "                    option = str(ml-j) + \",\" + str(kl-i+j) + \",0,\" + str(mp+j) + \",\" + str(kp+i-j)\n",
    "                    if not option in g:\n",
    "                        options.append(option)\n",
    "            else:\n",
    "                if j<=mp and i-j<=kp:\n",
    "                    option = str(ml+j) + \",\" + str(kl+i-j) + \",1,\" + str(mp-j) + \",\" + str(kp-i+j)\n",
    "                    if not option in g:\n",
    "                        options.append(option)\n",
    "\n",
    "    #print(options)\n",
    "    good=[]\n",
    "    for i in options:\n",
    "        j=i.split(',')\n",
    "        #print(j[3],int(j[3])==0)\n",
    "        if (int(j[0]) == 0 or j[0]>=j[1]) and (int(j[3])==0 or j[3]>=j[4]): # jeśli sytuacja jest ok\n",
    "            good.append(i)\n",
    "            #print(i)\n",
    "    #print(good)\n",
    "\n",
    "#    return g\n",
    "    for i in good:\n",
    "        j=i.split(\",\")\n",
    "        g.addEdge(str(ml)+\",\"+str(kl)+\",\"+\"1\"*pos+\"0\"*(not pos)+\",\"+str(mp)+\",\"+str(kp), i )\n",
    "        g=Miss_options(*[int(k) for k in j],b,g)\n",
    "\n",
    "    return g"
   ]
  },
  {
   "cell_type": "markdown",
   "id": "274a890d",
   "metadata": {
    "hidden": true
   },
   "source": [
    "Zmienione trochę do zasad z wikipedii. Na wikipedii pokazane jest, że przez krótki czas może być więcej kanibali niż misjonarzy. (sytuacja 2,2-1,1, wraca jeden kanibal z prawej i od razu jak przypłynie wsiada do łodzi 2 misjonarzy i przepływają, ale jak dopłynie będzie 3 kanibali i 2 misjonarzy)"
   ]
  },
  {
   "cell_type": "code",
   "execution_count": 13,
   "id": "10b493e4",
   "metadata": {
    "hidden": true
   },
   "outputs": [],
   "source": [
    "g=Missionaries_and_cannibals_problem()"
   ]
  },
  {
   "cell_type": "code",
   "execution_count": 14,
   "id": "8566f546",
   "metadata": {
    "hidden": true
   },
   "outputs": [
    {
     "data": {
      "image/svg+xml": [
       "<?xml version=\"1.0\" encoding=\"UTF-8\" standalone=\"no\"?>\n",
       "<!DOCTYPE svg PUBLIC \"-//W3C//DTD SVG 1.1//EN\"\n",
       " \"http://www.w3.org/Graphics/SVG/1.1/DTD/svg11.dtd\">\n",
       "<!-- Generated by graphviz version 2.50.0 (20211204.2007)\n",
       " -->\n",
       "<!-- Pages: 1 -->\n",
       "<svg width=\"264pt\" height=\"908pt\"\n",
       " viewBox=\"0.00 0.00 264.49 908.00\" xmlns=\"http://www.w3.org/2000/svg\" xmlns:xlink=\"http://www.w3.org/1999/xlink\">\n",
       "<g id=\"graph0\" class=\"graph\" transform=\"scale(1 1) rotate(0) translate(4 904)\">\n",
       "<polygon fill=\"white\" stroke=\"transparent\" points=\"-4,4 -4,-904 260.49,-904 260.49,4 -4,4\"/>\n",
       "<!-- 3,3,1,0,0 -->\n",
       "<g id=\"node1\" class=\"node\">\n",
       "<title>3,3,1,0,0</title>\n",
       "<ellipse fill=\"none\" stroke=\"black\" cx=\"144.25\" cy=\"-882\" rx=\"42.49\" ry=\"18\"/>\n",
       "<text text-anchor=\"middle\" x=\"144.25\" y=\"-878.3\" font-family=\"Times New Roman,serif\" font-size=\"14.00\">3,3,1,0,0</text>\n",
       "</g>\n",
       "<!-- 3,2,0,0,1 -->\n",
       "<g id=\"node2\" class=\"node\">\n",
       "<title>3,2,0,0,1</title>\n",
       "<ellipse fill=\"none\" stroke=\"black\" cx=\"42.25\" cy=\"-810\" rx=\"42.49\" ry=\"18\"/>\n",
       "<text text-anchor=\"middle\" x=\"42.25\" y=\"-806.3\" font-family=\"Times New Roman,serif\" font-size=\"14.00\">3,2,0,0,1</text>\n",
       "</g>\n",
       "<!-- 3,3,1,0,0&#45;&gt;3,2,0,0,1 -->\n",
       "<g id=\"edge1\" class=\"edge\">\n",
       "<title>3,3,1,0,0&#45;&gt;3,2,0,0,1</title>\n",
       "<path fill=\"none\" stroke=\"black\" d=\"M122.61,-866.15C107.91,-856.06 88.27,-842.58 72.08,-831.47\"/>\n",
       "<polygon fill=\"black\" stroke=\"black\" points=\"73.72,-828.36 63.5,-825.58 69.76,-834.13 73.72,-828.36\"/>\n",
       "</g>\n",
       "<!-- 3,1,0,0,2 -->\n",
       "<g id=\"node3\" class=\"node\">\n",
       "<title>3,1,0,0,2</title>\n",
       "<ellipse fill=\"none\" stroke=\"black\" cx=\"144.25\" cy=\"-810\" rx=\"42.49\" ry=\"18\"/>\n",
       "<text text-anchor=\"middle\" x=\"144.25\" y=\"-806.3\" font-family=\"Times New Roman,serif\" font-size=\"14.00\">3,1,0,0,2</text>\n",
       "</g>\n",
       "<!-- 3,3,1,0,0&#45;&gt;3,1,0,0,2 -->\n",
       "<g id=\"edge2\" class=\"edge\">\n",
       "<title>3,3,1,0,0&#45;&gt;3,1,0,0,2</title>\n",
       "<path fill=\"none\" stroke=\"black\" d=\"M144.25,-863.7C144.25,-855.98 144.25,-846.71 144.25,-838.11\"/>\n",
       "<polygon fill=\"black\" stroke=\"black\" points=\"147.75,-838.1 144.25,-828.1 140.75,-838.1 147.75,-838.1\"/>\n",
       "</g>\n",
       "<!-- 2,2,0,1,1 -->\n",
       "<g id=\"node4\" class=\"node\">\n",
       "<title>2,2,0,1,1</title>\n",
       "<ellipse fill=\"none\" stroke=\"black\" cx=\"214.25\" cy=\"-666\" rx=\"42.49\" ry=\"18\"/>\n",
       "<text text-anchor=\"middle\" x=\"214.25\" y=\"-662.3\" font-family=\"Times New Roman,serif\" font-size=\"14.00\">2,2,0,1,1</text>\n",
       "</g>\n",
       "<!-- 3,3,1,0,0&#45;&gt;2,2,0,1,1 -->\n",
       "<g id=\"edge3\" class=\"edge\">\n",
       "<title>3,3,1,0,0&#45;&gt;2,2,0,1,1</title>\n",
       "<path fill=\"none\" stroke=\"black\" d=\"M163.99,-866.03C175.11,-856.44 188.15,-843.01 195.25,-828 215.68,-784.8 217.37,-728.07 216.18,-694.77\"/>\n",
       "<polygon fill=\"black\" stroke=\"black\" points=\"219.66,-694.25 215.7,-684.43 212.67,-694.58 219.66,-694.25\"/>\n",
       "</g>\n",
       "<!-- 3,2,1,0,1 -->\n",
       "<g id=\"node5\" class=\"node\">\n",
       "<title>3,2,1,0,1</title>\n",
       "<ellipse fill=\"none\" stroke=\"black\" cx=\"144.25\" cy=\"-738\" rx=\"42.49\" ry=\"18\"/>\n",
       "<text text-anchor=\"middle\" x=\"144.25\" y=\"-734.3\" font-family=\"Times New Roman,serif\" font-size=\"14.00\">3,2,1,0,1</text>\n",
       "</g>\n",
       "<!-- 3,1,0,0,2&#45;&gt;3,2,1,0,1 -->\n",
       "<g id=\"edge4\" class=\"edge\">\n",
       "<title>3,1,0,0,2&#45;&gt;3,2,1,0,1</title>\n",
       "<path fill=\"none\" stroke=\"black\" d=\"M144.25,-791.7C144.25,-783.98 144.25,-774.71 144.25,-766.11\"/>\n",
       "<polygon fill=\"black\" stroke=\"black\" points=\"147.75,-766.1 144.25,-756.1 140.75,-766.1 147.75,-766.1\"/>\n",
       "</g>\n",
       "<!-- 3,2,1,0,1&#45;&gt;2,2,0,1,1 -->\n",
       "<g id=\"edge5\" class=\"edge\">\n",
       "<title>3,2,1,0,1&#45;&gt;2,2,0,1,1</title>\n",
       "<path fill=\"none\" stroke=\"black\" d=\"M160.13,-721.12C169.35,-711.9 181.12,-700.13 191.33,-689.92\"/>\n",
       "<polygon fill=\"black\" stroke=\"black\" points=\"193.83,-692.37 198.43,-682.82 188.88,-687.42 193.83,-692.37\"/>\n",
       "</g>\n",
       "<!-- 3,0,0,0,3 -->\n",
       "<g id=\"node6\" class=\"node\">\n",
       "<title>3,0,0,0,3</title>\n",
       "<ellipse fill=\"none\" stroke=\"black\" cx=\"112.25\" cy=\"-666\" rx=\"42.49\" ry=\"18\"/>\n",
       "<text text-anchor=\"middle\" x=\"112.25\" y=\"-662.3\" font-family=\"Times New Roman,serif\" font-size=\"14.00\">3,0,0,0,3</text>\n",
       "</g>\n",
       "<!-- 3,2,1,0,1&#45;&gt;3,0,0,0,3 -->\n",
       "<g id=\"edge6\" class=\"edge\">\n",
       "<title>3,2,1,0,1&#45;&gt;3,0,0,0,3</title>\n",
       "<path fill=\"none\" stroke=\"black\" d=\"M136.5,-720.05C132.81,-711.97 128.3,-702.12 124.18,-693.11\"/>\n",
       "<polygon fill=\"black\" stroke=\"black\" points=\"127.26,-691.43 119.92,-683.79 120.9,-694.34 127.26,-691.43\"/>\n",
       "</g>\n",
       "<!-- 3,1,1,0,2 -->\n",
       "<g id=\"node7\" class=\"node\">\n",
       "<title>3,1,1,0,2</title>\n",
       "<ellipse fill=\"none\" stroke=\"black\" cx=\"112.25\" cy=\"-594\" rx=\"42.49\" ry=\"18\"/>\n",
       "<text text-anchor=\"middle\" x=\"112.25\" y=\"-590.3\" font-family=\"Times New Roman,serif\" font-size=\"14.00\">3,1,1,0,2</text>\n",
       "</g>\n",
       "<!-- 3,0,0,0,3&#45;&gt;3,1,1,0,2 -->\n",
       "<g id=\"edge7\" class=\"edge\">\n",
       "<title>3,0,0,0,3&#45;&gt;3,1,1,0,2</title>\n",
       "<path fill=\"none\" stroke=\"black\" d=\"M112.25,-647.7C112.25,-639.98 112.25,-630.71 112.25,-622.11\"/>\n",
       "<polygon fill=\"black\" stroke=\"black\" points=\"115.75,-622.1 112.25,-612.1 108.75,-622.1 115.75,-622.1\"/>\n",
       "</g>\n",
       "<!-- 1,1,0,2,2 -->\n",
       "<g id=\"node8\" class=\"node\">\n",
       "<title>1,1,0,2,2</title>\n",
       "<ellipse fill=\"none\" stroke=\"black\" cx=\"112.25\" cy=\"-522\" rx=\"42.49\" ry=\"18\"/>\n",
       "<text text-anchor=\"middle\" x=\"112.25\" y=\"-518.3\" font-family=\"Times New Roman,serif\" font-size=\"14.00\">1,1,0,2,2</text>\n",
       "</g>\n",
       "<!-- 3,1,1,0,2&#45;&gt;1,1,0,2,2 -->\n",
       "<g id=\"edge8\" class=\"edge\">\n",
       "<title>3,1,1,0,2&#45;&gt;1,1,0,2,2</title>\n",
       "<path fill=\"none\" stroke=\"black\" d=\"M112.25,-575.7C112.25,-567.98 112.25,-558.71 112.25,-550.11\"/>\n",
       "<polygon fill=\"black\" stroke=\"black\" points=\"115.75,-550.1 112.25,-540.1 108.75,-550.1 115.75,-550.1\"/>\n",
       "</g>\n",
       "<!-- 2,2,1,1,1 -->\n",
       "<g id=\"node9\" class=\"node\">\n",
       "<title>2,2,1,1,1</title>\n",
       "<ellipse fill=\"none\" stroke=\"black\" cx=\"112.25\" cy=\"-450\" rx=\"42.49\" ry=\"18\"/>\n",
       "<text text-anchor=\"middle\" x=\"112.25\" y=\"-446.3\" font-family=\"Times New Roman,serif\" font-size=\"14.00\">2,2,1,1,1</text>\n",
       "</g>\n",
       "<!-- 1,1,0,2,2&#45;&gt;2,2,1,1,1 -->\n",
       "<g id=\"edge9\" class=\"edge\">\n",
       "<title>1,1,0,2,2&#45;&gt;2,2,1,1,1</title>\n",
       "<path fill=\"none\" stroke=\"black\" d=\"M112.25,-503.7C112.25,-495.98 112.25,-486.71 112.25,-478.11\"/>\n",
       "<polygon fill=\"black\" stroke=\"black\" points=\"115.75,-478.1 112.25,-468.1 108.75,-478.1 115.75,-478.1\"/>\n",
       "</g>\n",
       "<!-- 0,2,0,3,1 -->\n",
       "<g id=\"node10\" class=\"node\">\n",
       "<title>0,2,0,3,1</title>\n",
       "<ellipse fill=\"none\" stroke=\"black\" cx=\"112.25\" cy=\"-378\" rx=\"42.49\" ry=\"18\"/>\n",
       "<text text-anchor=\"middle\" x=\"112.25\" y=\"-374.3\" font-family=\"Times New Roman,serif\" font-size=\"14.00\">0,2,0,3,1</text>\n",
       "</g>\n",
       "<!-- 2,2,1,1,1&#45;&gt;0,2,0,3,1 -->\n",
       "<g id=\"edge10\" class=\"edge\">\n",
       "<title>2,2,1,1,1&#45;&gt;0,2,0,3,1</title>\n",
       "<path fill=\"none\" stroke=\"black\" d=\"M112.25,-431.7C112.25,-423.98 112.25,-414.71 112.25,-406.11\"/>\n",
       "<polygon fill=\"black\" stroke=\"black\" points=\"115.75,-406.1 112.25,-396.1 108.75,-406.1 115.75,-406.1\"/>\n",
       "</g>\n",
       "<!-- 0,3,1,3,0 -->\n",
       "<g id=\"node11\" class=\"node\">\n",
       "<title>0,3,1,3,0</title>\n",
       "<ellipse fill=\"none\" stroke=\"black\" cx=\"112.25\" cy=\"-306\" rx=\"42.49\" ry=\"18\"/>\n",
       "<text text-anchor=\"middle\" x=\"112.25\" y=\"-302.3\" font-family=\"Times New Roman,serif\" font-size=\"14.00\">0,3,1,3,0</text>\n",
       "</g>\n",
       "<!-- 0,2,0,3,1&#45;&gt;0,3,1,3,0 -->\n",
       "<g id=\"edge11\" class=\"edge\">\n",
       "<title>0,2,0,3,1&#45;&gt;0,3,1,3,0</title>\n",
       "<path fill=\"none\" stroke=\"black\" d=\"M112.25,-359.7C112.25,-351.98 112.25,-342.71 112.25,-334.11\"/>\n",
       "<polygon fill=\"black\" stroke=\"black\" points=\"115.75,-334.1 112.25,-324.1 108.75,-334.1 115.75,-334.1\"/>\n",
       "</g>\n",
       "<!-- 0,1,0,3,2 -->\n",
       "<g id=\"node12\" class=\"node\">\n",
       "<title>0,1,0,3,2</title>\n",
       "<ellipse fill=\"none\" stroke=\"black\" cx=\"112.25\" cy=\"-234\" rx=\"42.49\" ry=\"18\"/>\n",
       "<text text-anchor=\"middle\" x=\"112.25\" y=\"-230.3\" font-family=\"Times New Roman,serif\" font-size=\"14.00\">0,1,0,3,2</text>\n",
       "</g>\n",
       "<!-- 0,3,1,3,0&#45;&gt;0,1,0,3,2 -->\n",
       "<g id=\"edge12\" class=\"edge\">\n",
       "<title>0,3,1,3,0&#45;&gt;0,1,0,3,2</title>\n",
       "<path fill=\"none\" stroke=\"black\" d=\"M112.25,-287.7C112.25,-279.98 112.25,-270.71 112.25,-262.11\"/>\n",
       "<polygon fill=\"black\" stroke=\"black\" points=\"115.75,-262.1 112.25,-252.1 108.75,-262.1 115.75,-262.1\"/>\n",
       "</g>\n",
       "<!-- 0,2,1,3,1 -->\n",
       "<g id=\"node13\" class=\"node\">\n",
       "<title>0,2,1,3,1</title>\n",
       "<ellipse fill=\"none\" stroke=\"black\" cx=\"77.25\" cy=\"-162\" rx=\"42.49\" ry=\"18\"/>\n",
       "<text text-anchor=\"middle\" x=\"77.25\" y=\"-158.3\" font-family=\"Times New Roman,serif\" font-size=\"14.00\">0,2,1,3,1</text>\n",
       "</g>\n",
       "<!-- 0,1,0,3,2&#45;&gt;0,2,1,3,1 -->\n",
       "<g id=\"edge13\" class=\"edge\">\n",
       "<title>0,1,0,3,2&#45;&gt;0,2,1,3,1</title>\n",
       "<path fill=\"none\" stroke=\"black\" d=\"M103.77,-216.05C99.69,-207.89 94.7,-197.91 90.16,-188.82\"/>\n",
       "<polygon fill=\"black\" stroke=\"black\" points=\"93.24,-187.17 85.64,-179.79 86.98,-190.3 93.24,-187.17\"/>\n",
       "</g>\n",
       "<!-- 1,1,1,2,2 -->\n",
       "<g id=\"node14\" class=\"node\">\n",
       "<title>1,1,1,2,2</title>\n",
       "<ellipse fill=\"none\" stroke=\"black\" cx=\"147.25\" cy=\"-18\" rx=\"42.49\" ry=\"18\"/>\n",
       "<text text-anchor=\"middle\" x=\"147.25\" y=\"-14.3\" font-family=\"Times New Roman,serif\" font-size=\"14.00\">1,1,1,2,2</text>\n",
       "</g>\n",
       "<!-- 0,1,0,3,2&#45;&gt;1,1,1,2,2 -->\n",
       "<g id=\"edge14\" class=\"edge\">\n",
       "<title>0,1,0,3,2&#45;&gt;1,1,1,2,2</title>\n",
       "<path fill=\"none\" stroke=\"black\" d=\"M118.21,-216.01C121.61,-205.71 125.7,-192.23 128.25,-180 137.94,-133.46 143.11,-78.25 145.51,-46.06\"/>\n",
       "<polygon fill=\"black\" stroke=\"black\" points=\"149,-46.3 146.22,-36.08 142.02,-45.81 149,-46.3\"/>\n",
       "</g>\n",
       "<!-- 0,0,0,3,3 -->\n",
       "<g id=\"node15\" class=\"node\">\n",
       "<title>0,0,0,3,3</title>\n",
       "<ellipse fill=\"none\" stroke=\"black\" cx=\"77.25\" cy=\"-90\" rx=\"42.49\" ry=\"18\"/>\n",
       "<text text-anchor=\"middle\" x=\"77.25\" y=\"-86.3\" font-family=\"Times New Roman,serif\" font-size=\"14.00\">0,0,0,3,3</text>\n",
       "</g>\n",
       "<!-- 0,2,1,3,1&#45;&gt;0,0,0,3,3 -->\n",
       "<g id=\"edge15\" class=\"edge\">\n",
       "<title>0,2,1,3,1&#45;&gt;0,0,0,3,3</title>\n",
       "<path fill=\"none\" stroke=\"black\" d=\"M77.25,-143.7C77.25,-135.98 77.25,-126.71 77.25,-118.11\"/>\n",
       "<polygon fill=\"black\" stroke=\"black\" points=\"80.75,-118.1 77.25,-108.1 73.75,-118.1 80.75,-118.1\"/>\n",
       "</g>\n",
       "<!-- 0,0,0,3,3&#45;&gt;1,1,1,2,2 -->\n",
       "<g id=\"edge17\" class=\"edge\">\n",
       "<title>0,0,0,3,3&#45;&gt;1,1,1,2,2</title>\n",
       "<path fill=\"none\" stroke=\"black\" d=\"M93.13,-73.12C102.35,-63.9 114.12,-52.13 124.33,-41.92\"/>\n",
       "<polygon fill=\"black\" stroke=\"black\" points=\"126.83,-44.37 131.43,-34.82 121.88,-39.42 126.83,-44.37\"/>\n",
       "</g>\n",
       "<!-- 0,1,1,3,2 -->\n",
       "<g id=\"node16\" class=\"node\">\n",
       "<title>0,1,1,3,2</title>\n",
       "<ellipse fill=\"none\" stroke=\"black\" cx=\"45.25\" cy=\"-18\" rx=\"42.49\" ry=\"18\"/>\n",
       "<text text-anchor=\"middle\" x=\"45.25\" y=\"-14.3\" font-family=\"Times New Roman,serif\" font-size=\"14.00\">0,1,1,3,2</text>\n",
       "</g>\n",
       "<!-- 0,0,0,3,3&#45;&gt;0,1,1,3,2 -->\n",
       "<g id=\"edge16\" class=\"edge\">\n",
       "<title>0,0,0,3,3&#45;&gt;0,1,1,3,2</title>\n",
       "<path fill=\"none\" stroke=\"black\" d=\"M69.5,-72.05C65.81,-63.97 61.3,-54.12 57.18,-45.11\"/>\n",
       "<polygon fill=\"black\" stroke=\"black\" points=\"60.26,-43.43 52.92,-35.79 53.9,-46.34 60.26,-43.43\"/>\n",
       "</g>\n",
       "</g>\n",
       "</svg>\n"
      ],
      "text/plain": [
       "<graphviz.graphs.Digraph at 0x17974f1b310>"
      ]
     },
     "execution_count": 14,
     "metadata": {},
     "output_type": "execute_result"
    }
   ],
   "source": [
    "g.create_graphviz()"
   ]
  },
  {
   "cell_type": "markdown",
   "id": "956afe6c",
   "metadata": {
    "hidden": true
   },
   "source": [
    "Teraz wystarczy znaleźć połączenie, czyli"
   ]
  },
  {
   "cell_type": "code",
   "execution_count": 21,
   "id": "f4a1ba0c",
   "metadata": {
    "hidden": true
   },
   "outputs": [
    {
     "name": "stdout",
     "output_type": "stream",
     "text": [
      "3,3,1,0,0\n",
      "3,1,0,0,2\n",
      "3,2,1,0,1\n",
      "3,0,0,0,3\n",
      "3,1,1,0,2\n",
      "1,1,0,2,2\n",
      "2,2,1,1,1\n",
      "0,2,0,3,1\n",
      "0,3,1,3,0\n",
      "0,1,0,3,2\n",
      "0,2,1,3,1\n",
      "0,0,0,3,3\n"
     ]
    }
   ],
   "source": [
    "print(g.get_connection(\"3,3,1,0,0\",\"0,0,0,3,3\"))"
   ]
  },
  {
   "cell_type": "code",
   "execution_count": 43,
   "id": "5db68cc3",
   "metadata": {
    "hidden": true
   },
   "outputs": [],
   "source": [
    "def read_problem(txt):\n",
    "    numbers=[[int(i) for i in j.split(\",\")] for j in txt.split(\"\\n\")]\n",
    "    res=\"\"\n",
    "    for i in range(len(numbers)-1):\n",
    "        res+=\"<- \"*(not numbers[i][2])+\"M\"*(-(-1)**numbers[i][2]*(numbers[i][0]-numbers[i+1][0])) + \" \" \\\n",
    "        + \"K\"*(-(-1)**numbers[i][2]*(numbers[i][1]-numbers[i+1][1])) + \" ->\"*(numbers[i][2])+\"\\n\"\n",
    "    return res"
   ]
  },
  {
   "cell_type": "code",
   "execution_count": 47,
   "id": "fe0b7d6f",
   "metadata": {
    "hidden": true
   },
   "outputs": [
    {
     "name": "stdout",
     "output_type": "stream",
     "text": [
      " KK ->\n",
      "<-  K\n",
      " KK ->\n",
      "<-  K\n",
      "MM  ->\n",
      "<- M K\n",
      "MM  ->\n",
      "<-  K\n",
      " KK ->\n",
      "<-  K\n",
      " KK ->\n",
      "\n"
     ]
    }
   ],
   "source": [
    "print(read_problem(g.get_connection(\"3,3,1,0,0\",\"0,0,0,3,3\")))"
   ]
  },
  {
   "cell_type": "code",
   "execution_count": 53,
   "id": "e0b00120",
   "metadata": {
    "hidden": true
   },
   "outputs": [
    {
     "ename": "ValueError",
     "evalue": "Nie ma takiego punktu końcowego",
     "output_type": "error",
     "traceback": [
      "\u001b[1;31m---------------------------------------------------------------------------\u001b[0m",
      "\u001b[1;31mValueError\u001b[0m                                Traceback (most recent call last)",
      "\u001b[1;32m<ipython-input-53-b6e8e75e7e5c>\u001b[0m in \u001b[0;36m<module>\u001b[1;34m\u001b[0m\n\u001b[0;32m      1\u001b[0m \u001b[0mm\u001b[0m\u001b[1;33m,\u001b[0m\u001b[0mk\u001b[0m\u001b[1;33m,\u001b[0m\u001b[0mb\u001b[0m\u001b[1;33m=\u001b[0m\u001b[1;36m6\u001b[0m\u001b[1;33m,\u001b[0m\u001b[1;36m6\u001b[0m\u001b[1;33m,\u001b[0m\u001b[1;36m2\u001b[0m\u001b[1;33m\u001b[0m\u001b[1;33m\u001b[0m\u001b[0m\n\u001b[0;32m      2\u001b[0m \u001b[1;33m\u001b[0m\u001b[0m\n\u001b[1;32m----> 3\u001b[1;33m \u001b[0mprint\u001b[0m\u001b[1;33m(\u001b[0m\u001b[0mread_problem\u001b[0m\u001b[1;33m(\u001b[0m\u001b[0mMissionaries_and_cannibals_problem\u001b[0m\u001b[1;33m(\u001b[0m\u001b[0mm\u001b[0m\u001b[1;33m,\u001b[0m\u001b[0mk\u001b[0m\u001b[1;33m,\u001b[0m\u001b[0mb\u001b[0m\u001b[1;33m)\u001b[0m\u001b[1;33m.\u001b[0m\u001b[0mget_connection\u001b[0m\u001b[1;33m(\u001b[0m\u001b[1;34m\"6,6,1,0,0\"\u001b[0m\u001b[1;33m,\u001b[0m\u001b[1;34m\"0,0,0,6,6\"\u001b[0m\u001b[1;33m)\u001b[0m\u001b[1;33m)\u001b[0m\u001b[1;33m)\u001b[0m\u001b[1;33m\u001b[0m\u001b[1;33m\u001b[0m\u001b[0m\n\u001b[0m",
      "\u001b[1;32m<ipython-input-17-a4bc25f85bad>\u001b[0m in \u001b[0;36mget_connection\u001b[1;34m(self, start, end, arrows)\u001b[0m\n\u001b[0;32m    105\u001b[0m \u001b[1;33m\u001b[0m\u001b[0m\n\u001b[0;32m    106\u001b[0m         \u001b[1;32mif\u001b[0m \u001b[1;32mnot\u001b[0m \u001b[0mend\u001b[0m \u001b[1;32min\u001b[0m \u001b[0mself\u001b[0m\u001b[1;33m:\u001b[0m\u001b[1;33m\u001b[0m\u001b[1;33m\u001b[0m\u001b[0m\n\u001b[1;32m--> 107\u001b[1;33m             \u001b[1;32mraise\u001b[0m \u001b[0mValueError\u001b[0m\u001b[1;33m(\u001b[0m\u001b[1;34m\"Nie ma takiego punktu końcowego\"\u001b[0m\u001b[1;33m)\u001b[0m\u001b[1;33m\u001b[0m\u001b[1;33m\u001b[0m\u001b[0m\n\u001b[0m\u001b[0;32m    108\u001b[0m \u001b[1;33m\u001b[0m\u001b[0m\n\u001b[0;32m    109\u001b[0m         \u001b[1;32mif\u001b[0m \u001b[0mself\u001b[0m\u001b[1;33m[\u001b[0m\u001b[0mend\u001b[0m\u001b[1;33m]\u001b[0m\u001b[1;33m.\u001b[0m\u001b[0mcolor\u001b[0m \u001b[1;33m==\u001b[0m \u001b[1;34m\"White\"\u001b[0m\u001b[1;33m:\u001b[0m\u001b[1;33m\u001b[0m\u001b[1;33m\u001b[0m\u001b[0m\n",
      "\u001b[1;31mValueError\u001b[0m: Nie ma takiego punktu końcowego"
     ]
    }
   ],
   "source": [
    "m,k,b=6,6,2\n",
    "\n",
    "print(read_problem(Missionaries_and_cannibals_problem(m,k,b).get_connection(\"6,6,1,0,0\",\"0,0,0,6,6\")))"
   ]
  },
  {
   "cell_type": "markdown",
   "id": "8429cda1",
   "metadata": {
    "hidden": true
   },
   "source": [
    "Zatem nie da się rozwiązać tego problemu przy urzyciu tak małej łodzi, ale jeśli będzie o 1 mniej kanibala to problemów nie ma!"
   ]
  },
  {
   "cell_type": "code",
   "execution_count": 60,
   "id": "ba6cd366",
   "metadata": {
    "hidden": true
   },
   "outputs": [
    {
     "name": "stdout",
     "output_type": "stream",
     "text": [
      "M K ->\n",
      "<-  K\n",
      "M K ->\n",
      "<- M \n",
      "M K ->\n",
      "<-  K\n",
      "M K ->\n",
      "<- M \n",
      "M K ->\n",
      "<-  K\n",
      "M K ->\n",
      "<- M \n",
      "M K ->\n",
      "<-  K\n",
      "M K ->\n",
      "<- M \n",
      "MM  ->\n",
      "<-  K\n",
      " KK ->\n",
      "\n"
     ]
    }
   ],
   "source": [
    "m,k,b=6,5,2\n",
    "\n",
    "print(read_problem(Missionaries_and_cannibals_problem(m,k,b).get_connection(\"6,5,1,0,0\",\"0,0,0,6,5\")))"
   ]
  },
  {
   "cell_type": "code",
   "execution_count": 62,
   "id": "322a15df",
   "metadata": {
    "hidden": true
   },
   "outputs": [
    {
     "name": "stdout",
     "output_type": "stream",
     "text": [
      " KKKK ->\n",
      "<-  K\n",
      " KK ->\n",
      "<-  K\n",
      "MMMM  ->\n",
      "<- M K\n",
      "MMM K ->\n",
      "<-  K\n",
      " KKK ->\n",
      "\n"
     ]
    }
   ],
   "source": [
    "m,k,b=6,6,4\n",
    "\n",
    "print(read_problem(Missionaries_and_cannibals_problem(m,k,b).get_connection(\"6,6,1,0,0\",\"0,0,0,6,6\")))"
   ]
  },
  {
   "cell_type": "markdown",
   "id": "35e65471",
   "metadata": {
    "hidden": true
   },
   "source": [
    "Albo jeśli łódź pomieści jednocześnie 4 osoby, ale to jest już przypadek nudny"
   ]
  },
  {
   "cell_type": "code",
   "execution_count": 69,
   "id": "0e6f4244",
   "metadata": {
    "hidden": true
   },
   "outputs": [
    {
     "ename": "ValueError",
     "evalue": "Misjonerze nie żyją!",
     "output_type": "error",
     "traceback": [
      "\u001b[1;31m---------------------------------------------------------------------------\u001b[0m",
      "\u001b[1;31mValueError\u001b[0m                                Traceback (most recent call last)",
      "\u001b[1;32m<ipython-input-69-1b9ef3f98db6>\u001b[0m in \u001b[0;36m<module>\u001b[1;34m\u001b[0m\n\u001b[1;32m----> 1\u001b[1;33m \u001b[0mMissionaries_and_cannibals_problem\u001b[0m\u001b[1;33m(\u001b[0m\u001b[1;36m2\u001b[0m\u001b[1;33m,\u001b[0m\u001b[1;36m3\u001b[0m\u001b[1;33m,\u001b[0m\u001b[1;36m2\u001b[0m\u001b[1;33m)\u001b[0m\u001b[1;33m\u001b[0m\u001b[1;33m\u001b[0m\u001b[0m\n\u001b[0m",
      "\u001b[1;32m<ipython-input-67-8fad0424ff5a>\u001b[0m in \u001b[0;36mMissionaries_and_cannibals_problem\u001b[1;34m(m, k, b)\u001b[0m\n\u001b[0;32m      4\u001b[0m     \u001b[1;31m# b - pojemność łodzi\u001b[0m\u001b[1;33m\u001b[0m\u001b[1;33m\u001b[0m\u001b[1;33m\u001b[0m\u001b[0m\n\u001b[0;32m      5\u001b[0m     \u001b[1;32mif\u001b[0m \u001b[0mk\u001b[0m\u001b[1;33m>\u001b[0m\u001b[0mm\u001b[0m\u001b[1;33m:\u001b[0m\u001b[1;33m\u001b[0m\u001b[1;33m\u001b[0m\u001b[0m\n\u001b[1;32m----> 6\u001b[1;33m         \u001b[1;32mraise\u001b[0m \u001b[0mValueError\u001b[0m\u001b[1;33m(\u001b[0m\u001b[1;34m\"Misjonerze nie żyją!\"\u001b[0m\u001b[1;33m)\u001b[0m\u001b[1;33m\u001b[0m\u001b[1;33m\u001b[0m\u001b[0m\n\u001b[0m\u001b[0;32m      7\u001b[0m     \u001b[0mg\u001b[0m\u001b[1;33m=\u001b[0m\u001b[0mGraph\u001b[0m\u001b[1;33m(\u001b[0m\u001b[1;33m)\u001b[0m\u001b[1;33m\u001b[0m\u001b[1;33m\u001b[0m\u001b[0m\n\u001b[0;32m      8\u001b[0m     \u001b[0mg\u001b[0m\u001b[1;33m.\u001b[0m\u001b[0maddVertex\u001b[0m\u001b[1;33m(\u001b[0m\u001b[0mstr\u001b[0m\u001b[1;33m(\u001b[0m\u001b[0mm\u001b[0m\u001b[1;33m)\u001b[0m\u001b[1;33m+\u001b[0m\u001b[1;34m\",\"\u001b[0m\u001b[1;33m+\u001b[0m\u001b[0mstr\u001b[0m\u001b[1;33m(\u001b[0m\u001b[0mk\u001b[0m\u001b[1;33m)\u001b[0m\u001b[1;33m+\u001b[0m\u001b[1;34m\",1,0,0\"\u001b[0m\u001b[1;33m)\u001b[0m \u001b[1;31m# Pokolei: liczba na lewym brzegu: misjonarzy, kanibali, łodzi;\u001b[0m\u001b[1;33m\u001b[0m\u001b[1;33m\u001b[0m\u001b[0m\n",
      "\u001b[1;31mValueError\u001b[0m: Misjonerze nie żyją!"
     ]
    }
   ],
   "source": [
    "Missionaries_and_cannibals_problem(2,3,2)"
   ]
  },
  {
   "cell_type": "markdown",
   "id": "363eded9",
   "metadata": {},
   "source": [
    "# Zad 7"
   ]
  },
  {
   "cell_type": "code",
   "execution_count": 70,
   "id": "602776bd",
   "metadata": {},
   "outputs": [
    {
     "ename": "SyntaxError",
     "evalue": "invalid syntax (<ipython-input-70-6472202ff5ce>, line 1)",
     "output_type": "error",
     "traceback": [
      "\u001b[1;36m  File \u001b[1;32m\"<ipython-input-70-6472202ff5ce>\"\u001b[1;36m, line \u001b[1;32m1\u001b[0m\n\u001b[1;33m    def x(*s=(1,2)):\u001b[0m\n\u001b[1;37m            ^\u001b[0m\n\u001b[1;31mSyntaxError\u001b[0m\u001b[1;31m:\u001b[0m invalid syntax\n"
     ]
    }
   ],
   "source": []
  },
  {
   "cell_type": "code",
   "execution_count": null,
   "id": "a34d2df9",
   "metadata": {},
   "outputs": [],
   "source": []
  },
  {
   "cell_type": "markdown",
   "id": "e01581f1",
   "metadata": {
    "heading_collapsed": true
   },
   "source": [
    "# cos"
   ]
  },
  {
   "cell_type": "code",
   "execution_count": null,
   "id": "0b6d3a9f",
   "metadata": {
    "hidden": true
   },
   "outputs": [],
   "source": []
  },
  {
   "cell_type": "code",
   "execution_count": null,
   "id": "40068666",
   "metadata": {
    "hidden": true
   },
   "outputs": [],
   "source": []
  },
  {
   "cell_type": "code",
   "execution_count": 277,
   "id": "a1934372",
   "metadata": {
    "hidden": true
   },
   "outputs": [
    {
     "data": {
      "text/plain": [
       "('3', '3', '1', '0', '0', 12)"
      ]
     },
     "execution_count": 277,
     "metadata": {},
     "output_type": "execute_result"
    }
   ],
   "source": []
  },
  {
   "cell_type": "code",
   "execution_count": 203,
   "id": "f24da7f5",
   "metadata": {
    "hidden": true
   },
   "outputs": [],
   "source": [
    "g=Graph()\n",
    "g.addEdge(1,2)\n",
    "g.addEdge(2,3)\n",
    "g.addEdge(3,4)\n",
    "g.addEdge(2,4)\n",
    "g.addEdge(2,5)\n",
    "g.addEdge(5,4)\n",
    "g.addEdge(4,6)\n",
    "g.addEdge(23,32)\n",
    "g.addEdge(32,6)\n",
    "g.addEdge(5,23)\n",
    "g.addEdge(7,6)\n",
    "g.addEdge(12,32)\n",
    "g.addEdge(12,23)\n",
    "g.addEdge(8,9)\n",
    "g.addEdge(9,10)\n",
    "g.addEdge(10,11)\n",
    "g.addEdge(8,11)\n",
    "g.addEdge(9,15)"
   ]
  },
  {
   "cell_type": "code",
   "execution_count": 204,
   "id": "a8162706",
   "metadata": {
    "hidden": true
   },
   "outputs": [
    {
     "data": {
      "image/svg+xml": [
       "<?xml version=\"1.0\" encoding=\"UTF-8\" standalone=\"no\"?>\n",
       "<!DOCTYPE svg PUBLIC \"-//W3C//DTD SVG 1.1//EN\"\n",
       " \"http://www.w3.org/Graphics/SVG/1.1/DTD/svg11.dtd\">\n",
       "<!-- Generated by graphviz version 2.50.0 (20211204.2007)\n",
       " -->\n",
       "<!-- Pages: 1 -->\n",
       "<svg width=\"415pt\" height=\"404pt\"\n",
       " viewBox=\"0.00 0.00 415.00 404.00\" xmlns=\"http://www.w3.org/2000/svg\" xmlns:xlink=\"http://www.w3.org/1999/xlink\">\n",
       "<g id=\"graph0\" class=\"graph\" transform=\"scale(1 1) rotate(0) translate(4 400)\">\n",
       "<polygon fill=\"white\" stroke=\"transparent\" points=\"-4,4 -4,-400 411,-400 411,4 -4,4\"/>\n",
       "<!-- 1 -->\n",
       "<g id=\"node1\" class=\"node\">\n",
       "<title>1</title>\n",
       "<ellipse fill=\"none\" stroke=\"black\" cx=\"82\" cy=\"-378\" rx=\"27\" ry=\"18\"/>\n",
       "<text text-anchor=\"middle\" x=\"82\" y=\"-374.3\" font-family=\"Times New Roman,serif\" font-size=\"14.00\">1</text>\n",
       "</g>\n",
       "<!-- 2 -->\n",
       "<g id=\"node2\" class=\"node\">\n",
       "<title>2</title>\n",
       "<ellipse fill=\"none\" stroke=\"black\" cx=\"82\" cy=\"-306\" rx=\"27\" ry=\"18\"/>\n",
       "<text text-anchor=\"middle\" x=\"82\" y=\"-302.3\" font-family=\"Times New Roman,serif\" font-size=\"14.00\">2</text>\n",
       "</g>\n",
       "<!-- 1&#45;&gt;2 -->\n",
       "<g id=\"edge1\" class=\"edge\">\n",
       "<title>1&#45;&gt;2</title>\n",
       "<path fill=\"none\" stroke=\"black\" d=\"M82,-359.7C82,-351.98 82,-342.71 82,-334.11\"/>\n",
       "<polygon fill=\"black\" stroke=\"black\" points=\"85.5,-334.1 82,-324.1 78.5,-334.1 85.5,-334.1\"/>\n",
       "</g>\n",
       "<!-- 3 -->\n",
       "<g id=\"node3\" class=\"node\">\n",
       "<title>3</title>\n",
       "<ellipse fill=\"none\" stroke=\"black\" cx=\"27\" cy=\"-234\" rx=\"27\" ry=\"18\"/>\n",
       "<text text-anchor=\"middle\" x=\"27\" y=\"-230.3\" font-family=\"Times New Roman,serif\" font-size=\"14.00\">3</text>\n",
       "</g>\n",
       "<!-- 2&#45;&gt;3 -->\n",
       "<g id=\"edge2\" class=\"edge\">\n",
       "<title>2&#45;&gt;3</title>\n",
       "<path fill=\"none\" stroke=\"black\" d=\"M70.07,-289.81C62.79,-280.55 53.34,-268.52 45.15,-258.09\"/>\n",
       "<polygon fill=\"black\" stroke=\"black\" points=\"47.84,-255.86 38.91,-250.16 42.34,-260.18 47.84,-255.86\"/>\n",
       "</g>\n",
       "<!-- 4 -->\n",
       "<g id=\"node4\" class=\"node\">\n",
       "<title>4</title>\n",
       "<ellipse fill=\"none\" stroke=\"black\" cx=\"82\" cy=\"-162\" rx=\"27\" ry=\"18\"/>\n",
       "<text text-anchor=\"middle\" x=\"82\" y=\"-158.3\" font-family=\"Times New Roman,serif\" font-size=\"14.00\">4</text>\n",
       "</g>\n",
       "<!-- 2&#45;&gt;4 -->\n",
       "<g id=\"edge3\" class=\"edge\">\n",
       "<title>2&#45;&gt;4</title>\n",
       "<path fill=\"none\" stroke=\"black\" d=\"M82,-287.87C82,-263.67 82,-219.21 82,-190.39\"/>\n",
       "<polygon fill=\"black\" stroke=\"black\" points=\"85.5,-190.19 82,-180.19 78.5,-190.19 85.5,-190.19\"/>\n",
       "</g>\n",
       "<!-- 5 -->\n",
       "<g id=\"node5\" class=\"node\">\n",
       "<title>5</title>\n",
       "<ellipse fill=\"none\" stroke=\"black\" cx=\"137\" cy=\"-234\" rx=\"27\" ry=\"18\"/>\n",
       "<text text-anchor=\"middle\" x=\"137\" y=\"-230.3\" font-family=\"Times New Roman,serif\" font-size=\"14.00\">5</text>\n",
       "</g>\n",
       "<!-- 2&#45;&gt;5 -->\n",
       "<g id=\"edge4\" class=\"edge\">\n",
       "<title>2&#45;&gt;5</title>\n",
       "<path fill=\"none\" stroke=\"black\" d=\"M93.93,-289.81C101.21,-280.55 110.66,-268.52 118.85,-258.09\"/>\n",
       "<polygon fill=\"black\" stroke=\"black\" points=\"121.66,-260.18 125.09,-250.16 116.16,-255.86 121.66,-260.18\"/>\n",
       "</g>\n",
       "<!-- 3&#45;&gt;4 -->\n",
       "<g id=\"edge5\" class=\"edge\">\n",
       "<title>3&#45;&gt;4</title>\n",
       "<path fill=\"none\" stroke=\"black\" d=\"M38.93,-217.81C46.21,-208.55 55.66,-196.52 63.85,-186.09\"/>\n",
       "<polygon fill=\"black\" stroke=\"black\" points=\"66.66,-188.18 70.09,-178.16 61.16,-183.86 66.66,-188.18\"/>\n",
       "</g>\n",
       "<!-- 6 -->\n",
       "<g id=\"node6\" class=\"node\">\n",
       "<title>6</title>\n",
       "<ellipse fill=\"none\" stroke=\"black\" cx=\"154\" cy=\"-18\" rx=\"27\" ry=\"18\"/>\n",
       "<text text-anchor=\"middle\" x=\"154\" y=\"-14.3\" font-family=\"Times New Roman,serif\" font-size=\"14.00\">6</text>\n",
       "</g>\n",
       "<!-- 4&#45;&gt;6 -->\n",
       "<g id=\"edge6\" class=\"edge\">\n",
       "<title>4&#45;&gt;6</title>\n",
       "<path fill=\"none\" stroke=\"black\" d=\"M87.62,-144.12C93.97,-125.86 105.12,-96.11 118,-72 123.27,-62.14 129.95,-51.85 136.12,-42.99\"/>\n",
       "<polygon fill=\"black\" stroke=\"black\" points=\"139.09,-44.85 142.05,-34.68 133.39,-40.79 139.09,-44.85\"/>\n",
       "</g>\n",
       "<!-- 5&#45;&gt;4 -->\n",
       "<g id=\"edge7\" class=\"edge\">\n",
       "<title>5&#45;&gt;4</title>\n",
       "<path fill=\"none\" stroke=\"black\" d=\"M125.07,-217.81C117.79,-208.55 108.34,-196.52 100.15,-186.09\"/>\n",
       "<polygon fill=\"black\" stroke=\"black\" points=\"102.84,-183.86 93.91,-178.16 97.34,-188.18 102.84,-183.86\"/>\n",
       "</g>\n",
       "<!-- 23 -->\n",
       "<g id=\"node7\" class=\"node\">\n",
       "<title>23</title>\n",
       "<ellipse fill=\"none\" stroke=\"black\" cx=\"154\" cy=\"-162\" rx=\"27\" ry=\"18\"/>\n",
       "<text text-anchor=\"middle\" x=\"154\" y=\"-158.3\" font-family=\"Times New Roman,serif\" font-size=\"14.00\">23</text>\n",
       "</g>\n",
       "<!-- 5&#45;&gt;23 -->\n",
       "<g id=\"edge8\" class=\"edge\">\n",
       "<title>5&#45;&gt;23</title>\n",
       "<path fill=\"none\" stroke=\"black\" d=\"M141.12,-216.05C143.01,-208.26 145.3,-198.82 147.42,-190.08\"/>\n",
       "<polygon fill=\"black\" stroke=\"black\" points=\"150.85,-190.82 149.8,-180.28 144.04,-189.17 150.85,-190.82\"/>\n",
       "</g>\n",
       "<!-- 32 -->\n",
       "<g id=\"node8\" class=\"node\">\n",
       "<title>32</title>\n",
       "<ellipse fill=\"none\" stroke=\"black\" cx=\"154\" cy=\"-90\" rx=\"27\" ry=\"18\"/>\n",
       "<text text-anchor=\"middle\" x=\"154\" y=\"-86.3\" font-family=\"Times New Roman,serif\" font-size=\"14.00\">32</text>\n",
       "</g>\n",
       "<!-- 23&#45;&gt;32 -->\n",
       "<g id=\"edge9\" class=\"edge\">\n",
       "<title>23&#45;&gt;32</title>\n",
       "<path fill=\"none\" stroke=\"black\" d=\"M154,-143.7C154,-135.98 154,-126.71 154,-118.11\"/>\n",
       "<polygon fill=\"black\" stroke=\"black\" points=\"157.5,-118.1 154,-108.1 150.5,-118.1 157.5,-118.1\"/>\n",
       "</g>\n",
       "<!-- 32&#45;&gt;6 -->\n",
       "<g id=\"edge10\" class=\"edge\">\n",
       "<title>32&#45;&gt;6</title>\n",
       "<path fill=\"none\" stroke=\"black\" d=\"M154,-71.7C154,-63.98 154,-54.71 154,-46.11\"/>\n",
       "<polygon fill=\"black\" stroke=\"black\" points=\"157.5,-46.1 154,-36.1 150.5,-46.1 157.5,-46.1\"/>\n",
       "</g>\n",
       "<!-- 7 -->\n",
       "<g id=\"node9\" class=\"node\">\n",
       "<title>7</title>\n",
       "<ellipse fill=\"none\" stroke=\"black\" cx=\"226\" cy=\"-90\" rx=\"27\" ry=\"18\"/>\n",
       "<text text-anchor=\"middle\" x=\"226\" y=\"-86.3\" font-family=\"Times New Roman,serif\" font-size=\"14.00\">7</text>\n",
       "</g>\n",
       "<!-- 7&#45;&gt;6 -->\n",
       "<g id=\"edge11\" class=\"edge\">\n",
       "<title>7&#45;&gt;6</title>\n",
       "<path fill=\"none\" stroke=\"black\" d=\"M211.43,-74.83C201.25,-64.94 187.48,-51.55 175.97,-40.36\"/>\n",
       "<polygon fill=\"black\" stroke=\"black\" points=\"178.41,-37.85 168.8,-33.38 173.53,-42.87 178.41,-37.85\"/>\n",
       "</g>\n",
       "<!-- 12 -->\n",
       "<g id=\"node10\" class=\"node\">\n",
       "<title>12</title>\n",
       "<ellipse fill=\"none\" stroke=\"black\" cx=\"209\" cy=\"-234\" rx=\"27\" ry=\"18\"/>\n",
       "<text text-anchor=\"middle\" x=\"209\" y=\"-230.3\" font-family=\"Times New Roman,serif\" font-size=\"14.00\">12</text>\n",
       "</g>\n",
       "<!-- 12&#45;&gt;23 -->\n",
       "<g id=\"edge13\" class=\"edge\">\n",
       "<title>12&#45;&gt;23</title>\n",
       "<path fill=\"none\" stroke=\"black\" d=\"M197.07,-217.81C189.79,-208.55 180.34,-196.52 172.15,-186.09\"/>\n",
       "<polygon fill=\"black\" stroke=\"black\" points=\"174.84,-183.86 165.91,-178.16 169.34,-188.18 174.84,-183.86\"/>\n",
       "</g>\n",
       "<!-- 12&#45;&gt;32 -->\n",
       "<g id=\"edge12\" class=\"edge\">\n",
       "<title>12&#45;&gt;32</title>\n",
       "<path fill=\"none\" stroke=\"black\" d=\"M207.34,-216.01C205.11,-197.65 200.17,-167.83 190,-144 185.61,-133.72 179.12,-123.34 172.85,-114.53\"/>\n",
       "<polygon fill=\"black\" stroke=\"black\" points=\"175.52,-112.24 166.75,-106.3 169.89,-116.41 175.52,-112.24\"/>\n",
       "</g>\n",
       "<!-- 8 -->\n",
       "<g id=\"node11\" class=\"node\">\n",
       "<title>8</title>\n",
       "<ellipse fill=\"none\" stroke=\"black\" cx=\"380\" cy=\"-378\" rx=\"27\" ry=\"18\"/>\n",
       "<text text-anchor=\"middle\" x=\"380\" y=\"-374.3\" font-family=\"Times New Roman,serif\" font-size=\"14.00\">8</text>\n",
       "</g>\n",
       "<!-- 9 -->\n",
       "<g id=\"node12\" class=\"node\">\n",
       "<title>9</title>\n",
       "<ellipse fill=\"none\" stroke=\"black\" cx=\"353\" cy=\"-306\" rx=\"27\" ry=\"18\"/>\n",
       "<text text-anchor=\"middle\" x=\"353\" y=\"-302.3\" font-family=\"Times New Roman,serif\" font-size=\"14.00\">9</text>\n",
       "</g>\n",
       "<!-- 8&#45;&gt;9 -->\n",
       "<g id=\"edge14\" class=\"edge\">\n",
       "<title>8&#45;&gt;9</title>\n",
       "<path fill=\"none\" stroke=\"black\" d=\"M373.6,-360.41C370.49,-352.34 366.67,-342.43 363.17,-333.35\"/>\n",
       "<polygon fill=\"black\" stroke=\"black\" points=\"366.4,-332.03 359.54,-323.96 359.87,-334.55 366.4,-332.03\"/>\n",
       "</g>\n",
       "<!-- 11 -->\n",
       "<g id=\"node13\" class=\"node\">\n",
       "<title>11</title>\n",
       "<ellipse fill=\"none\" stroke=\"black\" cx=\"344\" cy=\"-162\" rx=\"27\" ry=\"18\"/>\n",
       "<text text-anchor=\"middle\" x=\"344\" y=\"-158.3\" font-family=\"Times New Roman,serif\" font-size=\"14.00\">11</text>\n",
       "</g>\n",
       "<!-- 8&#45;&gt;11 -->\n",
       "<g id=\"edge15\" class=\"edge\">\n",
       "<title>8&#45;&gt;11</title>\n",
       "<path fill=\"none\" stroke=\"black\" d=\"M385.28,-359.89C393.64,-329.75 407.24,-265.67 389,-216 384.56,-203.91 376,-192.68 367.53,-183.71\"/>\n",
       "<polygon fill=\"black\" stroke=\"black\" points=\"369.77,-181 360.21,-176.43 364.83,-185.97 369.77,-181\"/>\n",
       "</g>\n",
       "<!-- 10 -->\n",
       "<g id=\"node14\" class=\"node\">\n",
       "<title>10</title>\n",
       "<ellipse fill=\"none\" stroke=\"black\" cx=\"281\" cy=\"-234\" rx=\"27\" ry=\"18\"/>\n",
       "<text text-anchor=\"middle\" x=\"281\" y=\"-230.3\" font-family=\"Times New Roman,serif\" font-size=\"14.00\">10</text>\n",
       "</g>\n",
       "<!-- 9&#45;&gt;10 -->\n",
       "<g id=\"edge16\" class=\"edge\">\n",
       "<title>9&#45;&gt;10</title>\n",
       "<path fill=\"none\" stroke=\"black\" d=\"M338.43,-290.83C328.25,-280.94 314.48,-267.55 302.97,-256.36\"/>\n",
       "<polygon fill=\"black\" stroke=\"black\" points=\"305.41,-253.85 295.8,-249.38 300.53,-258.87 305.41,-253.85\"/>\n",
       "</g>\n",
       "<!-- 15 -->\n",
       "<g id=\"node15\" class=\"node\">\n",
       "<title>15</title>\n",
       "<ellipse fill=\"none\" stroke=\"black\" cx=\"353\" cy=\"-234\" rx=\"27\" ry=\"18\"/>\n",
       "<text text-anchor=\"middle\" x=\"353\" y=\"-230.3\" font-family=\"Times New Roman,serif\" font-size=\"14.00\">15</text>\n",
       "</g>\n",
       "<!-- 9&#45;&gt;15 -->\n",
       "<g id=\"edge17\" class=\"edge\">\n",
       "<title>9&#45;&gt;15</title>\n",
       "<path fill=\"none\" stroke=\"black\" d=\"M353,-287.7C353,-279.98 353,-270.71 353,-262.11\"/>\n",
       "<polygon fill=\"black\" stroke=\"black\" points=\"356.5,-262.1 353,-252.1 349.5,-262.1 356.5,-262.1\"/>\n",
       "</g>\n",
       "<!-- 10&#45;&gt;11 -->\n",
       "<g id=\"edge18\" class=\"edge\">\n",
       "<title>10&#45;&gt;11</title>\n",
       "<path fill=\"none\" stroke=\"black\" d=\"M294.36,-218.15C302.88,-208.69 314.09,-196.24 323.69,-185.56\"/>\n",
       "<polygon fill=\"black\" stroke=\"black\" points=\"326.57,-187.6 330.66,-177.82 321.37,-182.92 326.57,-187.6\"/>\n",
       "</g>\n",
       "</g>\n",
       "</svg>\n"
      ],
      "text/plain": [
       "<graphviz.graphs.Digraph at 0x2b6ff1cea60>"
      ]
     },
     "execution_count": 204,
     "metadata": {},
     "output_type": "execute_result"
    }
   ],
   "source": [
    "g.create_graphviz()"
   ]
  },
  {
   "cell_type": "code",
   "execution_count": 205,
   "id": "54376bc3",
   "metadata": {
    "hidden": true
   },
   "outputs": [
    {
     "data": {
      "text/plain": [
       "[<__main__.Vertex at 0x2b6ff2c9160>,\n",
       " <__main__.Vertex at 0x2b6ff2c9910>,\n",
       " <__main__.Vertex at 0x2b6ff2c9580>,\n",
       " <__main__.Vertex at 0x2b6ff2c9d00>,\n",
       " <__main__.Vertex at 0x2b6ff2c96d0>,\n",
       " <__main__.Vertex at 0x2b6ff2c9370>,\n",
       " <__main__.Vertex at 0x2b6ff2c9880>,\n",
       " <__main__.Vertex at 0x2b6ff1b2af0>,\n",
       " <__main__.Vertex at 0x2b6ff1b2f70>,\n",
       " <__main__.Vertex at 0x2b6ff2c9130>,\n",
       " <__main__.Vertex at 0x2b6ff2c97c0>,\n",
       " <__main__.Vertex at 0x2b6ff2c97f0>,\n",
       " <__main__.Vertex at 0x2b6ff2c9640>,\n",
       " <__main__.Vertex at 0x2b6ff2c9190>,\n",
       " <__main__.Vertex at 0x2b6ff2c94c0>]"
      ]
     },
     "execution_count": 205,
     "metadata": {},
     "output_type": "execute_result"
    }
   ],
   "source": [
    "g.Topological_sorting()"
   ]
  },
  {
   "cell_type": "code",
   "execution_count": 206,
   "id": "e1c87845",
   "metadata": {
    "hidden": true
   },
   "outputs": [
    {
     "name": "stdout",
     "output_type": "stream",
     "text": [
      "12\n",
      "8\n",
      "9\n",
      "15\n",
      "10\n",
      "11\n",
      "7\n",
      "1\n",
      "2\n",
      "5\n",
      "23\n",
      "32\n",
      "3\n",
      "4\n",
      "6\n"
     ]
    }
   ],
   "source": [
    "for i in g.Topological_sorting():\n",
    "    print(i.id)"
   ]
  },
  {
   "cell_type": "code",
   "execution_count": null,
   "id": "3575a0f0",
   "metadata": {
    "hidden": true
   },
   "outputs": [],
   "source": []
  },
  {
   "cell_type": "code",
   "execution_count": 105,
   "id": "f303a6a3",
   "metadata": {
    "hidden": true
   },
   "outputs": [
    {
     "data": {
      "text/plain": [
       "1 connectedTo: [2, 11]\n",
       "2 connectedTo: [3, 4, 11]\n",
       "3 connectedTo: [4]\n",
       "4 connectedTo: [6]\n",
       "6 connectedTo: []\n",
       "12 connectedTo: [1]\n",
       "11 connectedTo: []\n",
       "5 connectedTo: [12, 2]"
      ]
     },
     "execution_count": 105,
     "metadata": {},
     "output_type": "execute_result"
    }
   ],
   "source": [
    "g"
   ]
  },
  {
   "cell_type": "code",
   "execution_count": 52,
   "id": "00b95106",
   "metadata": {
    "hidden": true,
    "scrolled": true
   },
   "outputs": [
    {
     "name": "stdout",
     "output_type": "stream",
     "text": [
      "5\n",
      "12\n",
      "1\n",
      "2\n",
      "11\n",
      "3\n",
      "4\n",
      "6\n"
     ]
    }
   ],
   "source": [
    "for i in g.Topological_sorting():\n",
    "    print(i.id)"
   ]
  },
  {
   "cell_type": "code",
   "execution_count": null,
   "id": "f6d6bf3d",
   "metadata": {
    "hidden": true
   },
   "outputs": [],
   "source": []
  },
  {
   "cell_type": "code",
   "execution_count": null,
   "id": "2bac7669",
   "metadata": {
    "hidden": true
   },
   "outputs": [],
   "source": []
  },
  {
   "cell_type": "code",
   "execution_count": 249,
   "id": "5d3129f3",
   "metadata": {
    "hidden": true
   },
   "outputs": [
    {
     "data": {
      "image/svg+xml": [
       "<?xml version=\"1.0\" encoding=\"UTF-8\" standalone=\"no\"?>\n",
       "<!DOCTYPE svg PUBLIC \"-//W3C//DTD SVG 1.1//EN\"\n",
       " \"http://www.w3.org/Graphics/SVG/1.1/DTD/svg11.dtd\">\n",
       "<!-- Generated by graphviz version 2.50.0 (20211204.2007)\n",
       " -->\n",
       "<!-- Pages: 1 -->\n",
       "<svg width=\"366pt\" height=\"476pt\"\n",
       " viewBox=\"0.00 0.00 366.00 476.00\" xmlns=\"http://www.w3.org/2000/svg\" xmlns:xlink=\"http://www.w3.org/1999/xlink\">\n",
       "<g id=\"graph0\" class=\"graph\" transform=\"scale(1 1) rotate(0) translate(4 472)\">\n",
       "<polygon fill=\"white\" stroke=\"transparent\" points=\"-4,4 -4,-472 362,-472 362,4 -4,4\"/>\n",
       "<!-- 4 -->\n",
       "<g id=\"node1\" class=\"node\">\n",
       "<title>4</title>\n",
       "<ellipse fill=\"none\" stroke=\"black\" cx=\"239\" cy=\"-450\" rx=\"27\" ry=\"18\"/>\n",
       "<text text-anchor=\"middle\" x=\"239\" y=\"-446.3\" font-family=\"Times New Roman,serif\" font-size=\"14.00\">4</text>\n",
       "</g>\n",
       "<!-- 8 -->\n",
       "<g id=\"node2\" class=\"node\">\n",
       "<title>8</title>\n",
       "<ellipse fill=\"none\" stroke=\"black\" cx=\"203\" cy=\"-378\" rx=\"27\" ry=\"18\"/>\n",
       "<text text-anchor=\"middle\" x=\"203\" y=\"-374.3\" font-family=\"Times New Roman,serif\" font-size=\"14.00\">8</text>\n",
       "</g>\n",
       "<!-- 4&#45;&gt;8 -->\n",
       "<g id=\"edge1\" class=\"edge\">\n",
       "<title>4&#45;&gt;8</title>\n",
       "<path fill=\"none\" stroke=\"black\" d=\"M230.65,-432.76C226.29,-424.28 220.85,-413.71 215.96,-404.2\"/>\n",
       "<polygon fill=\"black\" stroke=\"black\" points=\"218.99,-402.44 211.3,-395.15 212.77,-405.64 218.99,-402.44\"/>\n",
       "</g>\n",
       "<!-- 9 -->\n",
       "<g id=\"node3\" class=\"node\">\n",
       "<title>9</title>\n",
       "<ellipse fill=\"none\" stroke=\"black\" cx=\"275\" cy=\"-378\" rx=\"27\" ry=\"18\"/>\n",
       "<text text-anchor=\"middle\" x=\"275\" y=\"-374.3\" font-family=\"Times New Roman,serif\" font-size=\"14.00\">9</text>\n",
       "</g>\n",
       "<!-- 4&#45;&gt;9 -->\n",
       "<g id=\"edge2\" class=\"edge\">\n",
       "<title>4&#45;&gt;9</title>\n",
       "<path fill=\"none\" stroke=\"black\" d=\"M247.35,-432.76C251.71,-424.28 257.15,-413.71 262.04,-404.2\"/>\n",
       "<polygon fill=\"black\" stroke=\"black\" points=\"265.23,-405.64 266.7,-395.15 259.01,-402.44 265.23,-405.64\"/>\n",
       "</g>\n",
       "<!-- 5 -->\n",
       "<g id=\"node4\" class=\"node\">\n",
       "<title>5</title>\n",
       "<ellipse fill=\"none\" stroke=\"black\" cx=\"137\" cy=\"-162\" rx=\"27\" ry=\"18\"/>\n",
       "<text text-anchor=\"middle\" x=\"137\" y=\"-158.3\" font-family=\"Times New Roman,serif\" font-size=\"14.00\">5</text>\n",
       "</g>\n",
       "<!-- 4&#45;&gt;5 -->\n",
       "<g id=\"edge3\" class=\"edge\">\n",
       "<title>4&#45;&gt;5</title>\n",
       "<path fill=\"none\" stroke=\"black\" d=\"M218,-438.57C201.77,-429.47 179.95,-414.78 167,-396 120.64,-328.76 124.64,-297.5 130,-216 130.56,-207.53 131.61,-198.36 132.73,-190.06\"/>\n",
       "<polygon fill=\"black\" stroke=\"black\" points=\"136.2,-190.53 134.16,-180.13 129.27,-189.53 136.2,-190.53\"/>\n",
       "</g>\n",
       "<!-- 2 -->\n",
       "<g id=\"node5\" class=\"node\">\n",
       "<title>2</title>\n",
       "<ellipse fill=\"none\" stroke=\"black\" cx=\"247\" cy=\"-306\" rx=\"27\" ry=\"18\"/>\n",
       "<text text-anchor=\"middle\" x=\"247\" y=\"-302.3\" font-family=\"Times New Roman,serif\" font-size=\"14.00\">2</text>\n",
       "</g>\n",
       "<!-- 8&#45;&gt;2 -->\n",
       "<g id=\"edge4\" class=\"edge\">\n",
       "<title>8&#45;&gt;2</title>\n",
       "<path fill=\"none\" stroke=\"black\" d=\"M212.98,-361.12C218.5,-352.34 225.46,-341.26 231.65,-331.42\"/>\n",
       "<polygon fill=\"black\" stroke=\"black\" points=\"234.7,-333.15 237.06,-322.82 228.77,-329.42 234.7,-333.15\"/>\n",
       "</g>\n",
       "<!-- 9&#45;&gt;2 -->\n",
       "<g id=\"edge7\" class=\"edge\">\n",
       "<title>9&#45;&gt;2</title>\n",
       "<path fill=\"none\" stroke=\"black\" d=\"M268.36,-360.41C265.09,-352.22 261.06,-342.14 257.38,-332.95\"/>\n",
       "<polygon fill=\"black\" stroke=\"black\" points=\"260.55,-331.45 253.59,-323.47 254.05,-334.05 260.55,-331.45\"/>\n",
       "</g>\n",
       "<!-- 11 -->\n",
       "<g id=\"node8\" class=\"node\">\n",
       "<title>11</title>\n",
       "<ellipse fill=\"none\" stroke=\"black\" cx=\"192\" cy=\"-90\" rx=\"27\" ry=\"18\"/>\n",
       "<text text-anchor=\"middle\" x=\"192\" y=\"-86.3\" font-family=\"Times New Roman,serif\" font-size=\"14.00\">11</text>\n",
       "</g>\n",
       "<!-- 9&#45;&gt;11 -->\n",
       "<g id=\"edge8\" class=\"edge\">\n",
       "<title>9&#45;&gt;11</title>\n",
       "<path fill=\"none\" stroke=\"black\" d=\"M283.06,-360.46C296.41,-330.66 319.88,-266.37 301,-216 284.33,-171.53 243.9,-132.47 217.24,-110.32\"/>\n",
       "<polygon fill=\"black\" stroke=\"black\" points=\"219.42,-107.58 209.45,-103.99 215.01,-113.01 219.42,-107.58\"/>\n",
       "</g>\n",
       "<!-- 5&#45;&gt;8 -->\n",
       "<g id=\"edge13\" class=\"edge\">\n",
       "<title>5&#45;&gt;8</title>\n",
       "<path fill=\"none\" stroke=\"black\" d=\"M135.15,-180.03C133.7,-198.17 132.82,-227.58 139,-252 148.49,-289.51 170.82,-328.56 186.41,-352.82\"/>\n",
       "<polygon fill=\"black\" stroke=\"black\" points=\"183.6,-354.92 192.02,-361.36 189.46,-351.08 183.6,-354.92\"/>\n",
       "</g>\n",
       "<!-- 1 -->\n",
       "<g id=\"node9\" class=\"node\">\n",
       "<title>1</title>\n",
       "<ellipse fill=\"none\" stroke=\"black\" cx=\"27\" cy=\"-234\" rx=\"27\" ry=\"18\"/>\n",
       "<text text-anchor=\"middle\" x=\"27\" y=\"-230.3\" font-family=\"Times New Roman,serif\" font-size=\"14.00\">1</text>\n",
       "</g>\n",
       "<!-- 2&#45;&gt;1 -->\n",
       "<g id=\"edge9\" class=\"edge\">\n",
       "<title>2&#45;&gt;1</title>\n",
       "<path fill=\"none\" stroke=\"black\" d=\"M223.04,-297.38C183.69,-284.86 105.31,-259.92 60.49,-245.66\"/>\n",
       "<polygon fill=\"black\" stroke=\"black\" points=\"61.52,-242.31 50.93,-242.62 59.4,-248.98 61.52,-242.31\"/>\n",
       "</g>\n",
       "<!-- 14 -->\n",
       "<g id=\"node10\" class=\"node\">\n",
       "<title>14</title>\n",
       "<ellipse fill=\"none\" stroke=\"black\" cx=\"247\" cy=\"-234\" rx=\"27\" ry=\"18\"/>\n",
       "<text text-anchor=\"middle\" x=\"247\" y=\"-230.3\" font-family=\"Times New Roman,serif\" font-size=\"14.00\">14</text>\n",
       "</g>\n",
       "<!-- 2&#45;&gt;14 -->\n",
       "<g id=\"edge10\" class=\"edge\">\n",
       "<title>2&#45;&gt;14</title>\n",
       "<path fill=\"none\" stroke=\"black\" d=\"M241.16,-288.41C240.3,-280.51 240.05,-270.85 240.41,-261.94\"/>\n",
       "<polygon fill=\"black\" stroke=\"black\" points=\"243.9,-262.18 241.12,-251.96 236.92,-261.68 243.9,-262.18\"/>\n",
       "</g>\n",
       "<!-- 12 -->\n",
       "<g id=\"node6\" class=\"node\">\n",
       "<title>12</title>\n",
       "<ellipse fill=\"none\" stroke=\"black\" cx=\"102\" cy=\"-90\" rx=\"27\" ry=\"18\"/>\n",
       "<text text-anchor=\"middle\" x=\"102\" y=\"-86.3\" font-family=\"Times New Roman,serif\" font-size=\"14.00\">12</text>\n",
       "</g>\n",
       "<!-- 12&#45;&gt;12 -->\n",
       "<g id=\"edge5\" class=\"edge\">\n",
       "<title>12&#45;&gt;12</title>\n",
       "<path fill=\"none\" stroke=\"black\" d=\"M121.9,-102.43C134.69,-105.68 147,-101.53 147,-90 147,-81.62 140.5,-77.14 132.04,-76.56\"/>\n",
       "<polygon fill=\"black\" stroke=\"black\" points=\"131.5,-73.1 121.9,-77.57 132.19,-80.07 131.5,-73.1\"/>\n",
       "</g>\n",
       "<!-- 10 -->\n",
       "<g id=\"node7\" class=\"node\">\n",
       "<title>10</title>\n",
       "<ellipse fill=\"none\" stroke=\"black\" cx=\"219\" cy=\"-18\" rx=\"27\" ry=\"18\"/>\n",
       "<text text-anchor=\"middle\" x=\"219\" y=\"-14.3\" font-family=\"Times New Roman,serif\" font-size=\"14.00\">10</text>\n",
       "</g>\n",
       "<!-- 12&#45;&gt;10 -->\n",
       "<g id=\"edge6\" class=\"edge\">\n",
       "<title>12&#45;&gt;10</title>\n",
       "<path fill=\"none\" stroke=\"black\" d=\"M121.58,-77.28C140.48,-65.98 169.29,-48.74 190.69,-35.94\"/>\n",
       "<polygon fill=\"black\" stroke=\"black\" points=\"192.57,-38.89 199.35,-30.75 188.97,-32.89 192.57,-38.89\"/>\n",
       "</g>\n",
       "<!-- 10&#45;&gt;4 -->\n",
       "<g id=\"edge12\" class=\"edge\">\n",
       "<title>10&#45;&gt;4</title>\n",
       "<path fill=\"none\" stroke=\"black\" d=\"M240.72,-28.77C279.81,-48.01 358,-94.76 358,-161 358,-307 358,-307 358,-307 358,-363.19 302.58,-408.82 267.39,-432.13\"/>\n",
       "<polygon fill=\"black\" stroke=\"black\" points=\"265.44,-429.22 258.92,-437.57 269.22,-435.11 265.44,-429.22\"/>\n",
       "</g>\n",
       "<!-- 11&#45;&gt;10 -->\n",
       "<g id=\"edge11\" class=\"edge\">\n",
       "<title>11&#45;&gt;10</title>\n",
       "<path fill=\"none\" stroke=\"black\" d=\"M198.4,-72.41C201.51,-64.34 205.33,-54.43 208.83,-45.35\"/>\n",
       "<polygon fill=\"black\" stroke=\"black\" points=\"212.13,-46.55 212.46,-35.96 205.6,-44.03 212.13,-46.55\"/>\n",
       "</g>\n",
       "<!-- 1&#45;&gt;5 -->\n",
       "<g id=\"edge14\" class=\"edge\">\n",
       "<title>1&#45;&gt;5</title>\n",
       "<path fill=\"none\" stroke=\"black\" d=\"M46.16,-220.81C63.67,-209.67 89.76,-193.06 109.49,-180.5\"/>\n",
       "<polygon fill=\"black\" stroke=\"black\" points=\"111.5,-183.37 118.06,-175.05 107.74,-177.47 111.5,-183.37\"/>\n",
       "</g>\n",
       "<!-- 1&#45;&gt;11 -->\n",
       "<g id=\"edge15\" class=\"edge\">\n",
       "<title>1&#45;&gt;11</title>\n",
       "<path fill=\"none\" stroke=\"black\" d=\"M17.41,-217.07C7.16,-197.75 -5.54,-165.15 11,-144 51.91,-91.7 93.45,-130.29 156,-108 157.9,-107.32 159.84,-106.58 161.78,-105.79\"/>\n",
       "<polygon fill=\"black\" stroke=\"black\" points=\"163.6,-108.82 171.36,-101.6 160.79,-102.4 163.6,-108.82\"/>\n",
       "</g>\n",
       "<!-- 3 -->\n",
       "<g id=\"node11\" class=\"node\">\n",
       "<title>3</title>\n",
       "<ellipse fill=\"none\" stroke=\"black\" cx=\"47\" cy=\"-162\" rx=\"27\" ry=\"18\"/>\n",
       "<text text-anchor=\"middle\" x=\"47\" y=\"-158.3\" font-family=\"Times New Roman,serif\" font-size=\"14.00\">3</text>\n",
       "</g>\n",
       "<!-- 1&#45;&gt;3 -->\n",
       "<g id=\"edge16\" class=\"edge\">\n",
       "<title>1&#45;&gt;3</title>\n",
       "<path fill=\"none\" stroke=\"black\" d=\"M31.84,-216.05C34.1,-208.14 36.85,-198.54 39.37,-189.69\"/>\n",
       "<polygon fill=\"black\" stroke=\"black\" points=\"42.82,-190.37 42.2,-179.79 36.09,-188.44 42.82,-190.37\"/>\n",
       "</g>\n",
       "<!-- 14&#45;&gt;5 -->\n",
       "<g id=\"edge24\" class=\"edge\">\n",
       "<title>14&#45;&gt;5</title>\n",
       "<path fill=\"none\" stroke=\"black\" d=\"M227.84,-220.81C210.33,-209.67 184.24,-193.06 164.51,-180.5\"/>\n",
       "<polygon fill=\"black\" stroke=\"black\" points=\"166.26,-177.47 155.94,-175.05 162.5,-183.37 166.26,-177.47\"/>\n",
       "</g>\n",
       "<!-- 14&#45;&gt;2 -->\n",
       "<g id=\"edge23\" class=\"edge\">\n",
       "<title>14&#45;&gt;2</title>\n",
       "<path fill=\"none\" stroke=\"black\" d=\"M252.88,-251.96C253.71,-259.83 253.95,-269.37 253.58,-278.19\"/>\n",
       "<polygon fill=\"black\" stroke=\"black\" points=\"250.07,-278.18 252.84,-288.41 257.06,-278.69 250.07,-278.18\"/>\n",
       "</g>\n",
       "<!-- 14&#45;&gt;10 -->\n",
       "<g id=\"edge22\" class=\"edge\">\n",
       "<title>14&#45;&gt;10</title>\n",
       "<path fill=\"none\" stroke=\"black\" d=\"M245.24,-215.57C242.18,-185.99 235.49,-124.1 228,-72 226.79,-63.56 225.29,-54.38 223.87,-46.08\"/>\n",
       "<polygon fill=\"black\" stroke=\"black\" points=\"227.31,-45.4 222.14,-36.15 220.41,-46.6 227.31,-45.4\"/>\n",
       "</g>\n",
       "<!-- 14&#45;&gt;14 -->\n",
       "<g id=\"edge25\" class=\"edge\">\n",
       "<title>14&#45;&gt;14</title>\n",
       "<path fill=\"none\" stroke=\"black\" d=\"M266.9,-246.43C279.69,-249.68 292,-245.53 292,-234 292,-225.62 285.5,-221.14 277.04,-220.56\"/>\n",
       "<polygon fill=\"black\" stroke=\"black\" points=\"276.5,-217.1 266.9,-221.57 277.19,-224.07 276.5,-217.1\"/>\n",
       "</g>\n",
       "<!-- 3&#45;&gt;11 -->\n",
       "<g id=\"edge18\" class=\"edge\">\n",
       "<title>3&#45;&gt;11</title>\n",
       "<path fill=\"none\" stroke=\"black\" d=\"M68.4,-150.67C92.92,-138.83 133.31,-119.33 161.22,-105.86\"/>\n",
       "<polygon fill=\"black\" stroke=\"black\" points=\"163.03,-108.87 170.52,-101.37 159.99,-102.57 163.03,-108.87\"/>\n",
       "</g>\n",
       "<!-- 3&#45;&gt;3 -->\n",
       "<g id=\"edge17\" class=\"edge\">\n",
       "<title>3&#45;&gt;3</title>\n",
       "<path fill=\"none\" stroke=\"black\" d=\"M66.9,-174.43C79.69,-177.68 92,-173.53 92,-162 92,-153.62 85.5,-149.14 77.04,-148.56\"/>\n",
       "<polygon fill=\"black\" stroke=\"black\" points=\"76.5,-145.1 66.9,-149.57 77.19,-152.07 76.5,-145.1\"/>\n",
       "</g>\n",
       "<!-- 15 -->\n",
       "<g id=\"node12\" class=\"node\">\n",
       "<title>15</title>\n",
       "<ellipse fill=\"none\" stroke=\"black\" cx=\"175\" cy=\"-234\" rx=\"27\" ry=\"18\"/>\n",
       "<text text-anchor=\"middle\" x=\"175\" y=\"-230.3\" font-family=\"Times New Roman,serif\" font-size=\"14.00\">15</text>\n",
       "</g>\n",
       "<!-- 15&#45;&gt;5 -->\n",
       "<g id=\"edge20\" class=\"edge\">\n",
       "<title>15&#45;&gt;5</title>\n",
       "<path fill=\"none\" stroke=\"black\" d=\"M166.19,-216.76C161.58,-208.28 155.84,-197.71 150.68,-188.2\"/>\n",
       "<polygon fill=\"black\" stroke=\"black\" points=\"153.61,-186.27 145.77,-179.15 147.46,-189.61 153.61,-186.27\"/>\n",
       "</g>\n",
       "<!-- 15&#45;&gt;11 -->\n",
       "<g id=\"edge19\" class=\"edge\">\n",
       "<title>15&#45;&gt;11</title>\n",
       "<path fill=\"none\" stroke=\"black\" d=\"M177.05,-215.87C179.95,-191.67 185.27,-147.21 188.72,-118.39\"/>\n",
       "<polygon fill=\"black\" stroke=\"black\" points=\"192.23,-118.53 189.94,-108.19 185.28,-117.7 192.23,-118.53\"/>\n",
       "</g>\n",
       "<!-- 13 -->\n",
       "<g id=\"node13\" class=\"node\">\n",
       "<title>13</title>\n",
       "<ellipse fill=\"none\" stroke=\"black\" cx=\"27\" cy=\"-306\" rx=\"27\" ry=\"18\"/>\n",
       "<text text-anchor=\"middle\" x=\"27\" y=\"-302.3\" font-family=\"Times New Roman,serif\" font-size=\"14.00\">13</text>\n",
       "</g>\n",
       "<!-- 13&#45;&gt;1 -->\n",
       "<g id=\"edge21\" class=\"edge\">\n",
       "<title>13&#45;&gt;1</title>\n",
       "<path fill=\"none\" stroke=\"black\" d=\"M27,-287.7C27,-279.98 27,-270.71 27,-262.11\"/>\n",
       "<polygon fill=\"black\" stroke=\"black\" points=\"30.5,-262.1 27,-252.1 23.5,-262.1 30.5,-262.1\"/>\n",
       "</g>\n",
       "</g>\n",
       "</svg>\n"
      ],
      "text/plain": [
       "<graphviz.graphs.Digraph at 0x2b6ff2c9f40>"
      ]
     },
     "execution_count": 249,
     "metadata": {},
     "output_type": "execute_result"
    }
   ],
   "source": [
    "import random\n",
    "\n",
    "g=Graph()\n",
    "\n",
    "for _ in range(25):\n",
    "    g.addEdge(random.randint(0,15),random.randint(0,15))\n",
    "g.create_graphviz()"
   ]
  },
  {
   "cell_type": "code",
   "execution_count": 250,
   "id": "7bc89d74",
   "metadata": {
    "hidden": true
   },
   "outputs": [],
   "source": [
    "g.Breadth_first_search(4) # wyliczanie od węzła numer 12"
   ]
  },
  {
   "cell_type": "code",
   "execution_count": 251,
   "id": "a10ebffd",
   "metadata": {
    "hidden": true
   },
   "outputs": [
    {
     "name": "stdout",
     "output_type": "stream",
     "text": [
      "4\n",
      "9\n",
      "11\n"
     ]
    }
   ],
   "source": [
    "print(g.get_connection(4,11))"
   ]
  },
  {
   "cell_type": "code",
   "execution_count": 253,
   "id": "2bfd6047",
   "metadata": {
    "hidden": true
   },
   "outputs": [
    {
     "name": "stdout",
     "output_type": "stream",
     "text": [
      "4 -> 9 -> 11\n"
     ]
    }
   ],
   "source": [
    "print(g.get_connection(4,11, True))"
   ]
  },
  {
   "cell_type": "code",
   "execution_count": 254,
   "id": "3c084c50",
   "metadata": {
    "hidden": true
   },
   "outputs": [],
   "source": [
    "g.addEdge(\"Hakuna\",\"Matata\")"
   ]
  },
  {
   "cell_type": "code",
   "execution_count": 255,
   "id": "89a8e754",
   "metadata": {
    "hidden": true
   },
   "outputs": [],
   "source": [
    "g.addEdge(\"Matata\", \"Jak cudownie to brzmi!\")"
   ]
  },
  {
   "cell_type": "code",
   "execution_count": 256,
   "id": "95d13e58",
   "metadata": {
    "hidden": true
   },
   "outputs": [],
   "source": [
    "g.addEdge(\"Jak cudownie to brzmi!\", \"I wszyscy razem!\")"
   ]
  },
  {
   "cell_type": "code",
   "execution_count": 257,
   "id": "36fc145a",
   "metadata": {
    "hidden": true
   },
   "outputs": [],
   "source": [
    "g.addEdge(\"I wszyscy razem!\", \"Hakuna\")"
   ]
  },
  {
   "cell_type": "code",
   "execution_count": 258,
   "id": "f8d99bd6",
   "metadata": {
    "hidden": true
   },
   "outputs": [
    {
     "data": {
      "text/plain": [
       "4 connectedTo: [8, 9, 5]\n",
       "8 connectedTo: [2]\n",
       "12 connectedTo: [12, 10]\n",
       "9 connectedTo: [2, 11]\n",
       "2 connectedTo: [1, 14]\n",
       "11 connectedTo: [10]\n",
       "10 connectedTo: [4]\n",
       "5 connectedTo: [8]\n",
       "1 connectedTo: [5, 11, 3]\n",
       "3 connectedTo: [3, 11]\n",
       "15 connectedTo: [11, 5]\n",
       "13 connectedTo: [1]\n",
       "14 connectedTo: [10, 2, 5, 14]\n",
       "Hakuna connectedTo: ['Matata']\n",
       "Matata connectedTo: ['Jak cudownie to brzmi!']\n",
       "Jak cudownie to brzmi! connectedTo: ['I wszyscy razem!']\n",
       "I wszyscy razem! connectedTo: ['Hakuna']"
      ]
     },
     "execution_count": 258,
     "metadata": {},
     "output_type": "execute_result"
    }
   ],
   "source": [
    "g"
   ]
  },
  {
   "cell_type": "code",
   "execution_count": 259,
   "id": "0b38c9de",
   "metadata": {
    "hidden": true
   },
   "outputs": [
    {
     "name": "stdout",
     "output_type": "stream",
     "text": [
      "digraph graphname {\n",
      "\"4\" -> \"8\"\n",
      "\"4\" -> \"9\"\n",
      "\"4\" -> \"5\"\n",
      "\"8\" -> \"2\"\n",
      "\"12\" -> \"12\"\n",
      "\"12\" -> \"10\"\n",
      "\"9\" -> \"2\"\n",
      "\"9\" -> \"11\"\n",
      "\"2\" -> \"1\"\n",
      "\"2\" -> \"14\"\n",
      "\"11\" -> \"10\"\n",
      "\"10\" -> \"4\"\n",
      "\"5\" -> \"8\"\n",
      "\"1\" -> \"5\"\n",
      "\"1\" -> \"11\"\n",
      "\"1\" -> \"3\"\n",
      "\"3\" -> \"3\"\n",
      "\"3\" -> \"11\"\n",
      "\"15\" -> \"11\"\n",
      "\"15\" -> \"5\"\n",
      "\"13\" -> \"1\"\n",
      "\"14\" -> \"10\"\n",
      "\"14\" -> \"2\"\n",
      "\"14\" -> \"5\"\n",
      "\"14\" -> \"14\"\n",
      "\"Hakuna\" -> \"Matata\"\n",
      "\"Matata\" -> \"Jak cudownie to brzmi!\"\n",
      "\"Jak cudownie to brzmi!\" -> \"I wszyscy razem!\"\n",
      "\"I wszyscy razem!\" -> \"Hakuna\"\n",
      "}\n"
     ]
    }
   ],
   "source": [
    "print(g.to_dot_language())"
   ]
  },
  {
   "cell_type": "code",
   "execution_count": 260,
   "id": "a307154b",
   "metadata": {
    "hidden": true
   },
   "outputs": [
    {
     "data": {
      "image/svg+xml": [
       "<?xml version=\"1.0\" encoding=\"UTF-8\" standalone=\"no\"?>\n",
       "<!DOCTYPE svg PUBLIC \"-//W3C//DTD SVG 1.1//EN\"\n",
       " \"http://www.w3.org/Graphics/SVG/1.1/DTD/svg11.dtd\">\n",
       "<!-- Generated by graphviz version 2.50.0 (20211204.2007)\n",
       " -->\n",
       "<!-- Pages: 1 -->\n",
       "<svg width=\"626pt\" height=\"476pt\"\n",
       " viewBox=\"0.00 0.00 626.09 476.00\" xmlns=\"http://www.w3.org/2000/svg\" xmlns:xlink=\"http://www.w3.org/1999/xlink\">\n",
       "<g id=\"graph0\" class=\"graph\" transform=\"scale(1 1) rotate(0) translate(4 472)\">\n",
       "<polygon fill=\"white\" stroke=\"transparent\" points=\"-4,4 -4,-472 622.09,-472 622.09,4 -4,4\"/>\n",
       "<!-- 4 -->\n",
       "<g id=\"node1\" class=\"node\">\n",
       "<title>4</title>\n",
       "<ellipse fill=\"none\" stroke=\"black\" cx=\"239\" cy=\"-450\" rx=\"27\" ry=\"18\"/>\n",
       "<text text-anchor=\"middle\" x=\"239\" y=\"-446.3\" font-family=\"Times New Roman,serif\" font-size=\"14.00\">4</text>\n",
       "</g>\n",
       "<!-- 8 -->\n",
       "<g id=\"node2\" class=\"node\">\n",
       "<title>8</title>\n",
       "<ellipse fill=\"none\" stroke=\"black\" cx=\"203\" cy=\"-378\" rx=\"27\" ry=\"18\"/>\n",
       "<text text-anchor=\"middle\" x=\"203\" y=\"-374.3\" font-family=\"Times New Roman,serif\" font-size=\"14.00\">8</text>\n",
       "</g>\n",
       "<!-- 4&#45;&gt;8 -->\n",
       "<g id=\"edge1\" class=\"edge\">\n",
       "<title>4&#45;&gt;8</title>\n",
       "<path fill=\"none\" stroke=\"black\" d=\"M230.65,-432.76C226.29,-424.28 220.85,-413.71 215.96,-404.2\"/>\n",
       "<polygon fill=\"black\" stroke=\"black\" points=\"218.99,-402.44 211.3,-395.15 212.77,-405.64 218.99,-402.44\"/>\n",
       "</g>\n",
       "<!-- 9 -->\n",
       "<g id=\"node3\" class=\"node\">\n",
       "<title>9</title>\n",
       "<ellipse fill=\"none\" stroke=\"black\" cx=\"275\" cy=\"-378\" rx=\"27\" ry=\"18\"/>\n",
       "<text text-anchor=\"middle\" x=\"275\" y=\"-374.3\" font-family=\"Times New Roman,serif\" font-size=\"14.00\">9</text>\n",
       "</g>\n",
       "<!-- 4&#45;&gt;9 -->\n",
       "<g id=\"edge2\" class=\"edge\">\n",
       "<title>4&#45;&gt;9</title>\n",
       "<path fill=\"none\" stroke=\"black\" d=\"M247.35,-432.76C251.71,-424.28 257.15,-413.71 262.04,-404.2\"/>\n",
       "<polygon fill=\"black\" stroke=\"black\" points=\"265.23,-405.64 266.7,-395.15 259.01,-402.44 265.23,-405.64\"/>\n",
       "</g>\n",
       "<!-- 5 -->\n",
       "<g id=\"node4\" class=\"node\">\n",
       "<title>5</title>\n",
       "<ellipse fill=\"none\" stroke=\"black\" cx=\"137\" cy=\"-162\" rx=\"27\" ry=\"18\"/>\n",
       "<text text-anchor=\"middle\" x=\"137\" y=\"-158.3\" font-family=\"Times New Roman,serif\" font-size=\"14.00\">5</text>\n",
       "</g>\n",
       "<!-- 4&#45;&gt;5 -->\n",
       "<g id=\"edge3\" class=\"edge\">\n",
       "<title>4&#45;&gt;5</title>\n",
       "<path fill=\"none\" stroke=\"black\" d=\"M217.93,-438.62C201.67,-429.54 179.83,-414.87 167,-396 123.9,-332.61 127.91,-236.72 133.09,-190.21\"/>\n",
       "<polygon fill=\"black\" stroke=\"black\" points=\"136.6,-190.37 134.34,-180.02 129.65,-189.52 136.6,-190.37\"/>\n",
       "</g>\n",
       "<!-- 2 -->\n",
       "<g id=\"node5\" class=\"node\">\n",
       "<title>2</title>\n",
       "<ellipse fill=\"none\" stroke=\"black\" cx=\"247\" cy=\"-306\" rx=\"27\" ry=\"18\"/>\n",
       "<text text-anchor=\"middle\" x=\"247\" y=\"-302.3\" font-family=\"Times New Roman,serif\" font-size=\"14.00\">2</text>\n",
       "</g>\n",
       "<!-- 8&#45;&gt;2 -->\n",
       "<g id=\"edge4\" class=\"edge\">\n",
       "<title>8&#45;&gt;2</title>\n",
       "<path fill=\"none\" stroke=\"black\" d=\"M212.98,-361.12C218.5,-352.34 225.46,-341.26 231.65,-331.42\"/>\n",
       "<polygon fill=\"black\" stroke=\"black\" points=\"234.7,-333.15 237.06,-322.82 228.77,-329.42 234.7,-333.15\"/>\n",
       "</g>\n",
       "<!-- 9&#45;&gt;2 -->\n",
       "<g id=\"edge7\" class=\"edge\">\n",
       "<title>9&#45;&gt;2</title>\n",
       "<path fill=\"none\" stroke=\"black\" d=\"M268.36,-360.41C265.09,-352.22 261.06,-342.14 257.38,-332.95\"/>\n",
       "<polygon fill=\"black\" stroke=\"black\" points=\"260.55,-331.45 253.59,-323.47 254.05,-334.05 260.55,-331.45\"/>\n",
       "</g>\n",
       "<!-- 11 -->\n",
       "<g id=\"node8\" class=\"node\">\n",
       "<title>11</title>\n",
       "<ellipse fill=\"none\" stroke=\"black\" cx=\"192\" cy=\"-90\" rx=\"27\" ry=\"18\"/>\n",
       "<text text-anchor=\"middle\" x=\"192\" y=\"-86.3\" font-family=\"Times New Roman,serif\" font-size=\"14.00\">11</text>\n",
       "</g>\n",
       "<!-- 9&#45;&gt;11 -->\n",
       "<g id=\"edge8\" class=\"edge\">\n",
       "<title>9&#45;&gt;11</title>\n",
       "<path fill=\"none\" stroke=\"black\" d=\"M283.06,-360.46C296.41,-330.66 319.88,-266.37 301,-216 284.33,-171.53 243.9,-132.47 217.24,-110.32\"/>\n",
       "<polygon fill=\"black\" stroke=\"black\" points=\"219.42,-107.58 209.45,-103.99 215.01,-113.01 219.42,-107.58\"/>\n",
       "</g>\n",
       "<!-- 5&#45;&gt;8 -->\n",
       "<g id=\"edge13\" class=\"edge\">\n",
       "<title>5&#45;&gt;8</title>\n",
       "<path fill=\"none\" stroke=\"black\" d=\"M135.15,-180.03C133.7,-198.17 132.82,-227.58 139,-252 148.49,-289.51 170.82,-328.56 186.41,-352.82\"/>\n",
       "<polygon fill=\"black\" stroke=\"black\" points=\"183.6,-354.92 192.02,-361.36 189.46,-351.08 183.6,-354.92\"/>\n",
       "</g>\n",
       "<!-- 1 -->\n",
       "<g id=\"node9\" class=\"node\">\n",
       "<title>1</title>\n",
       "<ellipse fill=\"none\" stroke=\"black\" cx=\"27\" cy=\"-234\" rx=\"27\" ry=\"18\"/>\n",
       "<text text-anchor=\"middle\" x=\"27\" y=\"-230.3\" font-family=\"Times New Roman,serif\" font-size=\"14.00\">1</text>\n",
       "</g>\n",
       "<!-- 2&#45;&gt;1 -->\n",
       "<g id=\"edge9\" class=\"edge\">\n",
       "<title>2&#45;&gt;1</title>\n",
       "<path fill=\"none\" stroke=\"black\" d=\"M223.04,-297.38C183.69,-284.86 105.31,-259.92 60.49,-245.66\"/>\n",
       "<polygon fill=\"black\" stroke=\"black\" points=\"61.52,-242.31 50.93,-242.62 59.4,-248.98 61.52,-242.31\"/>\n",
       "</g>\n",
       "<!-- 14 -->\n",
       "<g id=\"node10\" class=\"node\">\n",
       "<title>14</title>\n",
       "<ellipse fill=\"none\" stroke=\"black\" cx=\"247\" cy=\"-234\" rx=\"27\" ry=\"18\"/>\n",
       "<text text-anchor=\"middle\" x=\"247\" y=\"-230.3\" font-family=\"Times New Roman,serif\" font-size=\"14.00\">14</text>\n",
       "</g>\n",
       "<!-- 2&#45;&gt;14 -->\n",
       "<g id=\"edge10\" class=\"edge\">\n",
       "<title>2&#45;&gt;14</title>\n",
       "<path fill=\"none\" stroke=\"black\" d=\"M241.16,-288.41C240.3,-280.51 240.05,-270.85 240.41,-261.94\"/>\n",
       "<polygon fill=\"black\" stroke=\"black\" points=\"243.9,-262.18 241.12,-251.96 236.92,-261.68 243.9,-262.18\"/>\n",
       "</g>\n",
       "<!-- 12 -->\n",
       "<g id=\"node6\" class=\"node\">\n",
       "<title>12</title>\n",
       "<ellipse fill=\"none\" stroke=\"black\" cx=\"102\" cy=\"-90\" rx=\"27\" ry=\"18\"/>\n",
       "<text text-anchor=\"middle\" x=\"102\" y=\"-86.3\" font-family=\"Times New Roman,serif\" font-size=\"14.00\">12</text>\n",
       "</g>\n",
       "<!-- 12&#45;&gt;12 -->\n",
       "<g id=\"edge5\" class=\"edge\">\n",
       "<title>12&#45;&gt;12</title>\n",
       "<path fill=\"none\" stroke=\"black\" d=\"M121.9,-102.43C134.69,-105.68 147,-101.53 147,-90 147,-81.62 140.5,-77.14 132.04,-76.56\"/>\n",
       "<polygon fill=\"black\" stroke=\"black\" points=\"131.5,-73.1 121.9,-77.57 132.19,-80.07 131.5,-73.1\"/>\n",
       "</g>\n",
       "<!-- 10 -->\n",
       "<g id=\"node7\" class=\"node\">\n",
       "<title>10</title>\n",
       "<ellipse fill=\"none\" stroke=\"black\" cx=\"219\" cy=\"-18\" rx=\"27\" ry=\"18\"/>\n",
       "<text text-anchor=\"middle\" x=\"219\" y=\"-14.3\" font-family=\"Times New Roman,serif\" font-size=\"14.00\">10</text>\n",
       "</g>\n",
       "<!-- 12&#45;&gt;10 -->\n",
       "<g id=\"edge6\" class=\"edge\">\n",
       "<title>12&#45;&gt;10</title>\n",
       "<path fill=\"none\" stroke=\"black\" d=\"M121.58,-77.28C140.48,-65.98 169.29,-48.74 190.69,-35.94\"/>\n",
       "<polygon fill=\"black\" stroke=\"black\" points=\"192.57,-38.89 199.35,-30.75 188.97,-32.89 192.57,-38.89\"/>\n",
       "</g>\n",
       "<!-- 10&#45;&gt;4 -->\n",
       "<g id=\"edge12\" class=\"edge\">\n",
       "<title>10&#45;&gt;4</title>\n",
       "<path fill=\"none\" stroke=\"black\" d=\"M240.72,-28.77C279.81,-48.01 358,-94.76 358,-161 358,-307 358,-307 358,-307 358,-363.19 302.58,-408.82 267.39,-432.13\"/>\n",
       "<polygon fill=\"black\" stroke=\"black\" points=\"265.44,-429.22 258.92,-437.57 269.22,-435.11 265.44,-429.22\"/>\n",
       "</g>\n",
       "<!-- 11&#45;&gt;10 -->\n",
       "<g id=\"edge11\" class=\"edge\">\n",
       "<title>11&#45;&gt;10</title>\n",
       "<path fill=\"none\" stroke=\"black\" d=\"M198.4,-72.41C201.51,-64.34 205.33,-54.43 208.83,-45.35\"/>\n",
       "<polygon fill=\"black\" stroke=\"black\" points=\"212.13,-46.55 212.46,-35.96 205.6,-44.03 212.13,-46.55\"/>\n",
       "</g>\n",
       "<!-- 1&#45;&gt;5 -->\n",
       "<g id=\"edge14\" class=\"edge\">\n",
       "<title>1&#45;&gt;5</title>\n",
       "<path fill=\"none\" stroke=\"black\" d=\"M46.16,-220.81C63.67,-209.67 89.76,-193.06 109.49,-180.5\"/>\n",
       "<polygon fill=\"black\" stroke=\"black\" points=\"111.5,-183.37 118.06,-175.05 107.74,-177.47 111.5,-183.37\"/>\n",
       "</g>\n",
       "<!-- 1&#45;&gt;11 -->\n",
       "<g id=\"edge15\" class=\"edge\">\n",
       "<title>1&#45;&gt;11</title>\n",
       "<path fill=\"none\" stroke=\"black\" d=\"M17.41,-217.07C7.16,-197.75 -5.54,-165.15 11,-144 51.91,-91.7 93.45,-130.29 156,-108 157.9,-107.32 159.84,-106.58 161.78,-105.79\"/>\n",
       "<polygon fill=\"black\" stroke=\"black\" points=\"163.6,-108.82 171.36,-101.6 160.79,-102.4 163.6,-108.82\"/>\n",
       "</g>\n",
       "<!-- 3 -->\n",
       "<g id=\"node11\" class=\"node\">\n",
       "<title>3</title>\n",
       "<ellipse fill=\"none\" stroke=\"black\" cx=\"47\" cy=\"-162\" rx=\"27\" ry=\"18\"/>\n",
       "<text text-anchor=\"middle\" x=\"47\" y=\"-158.3\" font-family=\"Times New Roman,serif\" font-size=\"14.00\">3</text>\n",
       "</g>\n",
       "<!-- 1&#45;&gt;3 -->\n",
       "<g id=\"edge16\" class=\"edge\">\n",
       "<title>1&#45;&gt;3</title>\n",
       "<path fill=\"none\" stroke=\"black\" d=\"M31.84,-216.05C34.1,-208.14 36.85,-198.54 39.37,-189.69\"/>\n",
       "<polygon fill=\"black\" stroke=\"black\" points=\"42.82,-190.37 42.2,-179.79 36.09,-188.44 42.82,-190.37\"/>\n",
       "</g>\n",
       "<!-- 14&#45;&gt;5 -->\n",
       "<g id=\"edge24\" class=\"edge\">\n",
       "<title>14&#45;&gt;5</title>\n",
       "<path fill=\"none\" stroke=\"black\" d=\"M227.84,-220.81C210.33,-209.67 184.24,-193.06 164.51,-180.5\"/>\n",
       "<polygon fill=\"black\" stroke=\"black\" points=\"166.26,-177.47 155.94,-175.05 162.5,-183.37 166.26,-177.47\"/>\n",
       "</g>\n",
       "<!-- 14&#45;&gt;2 -->\n",
       "<g id=\"edge23\" class=\"edge\">\n",
       "<title>14&#45;&gt;2</title>\n",
       "<path fill=\"none\" stroke=\"black\" d=\"M252.88,-251.96C253.71,-259.83 253.95,-269.37 253.58,-278.19\"/>\n",
       "<polygon fill=\"black\" stroke=\"black\" points=\"250.07,-278.18 252.84,-288.41 257.06,-278.69 250.07,-278.18\"/>\n",
       "</g>\n",
       "<!-- 14&#45;&gt;10 -->\n",
       "<g id=\"edge22\" class=\"edge\">\n",
       "<title>14&#45;&gt;10</title>\n",
       "<path fill=\"none\" stroke=\"black\" d=\"M245.24,-215.57C242.18,-185.99 235.49,-124.1 228,-72 226.79,-63.56 225.29,-54.38 223.87,-46.08\"/>\n",
       "<polygon fill=\"black\" stroke=\"black\" points=\"227.31,-45.4 222.14,-36.15 220.41,-46.6 227.31,-45.4\"/>\n",
       "</g>\n",
       "<!-- 14&#45;&gt;14 -->\n",
       "<g id=\"edge25\" class=\"edge\">\n",
       "<title>14&#45;&gt;14</title>\n",
       "<path fill=\"none\" stroke=\"black\" d=\"M266.9,-246.43C279.69,-249.68 292,-245.53 292,-234 292,-225.62 285.5,-221.14 277.04,-220.56\"/>\n",
       "<polygon fill=\"black\" stroke=\"black\" points=\"276.5,-217.1 266.9,-221.57 277.19,-224.07 276.5,-217.1\"/>\n",
       "</g>\n",
       "<!-- 3&#45;&gt;11 -->\n",
       "<g id=\"edge18\" class=\"edge\">\n",
       "<title>3&#45;&gt;11</title>\n",
       "<path fill=\"none\" stroke=\"black\" d=\"M68.4,-150.67C92.92,-138.83 133.31,-119.33 161.22,-105.86\"/>\n",
       "<polygon fill=\"black\" stroke=\"black\" points=\"163.03,-108.87 170.52,-101.37 159.99,-102.57 163.03,-108.87\"/>\n",
       "</g>\n",
       "<!-- 3&#45;&gt;3 -->\n",
       "<g id=\"edge17\" class=\"edge\">\n",
       "<title>3&#45;&gt;3</title>\n",
       "<path fill=\"none\" stroke=\"black\" d=\"M66.9,-174.43C79.69,-177.68 92,-173.53 92,-162 92,-153.62 85.5,-149.14 77.04,-148.56\"/>\n",
       "<polygon fill=\"black\" stroke=\"black\" points=\"76.5,-145.1 66.9,-149.57 77.19,-152.07 76.5,-145.1\"/>\n",
       "</g>\n",
       "<!-- 15 -->\n",
       "<g id=\"node12\" class=\"node\">\n",
       "<title>15</title>\n",
       "<ellipse fill=\"none\" stroke=\"black\" cx=\"175\" cy=\"-234\" rx=\"27\" ry=\"18\"/>\n",
       "<text text-anchor=\"middle\" x=\"175\" y=\"-230.3\" font-family=\"Times New Roman,serif\" font-size=\"14.00\">15</text>\n",
       "</g>\n",
       "<!-- 15&#45;&gt;5 -->\n",
       "<g id=\"edge20\" class=\"edge\">\n",
       "<title>15&#45;&gt;5</title>\n",
       "<path fill=\"none\" stroke=\"black\" d=\"M166.19,-216.76C161.58,-208.28 155.84,-197.71 150.68,-188.2\"/>\n",
       "<polygon fill=\"black\" stroke=\"black\" points=\"153.61,-186.27 145.77,-179.15 147.46,-189.61 153.61,-186.27\"/>\n",
       "</g>\n",
       "<!-- 15&#45;&gt;11 -->\n",
       "<g id=\"edge19\" class=\"edge\">\n",
       "<title>15&#45;&gt;11</title>\n",
       "<path fill=\"none\" stroke=\"black\" d=\"M177.05,-215.87C179.95,-191.67 185.27,-147.21 188.72,-118.39\"/>\n",
       "<polygon fill=\"black\" stroke=\"black\" points=\"192.23,-118.53 189.94,-108.19 185.28,-117.7 192.23,-118.53\"/>\n",
       "</g>\n",
       "<!-- 13 -->\n",
       "<g id=\"node13\" class=\"node\">\n",
       "<title>13</title>\n",
       "<ellipse fill=\"none\" stroke=\"black\" cx=\"27\" cy=\"-306\" rx=\"27\" ry=\"18\"/>\n",
       "<text text-anchor=\"middle\" x=\"27\" y=\"-302.3\" font-family=\"Times New Roman,serif\" font-size=\"14.00\">13</text>\n",
       "</g>\n",
       "<!-- 13&#45;&gt;1 -->\n",
       "<g id=\"edge21\" class=\"edge\">\n",
       "<title>13&#45;&gt;1</title>\n",
       "<path fill=\"none\" stroke=\"black\" d=\"M27,-287.7C27,-279.98 27,-270.71 27,-262.11\"/>\n",
       "<polygon fill=\"black\" stroke=\"black\" points=\"30.5,-262.1 27,-252.1 23.5,-262.1 30.5,-262.1\"/>\n",
       "</g>\n",
       "<!-- Hakuna -->\n",
       "<g id=\"node14\" class=\"node\">\n",
       "<title>Hakuna</title>\n",
       "<ellipse fill=\"none\" stroke=\"black\" cx=\"574\" cy=\"-450\" rx=\"38.19\" ry=\"18\"/>\n",
       "<text text-anchor=\"middle\" x=\"574\" y=\"-446.3\" font-family=\"Times New Roman,serif\" font-size=\"14.00\">Hakuna</text>\n",
       "</g>\n",
       "<!-- Matata -->\n",
       "<g id=\"node15\" class=\"node\">\n",
       "<title>Matata</title>\n",
       "<ellipse fill=\"none\" stroke=\"black\" cx=\"512\" cy=\"-378\" rx=\"35.19\" ry=\"18\"/>\n",
       "<text text-anchor=\"middle\" x=\"512\" y=\"-374.3\" font-family=\"Times New Roman,serif\" font-size=\"14.00\">Matata</text>\n",
       "</g>\n",
       "<!-- Hakuna&#45;&gt;Matata -->\n",
       "<g id=\"edge26\" class=\"edge\">\n",
       "<title>Hakuna&#45;&gt;Matata</title>\n",
       "<path fill=\"none\" stroke=\"black\" d=\"M559.93,-433.12C551.92,-424.08 541.74,-412.58 532.83,-402.52\"/>\n",
       "<polygon fill=\"black\" stroke=\"black\" points=\"535.26,-399.99 526.01,-394.82 530.02,-404.63 535.26,-399.99\"/>\n",
       "</g>\n",
       "<!-- Jak cudownie to brzmi! -->\n",
       "<g id=\"node16\" class=\"node\">\n",
       "<title>Jak cudownie to brzmi!</title>\n",
       "<ellipse fill=\"none\" stroke=\"black\" cx=\"482\" cy=\"-306\" rx=\"95.58\" ry=\"18\"/>\n",
       "<text text-anchor=\"middle\" x=\"482\" y=\"-302.3\" font-family=\"Times New Roman,serif\" font-size=\"14.00\">Jak cudownie to brzmi!</text>\n",
       "</g>\n",
       "<!-- Matata&#45;&gt;Jak cudownie to brzmi! -->\n",
       "<g id=\"edge27\" class=\"edge\">\n",
       "<title>Matata&#45;&gt;Jak cudownie to brzmi!</title>\n",
       "<path fill=\"none\" stroke=\"black\" d=\"M504.74,-360.05C501.32,-352.09 497.18,-342.41 493.36,-333.51\"/>\n",
       "<polygon fill=\"black\" stroke=\"black\" points=\"496.56,-332.09 489.4,-324.28 490.13,-334.85 496.56,-332.09\"/>\n",
       "</g>\n",
       "<!-- I wszyscy razem! -->\n",
       "<g id=\"node17\" class=\"node\">\n",
       "<title>I wszyscy razem!</title>\n",
       "<ellipse fill=\"none\" stroke=\"black\" cx=\"544\" cy=\"-234\" rx=\"74.19\" ry=\"18\"/>\n",
       "<text text-anchor=\"middle\" x=\"544\" y=\"-230.3\" font-family=\"Times New Roman,serif\" font-size=\"14.00\">I wszyscy razem!</text>\n",
       "</g>\n",
       "<!-- Jak cudownie to brzmi!&#45;&gt;I wszyscy razem! -->\n",
       "<g id=\"edge28\" class=\"edge\">\n",
       "<title>Jak cudownie to brzmi!&#45;&gt;I wszyscy razem!</title>\n",
       "<path fill=\"none\" stroke=\"black\" d=\"M497.01,-288.05C504.62,-279.46 514.01,-268.86 522.39,-259.4\"/>\n",
       "<polygon fill=\"black\" stroke=\"black\" points=\"525.12,-261.6 529.13,-251.79 519.88,-256.95 525.12,-261.6\"/>\n",
       "</g>\n",
       "<!-- I wszyscy razem!&#45;&gt;Hakuna -->\n",
       "<g id=\"edge29\" class=\"edge\">\n",
       "<title>I wszyscy razem!&#45;&gt;Hakuna</title>\n",
       "<path fill=\"none\" stroke=\"black\" d=\"M562.59,-251.7C571.85,-261.28 582.09,-274.15 587,-288 602.98,-333.07 591.9,-389.54 582.72,-422.22\"/>\n",
       "<polygon fill=\"black\" stroke=\"black\" points=\"579.32,-421.37 579.85,-431.95 586.04,-423.36 579.32,-421.37\"/>\n",
       "</g>\n",
       "</g>\n",
       "</svg>\n"
      ],
      "text/plain": [
       "<graphviz.graphs.Digraph at 0x2b6ff2c91c0>"
      ]
     },
     "execution_count": 260,
     "metadata": {},
     "output_type": "execute_result"
    }
   ],
   "source": [
    "g.create_graphviz()"
   ]
  },
  {
   "cell_type": "code",
   "execution_count": 261,
   "id": "ec33cb77",
   "metadata": {
    "hidden": true
   },
   "outputs": [],
   "source": [
    "g.Breadth_first_search(4)"
   ]
  },
  {
   "cell_type": "code",
   "execution_count": 263,
   "id": "4904c7ab",
   "metadata": {
    "hidden": true
   },
   "outputs": [
    {
     "ename": "Exception",
     "evalue": "Nie ma takeigo połączenia",
     "output_type": "error",
     "traceback": [
      "\u001b[1;31m---------------------------------------------------------------------------\u001b[0m",
      "\u001b[1;31mException\u001b[0m                                 Traceback (most recent call last)",
      "\u001b[1;32m<ipython-input-263-d79f258d548e>\u001b[0m in \u001b[0;36m<module>\u001b[1;34m\u001b[0m\n\u001b[1;32m----> 1\u001b[1;33m \u001b[0mprint\u001b[0m\u001b[1;33m(\u001b[0m\u001b[0mg\u001b[0m\u001b[1;33m.\u001b[0m\u001b[0mget_connection\u001b[0m\u001b[1;33m(\u001b[0m\u001b[1;36m4\u001b[0m\u001b[1;33m,\u001b[0m\u001b[1;34m\"Hakuna\"\u001b[0m\u001b[1;33m)\u001b[0m\u001b[1;33m)\u001b[0m\u001b[1;33m\u001b[0m\u001b[1;33m\u001b[0m\u001b[0m\n\u001b[0m",
      "\u001b[1;32m<ipython-input-165-3dcb4e700456>\u001b[0m in \u001b[0;36mget_connection\u001b[1;34m(self, start, end, arrows)\u001b[0m\n\u001b[0;32m     97\u001b[0m \u001b[1;33m\u001b[0m\u001b[0m\n\u001b[0;32m     98\u001b[0m         \u001b[1;32mif\u001b[0m \u001b[0mself\u001b[0m\u001b[1;33m[\u001b[0m\u001b[0mend\u001b[0m\u001b[1;33m]\u001b[0m\u001b[1;33m.\u001b[0m\u001b[0mcolor\u001b[0m \u001b[1;33m==\u001b[0m \u001b[1;34m\"White\"\u001b[0m\u001b[1;33m:\u001b[0m\u001b[1;33m\u001b[0m\u001b[1;33m\u001b[0m\u001b[0m\n\u001b[1;32m---> 99\u001b[1;33m             \u001b[1;32mraise\u001b[0m \u001b[0mException\u001b[0m\u001b[1;33m(\u001b[0m\u001b[1;34m\"Nie ma takeigo połączenia\"\u001b[0m\u001b[1;33m)\u001b[0m\u001b[1;33m\u001b[0m\u001b[1;33m\u001b[0m\u001b[0m\n\u001b[0m\u001b[0;32m    100\u001b[0m \u001b[1;33m\u001b[0m\u001b[0m\n\u001b[0;32m    101\u001b[0m         \u001b[0mpath\u001b[0m\u001b[1;33m=\u001b[0m\u001b[1;33m[\u001b[0m\u001b[1;33m]\u001b[0m\u001b[1;33m\u001b[0m\u001b[1;33m\u001b[0m\u001b[0m\n",
      "\u001b[1;31mException\u001b[0m: Nie ma takeigo połączenia"
     ]
    }
   ],
   "source": [
    "print(g.get_connection(4,\"Hakuna\"))"
   ]
  },
  {
   "cell_type": "code",
   "execution_count": 264,
   "id": "d99c1054",
   "metadata": {
    "hidden": true
   },
   "outputs": [
    {
     "name": "stdout",
     "output_type": "stream",
     "text": [
      "Hakuna\n",
      "Matata\n",
      "Jak cudownie to brzmi!\n"
     ]
    }
   ],
   "source": [
    "print(g.get_connection(\"Hakuna\", \"Jak cudownie to brzmi!\"))"
   ]
  },
  {
   "cell_type": "markdown",
   "id": "9b6ec868",
   "metadata": {
    "hidden": true
   },
   "source": [
    "Jeśli damy nowy punkt początkowy, to obliczy wszystkie ścieżki dla nowego punktu"
   ]
  },
  {
   "cell_type": "code",
   "execution_count": null,
   "id": "3200a547",
   "metadata": {
    "hidden": true
   },
   "outputs": [],
   "source": []
  },
  {
   "cell_type": "code",
   "execution_count": null,
   "id": "2c28c46b",
   "metadata": {
    "hidden": true
   },
   "outputs": [],
   "source": []
  },
  {
   "cell_type": "code",
   "execution_count": null,
   "id": "2a7b9d4a",
   "metadata": {
    "hidden": true
   },
   "outputs": [],
   "source": []
  },
  {
   "cell_type": "code",
   "execution_count": null,
   "id": "3400850b",
   "metadata": {
    "hidden": true
   },
   "outputs": [],
   "source": []
  }
 ],
 "metadata": {
  "kernelspec": {
   "display_name": "Python 3",
   "language": "python",
   "name": "python3"
  },
  "language_info": {
   "codemirror_mode": {
    "name": "ipython",
    "version": 3
   },
   "file_extension": ".py",
   "mimetype": "text/x-python",
   "name": "python",
   "nbconvert_exporter": "python",
   "pygments_lexer": "ipython3",
   "version": "3.9.5"
  },
  "toc": {
   "base_numbering": 1,
   "nav_menu": {},
   "number_sections": true,
   "sideBar": true,
   "skip_h1_title": false,
   "title_cell": "Table of Contents",
   "title_sidebar": "Contents",
   "toc_cell": false,
   "toc_position": {},
   "toc_section_display": true,
   "toc_window_display": false
  },
  "varInspector": {
   "cols": {
    "lenName": 16,
    "lenType": 16,
    "lenVar": 40
   },
   "kernels_config": {
    "python": {
     "delete_cmd_postfix": "",
     "delete_cmd_prefix": "del ",
     "library": "var_list.py",
     "varRefreshCmd": "print(var_dic_list())"
    },
    "r": {
     "delete_cmd_postfix": ") ",
     "delete_cmd_prefix": "rm(",
     "library": "var_list.r",
     "varRefreshCmd": "cat(var_dic_list()) "
    }
   },
   "types_to_exclude": [
    "module",
    "function",
    "builtin_function_or_method",
    "instance",
    "_Feature"
   ],
   "window_display": false
  }
 },
 "nbformat": 4,
 "nbformat_minor": 5
}
