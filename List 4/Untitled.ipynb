{
 "cells": [
  {
   "cell_type": "code",
   "execution_count": 313,
   "id": "3f7bc110",
   "metadata": {},
   "outputs": [],
   "source": [
    "import time\n",
    "import matplotlib.pyplot as plt\n",
    "import numpy as np\n"
   ]
  },
  {
   "cell_type": "markdown",
   "id": "cbe76f82",
   "metadata": {},
   "source": [
    "# Zadanie 1"
   ]
  },
  {
   "cell_type": "code",
   "execution_count": 246,
   "id": "e42680ae",
   "metadata": {},
   "outputs": [],
   "source": [
    "class QueueBaE(object):\n",
    "    \"\"\"\n",
    "    Klasa implementująca kolejkę za pomocą pythonowej listy tak,\n",
    "    że początek kolejki jest przechowywany na początku listy.\n",
    "    \"\"\"\n",
    "\n",
    "    def __init__(self):\n",
    "        self.list_of_items = []\n",
    "\n",
    "\n",
    "\n",
    "    def enqueue(self, item):\n",
    "        \"\"\"\n",
    "        Metoda służąca do dodawania obiektu do kolejki.\n",
    "        Pobiera jako argument obiekt który ma być dodany.\n",
    "        Niczego nie zwraca.\n",
    "        \"\"\"\n",
    "        #self.list_of_items+=[item]\n",
    "        self.list_of_items.append(item)\n",
    "\n",
    "    def dequeue(self):\n",
    "        \"\"\"\n",
    "        Metoda służąca do ściągania obiektu do kolejki.\n",
    "        Nie pobiera argumentów.\n",
    "        Zwraca ściągnięty obiekt.\n",
    "        \"\"\"\n",
    "        return self.list_of_items.pop()\n",
    "\n",
    "    def is_empty(self):\n",
    "        \"\"\"\n",
    "        Metoda służąca do sprawdzania, czy kolejka jest pusta.\n",
    "        Nie pobiera argumentów.\n",
    "        Zwraca True jeśli kolejka jest pusta lub False gdy nie jest.\n",
    "        \"\"\"\n",
    "        return not self.list_of_items\n",
    "\n",
    "    def size(self):\n",
    "        \"\"\"\n",
    "        Metoda służąca do określania wielkości kolejki.\n",
    "        Nie pobiera argumentów.\n",
    "        Zwraca liczbę obiektów w kolejce.\n",
    "        \"\"\"\n",
    "        return len(self.list_of_items)\n",
    "\n",
    "\n",
    "class QueueBaB(object):\n",
    "    \"\"\"\n",
    "    Klasa implementująca kolejkę za pomocą pythonowej listy tak,\n",
    "    że początek kolejki jest przechowywany na końcu listy.\n",
    "    \"\"\"\n",
    "\n",
    "    def __init__(self):\n",
    "        self.list_of_items = []\n",
    "\n",
    "    def enqueue(self, item):\n",
    "        \"\"\"\n",
    "        Metoda służąca do dodawania obiektu do kolejki.\n",
    "        Pobiera jako argument obiekt który ma być dodany.\n",
    "        Niczego nie zwraca.\n",
    "        \"\"\"\n",
    "        #self.list_of_items=[item] + self.list_of_items\n",
    "        self.list_of_items.insert(0,item)\n",
    "\n",
    "\n",
    "    def dequeue(self):\n",
    "        \"\"\"\n",
    "        Metoda służąca do ściągania obiektu do kolejki.\n",
    "        Nie pobiera argumentów.\n",
    "        Zwraca ściągnięty obiekt.\n",
    "        \"\"\"\n",
    "        return self.list_of_items.pop(0)\n",
    "\n",
    "    def is_empty(self):\n",
    "        \"\"\"\n",
    "        Metoda służąca do sprawdzania, czy kolejka jest pusta.\n",
    "        Nie pobiera argumentów.\n",
    "        Zwraca True jeśli kolejka jest pusta lub False gdy nie jest.\n",
    "        \"\"\"\n",
    "        return not self.list_of_items\n",
    "\n",
    "    def size(self):\n",
    "        \"\"\"\n",
    "        Metoda służąca do określania wielkości kolejki.\n",
    "        Nie pobiera argumentów.\n",
    "        Zwraca liczbę obiektów w kolejce.\n",
    "        \"\"\"\n",
    "        return len(self.list_of_items)"
   ]
  },
  {
   "cell_type": "markdown",
   "id": "b9f92b9a",
   "metadata": {},
   "source": [
    "# Zadanie 2"
   ]
  },
  {
   "cell_type": "code",
   "execution_count": 248,
   "id": "e6b70d87",
   "metadata": {},
   "outputs": [
    {
     "name": "stdout",
     "output_type": "stream",
     "text": [
      "253 µs ± 5.79 µs per loop (mean ± std. dev. of 7 runs, 1000 loops each)\n"
     ]
    }
   ],
   "source": [
    "%%timeit -n 1000\n",
    "B.enqueue(12)"
   ]
  },
  {
   "cell_type": "code",
   "execution_count": 249,
   "id": "c89f7aa6",
   "metadata": {},
   "outputs": [
    {
     "name": "stdout",
     "output_type": "stream",
     "text": [
      "115 ns ± 7.7 ns per loop (mean ± std. dev. of 7 runs, 1000 loops each)\n"
     ]
    }
   ],
   "source": [
    "%%timeit -n 1000\n",
    "E.enqueue(12)"
   ]
  },
  {
   "cell_type": "code",
   "execution_count": 250,
   "id": "7e24e1e3",
   "metadata": {},
   "outputs": [
    {
     "name": "stdout",
     "output_type": "stream",
     "text": [
      "20.6 µs ± 525 ns per loop (mean ± std. dev. of 7 runs, 1000 loops each)\n"
     ]
    }
   ],
   "source": [
    "%%timeit -n 1000\n",
    "B.dequeue()"
   ]
  },
  {
   "cell_type": "code",
   "execution_count": 251,
   "id": "492854a1",
   "metadata": {},
   "outputs": [
    {
     "name": "stdout",
     "output_type": "stream",
     "text": [
      "109 ns ± 2.05 ns per loop (mean ± std. dev. of 7 runs, 1000 loops each)\n"
     ]
    }
   ],
   "source": [
    "%%timeit -n 1000\n",
    "E.dequeue()"
   ]
  },
  {
   "cell_type": "code",
   "execution_count": 266,
   "id": "b5664a09",
   "metadata": {},
   "outputs": [],
   "source": [
    "B=QueueBaB()\n",
    "x_en=[0 for _ in range(100001)]\n",
    "x_en[0]=time.time()\n",
    "for i in range(100000):\n",
    "    B.enqueue(12)\n",
    "    x_en[i+1]=time.time()-x_en[0]"
   ]
  },
  {
   "cell_type": "code",
   "execution_count": 267,
   "id": "f98735d9",
   "metadata": {},
   "outputs": [],
   "source": [
    "E=QueueBaE()\n",
    "y_en=[0 for _ in range(100001)]\n",
    "y_en[0]=time.time()\n",
    "for i in range(100000):\n",
    "    E.enqueue(12)\n",
    "    y_en[i+1]=time.time()-y_en[0]"
   ]
  },
  {
   "cell_type": "code",
   "execution_count": 268,
   "id": "4b312cde",
   "metadata": {},
   "outputs": [],
   "source": [
    "x_de=[0 for _ in range(100001)]\n",
    "x_de[0]=time.time()\n",
    "for i in range(100000):\n",
    "    B.dequeue()\n",
    "    x_de[i+1]=time.time()-x_de[0]"
   ]
  },
  {
   "cell_type": "code",
   "execution_count": 269,
   "id": "748a6fe7",
   "metadata": {},
   "outputs": [],
   "source": [
    "y_de=[0 for _ in range(100001)]\n",
    "y_de[0]=time.time()\n",
    "for i in range(100000):\n",
    "    E.dequeue()\n",
    "    y_de[i+1]=time.time()-y_de[0]"
   ]
  },
  {
   "cell_type": "code",
   "execution_count": 270,
   "id": "91dabde2",
   "metadata": {},
   "outputs": [
    {
     "data": {
      "image/png": "[encoded data removed]",
      "text/plain": [
       "<Figure size 432x288 with 2 Axes>"
      ]
     },
     "metadata": {
      "needs_background": "light"
     },
     "output_type": "display_data"
    }
   ],
   "source": [
    "t = range(100001)\n",
    "fig, ax1 = plt.subplots()\n",
    "\n",
    "color = 'tab:red'\n",
    "ax1.set_xlabel('time (s)')\n",
    "ax1.set_ylabel('BaB', color=color)\n",
    "ax1.plot(t[1::5000], x_en[1::5000], color=color)\n",
    "ax1.tick_params(axis='y', labelcolor=color)\n",
    "\n",
    "ax2 = ax1.twinx()  # instantiate a second axes that shares the same x-axis\n",
    "\n",
    "color = 'tab:blue'\n",
    "ax2.set_ylabel('BaE', color=color)  # we already handled the x-label with ax1\n",
    "ax2.plot(t[1::5000], y_en[1::5000], color=color)\n",
    "ax2.tick_params(axis='y', labelcolor=color)\n",
    "\n",
    "fig.tight_layout()  # otherwise the right y-label is slightly clipped\n",
    "plt.show()"
   ]
  },
  {
   "cell_type": "code",
   "execution_count": 272,
   "id": "ad7b30a2",
   "metadata": {},
   "outputs": [
    {
     "data": {
      "image/png": "[encoded data removed]",
      "text/plain": [
       "<Figure size 432x288 with 2 Axes>"
      ]
     },
     "metadata": {
      "needs_background": "light"
     },
     "output_type": "display_data"
    }
   ],
   "source": [
    "t = range(100001)\n",
    "fig, ax1 = plt.subplots()\n",
    "\n",
    "color = 'tab:red'\n",
    "ax1.set_xlabel('time (s)')\n",
    "ax1.set_ylabel('BaB', color=color)\n",
    "ax1.plot(t[1::5000], x_de[1::5000], color=color)\n",
    "ax1.tick_params(axis='y', labelcolor=color)\n",
    "ax1.ticklabel_format(useOffset=False)\n",
    "\n",
    "ax2 = ax1.twinx()  # instantiate a second axes that shares the same x-axis\n",
    "\n",
    "color = 'tab:blue'\n",
    "ax2.set_ylabel('BaE', color=color)  # we already handled the x-label with ax1\n",
    "ax2.plot(t[1::5000], y_de[1::5000], color=color)\n",
    "ax2.tick_params(axis='y', labelcolor=color)\n",
    "ax2.ticklabel_format(useOffset=False)\n",
    "\n",
    "fig.tight_layout()  # otherwise the right y-label is slightly clipped\n",
    "plt.show()"
   ]
  },
  {
   "cell_type": "code",
   "execution_count": 271,
   "id": "8c0e87bd",
   "metadata": {},
   "outputs": [
    {
     "data": {
      "text/plain": [
       "0.9833700656890869"
      ]
     },
     "execution_count": 271,
     "metadata": {},
     "output_type": "execute_result"
    }
   ],
   "source": [
    "x_de[-1]"
   ]
  },
  {
   "cell_type": "code",
   "execution_count": 229,
   "id": "20403d8a",
   "metadata": {},
   "outputs": [],
   "source": [
    "a=[1,2,3,4]"
   ]
  },
  {
   "cell_type": "code",
   "execution_count": 230,
   "id": "7fd90324",
   "metadata": {},
   "outputs": [
    {
     "name": "stdout",
     "output_type": "stream",
     "text": [
      "78.8 ns ± 0.967 ns per loop (mean ± std. dev. of 7 runs, 10000000 loops each)\n"
     ]
    }
   ],
   "source": [
    "%%timeit\n",
    "[1]+a"
   ]
  },
  {
   "cell_type": "code",
   "execution_count": 231,
   "id": "971a2680",
   "metadata": {},
   "outputs": [
    {
     "name": "stdout",
     "output_type": "stream",
     "text": [
      "79.5 ns ± 0.953 ns per loop (mean ± std. dev. of 7 runs, 10000000 loops each)\n"
     ]
    }
   ],
   "source": [
    "%%timeit\n",
    "a+[1]"
   ]
  },
  {
   "cell_type": "code",
   "execution_count": 232,
   "id": "519efb7d",
   "metadata": {},
   "outputs": [
    {
     "name": "stdout",
     "output_type": "stream",
     "text": [
      "114 ns ± 1.4 ns per loop (mean ± std. dev. of 7 runs, 10000000 loops each)\n"
     ]
    }
   ],
   "source": [
    "%%timeit\n",
    "a=[1,2,3,4]\n",
    "a+[1]"
   ]
  },
  {
   "cell_type": "code",
   "execution_count": 233,
   "id": "91325fbe",
   "metadata": {},
   "outputs": [
    {
     "name": "stdout",
     "output_type": "stream",
     "text": [
      "79.7 ns ± 1.11 ns per loop (mean ± std. dev. of 7 runs, 10000000 loops each)\n"
     ]
    }
   ],
   "source": [
    "%%timeit\n",
    "a=[1,2,3,4]\n",
    "a.append(1)"
   ]
  },
  {
   "cell_type": "code",
   "execution_count": 235,
   "id": "84f3f156",
   "metadata": {},
   "outputs": [
    {
     "name": "stdout",
     "output_type": "stream",
     "text": [
      "116 ns ± 2.06 ns per loop (mean ± std. dev. of 7 runs, 10000000 loops each)\n"
     ]
    }
   ],
   "source": [
    "%%timeit\n",
    "a=[1,2,3,4]\n",
    "[1]+a"
   ]
  },
  {
   "cell_type": "code",
   "execution_count": 245,
   "id": "1c201489",
   "metadata": {},
   "outputs": [
    {
     "name": "stdout",
     "output_type": "stream",
     "text": [
      "103 ns ± 3.34 ns per loop (mean ± std. dev. of 7 runs, 10000000 loops each)\n"
     ]
    }
   ],
   "source": [
    "%%timeit\n",
    "a=[1,2,3,4]\n",
    "a.insert(0,1)"
   ]
  },
  {
   "cell_type": "code",
   "execution_count": 239,
   "id": "825fd885",
   "metadata": {},
   "outputs": [],
   "source": [
    "b=[1]"
   ]
  },
  {
   "cell_type": "code",
   "execution_count": 241,
   "id": "a9590b3c",
   "metadata": {},
   "outputs": [],
   "source": [
    "b.append([1,2,3,4])"
   ]
  },
  {
   "cell_type": "code",
   "execution_count": 242,
   "id": "ba02bca4",
   "metadata": {},
   "outputs": [
    {
     "data": {
      "text/plain": [
       "[1, [1, 2, 3, 4]]"
      ]
     },
     "execution_count": 242,
     "metadata": {},
     "output_type": "execute_result"
    }
   ],
   "source": [
    "b"
   ]
  },
  {
   "cell_type": "code",
   "execution_count": null,
   "id": "403c0697",
   "metadata": {},
   "outputs": [],
   "source": [
    "test_list.insert(0, 6)"
   ]
  },
  {
   "cell_type": "code",
   "execution_count": null,
   "id": "a32726e2",
   "metadata": {},
   "outputs": [],
   "source": []
  },
  {
   "cell_type": "code",
   "execution_count": null,
   "id": "d8eaaaf2",
   "metadata": {},
   "outputs": [],
   "source": []
  },
  {
   "cell_type": "code",
   "execution_count": null,
   "id": "282ee512",
   "metadata": {},
   "outputs": [],
   "source": []
  },
  {
   "cell_type": "markdown",
   "id": "19a67039",
   "metadata": {},
   "source": [
    "# Zadanie 3"
   ]
  },
  {
   "cell_type": "code",
   "execution_count": null,
   "id": "9c692623",
   "metadata": {},
   "outputs": [],
   "source": []
  },
  {
   "cell_type": "code",
   "execution_count": null,
   "id": "34393fa4",
   "metadata": {},
   "outputs": [],
   "source": []
  },
  {
   "cell_type": "code",
   "execution_count": null,
   "id": "e6d2c93d",
   "metadata": {},
   "outputs": [],
   "source": []
  },
  {
   "cell_type": "code",
   "execution_count": null,
   "id": "44653065",
   "metadata": {},
   "outputs": [],
   "source": []
  },
  {
   "cell_type": "code",
   "execution_count": null,
   "id": "c5996ec6",
   "metadata": {},
   "outputs": [],
   "source": []
  },
  {
   "cell_type": "code",
   "execution_count": null,
   "id": "bcc57b9f",
   "metadata": {},
   "outputs": [],
   "source": []
  },
  {
   "cell_type": "code",
   "execution_count": null,
   "id": "c2f6f8b4",
   "metadata": {},
   "outputs": [],
   "source": []
  },
  {
   "cell_type": "markdown",
   "id": "3cfcd88c",
   "metadata": {},
   "source": [
    "# Zadanie 4"
   ]
  },
  {
   "cell_type": "code",
   "execution_count": 273,
   "id": "74958374",
   "metadata": {},
   "outputs": [
    {
     "name": "stdout",
     "output_type": "stream",
     "text": [
      "Encountered a start tag: html\n",
      "Encountered a start tag: head\n",
      "Encountered a start tag: title\n",
      "Encountered some data  : Test\n",
      "Encountered an end tag : title\n",
      "Encountered an end tag : head\n",
      "Encountered a start tag: body\n",
      "Encountered a start tag: h1\n",
      "Encountered some data  : Parse me!\n",
      "Encountered an end tag : h1\n",
      "Encountered an end tag : body\n",
      "Encountered an end tag : html\n"
     ]
    }
   ],
   "source": [
    "from html.parser import HTMLParser\n",
    "\n",
    "\n",
    "parser = MyHTMLParser()\n",
    "parser.feed('<html><head><title>Test</title></head>'\n",
    "            '<body><h1>Parse me!</h1></body></html>')"
   ]
  },
  {
   "cell_type": "code",
   "execution_count": 363,
   "id": "2dbbe3d4",
   "metadata": {},
   "outputs": [],
   "source": [
    "class MyHTMLParser(HTMLParser):\n",
    "    def __init__(self,**args):\n",
    "        self.tagu=[]\n",
    "        super().__init__(**args)\n",
    "    \n",
    "    def handle_starttag(self, tag, attrs):\n",
    "        self.tagu.append(tag)\n",
    "\n",
    "    def handle_endtag(self, tag):\n",
    "        self.tagu.append('/'+tag)\n",
    "        \n",
    "    def handle_data(self, data):\n",
    "        pass\n",
    "        #print(\"Encountered some data  :\", data)\n",
    "\n",
    "def checking_HTML_correctness(filename):\n",
    "    \"\"\"\n",
    "    Funkcja ma za zadanie sprawdzać poprawność składni dokumentu HTML.\n",
    "    Jako argument przyjmuje nazwę pliku, który ma sprawdzić.\n",
    "    Zwraca True jeśli dokument jest poprawny składniowo i False jeśli nie jest.\n",
    "    \"\"\"\n",
    "    file_obj = open(filename, 'r')\n",
    "    text = file_obj.read()\n",
    "    parser = MyHTMLParser()\n",
    "    parser.feed(text)\n",
    "    g=[]\n",
    "    to_pass=[\"area\",\"base\",\"col\",\"command\",\"embed\",\"hr\",\"img\",\"input\",\"keygen\",\"link\",\"meta\",\"param\",\"source\",\"track\",\"wbr\"]\n",
    "    for i in parser.tagu:\n",
    "        if i[0]!=\"/\":\n",
    "            g.append(i)\n",
    "        else:\n",
    "            d=g.pop()\n",
    "\n",
    "            if not d in to_pass and i[1:]!=d:\n",
    "                print(i,d)\n",
    "                return False\n",
    "    return True"
   ]
  },
  {
   "cell_type": "code",
   "execution_count": 364,
   "id": "de8b14e3",
   "metadata": {},
   "outputs": [
    {
     "data": {
      "text/plain": [
       "True"
      ]
     },
     "execution_count": 364,
     "metadata": {},
     "output_type": "execute_result"
    }
   ],
   "source": [
    "checking_HTML_correctness(r\"D:\\GitHub\\AiSD\\List 4\\L4_ZAD4_sampleHTML_3.txt\")"
   ]
  },
  {
   "cell_type": "markdown",
   "id": "ee5f7837",
   "metadata": {},
   "source": [
    "# Zadanie 5"
   ]
  },
  {
   "cell_type": "code",
   "execution_count": 989,
   "id": "402a58ba",
   "metadata": {},
   "outputs": [],
   "source": [
    "import numpy as np\n",
    "\n",
    "class Node:\n",
    "    \n",
    "    def __repr__(self):\n",
    "\n",
    "        return str(self.data)\n",
    "    \n",
    "    def __init__(self,init_data):\n",
    "        self.data = init_data\n",
    "        self.next = None\n",
    "  \n",
    "    def get_data(self):\n",
    "        return self.data\n",
    "\n",
    "    def get_next(self):\n",
    "        return self.next\n",
    "  \n",
    "    def set_data(self,new_data):\n",
    "        self.data = new_data\n",
    "  \n",
    "    def set_next(self,new_next):\n",
    "        self.next = new_next\n",
    "    \n",
    "\n",
    "class UnorderedList(object):\n",
    "  \n",
    "    def __init__(self):\n",
    "        self.head = None\n",
    "        self.n=0\n",
    "\n",
    "    def is_empty(self):\n",
    "        return self.head == None\n",
    "\n",
    "    def add(self, item):\n",
    "        temp = Node(item)\n",
    "        temp.set_next(self.head)\n",
    "        self.head = temp\n",
    "\n",
    "    def size(self):\n",
    "        current = self.head\n",
    "        count = 0\n",
    "        while current != None:\n",
    "            count = count + 1\n",
    "            current = current.get_next()\n",
    "        return count\n",
    "    \n",
    "    def search(self,item):\n",
    "        current = self.head\n",
    "        found = False\n",
    "        while current != None and not found:\n",
    "            if current.get_data() == item:\n",
    "                found = True\n",
    "            else:\n",
    "                current = current.get_next()\n",
    "        return found\n",
    "    \n",
    "    def remove(self, item):\n",
    "        current = self.head\n",
    "        previous = None\n",
    "        found = False\n",
    "\n",
    "        while not found:\n",
    "            if current.get_data() == item:\n",
    "                found = True\n",
    "            else:\n",
    "                previous = current\n",
    "                current = current.get_next()\n",
    "\n",
    "        if previous == None: #jeśli usuwamy pierwszy element\n",
    "            self.head = current.get_next()\n",
    "        else:\n",
    "            previous.set_next(current.get_next())\n",
    "\n",
    "##################################################################################################################   \n",
    "#                                               Uzupełnienie                                                     #\n",
    "##################################################################################################################   \n",
    "            \n",
    "    def append(self, item):\n",
    "        \"\"\"\n",
    "        Metoda dodająca element na koniec listy.\n",
    "        Przyjmuje jako argument obiekt, który ma zostać dodany.\n",
    "        Niczego nie zwraca.\n",
    "        \"\"\"\n",
    "        if self.head:\n",
    "            current=self.head\n",
    "            while current:\n",
    "                previous=current\n",
    "                current=current.get_next()\n",
    "            previous.set_next(Node(item))\n",
    "        else:\n",
    "            self.add(item)\n",
    "        \n",
    "    \n",
    "    def index(self, item):\n",
    "        \"\"\"\n",
    "        Metoda podaje miejsce na liście, \n",
    "        na którym znajduje się określony element - \n",
    "        element pod self.head ma indeks 0.\n",
    "        Przyjmuje jako argument element, \n",
    "        którego pozycja ma zostać określona.\n",
    "        Zwraca pozycję elementu na liście lub None w przypadku, \n",
    "        gdy wskazanego elementu na liście nie ma.\n",
    "        \"\"\"\n",
    "        current = self.head\n",
    "        found = False\n",
    "        i=0\n",
    "        while current != None and not found:\n",
    "            if current.get_data() == item:\n",
    "                found = True\n",
    "            else:\n",
    "                current = current.get_next()\n",
    "                i+=1\n",
    "        return i if found else None\n",
    "     \n",
    "        \n",
    "    def insert(self, pos, item):\n",
    "        \"\"\"\n",
    "        Metoda umieszcza na wskazanej pozycji zadany element.\n",
    "        Przyjmuje jako argumenty pozycję, \n",
    "        na której ma umiescić element oraz ten element.\n",
    "        Niczego nie zwraca.\n",
    "        Rzuca wyjątkiem IndexError w przypadku, \n",
    "        gdy nie jest możliwe umieszczenie elementu\n",
    "        na zadanej pozycji (np. na 5. miejsce w 3-elementowej liście).\n",
    "        \"\"\"\n",
    "        current = self.head\n",
    "        previous=None\n",
    "        while current != None and pos >0:\n",
    "            pos-=1\n",
    "            previous=current\n",
    "            current=current.get_next()\n",
    "            \n",
    "        if pos == 0:\n",
    "            if previous:\n",
    "                if current:\n",
    "                    previous.set_next(Node(item))\n",
    "                    previous.get_next().set_next(current)\n",
    "                else:\n",
    "                    previous.set_next(Node(item))\n",
    "            else:\n",
    "                self.add(item)\n",
    "        else:\n",
    "            raise IndexError(\"Wyjście poza zakres\")\n",
    "                    \n",
    "  \n",
    "    def pop(self, pos=-1):\n",
    "        \"\"\"\n",
    "        Metoda usuwa z listy element na zadaniej pozycji.\n",
    "        Przyjmuje jako opcjonalny argument pozycję, \n",
    "        z której ma zostać usunięty element.\n",
    "        Jeśli pozycja nie zostanie podana, \n",
    "        metoda usuwa (odłącza) ostatni element z listy. \n",
    "        Zwraca wartość usuniętego elementu.\n",
    "        Rzuca wyjątkiem IndexError w przypadku,\n",
    "        gdy usunięcie elementu z danej pozycji jest niemożliwe.\n",
    "        \"\"\"\n",
    "        n=self.size()\n",
    "        if pos + 1 > n or -pos > n:\n",
    "            raise IndexError(\"Wyjście poza zekres\")\n",
    "        \n",
    "        if pos > 0:\n",
    "            i = pos\n",
    "        elif pos == 0:\n",
    "            temp=self.head\n",
    "            self.head=self.head.get_next()\n",
    "            return temp.get_data()\n",
    "        else:\n",
    "            i = n + pos\n",
    "            \n",
    "        current = self.head\n",
    "        for _ in range(i-1):\n",
    "            current = current.get_next()\n",
    "        temp=current.get_next()\n",
    "        current.set_next(current.get_next().get_next())\n",
    "        return temp.get_data()\n",
    "    \n",
    "    \n",
    "##################################################################################################################   \n",
    "#                                               Dodatkowe                                                        #\n",
    "##################################################################################################################   \n",
    "            \n",
    "    def __repr__(self):\n",
    "        current=self.head\n",
    "        tab=[]\n",
    "        while current:\n",
    "            tab.append(current.get_data())\n",
    "            current=current.get_next()\n",
    "        return str(tab)\n",
    "    \n",
    "    def reverse(self):\n",
    "        \"\"\"\n",
    "        Metoda odwraca kolejność elementów w liście\n",
    "        \"\"\"\n",
    "        temp=[]\n",
    "        current=self.head\n",
    "        while current:\n",
    "            temp.append(current)\n",
    "            current=current.get_next()\n",
    "                    \n",
    "        current=temp.pop()\n",
    "        current.set_next(temp.pop())\n",
    "        self.head=current\n",
    "        \n",
    "        \n",
    "        while temp:\n",
    "            current=current.get_next()\n",
    "            current.set_next(temp.pop())\n",
    "        current. get_next().set_next(None)\n",
    "        \n",
    "    def count(self, item):\n",
    "        \"\"\"\n",
    "        Metoda zwraca liczbę danego elementu z listy\n",
    "        \"\"\"\n",
    "        i=0\n",
    "        current=self.head\n",
    "        while current:\n",
    "            i += 1 if current.get_data()==item else 0\n",
    "            current = current.get_next()\n",
    "        return i\n",
    "            \n",
    "    def shuffle(self):\n",
    "        \"\"\"\n",
    "        Metoda permutuje listę\n",
    "        \"\"\"\n",
    "        temp=[]\n",
    "        current=self.head\n",
    "        while current:\n",
    "            temp.append(current)\n",
    "            current=current.get_next()\n",
    "            \n",
    "        temp = [i for i in np.random.permutation(temp)]\n",
    "                    \n",
    "        current=temp.pop()\n",
    "        current.set_next(temp.pop())\n",
    "        self.head=current\n",
    "        \n",
    "        while temp:\n",
    "            current=current.get_next()\n",
    "            current.set_next(temp.pop())\n",
    "        current.get_next().set_next(None)\n",
    "        \n",
    "    def __eq__(self, other):\n",
    "        \n",
    "        if type(other) == UnorderedList:\n",
    "            current_self = self.head\n",
    "            current_other = other.head\n",
    "            \n",
    "            while current_self and current_other:\n",
    "                if current_self.get_data() != current_other.get_data():\n",
    "                    return False\n",
    "                current_self = current_self.get_next()\n",
    "                current_other = current_other.get_next()\n",
    "            if current_self or current_other:\n",
    "                return False\n",
    "            return True\n",
    "        raise TypeError(\"'==' not supported between instances of 'UnorderedList' and '\"+str(type(other).__name__)+\"'\")\n",
    "            \n",
    "\n",
    "    def same_element(self,other):\n",
    "        \"\"\"\n",
    "        Sprawdza, czy kolejki mają takie same elementy (i ich liczbę)\n",
    "        \"\"\"\n",
    "        temp_self = []\n",
    "        temp_other = []\n",
    "        current=self.head\n",
    "        while current:\n",
    "            temp_self.append(current.get_data())\n",
    "            current = current.get_next()\n",
    "            \n",
    "        current=other.head\n",
    "        while current:\n",
    "            temp_other.append(current.get_data())\n",
    "            current = current.get_next()\n",
    "            \n",
    "        while temp_self and temp_other:\n",
    "            temp = temp_self.pop()\n",
    "            for i in range(len(temp_other)):\n",
    "                if temp==temp_other[i]:\n",
    "                    temp_other.pop(i)\n",
    "                    break\n",
    "            else:\n",
    "                return False\n",
    "        return False if temp_self or temp_other else True\n",
    "        \n",
    "    def same_type_of_elements(self, other):\n",
    "        \"\"\"\n",
    "        Sprawdza, czy wszystkie elementy jednego są w drugim\n",
    "        \"\"\"\n",
    "        temp_self = []\n",
    "        temp_other = []\n",
    "        current=self.head\n",
    "        while current:\n",
    "            temp_self.append(current.get_data())\n",
    "            current = current.get_next()\n",
    "            \n",
    "        current=other.head\n",
    "        while current:\n",
    "            temp_other.append(current.get_data())\n",
    "            current = current.get_next()\n",
    "            \n",
    "        return all(i in temp_self for i in temp_other) and all(i in temp_other for i in temp_self)\n",
    "    \n",
    "    def __getitem__(self, pos):\n",
    "        n=self.size()\n",
    "        \n",
    "        if pos + 1 > n or -pos > n:\n",
    "            raise IndexError(\"Wyjście poza zekres\")\n",
    "            \n",
    "        if pos > 0:\n",
    "            i = pos\n",
    "        elif pos == 0:\n",
    "            return self.head.get_data()\n",
    "        else:\n",
    "            pos = n + pos\n",
    "        \n",
    "        current=self.head\n",
    "        while current and pos > 0:\n",
    "            current = current.get_next()\n",
    "            pos-=1\n",
    "        \n",
    "        return current.get_data()"
   ]
  },
  {
   "cell_type": "code",
   "execution_count": 1012,
   "id": "d790bf5b",
   "metadata": {},
   "outputs": [
    {
     "data": {
      "text/plain": [
       "[]"
      ]
     },
     "execution_count": 1012,
     "metadata": {},
     "output_type": "execute_result"
    }
   ],
   "source": [
    "A"
   ]
  },
  {
   "cell_type": "code",
   "execution_count": 1013,
   "id": "ab68b52d",
   "metadata": {},
   "outputs": [
    {
     "ename": "IndexError",
     "evalue": "Wyjście poza zekres",
     "output_type": "error",
     "traceback": [
      "\u001b[1;31m---------------------------------------------------------------------------\u001b[0m",
      "\u001b[1;31mIndexError\u001b[0m                                Traceback (most recent call last)",
      "\u001b[1;32m<ipython-input-1013-61843f3f96b5>\u001b[0m in \u001b[0;36m<module>\u001b[1;34m\u001b[0m\n\u001b[1;32m----> 1\u001b[1;33m \u001b[0mA\u001b[0m\u001b[1;33m.\u001b[0m\u001b[0mpop\u001b[0m\u001b[1;33m(\u001b[0m\u001b[1;36m0\u001b[0m\u001b[1;33m)\u001b[0m\u001b[1;33m\u001b[0m\u001b[1;33m\u001b[0m\u001b[0m\n\u001b[0m",
      "\u001b[1;32m<ipython-input-989-348e97abd0ba>\u001b[0m in \u001b[0;36mpop\u001b[1;34m(self, pos)\u001b[0m\n\u001b[0;32m    158\u001b[0m         \u001b[0mn\u001b[0m\u001b[1;33m=\u001b[0m\u001b[0mself\u001b[0m\u001b[1;33m.\u001b[0m\u001b[0msize\u001b[0m\u001b[1;33m(\u001b[0m\u001b[1;33m)\u001b[0m\u001b[1;33m\u001b[0m\u001b[1;33m\u001b[0m\u001b[0m\n\u001b[0;32m    159\u001b[0m         \u001b[1;32mif\u001b[0m \u001b[0mpos\u001b[0m \u001b[1;33m+\u001b[0m \u001b[1;36m1\u001b[0m \u001b[1;33m>\u001b[0m \u001b[0mn\u001b[0m \u001b[1;32mor\u001b[0m \u001b[1;33m-\u001b[0m\u001b[0mpos\u001b[0m \u001b[1;33m>\u001b[0m \u001b[0mn\u001b[0m\u001b[1;33m:\u001b[0m\u001b[1;33m\u001b[0m\u001b[1;33m\u001b[0m\u001b[0m\n\u001b[1;32m--> 160\u001b[1;33m             \u001b[1;32mraise\u001b[0m \u001b[0mIndexError\u001b[0m\u001b[1;33m(\u001b[0m\u001b[1;34m\"Wyjście poza zekres\"\u001b[0m\u001b[1;33m)\u001b[0m\u001b[1;33m\u001b[0m\u001b[1;33m\u001b[0m\u001b[0m\n\u001b[0m\u001b[0;32m    161\u001b[0m \u001b[1;33m\u001b[0m\u001b[0m\n\u001b[0;32m    162\u001b[0m         \u001b[1;32mif\u001b[0m \u001b[0mpos\u001b[0m \u001b[1;33m>\u001b[0m \u001b[1;36m0\u001b[0m\u001b[1;33m:\u001b[0m\u001b[1;33m\u001b[0m\u001b[1;33m\u001b[0m\u001b[0m\n",
      "\u001b[1;31mIndexError\u001b[0m: Wyjście poza zekres"
     ]
    }
   ],
   "source": [
    "A.pop(0)"
   ]
  },
  {
   "cell_type": "code",
   "execution_count": 1018,
   "id": "d42898a2",
   "metadata": {},
   "outputs": [
    {
     "data": {
      "text/plain": [
       "[0, 1, 2, 3, 1, 232, 123]"
      ]
     },
     "execution_count": 1018,
     "metadata": {},
     "output_type": "execute_result"
    }
   ],
   "source": [
    "A"
   ]
  },
  {
   "cell_type": "code",
   "execution_count": 1027,
   "id": "00fbcbd0",
   "metadata": {},
   "outputs": [
    {
     "ename": "IndexError",
     "evalue": "Wyjście poza zekres",
     "output_type": "error",
     "traceback": [
      "\u001b[1;31m---------------------------------------------------------------------------\u001b[0m",
      "\u001b[1;31mIndexError\u001b[0m                                Traceback (most recent call last)",
      "\u001b[1;32m<ipython-input-1027-7423ee27b9de>\u001b[0m in \u001b[0;36m<module>\u001b[1;34m\u001b[0m\n\u001b[1;32m----> 1\u001b[1;33m \u001b[0mA\u001b[0m\u001b[1;33m[\u001b[0m\u001b[1;36m7\u001b[0m\u001b[1;33m]\u001b[0m\u001b[1;33m\u001b[0m\u001b[1;33m\u001b[0m\u001b[0m\n\u001b[0m",
      "\u001b[1;32m<ipython-input-989-348e97abd0ba>\u001b[0m in \u001b[0;36m__getitem__\u001b[1;34m(self, pos)\u001b[0m\n\u001b[0;32m    306\u001b[0m \u001b[1;33m\u001b[0m\u001b[0m\n\u001b[0;32m    307\u001b[0m         \u001b[1;32mif\u001b[0m \u001b[0mpos\u001b[0m \u001b[1;33m+\u001b[0m \u001b[1;36m1\u001b[0m \u001b[1;33m>\u001b[0m \u001b[0mn\u001b[0m \u001b[1;32mor\u001b[0m \u001b[1;33m-\u001b[0m\u001b[0mpos\u001b[0m \u001b[1;33m>\u001b[0m \u001b[0mn\u001b[0m\u001b[1;33m:\u001b[0m\u001b[1;33m\u001b[0m\u001b[1;33m\u001b[0m\u001b[0m\n\u001b[1;32m--> 308\u001b[1;33m             \u001b[1;32mraise\u001b[0m \u001b[0mIndexError\u001b[0m\u001b[1;33m(\u001b[0m\u001b[1;34m\"Wyjście poza zekres\"\u001b[0m\u001b[1;33m)\u001b[0m\u001b[1;33m\u001b[0m\u001b[1;33m\u001b[0m\u001b[0m\n\u001b[0m\u001b[0;32m    309\u001b[0m \u001b[1;33m\u001b[0m\u001b[0m\n\u001b[0;32m    310\u001b[0m         \u001b[1;32mif\u001b[0m \u001b[0mpos\u001b[0m \u001b[1;33m>\u001b[0m \u001b[1;36m0\u001b[0m\u001b[1;33m:\u001b[0m\u001b[1;33m\u001b[0m\u001b[1;33m\u001b[0m\u001b[0m\n",
      "\u001b[1;31mIndexError\u001b[0m: Wyjście poza zekres"
     ]
    }
   ],
   "source": [
    "A[7]"
   ]
  },
  {
   "cell_type": "code",
   "execution_count": null,
   "id": "e84442cd",
   "metadata": {},
   "outputs": [],
   "source": []
  },
  {
   "cell_type": "code",
   "execution_count": 992,
   "id": "27724e61",
   "metadata": {},
   "outputs": [],
   "source": [
    "def f(x):\n",
    "    return x if x>0 else -x"
   ]
  },
  {
   "cell_type": "code",
   "execution_count": 1014,
   "id": "9ab187b0",
   "metadata": {},
   "outputs": [],
   "source": [
    "A=UnorderedList()"
   ]
  },
  {
   "cell_type": "code",
   "execution_count": 1015,
   "id": "b5b82900",
   "metadata": {},
   "outputs": [],
   "source": [
    "A.add(1)"
   ]
  },
  {
   "cell_type": "code",
   "execution_count": 1016,
   "id": "01c7b4fe",
   "metadata": {},
   "outputs": [
    {
     "data": {
      "text/plain": [
       "[1]"
      ]
     },
     "execution_count": 1016,
     "metadata": {},
     "output_type": "execute_result"
    }
   ],
   "source": [
    "A"
   ]
  },
  {
   "cell_type": "code",
   "execution_count": 1017,
   "id": "bcea614e",
   "metadata": {},
   "outputs": [],
   "source": [
    "A.append(232)\n",
    "A.append(123)\n",
    "A.add(3)\n",
    "A.add(2)\n",
    "A.add(1)\n",
    "A.add(0)"
   ]
  },
  {
   "cell_type": "code",
   "execution_count": 873,
   "id": "83838711",
   "metadata": {},
   "outputs": [],
   "source": [
    "A.reverse()"
   ]
  },
  {
   "cell_type": "code",
   "execution_count": 874,
   "id": "c5c343df",
   "metadata": {},
   "outputs": [
    {
     "data": {
      "text/plain": [
       "[123, 232, 1, 3, 2, 1, 0]"
      ]
     },
     "execution_count": 874,
     "metadata": {},
     "output_type": "execute_result"
    }
   ],
   "source": [
    "A"
   ]
  },
  {
   "cell_type": "code",
   "execution_count": 877,
   "id": "e3012535",
   "metadata": {},
   "outputs": [
    {
     "data": {
      "text/plain": [
       "232"
      ]
     },
     "execution_count": 877,
     "metadata": {},
     "output_type": "execute_result"
    }
   ],
   "source": [
    "A[1]"
   ]
  },
  {
   "cell_type": "code",
   "execution_count": 785,
   "id": "9d6563c8",
   "metadata": {},
   "outputs": [
    {
     "data": {
      "text/plain": [
       "[3, 2, 0, 232, 123, 1, 1]"
      ]
     },
     "execution_count": 785,
     "metadata": {},
     "output_type": "execute_result"
    }
   ],
   "source": [
    "A.shuffle()\n",
    "A"
   ]
  },
  {
   "cell_type": "code",
   "execution_count": 847,
   "id": "1e71a411",
   "metadata": {},
   "outputs": [
    {
     "data": {
      "text/plain": [
       "[123, 232, 1, 3, 2, 1, 0]"
      ]
     },
     "execution_count": 847,
     "metadata": {},
     "output_type": "execute_result"
    }
   ],
   "source": [
    "A"
   ]
  },
  {
   "cell_type": "code",
   "execution_count": 787,
   "id": "5fdab885",
   "metadata": {},
   "outputs": [
    {
     "data": {
      "text/plain": [
       "0"
      ]
     },
     "execution_count": 787,
     "metadata": {},
     "output_type": "execute_result"
    }
   ],
   "source": [
    "A.count(1234)"
   ]
  },
  {
   "cell_type": "code",
   "execution_count": 788,
   "id": "493ae2fc",
   "metadata": {},
   "outputs": [],
   "source": [
    "A.insert(0,4)"
   ]
  },
  {
   "cell_type": "code",
   "execution_count": 789,
   "id": "90c3eb4d",
   "metadata": {},
   "outputs": [],
   "source": [
    "A.index(5)"
   ]
  },
  {
   "cell_type": "code",
   "execution_count": 790,
   "id": "8bce83c6",
   "metadata": {},
   "outputs": [
    {
     "data": {
      "text/plain": [
       "1"
      ]
     },
     "execution_count": 790,
     "metadata": {},
     "output_type": "execute_result"
    }
   ],
   "source": [
    "A.pop(-1)"
   ]
  },
  {
   "cell_type": "code",
   "execution_count": 791,
   "id": "9e3c6b1f",
   "metadata": {},
   "outputs": [
    {
     "name": "stdout",
     "output_type": "stream",
     "text": [
      "0\n"
     ]
    }
   ],
   "source": [
    "for i in range(1):\n",
    "    print(i)"
   ]
  },
  {
   "cell_type": "code",
   "execution_count": 792,
   "id": "393385ff",
   "metadata": {},
   "outputs": [],
   "source": [
    "a=[1,2,3,4]"
   ]
  },
  {
   "cell_type": "code",
   "execution_count": 793,
   "id": "ed9fac69",
   "metadata": {},
   "outputs": [
    {
     "data": {
      "text/plain": [
       "[1, 2, 3, 4]"
      ]
     },
     "execution_count": 793,
     "metadata": {},
     "output_type": "execute_result"
    }
   ],
   "source": [
    "a"
   ]
  },
  {
   "cell_type": "code",
   "execution_count": 794,
   "id": "c00e9f8f",
   "metadata": {},
   "outputs": [
    {
     "data": {
      "text/plain": [
       "[3, 2]"
      ]
     },
     "execution_count": 794,
     "metadata": {},
     "output_type": "execute_result"
    }
   ],
   "source": [
    "a[-2:0:-1]"
   ]
  },
  {
   "cell_type": "code",
   "execution_count": 795,
   "id": "e5932078",
   "metadata": {},
   "outputs": [
    {
     "data": {
      "text/plain": [
       "4"
      ]
     },
     "execution_count": 795,
     "metadata": {},
     "output_type": "execute_result"
    }
   ],
   "source": [
    "a.pop()\n"
   ]
  },
  {
   "cell_type": "code",
   "execution_count": 811,
   "id": "093a8368",
   "metadata": {},
   "outputs": [],
   "source": [
    "A=UnorderedList()\n",
    "A.append(232)\n",
    "A.append(123)\n",
    "A.add(3)\n",
    "A.add(2)\n",
    "A.add(1)\n",
    "A.add(0)"
   ]
  },
  {
   "cell_type": "code",
   "execution_count": 816,
   "id": "6335c709",
   "metadata": {},
   "outputs": [],
   "source": [
    "B=UnorderedList()\n",
    "B.append(232)\n",
    "B.append(123)\n",
    "B.add(3)\n",
    "B.add(2)\n",
    "B.add(1)\n",
    "B.add(1)\n",
    "B.add(1)\n",
    "B.add(1)\n",
    "B.add(1)\n",
    "B.add(1)\n",
    "B.add(0)"
   ]
  },
  {
   "cell_type": "code",
   "execution_count": 819,
   "id": "f6a42b69",
   "metadata": {},
   "outputs": [
    {
     "data": {
      "text/plain": [
       "False"
      ]
     },
     "execution_count": 819,
     "metadata": {},
     "output_type": "execute_result"
    }
   ],
   "source": [
    "A.same_element(B)\n"
   ]
  },
  {
   "cell_type": "code",
   "execution_count": 820,
   "id": "f93efa14",
   "metadata": {},
   "outputs": [
    {
     "data": {
      "text/plain": [
       "True"
      ]
     },
     "execution_count": 820,
     "metadata": {},
     "output_type": "execute_result"
    }
   ],
   "source": [
    "A.same_type_of_elements(B)"
   ]
  },
  {
   "cell_type": "code",
   "execution_count": 817,
   "id": "a27060ff",
   "metadata": {},
   "outputs": [
    {
     "data": {
      "text/plain": [
       "[0, 1, 2, 3, 232, 123]"
      ]
     },
     "execution_count": 817,
     "metadata": {},
     "output_type": "execute_result"
    }
   ],
   "source": [
    "A"
   ]
  },
  {
   "cell_type": "code",
   "execution_count": 818,
   "id": "aa8b0c2a",
   "metadata": {},
   "outputs": [
    {
     "data": {
      "text/plain": [
       "[0, 1, 1, 1, 1, 1, 1, 2, 3, 232, 123]"
      ]
     },
     "execution_count": 818,
     "metadata": {},
     "output_type": "execute_result"
    }
   ],
   "source": [
    "B"
   ]
  },
  {
   "cell_type": "code",
   "execution_count": 709,
   "id": "12a01a1b",
   "metadata": {},
   "outputs": [],
   "source": [
    "A.add(1)"
   ]
  },
  {
   "cell_type": "code",
   "execution_count": 710,
   "id": "5bc69d09",
   "metadata": {},
   "outputs": [
    {
     "data": {
      "text/plain": [
       "[1, 2, 3]"
      ]
     },
     "execution_count": 710,
     "metadata": {},
     "output_type": "execute_result"
    }
   ],
   "source": [
    "a"
   ]
  },
  {
   "cell_type": "code",
   "execution_count": 447,
   "id": "3199f603",
   "metadata": {},
   "outputs": [],
   "source": [
    "a += [2] if False else [3]"
   ]
  },
  {
   "cell_type": "code",
   "execution_count": 161,
   "id": "c953a5b0",
   "metadata": {},
   "outputs": [
    {
     "data": {
      "text/plain": [
       "[1, 2, 3, 2, 2, 2, 3, 3, 3]"
      ]
     },
     "execution_count": 161,
     "metadata": {},
     "output_type": "execute_result"
    }
   ],
   "source": [
    "a"
   ]
  },
  {
   "cell_type": "code",
   "execution_count": 198,
   "id": "976c75d2",
   "metadata": {},
   "outputs": [
    {
     "data": {
      "text/plain": [
       "<itertools.permutations at 0x1b925bfb220>"
      ]
     },
     "execution_count": 198,
     "metadata": {},
     "output_type": "execute_result"
    }
   ],
   "source": [
    "permutations([1,2,3,4])"
   ]
  },
  {
   "cell_type": "code",
   "execution_count": 210,
   "id": "d8028b36",
   "metadata": {},
   "outputs": [
    {
     "name": "stdout",
     "output_type": "stream",
     "text": [
      "3\n",
      "4\n",
      "2\n",
      "1\n"
     ]
    }
   ],
   "source": [
    "for i in np.random.permutation([1,2,3,4]):\n",
    "    print(i)"
   ]
  },
  {
   "cell_type": "code",
   "execution_count": 214,
   "id": "48efba9d",
   "metadata": {},
   "outputs": [
    {
     "data": {
      "text/plain": [
       "[3, 1, 4, 2]"
      ]
     },
     "execution_count": 214,
     "metadata": {},
     "output_type": "execute_result"
    }
   ],
   "source": [
    "list(np.random.permutation([1,2,3,4]))"
   ]
  },
  {
   "cell_type": "code",
   "execution_count": 304,
   "id": "a6ee6be3",
   "metadata": {},
   "outputs": [
    {
     "data": {
      "text/plain": [
       "list"
      ]
     },
     "execution_count": 304,
     "metadata": {},
     "output_type": "execute_result"
    }
   ],
   "source": [
    "type([i for i in np.random.permutation([1,2,3,4])])"
   ]
  },
  {
   "cell_type": "code",
   "execution_count": 502,
   "id": "841968ba",
   "metadata": {},
   "outputs": [
    {
     "ename": "TypeError",
     "evalue": "'>' not supported between instances of 'UnorderedList' and 'list'",
     "output_type": "error",
     "traceback": [
      "\u001b[1;31m---------------------------------------------------------------------------\u001b[0m",
      "\u001b[1;31mTypeError\u001b[0m                                 Traceback (most recent call last)",
      "\u001b[1;32m<ipython-input-502-278c88e20835>\u001b[0m in \u001b[0;36m<module>\u001b[1;34m\u001b[0m\n\u001b[1;32m----> 1\u001b[1;33m \u001b[0mA\u001b[0m\u001b[1;33m>\u001b[0m\u001b[0ma\u001b[0m\u001b[1;33m\u001b[0m\u001b[1;33m\u001b[0m\u001b[0m\n\u001b[0m",
      "\u001b[1;31mTypeError\u001b[0m: '>' not supported between instances of 'UnorderedList' and 'list'"
     ]
    }
   ],
   "source": [
    "A>a"
   ]
  },
  {
   "cell_type": "code",
   "execution_count": 534,
   "id": "e54f2abf",
   "metadata": {},
   "outputs": [
    {
     "name": "stdout",
     "output_type": "stream",
     "text": [
      "list\n"
     ]
    }
   ],
   "source": [
    "print(type([1,2,3]).__name__)"
   ]
  },
  {
   "cell_type": "code",
   "execution_count": null,
   "id": "59d50dfc",
   "metadata": {},
   "outputs": [],
   "source": []
  },
  {
   "cell_type": "code",
   "execution_count": null,
   "id": "7e964405",
   "metadata": {},
   "outputs": [],
   "source": []
  },
  {
   "cell_type": "code",
   "execution_count": null,
   "id": "3bfcfd94",
   "metadata": {},
   "outputs": [],
   "source": []
  },
  {
   "cell_type": "markdown",
   "id": "26e4ade5",
   "metadata": {},
   "source": [
    "# Zadanie 6"
   ]
  },
  {
   "cell_type": "code",
   "execution_count": 879,
   "id": "3041aa12",
   "metadata": {},
   "outputs": [],
   "source": [
    "class StackUsingUL(object):\n",
    "    def __init__(self):\n",
    "        self.items = UnorderedList()\n",
    "    \n",
    "    def is_empty(self):\n",
    "        \"\"\"\n",
    "        Metoda sprawdzajacą, czy stos jest pusty.\n",
    "        Nie pobiera argumentów.\n",
    "        Zwraca True lub False.\n",
    "        \"\"\"\n",
    "        return self.item.is_empty()\n",
    "  \n",
    "    def push(self, item):\n",
    "        \"\"\"\n",
    "        Metoda umieszcza nowy element na stosie.\n",
    "        Pobiera element, który ma zostać umieszczony.\n",
    "        Niczego nie zwraca.\n",
    "        \"\"\"\n",
    "        self.item.append(item)\n",
    "    \n",
    "    def pop(self):\n",
    "        \"\"\"\n",
    "        Metoda ściąga element ze stosu.\n",
    "        Nie przyjmuje żadnych argumentów.\n",
    "        Zwraca ściągnięty element.\n",
    "        Jeśli stos jest pusty, rzuca wyjątkiem IndexError.\n",
    "        \"\"\"\n",
    "\n",
    "        return self.item.pop()\n",
    "\n",
    "    def peek(self):\n",
    "        \"\"\"\n",
    "        Metoda podaje wartość elementu na wierzchu stosu\n",
    "        nie ściągajac go.\n",
    "        Nie pobiera argumentów.\n",
    "        Zwraca wierzchni element stosu.\n",
    "        Jeśli stos jest pusty, rzuca wyjątkiem IndexError.\n",
    "        \"\"\"\n",
    "        return self.item[-1]\n",
    "\n",
    "    def size(self):\n",
    "        \"\"\"\n",
    "        Metoda zwraca liczę elementów na stosie.\n",
    "        Nie pobiera argumentów.\n",
    "        Zwraca liczbę elementów na stosie.\n",
    "        \"\"\"\n",
    "        return self.item.size()\n",
    "    "
   ]
  },
  {
   "cell_type": "markdown",
   "id": "9074d50a",
   "metadata": {},
   "source": [
    "# Zadanie 7"
   ]
  },
  {
   "cell_type": "code",
   "execution_count": 1028,
   "id": "1b520d97",
   "metadata": {},
   "outputs": [],
   "source": [
    "class DequeueUsingUL(object):\n",
    "\n",
    "    def __init__(self):\n",
    "        self.items = UnorderedList()\n",
    "\n",
    "    def is_empty(self):\n",
    "        \"\"\"\n",
    "        Metoda sprawdzajacą, czy kolejka jest pusta.\n",
    "        Nie pobiera argumentów.\n",
    "        Zwraca True lub False.\n",
    "        \"\"\"\n",
    "        return self.items.is_empty()\n",
    "    \n",
    "    def add_left(self, item):\n",
    "        \"\"\"\n",
    "        Metoda dodaje element do kolejki z lewej strony.\n",
    "        Pobiera jako argument element, który ma zostać dodany.\n",
    "        Niczego nie zwraca.\n",
    "        \"\"\"\n",
    "        self.items.add(item)\n",
    "\n",
    "    def add_right(self, item):\n",
    "        \"\"\"\n",
    "        Metoda dodaje element do kolejki z prawej strony.\n",
    "        Pobiera jako argument element, który ma zostać dodany.\n",
    "        Niczego nie zwraca.\n",
    "        \"\"\"\n",
    "        self.items.append(item)\n",
    "    \n",
    "    def remove_left(self):\n",
    "        \"\"\"\n",
    "        Metoda usuwa element z kolejki z lewej strony.\n",
    "        Nie pobiera argumentów.\n",
    "        Zwraca usuwany element.\n",
    "        W przypadku pustej kolejku rzuca wyjątkiem IndexError\n",
    "        \"\"\"\n",
    "        return self.items.pop(0)\n",
    "    \n",
    "    def remove_right(self):\n",
    "        \"\"\"\n",
    "        Metoda usuwa element z kolejki z prawej strony.\n",
    "        Nie pobiera argumentów.\n",
    "        Zwraca usuwany element.\n",
    "        W przypadku pustej kolejku rzuca wyjątkiem IndexError\n",
    "        \"\"\"\n",
    "        return self.items.pop()\n",
    "  \n",
    "    def size(self):\n",
    "        \"\"\"\n",
    "        Metoda zwraca liczę elementów na w kolejce.\n",
    "        Nie pobiera argumentów.\n",
    "        Zwraca liczbę elementów na w kolejce.\n",
    "        \"\"\"\n",
    "        return self.items.size()\n",
    "\n",
    "    def __repr__(self):\n",
    "        return self.items.__repr__()\n",
    "    "
   ]
  },
  {
   "cell_type": "code",
   "execution_count": 1029,
   "id": "38980ff7",
   "metadata": {},
   "outputs": [],
   "source": [
    "D=DequeueUsingUL()\n"
   ]
  },
  {
   "cell_type": "code",
   "execution_count": 1030,
   "id": "50a206b3",
   "metadata": {},
   "outputs": [],
   "source": [
    "D.add_right(2)"
   ]
  },
  {
   "cell_type": "code",
   "execution_count": 1031,
   "id": "4f1cfcf7",
   "metadata": {},
   "outputs": [
    {
     "data": {
      "text/plain": [
       "[2]"
      ]
     },
     "execution_count": 1031,
     "metadata": {},
     "output_type": "execute_result"
    }
   ],
   "source": [
    "D"
   ]
  },
  {
   "cell_type": "code",
   "execution_count": 1032,
   "id": "5973481c",
   "metadata": {},
   "outputs": [],
   "source": [
    "D.add_left(123)"
   ]
  },
  {
   "cell_type": "code",
   "execution_count": 1033,
   "id": "29182136",
   "metadata": {},
   "outputs": [
    {
     "data": {
      "text/plain": [
       "[123, 2]"
      ]
     },
     "execution_count": 1033,
     "metadata": {},
     "output_type": "execute_result"
    }
   ],
   "source": [
    "D"
   ]
  },
  {
   "cell_type": "code",
   "execution_count": 1034,
   "id": "97b5d2fe",
   "metadata": {},
   "outputs": [],
   "source": [
    "D.add_right(1332)"
   ]
  },
  {
   "cell_type": "code",
   "execution_count": 1035,
   "id": "5f5cf502",
   "metadata": {},
   "outputs": [
    {
     "data": {
      "text/plain": [
       "[123, 2, 1332]"
      ]
     },
     "execution_count": 1035,
     "metadata": {},
     "output_type": "execute_result"
    }
   ],
   "source": [
    "D"
   ]
  },
  {
   "cell_type": "code",
   "execution_count": 1036,
   "id": "15729fa7",
   "metadata": {},
   "outputs": [
    {
     "data": {
      "text/plain": [
       "3"
      ]
     },
     "execution_count": 1036,
     "metadata": {},
     "output_type": "execute_result"
    }
   ],
   "source": [
    "D.size()"
   ]
  },
  {
   "cell_type": "code",
   "execution_count": 1037,
   "id": "4dc30705",
   "metadata": {},
   "outputs": [
    {
     "data": {
      "text/plain": [
       "123"
      ]
     },
     "execution_count": 1037,
     "metadata": {},
     "output_type": "execute_result"
    }
   ],
   "source": [
    "D.remove_left()"
   ]
  },
  {
   "cell_type": "code",
   "execution_count": 1038,
   "id": "0ed85f0c",
   "metadata": {},
   "outputs": [
    {
     "data": {
      "text/plain": [
       "[2, 1332]"
      ]
     },
     "execution_count": 1038,
     "metadata": {},
     "output_type": "execute_result"
    }
   ],
   "source": [
    "D"
   ]
  },
  {
   "cell_type": "code",
   "execution_count": 1039,
   "id": "cd7249f5",
   "metadata": {},
   "outputs": [
    {
     "data": {
      "text/plain": [
       "1332"
      ]
     },
     "execution_count": 1039,
     "metadata": {},
     "output_type": "execute_result"
    }
   ],
   "source": [
    "D.remove_right()"
   ]
  },
  {
   "cell_type": "code",
   "execution_count": 1040,
   "id": "26a020d5",
   "metadata": {},
   "outputs": [
    {
     "data": {
      "text/plain": [
       "[2]"
      ]
     },
     "execution_count": 1040,
     "metadata": {},
     "output_type": "execute_result"
    }
   ],
   "source": [
    "D"
   ]
  },
  {
   "cell_type": "code",
   "execution_count": 1041,
   "id": "3ce27fda",
   "metadata": {},
   "outputs": [
    {
     "data": {
      "text/plain": [
       "False"
      ]
     },
     "execution_count": 1041,
     "metadata": {},
     "output_type": "execute_result"
    }
   ],
   "source": [
    "D.is_empty()"
   ]
  },
  {
   "cell_type": "code",
   "execution_count": 1042,
   "id": "2b5d7385",
   "metadata": {},
   "outputs": [
    {
     "ename": "IndexError",
     "evalue": "Wyjście poza zekres",
     "output_type": "error",
     "traceback": [
      "\u001b[1;31m---------------------------------------------------------------------------\u001b[0m",
      "\u001b[1;31mIndexError\u001b[0m                                Traceback (most recent call last)",
      "\u001b[1;32m<ipython-input-1042-0af366a78c84>\u001b[0m in \u001b[0;36m<module>\u001b[1;34m\u001b[0m\n\u001b[0;32m      1\u001b[0m \u001b[0mD\u001b[0m\u001b[1;33m.\u001b[0m\u001b[0mremove_left\u001b[0m\u001b[1;33m(\u001b[0m\u001b[1;33m)\u001b[0m\u001b[1;33m\u001b[0m\u001b[1;33m\u001b[0m\u001b[0m\n\u001b[1;32m----> 2\u001b[1;33m \u001b[0mD\u001b[0m\u001b[1;33m.\u001b[0m\u001b[0mremove_left\u001b[0m\u001b[1;33m(\u001b[0m\u001b[1;33m)\u001b[0m\u001b[1;33m\u001b[0m\u001b[1;33m\u001b[0m\u001b[0m\n\u001b[0m\u001b[0;32m      3\u001b[0m \u001b[0mD\u001b[0m\u001b[1;33m.\u001b[0m\u001b[0mremove_left\u001b[0m\u001b[1;33m(\u001b[0m\u001b[1;33m)\u001b[0m\u001b[1;33m\u001b[0m\u001b[1;33m\u001b[0m\u001b[0m\n",
      "\u001b[1;32m<ipython-input-1028-47a4c3c3205c>\u001b[0m in \u001b[0;36mremove_left\u001b[1;34m(self)\u001b[0m\n\u001b[0;32m     35\u001b[0m         \u001b[0mW\u001b[0m \u001b[0mprzypadku\u001b[0m \u001b[0mpustej\u001b[0m \u001b[0mkolejku\u001b[0m \u001b[0mrzuca\u001b[0m \u001b[0mwyjątkiem\u001b[0m \u001b[0mIndexError\u001b[0m\u001b[1;33m\u001b[0m\u001b[1;33m\u001b[0m\u001b[0m\n\u001b[0;32m     36\u001b[0m         \"\"\"\n\u001b[1;32m---> 37\u001b[1;33m         \u001b[1;32mreturn\u001b[0m \u001b[0mself\u001b[0m\u001b[1;33m.\u001b[0m\u001b[0mitems\u001b[0m\u001b[1;33m.\u001b[0m\u001b[0mpop\u001b[0m\u001b[1;33m(\u001b[0m\u001b[1;36m0\u001b[0m\u001b[1;33m)\u001b[0m\u001b[1;33m\u001b[0m\u001b[1;33m\u001b[0m\u001b[0m\n\u001b[0m\u001b[0;32m     38\u001b[0m \u001b[1;33m\u001b[0m\u001b[0m\n\u001b[0;32m     39\u001b[0m     \u001b[1;32mdef\u001b[0m \u001b[0mremove_right\u001b[0m\u001b[1;33m(\u001b[0m\u001b[0mself\u001b[0m\u001b[1;33m)\u001b[0m\u001b[1;33m:\u001b[0m\u001b[1;33m\u001b[0m\u001b[1;33m\u001b[0m\u001b[0m\n",
      "\u001b[1;32m<ipython-input-989-348e97abd0ba>\u001b[0m in \u001b[0;36mpop\u001b[1;34m(self, pos)\u001b[0m\n\u001b[0;32m    158\u001b[0m         \u001b[0mn\u001b[0m\u001b[1;33m=\u001b[0m\u001b[0mself\u001b[0m\u001b[1;33m.\u001b[0m\u001b[0msize\u001b[0m\u001b[1;33m(\u001b[0m\u001b[1;33m)\u001b[0m\u001b[1;33m\u001b[0m\u001b[1;33m\u001b[0m\u001b[0m\n\u001b[0;32m    159\u001b[0m         \u001b[1;32mif\u001b[0m \u001b[0mpos\u001b[0m \u001b[1;33m+\u001b[0m \u001b[1;36m1\u001b[0m \u001b[1;33m>\u001b[0m \u001b[0mn\u001b[0m \u001b[1;32mor\u001b[0m \u001b[1;33m-\u001b[0m\u001b[0mpos\u001b[0m \u001b[1;33m>\u001b[0m \u001b[0mn\u001b[0m\u001b[1;33m:\u001b[0m\u001b[1;33m\u001b[0m\u001b[1;33m\u001b[0m\u001b[0m\n\u001b[1;32m--> 160\u001b[1;33m             \u001b[1;32mraise\u001b[0m \u001b[0mIndexError\u001b[0m\u001b[1;33m(\u001b[0m\u001b[1;34m\"Wyjście poza zekres\"\u001b[0m\u001b[1;33m)\u001b[0m\u001b[1;33m\u001b[0m\u001b[1;33m\u001b[0m\u001b[0m\n\u001b[0m\u001b[0;32m    161\u001b[0m \u001b[1;33m\u001b[0m\u001b[0m\n\u001b[0;32m    162\u001b[0m         \u001b[1;32mif\u001b[0m \u001b[0mpos\u001b[0m \u001b[1;33m>\u001b[0m \u001b[1;36m0\u001b[0m\u001b[1;33m:\u001b[0m\u001b[1;33m\u001b[0m\u001b[1;33m\u001b[0m\u001b[0m\n",
      "\u001b[1;31mIndexError\u001b[0m: Wyjście poza zekres"
     ]
    }
   ],
   "source": [
    "D.remove_left()\n",
    "D.remove_left()\n",
    "D.remove_left()"
   ]
  },
  {
   "cell_type": "code",
   "execution_count": 1043,
   "id": "c5ee7f53",
   "metadata": {},
   "outputs": [
    {
     "data": {
      "text/plain": [
       "[]"
      ]
     },
     "execution_count": 1043,
     "metadata": {},
     "output_type": "execute_result"
    }
   ],
   "source": [
    "D"
   ]
  },
  {
   "cell_type": "code",
   "execution_count": 1044,
   "id": "817da654",
   "metadata": {},
   "outputs": [
    {
     "data": {
      "text/plain": [
       "True"
      ]
     },
     "execution_count": 1044,
     "metadata": {},
     "output_type": "execute_result"
    }
   ],
   "source": [
    "D.is_empty()"
   ]
  },
  {
   "cell_type": "code",
   "execution_count": 1045,
   "id": "0cc84635",
   "metadata": {},
   "outputs": [
    {
     "ename": "IndexError",
     "evalue": "Wyjście poza zekres",
     "output_type": "error",
     "traceback": [
      "\u001b[1;31m---------------------------------------------------------------------------\u001b[0m",
      "\u001b[1;31mIndexError\u001b[0m                                Traceback (most recent call last)",
      "\u001b[1;32m<ipython-input-1045-928a7b0bea6c>\u001b[0m in \u001b[0;36m<module>\u001b[1;34m\u001b[0m\n\u001b[1;32m----> 1\u001b[1;33m \u001b[0mD\u001b[0m\u001b[1;33m.\u001b[0m\u001b[0mremove_left\u001b[0m\u001b[1;33m(\u001b[0m\u001b[1;33m)\u001b[0m\u001b[1;33m\u001b[0m\u001b[1;33m\u001b[0m\u001b[0m\n\u001b[0m",
      "\u001b[1;32m<ipython-input-1028-47a4c3c3205c>\u001b[0m in \u001b[0;36mremove_left\u001b[1;34m(self)\u001b[0m\n\u001b[0;32m     35\u001b[0m         \u001b[0mW\u001b[0m \u001b[0mprzypadku\u001b[0m \u001b[0mpustej\u001b[0m \u001b[0mkolejku\u001b[0m \u001b[0mrzuca\u001b[0m \u001b[0mwyjątkiem\u001b[0m \u001b[0mIndexError\u001b[0m\u001b[1;33m\u001b[0m\u001b[1;33m\u001b[0m\u001b[0m\n\u001b[0;32m     36\u001b[0m         \"\"\"\n\u001b[1;32m---> 37\u001b[1;33m         \u001b[1;32mreturn\u001b[0m \u001b[0mself\u001b[0m\u001b[1;33m.\u001b[0m\u001b[0mitems\u001b[0m\u001b[1;33m.\u001b[0m\u001b[0mpop\u001b[0m\u001b[1;33m(\u001b[0m\u001b[1;36m0\u001b[0m\u001b[1;33m)\u001b[0m\u001b[1;33m\u001b[0m\u001b[1;33m\u001b[0m\u001b[0m\n\u001b[0m\u001b[0;32m     38\u001b[0m \u001b[1;33m\u001b[0m\u001b[0m\n\u001b[0;32m     39\u001b[0m     \u001b[1;32mdef\u001b[0m \u001b[0mremove_right\u001b[0m\u001b[1;33m(\u001b[0m\u001b[0mself\u001b[0m\u001b[1;33m)\u001b[0m\u001b[1;33m:\u001b[0m\u001b[1;33m\u001b[0m\u001b[1;33m\u001b[0m\u001b[0m\n",
      "\u001b[1;32m<ipython-input-989-348e97abd0ba>\u001b[0m in \u001b[0;36mpop\u001b[1;34m(self, pos)\u001b[0m\n\u001b[0;32m    158\u001b[0m         \u001b[0mn\u001b[0m\u001b[1;33m=\u001b[0m\u001b[0mself\u001b[0m\u001b[1;33m.\u001b[0m\u001b[0msize\u001b[0m\u001b[1;33m(\u001b[0m\u001b[1;33m)\u001b[0m\u001b[1;33m\u001b[0m\u001b[1;33m\u001b[0m\u001b[0m\n\u001b[0;32m    159\u001b[0m         \u001b[1;32mif\u001b[0m \u001b[0mpos\u001b[0m \u001b[1;33m+\u001b[0m \u001b[1;36m1\u001b[0m \u001b[1;33m>\u001b[0m \u001b[0mn\u001b[0m \u001b[1;32mor\u001b[0m \u001b[1;33m-\u001b[0m\u001b[0mpos\u001b[0m \u001b[1;33m>\u001b[0m \u001b[0mn\u001b[0m\u001b[1;33m:\u001b[0m\u001b[1;33m\u001b[0m\u001b[1;33m\u001b[0m\u001b[0m\n\u001b[1;32m--> 160\u001b[1;33m             \u001b[1;32mraise\u001b[0m \u001b[0mIndexError\u001b[0m\u001b[1;33m(\u001b[0m\u001b[1;34m\"Wyjście poza zekres\"\u001b[0m\u001b[1;33m)\u001b[0m\u001b[1;33m\u001b[0m\u001b[1;33m\u001b[0m\u001b[0m\n\u001b[0m\u001b[0;32m    161\u001b[0m \u001b[1;33m\u001b[0m\u001b[0m\n\u001b[0;32m    162\u001b[0m         \u001b[1;32mif\u001b[0m \u001b[0mpos\u001b[0m \u001b[1;33m>\u001b[0m \u001b[1;36m0\u001b[0m\u001b[1;33m:\u001b[0m\u001b[1;33m\u001b[0m\u001b[1;33m\u001b[0m\u001b[0m\n",
      "\u001b[1;31mIndexError\u001b[0m: Wyjście poza zekres"
     ]
    }
   ],
   "source": [
    "D.remove_left()"
   ]
  },
  {
   "cell_type": "code",
   "execution_count": 1046,
   "id": "49c872af",
   "metadata": {},
   "outputs": [
    {
     "ename": "IndexError",
     "evalue": "Wyjście poza zekres",
     "output_type": "error",
     "traceback": [
      "\u001b[1;31m---------------------------------------------------------------------------\u001b[0m",
      "\u001b[1;31mIndexError\u001b[0m                                Traceback (most recent call last)",
      "\u001b[1;32m<ipython-input-1046-a36f57180947>\u001b[0m in \u001b[0;36m<module>\u001b[1;34m\u001b[0m\n\u001b[1;32m----> 1\u001b[1;33m \u001b[0mD\u001b[0m\u001b[1;33m.\u001b[0m\u001b[0mremove_right\u001b[0m\u001b[1;33m(\u001b[0m\u001b[1;33m)\u001b[0m\u001b[1;33m\u001b[0m\u001b[1;33m\u001b[0m\u001b[0m\n\u001b[0m",
      "\u001b[1;32m<ipython-input-1028-47a4c3c3205c>\u001b[0m in \u001b[0;36mremove_right\u001b[1;34m(self)\u001b[0m\n\u001b[0;32m     44\u001b[0m         \u001b[0mW\u001b[0m \u001b[0mprzypadku\u001b[0m \u001b[0mpustej\u001b[0m \u001b[0mkolejku\u001b[0m \u001b[0mrzuca\u001b[0m \u001b[0mwyjątkiem\u001b[0m \u001b[0mIndexError\u001b[0m\u001b[1;33m\u001b[0m\u001b[1;33m\u001b[0m\u001b[0m\n\u001b[0;32m     45\u001b[0m         \"\"\"\n\u001b[1;32m---> 46\u001b[1;33m         \u001b[1;32mreturn\u001b[0m \u001b[0mself\u001b[0m\u001b[1;33m.\u001b[0m\u001b[0mitems\u001b[0m\u001b[1;33m.\u001b[0m\u001b[0mpop\u001b[0m\u001b[1;33m(\u001b[0m\u001b[1;33m)\u001b[0m\u001b[1;33m\u001b[0m\u001b[1;33m\u001b[0m\u001b[0m\n\u001b[0m\u001b[0;32m     47\u001b[0m \u001b[1;33m\u001b[0m\u001b[0m\n\u001b[0;32m     48\u001b[0m     \u001b[1;32mdef\u001b[0m \u001b[0msize\u001b[0m\u001b[1;33m(\u001b[0m\u001b[0mself\u001b[0m\u001b[1;33m)\u001b[0m\u001b[1;33m:\u001b[0m\u001b[1;33m\u001b[0m\u001b[1;33m\u001b[0m\u001b[0m\n",
      "\u001b[1;32m<ipython-input-989-348e97abd0ba>\u001b[0m in \u001b[0;36mpop\u001b[1;34m(self, pos)\u001b[0m\n\u001b[0;32m    158\u001b[0m         \u001b[0mn\u001b[0m\u001b[1;33m=\u001b[0m\u001b[0mself\u001b[0m\u001b[1;33m.\u001b[0m\u001b[0msize\u001b[0m\u001b[1;33m(\u001b[0m\u001b[1;33m)\u001b[0m\u001b[1;33m\u001b[0m\u001b[1;33m\u001b[0m\u001b[0m\n\u001b[0;32m    159\u001b[0m         \u001b[1;32mif\u001b[0m \u001b[0mpos\u001b[0m \u001b[1;33m+\u001b[0m \u001b[1;36m1\u001b[0m \u001b[1;33m>\u001b[0m \u001b[0mn\u001b[0m \u001b[1;32mor\u001b[0m \u001b[1;33m-\u001b[0m\u001b[0mpos\u001b[0m \u001b[1;33m>\u001b[0m \u001b[0mn\u001b[0m\u001b[1;33m:\u001b[0m\u001b[1;33m\u001b[0m\u001b[1;33m\u001b[0m\u001b[0m\n\u001b[1;32m--> 160\u001b[1;33m             \u001b[1;32mraise\u001b[0m \u001b[0mIndexError\u001b[0m\u001b[1;33m(\u001b[0m\u001b[1;34m\"Wyjście poza zekres\"\u001b[0m\u001b[1;33m)\u001b[0m\u001b[1;33m\u001b[0m\u001b[1;33m\u001b[0m\u001b[0m\n\u001b[0m\u001b[0;32m    161\u001b[0m \u001b[1;33m\u001b[0m\u001b[0m\n\u001b[0;32m    162\u001b[0m         \u001b[1;32mif\u001b[0m \u001b[0mpos\u001b[0m \u001b[1;33m>\u001b[0m \u001b[1;36m0\u001b[0m\u001b[1;33m:\u001b[0m\u001b[1;33m\u001b[0m\u001b[1;33m\u001b[0m\u001b[0m\n",
      "\u001b[1;31mIndexError\u001b[0m: Wyjście poza zekres"
     ]
    }
   ],
   "source": [
    "D.remove_right()"
   ]
  },
  {
   "cell_type": "code",
   "execution_count": null,
   "id": "21b8db35",
   "metadata": {},
   "outputs": [],
   "source": []
  }
 ],
 "metadata": {
  "kernelspec": {
   "display_name": "Python 3",
   "language": "python",
   "name": "python3"
  },
  "language_info": {
   "codemirror_mode": {
    "name": "ipython",
    "version": 3
   },
   "file_extension": ".py",
   "mimetype": "text/x-python",
   "name": "python",
   "nbconvert_exporter": "python",
   "pygments_lexer": "ipython3",
   "version": "3.9.5"
  }
 },
 "nbformat": 4,
 "nbformat_minor": 5
}
