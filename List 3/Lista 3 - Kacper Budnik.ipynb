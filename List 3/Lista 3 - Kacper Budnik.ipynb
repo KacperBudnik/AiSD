{
 "cells": [
  {
   "cell_type": "markdown",
   "metadata": {},
   "source": [
    "# Zadanie 1"
   ]
  },
  {
   "cell_type": "markdown",
   "metadata": {},
   "source": [
    "$$ P(n,k) = \\sum\\limits_{i=0}^k {n\\choose i} p^i{(1-p)}^{n-i}$$"
   ]
  },
  {
   "cell_type": "markdown",
   "metadata": {},
   "source": [
    "Możemy przekształcić w następujący sposób\n",
    "$$ P(n,k) = \\sum\\limits_{i=0}^k {n\\choose i} p^i{(1-p)}^{n-i} = \\sum\\limits_{i=0}^k {n\\choose i} p^i{(1-p)}^{-i}{(1-p)}^{n} = \\sum\\limits_{i=0}^k {n\\choose i} {\\left(\\frac{p}{1-p}\\right)}^i{(1-p)}^n.$$"
   ]
  },
  {
   "cell_type": "markdown",
   "metadata": {},
   "source": [
    "Ponieważ czynnik $(1-p)^n$ nie zależy od n możemy wyciągnąć go przed sumę otrzymując wyrażenie\n",
    "$$ P(n,k)={(1-p)}^n\\sum\\limits_{i=0}^k {n\\choose i} {\\left(\\frac{p}{1-p}\\right)}^i.$$"
   ]
  },
  {
   "cell_type": "markdown",
   "metadata": {},
   "source": [
    "By obliczyć czynnik przed sumą skorzystam z algorytmu _Exponentiation by squaring_ o złożoności algorytmicznej $o(\\log n)$."
   ]
  },
  {
   "cell_type": "markdown",
   "metadata": {},
   "source": [
    "By wyliczyć symbol newtona w kolejnych iteracjach przekształcam go w następujący sposób\n",
    "$$ {n\\choose i} = \\frac{n!}{(n-i)!i!} = n!\\frac{i+1}{(i+1)!}\\frac{1}{(n-i)(n-i-1)!} = \\frac{n!}{(n-(i+1))!(i+1)!}\\frac{i+1}{n-i} = {n\\choose i+1}\\frac{i+1}{n-i}.$$\n",
    "Jeśli porównamy skrajne wyrazy i pomnożymy obustronnie przez $\\frac{n-i}{i+1}$ otrzymamy\n",
    "$$ {n\\choose i+1} = {n\\choose i}\\cdot\\frac{n-1}{i+1}.$$"
   ]
  },
  {
   "cell_type": "code",
   "execution_count": 1,
   "metadata": {},
   "outputs": [],
   "source": [
    "def probability(n, k, p):\n",
    "    # w ciele funkcji umieść swój kod realizujący cel zadania;\n",
    "    # argument 'n' niech będzie liczbą prób;\n",
    "    # argument 'k' niech będzie maksymalną liczbą sukcesów;\n",
    "    # argument 'p' niech będzie prawdpodobieństwem sukcesu w pojedynczej próbie;\n",
    "    # w zmiennej 'prob' zwróć oczekiwane prawdopodobieństwo;\n",
    "    # w zmiennej 'count_mult' zwróć liczbę mnożeń, jaką wykonał Twój program;\n",
    "    # jeśli potrzebujesz, możesz dopisać również inne funkcje (pomocnicze), \n",
    "    # jednak główny cel zadania musi być realizowany w tej funkcji;\n",
    "    \n",
    "    prob=1 #(1-p)^n\n",
    "    count_mult=0 # liczba mnożeń\n",
    "    rev=1-p # zdażenie przeciwne\n",
    "    \n",
    "    for i in bin(n)[:1:-1]:\n",
    "        if i==\"1\":\n",
    "            prob*=rev\n",
    "            count_mult+=1\n",
    "        rev**=2\n",
    "        count_mult+=1\n",
    "        \n",
    "    prob_i=1 # prawdopodobieństwo w i-tym kroku (1 dla i==0)\n",
    "    prob_frac=p/(1-p)\n",
    "    count_mult+=1\n",
    "    prob_sum=0 # wynik sumy\n",
    "    newton=1 # n po 0\n",
    "    for i in range(k+1):\n",
    "        prob_sum += prob_i\n",
    "        prob_i = prob_i*prob_frac*((n-i)/(i+1))\n",
    "        count_mult+=3\n",
    "    \n",
    "    prob*=prob_sum\n",
    "        \n",
    "        \n",
    "    return (prob, count_mult)"
   ]
  },
  {
   "cell_type": "markdown",
   "metadata": {},
   "source": [
    "Łatwo można zauważyć, że funkcja wykonuje $3(k+1)+\\log(n)$ mnożeń (k+1 bo wykonujemy dla i==k oraz dla i==0)."
   ]
  },
  {
   "cell_type": "markdown",
   "metadata": {},
   "source": [
    "By zmniejszyć liczbę mnożeń możemy obliczać symbol newtona rekurencyjnie\n",
    "$${n\\choose k}={n-1\\choose k-1}+{n-1\\choose k},$$\n",
    "co daje nam $k$ mnożeń mniej, czyli $2(k+1)+log(n)$."
   ]
  },
  {
   "cell_type": "code",
   "execution_count": 2,
   "metadata": {},
   "outputs": [],
   "source": [
    "def probability_2k(n, k, p):\n",
    "    # w ciele funkcji umieść swój kod realizujący cel zadania;\n",
    "    # argument 'n' niech będzie liczbą prób;\n",
    "    # argument 'k' niech będzie maksymalną liczbą sukcesów;\n",
    "    # argument 'p' niech będzie prawdpodobieństwem sukcesu w pojedynczej próbie;\n",
    "    # w zmiennej 'prob' zwróć oczekiwane prawdopodobieństwo;\n",
    "    # w zmiennej 'count_mult' zwróć liczbę mnożeń, jaką wykonał Twój program;\n",
    "    # jeśli potrzebujesz, możesz dopisać również inne funkcje (pomocnicze), \n",
    "    # jednak główny cel zadania musi być realizowany w tej funkcji;\n",
    "    \n",
    "    prob=1\n",
    "    count_mult=0\n",
    "    rev=1-p\n",
    "    \n",
    "    for i in bin(n)[:1:-1]:\n",
    "        if i==\"1\":\n",
    "            prob*=rev\n",
    "            count_mult+=1\n",
    "#        print(i, prob)\n",
    "        rev**=2\n",
    "        count_mult+=1\n",
    "        \n",
    "    prob_frac_pow=p/(1-p)\n",
    "    count_mult+=1\n",
    "    prob_frac=1\n",
    "    prob_sum=0\n",
    "    for i in range(k+1):\n",
    "        prob_sum+=newton(i,n)*prob_frac\n",
    "        prob_frac*=prob_frac_pow\n",
    "        count_mult+=2\n",
    "    \n",
    "    prob*=prob_sum\n",
    "        \n",
    "        \n",
    "        \n",
    "\n",
    "    return (prob, count_mult)\n",
    "\n",
    "def newton(k,n):\n",
    "    if k==0 or k==n:\n",
    "        return 1\n",
    "    return newton(k-1,n-1) + newton(k, n-1)\n",
    "    "
   ]
  },
  {
   "cell_type": "markdown",
   "metadata": {},
   "source": [
    "Ponieważ celem zadania było napisać program z jak najmniejszą liczbą mnożenie (nie zależnie od czasu wykonania) możemy drastycznie zmniejszyć ich ilość poprzez zamiane mnożenia na dodawanie (zamiana na postać binarną).\n",
    "Ponieważ mnożenie liczb nie całkowitych w postaci binarnej jest skomplikowane zwiększyłem każdą liczbę o $10^{\\text{acc}}$, gdzie acc oznacza dokładność z jaką chcemy wyliczyć prawdopodobieństwo. Uzyskałem w ten sposób jedynie $k+7$ mnożeń."
   ]
  },
  {
   "cell_type": "code",
   "execution_count": 3,
   "metadata": {},
   "outputs": [],
   "source": [
    "def probability_k(n, k, p, acc=16):\n",
    "    # acc - dokładność do której liczby po przecinku (n jest odwrotnie proporcjonalne do acc)\n",
    "    \n",
    "    # w ciele funkcji umieść swój kod realizujący cel zadania;\n",
    "    # argument 'n' niech będzie liczbą prób;\n",
    "    # argument 'k' niech będzie maksymalną liczbą sukcesów;\n",
    "    # argument 'p' niech będzie prawdpodobieństwem sukcesu w pojedynczej próbie;\n",
    "    # w zmiennej 'prob' zwróć oczekiwane prawdopodobieństwo;\n",
    "    # w zmiennej 'count_mult' zwróć liczbę mnożeń, jaką wykonał Twój program;\n",
    "    # jeśli potrzebujesz, możesz dopisać również inne funkcje (pomocnicze), \n",
    "    # jednak główny cel zadania musi być realizowany w tej funkcji;\n",
    "    \n",
    "    if not 0<=p<=1:\n",
    "        return 0, 0\n",
    "    \n",
    "    prob=1\n",
    "    count_mult=0\n",
    "    prob_frac_pow=int((p/(1-p))*int(float(\"1e\"+str(acc))))\n",
    "    rev=int((1-p)*int(float(\"1e\"+str(acc))))\n",
    "    p = int(p*int(float(\"1e\"+str(acc))))\n",
    "    count_mult+=4\n",
    "    \n",
    "    for i in bin(n)[:1:-1]:\n",
    "        if i==\"1\":\n",
    "            prob=bin_mult(prob,rev)\n",
    "        rev=bin_mult(rev,rev)\n",
    "\n",
    "    prob = prob/float(\"1e\"+str(bin_mult(acc,n)))\n",
    "    count_mult+=1\n",
    "\n",
    "    \n",
    "    prob_frac=1\n",
    "    prob_sum=0\n",
    "    for i in range(k+1):\n",
    "        prob_sum+=bin_mult(newton(i,n),prob_frac)/float(\"1e\"+str(bin_mult(acc,i)))\n",
    "        count_mult+=1\n",
    "        prob_frac=bin_mult(prob_frac,prob_frac_pow)\n",
    "    \n",
    "    prob*=prob_sum\n",
    "    count_mult+=1\n",
    "        \n",
    "        \n",
    "        \n",
    "\n",
    "    return (prob, count_mult)\n",
    "\n",
    "def newton(k,n):\n",
    "    if k==0 or k==n:\n",
    "        return 1\n",
    "    return newton(k-1,n-1) + newton(k, n-1)\n",
    "\n",
    "def bin_mult(first_number,secound_number):\n",
    "    secound=bin(secound_number)\n",
    "    mult=0\n",
    "    res=bin(0)\n",
    "    \n",
    "    for i in bin(first_number)[:1:-1]:\n",
    "        if i==\"1\":\n",
    "            res=bin(int(res,2)+int(secound,2))\n",
    "        secound+=\"0\"\n",
    "    return int(res,2)"
   ]
  },
  {
   "cell_type": "markdown",
   "metadata": {},
   "source": [
    "W podobny sposób możemy się pozbyć mnożeń z `for` uzyskując $6$ mnożeń nie zależnie od współczynników $n,k,p$."
   ]
  },
  {
   "cell_type": "markdown",
   "metadata": {},
   "source": [
    "Tutaj jedynie $6$ mnożeń niezależnie od $k$ oraz $n$"
   ]
  },
  {
   "cell_type": "code",
   "execution_count": 4,
   "metadata": {},
   "outputs": [],
   "source": [
    "def probability_6_mult(n, k, p, acc=16):\n",
    "    # acc - dokładność do której liczby po przecinku (n jest odwrotnie proporcjonalne do acc)\n",
    "    \n",
    "    # w ciele funkcji umieść swój kod realizujący cel zadania;\n",
    "    # argument 'n' niech będzie liczbą prób;\n",
    "    # argument 'k' niech będzie maksymalną liczbą sukcesów;\n",
    "    # argument 'p' niech będzie prawdpodobieństwem sukcesu w pojedynczej próbie;\n",
    "    # w zmiennej 'prob' zwróć oczekiwane prawdopodobieństwo;\n",
    "    # w zmiennej 'count_mult' zwróć liczbę mnożeń, jaką wykonał Twój program;\n",
    "    # jeśli potrzebujesz, możesz dopisać również inne funkcje (pomocnicze), \n",
    "    # jednak główny cel zadania musi być realizowany w tej funkcji;\n",
    "    \n",
    "    if not 0<=p<=1:\n",
    "        return 0, 0\n",
    "    \n",
    "    prob=1\n",
    "    count_mult=0\n",
    "    prob_frac_pow=int((p/(1-p))*int(float(\"1e\"+str(acc))))\n",
    "    rev=int((1-p)*int(float(\"1e\"+str(acc))))\n",
    "    p = int(p*int(float(\"1e\"+str(acc))))\n",
    "    count_mult+=4\n",
    "    \n",
    "    for i in bin(n)[:1:-1]:\n",
    "        if i==\"1\":\n",
    "            prob=bin_mult(prob,rev)\n",
    "        rev=bin_mult(rev,rev)\n",
    "\n",
    "    prob = prob/float(\"1e\"+str(bin_mult(acc,n)))\n",
    "    count_mult+=1\n",
    "\n",
    "    \n",
    "    prob_frac=1\n",
    "    prob_sum=0\n",
    "    for i in range(k+1):\n",
    "        prob_sum+=bin_mult(bin_mult(newton(i,n),prob_frac),int(float(\"1e\"+str(bin_mult(acc,k-i)))))\n",
    "        #count_mult+=1\n",
    "        prob_frac=bin_mult(prob_frac,prob_frac_pow)\n",
    "    \n",
    "    prob*=prob_sum/float(\"1e\"+str(bin_mult(acc,k)))\n",
    "    count_mult+=1\n",
    "        \n",
    "        \n",
    "        \n",
    "\n",
    "    return (prob, count_mult)\n",
    "\n",
    "def newton(k,n):\n",
    "    if k==0 or k==n:\n",
    "        return 1\n",
    "    return newton(k-1,n-1) + newton(k, n-1)\n",
    "\n",
    "def bin_mult(first_number,secound_number):\n",
    "    secound=bin(secound_number)\n",
    "    mult=0\n",
    "    res=bin(0)\n",
    "    \n",
    "    for i in bin(first_number)[:1:-1]:\n",
    "        if i==\"1\":\n",
    "            res=bin(int(res,2)+int(secound,2))\n",
    "        secound+=\"0\"\n",
    "    return int(res,2)"
   ]
  },
  {
   "cell_type": "markdown",
   "metadata": {},
   "source": [
    "Dla $k=4$"
   ]
  },
  {
   "cell_type": "code",
   "execution_count": 5,
   "metadata": {},
   "outputs": [
    {
     "data": {
      "text/plain": [
       "(0.6315207144349049, 22)"
      ]
     },
     "execution_count": 5,
     "metadata": {},
     "output_type": "execute_result"
    }
   ],
   "source": [
    "probability(12,4,1/3)"
   ]
  },
  {
   "cell_type": "code",
   "execution_count": 6,
   "metadata": {},
   "outputs": [
    {
     "data": {
      "text/plain": [
       "(0.6315207144349049, 17)"
      ]
     },
     "execution_count": 6,
     "metadata": {},
     "output_type": "execute_result"
    }
   ],
   "source": [
    "probability_2k(12,4,1/3)"
   ]
  },
  {
   "cell_type": "code",
   "execution_count": 7,
   "metadata": {},
   "outputs": [
    {
     "data": {
      "text/plain": [
       "(0.6315207144349043, 11)"
      ]
     },
     "execution_count": 7,
     "metadata": {},
     "output_type": "execute_result"
    }
   ],
   "source": [
    "probability_k(12,4,1/3)"
   ]
  },
  {
   "cell_type": "code",
   "execution_count": 8,
   "metadata": {},
   "outputs": [
    {
     "data": {
      "text/plain": [
       "(0.6315207144349043, 6)"
      ]
     },
     "execution_count": 8,
     "metadata": {},
     "output_type": "execute_result"
    }
   ],
   "source": [
    "probability_6_mult(12,4,1/3)"
   ]
  },
  {
   "cell_type": "markdown",
   "metadata": {},
   "source": [
    "Dla $k=15$"
   ]
  },
  {
   "cell_type": "code",
   "execution_count": 9,
   "metadata": {},
   "outputs": [
    {
     "data": {
      "text/plain": [
       "(0.9999983248175608, 56)"
      ]
     },
     "execution_count": 9,
     "metadata": {},
     "output_type": "execute_result"
    }
   ],
   "source": [
    "probability(18,15,1/3)"
   ]
  },
  {
   "cell_type": "code",
   "execution_count": 10,
   "metadata": {},
   "outputs": [
    {
     "data": {
      "text/plain": [
       "(0.9999983248175612, 40)"
      ]
     },
     "execution_count": 10,
     "metadata": {},
     "output_type": "execute_result"
    }
   ],
   "source": [
    "probability_2k(18,15,1/3)"
   ]
  },
  {
   "cell_type": "code",
   "execution_count": 11,
   "metadata": {},
   "outputs": [
    {
     "data": {
      "text/plain": [
       "(0.99999832481756, 22)"
      ]
     },
     "execution_count": 11,
     "metadata": {},
     "output_type": "execute_result"
    }
   ],
   "source": [
    "probability_k(18,15,1/3)"
   ]
  },
  {
   "cell_type": "code",
   "execution_count": 12,
   "metadata": {},
   "outputs": [
    {
     "data": {
      "text/plain": [
       "(0.9999983248175599, 6)"
      ]
     },
     "execution_count": 12,
     "metadata": {},
     "output_type": "execute_result"
    }
   ],
   "source": [
    "probability_6_mult(18,15,1/3)"
   ]
  },
  {
   "cell_type": "markdown",
   "metadata": {},
   "source": [
    "Każdy kolejny program wykonuje dużo mniej mnożeń, ale czas wykonania jest znacznie dłuższy od poprzednika. W dodatku dwa ostatnie pragramy mają duże ograniczenia, przy dużych wartościach n oraz acc nie jest możliwe wykonanie ich (przykładowo dla $n\\ge20 \\text{  oraz  } acc\\ge16$"
   ]
  },
  {
   "cell_type": "markdown",
   "metadata": {},
   "source": [
    "# Zadanie 2"
   ]
  },
  {
   "cell_type": "markdown",
   "metadata": {},
   "source": [
    "W zadaniu drugim korzystamy z wyliczania wartości wielomianu przy pomocy schematu Hornera"
   ]
  },
  {
   "cell_type": "code",
   "execution_count": 13,
   "metadata": {},
   "outputs": [],
   "source": [
    "def ordinary_polynomial_value_calc(coeff, arg):\n",
    "    # w ciele tej funkcji zawrzyj kod wyliczający wartość wielomianu w tradycyjny sposób;\n",
    "    # argument 'coeff' niech będzie listą współczynników wielomianu w kolejności od stopnia zerowego (wyrazu wolego) wzwyż;\n",
    "    # argument 'arg' niech będzie punktem, w którym chcemy policzyć wartość wielomianu;\n",
    "    # w zmiennej 'count_mult' zwróć liczbę mnożeń, jakie zostału wykonane do uzyskania tego wyniku;\n",
    "    # w zmiennej 'count_add' zwróć liczbę dodawań, jakie zostału wykonane do uzyskania tego wyniku;\n",
    "    \n",
    "    value=0\n",
    "    count_add=0\n",
    "    count_mult=0\n",
    "    \n",
    "    for i in range(len(coeff)):\n",
    "        value+=arg**i*coeff[i]\n",
    "        count_mult+=i+1 # uznałem, że x**0 to nie jest mnożenie\n",
    "        count_add+=1\n",
    "        \n",
    "    return value, count_mult, count_add\n",
    "  \n",
    "def smart_polynomial_value_calc(coeff, arg):\n",
    "    # w ciele tej funkcji zawrzyj kod wyliczający wartość wielomianu w sposób maksymalnie ograniczający liczbę wykonywanych mnożeń;\n",
    "    # argument 'coeff' niech będzie listą współczynników wielomianu w kolejności od stopnia zerowego (wyrazu wolego) wzwyż;\n",
    "    # argument 'arg' niech będzie punktem, w którym chcemy policzyć wartość wielomianu;\n",
    "    # w zmiennej 'count_mult' zwróć liczbę mnożeń, jakie zostału wykonane do uzyskania tego wyniku;\n",
    "    # w zmiennej 'count_add' zwróć liczbę dodawań, jakie zostału wykonane do uzyskania tego wyniku;\n",
    "    \n",
    "    value=0\n",
    "    count_add=0\n",
    "    count_mult=0\n",
    "    value=coeff[-1]\n",
    "    \n",
    "    for i in coeff[-2::-1]:\n",
    "        value=i+value*arg\n",
    "        count_add+=1\n",
    "        count_mult+=1\n",
    "    \n",
    "    \n",
    "    return value, count_mult, count_add\n",
    "  \n",
    "  \n",
    "# jeśli potrzebujesz, możesz dopisać również inne funkcje (pomocnicze), \n",
    "# jednak główne cele zadania muszą być realizowane w powyższych dwóch funkcjach;"
   ]
  },
  {
   "cell_type": "markdown",
   "metadata": {},
   "source": [
    "# Zadanie 3"
   ]
  },
  {
   "cell_type": "code",
   "execution_count": 14,
   "metadata": {},
   "outputs": [],
   "source": [
    "def counting_chars_without_ifs(filename):\n",
    "    file_ref = open(filename, 'r')\n",
    "    text = file_ref.read().lower()\n",
    "    # uzupełnij ciało tej funkcji kodem realizującym cel zadania;\n",
    "    # w zmiennej 'char_count' zwróć słownik zawierający wszystkie znaki tekstu \n",
    "    # jako klucze i ich liczebnoć jako wartości np. {'a': 6, 'b': 2 ...};\n",
    "    # jeli potrzebujesz, możesz dopisać również inne funkcje (pomocnicze), \n",
    "    # jednak główny cel zadania musi być realizowany w tej funkcji;\n",
    "    \n",
    "    char_count=dict()\n",
    "    \n",
    "    for i in text:\n",
    "        while i not in char_count:\n",
    "            char_count[i]=0\n",
    "            break\n",
    "        char_count[i]+=1\n",
    "    for i in (' ','\\n'):\n",
    "        try:\n",
    "            char_count.pop(i)\n",
    "        except:\n",
    "            pass\n",
    "    \n",
    "    return char_count"
   ]
  },
  {
   "cell_type": "code",
   "execution_count": 15,
   "metadata": {},
   "outputs": [
    {
     "data": {
      "text/plain": [
       "{'h': 83,\n",
       " 'a': 74,\n",
       " 'p': 12,\n",
       " 'y': 23,\n",
       " 'f': 26,\n",
       " 'm': 21,\n",
       " 'i': 62,\n",
       " 'l': 34,\n",
       " 'e': 115,\n",
       " 's': 51,\n",
       " 'r': 48,\n",
       " 'k': 9,\n",
       " ';': 4,\n",
       " 'v': 12,\n",
       " 'u': 25,\n",
       " 'n': 79,\n",
       " 't': 74,\n",
       " 'o': 72,\n",
       " 'w': 21,\n",
       " '.': 7,\n",
       " 'g': 16,\n",
       " 'c': 16,\n",
       " 'b': 14,\n",
       " \"'\": 1,\n",
       " 'd': 39,\n",
       " ',': 10,\n",
       " 'q': 1,\n",
       " '-': 2,\n",
       " 'j': 1}"
      ]
     },
     "execution_count": 15,
     "metadata": {},
     "output_type": "execute_result"
    }
   ],
   "source": [
    "counting_chars_without_ifs(r\"D:\\GitHub\\AiSD\\List 3\\Nowy folder\\L3_ZAD3_sample_text.txt\")"
   ]
  },
  {
   "cell_type": "code",
   "execution_count": 16,
   "metadata": {},
   "outputs": [],
   "source": [
    "def counting_chars_without_ifs_with_pandas(filename):\n",
    "    file_ref = open(filename, 'r')\n",
    "    text = file_ref.read().lower()\n",
    "    import pandas as pd\n",
    "    di = dict(pd.Series(list(text)).value_counts())\n",
    "    for i in (' ','\\n'):\n",
    "        try:\n",
    "            di.pop(i)\n",
    "        except:\n",
    "            pass\n",
    "    return di"
   ]
  },
  {
   "cell_type": "code",
   "execution_count": 17,
   "metadata": {},
   "outputs": [
    {
     "data": {
      "text/plain": [
       "{'e': 115,\n",
       " 'h': 83,\n",
       " 'n': 79,\n",
       " 'a': 74,\n",
       " 't': 74,\n",
       " 'o': 72,\n",
       " 'i': 62,\n",
       " 's': 51,\n",
       " 'r': 48,\n",
       " 'd': 39,\n",
       " 'l': 34,\n",
       " 'f': 26,\n",
       " 'u': 25,\n",
       " 'y': 23,\n",
       " 'm': 21,\n",
       " 'w': 21,\n",
       " 'g': 16,\n",
       " 'c': 16,\n",
       " 'b': 14,\n",
       " 'v': 12,\n",
       " 'p': 12,\n",
       " ',': 10,\n",
       " 'k': 9,\n",
       " '.': 7,\n",
       " ';': 4,\n",
       " '-': 2,\n",
       " \"'\": 1,\n",
       " 'q': 1,\n",
       " 'j': 1}"
      ]
     },
     "execution_count": 17,
     "metadata": {},
     "output_type": "execute_result"
    }
   ],
   "source": [
    "counting_chars_without_ifs_with_pandas(r\"D:\\GitHub\\AiSD\\List 3\\Nowy folder\\L3_ZAD3_sample_text.txt\")"
   ]
  },
  {
   "cell_type": "code",
   "execution_count": 18,
   "metadata": {},
   "outputs": [],
   "source": [
    "def counting_chars_without_ifs_2(filename):\n",
    "    file_ref = open(filename, 'r')\n",
    "    text = file_ref.read().lower()\n",
    "    # uzupełnij ciało tej funkcji kodem realizującym cel zadania;\n",
    "    # w zmiennej 'char_count' zwróć słownik zawierający wszystkie znaki tekstu \n",
    "    # jako klucze i ich liczebnoć jako wartości np. {'a': 6, 'b': 2 ...};\n",
    "    # jeli potrzebujesz, możesz dopisać również inne funkcje (pomocnicze), \n",
    "    # jednak główny cel zadania musi być realizowany w tej funkcji;\n",
    "    \n",
    "    char_count=dict()\n",
    "    \n",
    "    keys=set(list(text))\n",
    "    for i in keys:\n",
    "        char_count[i]=sum(char == i for char in text)\n",
    "    \n",
    "    for i in (' ','\\n'):\n",
    "        try:\n",
    "            char_count.pop(i)\n",
    "        except:\n",
    "            pass\n",
    "    \n",
    "    return char_count"
   ]
  },
  {
   "cell_type": "code",
   "execution_count": 19,
   "metadata": {},
   "outputs": [
    {
     "data": {
      "text/plain": [
       "{',': 10,\n",
       " ';': 4,\n",
       " 'h': 83,\n",
       " 'u': 25,\n",
       " 'j': 1,\n",
       " 'd': 39,\n",
       " 't': 74,\n",
       " \"'\": 1,\n",
       " 'f': 26,\n",
       " 'q': 1,\n",
       " 'r': 48,\n",
       " 's': 51,\n",
       " 'o': 72,\n",
       " 'w': 21,\n",
       " 'm': 21,\n",
       " 'a': 74,\n",
       " 'e': 115,\n",
       " 'g': 16,\n",
       " 'p': 12,\n",
       " '-': 2,\n",
       " 'k': 9,\n",
       " 'l': 34,\n",
       " '.': 7,\n",
       " 'v': 12,\n",
       " 'y': 23,\n",
       " 'i': 62,\n",
       " 'n': 79,\n",
       " 'b': 14,\n",
       " 'c': 16}"
      ]
     },
     "execution_count": 19,
     "metadata": {},
     "output_type": "execute_result"
    }
   ],
   "source": [
    "counting_chars_without_ifs_2(r\"D:\\GitHub\\AiSD\\List 3\\Nowy folder\\L3_ZAD3_sample_text.txt\")"
   ]
  },
  {
   "cell_type": "code",
   "execution_count": 21,
   "metadata": {},
   "outputs": [],
   "source": [
    "def probability_no_mult_bin(n, k, p, acc=64):\n",
    "    # acc - dokładność do której liczby po przecinku (n jest odwrotnie proporcjonalne do acc)\n",
    "    \n",
    "    # w ciele funkcji umieść swój kod realizujący cel zadania;\n",
    "    # argument 'n' niech będzie liczbą prób;\n",
    "    # argument 'k' niech będzie maksymalną liczbą sukcesów;\n",
    "    # argument 'p' niech będzie prawdpodobieństwem sukcesu w pojedynczej próbie;\n",
    "    # w zmiennej 'prob' zwróć oczekiwane prawdopodobieństwo;\n",
    "    # w zmiennej 'count_mult' zwróć liczbę mnożeń, jaką wykonał Twój program;\n",
    "    # jeśli potrzebujesz, możesz dopisać również inne funkcje (pomocnicze), \n",
    "    # jednak główny cel zadania musi być realizowany w tej funkcji;\n",
    "    \n",
    "    if not 0<=p<=1:\n",
    "        return 0, 0\n",
    "    \n",
    "    prob=1\n",
    "    count_mult=0\n",
    "    prob_frac_pow=int((p/(1-p))*bin_pow(acc))\n",
    "    rev=int((1-p)*bin_pow(acc))\n",
    "    p = int(p*bin_pow(acc))\n",
    "    count_mult+=4\n",
    "    \n",
    "    for i in bin(n)[:1:-1]:\n",
    "        if i==\"1\":\n",
    "            prob=bin_mult(prob,rev)\n",
    "        rev=bin_mult(rev,rev)\n",
    "\n",
    "    prob = prob/bin_pow(bin_mult(acc,n))\n",
    "    print(prob)\n",
    "    count_mult+=1\n",
    "\n",
    "    \n",
    "    prob_frac=1\n",
    "    prob_sum=0\n",
    "    for i in range(k+1):\n",
    "        #prob_sum+=bin_mult(newton(i,n),prob_frac)/float(\"1e\"+str(bin_mult(acc,i)))\n",
    "        prob_sum+=bin_mult(bin_mult(newton(i,n),prob_frac),bin_pow(k-i))\n",
    "        count_mult+=1\n",
    "        prob_frac=bin_mult(prob_frac,prob_frac_pow)\n",
    "    \n",
    "    prob*=prob_sum/float(\"1e\"+str(bin_mult(acc,k)))\n",
    "    count_mult+=1\n",
    "        \n",
    "        \n",
    "        \n",
    "\n",
    "    return (prob, count_mult)\n",
    "\n",
    "def newton(k,n):\n",
    "    if k==0 or k==n:\n",
    "        return 1\n",
    "    return newton(k-1,n-1) + newton(k, n-1)\n",
    "\n",
    "def bin_mult(first_number,secound_number):\n",
    "    secound=bin(secound_number)\n",
    "    mult=0\n",
    "    res=bin(0)\n",
    "    \n",
    "    for i in bin(first_number)[:1:-1]:\n",
    "        if i==\"1\":\n",
    "            res=bin(int(res,2)+int(secound,2))\n",
    "        secound+=\"0\"\n",
    "    return int(res,2)\n",
    "\n",
    "def bin_pow(power):\n",
    "    res=1\n",
    "    for i in range(power):\n",
    "        res=bin_mult(res,2)\n",
    "    return res\n",
    "\n",
    "\n",
    "\n",
    "\n",
    "\n",
    "\n",
    "\n",
    "\n",
    "\n",
    "\n",
    "\n",
    "\n",
    "def probability_check(n,k,p):\n",
    "    prob=0\n",
    "    for i in range(k+1):\n",
    "        prob+=newton(i,n)*(p**i)*((1-p)**(n-i))\n",
    "    return prob\n",
    "\n",
    "\n",
    "\n",
    "\n",
    "\n",
    "\n",
    "\n",
    "\n",
    "\n",
    "\n",
    "\n",
    "\n",
    "import struct\n",
    "def binary(num):\n",
    "    return ''.join('{:0>8b}'.format(c) for c in struct.pack('!f', num))"
   ]
  }
 ],
 "metadata": {
  "kernelspec": {
   "display_name": "Python 3",
   "language": "python",
   "name": "python3"
  },
  "language_info": {
   "codemirror_mode": {
    "name": "ipython",
    "version": 3
   },
   "file_extension": ".py",
   "mimetype": "text/x-python",
   "name": "python",
   "nbconvert_exporter": "python",
   "pygments_lexer": "ipython3",
   "version": "3.9.5"
  }
 },
 "nbformat": 4,
 "nbformat_minor": 4
}
