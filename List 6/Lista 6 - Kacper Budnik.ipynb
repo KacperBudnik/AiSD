{
 "cells": [
  {
   "cell_type": "markdown",
   "metadata": {},
   "source": [
    "https://github.com/KacperBudnik/AiSD"
   ]
  },
  {
   "cell_type": "markdown",
   "metadata": {},
   "source": [
    "# Zad 1"
   ]
  },
  {
   "cell_type": "code",
   "execution_count": 762,
   "metadata": {},
   "outputs": [],
   "source": [
    "# Z wykładu\n",
    "class BinaryTree:\n",
    "    def __init__(self,*items):\n",
    "        #print(items)\n",
    "        if type(items[0]) in (list, tuple): # jeśli podany jest kontener to wykonuje dla każdego elementu z osobna\n",
    "            temp=BinaryTree(items[0][0])\n",
    "            self.key=temp.key\n",
    "            self.right=temp.right\n",
    "            self.left=temp.left\n",
    "            self.add(items[0][1:])\n",
    "            #self.add(items[1:])\n",
    "        elif type(items[0]) in (set, dict):\n",
    "            item=list(items[0])\n",
    "            #print(\"\\t\\t\",item[0],\"\\t\",item[1:])\n",
    "            temp=BinaryTree(item[0])\n",
    "            self.key=temp.key\n",
    "            self.right=temp.right\n",
    "            self.left=temp.left\n",
    "            self.add(item[1:])\n",
    "            #self.add(items[1:])\n",
    "        else:\n",
    "            self.key = items[0]\n",
    "            self.left = None\n",
    "            self.right = None\n",
    "            #self.add(items[1:])\n",
    "        #self.left = None\n",
    "        #self.right = None\n",
    "        self.add(items[1:])\n",
    "        \n",
    "    def __insertLeft(self,newNode):\n",
    "        if self.left == None:\n",
    "            self.left = BinaryTree(newNode)\n",
    "        else:\n",
    "            temp = BinaryTree(newNode)\n",
    "            temp.left = self.left\n",
    "            self.left = temp\n",
    "            \n",
    "    def __insertRight(self,newNode):\n",
    "        if self.right == None:\n",
    "            self.right = BinaryTree(newNode)\n",
    "        else:\n",
    "            temp = BinaryTree(newNode)\n",
    "            temp.right = self.right\n",
    "            self.right = temp     \n",
    "            \n",
    "    def __getRightChild(self):\n",
    "        return self.right\n",
    "\n",
    "    def __getLeftChild(self):\n",
    "        return self.left\n",
    "\n",
    "    def __setRootVal(self,obj):\n",
    "        self.key = obj\n",
    "\n",
    "    def getRootVal(self):\n",
    "        return self.key    \n",
    "    \n",
    "############ Własne ##############\n",
    "    \n",
    "    def __repr__(self): # jakaś prezentacja wyników\n",
    "        return str(self.key)+\"->\"+str([self.left,self.right])\n",
    "                \n",
    "    def add(self, *items):\n",
    "        for item in items:\n",
    "            if type(item) in (list, tuple,set,dict): # jeśli podany jest kontener to wykonuje dla każdego elementu z osobna\n",
    "                self.add(*item) # dla słownika dodaję kluczę\n",
    "            else:\n",
    "                if item < self.key: # równe na prawo (jako większe)\n",
    "                    if self.left == None:\n",
    "                        self.left = BinaryTree(item)\n",
    "                    else:\n",
    "                        self.left.add(item)\n",
    "                else:\n",
    "                    if self.right == None:\n",
    "                        self.right = BinaryTree(item)\n",
    "                    else:\n",
    "                        self.right.add(item)\n",
    "    \n",
    "    def __add__(self, item):\n",
    "        temp=self.copy()\n",
    "        temp.add(item)\n",
    "        return temp\n",
    "    \n",
    "    def __sub__(self,item):\n",
    "        return self+(-item)\n",
    "    \n",
    "    def copy(self):\n",
    "        temp=BinaryTree(self.key)\n",
    "        if self.left!=None:\n",
    "            temp.left=self.left.copy()\n",
    "            \n",
    "        if self.right!=None:\n",
    "            temp.right=self.right.copy()\n",
    "\n",
    "        return temp\n",
    "    \n",
    "    def __contains__(self, item):\n",
    "        if self.key < item:\n",
    "            if self.right != None:\n",
    "                return item in self.right\n",
    "            else:\n",
    "                return False\n",
    "        elif self.key > item:\n",
    "            if self.left != None:\n",
    "                return item in self.left\n",
    "            else:\n",
    "                return False\n",
    "        return True\n",
    "    \n",
    "    def __len__(self):\n",
    "        return 1 + len(self.right if self.right != None else []) + len(self.left if self.left != None else [])\n",
    "    \n",
    "    def find_min(self): # zwraca najmniejszy\n",
    "        if self.left != None:\n",
    "            return self.left.find_min()\n",
    "        elif self.right != None:\n",
    "            return self.right.find_min()\n",
    "        return self.key\n",
    "    \n",
    "    def find_max(self): # zwraca największy\n",
    "        if self.right != None:\n",
    "            return self.right.find_max()\n",
    "        elif self.left != None:\n",
    "            return self.left.find_max()\n",
    "        return self.key\n",
    "    \n",
    "    def to_list(self): # zwraca _Posortowaną_ listę elementów\n",
    "        lst=[]\n",
    "        \n",
    "        if self.left!= None:\n",
    "            lst.extend(self.left.to_list())\n",
    "            \n",
    "        lst.append(self.key)\n",
    "        \n",
    "        if self.right!= None:\n",
    "            lst.extend(self.right.to_list())\n",
    "            \n",
    "        return lst\n",
    "    \n",
    "    def __iter__(self):\n",
    "        return BinaryTreeIterator(self)\n",
    "    \n",
    "    \n",
    "class BinaryTreeIterator: # Do iterowania zadanego drzewa\n",
    "    def __init__(self, tree:BinaryTree):\n",
    "        self.val=tree.to_list()\n",
    "        self.index=-1\n",
    "        self.max=len(self.val)\n",
    "        \n",
    "    def __next__(self):\n",
    "        self.index+=1\n",
    "        if self.index<self.max:\n",
    "            return self.val[self.index]\n",
    "        raise StopIteration"
   ]
  },
  {
   "cell_type": "code",
   "execution_count": 741,
   "metadata": {},
   "outputs": [],
   "source": [
    "a = BinaryTree([[23,-15]])"
   ]
  },
  {
   "cell_type": "code",
   "execution_count": 721,
   "metadata": {},
   "outputs": [
    {
     "data": {
      "text/plain": [
       "23->[-15->[None, None], None]"
      ]
     },
     "execution_count": 721,
     "metadata": {},
     "output_type": "execute_result"
    }
   ],
   "source": [
    "a"
   ]
  },
  {
   "cell_type": "code",
   "execution_count": 722,
   "metadata": {},
   "outputs": [],
   "source": [
    "a = BinaryTree([{0,-1,32,2},{100},23,23],1,2,-2,[23],{-50})"
   ]
  },
  {
   "cell_type": "code",
   "execution_count": 723,
   "metadata": {},
   "outputs": [
    {
     "data": {
      "text/plain": [
       "0->[-1->[-2->[-50->[None, None], None], None], 32->[2->[1->[None, None], 23->[2->[None, None], 23->[None, 23->[None, None]]]], 100->[None, None]]]"
      ]
     },
     "execution_count": 723,
     "metadata": {},
     "output_type": "execute_result"
    }
   ],
   "source": [
    "a"
   ]
  },
  {
   "cell_type": "code",
   "execution_count": 700,
   "metadata": {},
   "outputs": [],
   "source": [
    "a=BinaryTree([[([{0,0,0,0,0},23],3),5,6,7,8],-12,3,4,5],20,{2,3,4})"
   ]
  },
  {
   "cell_type": "code",
   "execution_count": 701,
   "metadata": {},
   "outputs": [
    {
     "data": {
      "text/plain": [
       "0->[-12->[None, None], 23->[3->[2->[None, None], 5->[3->[None, 4->[3->[None, None], 4->[None, None]]], 6->[5->[None, None], 7->[None, 8->[None, 20->[None, None]]]]]], None]]"
      ]
     },
     "execution_count": 701,
     "metadata": {},
     "output_type": "execute_result"
    }
   ],
   "source": [
    "a"
   ]
  },
  {
   "cell_type": "code",
   "execution_count": 647,
   "metadata": {},
   "outputs": [],
   "source": [
    "a=BinaryTree(1,2)"
   ]
  },
  {
   "cell_type": "code",
   "execution_count": 648,
   "metadata": {},
   "outputs": [
    {
     "data": {
      "text/plain": [
       "1->[None, 2->[None, None]]"
      ]
     },
     "execution_count": 648,
     "metadata": {},
     "output_type": "execute_result"
    }
   ],
   "source": [
    "a"
   ]
  },
  {
   "cell_type": "code",
   "execution_count": 649,
   "metadata": {},
   "outputs": [],
   "source": [
    "a.add(-12)"
   ]
  },
  {
   "cell_type": "code",
   "execution_count": 650,
   "metadata": {},
   "outputs": [
    {
     "data": {
      "text/plain": [
       "1->[-12->[None, None], 2->[None, None]]"
      ]
     },
     "execution_count": 650,
     "metadata": {},
     "output_type": "execute_result"
    }
   ],
   "source": [
    "a"
   ]
  },
  {
   "cell_type": "code",
   "execution_count": 651,
   "metadata": {},
   "outputs": [],
   "source": [
    "a=BinaryTree(1,2)"
   ]
  },
  {
   "cell_type": "code",
   "execution_count": 652,
   "metadata": {},
   "outputs": [
    {
     "name": "stdout",
     "output_type": "stream",
     "text": [
      "1->[0->[None, None], 2->[None, None]]\n"
     ]
    }
   ],
   "source": [
    "print(a+0)"
   ]
  },
  {
   "cell_type": "code",
   "execution_count": 653,
   "metadata": {},
   "outputs": [
    {
     "data": {
      "text/plain": [
       "1->[None, 2->[None, None]]"
      ]
     },
     "execution_count": 653,
     "metadata": {},
     "output_type": "execute_result"
    }
   ],
   "source": [
    "a"
   ]
  },
  {
   "cell_type": "code",
   "execution_count": 654,
   "metadata": {},
   "outputs": [],
   "source": [
    "b=a+0"
   ]
  },
  {
   "cell_type": "code",
   "execution_count": 655,
   "metadata": {},
   "outputs": [
    {
     "data": {
      "text/plain": [
       "1->[0->[None, None], 2->[None, None]]"
      ]
     },
     "execution_count": 655,
     "metadata": {},
     "output_type": "execute_result"
    }
   ],
   "source": [
    "b"
   ]
  },
  {
   "cell_type": "code",
   "execution_count": 656,
   "metadata": {},
   "outputs": [
    {
     "data": {
      "text/plain": [
       "1->[None, 2->[None, None]]"
      ]
     },
     "execution_count": 656,
     "metadata": {},
     "output_type": "execute_result"
    }
   ],
   "source": [
    "a"
   ]
  },
  {
   "cell_type": "code",
   "execution_count": 657,
   "metadata": {},
   "outputs": [],
   "source": [
    "b-=3"
   ]
  },
  {
   "cell_type": "code",
   "execution_count": 658,
   "metadata": {},
   "outputs": [
    {
     "data": {
      "text/plain": [
       "1->[0->[-3->[None, None], None], 2->[None, None]]"
      ]
     },
     "execution_count": 658,
     "metadata": {},
     "output_type": "execute_result"
    }
   ],
   "source": [
    "b"
   ]
  },
  {
   "cell_type": "code",
   "execution_count": 659,
   "metadata": {},
   "outputs": [
    {
     "data": {
      "text/plain": [
       "1->[None, 2->[None, None]]"
      ]
     },
     "execution_count": 659,
     "metadata": {},
     "output_type": "execute_result"
    }
   ],
   "source": [
    "a"
   ]
  },
  {
   "cell_type": "code",
   "execution_count": 660,
   "metadata": {},
   "outputs": [
    {
     "data": {
      "text/plain": [
       "True"
      ]
     },
     "execution_count": 660,
     "metadata": {},
     "output_type": "execute_result"
    }
   ],
   "source": [
    "1 in a"
   ]
  },
  {
   "cell_type": "code",
   "execution_count": 661,
   "metadata": {},
   "outputs": [
    {
     "data": {
      "text/plain": [
       "False"
      ]
     },
     "execution_count": 661,
     "metadata": {},
     "output_type": "execute_result"
    }
   ],
   "source": [
    "12 in a"
   ]
  },
  {
   "cell_type": "code",
   "execution_count": 662,
   "metadata": {},
   "outputs": [
    {
     "data": {
      "text/plain": [
       "2"
      ]
     },
     "execution_count": 662,
     "metadata": {},
     "output_type": "execute_result"
    }
   ],
   "source": [
    "len(a)"
   ]
  },
  {
   "cell_type": "code",
   "execution_count": 663,
   "metadata": {},
   "outputs": [
    {
     "data": {
      "text/plain": [
       "4"
      ]
     },
     "execution_count": 663,
     "metadata": {},
     "output_type": "execute_result"
    }
   ],
   "source": [
    "len(b)"
   ]
  },
  {
   "cell_type": "code",
   "execution_count": 664,
   "metadata": {},
   "outputs": [
    {
     "data": {
      "text/plain": [
       "1->[0->[-3->[None, None], None], 2->[None, None]]"
      ]
     },
     "execution_count": 664,
     "metadata": {},
     "output_type": "execute_result"
    }
   ],
   "source": [
    "b"
   ]
  },
  {
   "cell_type": "code",
   "execution_count": 665,
   "metadata": {},
   "outputs": [
    {
     "data": {
      "text/plain": [
       "6"
      ]
     },
     "execution_count": 665,
     "metadata": {},
     "output_type": "execute_result"
    }
   ],
   "source": [
    "len(b+2+3)"
   ]
  },
  {
   "cell_type": "code",
   "execution_count": 666,
   "metadata": {},
   "outputs": [
    {
     "data": {
      "text/plain": [
       "-3"
      ]
     },
     "execution_count": 666,
     "metadata": {},
     "output_type": "execute_result"
    }
   ],
   "source": [
    "b.find_min()"
   ]
  },
  {
   "cell_type": "code",
   "execution_count": 667,
   "metadata": {},
   "outputs": [
    {
     "data": {
      "text/plain": [
       "2"
      ]
     },
     "execution_count": 667,
     "metadata": {},
     "output_type": "execute_result"
    }
   ],
   "source": [
    "b.find_max()"
   ]
  },
  {
   "cell_type": "code",
   "execution_count": 668,
   "metadata": {},
   "outputs": [
    {
     "data": {
      "text/plain": [
       "12"
      ]
     },
     "execution_count": 668,
     "metadata": {},
     "output_type": "execute_result"
    }
   ],
   "source": [
    "(b+12).find_max()"
   ]
  },
  {
   "cell_type": "code",
   "execution_count": 669,
   "metadata": {},
   "outputs": [
    {
     "data": {
      "text/plain": [
       "-12"
      ]
     },
     "execution_count": 669,
     "metadata": {},
     "output_type": "execute_result"
    }
   ],
   "source": [
    "(b-12).find_min()"
   ]
  },
  {
   "cell_type": "code",
   "execution_count": 763,
   "metadata": {},
   "outputs": [],
   "source": [
    "b=BinaryTree(1,2,23,23,2,31,3,12,3,123,3)"
   ]
  },
  {
   "cell_type": "code",
   "execution_count": 764,
   "metadata": {},
   "outputs": [],
   "source": [
    "b+=[1,2,3,-5,23,-54,-1.2,32,4,4,7,7,6,5,4,3,-123,3-4,-34,2-2,4-5,5,-5,-3-23,-5]"
   ]
  },
  {
   "cell_type": "code",
   "execution_count": 765,
   "metadata": {},
   "outputs": [
    {
     "data": {
      "text/plain": [
       "1->[-5->[-54->[-123->[None, None], -34->[None, -26->[None, None]]], -1.2->[-5->[None, -5->[None, None]], -1->[None, 0->[-1->[None, None], None]]]], 2->[1->[None, None], 23->[2->[None, 3->[2->[None, None], 12->[3->[None, 3->[None, 3->[None, 4->[3->[None, None], 4->[None, 7->[6->[5->[4->[None, None], 5->[None, None]], None], 7->[None, None]]]]]]], None]]], 23->[None, 31->[23->[None, None], 123->[32->[None, None], None]]]]]]"
      ]
     },
     "execution_count": 765,
     "metadata": {},
     "output_type": "execute_result"
    }
   ],
   "source": [
    "b"
   ]
  },
  {
   "cell_type": "code",
   "execution_count": 766,
   "metadata": {},
   "outputs": [
    {
     "data": {
      "text/plain": [
       "[-123,\n",
       " -54,\n",
       " -34,\n",
       " -26,\n",
       " -5,\n",
       " -5,\n",
       " -5,\n",
       " -1.2,\n",
       " -1,\n",
       " -1,\n",
       " 0,\n",
       " 1,\n",
       " 1,\n",
       " 2,\n",
       " 2,\n",
       " 2,\n",
       " 3,\n",
       " 3,\n",
       " 3,\n",
       " 3,\n",
       " 3,\n",
       " 4,\n",
       " 4,\n",
       " 4,\n",
       " 5,\n",
       " 5,\n",
       " 6,\n",
       " 7,\n",
       " 7,\n",
       " 12,\n",
       " 23,\n",
       " 23,\n",
       " 23,\n",
       " 31,\n",
       " 32,\n",
       " 123]"
      ]
     },
     "execution_count": 766,
     "metadata": {},
     "output_type": "execute_result"
    }
   ],
   "source": [
    "b.to_list()"
   ]
  },
  {
   "cell_type": "code",
   "execution_count": 767,
   "metadata": {},
   "outputs": [
    {
     "data": {
      "text/plain": [
       "36"
      ]
     },
     "execution_count": 767,
     "metadata": {},
     "output_type": "execute_result"
    }
   ],
   "source": [
    "len(b)"
   ]
  },
  {
   "cell_type": "code",
   "execution_count": 768,
   "metadata": {},
   "outputs": [
    {
     "data": {
      "text/plain": [
       "36"
      ]
     },
     "execution_count": 768,
     "metadata": {},
     "output_type": "execute_result"
    }
   ],
   "source": [
    "len(b.to_list())"
   ]
  },
  {
   "cell_type": "code",
   "execution_count": 769,
   "metadata": {},
   "outputs": [
    {
     "data": {
      "text/plain": [
       "True"
      ]
     },
     "execution_count": 769,
     "metadata": {},
     "output_type": "execute_result"
    }
   ],
   "source": [
    "all(b.to_list()[i] in b for i in range(len(b)))"
   ]
  },
  {
   "cell_type": "code",
   "execution_count": 770,
   "metadata": {},
   "outputs": [
    {
     "name": "stdout",
     "output_type": "stream",
     "text": [
      "-123\n",
      "-54\n",
      "-34\n",
      "-26\n",
      "-5\n",
      "-5\n",
      "-5\n",
      "-1.2\n",
      "-1\n",
      "-1\n",
      "0\n",
      "1\n",
      "1\n",
      "2\n",
      "2\n",
      "2\n",
      "3\n",
      "3\n",
      "3\n",
      "3\n",
      "3\n",
      "4\n",
      "4\n",
      "4\n",
      "5\n",
      "5\n",
      "6\n",
      "7\n",
      "7\n",
      "12\n",
      "23\n",
      "23\n",
      "23\n",
      "31\n",
      "32\n",
      "123\n"
     ]
    }
   ],
   "source": [
    "for i in b:\n",
    "    print(i)"
   ]
  },
  {
   "cell_type": "code",
   "execution_count": 771,
   "metadata": {},
   "outputs": [
    {
     "data": {
      "text/plain": [
       "True"
      ]
     },
     "execution_count": 771,
     "metadata": {},
     "output_type": "execute_result"
    }
   ],
   "source": [
    "all(i in b.to_list() for i in b)"
   ]
  },
  {
   "cell_type": "code",
   "execution_count": null,
   "metadata": {},
   "outputs": [],
   "source": []
  }
 ],
 "metadata": {
  "@webio": {
   "lastCommId": null,
   "lastKernelId": null
  },
  "kernelspec": {
   "display_name": "Python 3",
   "language": "python",
   "name": "python3"
  },
  "language_info": {
   "codemirror_mode": {
    "name": "ipython",
    "version": 3
   },
   "file_extension": ".py",
   "mimetype": "text/x-python",
   "name": "python",
   "nbconvert_exporter": "python",
   "pygments_lexer": "ipython3",
   "version": "3.8.5"
  }
 },
 "nbformat": 4,
 "nbformat_minor": 4
}
