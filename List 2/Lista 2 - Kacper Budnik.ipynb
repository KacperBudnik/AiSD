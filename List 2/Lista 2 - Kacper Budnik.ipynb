{
 "cells": [
  {
   "cell_type": "markdown",
   "metadata": {},
   "source": [
    "# Zadanie 1"
   ]
  },
  {
   "cell_type": "markdown",
   "metadata": {},
   "source": [
    "### Grupa 1\n",
    "<center>$ f_1(n) = n^{0.999999}\\log n $</center>\n",
    "<center>$ f_2(n) = 10000000n $</center>\n",
    "<center>$ f_3(n) = 1.000001^n $</center>\n",
    "<center>$ f_4(n) = n^2 $</center>"
   ]
  },
  {
   "cell_type": "markdown",
   "metadata": {},
   "source": [
    "Twierdzę, że\n",
    "<center>$ f_1\\preccurlyeq f_2\\preccurlyeq f_4 \\preccurlyeq f_3$</center>"
   ]
  },
  {
   "cell_type": "markdown",
   "metadata": {},
   "source": [
    "D-d\n",
    "\n",
    "### $f_1\\preccurlyeq f_2$\n",
    "\n",
    "$ \\lim\\limits_{n\\to\\infty} \\frac{f_1(n)}{f_2(n)} = \\lim\\limits_{n\\to\\infty} \\frac{n^{0.999999}\\log n}{10000000n} = \\lim\\limits_{n\\to\\infty} \\frac{ n*n^{-10^6}\\log n}{10^7n} = \\lim\\limits_{n\\to\\infty} \\frac{1}{10^7} \\frac{\\ln n}{n^{10^{-6}}} \\overset{H}{=} \\lim\\limits_{n\\to\\infty} \\frac{1}{10} \\frac{\\frac{1}{n}}{n^{10^{-6}-1}}= \\frac{1}{10} \\lim\\limits_{n\\to\\infty} \\frac{1}{n^{10^{-6}}}=0 $\n",
    "\n",
    "\n",
    "### $f_2\\preccurlyeq f_4$\n",
    "\n",
    "$ \\lim\\limits_{n\\to\\infty} \\frac{f_2(n)}{f_4(n)} =  \\lim\\limits_{n\\to\\infty} \\frac{10^7n}{n^2} \\overset{H}{=} \\lim\\limits_{n\\to\\infty} \\frac{10^7}{2n} = 0$\n",
    "\n",
    "### $f_4\\preccurlyeq f_3$\n",
    "\n",
    "$ \\lim\\limits_{n\\to\\infty} \\frac{f_4(n)}{f_3(n)} = \\lim\\limits_{n\\to\\infty} \\frac{n^2}{1.000001^n} \\overset{H}{=} \\lim\\limits_{n\\to\\infty} \\frac{2n}{1.000001^n\\ln(1.000001)} \\overset{H}{=} \\lim\\limits_{n\\to\\infty} \\frac{2}{1.000001^n\\ln^2(1.000001)} = 0$"
   ]
  },
  {
   "cell_type": "markdown",
   "metadata": {},
   "source": [
    "### Grupa 2\n",
    "<center>$ f_1(n) = 2^{100n} $</center>\n",
    "<center>$ f_2(n) = {n\\choose2} $</center>\n",
    "<center>$ f_3(n) = n\\sqrt n$</center>"
   ]
  },
  {
   "cell_type": "markdown",
   "metadata": {},
   "source": [
    "Twierdzę, że\n",
    "<center>$ f_3\\preccurlyeq f_2 \\preccurlyeq f_1$</center>"
   ]
  },
  {
   "cell_type": "markdown",
   "metadata": {},
   "source": [
    "### $ f_3\\preccurlyeq f_1 $\n",
    "\n",
    "\\begin{proof}\n",
    "$ \\lim\\limits_{n\\to\\infty} \\frac{f_3(n)}{f_2(n)} = \\lim\\limits_{n\\to\\infty} \\frac{n\\sqrt n}{{n\\choose2}} = \\lim\\limits_{n\\to\\infty} \\frac{n\\sqrt n}{\\frac{n!}{2!(n-2)!}} = \\lim\\limits_{n\\to\\infty} \\frac{n\\sqrt n}{n(n-1)} \\overset{H}{=} \\lim\\limits_{n\\to\\infty} \\frac{3\\sqrt n}{2n - 1} \\overset{H}{=} \\lim\\limits_{n\\to\\infty} \\frac{3}{4\\sqrt n} = 0$\n",
    "\n",
    "### $ f_2 \\preccurlyeq f_1 $\n",
    "\n",
    "$ \\lim\\limits_{n\\to\\infty} \\frac{f_2(n)}{f_1(n)} = \\lim\\limits_{n\\to\\infty} \\frac{{n\\choose2}}{2^{100n}} = \\lim\\limits_{n\\to\\infty} \\frac{\\frac{n!}{2!(n-2)!}}{2^{100n}} = \\lim\\limits_{n\\to\\infty} \\frac{n(n-1)}{2^{100n+1}} \\overset{H}{=} \\lim\\limits_{n\\to\\infty} \\frac{2n - 1}{2^{100n+1}\\ln2\\cdot100} \\overset{H}{=} \\lim\\limits_{n\\to\\infty} \\frac{2}{2^{100n+1}\\ln^2 2\\cdot10^4} = 0$\n",
    "\\end{proof}"
   ]
  },
  {
   "cell_type": "markdown",
   "metadata": {},
   "source": [
    "### Grupa 3\n",
    "\n",
    "<center>$ f_1(n) = n^{\\sqrt n} $</center>\n",
    "<center>$ f_2(n) = 2^n $</center>\n",
    "<center>$ f_3(n) = 10^n2^{n/2} $</center>\n",
    "<center>$ f_4(n) = \\sum\\limits^n_{i=1}(i+1) $</center>"
   ]
  },
  {
   "cell_type": "markdown",
   "metadata": {},
   "source": [
    "Twierdzę, że\n",
    "<center>$ f_4\\preccurlyeq f_1\\preccurlyeq f_2\\preccurlyeq f_3$</center>"
   ]
  },
  {
   "cell_type": "markdown",
   "metadata": {},
   "source": [
    "### $ f_4\\preccurlyeq f_1 $\n",
    "\n",
    "$ \\lim\\limits_{n\\to\\infty} \\frac{f_4(n)}{f_1(n)} = \\lim\\limits_{n\\to\\infty} \\frac{\\sum\\limits^n_{i=1}(i+1)}{n^\\sqrt n} = 0 $, bo\n",
    "\n",
    "$ 0 \\le \\frac{f_4(n)}{f_1(n)} = \\frac{\\frac{1}{2}n(n+1)}{n^\\sqrt n} \\le \\frac{n^2 + n}{2n^3} \\le \\frac{2n^2}{2n^3} \\le \\frac{n^2}{n^3} = \\frac{1}{n} \\overset{n\\to\\infty}{\\to} 0 $\n",
    "\n",
    "i z twierdzenia o 3 ciągach\n",
    "\n",
    "### $ f_1 \\preccurlyeq f_2 $\n",
    "\n",
    "$ \\lim\\limits_{n\\to\\infty} \\frac{f_1(n)}{f_2(n)} = \\lim\\limits_{n\\to\\infty} \\frac{n^{\\sqrt n}}{2^n} = \\lim\\limits_{n\\to\\infty} \\frac{\\exp({\\ln n \\sqrt n})}{\\exp({n \\ln 2})} = \\exp\\left(\\lim\\limits_{n\\to\\infty} \\ln n \\sqrt n - n\\ln2 \\right) = \\exp\\left(\\lim\\limits_{n\\to\\infty} n \\left(\\frac{\\ln n}{\\sqrt n\\ln 2} - 1\\right)\\ln 2 \\right) = 2\\exp\\left(\\lim\\limits_{n\\to\\infty} n \\cdot \\lim\\limits_{n\\to\\infty} \\left(\\frac{\\ln n}{\\sqrt n\\ln 2} - 1\\right)\\right) = 2\\exp\\left(\\lim\\limits_{n\\to\\infty} n \\cdot \\left(\\lim\\limits_{n\\to\\infty}\\frac{\\ln n}{\\sqrt n\\ln 2} - \\lim\\limits_{n\\to\\infty} 1\\right)\\right) \\overset{H}{=} 2\\exp\\left(\\lim\\limits_{n\\to\\infty} n \\cdot \\left(\\lim\\limits_{n\\to\\infty}\\frac{\\frac{1}{n}}{\\frac{\\ln 2}{2\\sqrt n}} - \\lim\\limits_{n\\to\\infty} 1\\right)\\right) = 2\\exp\\left(\\lim\\limits_{n\\to\\infty} n \\cdot \\left(\\lim\\limits_{n\\to\\infty}\\frac{2\\sqrt n}{n\\ln 2} - \\lim\\limits_{n\\to\\infty} 1\\right)\\right) = 2\\exp\\left(\\lim\\limits_{n\\to\\infty} n \\cdot \\left(\\lim\\limits_{n\\to\\infty}\\frac{2}{\\sqrt n\\ln 2} - \\lim\\limits_{n\\to\\infty} 1\\right)\\right){ = 2\\exp\\left( \\infty \\cdot \\left( 0 - 1 \\right)\\right) = 2\\exp\\left(-\\infty)\\right)} = 0$\n",
    "\n",
    "\n",
    "### $ f_2 \\preccurlyeq f_3 $\n",
    "\n",
    "$ \\lim\\limits_{n\\to\\infty} \\frac{f_2(n)}{f_3(n)} = \\lim\\limits_{n\\to\\infty} \\frac{{2^n}}{10^n2^{n/2}} = \\lim\\limits_{n\\to\\infty} \\frac{2^n}{10^n{\\sqrt2}^n} = \\lim\\limits_{n\\to\\infty} {\\left(\\frac{2}{10{\\sqrt2}}\\right)}^n = \\lim\\limits_{n\\to\\infty} {\\left(\\frac{1}{5{\\sqrt2}}\\right)}^n = 0$\n"
   ]
  },
  {
   "cell_type": "markdown",
   "metadata": {},
   "source": [
    " "
   ]
  },
  {
   "cell_type": "markdown",
   "metadata": {},
   "source": [
    "# Zadanie 2 i 3"
   ]
  },
  {
   "cell_type": "code",
   "execution_count": 410,
   "metadata": {},
   "outputs": [],
   "source": [
    "import math\n",
    "import random"
   ]
  },
  {
   "cell_type": "markdown",
   "metadata": {},
   "source": [
    "Sposób głupi polega na losowaniu po kolei liczby i sprawdzaniu czy spełniają założenia (dana kombinacja jest sprawdzana tylko raz)"
   ]
  },
  {
   "cell_type": "code",
   "execution_count": 435,
   "metadata": {},
   "outputs": [],
   "source": [
    "def fun0(n):#Głupie\n",
    "    k=0\n",
    "    a=[x for x in range(1,n+1)]\n",
    "    while a:\n",
    "        x=a.pop(random.randint(0,len(a)-1))\n",
    "        b=[x for x in range(1,n+1)]\n",
    "        while b:\n",
    "            y=b.pop(random.randint(0,len(b)-1))\n",
    "            c=[x for x in range(1,n+1)]\n",
    "            while c:\n",
    "                z=c.pop(random.randint(0,len(c)-1))\n",
    "                k+=8\n",
    "                if x**2+y**2==z**2 and x+y+z==n:\n",
    "                    return(x,y,z,k)\n",
    "    return (0,0,0,k)"
   ]
  },
  {
   "cell_type": "markdown",
   "metadata": {},
   "source": [
    "Sposób najwolniejszy ale czasem może rozwiązać problem jedynie kilkoma operacjami"
   ]
  },
  {
   "cell_type": "code",
   "execution_count": 478,
   "metadata": {},
   "outputs": [
    {
     "name": "stdout",
     "output_type": "stream",
     "text": [
      "1110 (3, 4, 5, 8)\n"
     ]
    }
   ],
   "source": [
    "i=0\n",
    "while True:\n",
    "    i+=1\n",
    "    d=fun0(12)\n",
    "    if d[-1]<10:\n",
    "        break;\n",
    "        \n",
    "print(i,d)"
   ]
  },
  {
   "cell_type": "markdown",
   "metadata": {},
   "source": [
    "Drugi sposób pochodzi z ćwiczeń"
   ]
  },
  {
   "cell_type": "code",
   "execution_count": 424,
   "metadata": {},
   "outputs": [],
   "source": [
    "def fun(n):# Z ćwiczeń\n",
    "    for a in range(1,n+1):\n",
    "        for b in range(1,n+1):\n",
    "            for c in range(1,n+1)\n",
    "                if a**2+b**2==c**2 and a+b+c==n:\n",
    "                    return (a,b,c)\n",
    "    return (0,0,0)"
   ]
  },
  {
   "cell_type": "markdown",
   "metadata": {},
   "source": [
    "Trzeci jest ulepszeniem drugiego"
   ]
  },
  {
   "cell_type": "code",
   "execution_count": 33,
   "metadata": {},
   "outputs": [],
   "source": [
    "def fun2(n): # Z ćwiczeń ulepszone\n",
    "    for a in range(1,n+1):\n",
    "        for b in range(1,n+1):\n",
    "            if a**2+b**2 == (n-a-b)**2:\n",
    "                return (a,b,n-a-b)\n",
    "    return (0,0,0)"
   ]
  },
  {
   "cell_type": "markdown",
   "metadata": {},
   "source": [
    "Mój pomysł polega na czy dla danego 'C' istnieją liczby a,b spełniające żądane warunki.\n",
    "Jeśli mamy znane C, wystrczy jednocześnie zwiększać a i zmniejszać b dopóki nie spełnimy warunków (lub a będzie równe 0)"
   ]
  },
  {
   "cell_type": "code",
   "execution_count": 246,
   "metadata": {},
   "outputs": [],
   "source": [
    "# Własny pomysł\n",
    "def fun3_help(n,c):\n",
    "    b=int(c//math.sqrt(2))\n",
    "    a=n-c-b\n",
    "    m=c**2\n",
    "\n",
    "    while a**2+b**2<m and a>0:\n",
    "        a-=1\n",
    "        b+=1\n",
    "    \n",
    "    return (a,b)\n",
    "        \n",
    "    \n",
    "    \n",
    "def fun3(n):\n",
    "    for i in range(1,n//2):\n",
    "        d=fun3_help(n,i)\n",
    "        if d[0]!=0:\n",
    "            if d[0]**2+d[1]**2==i**2:\n",
    "                #print(d[0],d[1],i,d[0]**2+d[1]**2,i**2)\n",
    "                return (d[0],d[1],i)\n",
    "    return (0,0,0)"
   ]
  },
  {
   "cell_type": "markdown",
   "metadata": {},
   "source": [
    "Ulepszenie tego sposobu:\n",
    "• Liczba n musi być parzysta\n",
    "• Szukamy trójki pierwotnej, więc c jest nie parzyste (z tego wynika, że a i b nie mają tej samej parzystości)\n",
    "• Zmniejszamy a lub zwiększamy b dopóki nie trafimy na odpowiednie, bądź a będzie mniejsze od b\n",
    "• Jeżeli n jest podzielne przez a+b+c, to mamy szukaną trójkę (pierwotną mnożymy przez uzyskaną liczbę)\n",
    "• Dodatkowo program może szukać (jeśli `every=True`) wszystkich trójek spełniające warunki zadania"
   ]
  },
  {
   "cell_type": "code",
   "execution_count": 494,
   "metadata": {},
   "outputs": [],
   "source": [
    "# Włąsny ulepszony\n",
    "def fun3_help_v2(n,c,k):\n",
    "    b=1\n",
    "    a=c-1\n",
    "    m=c**2\n",
    "    \n",
    "    e=a**2+b**2\n",
    "    \n",
    "    k+=5\n",
    "    \n",
    "    while a>b:\n",
    "        k+=1\n",
    "        if e>m:\n",
    "            a-=1\n",
    "            k+=2\n",
    "        elif e<m:\n",
    "            b+=1\n",
    "            k+=3\n",
    "        else:\n",
    "            k+=2\n",
    "            if (n/(a+b+c)).is_integer():\n",
    "                k+=4\n",
    "                break\n",
    "            else:\n",
    "                a-=1\n",
    "                b+=1\n",
    "                k+=6\n",
    "        e=a**2+b**2\n",
    "        k+=3\n",
    "\n",
    "    d=n/(a+b+c)\n",
    "    k+=3\n",
    "    \n",
    "    if d.is_integer() and a**2+b**2==m:\n",
    "        k+=6\n",
    "        d=int(d)\n",
    "        k+=4\n",
    "        return (d*a,d*b,d*c,k)\n",
    "    return (0,0,0,k)\n",
    "        \n",
    "    \n",
    "    \n",
    "def fun3_v2(n,every=False):\n",
    "    k=0\n",
    "    if every:\n",
    "        k+=1\n",
    "        e=[]\n",
    "        k+=2\n",
    "        for i in range(5,n//2,2):\n",
    "            k+=1\n",
    "            d=fun3_help_v2_count(n,i,k)\n",
    "            k+=d[-1]\n",
    "            k+=1\n",
    "            if d[0]!=0:\n",
    "                k+=1\n",
    "                e.append((d[0],d[1],d[2]))\n",
    "        return (set(e),k)\n",
    "    else:\n",
    "        k+=3\n",
    "        for i in range(5,n//2,2):\n",
    "            k+=1\n",
    "            d=fun3_help_v2(n,i,k)\n",
    "            k+=d[-1]\n",
    "            k+=2\n",
    "            if d[0]!=0:\n",
    "                return (d[0],d[1],d[2],k)\n",
    "        return (0,0,0,k)\n",
    "        "
   ]
  },
  {
   "cell_type": "markdown",
   "metadata": {},
   "source": [
    "Ostatnie sposób wykorzystuje własność, że\n",
    "\n",
    "$ a = m^2 - n ^2 $\n",
    "\n",
    "$ b = 2 m n $\n",
    "\n",
    "$ c= m^2 + n^2 $\n",
    "\n",
    "Dla pewnych liczb całkowitych m,n które są względnie pierwsze. Niestety, ponieważ m i n są względnie pierwsze program znajduje zawsze trójki pierwotne, lecz pozostałe jedynie gdy spełniają dodatkowe założenia (szukana trójka jest wielokrotnością kwadratu liczby naturalnej)."
   ]
  },
  {
   "cell_type": "code",
   "execution_count": 465,
   "metadata": {},
   "outputs": [],
   "source": [
    "def fun4(n):\n",
    "    k=2\n",
    "    if n%2!=0:\n",
    "        return (0,0,0,k)\n",
    "    x=int(math.sqrt(n))\n",
    "    y=1\n",
    "    m=n//2\n",
    "    k+=3\n",
    "    while x>y:\n",
    "        k+=3\n",
    "        d=x*(x+y)\n",
    "        if m>d:\n",
    "            y+=1\n",
    "            k+=2\n",
    "        elif m<d:\n",
    "            x-=1\n",
    "            k+=3\n",
    "        else:\n",
    "            k+=2\n",
    "            return (x**2-y**2,2*x*y,x**2+y**2,k)\n",
    "        \n",
    "    return (0,0,0,k)"
   ]
  },
  {
   "cell_type": "markdown",
   "metadata": {},
   "source": [
    "Dla tej funkcji złożoność asymptotyczna to $o(\\sqrt n)$, (zaczynamy od $x=\\sqrt n$ oraz $ y = 1$ i zbliżamy te liczby do siebie o 1 w każdej iteracji)"
   ]
  },
  {
   "cell_type": "markdown",
   "metadata": {},
   "source": [
    "# Porównanie metod"
   ]
  },
  {
   "cell_type": "code",
   "execution_count": 482,
   "metadata": {},
   "outputs": [
    {
     "name": "stdout",
     "output_type": "stream",
     "text": [
      "865 µs ± 34.1 µs per loop (mean ± std. dev. of 7 runs, 1000 loops each)\n"
     ]
    }
   ],
   "source": [
    "%%timeit\n",
    "fun0(12)"
   ]
  },
  {
   "cell_type": "code",
   "execution_count": 484,
   "metadata": {},
   "outputs": [
    {
     "name": "stdout",
     "output_type": "stream",
     "text": [
      "875 ms ± 5.56 ms per loop (mean ± std. dev. of 7 runs, 1 loop each)\n"
     ]
    }
   ],
   "source": [
    "%%timeit\n",
    "fun(200)"
   ]
  },
  {
   "cell_type": "code",
   "execution_count": 486,
   "metadata": {},
   "outputs": [
    {
     "name": "stdout",
     "output_type": "stream",
     "text": [
      "121 ms ± 804 µs per loop (mean ± std. dev. of 7 runs, 10 loops each)\n"
     ]
    }
   ],
   "source": [
    "%%timeit\n",
    "fun2(1000)"
   ]
  },
  {
   "cell_type": "code",
   "execution_count": 487,
   "metadata": {},
   "outputs": [
    {
     "name": "stdout",
     "output_type": "stream",
     "text": [
      "969 µs ± 8.77 µs per loop (mean ± std. dev. of 7 runs, 1000 loops each)\n"
     ]
    }
   ],
   "source": [
    "%%timeit\n",
    "fun3(1000)"
   ]
  },
  {
   "cell_type": "code",
   "execution_count": 488,
   "metadata": {},
   "outputs": [
    {
     "name": "stdout",
     "output_type": "stream",
     "text": [
      "31.8 µs ± 607 ns per loop (mean ± std. dev. of 7 runs, 10000 loops each)\n"
     ]
    }
   ],
   "source": [
    "%%timeit\n",
    "fun3_v2(1000)"
   ]
  },
  {
   "cell_type": "code",
   "execution_count": 489,
   "metadata": {},
   "outputs": [
    {
     "name": "stdout",
     "output_type": "stream",
     "text": [
      "3.52 µs ± 80.7 ns per loop (mean ± std. dev. of 7 runs, 100000 loops each)\n"
     ]
    }
   ],
   "source": [
    "%%timeit # ale nie zawsze znajduje jeśli trójka nie jest pierwotna\n",
    "fun4(1000)"
   ]
  },
  {
   "cell_type": "code",
   "execution_count": 490,
   "metadata": {},
   "outputs": [
    {
     "name": "stdout",
     "output_type": "stream",
     "text": [
      "28.4 ms ± 508 µs per loop (mean ± std. dev. of 7 runs, 10 loops each)\n"
     ]
    }
   ],
   "source": [
    "%%timeit\n",
    "fun3_v2(1000,True)"
   ]
  },
  {
   "cell_type": "code",
   "execution_count": 499,
   "metadata": {},
   "outputs": [
    {
     "data": {
      "text/plain": [
       "(700, 525, 875, 49)"
      ]
     },
     "execution_count": 499,
     "metadata": {},
     "output_type": "execute_result"
    }
   ],
   "source": [
    "fun3_v2(2100) # Mało operacji, bo jest to wielokrotność trójkąta egipskiego"
   ]
  },
  {
   "cell_type": "code",
   "execution_count": 500,
   "metadata": {},
   "outputs": [
    {
     "data": {
      "text/plain": [
       "({(630, 600, 870),\n",
       "  (700, 525, 875),\n",
       "  (840, 350, 910),\n",
       "  (850, 336, 914),\n",
       "  (875, 300, 925),\n",
       "  (924, 225, 951),\n",
       "  (975, 140, 985)},\n",
       " 1448611060743910493625022412734728221690209417933451067951622308014960323037370651208519293630831375998404915182835605964184509243915842853588861590009524736815)"
      ]
     },
     "execution_count": 500,
     "metadata": {},
     "output_type": "execute_result"
    }
   ],
   "source": [
    "fun3_v2(2100,True) # Chcąc znaleźć wszystkie trójki operacji jest znacznie więcej"
   ]
  },
  {
   "cell_type": "code",
   "execution_count": 501,
   "metadata": {},
   "outputs": [
    {
     "name": "stdout",
     "output_type": "stream",
     "text": [
      "3.41 µs ± 256 ns per loop (mean ± std. dev. of 7 runs, 100000 loops each)\n"
     ]
    }
   ],
   "source": [
    "%%timeit\n",
    "fun3_v2(2100)"
   ]
  },
  {
   "cell_type": "code",
   "execution_count": 502,
   "metadata": {},
   "outputs": [
    {
     "name": "stdout",
     "output_type": "stream",
     "text": [
      "164 ms ± 769 µs per loop (mean ± std. dev. of 7 runs, 10 loops each)\n"
     ]
    }
   ],
   "source": [
    "%%timeit\n",
    "fun3_v2(2100,True)"
   ]
  },
  {
   "cell_type": "code",
   "execution_count": 503,
   "metadata": {},
   "outputs": [
    {
     "name": "stdout",
     "output_type": "stream",
     "text": [
      "37.3 µs ± 487 ns per loop (mean ± std. dev. of 7 runs, 10000 loops each)\n"
     ]
    }
   ],
   "source": [
    "%%timeit\n",
    "fun3_v2(10000)"
   ]
  },
  {
   "cell_type": "code",
   "execution_count": 504,
   "metadata": {},
   "outputs": [
    {
     "name": "stdout",
     "output_type": "stream",
     "text": [
      "38.8 µs ± 1.29 µs per loop (mean ± std. dev. of 7 runs, 10000 loops each)\n"
     ]
    }
   ],
   "source": [
    "%%timeit\n",
    "fun3_v2(10**15)"
   ]
  },
  {
   "cell_type": "code",
   "execution_count": 495,
   "metadata": {},
   "outputs": [
    {
     "data": {
      "text/plain": [
       "(56, 33, 65, 110823756571)"
      ]
     },
     "execution_count": 495,
     "metadata": {},
     "output_type": "execute_result"
    }
   ],
   "source": [
    "fun3_v2(56+33+65)"
   ]
  },
  {
   "cell_type": "code",
   "execution_count": 508,
   "metadata": {},
   "outputs": [
    {
     "data": {
      "text/plain": [
       "(375000000000000, 200000000000000, 425000000000000, 6438)"
      ]
     },
     "execution_count": 508,
     "metadata": {},
     "output_type": "execute_result"
    }
   ],
   "source": [
    "fun3_v2(10**15) # znowu mało operacji, bo wystarczy obliczć dla n=40 (8,15,17) i pomnożyć przez odpowiednią liczbę"
   ]
  }
 ],
 "metadata": {
  "kernelspec": {
   "display_name": "Python 3",
   "language": "python",
   "name": "python3"
  },
  "language_info": {
   "codemirror_mode": {
    "name": "ipython",
    "version": 3
   },
   "file_extension": ".py",
   "mimetype": "text/x-python",
   "name": "python",
   "nbconvert_exporter": "python",
   "pygments_lexer": "ipython3",
   "version": "3.9.5"
  }
 },
 "nbformat": 4,
 "nbformat_minor": 4
}
