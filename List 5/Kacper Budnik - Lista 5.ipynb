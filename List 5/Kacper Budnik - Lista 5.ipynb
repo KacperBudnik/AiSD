{
 "cells": [
  {
   "cell_type": "markdown",
   "id": "adfa5ba2",
   "metadata": {},
   "source": [
    "https://github.com/KacperBudnik/AiSD/tree/main/List%205"
   ]
  },
  {
   "cell_type": "markdown",
   "id": "108a11f6",
   "metadata": {},
   "source": [
    "# Zadanie 1"
   ]
  },
  {
   "cell_type": "code",
   "execution_count": 1,
   "id": "5c80f889",
   "metadata": {},
   "outputs": [],
   "source": [
    "import numpy as np\n",
    "from scipy import linalg\n",
    "from scipy.optimize import curve_fit as fit\n",
    "import timeit\n",
    "import random\n",
    "import matplotlib.pyplot as plt\n",
    "import time\n",
    "from computational_complexity import n"
   ]
  },
  {
   "cell_type": "code",
   "execution_count": 2,
   "id": "32004a53",
   "metadata": {},
   "outputs": [],
   "source": [
    "a = np.array([[3,2,0],[1,-1,0],[0,5,1]])"
   ]
  },
  {
   "cell_type": "code",
   "execution_count": 3,
   "id": "33a833f3",
   "metadata": {},
   "outputs": [],
   "source": [
    "b = np.array([2, 4, -1])"
   ]
  },
  {
   "cell_type": "code",
   "execution_count": 4,
   "id": "3c11ae32",
   "metadata": {},
   "outputs": [],
   "source": [
    "x = linalg.solve(a,b)"
   ]
  },
  {
   "cell_type": "code",
   "execution_count": 5,
   "id": "2715c345",
   "metadata": {},
   "outputs": [
    {
     "data": {
      "text/plain": [
       "array([ 2., -2.,  9.])"
      ]
     },
     "execution_count": 5,
     "metadata": {},
     "output_type": "execute_result"
    }
   ],
   "source": [
    "x"
   ]
  },
  {
   "cell_type": "code",
   "execution_count": 6,
   "id": "12454f69",
   "metadata": {},
   "outputs": [
    {
     "data": {
      "text/plain": [
       "array([ True,  True,  True])"
      ]
     },
     "execution_count": 6,
     "metadata": {},
     "output_type": "execute_result"
    }
   ],
   "source": [
    "np.dot(a,x) == b"
   ]
  },
  {
   "cell_type": "code",
   "execution_count": 7,
   "id": "99c53e08",
   "metadata": {},
   "outputs": [],
   "source": [
    "def solve_n_time(n,a=-128,b=128,times=1):\n",
    "    x=np.random.randint(a,b+1,n)\n",
    "    A=np.random.randint(a,b+1,(n,n))\n",
    "    b=[sum(x[i]*a[i] for i in range(n)) for a in A]\n",
    "    \n",
    "    return timeit.timeit(\"linalg.solve(A,b)\",\"from scipy import linalg\",number=times,globals=locals())"
   ]
  },
  {
   "cell_type": "code",
   "execution_count": null,
   "id": "b53e2ca2",
   "metadata": {},
   "outputs": [],
   "source": [
    "for tim in [1, 2, 5, 10, 50, 100]:\n",
    "    times=np.zeros(15)\n",
    "    name=\"Czasy/\"+str(tim)+\"_prob.txt\"\n",
    "    for i in range(15):\n",
    "        times[i]=solve_n_time(2**i,times=tim)\n",
    "    times_log=[np.log2(k) for k in times]\n",
    "    \n",
    "    f = open(name, \"w\")\n",
    "    f.write(\"Liczba prób\\tCzas\\tLogarytm Czasu\\n\")\n",
    "    for i in range(15):\n",
    "        f.write(\"2^\"+str(i)+\"\\t\\t\"+str(times[i])+\"\\t\"+str(times_log[i])+\"\\n\")\n",
    "    f.close()"
   ]
  },
  {
   "cell_type": "code",
   "execution_count": 8,
   "id": "1f172bc2",
   "metadata": {},
   "outputs": [],
   "source": [
    "f=open(\"Czasy/last_prob.txt\",\"r\") # Wczytanie poprzednych wyników"
   ]
  },
  {
   "cell_type": "code",
   "execution_count": 9,
   "id": "1183d767",
   "metadata": {},
   "outputs": [],
   "source": [
    "times=np.zeros(15)"
   ]
  },
  {
   "cell_type": "code",
   "execution_count": 10,
   "id": "c4c8835c",
   "metadata": {},
   "outputs": [],
   "source": [
    "for i in range(15):\n",
    "    times[i]=float(f.readline())"
   ]
  },
  {
   "cell_type": "code",
   "execution_count": 11,
   "id": "da5d6c22",
   "metadata": {},
   "outputs": [],
   "source": [
    "times=[i/100 for i in times] # Bo w pliku są czasy 100 prób"
   ]
  },
  {
   "cell_type": "code",
   "execution_count": null,
   "id": "048797cd",
   "metadata": {},
   "outputs": [],
   "source": [
    "for i in range(15): # Tworzenie tabelki\n",
    "    print(\"|$2^{}\"+str(i)+\"}$|\"+str(times[i])+\"|\"+str(np.log2(times[i]))+\"|\")"
   ]
  },
  {
   "cell_type": "markdown",
   "id": "ef66d344",
   "metadata": {},
   "source": [
    "|Wielkość macierzy|Czas wykonania|$\\log_2(Czas)$|\n",
    "|---|---|---|\n",
    "|$2^0$|1.805799998692237e-05|-15.757002358402625|\n",
    "|$2^1$|1.666399999521673e-05|-15.87290573035973|\n",
    "|$2^2$|1.9956999967689626e-05|-15.612745610326426|\n",
    "|$2^3$|2.1466000034706668e-05|-15.507587089375045|\n",
    "|$2^4$|2.75060000421945e-05|-15.149894118092835|\n",
    "|$2^5$|4.0097000019159166e-05|-14.60614617340216|\n",
    "|$2^6$|7.695699998294003e-05|-13.665587914857122|\n",
    "|$2^7$|0.004303864999965299|-7.860151459308244|\n",
    "|$2^8$|0.00547669899999164|-7.512477692802556|\n",
    "|$2^9$|0.013877281000022777|-6.17113126393692|\n",
    "|$2^{10}$|0.033421334000013306|-4.903086870594826|\n",
    "|$2^{11}$|0.13277947399998083|-2.9128959530759806|\n",
    "|$2^{12}$|0.6239430720000382|-0.6805136899822751|\n",
    "|$2^{13}$|2.9884126700000344|1.5793793836874748|\n",
    "|$2^{14}$|24.68550556999995|4.6255922872972475|"
   ]
  },
  {
   "cell_type": "code",
   "execution_count": 12,
   "id": "56b03ab8",
   "metadata": {},
   "outputs": [
    {
     "data": {
      "image/png": "[encoded data removed]",
      "text/plain": [
       "<Figure size 432x288 with 1 Axes>"
      ]
     },
     "metadata": {
      "needs_background": "light"
     },
     "output_type": "display_data"
    }
   ],
   "source": [
    "x=[2**i for i in range(15)]\n",
    "plt.plot(x,times,marker='.', linestyle='--')\n",
    "plt.xscale('log')\n",
    "plt.yscale('log')"
   ]
  },
  {
   "cell_type": "code",
   "execution_count": 13,
   "id": "2df7f1d7",
   "metadata": {},
   "outputs": [],
   "source": [
    "def curve(x,a,b,n):\n",
    "    return a*x**n+b"
   ]
  },
  {
   "cell_type": "code",
   "execution_count": 14,
   "id": "331bf769",
   "metadata": {},
   "outputs": [
    {
     "data": {
      "text/plain": [
       "3.0288020204907897"
      ]
     },
     "execution_count": 14,
     "metadata": {},
     "output_type": "execute_result"
    }
   ],
   "source": [
    "fit(curve,x,times)[0][2] # wartość n"
   ]
  },
  {
   "cell_type": "markdown",
   "id": "d4c53b21",
   "metadata": {},
   "source": [
    "Stąd wynika, że program ma złożoność czasową w przybliżeniu $O(n^3)$"
   ]
  },
  {
   "cell_type": "markdown",
   "id": "c399114f",
   "metadata": {},
   "source": [
    "Wynik odbiega od normy ponieważ był wykonywany w jupyterze w przeglądarce (chrome) przy włączonych innych kartach. Ten sam program uruchomiony w pythone:"
   ]
  },
  {
   "cell_type": "markdown",
   "id": "fb0cac24",
   "metadata": {},
   "source": [
    "```\n",
    "import numpy as np\n",
    "from scipy import linalg\n",
    "from scipy.optimize import curve_fit as fit\n",
    "import timeit\n",
    "import random\n",
    "import matplotlib.pyplot as plt\n",
    "import time\n",
    "\n",
    "\n",
    "def solve_n_time(n,a=-128,b=128,times=1):\n",
    "    x=np.random.randint(a,b+1,n)\n",
    "    A=np.random.randint(a,b+1,(n,n))\n",
    "    b=[sum(x[i]*a[i] for i in range(n)) for a in A]\n",
    "    \n",
    "    return timeit.timeit(\"linalg.solve(A,b)\",\"from scipy import linalg\",number=times,globals=locals())\n",
    "\n",
    "\n",
    "def curve(x,a,b,n):\n",
    "    return a*x**n+b\n",
    "\n",
    "def n(m=15,tim=1):\n",
    "    \n",
    "    times=np.zeros(m)\n",
    "    for i in range(m):\n",
    "        times[i]=solve_n_time(2**i,times=tim)/tim\n",
    "        \n",
    "    return fit(curve,[2**i for i in range(m)], times)[0][2] # = 2.77 za pierwszym, 2.24 za drugim\n",
    "```"
   ]
  },
  {
   "cell_type": "code",
   "execution_count": 15,
   "id": "86233f7c",
   "metadata": {},
   "outputs": [
    {
     "data": {
      "text/plain": [
       "2.8458927183944516"
      ]
     },
     "execution_count": 15,
     "metadata": {},
     "output_type": "execute_result"
    }
   ],
   "source": [
    "n(15,10) # wykonuje 10 razy dla macierzy kwadratowej stopnia 2^i dal i in [0,15)"
   ]
  },
  {
   "cell_type": "markdown",
   "id": "0159491f",
   "metadata": {},
   "source": [
    "Ten sam program przy daje inne (bliższe prawdziwych) wyniki, jeśli nie jest wykonywany w jupyterze (Ale dla większych macierzy, czyli większego zużycia procesora, procesor automatycznie się podkręca, psując liniowość)"
   ]
  },
  {
   "cell_type": "markdown",
   "id": "1f044ded",
   "metadata": {},
   "source": [
    "Dlatego powyższy wykres różni się od stanu rzeczywistego"
   ]
  },
  {
   "cell_type": "markdown",
   "id": "ec17785c",
   "metadata": {},
   "source": [
    "# Zadanie 2"
   ]
  },
  {
   "cell_type": "markdown",
   "id": "01bf7bc5",
   "metadata": {},
   "source": [
    "## Z poprzedniej listy\n",
    "Implementacja stosu (delikatnie zmodyfikowanego, funckja peek)"
   ]
  },
  {
   "cell_type": "code",
   "execution_count": 16,
   "id": "487fc271",
   "metadata": {},
   "outputs": [],
   "source": [
    "import numpy as np\n",
    "\n",
    "class Node:\n",
    "    \n",
    "    def __repr__(self):\n",
    "        return str(self.data)\n",
    "    \n",
    "    def __init__(self,init_data):\n",
    "        self.data = init_data\n",
    "        self.next = None\n",
    "  \n",
    "    def get_data(self):\n",
    "        return self.data\n",
    "\n",
    "    def get_next(self):\n",
    "        return self.next\n",
    "  \n",
    "    def set_data(self,new_data):\n",
    "        self.data = new_data\n",
    "  \n",
    "    def set_next(self,new_next):\n",
    "        self.next = new_next\n",
    "    \n",
    "\n",
    "class UnorderedList(object):\n",
    "  \n",
    "    def __init__(self):\n",
    "        self.head = None\n",
    "\n",
    "    def is_empty(self):\n",
    "        return self.head == None\n",
    "\n",
    "    def add(self, item):\n",
    "        temp = Node(item)\n",
    "        temp.set_next(self.head)\n",
    "        self.head = temp\n",
    "\n",
    "    def size(self):\n",
    "        current = self.head\n",
    "        count = 0\n",
    "        while current != None:\n",
    "            count = count + 1\n",
    "            current = current.get_next()\n",
    "        return count\n",
    "    \n",
    "    def search(self,item):\n",
    "        current = self.head\n",
    "        found = False\n",
    "        while current != None and not found:\n",
    "            if current.get_data() == item:\n",
    "                found = True\n",
    "            else:\n",
    "                current = current.get_next()\n",
    "        return found\n",
    "    \n",
    "    def remove(self, item):\n",
    "        current = self.head\n",
    "        previous = None\n",
    "        found = False\n",
    "\n",
    "        while not found:\n",
    "            if current.get_data() == item:\n",
    "                found = True\n",
    "            else:\n",
    "                previous = current\n",
    "                current = current.get_next()\n",
    "\n",
    "        if previous == None: #jeśli usuwamy pierwszy element\n",
    "            self.head = current.get_next()\n",
    "        else:\n",
    "            previous.set_next(current.get_next())\n",
    "\n",
    "##################################################################################################################   \n",
    "#                                               Uzupełnienie                                                     #\n",
    "##################################################################################################################   \n",
    "            \n",
    "    def append(self, item):\n",
    "        \"\"\"\n",
    "        Metoda dodająca element na koniec listy.\n",
    "        Przyjmuje jako argument obiekt, który ma zostać dodany.\n",
    "        Niczego nie zwraca.\n",
    "        \"\"\"\n",
    "        if self.head:\n",
    "            current=self.head\n",
    "            while current:\n",
    "                previous=current\n",
    "                current=current.get_next()\n",
    "            previous.set_next(Node(item))\n",
    "        else:\n",
    "            self.add(item)\n",
    "        \n",
    "    \n",
    "    def index(self, item):\n",
    "        \"\"\"\n",
    "        Metoda podaje miejsce na liście, \n",
    "        na którym znajduje się określony element - \n",
    "        element pod self.head ma indeks 0.\n",
    "        Przyjmuje jako argument element, \n",
    "        którego pozycja ma zostać określona.\n",
    "        Zwraca pozycję elementu na liście lub None w przypadku, \n",
    "        gdy wskazanego elementu na liście nie ma.\n",
    "        \"\"\"\n",
    "        current = self.head\n",
    "        found = False\n",
    "        i=0\n",
    "        while current != None and not found:\n",
    "            if current.get_data() == item:\n",
    "                found = True\n",
    "            else:\n",
    "                current = current.get_next()\n",
    "                i+=1\n",
    "        return i if found else None\n",
    "     \n",
    "        \n",
    "    def insert(self, pos, item):\n",
    "        \"\"\"\n",
    "        Metoda umieszcza na wskazanej pozycji zadany element.\n",
    "        Przyjmuje jako argumenty pozycję, \n",
    "        na której ma umiescić element oraz ten element.\n",
    "        Niczego nie zwraca.\n",
    "        Rzuca wyjątkiem IndexError w przypadku, \n",
    "        gdy nie jest możliwe umieszczenie elementu\n",
    "        na zadanej pozycji (np. na 5. miejsce w 3-elementowej liście).\n",
    "        \"\"\"\n",
    "        current = self.head\n",
    "        previous=None\n",
    "        while current != None and pos >0:\n",
    "            pos-=1\n",
    "            previous=current\n",
    "            current=current.get_next()\n",
    "            \n",
    "        if pos == 0:\n",
    "            if previous:\n",
    "                if current:\n",
    "                    previous.set_next(Node(item))\n",
    "                    previous.get_next().set_next(current)\n",
    "                else:\n",
    "                    previous.set_next(Node(item))\n",
    "            else:\n",
    "                self.add(item)\n",
    "        else:\n",
    "            raise IndexError(\"Wyjście poza zakres\")\n",
    "                    \n",
    "  \n",
    "    def pop(self, pos=-1):\n",
    "        \"\"\"\n",
    "        Metoda usuwa z listy element na zadaniej pozycji.\n",
    "        Przyjmuje jako opcjonalny argument pozycję, \n",
    "        z której ma zostać usunięty element.\n",
    "        Jeśli pozycja nie zostanie podana, \n",
    "        metoda usuwa (odłącza) ostatni element z listy. \n",
    "        Zwraca wartość usuniętego elementu.\n",
    "        Rzuca wyjątkiem IndexError w przypadku,\n",
    "        gdy usunięcie elementu z danej pozycji jest niemożliwe.\n",
    "        \"\"\"\n",
    "        n=self.size()\n",
    "        if pos + 1 > n or -pos > n:\n",
    "            raise IndexError(\"Wyjście poza zekres\")\n",
    "        \n",
    "        if pos > 0:\n",
    "            i = pos\n",
    "        elif pos == 0:\n",
    "            temp=self.head\n",
    "            self.head=self.head.get_next()\n",
    "            return temp.get_data()\n",
    "        else:\n",
    "            i = n + pos\n",
    "            \n",
    "        if i==0:\n",
    "            temp=self.head\n",
    "            self.head=self.head.get_next()\n",
    "            return temp.get_data()\n",
    "            \n",
    "        current = self.head\n",
    "        for _ in range(i-1):\n",
    "            current = current.get_next()\n",
    "        temp=current.get_next()\n",
    "        current.set_next(current.get_next().get_next())\n",
    "        return temp.get_data()\n",
    "    \n",
    "    \n",
    "##################################################################################################################   \n",
    "#                                               Dodatkowe                                                        #\n",
    "##################################################################################################################   \n",
    "            \n",
    "    def __repr__(self):\n",
    "        current=self.head\n",
    "        tab=[]\n",
    "        while current:\n",
    "            tab.append(current.get_data())\n",
    "            current=current.get_next()\n",
    "        return str(tab)\n",
    "    \n",
    "    def reverse(self):\n",
    "        \"\"\"\n",
    "        Metoda odwraca kolejność elementów w liście\n",
    "        \"\"\"\n",
    "        temp=[]\n",
    "        current=self.head\n",
    "        while current:\n",
    "            temp.append(current)\n",
    "            current=current.get_next()\n",
    "                    \n",
    "        current=temp.pop()\n",
    "        current.set_next(temp.pop())\n",
    "        self.head=current\n",
    "        \n",
    "        \n",
    "        while temp:\n",
    "            current=current.get_next()\n",
    "            current.set_next(temp.pop())\n",
    "        current. get_next().set_next(None)\n",
    "        \n",
    "    def count(self, item):\n",
    "        \"\"\"\n",
    "        Metoda zwraca liczbę danego elementu z listy\n",
    "        \"\"\"\n",
    "        i=0\n",
    "        current=self.head\n",
    "        while current:\n",
    "            i += 1 if current.get_data()==item else 0\n",
    "            current = current.get_next()\n",
    "        return i\n",
    "            \n",
    "    def shuffle(self):\n",
    "        \"\"\"\n",
    "        Metoda permutuje listę\n",
    "        \"\"\"\n",
    "        temp=[]\n",
    "        current=self.head\n",
    "        while current:\n",
    "            temp.append(current)\n",
    "            current=current.get_next()\n",
    "            \n",
    "        temp = [i for i in np.random.permutation(temp)]\n",
    "                    \n",
    "        current=temp.pop()\n",
    "        current.set_next(temp.pop())\n",
    "        self.head=current\n",
    "        \n",
    "        while temp:\n",
    "            current=current.get_next()\n",
    "            current.set_next(temp.pop())\n",
    "        current.get_next().set_next(None)\n",
    "        \n",
    "    def __eq__(self, other):\n",
    "        \n",
    "        if type(other) == UnorderedList:\n",
    "            current_self = self.head\n",
    "            current_other = other.head\n",
    "            \n",
    "            while current_self and current_other:\n",
    "                if current_self.get_data() != current_other.get_data():\n",
    "                    return False\n",
    "                current_self = current_self.get_next()\n",
    "                current_other = current_other.get_next()\n",
    "            if current_self or current_other:\n",
    "                return False\n",
    "            return True\n",
    "        raise TypeError(\"'==' not supported between instances of 'UnorderedList' and '\"+str(type(other).__name__)+\"'\")\n",
    "            \n",
    "\n",
    "    def same_element(self,other):\n",
    "        \"\"\"\n",
    "        Sprawdza, czy kolejki mają takie same elementy (i ich liczbę)\n",
    "        \"\"\"\n",
    "        temp_self = []\n",
    "        temp_other = []\n",
    "        current=self.head\n",
    "        while current:\n",
    "            temp_self.append(current.get_data())\n",
    "            current = current.get_next()\n",
    "            \n",
    "        current=other.head\n",
    "        while current:\n",
    "            temp_other.append(current.get_data())\n",
    "            current = current.get_next()\n",
    "            \n",
    "        while temp_self and temp_other:\n",
    "            temp = temp_self.pop()\n",
    "            for i in range(len(temp_other)):\n",
    "                if temp==temp_other[i]:\n",
    "                    temp_other.pop(i)\n",
    "                    break\n",
    "            else:\n",
    "                return False\n",
    "        return False if temp_self or temp_other else True\n",
    "        \n",
    "    def same_type_of_elements(self, other):\n",
    "        \"\"\"\n",
    "        Sprawdza, czy wszystkie elementy jednego są w drugim\n",
    "        \"\"\"\n",
    "        temp_self = []\n",
    "        temp_other = []\n",
    "        current=self.head\n",
    "        while current:\n",
    "            temp_self.append(current.get_data())\n",
    "            current = current.get_next()\n",
    "            \n",
    "        current=other.head\n",
    "        while current:\n",
    "            temp_other.append(current.get_data())\n",
    "            current = current.get_next()\n",
    "            \n",
    "        return all(i in temp_self for i in temp_other) and all(i in temp_other for i in temp_self)\n",
    "    \n",
    "    def __getitem__(self, pos):\n",
    "        n=self.size()\n",
    "        \n",
    "        if pos + 1 > n or -pos > n:\n",
    "            raise IndexError(\"Wyjście poza zekres\")\n",
    "            \n",
    "        if pos > 0:\n",
    "            i = pos\n",
    "        elif pos == 0:\n",
    "            return self.head.get_data()\n",
    "        else:\n",
    "            pos = n + pos\n",
    "        \n",
    "        current=self.head\n",
    "        while current and pos > 0:\n",
    "            current = current.get_next()\n",
    "            pos-=1\n",
    "        \n",
    "        return current.get_data()\n",
    "    \n",
    "    def __contein__(self, item):\n",
    "        return self.search(item)\n",
    "\n",
    "    def __len__(self):\n",
    "        return self.size()"
   ]
  },
  {
   "cell_type": "code",
   "execution_count": 17,
   "id": "3376bd94",
   "metadata": {},
   "outputs": [],
   "source": [
    "class StackUsingUL(object):\n",
    "    def __init__(self):\n",
    "        self.item = UnorderedList()\n",
    "    \n",
    "    def is_empty(self):\n",
    "        \"\"\"\n",
    "        Metoda sprawdzajacą, czy stos jest pusty.\n",
    "        Nie pobiera argumentów.\n",
    "        Zwraca True lub False.\n",
    "        \"\"\"\n",
    "        return self.item.is_empty()\n",
    "  \n",
    "    def push(self, item):\n",
    "        \"\"\"\n",
    "        Metoda umieszcza nowy element na stosie.\n",
    "        Pobiera element, który ma zostać umieszczony.\n",
    "        Niczego nie zwraca.\n",
    "        \"\"\"\n",
    "        self.item.append(item)\n",
    "    \n",
    "    def pop(self):\n",
    "        \"\"\"\n",
    "        Metoda ściąga element ze stosu.\n",
    "        Nie przyjmuje żadnych argumentów.\n",
    "        Zwraca ściągnięty element.\n",
    "        Jeśli stos jest pusty, rzuca wyjątkiem IndexError.\n",
    "        \"\"\"\n",
    "\n",
    "        return self.item.pop()\n",
    "\n",
    "    def peek(self):\n",
    "        \"\"\"\n",
    "        Metoda podaje wartość elementu na wierzchu stosu\n",
    "        nie ściągajac go.\n",
    "        Nie pobiera argumentów.\n",
    "        Zwraca wierzchni element stosu.\n",
    "        Jeśli stos jest pusty, rzuca wyjątkiem IndexError.\n",
    "        \"\"\"\n",
    "        return self.item[-1] if self.size()>0 else float('inf') # Zmodyfikowane, jeśli nic nie ma na kijku to jest na nim cała podstawa, która w porównaniu z krążkami jest nieskończona\n",
    "\n",
    "    def size(self):\n",
    "        \"\"\"\n",
    "        Metoda zwraca liczę elementów na stosie.\n",
    "        Nie pobiera argumentów.\n",
    "        Zwraca liczbę elementów na stosie.\n",
    "        \"\"\"\n",
    "        return self.item.size()\n",
    "    "
   ]
  },
  {
   "cell_type": "code",
   "execution_count": 18,
   "id": "877b34d0",
   "metadata": {},
   "outputs": [],
   "source": [
    "from numpy import base_repr\n",
    "\n",
    "def Hanoi(n:int,sticks:tuple=(1,2),only_one:bool=False):\n",
    "    \"\"\"Algorytm krok po kroku rozwiązujący problem Wieży Hanoi\n",
    "        n - liczba krążków\n",
    "        sticks - dwuelementowa krotka z różnymi liczbami ze zbioru {1,2,3} oznaczająca z którego słupka na który chcemy przełożyć krążki\n",
    "        only_one - jeśli prawda to krążek można przełożyć jedynie na krążek słupek obok (nie można przykładowo A->C), ale wykonywane iteracyjnie\"\"\"\n",
    "        \n",
    "    if type(n) is not int or type(sticks) is not tuple:\n",
    "        raise ValueError(\"Niepoprawne dane wejściowe\")\n",
    "    \n",
    "    if len(sticks)!=2 or  sticks[0] not in (1,2,3) or sticks[1] not in (1,2,3):\n",
    "        raise ValueError(\"Złe dane wejściowe\")\n",
    "    \n",
    "    if sticks[0]==sticks[1]:\n",
    "        print(\"Wieża ułożona!\")\n",
    "        return None\n",
    "    \n",
    "    if n == 0:\n",
    "        print(\"Wieża jest ułożona\")\n",
    "        return None\n",
    "    if n < 0:\n",
    "        raise ValueError(\"Liczba krążków musi być liczbą naturalną\")\n",
    "        \n",
    "    last=6//(sticks[1]*sticks[0]) # numer ostatniego krążka\n",
    "    Stick=[StackUsingUL(),StackUsingUL(),StackUsingUL()]\n",
    "    for i in range(n):\n",
    "        Stick[sticks[0]-1].push(n-i)\n",
    "    \n",
    "    if only_one:\n",
    "        prev=n*\"0\"\n",
    "        \n",
    "        if sticks[0]!=2:\n",
    "            start=1\n",
    "            if sticks[1]==2:\n",
    "                ends=3**n//2+1\n",
    "            else:\n",
    "                ends=3**n\n",
    "        else:\n",
    "            start=3**n//2+1\n",
    "            ends=3**n\n",
    "            right=True\n",
    "            if sticks[1]==1:\n",
    "                right=False\n",
    "\n",
    "        \n",
    "        for i in range(start,ends):\n",
    "            nxt=(n-len(base_repr(i,base=3)))*\"0\"+str(base_repr(i,base=3))\n",
    "            size=1\n",
    "\n",
    "            while int(nxt[-size])-int(prev[-size])!=1:\n",
    "                size+=1\n",
    "\n",
    "            if size==Stick[0].peek():\n",
    "                print(\"Przenieś klocek o rozmiarze\",size,\"z palika 1 na palik 2\")\n",
    "                Stick[1].push(Stick[0].pop())\n",
    "                right=True\n",
    "                #print(Stick[0].peek())\n",
    "\n",
    "            elif size==Stick[2].peek():\n",
    "                print(\"Przenieś klocek o rozmiarze\",size,\"z palika 3 na palik 2\")\n",
    "                Stick[1].push(Stick[2].pop())\n",
    "                right=False\n",
    "                #print(2)\n",
    "\n",
    "            elif right and Stick[1].peek()<Stick[2].peek():\n",
    "                print(\"Przenieś klocek o rozmiarze\",size,\"z palika 2 na palik 3\")\n",
    "                Stick[2].push(Stick[1].pop())\n",
    "                #print(3)\n",
    "            elif not right and Stick[1].peek()<Stick[0].peek():\n",
    "                print(\"Przenieś klocek o rozmiarze\",size,\"z palika 2 na palik 1\")\n",
    "                Stick[0].push(Stick[1].pop())\n",
    "                #print(4)\n",
    "            elif Stick[1].peek()<Stick[2].peek():\n",
    "                print(\"Przenieś klocek o rozmiarze\",size,\"z palika 2 na palik 3\")\n",
    "                Stick[2].push(Stick[1].pop())\n",
    "            else:\n",
    "                print(\"Przenieś klocek o rozmiarze\",size,\"z palika 2 na palik 1\")\n",
    "                Stick[0].push(Stick[1].pop())\n",
    "\n",
    "            prev=nxt\n",
    "\n",
    "        \n",
    "\n",
    "    else:\n",
    "        def hanoi(n,A,B,C,order):\n",
    "            if n>0:\n",
    "                hanoi(n-1,A,C,B,(order[0],order[2],order[1]))\n",
    "                print(\"Przenieś klocek o rozmiarze\",A.peek(),\"z palika\",order[0],\"na palik\", order[2])\n",
    "                C.push(A.pop())\n",
    "                hanoi(n-1,B,A,C,(order[1],order[0],order[2]))\n",
    "            \n",
    "        hanoi(n,Stick[sticks[0]-1],Stick[sticks[1]-1],Stick[last-1],(sticks[0],sticks[1],last))\n",
    "    print(\"Wieża ułożona!\")\n",
    "    return None"
   ]
  },
  {
   "cell_type": "code",
   "execution_count": 19,
   "id": "b7d2463b",
   "metadata": {},
   "outputs": [
    {
     "name": "stdout",
     "output_type": "stream",
     "text": [
      "Przenieś klocek o rozmiarze 1 z palika 1 na palik 2\n",
      "Przenieś klocek o rozmiarze 2 z palika 1 na palik 3\n",
      "Przenieś klocek o rozmiarze 1 z palika 2 na palik 3\n",
      "Przenieś klocek o rozmiarze 3 z palika 1 na palik 2\n",
      "Przenieś klocek o rozmiarze 1 z palika 3 na palik 1\n",
      "Przenieś klocek o rozmiarze 2 z palika 3 na palik 2\n",
      "Przenieś klocek o rozmiarze 1 z palika 1 na palik 2\n",
      "Wieża ułożona!\n"
     ]
    }
   ],
   "source": [
    "Hanoi(3,(1,3))"
   ]
  },
  {
   "cell_type": "code",
   "execution_count": 20,
   "id": "4d44be92",
   "metadata": {},
   "outputs": [
    {
     "name": "stdout",
     "output_type": "stream",
     "text": [
      "Przenieś klocek o rozmiarze 1 z palika 1 na palik 3\n",
      "Przenieś klocek o rozmiarze 2 z palika 1 na palik 2\n",
      "Przenieś klocek o rozmiarze 1 z palika 3 na palik 2\n",
      "Przenieś klocek o rozmiarze 3 z palika 1 na palik 3\n",
      "Przenieś klocek o rozmiarze 1 z palika 2 na palik 1\n",
      "Przenieś klocek o rozmiarze 2 z palika 2 na palik 3\n",
      "Przenieś klocek o rozmiarze 1 z palika 1 na palik 3\n",
      "Wieża ułożona!\n"
     ]
    }
   ],
   "source": [
    "Hanoi(3)"
   ]
  },
  {
   "cell_type": "code",
   "execution_count": 21,
   "id": "7de64dfc",
   "metadata": {},
   "outputs": [
    {
     "name": "stdout",
     "output_type": "stream",
     "text": [
      "Przenieś klocek o rozmiarze 1 z palika 2 na palik 3\n",
      "Przenieś klocek o rozmiarze 2 z palika 2 na palik 1\n",
      "Przenieś klocek o rozmiarze 1 z palika 3 na palik 1\n",
      "Przenieś klocek o rozmiarze 3 z palika 2 na palik 3\n",
      "Przenieś klocek o rozmiarze 1 z palika 1 na palik 2\n",
      "Przenieś klocek o rozmiarze 2 z palika 1 na palik 3\n",
      "Przenieś klocek o rozmiarze 1 z palika 2 na palik 3\n",
      "Wieża ułożona!\n"
     ]
    }
   ],
   "source": [
    "Hanoi(3,(2,1))"
   ]
  },
  {
   "cell_type": "code",
   "execution_count": 22,
   "id": "e1d99018",
   "metadata": {},
   "outputs": [
    {
     "name": "stdout",
     "output_type": "stream",
     "text": [
      "Przenieś klocek o rozmiarze 1 z palika 1 na palik 2\n",
      "Przenieś klocek o rozmiarze 1 z palika 2 na palik 3\n",
      "Przenieś klocek o rozmiarze 2 z palika 1 na palik 2\n",
      "Przenieś klocek o rozmiarze 1 z palika 3 na palik 2\n",
      "Przenieś klocek o rozmiarze 1 z palika 2 na palik 1\n",
      "Przenieś klocek o rozmiarze 2 z palika 2 na palik 3\n",
      "Przenieś klocek o rozmiarze 1 z palika 1 na palik 2\n",
      "Przenieś klocek o rozmiarze 1 z palika 2 na palik 3\n",
      "Wieża ułożona!\n"
     ]
    }
   ],
   "source": [
    "Hanoi(2,(1,3),True)"
   ]
  },
  {
   "cell_type": "code",
   "execution_count": 23,
   "id": "27cce301",
   "metadata": {},
   "outputs": [
    {
     "name": "stdout",
     "output_type": "stream",
     "text": [
      "Przenieś klocek o rozmiarze 1 z palika 1 na palik 2\n",
      "Przenieś klocek o rozmiarze 1 z palika 2 na palik 3\n",
      "Przenieś klocek o rozmiarze 2 z palika 1 na palik 2\n",
      "Przenieś klocek o rozmiarze 1 z palika 3 na palik 2\n",
      "Przenieś klocek o rozmiarze 1 z palika 2 na palik 1\n",
      "Przenieś klocek o rozmiarze 2 z palika 2 na palik 3\n",
      "Przenieś klocek o rozmiarze 1 z palika 1 na palik 2\n",
      "Przenieś klocek o rozmiarze 1 z palika 2 na palik 3\n",
      "Przenieś klocek o rozmiarze 3 z palika 1 na palik 2\n",
      "Przenieś klocek o rozmiarze 1 z palika 3 na palik 2\n",
      "Przenieś klocek o rozmiarze 1 z palika 2 na palik 1\n",
      "Przenieś klocek o rozmiarze 2 z palika 3 na palik 2\n",
      "Przenieś klocek o rozmiarze 1 z palika 1 na palik 2\n",
      "Wieża ułożona!\n"
     ]
    }
   ],
   "source": [
    "Hanoi(3,(1,2),True)"
   ]
  },
  {
   "cell_type": "code",
   "execution_count": 24,
   "id": "b96039a4",
   "metadata": {},
   "outputs": [
    {
     "name": "stdout",
     "output_type": "stream",
     "text": [
      "Przenieś klocek o rozmiarze 1 z palika 3 na palik 2\n",
      "Przenieś klocek o rozmiarze 1 z palika 2 na palik 1\n",
      "Przenieś klocek o rozmiarze 2 z palika 3 na palik 2\n",
      "Przenieś klocek o rozmiarze 1 z palika 1 na palik 2\n",
      "Przenieś klocek o rozmiarze 1 z palika 2 na palik 3\n",
      "Przenieś klocek o rozmiarze 2 z palika 2 na palik 1\n",
      "Przenieś klocek o rozmiarze 1 z palika 3 na palik 2\n",
      "Przenieś klocek o rozmiarze 1 z palika 2 na palik 1\n",
      "Przenieś klocek o rozmiarze 3 z palika 3 na palik 2\n",
      "Przenieś klocek o rozmiarze 1 z palika 1 na palik 2\n",
      "Przenieś klocek o rozmiarze 1 z palika 2 na palik 3\n",
      "Przenieś klocek o rozmiarze 2 z palika 1 na palik 2\n",
      "Przenieś klocek o rozmiarze 1 z palika 3 na palik 2\n",
      "Wieża ułożona!\n"
     ]
    }
   ],
   "source": [
    "Hanoi(3,(3,2),True)"
   ]
  },
  {
   "cell_type": "code",
   "execution_count": 25,
   "id": "addd392a",
   "metadata": {},
   "outputs": [
    {
     "name": "stdout",
     "output_type": "stream",
     "text": [
      "Przenieś klocek o rozmiarze 2 z palika 2 na palik 3\n",
      "Przenieś klocek o rozmiarze 2 z palika 2 na palik 1\n",
      "Przenieś klocek o rozmiarze 1 z palika 3 na palik 2\n",
      "Przenieś klocek o rozmiarze 1 z palika 2 na palik 1\n",
      "Przenieś klocek o rozmiarze 3 z palika 2 na palik 3\n",
      "Przenieś klocek o rozmiarze 1 z palika 1 na palik 2\n",
      "Przenieś klocek o rozmiarze 1 z palika 2 na palik 3\n",
      "Przenieś klocek o rozmiarze 2 z palika 1 na palik 2\n",
      "Przenieś klocek o rozmiarze 1 z palika 3 na palik 2\n",
      "Przenieś klocek o rozmiarze 1 z palika 2 na palik 1\n",
      "Przenieś klocek o rozmiarze 2 z palika 2 na palik 3\n",
      "Przenieś klocek o rozmiarze 1 z palika 1 na palik 2\n",
      "Przenieś klocek o rozmiarze 1 z palika 2 na palik 3\n",
      "Wieża ułożona!\n"
     ]
    }
   ],
   "source": [
    "Hanoi(3,(2,3),True)"
   ]
  },
  {
   "cell_type": "markdown",
   "id": "8c165808",
   "metadata": {},
   "source": [
    "# Zadanie 3 i 4"
   ]
  },
  {
   "cell_type": "code",
   "execution_count": 26,
   "id": "7cc485c9",
   "metadata": {},
   "outputs": [],
   "source": [
    "import turtle as tr"
   ]
  },
  {
   "cell_type": "code",
   "execution_count": 27,
   "id": "196d0326",
   "metadata": {},
   "outputs": [],
   "source": [
    "def koch(n, size, first = False):\n",
    "    \"\"\"\n",
    "    n - stopień płatka kocha\n",
    "    size - wielkość całego płatka\n",
    "    first - czy zostało wykonane przy uruchamianiu\n",
    "    \"\"\"\n",
    "    if (first):\n",
    "        tr.speed(5*(4/3)**n) # przyśpiesza dla duzych n by wszystkie krzywe wykonywał w tym samym czasie (ale i tak jest ograniczenie procesora)\n",
    "        tr.clear()\n",
    "        tr.penup()\n",
    "        tr.goto(-size/2,size/2)\n",
    "        tr.pendown()\n",
    "        koch(n, size);\n",
    "        tr.left(-120);\n",
    "        koch(n, size);\n",
    "        tr.left(-120);\n",
    "        koch(n, size);\n",
    "        tr.left(-120);\n",
    "    else:\n",
    "        if (n > 0) :\n",
    "            koch(n - 1, size / 3);\n",
    "            tr.left(60);\n",
    "            koch(n - 1, size / 3);\n",
    "            tr.left(-120);\n",
    "            koch(n - 1, size / 3);\n",
    "            tr.left(60);\n",
    "            koch(n - 1, size / 3);\n",
    "        else:\n",
    "            tr.forward(size);\n",
    "        \n",
    "    return False;"
   ]
  },
  {
   "cell_type": "code",
   "execution_count": 30,
   "id": "caf10af1",
   "metadata": {},
   "outputs": [
    {
     "data": {
      "text/plain": [
       "False"
      ]
     },
     "execution_count": 30,
     "metadata": {},
     "output_type": "execute_result"
    }
   ],
   "source": [
    "koch(0,400,True)"
   ]
  },
  {
   "cell_type": "code",
   "execution_count": 32,
   "id": "55e6a648",
   "metadata": {},
   "outputs": [
    {
     "data": {
      "text/plain": [
       "False"
      ]
     },
     "execution_count": 32,
     "metadata": {},
     "output_type": "execute_result"
    }
   ],
   "source": [
    "koch(4,400,True)"
   ]
  },
  {
   "cell_type": "code",
   "execution_count": 33,
   "id": "3df3a31f",
   "metadata": {},
   "outputs": [],
   "source": [
    "def hilbert(n,size,angle=90,first=False):\n",
    "    \"\"\"\n",
    "    n - stopień krzywej\n",
    "    size - wielkość krzywej\n",
    "    first - czy zostało wykonane przy uruchamianiu\n",
    "    \"\"\"\n",
    "    if first:\n",
    "        tr.goto(-size/2,-size/2)\n",
    "        tr.clear()\n",
    "        tr.left(-tr.heading()+90)\n",
    "        size=size/(2**n-1)\n",
    "    if n >0:\n",
    "        tr.right(angle)\n",
    "        hilbert(n-1,size,-angle)\n",
    "        tr.forward(size)\n",
    "        tr.left(angle)\n",
    "        hilbert(n-1,size,angle)\n",
    "        tr.forward(size)\n",
    "        hilbert(n-1,size,angle)\n",
    "        tr.left(angle)\n",
    "        tr.forward(size)\n",
    "        hilbert(n-1,size,-angle)\n",
    "        tr.right(angle)\n",
    "    "
   ]
  },
  {
   "cell_type": "code",
   "execution_count": 35,
   "id": "7deb906a",
   "metadata": {},
   "outputs": [],
   "source": [
    "hilbert(5,400,90,True)"
   ]
  },
  {
   "cell_type": "markdown",
   "id": "6d292f3f",
   "metadata": {},
   "source": [
    "Im większy stopień (dłóższa krzywa), tym szybciej się porusza, by za każdym razem kończył w tym samym momencie (dla wyższych stopni ograniczeniem jest procesor)"
   ]
  }
 ],
 "metadata": {
  "kernelspec": {
   "display_name": "Python 3",
   "language": "python",
   "name": "python3"
  },
  "language_info": {
   "codemirror_mode": {
    "name": "ipython",
    "version": 3
   },
   "file_extension": ".py",
   "mimetype": "text/x-python",
   "name": "python",
   "nbconvert_exporter": "python",
   "pygments_lexer": "ipython3",
   "version": "3.9.5"
  }
 },
 "nbformat": 4,
 "nbformat_minor": 5
}
