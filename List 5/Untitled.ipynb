{
 "cells": [
  {
   "cell_type": "markdown",
   "id": "4bb94798",
   "metadata": {},
   "source": [
    "https://github.com/KacperBudnik/AiSD/tree/main/List%205"
   ]
  },
  {
   "cell_type": "markdown",
   "id": "2d4fc29b",
   "metadata": {},
   "source": [
    "# Zadanie 1"
   ]
  },
  {
   "cell_type": "markdown",
   "id": "eee7980e",
   "metadata": {},
   "source": []
  },
  {
   "cell_type": "code",
   "execution_count": 1,
   "id": "71d3b455",
   "metadata": {},
   "outputs": [],
   "source": [
    "import numpy as np\n",
    "from scipy import linalg\n",
    "import timeit\n",
    "import random"
   ]
  },
  {
   "cell_type": "code",
   "execution_count": 2,
   "id": "a4c647e7",
   "metadata": {},
   "outputs": [],
   "source": [
    "a = np.array([[3,2,0],[1,-1,0],[0,5,1]])"
   ]
  },
  {
   "cell_type": "code",
   "execution_count": 3,
   "id": "40e9607e",
   "metadata": {},
   "outputs": [],
   "source": [
    "b = np.array([2, 4, -1])"
   ]
  },
  {
   "cell_type": "code",
   "execution_count": 4,
   "id": "dc9eef9b",
   "metadata": {},
   "outputs": [],
   "source": [
    "x = linalg.solve(a,b)"
   ]
  },
  {
   "cell_type": "code",
   "execution_count": 5,
   "id": "4d902de0",
   "metadata": {},
   "outputs": [
    {
     "data": {
      "text/plain": [
       "array([ 2., -2.,  9.])"
      ]
     },
     "execution_count": 5,
     "metadata": {},
     "output_type": "execute_result"
    }
   ],
   "source": [
    "x"
   ]
  },
  {
   "cell_type": "code",
   "execution_count": 13,
   "id": "75dad622",
   "metadata": {},
   "outputs": [
    {
     "data": {
      "text/plain": [
       "array([ True,  True,  True])"
      ]
     },
     "execution_count": 13,
     "metadata": {},
     "output_type": "execute_result"
    }
   ],
   "source": [
    "np.dot(a,x) == b"
   ]
  },
  {
   "cell_type": "code",
   "execution_count": null,
   "id": "ebd69196",
   "metadata": {},
   "outputs": [],
   "source": []
  },
  {
   "cell_type": "code",
   "execution_count": null,
   "id": "730f5dc7",
   "metadata": {},
   "outputs": [],
   "source": []
  },
  {
   "cell_type": "code",
   "execution_count": 92,
   "id": "9656b1f7",
   "metadata": {},
   "outputs": [],
   "source": [
    "def solve_n_res(n,a=-50,b=50):\n",
    "    x=np.random.randint(a,b+1,n)\n",
    "    A=np.random.randint(a,b+1,(n,n))\n",
    "    b=[sum(x[i]*a[i] for i in range(n)) for a in A]\n",
    "    return (x,A,b)"
   ]
  },
  {
   "cell_type": "code",
   "execution_count": 87,
   "id": "e6fd45c5",
   "metadata": {},
   "outputs": [],
   "source": [
    "x=solve_n_res(100)"
   ]
  },
  {
   "cell_type": "code",
   "execution_count": 88,
   "id": "ae1490cb",
   "metadata": {},
   "outputs": [
    {
     "data": {
      "text/plain": [
       "(array([-22,  48,  22, -34,   4, -40, -26,  33,  13,   3,  41, -13, -50,\n",
       "          8,  47,  44, -42, -19,  -4,  26,  21, -32,  15, -30,   4, -30,\n",
       "        -10,   4, -32,  31, -38,  40,  -3,  12, -35, -36, -41,  -8,  15,\n",
       "        -36,  36,  47,  15,  37, -34,   7, -32,   9,  -1,  -8, -38,  49,\n",
       "         11,  22,  37,  39, -14,  35,  -6, -48, -44,  23,   9,  40,  17,\n",
       "        -11,  26, -16, -20,   1,   2, -16, -27, -21, -48,  50,  24,  31,\n",
       "         46,  19, -41,  47, -11,  37, -22,  27,  35,  13,  34,  -4, -40,\n",
       "        -47,  36, -34,  44, -43, -44, -43, -21,  21]),\n",
       " array([[-48,   8,  18, ...,  39,   9,   0],\n",
       "        [-20,  19,  42, ..., -50,  -3, -38],\n",
       "        [  6, -13,  21, ...,  49,   1, -16],\n",
       "        ...,\n",
       "        [  8, -28, -16, ..., -42, -24,  34],\n",
       "        [ -2,  28, -43, ...,  32,  33,   5],\n",
       "        [ 19, -12,  -3, ...,  17, -18,  27]]),\n",
       " [-4967,\n",
       "  2952,\n",
       "  2804,\n",
       "  2352,\n",
       "  6635,\n",
       "  7737,\n",
       "  2073,\n",
       "  -811,\n",
       "  6649,\n",
       "  16445,\n",
       "  13067,\n",
       "  6454,\n",
       "  -16701,\n",
       "  3917,\n",
       "  23010,\n",
       "  -3243,\n",
       "  -622,\n",
       "  -4958,\n",
       "  -369,\n",
       "  3459,\n",
       "  -7789,\n",
       "  15901,\n",
       "  -12948,\n",
       "  -14379,\n",
       "  20329,\n",
       "  -23422,\n",
       "  -13165,\n",
       "  -9395,\n",
       "  -8311,\n",
       "  5595,\n",
       "  6389,\n",
       "  -14107,\n",
       "  10509,\n",
       "  22360,\n",
       "  -1645,\n",
       "  -12659,\n",
       "  -777,\n",
       "  -16009,\n",
       "  -3147,\n",
       "  -7219,\n",
       "  -4932,\n",
       "  -5137,\n",
       "  4230,\n",
       "  490,\n",
       "  -12632,\n",
       "  -11382,\n",
       "  1339,\n",
       "  -16318,\n",
       "  8938,\n",
       "  -467,\n",
       "  2346,\n",
       "  3972,\n",
       "  6539,\n",
       "  217,\n",
       "  -3704,\n",
       "  3342,\n",
       "  4009,\n",
       "  6809,\n",
       "  -4845,\n",
       "  -7286,\n",
       "  -5254,\n",
       "  2705,\n",
       "  -974,\n",
       "  -17596,\n",
       "  1877,\n",
       "  -8477,\n",
       "  -4742,\n",
       "  -13308,\n",
       "  -13504,\n",
       "  -8489,\n",
       "  8911,\n",
       "  -2982,\n",
       "  1899,\n",
       "  -803,\n",
       "  2594,\n",
       "  -2034,\n",
       "  -7270,\n",
       "  3011,\n",
       "  4784,\n",
       "  2635,\n",
       "  7748,\n",
       "  -1257,\n",
       "  4771,\n",
       "  1106,\n",
       "  6524,\n",
       "  13113,\n",
       "  3135,\n",
       "  19143,\n",
       "  -21774,\n",
       "  -1358,\n",
       "  -2245,\n",
       "  -2262,\n",
       "  -5876,\n",
       "  -1614,\n",
       "  5069,\n",
       "  10964,\n",
       "  15204,\n",
       "  16182,\n",
       "  -6336,\n",
       "  -4617])"
      ]
     },
     "execution_count": 88,
     "metadata": {},
     "output_type": "execute_result"
    }
   ],
   "source": [
    "x"
   ]
  },
  {
   "cell_type": "code",
   "execution_count": 89,
   "id": "f22dbc2a",
   "metadata": {},
   "outputs": [
    {
     "data": {
      "text/plain": [
       "True"
      ]
     },
     "execution_count": 89,
     "metadata": {},
     "output_type": "execute_result"
    }
   ],
   "source": [
    "all(np.dot(x[1],x[0])==x[2])"
   ]
  },
  {
   "cell_type": "code",
   "execution_count": 133,
   "id": "005a050b",
   "metadata": {},
   "outputs": [],
   "source": [
    "def solve_n(n,a=-50,b=50):\n",
    "    x=np.random.randint(a,b+1,n)\n",
    "    A=np.random.randint(a,b+1,(n,n))\n",
    "    b=[sum(x[i]*a[i] for i in range(n)) for a in A]\n",
    "\n",
    "    \n",
    "    return timeit.timeit(\"linalg.solve(A,b)\",\"from scipy import linalg\",number=1,globals=locals())"
   ]
  },
  {
   "cell_type": "code",
   "execution_count": 134,
   "id": "dcb80b83",
   "metadata": {},
   "outputs": [
    {
     "data": {
      "text/plain": [
       "0.00017989999969358905"
      ]
     },
     "execution_count": 134,
     "metadata": {},
     "output_type": "execute_result"
    }
   ],
   "source": [
    "solve_n(10)"
   ]
  },
  {
   "cell_type": "code",
   "execution_count": 143,
   "id": "07cc29ae",
   "metadata": {},
   "outputs": [
    {
     "data": {
      "text/plain": [
       "1"
      ]
     },
     "execution_count": 143,
     "metadata": {},
     "output_type": "execute_result"
    }
   ],
   "source": [
    "solve_n(10000)"
   ]
  },
  {
   "cell_type": "code",
   "execution_count": null,
   "id": "2c2d5b05",
   "metadata": {},
   "outputs": [],
   "source": []
  },
  {
   "cell_type": "code",
   "execution_count": 142,
   "id": "7778c477",
   "metadata": {},
   "outputs": [],
   "source": [
    "def solve_n(n,a=-50,b=50):\n",
    "    x=np.random.randint(a,b+1,n)\n",
    "    A=np.random.randint(a,b+1,(n,n))\n",
    "    b=[sum(x[i]*a[i] for i in range(n)) for a in A]\n",
    "\n",
    "    \n",
    "    return 1"
   ]
  },
  {
   "cell_type": "code",
   "execution_count": null,
   "id": "9103fd4a",
   "metadata": {},
   "outputs": [],
   "source": []
  },
  {
   "cell_type": "code",
   "execution_count": null,
   "id": "85d47cca",
   "metadata": {},
   "outputs": [],
   "source": []
  },
  {
   "cell_type": "code",
   "execution_count": null,
   "id": "7c5c7983",
   "metadata": {},
   "outputs": [],
   "source": []
  },
  {
   "cell_type": "markdown",
   "id": "e485c11e",
   "metadata": {},
   "source": [
    "# n=1e4"
   ]
  },
  {
   "cell_type": "code",
   "execution_count": null,
   "id": "611f91a0",
   "metadata": {},
   "outputs": [],
   "source": []
  },
  {
   "cell_type": "code",
   "execution_count": 156,
   "id": "c3125b2d",
   "metadata": {},
   "outputs": [],
   "source": [
    "x=np.random.randint(-100,100,50000)"
   ]
  },
  {
   "cell_type": "code",
   "execution_count": 154,
   "id": "acccb5e2",
   "metadata": {},
   "outputs": [],
   "source": [
    "A=np.random.randint(-100,100,(50000,50000))"
   ]
  },
  {
   "cell_type": "code",
   "execution_count": 155,
   "id": "552c4bd3",
   "metadata": {},
   "outputs": [
    {
     "data": {
      "text/plain": [
       "array([[  7, -55,  18, ...,  61, -20,   9],\n",
       "       [-86,  71, -32, ...,  67, -91,  94],\n",
       "       [-67,  42, -73, ..., -22, -27, -67],\n",
       "       ...,\n",
       "       [-83,  54,  10, ...,  87, -94,  18],\n",
       "       [-49, -11, -87, ..., -77,   9,  37],\n",
       "       [ 63, -68, -61, ...,  -4, -76,  84]])"
      ]
     },
     "execution_count": 155,
     "metadata": {},
     "output_type": "execute_result"
    }
   ],
   "source": [
    "A"
   ]
  },
  {
   "cell_type": "code",
   "execution_count": null,
   "id": "b69b7d4e",
   "metadata": {},
   "outputs": [],
   "source": []
  },
  {
   "cell_type": "code",
   "execution_count": null,
   "id": "527283fe",
   "metadata": {},
   "outputs": [],
   "source": []
  },
  {
   "cell_type": "markdown",
   "id": "b7c5c843",
   "metadata": {},
   "source": [
    "# n=5e4"
   ]
  },
  {
   "cell_type": "code",
   "execution_count": null,
   "id": "5c1278f8",
   "metadata": {},
   "outputs": [],
   "source": []
  },
  {
   "cell_type": "code",
   "execution_count": null,
   "id": "850bb4ce",
   "metadata": {},
   "outputs": [],
   "source": []
  },
  {
   "cell_type": "code",
   "execution_count": null,
   "id": "7f3d90f6",
   "metadata": {},
   "outputs": [],
   "source": []
  },
  {
   "cell_type": "code",
   "execution_count": 9,
   "id": "7b94c9db",
   "metadata": {},
   "outputs": [],
   "source": [
    "times=np.zeros(15)"
   ]
  },
  {
   "cell_type": "markdown",
   "id": "65ce106b",
   "metadata": {},
   "source": [
    "# n=2"
   ]
  },
  {
   "cell_type": "code",
   "execution_count": 39,
   "id": "be372c4a",
   "metadata": {},
   "outputs": [],
   "source": [
    "n=2"
   ]
  },
  {
   "cell_type": "code",
   "execution_count": 40,
   "id": "e9981a14",
   "metadata": {},
   "outputs": [],
   "source": [
    "b=np.random.randint(-2**10,2**10,n)"
   ]
  },
  {
   "cell_type": "code",
   "execution_count": 41,
   "id": "debe8791",
   "metadata": {},
   "outputs": [],
   "source": [
    "A=[[0]]\n",
    "while linalg.det(A)==0:\n",
    "    A=np.random.randint(-2**10,2**10,(n,n))"
   ]
  },
  {
   "cell_type": "code",
   "execution_count": 42,
   "id": "d58bc174",
   "metadata": {},
   "outputs": [],
   "source": [
    "b=[sum(x[i]*a[i] for i in range(n)) for a in A]"
   ]
  },
  {
   "cell_type": "code",
   "execution_count": 45,
   "id": "10d5c8e0",
   "metadata": {},
   "outputs": [],
   "source": [
    "times[0]=timeit.timeit(\"linalg.solve(A,b)\",globals=globals(),number=1)"
   ]
  },
  {
   "cell_type": "code",
   "execution_count": 46,
   "id": "23133731",
   "metadata": {},
   "outputs": [
    {
     "data": {
      "text/plain": [
       "0.0001732000000060907"
      ]
     },
     "execution_count": 46,
     "metadata": {},
     "output_type": "execute_result"
    }
   ],
   "source": []
  },
  {
   "cell_type": "code",
   "execution_count": 27,
   "id": "f59b44b8",
   "metadata": {},
   "outputs": [
    {
     "ename": "LinAlgError",
     "evalue": "Matrix is singular.",
     "output_type": "error",
     "traceback": [
      "\u001b[1;31m---------------------------------------------------------------------------\u001b[0m",
      "\u001b[1;31mLinAlgError\u001b[0m                               Traceback (most recent call last)",
      "\u001b[1;32m<ipython-input-27-67ee2bc6c500>\u001b[0m in \u001b[0;36m<module>\u001b[1;34m\u001b[0m\n\u001b[1;32m----> 1\u001b[1;33m \u001b[0mlinalg\u001b[0m\u001b[1;33m.\u001b[0m\u001b[0msolve\u001b[0m\u001b[1;33m(\u001b[0m\u001b[0mA\u001b[0m\u001b[1;33m,\u001b[0m\u001b[0mb\u001b[0m\u001b[1;33m)\u001b[0m\u001b[1;33m\u001b[0m\u001b[1;33m\u001b[0m\u001b[0m\n\u001b[0m",
      "\u001b[1;32mc:\\users\\kacper\\appdata\\local\\programs\\python\\python39\\lib\\site-packages\\scipy\\linalg\\basic.py\u001b[0m in \u001b[0;36msolve\u001b[1;34m(a, b, sym_pos, lower, overwrite_a, overwrite_b, debug, check_finite, assume_a, transposed)\u001b[0m\n\u001b[0;32m    217\u001b[0m                                                (a1, b1))\n\u001b[0;32m    218\u001b[0m         \u001b[0mlu\u001b[0m\u001b[1;33m,\u001b[0m \u001b[0mipvt\u001b[0m\u001b[1;33m,\u001b[0m \u001b[0minfo\u001b[0m \u001b[1;33m=\u001b[0m \u001b[0mgetrf\u001b[0m\u001b[1;33m(\u001b[0m\u001b[0ma1\u001b[0m\u001b[1;33m,\u001b[0m \u001b[0moverwrite_a\u001b[0m\u001b[1;33m=\u001b[0m\u001b[0moverwrite_a\u001b[0m\u001b[1;33m)\u001b[0m\u001b[1;33m\u001b[0m\u001b[1;33m\u001b[0m\u001b[0m\n\u001b[1;32m--> 219\u001b[1;33m         \u001b[0m_solve_check\u001b[0m\u001b[1;33m(\u001b[0m\u001b[0mn\u001b[0m\u001b[1;33m,\u001b[0m \u001b[0minfo\u001b[0m\u001b[1;33m)\u001b[0m\u001b[1;33m\u001b[0m\u001b[1;33m\u001b[0m\u001b[0m\n\u001b[0m\u001b[0;32m    220\u001b[0m         x, info = getrs(lu, ipvt, b1,\n\u001b[0;32m    221\u001b[0m                         trans=trans, overwrite_b=overwrite_b)\n",
      "\u001b[1;32mc:\\users\\kacper\\appdata\\local\\programs\\python\\python39\\lib\\site-packages\\scipy\\linalg\\basic.py\u001b[0m in \u001b[0;36m_solve_check\u001b[1;34m(n, info, lamch, rcond)\u001b[0m\n\u001b[0;32m     27\u001b[0m                          '.'.format(-info))\n\u001b[0;32m     28\u001b[0m     \u001b[1;32melif\u001b[0m \u001b[1;36m0\u001b[0m \u001b[1;33m<\u001b[0m \u001b[0minfo\u001b[0m\u001b[1;33m:\u001b[0m\u001b[1;33m\u001b[0m\u001b[1;33m\u001b[0m\u001b[0m\n\u001b[1;32m---> 29\u001b[1;33m         \u001b[1;32mraise\u001b[0m \u001b[0mLinAlgError\u001b[0m\u001b[1;33m(\u001b[0m\u001b[1;34m'Matrix is singular.'\u001b[0m\u001b[1;33m)\u001b[0m\u001b[1;33m\u001b[0m\u001b[1;33m\u001b[0m\u001b[0m\n\u001b[0m\u001b[0;32m     30\u001b[0m \u001b[1;33m\u001b[0m\u001b[0m\n\u001b[0;32m     31\u001b[0m     \u001b[1;32mif\u001b[0m \u001b[0mlamch\u001b[0m \u001b[1;32mis\u001b[0m \u001b[1;32mNone\u001b[0m\u001b[1;33m:\u001b[0m\u001b[1;33m\u001b[0m\u001b[1;33m\u001b[0m\u001b[0m\n",
      "\u001b[1;31mLinAlgError\u001b[0m: Matrix is singular."
     ]
    }
   ],
   "source": []
  },
  {
   "cell_type": "code",
   "execution_count": 23,
   "id": "fff29b81",
   "metadata": {},
   "outputs": [],
   "source": [
    "A[1,0]=-1"
   ]
  },
  {
   "cell_type": "code",
   "execution_count": 24,
   "id": "01e8de60",
   "metadata": {},
   "outputs": [
    {
     "data": {
      "text/plain": [
       "array([[ 1,  1],\n",
       "       [-1, -1]])"
      ]
     },
     "execution_count": 24,
     "metadata": {},
     "output_type": "execute_result"
    }
   ],
   "source": [
    "A"
   ]
  },
  {
   "cell_type": "code",
   "execution_count": 25,
   "id": "06615db9",
   "metadata": {},
   "outputs": [],
   "source": [
    "b=[1,-1]"
   ]
  },
  {
   "cell_type": "code",
   "execution_count": 26,
   "id": "7cc3a1ca",
   "metadata": {},
   "outputs": [
    {
     "data": {
      "text/plain": [
       "[1, -1]"
      ]
     },
     "execution_count": 26,
     "metadata": {},
     "output_type": "execute_result"
    }
   ],
   "source": [
    "b"
   ]
  },
  {
   "cell_type": "code",
   "execution_count": null,
   "id": "f03dc5a1",
   "metadata": {},
   "outputs": [],
   "source": []
  },
  {
   "cell_type": "code",
   "execution_count": null,
   "id": "2ed76a4b",
   "metadata": {},
   "outputs": [],
   "source": []
  },
  {
   "cell_type": "code",
   "execution_count": 28,
   "id": "af487cbf",
   "metadata": {},
   "outputs": [],
   "source": [
    "A=np.random.randint(-2**10,2**10,(10000,10000))"
   ]
  },
  {
   "cell_type": "code",
   "execution_count": 30,
   "id": "98ad9353",
   "metadata": {},
   "outputs": [
    {
     "data": {
      "text/plain": [
       "-inf"
      ]
     },
     "execution_count": 30,
     "metadata": {},
     "output_type": "execute_result"
    }
   ],
   "source": []
  },
  {
   "cell_type": "code",
   "execution_count": null,
   "id": "4113effa",
   "metadata": {},
   "outputs": [],
   "source": []
  },
  {
   "cell_type": "code",
   "execution_count": null,
   "id": "a1e6586a",
   "metadata": {},
   "outputs": [],
   "source": []
  },
  {
   "cell_type": "code",
   "execution_count": null,
   "id": "dc610734",
   "metadata": {},
   "outputs": [],
   "source": []
  },
  {
   "cell_type": "code",
   "execution_count": 52,
   "id": "75bce06f",
   "metadata": {},
   "outputs": [],
   "source": [
    "times=np.zeros(15)"
   ]
  },
  {
   "cell_type": "code",
   "execution_count": 53,
   "id": "4b11f90e",
   "metadata": {},
   "outputs": [],
   "source": [
    "for i in range(15):\n",
    "    n=2**i\n",
    "    b=np.random.randint(-2**10,2**10,n)\n",
    "    A=[[0]]\n",
    "    while linalg.det(A)==0:\n",
    "        A=np.random.randint(-2**10,2**10,(n,n))\n",
    "    times[i]=timeit.timeit(\"linalg.solve(A,b)\",globals=globals(),number=10)"
   ]
  },
  {
   "cell_type": "code",
   "execution_count": 49,
   "id": "379f2663",
   "metadata": {},
   "outputs": [
    {
     "data": {
      "text/plain": [
       "array([9.06000000e-05, 1.43000000e-04, 9.64999999e-05, 1.23900000e-04,\n",
       "       7.41000000e-05, 1.07100000e-04, 9.96000000e-05, 2.56230000e-03,\n",
       "       5.08950000e-03, 1.32647000e-02, 3.28440000e-02, 1.20990500e-01,\n",
       "       6.70866900e-01, 2.93350250e+00, 2.26075319e+01])"
      ]
     },
     "execution_count": 49,
     "metadata": {},
     "output_type": "execute_result"
    }
   ],
   "source": [
    "times"
   ]
  },
  {
   "cell_type": "code",
   "execution_count": 54,
   "id": "857a8a68",
   "metadata": {},
   "outputs": [],
   "source": [
    "times1=np.zeros(15)"
   ]
  },
  {
   "cell_type": "code",
   "execution_count": 55,
   "id": "e477dfd9",
   "metadata": {},
   "outputs": [],
   "source": [
    "times2=np.zeros(15)"
   ]
  },
  {
   "cell_type": "code",
   "execution_count": 56,
   "id": "c03616bd",
   "metadata": {},
   "outputs": [],
   "source": [
    "for i in range(15):\n",
    "    n=2**i\n",
    "    b=np.random.randint(-2**10,2**10,n)\n",
    "    A=[[0]]\n",
    "    while linalg.det(A)==0:\n",
    "        A=np.random.randint(-2**10,2**10,(n,n))\n",
    "    times1[i]=timeit.timeit(\"linalg.solve(A,b)\",globals=globals(),number=1)"
   ]
  },
  {
   "cell_type": "code",
   "execution_count": 57,
   "id": "7bf4a8d4",
   "metadata": {},
   "outputs": [],
   "source": [
    "for i in range(15):\n",
    "    n=2**i\n",
    "    b=np.random.randint(-2**10,2**10,n)\n",
    "    A=[[0]]\n",
    "    while linalg.det(A)==0:\n",
    "        A=np.random.randint(-2**10,2**10,(n,n))\n",
    "    times2[i]=timeit.timeit(\"linalg.solve(A,b)\",globals=globals(),number=10)"
   ]
  },
  {
   "cell_type": "code",
   "execution_count": 58,
   "id": "23061fcd",
   "metadata": {},
   "outputs": [],
   "source": [
    "times3=np.zeros(16)"
   ]
  },
  {
   "cell_type": "code",
   "execution_count": 59,
   "id": "e5162e0a",
   "metadata": {},
   "outputs": [],
   "source": [
    "for i in range(16):\n",
    "    n=2**i\n",
    "    b=np.random.randint(-2**10,2**10,n)\n",
    "    A=[[0]]\n",
    "    while linalg.det(A)==0:\n",
    "        A=np.random.randint(-2**10,2**10,(n,n))\n",
    "    times3[i]=timeit.timeit(\"linalg.solve(A,b)\",globals=globals(),number=1)"
   ]
  },
  {
   "cell_type": "code",
   "execution_count": 60,
   "id": "76fde59a",
   "metadata": {},
   "outputs": [],
   "source": [
    "times4=np.zeros(16)"
   ]
  },
  {
   "cell_type": "code",
   "execution_count": 61,
   "id": "c9ab9acc",
   "metadata": {},
   "outputs": [],
   "source": [
    "for i in range(16):\n",
    "    n=2**i\n",
    "    b=np.random.randint(-2**10,2**10,n)\n",
    "    A=[[0]]\n",
    "    while linalg.det(A)==0:\n",
    "        A=np.random.randint(-2**10,2**10,(n,n))\n",
    "    times4[i]=timeit.timeit(\"linalg.solve(A,b)\",globals=globals(),number=10)"
   ]
  },
  {
   "cell_type": "code",
   "execution_count": 62,
   "id": "5138539e",
   "metadata": {},
   "outputs": [],
   "source": [
    "times5=np.zeros(16)"
   ]
  },
  {
   "cell_type": "code",
   "execution_count": 63,
   "id": "fedf183d",
   "metadata": {},
   "outputs": [],
   "source": [
    "for i in range(16):\n",
    "    n=2**i\n",
    "    b=np.random.randint(-2**10,2**10,n)\n",
    "    A=[[0]]\n",
    "    while linalg.det(A)==0:\n",
    "        A=np.random.randint(-2**10,2**10,(n,n))\n",
    "    times5[i]=timeit.timeit(\"linalg.solve(A,b)\",globals=globals(),number=10)"
   ]
  },
  {
   "cell_type": "code",
   "execution_count": 64,
   "id": "a9b87e7f",
   "metadata": {},
   "outputs": [],
   "source": [
    "times6=np.zeros(17)"
   ]
  },
  {
   "cell_type": "code",
   "execution_count": 65,
   "id": "c1e3f596",
   "metadata": {},
   "outputs": [
    {
     "ename": "TypeError",
     "evalue": "__init__() missing 1 required positional argument: 'dtype'",
     "output_type": "error",
     "traceback": [
      "\u001b[1;31m---------------------------------------------------------------------------\u001b[0m",
      "\u001b[1;31mMemoryError\u001b[0m                               Traceback (most recent call last)",
      "\u001b[1;31mMemoryError\u001b[0m: Unable to allocate 32.0 GiB for an array with shape (65536, 65536) and data type float64",
      "\nThe above exception was the direct cause of the following exception:\n",
      "\u001b[1;31mTypeError\u001b[0m                                 Traceback (most recent call last)",
      "\u001b[1;32m<ipython-input-65-666b40486679>\u001b[0m in \u001b[0;36m<module>\u001b[1;34m\u001b[0m\n\u001b[0;32m      3\u001b[0m     \u001b[0mb\u001b[0m\u001b[1;33m=\u001b[0m\u001b[0mnp\u001b[0m\u001b[1;33m.\u001b[0m\u001b[0mrandom\u001b[0m\u001b[1;33m.\u001b[0m\u001b[0mrandint\u001b[0m\u001b[1;33m(\u001b[0m\u001b[1;33m-\u001b[0m\u001b[1;36m2\u001b[0m\u001b[1;33m**\u001b[0m\u001b[1;36m10\u001b[0m\u001b[1;33m,\u001b[0m\u001b[1;36m2\u001b[0m\u001b[1;33m**\u001b[0m\u001b[1;36m10\u001b[0m\u001b[1;33m,\u001b[0m\u001b[0mn\u001b[0m\u001b[1;33m)\u001b[0m\u001b[1;33m\u001b[0m\u001b[1;33m\u001b[0m\u001b[0m\n\u001b[0;32m      4\u001b[0m     \u001b[0mA\u001b[0m\u001b[1;33m=\u001b[0m\u001b[1;33m[\u001b[0m\u001b[1;33m[\u001b[0m\u001b[1;36m0\u001b[0m\u001b[1;33m]\u001b[0m\u001b[1;33m]\u001b[0m\u001b[1;33m\u001b[0m\u001b[1;33m\u001b[0m\u001b[0m\n\u001b[1;32m----> 5\u001b[1;33m     \u001b[1;32mwhile\u001b[0m \u001b[0mlinalg\u001b[0m\u001b[1;33m.\u001b[0m\u001b[0mdet\u001b[0m\u001b[1;33m(\u001b[0m\u001b[0mA\u001b[0m\u001b[1;33m)\u001b[0m\u001b[1;33m==\u001b[0m\u001b[1;36m0\u001b[0m\u001b[1;33m:\u001b[0m\u001b[1;33m\u001b[0m\u001b[1;33m\u001b[0m\u001b[0m\n\u001b[0m\u001b[0;32m      6\u001b[0m         \u001b[0mA\u001b[0m\u001b[1;33m=\u001b[0m\u001b[0mnp\u001b[0m\u001b[1;33m.\u001b[0m\u001b[0mrandom\u001b[0m\u001b[1;33m.\u001b[0m\u001b[0mrandint\u001b[0m\u001b[1;33m(\u001b[0m\u001b[1;33m-\u001b[0m\u001b[1;36m2\u001b[0m\u001b[1;33m**\u001b[0m\u001b[1;36m10\u001b[0m\u001b[1;33m,\u001b[0m\u001b[1;36m2\u001b[0m\u001b[1;33m**\u001b[0m\u001b[1;36m10\u001b[0m\u001b[1;33m,\u001b[0m\u001b[1;33m(\u001b[0m\u001b[0mn\u001b[0m\u001b[1;33m,\u001b[0m\u001b[0mn\u001b[0m\u001b[1;33m)\u001b[0m\u001b[1;33m)\u001b[0m\u001b[1;33m\u001b[0m\u001b[1;33m\u001b[0m\u001b[0m\n\u001b[0;32m      7\u001b[0m     \u001b[0mtimes6\u001b[0m\u001b[1;33m[\u001b[0m\u001b[0mi\u001b[0m\u001b[1;33m]\u001b[0m\u001b[1;33m=\u001b[0m\u001b[0mtimeit\u001b[0m\u001b[1;33m.\u001b[0m\u001b[0mtimeit\u001b[0m\u001b[1;33m(\u001b[0m\u001b[1;34m\"linalg.solve(A,b)\"\u001b[0m\u001b[1;33m,\u001b[0m\u001b[0mglobals\u001b[0m\u001b[1;33m=\u001b[0m\u001b[0mglobals\u001b[0m\u001b[1;33m(\u001b[0m\u001b[1;33m)\u001b[0m\u001b[1;33m,\u001b[0m\u001b[0mnumber\u001b[0m\u001b[1;33m=\u001b[0m\u001b[1;36m1\u001b[0m\u001b[1;33m)\u001b[0m\u001b[1;33m\u001b[0m\u001b[1;33m\u001b[0m\u001b[0m\n",
      "\u001b[1;32mc:\\users\\kacper\\appdata\\local\\programs\\python\\python39\\lib\\site-packages\\scipy\\linalg\\basic.py\u001b[0m in \u001b[0;36mdet\u001b[1;34m(a, overwrite_a, check_finite)\u001b[0m\n\u001b[0;32m   1026\u001b[0m     \u001b[0moverwrite_a\u001b[0m \u001b[1;33m=\u001b[0m \u001b[0moverwrite_a\u001b[0m \u001b[1;32mor\u001b[0m \u001b[0m_datacopied\u001b[0m\u001b[1;33m(\u001b[0m\u001b[0ma1\u001b[0m\u001b[1;33m,\u001b[0m \u001b[0ma\u001b[0m\u001b[1;33m)\u001b[0m\u001b[1;33m\u001b[0m\u001b[1;33m\u001b[0m\u001b[0m\n\u001b[0;32m   1027\u001b[0m     \u001b[0mfdet\u001b[0m\u001b[1;33m,\u001b[0m \u001b[1;33m=\u001b[0m \u001b[0mget_flinalg_funcs\u001b[0m\u001b[1;33m(\u001b[0m\u001b[1;33m(\u001b[0m\u001b[1;34m'det'\u001b[0m\u001b[1;33m,\u001b[0m\u001b[1;33m)\u001b[0m\u001b[1;33m,\u001b[0m \u001b[1;33m(\u001b[0m\u001b[0ma1\u001b[0m\u001b[1;33m,\u001b[0m\u001b[1;33m)\u001b[0m\u001b[1;33m)\u001b[0m\u001b[1;33m\u001b[0m\u001b[1;33m\u001b[0m\u001b[0m\n\u001b[1;32m-> 1028\u001b[1;33m     \u001b[0ma_det\u001b[0m\u001b[1;33m,\u001b[0m \u001b[0minfo\u001b[0m \u001b[1;33m=\u001b[0m \u001b[0mfdet\u001b[0m\u001b[1;33m(\u001b[0m\u001b[0ma1\u001b[0m\u001b[1;33m,\u001b[0m \u001b[0moverwrite_a\u001b[0m\u001b[1;33m=\u001b[0m\u001b[0moverwrite_a\u001b[0m\u001b[1;33m)\u001b[0m\u001b[1;33m\u001b[0m\u001b[1;33m\u001b[0m\u001b[0m\n\u001b[0m\u001b[0;32m   1029\u001b[0m     \u001b[1;32mif\u001b[0m \u001b[0minfo\u001b[0m \u001b[1;33m<\u001b[0m \u001b[1;36m0\u001b[0m\u001b[1;33m:\u001b[0m\u001b[1;33m\u001b[0m\u001b[1;33m\u001b[0m\u001b[0m\n\u001b[0;32m   1030\u001b[0m         raise ValueError('illegal value in %d-th argument of internal '\n",
      "\u001b[1;31mTypeError\u001b[0m: __init__() missing 1 required positional argument: 'dtype'"
     ]
    }
   ],
   "source": [
    "for i in range(17):\n",
    "    n=2**i\n",
    "    b=np.random.randint(-2**10,2**10,n)\n",
    "    A=[[0]]\n",
    "    while linalg.det(A)==0:\n",
    "        A=np.random.randint(-2**10,2**10,(n,n))\n",
    "    times6[i]=timeit.timeit(\"linalg.solve(A,b)\",globals=globals(),number=1)"
   ]
  },
  {
   "cell_type": "code",
   "execution_count": null,
   "id": "928eb275",
   "metadata": {},
   "outputs": [],
   "source": [
    "times7=np.zeros(17)"
   ]
  },
  {
   "cell_type": "code",
   "execution_count": null,
   "id": "30c4325c",
   "metadata": {},
   "outputs": [],
   "source": [
    "for i in range(17):\n",
    "    n=2**i\n",
    "    b=np.random.randint(-2**10,2**10,n)\n",
    "    A=[[0]]\n",
    "    while linalg.det(A)==0:\n",
    "        A=np.random.randint(-2**10,2**10,(n,n))\n",
    "    times7[i]=timeit.timeit(\"linalg.solve(A,b)\",globals=globals(),number=10)"
   ]
  },
  {
   "cell_type": "code",
   "execution_count": null,
   "id": "6ab4bc29",
   "metadata": {},
   "outputs": [],
   "source": [
    "times8=np.zeros(18)"
   ]
  },
  {
   "cell_type": "code",
   "execution_count": null,
   "id": "7b96d473",
   "metadata": {},
   "outputs": [],
   "source": [
    "for i in range(18):\n",
    "    n=2**i\n",
    "    b=np.random.randint(-2**10,2**10,n)\n",
    "    A=[[0]]\n",
    "    while linalg.det(A)==0:\n",
    "        A=np.random.randint(-2**10,2**10,(n,n))\n",
    "    times8[i]=timeit.timeit(\"linalg.solve(A,b)\",globals=globals(),number=1)"
   ]
  },
  {
   "cell_type": "code",
   "execution_count": null,
   "id": "cdbee08d",
   "metadata": {},
   "outputs": [],
   "source": [
    "times9=np.zeros(18)"
   ]
  },
  {
   "cell_type": "code",
   "execution_count": null,
   "id": "fdac6dc7",
   "metadata": {},
   "outputs": [],
   "source": [
    "for i in range(18):\n",
    "    n=2**i\n",
    "    b=np.random.randint(-2**10,2**10,n)\n",
    "    A=[[0]]\n",
    "    while linalg.det(A)==0:\n",
    "        A=np.random.randint(-2**10,2**10,(n,n))\n",
    "    times9[i]=timeit.timeit(\"linalg.solve(A,b)\",globals=globals(),number=10)"
   ]
  },
  {
   "cell_type": "code",
   "execution_count": null,
   "id": "326761b1",
   "metadata": {},
   "outputs": [],
   "source": []
  },
  {
   "cell_type": "code",
   "execution_count": null,
   "id": "01fa6788",
   "metadata": {},
   "outputs": [],
   "source": []
  },
  {
   "cell_type": "code",
   "execution_count": null,
   "id": "ee9071a4",
   "metadata": {},
   "outputs": [],
   "source": []
  },
  {
   "cell_type": "code",
   "execution_count": 113,
   "id": "48e4437b",
   "metadata": {},
   "outputs": [],
   "source": [
    "import time\n",
    "def costam(n):\n",
    "    print(1)"
   ]
  },
  {
   "cell_type": "code",
   "execution_count": 114,
   "id": "65c90a2d",
   "metadata": {},
   "outputs": [
    {
     "name": "stdout",
     "output_type": "stream",
     "text": [
      "1\n",
      "1\n",
      "1\n",
      "1\n",
      "1\n",
      "1\n",
      "1\n",
      "1\n",
      "1\n",
      "1\n",
      "1\n",
      "1\n"
     ]
    },
    {
     "data": {
      "text/plain": [
       "0.00038590000008298375"
      ]
     },
     "execution_count": 114,
     "metadata": {},
     "output_type": "execute_result"
    }
   ],
   "source": [
    "timeit.timeit(\"costam(10)\",globals=globals(),number=12)"
   ]
  },
  {
   "cell_type": "code",
   "execution_count": null,
   "id": "971fa2d1",
   "metadata": {},
   "outputs": [],
   "source": [
    "tim=[] #time"
   ]
  },
  {
   "cell_type": "code",
   "execution_count": null,
   "id": "f0c0a14a",
   "metadata": {},
   "outputs": [],
   "source": [
    "for i in [2,3,4,5,6,10,50,200,10000,20000,50000,10000]:\n",
    "    tim.append(\"solve_n(i)\",number=1)"
   ]
  },
  {
   "cell_type": "code",
   "execution_count": null,
   "id": "60f8892e",
   "metadata": {},
   "outputs": [],
   "source": []
  },
  {
   "cell_type": "code",
   "execution_count": 30,
   "id": "b1e9a73a",
   "metadata": {},
   "outputs": [
    {
     "data": {
      "text/plain": [
       "4"
      ]
     },
     "execution_count": 30,
     "metadata": {},
     "output_type": "execute_result"
    }
   ],
   "source": [
    "random.randint(-50,50)"
   ]
  },
  {
   "cell_type": "code",
   "execution_count": 27,
   "id": "6220eff0",
   "metadata": {},
   "outputs": [
    {
     "name": "stdout",
     "output_type": "stream",
     "text": [
      "Help on method randint in module random:\n",
      "\n",
      "randint(a, b) method of random.Random instance\n",
      "    Return random integer in range [a, b], including both end points.\n",
      "\n"
     ]
    }
   ],
   "source": [
    "help(random.randint)"
   ]
  },
  {
   "cell_type": "code",
   "execution_count": 44,
   "id": "7309f5af",
   "metadata": {},
   "outputs": [
    {
     "ename": "ValueError",
     "evalue": "Sample larger than population or is negative",
     "output_type": "error",
     "traceback": [
      "\u001b[1;31m---------------------------------------------------------------------------\u001b[0m",
      "\u001b[1;31mValueError\u001b[0m                                Traceback (most recent call last)",
      "\u001b[1;32m<ipython-input-44-546e8b8ae2e9>\u001b[0m in \u001b[0;36m<module>\u001b[1;34m\u001b[0m\n\u001b[1;32m----> 1\u001b[1;33m \u001b[0mrandom\u001b[0m\u001b[1;33m.\u001b[0m\u001b[0msample\u001b[0m\u001b[1;33m(\u001b[0m\u001b[0mrange\u001b[0m\u001b[1;33m(\u001b[0m\u001b[1;36m0\u001b[0m\u001b[1;33m,\u001b[0m\u001b[1;36m2\u001b[0m\u001b[1;33m+\u001b[0m\u001b[1;36m1\u001b[0m\u001b[1;33m)\u001b[0m\u001b[1;33m,\u001b[0m\u001b[1;36m4\u001b[0m\u001b[1;33m)\u001b[0m\u001b[1;33m\u001b[0m\u001b[1;33m\u001b[0m\u001b[0m\n\u001b[0m",
      "\u001b[1;32mc:\\users\\kacper\\appdata\\local\\programs\\python\\python39\\lib\\random.py\u001b[0m in \u001b[0;36msample\u001b[1;34m(self, population, k, counts)\u001b[0m\n\u001b[0;32m    448\u001b[0m         \u001b[0mrandbelow\u001b[0m \u001b[1;33m=\u001b[0m \u001b[0mself\u001b[0m\u001b[1;33m.\u001b[0m\u001b[0m_randbelow\u001b[0m\u001b[1;33m\u001b[0m\u001b[1;33m\u001b[0m\u001b[0m\n\u001b[0;32m    449\u001b[0m         \u001b[1;32mif\u001b[0m \u001b[1;32mnot\u001b[0m \u001b[1;36m0\u001b[0m \u001b[1;33m<=\u001b[0m \u001b[0mk\u001b[0m \u001b[1;33m<=\u001b[0m \u001b[0mn\u001b[0m\u001b[1;33m:\u001b[0m\u001b[1;33m\u001b[0m\u001b[1;33m\u001b[0m\u001b[0m\n\u001b[1;32m--> 450\u001b[1;33m             \u001b[1;32mraise\u001b[0m \u001b[0mValueError\u001b[0m\u001b[1;33m(\u001b[0m\u001b[1;34m\"Sample larger than population or is negative\"\u001b[0m\u001b[1;33m)\u001b[0m\u001b[1;33m\u001b[0m\u001b[1;33m\u001b[0m\u001b[0m\n\u001b[0m\u001b[0;32m    451\u001b[0m         \u001b[0mresult\u001b[0m \u001b[1;33m=\u001b[0m \u001b[1;33m[\u001b[0m\u001b[1;32mNone\u001b[0m\u001b[1;33m]\u001b[0m \u001b[1;33m*\u001b[0m \u001b[0mk\u001b[0m\u001b[1;33m\u001b[0m\u001b[1;33m\u001b[0m\u001b[0m\n\u001b[0;32m    452\u001b[0m         \u001b[0msetsize\u001b[0m \u001b[1;33m=\u001b[0m \u001b[1;36m21\u001b[0m        \u001b[1;31m# size of a small set minus size of an empty list\u001b[0m\u001b[1;33m\u001b[0m\u001b[1;33m\u001b[0m\u001b[0m\n",
      "\u001b[1;31mValueError\u001b[0m: Sample larger than population or is negative"
     ]
    }
   ],
   "source": [
    "random.sample(range(0,2+1),4)"
   ]
  },
  {
   "cell_type": "code",
   "execution_count": 71,
   "id": "df6286e3",
   "metadata": {},
   "outputs": [
    {
     "data": {
      "text/plain": [
       "array([[  0,  19,  16,   1,  -8,  12,   5,  -6,  10,  -7],\n",
       "       [ 14,  -6,  11,  16,  14, -17,   1, -15,  -1,  10],\n",
       "       [-20,   6, -19,  13,  10,  13,  -8,  -9, -18,  15],\n",
       "       [ 14, -17,  17,  -8,  -3, -12,  -7,   7,   5,   5],\n",
       "       [-18,  18,  19,   7, -12,  10,  10,   9, -17, -16],\n",
       "       [-18,  12,  11,  -4,   6,  -9,  -4,  11, -15,  10],\n",
       "       [  5,  14,  17, -15, -10,   4,   0,  10, -11,   9],\n",
       "       [  1, -10, -13, -14,  -9,  11, -13,  -5,  -8,  -2],\n",
       "       [  7,   8,  15, -19,   7, -20,  16,   2,  16,  10],\n",
       "       [-17, -15,   2, -20,   5, -12,  14,   1,   4,  -4]])"
      ]
     },
     "execution_count": 71,
     "metadata": {},
     "output_type": "execute_result"
    }
   ],
   "source": [
    "np.random.randint(-20,20,(10,10))"
   ]
  },
  {
   "cell_type": "code",
   "execution_count": null,
   "id": "f9591605",
   "metadata": {},
   "outputs": [],
   "source": []
  },
  {
   "cell_type": "code",
   "execution_count": null,
   "id": "31528780",
   "metadata": {},
   "outputs": [],
   "source": []
  },
  {
   "cell_type": "code",
   "execution_count": null,
   "id": "bda0c34e",
   "metadata": {},
   "outputs": [],
   "source": []
  },
  {
   "cell_type": "code",
   "execution_count": null,
   "id": "eafcc08d",
   "metadata": {},
   "outputs": [],
   "source": []
  },
  {
   "cell_type": "markdown",
   "id": "cedec0c0",
   "metadata": {},
   "source": [
    "# Zadanie 2"
   ]
  },
  {
   "cell_type": "markdown",
   "id": "c2b911a8",
   "metadata": {},
   "source": [
    "## Z poprzedniej listy\n",
    "Implementacja stosu"
   ]
  },
  {
   "cell_type": "code",
   "execution_count": 2,
   "id": "00593cef",
   "metadata": {},
   "outputs": [],
   "source": [
    "import numpy as np\n",
    "\n",
    "class Node:\n",
    "    \n",
    "    def __repr__(self):\n",
    "        return str(self.data)\n",
    "    \n",
    "    def __init__(self,init_data):\n",
    "        self.data = init_data\n",
    "        self.next = None\n",
    "  \n",
    "    def get_data(self):\n",
    "        return self.data\n",
    "\n",
    "    def get_next(self):\n",
    "        return self.next\n",
    "  \n",
    "    def set_data(self,new_data):\n",
    "        self.data = new_data\n",
    "  \n",
    "    def set_next(self,new_next):\n",
    "        self.next = new_next\n",
    "    \n",
    "\n",
    "class UnorderedList(object):\n",
    "  \n",
    "    def __init__(self):\n",
    "        self.head = None\n",
    "\n",
    "    def is_empty(self):\n",
    "        return self.head == None\n",
    "\n",
    "    def add(self, item):\n",
    "        temp = Node(item)\n",
    "        temp.set_next(self.head)\n",
    "        self.head = temp\n",
    "\n",
    "    def size(self):\n",
    "        current = self.head\n",
    "        count = 0\n",
    "        while current != None:\n",
    "            count = count + 1\n",
    "            current = current.get_next()\n",
    "        return count\n",
    "    \n",
    "    def search(self,item):\n",
    "        current = self.head\n",
    "        found = False\n",
    "        while current != None and not found:\n",
    "            if current.get_data() == item:\n",
    "                found = True\n",
    "            else:\n",
    "                current = current.get_next()\n",
    "        return found\n",
    "    \n",
    "    def remove(self, item):\n",
    "        current = self.head\n",
    "        previous = None\n",
    "        found = False\n",
    "\n",
    "        while not found:\n",
    "            if current.get_data() == item:\n",
    "                found = True\n",
    "            else:\n",
    "                previous = current\n",
    "                current = current.get_next()\n",
    "\n",
    "        if previous == None: #jeśli usuwamy pierwszy element\n",
    "            self.head = current.get_next()\n",
    "        else:\n",
    "            previous.set_next(current.get_next())\n",
    "\n",
    "##################################################################################################################   \n",
    "#                                               Uzupełnienie                                                     #\n",
    "##################################################################################################################   \n",
    "            \n",
    "    def append(self, item):\n",
    "        \"\"\"\n",
    "        Metoda dodająca element na koniec listy.\n",
    "        Przyjmuje jako argument obiekt, który ma zostać dodany.\n",
    "        Niczego nie zwraca.\n",
    "        \"\"\"\n",
    "        if self.head:\n",
    "            current=self.head\n",
    "            while current:\n",
    "                previous=current\n",
    "                current=current.get_next()\n",
    "            previous.set_next(Node(item))\n",
    "        else:\n",
    "            self.add(item)\n",
    "        \n",
    "    \n",
    "    def index(self, item):\n",
    "        \"\"\"\n",
    "        Metoda podaje miejsce na liście, \n",
    "        na którym znajduje się określony element - \n",
    "        element pod self.head ma indeks 0.\n",
    "        Przyjmuje jako argument element, \n",
    "        którego pozycja ma zostać określona.\n",
    "        Zwraca pozycję elementu na liście lub None w przypadku, \n",
    "        gdy wskazanego elementu na liście nie ma.\n",
    "        \"\"\"\n",
    "        current = self.head\n",
    "        found = False\n",
    "        i=0\n",
    "        while current != None and not found:\n",
    "            if current.get_data() == item:\n",
    "                found = True\n",
    "            else:\n",
    "                current = current.get_next()\n",
    "                i+=1\n",
    "        return i if found else None\n",
    "     \n",
    "        \n",
    "    def insert(self, pos, item):\n",
    "        \"\"\"\n",
    "        Metoda umieszcza na wskazanej pozycji zadany element.\n",
    "        Przyjmuje jako argumenty pozycję, \n",
    "        na której ma umiescić element oraz ten element.\n",
    "        Niczego nie zwraca.\n",
    "        Rzuca wyjątkiem IndexError w przypadku, \n",
    "        gdy nie jest możliwe umieszczenie elementu\n",
    "        na zadanej pozycji (np. na 5. miejsce w 3-elementowej liście).\n",
    "        \"\"\"\n",
    "        current = self.head\n",
    "        previous=None\n",
    "        while current != None and pos >0:\n",
    "            pos-=1\n",
    "            previous=current\n",
    "            current=current.get_next()\n",
    "            \n",
    "        if pos == 0:\n",
    "            if previous:\n",
    "                if current:\n",
    "                    previous.set_next(Node(item))\n",
    "                    previous.get_next().set_next(current)\n",
    "                else:\n",
    "                    previous.set_next(Node(item))\n",
    "            else:\n",
    "                self.add(item)\n",
    "        else:\n",
    "            raise IndexError(\"Wyjście poza zakres\")\n",
    "                    \n",
    "  \n",
    "    def pop(self, pos=-1):\n",
    "        \"\"\"\n",
    "        Metoda usuwa z listy element na zadaniej pozycji.\n",
    "        Przyjmuje jako opcjonalny argument pozycję, \n",
    "        z której ma zostać usunięty element.\n",
    "        Jeśli pozycja nie zostanie podana, \n",
    "        metoda usuwa (odłącza) ostatni element z listy. \n",
    "        Zwraca wartość usuniętego elementu.\n",
    "        Rzuca wyjątkiem IndexError w przypadku,\n",
    "        gdy usunięcie elementu z danej pozycji jest niemożliwe.\n",
    "        \"\"\"\n",
    "        n=self.size()\n",
    "        if pos + 1 > n or -pos > n:\n",
    "            raise IndexError(\"Wyjście poza zekres\")\n",
    "        \n",
    "        if pos > 0:\n",
    "            i = pos\n",
    "        elif pos == 0:\n",
    "            temp=self.head\n",
    "            self.head=self.head.get_next()\n",
    "            return temp.get_data()\n",
    "        else:\n",
    "            i = n + pos\n",
    "            \n",
    "        current = self.head\n",
    "        for _ in range(i-1):\n",
    "            current = current.get_next()\n",
    "        temp=current.get_next()\n",
    "        current.set_next(current.get_next().get_next())\n",
    "        return temp.get_data()\n",
    "    \n",
    "    \n",
    "##################################################################################################################   \n",
    "#                                               Dodatkowe                                                        #\n",
    "##################################################################################################################   \n",
    "            \n",
    "    def __repr__(self):\n",
    "        current=self.head\n",
    "        tab=[]\n",
    "        while current:\n",
    "            tab.append(current.get_data())\n",
    "            current=current.get_next()\n",
    "        return str(tab)\n",
    "    \n",
    "    def reverse(self):\n",
    "        \"\"\"\n",
    "        Metoda odwraca kolejność elementów w liście\n",
    "        \"\"\"\n",
    "        temp=[]\n",
    "        current=self.head\n",
    "        while current:\n",
    "            temp.append(current)\n",
    "            current=current.get_next()\n",
    "                    \n",
    "        current=temp.pop()\n",
    "        current.set_next(temp.pop())\n",
    "        self.head=current\n",
    "        \n",
    "        \n",
    "        while temp:\n",
    "            current=current.get_next()\n",
    "            current.set_next(temp.pop())\n",
    "        current. get_next().set_next(None)\n",
    "        \n",
    "    def count(self, item):\n",
    "        \"\"\"\n",
    "        Metoda zwraca liczbę danego elementu z listy\n",
    "        \"\"\"\n",
    "        i=0\n",
    "        current=self.head\n",
    "        while current:\n",
    "            i += 1 if current.get_data()==item else 0\n",
    "            current = current.get_next()\n",
    "        return i\n",
    "            \n",
    "    def shuffle(self):\n",
    "        \"\"\"\n",
    "        Metoda permutuje listę\n",
    "        \"\"\"\n",
    "        temp=[]\n",
    "        current=self.head\n",
    "        while current:\n",
    "            temp.append(current)\n",
    "            current=current.get_next()\n",
    "            \n",
    "        temp = [i for i in np.random.permutation(temp)]\n",
    "                    \n",
    "        current=temp.pop()\n",
    "        current.set_next(temp.pop())\n",
    "        self.head=current\n",
    "        \n",
    "        while temp:\n",
    "            current=current.get_next()\n",
    "            current.set_next(temp.pop())\n",
    "        current.get_next().set_next(None)\n",
    "        \n",
    "    def __eq__(self, other):\n",
    "        \n",
    "        if type(other) == UnorderedList:\n",
    "            current_self = self.head\n",
    "            current_other = other.head\n",
    "            \n",
    "            while current_self and current_other:\n",
    "                if current_self.get_data() != current_other.get_data():\n",
    "                    return False\n",
    "                current_self = current_self.get_next()\n",
    "                current_other = current_other.get_next()\n",
    "            if current_self or current_other:\n",
    "                return False\n",
    "            return True\n",
    "        raise TypeError(\"'==' not supported between instances of 'UnorderedList' and '\"+str(type(other).__name__)+\"'\")\n",
    "            \n",
    "\n",
    "    def same_element(self,other):\n",
    "        \"\"\"\n",
    "        Sprawdza, czy kolejki mają takie same elementy (i ich liczbę)\n",
    "        \"\"\"\n",
    "        temp_self = []\n",
    "        temp_other = []\n",
    "        current=self.head\n",
    "        while current:\n",
    "            temp_self.append(current.get_data())\n",
    "            current = current.get_next()\n",
    "            \n",
    "        current=other.head\n",
    "        while current:\n",
    "            temp_other.append(current.get_data())\n",
    "            current = current.get_next()\n",
    "            \n",
    "        while temp_self and temp_other:\n",
    "            temp = temp_self.pop()\n",
    "            for i in range(len(temp_other)):\n",
    "                if temp==temp_other[i]:\n",
    "                    temp_other.pop(i)\n",
    "                    break\n",
    "            else:\n",
    "                return False\n",
    "        return False if temp_self or temp_other else True\n",
    "        \n",
    "    def same_type_of_elements(self, other):\n",
    "        \"\"\"\n",
    "        Sprawdza, czy wszystkie elementy jednego są w drugim\n",
    "        \"\"\"\n",
    "        temp_self = []\n",
    "        temp_other = []\n",
    "        current=self.head\n",
    "        while current:\n",
    "            temp_self.append(current.get_data())\n",
    "            current = current.get_next()\n",
    "            \n",
    "        current=other.head\n",
    "        while current:\n",
    "            temp_other.append(current.get_data())\n",
    "            current = current.get_next()\n",
    "            \n",
    "        return all(i in temp_self for i in temp_other) and all(i in temp_other for i in temp_self)\n",
    "    \n",
    "    def __getitem__(self, pos):\n",
    "        n=self.size()\n",
    "        \n",
    "        if pos + 1 > n or -pos > n:\n",
    "            raise IndexError(\"Wyjście poza zekres\")\n",
    "            \n",
    "        if pos > 0:\n",
    "            i = pos\n",
    "        elif pos == 0:\n",
    "            return self.head.get_data()\n",
    "        else:\n",
    "            pos = n + pos\n",
    "        \n",
    "        current=self.head\n",
    "        while current and pos > 0:\n",
    "            current = current.get_next()\n",
    "            pos-=1\n",
    "        \n",
    "        return current.get_data()\n",
    "    \n",
    "    def __contein__(self, item):\n",
    "        return self.search(item)\n",
    "\n",
    "    def __len__(self):\n",
    "        return self.size()"
   ]
  },
  {
   "cell_type": "code",
   "execution_count": 8,
   "id": "ee670e2d",
   "metadata": {},
   "outputs": [],
   "source": [
    "class StackUsingUL(object):\n",
    "    def __init__(self):\n",
    "        self.items = UnorderedList()\n",
    "    \n",
    "    def is_empty(self):\n",
    "        \"\"\"\n",
    "        Metoda sprawdzajacą, czy stos jest pusty.\n",
    "        Nie pobiera argumentów.\n",
    "        Zwraca True lub False.\n",
    "        \"\"\"\n",
    "        return self.item.is_empty()\n",
    "  \n",
    "    def push(self, item):\n",
    "        \"\"\"\n",
    "        Metoda umieszcza nowy element na stosie.\n",
    "        Pobiera element, który ma zostać umieszczony.\n",
    "        Niczego nie zwraca.\n",
    "        \"\"\"\n",
    "        self.items.append(item)\n",
    "    \n",
    "    def pop(self):\n",
    "        \"\"\"\n",
    "        Metoda ściąga element ze stosu.\n",
    "        Nie przyjmuje żadnych argumentów.\n",
    "        Zwraca ściągnięty element.\n",
    "        Jeśli stos jest pusty, rzuca wyjątkiem IndexError.\n",
    "        \"\"\"\n",
    "\n",
    "        return self.item.pop()\n",
    "\n",
    "    def peek(self):\n",
    "        \"\"\"\n",
    "        Metoda podaje wartość elementu na wierzchu stosu\n",
    "        nie ściągajac go.\n",
    "        Nie pobiera argumentów.\n",
    "        Zwraca wierzchni element stosu.\n",
    "        Jeśli stos jest pusty, rzuca wyjątkiem IndexError.\n",
    "        \"\"\"\n",
    "        return self.item[-1]\n",
    "\n",
    "    def size(self):\n",
    "        \"\"\"\n",
    "        Metoda zwraca liczę elementów na stosie.\n",
    "        Nie pobiera argumentów.\n",
    "        Zwraca liczbę elementów na stosie.\n",
    "        \"\"\"\n",
    "        return self.item.size()\n",
    "    "
   ]
  },
  {
   "cell_type": "code",
   "execution_count": 4,
   "id": "89c10a16",
   "metadata": {},
   "outputs": [],
   "source": [
    "def Hanoi(n:int, A:StackUsingUL, B:StackUsingUL, C:StackUsingUL):\n",
    "    print(A)\n",
    "    print(B)\n",
    "    print(C)\n",
    "    if n>0:\n",
    "        hanoi(n-1,A,C,B)\n",
    "        C.push(A.pop())\n",
    "        hanoi(n-1,B,A,C)"
   ]
  },
  {
   "cell_type": "code",
   "execution_count": 10,
   "id": "9e107ef9",
   "metadata": {},
   "outputs": [],
   "source": [
    "A=StackUsingUL()\n",
    "B=StackUsingUL()\n",
    "C=StackUsingUL()"
   ]
  },
  {
   "cell_type": "code",
   "execution_count": 11,
   "id": "20480a36",
   "metadata": {},
   "outputs": [],
   "source": [
    "A.push(1)"
   ]
  },
  {
   "cell_type": "code",
   "execution_count": null,
   "id": "9a0240e4",
   "metadata": {},
   "outputs": [],
   "source": []
  },
  {
   "cell_type": "code",
   "execution_count": null,
   "id": "bfbf74c1",
   "metadata": {},
   "outputs": [],
   "source": []
  },
  {
   "cell_type": "code",
   "execution_count": null,
   "id": "385d8945",
   "metadata": {},
   "outputs": [],
   "source": []
  },
  {
   "cell_type": "code",
   "execution_count": null,
   "id": "1604c4ba",
   "metadata": {},
   "outputs": [],
   "source": []
  },
  {
   "cell_type": "code",
   "execution_count": null,
   "id": "af01afdd",
   "metadata": {},
   "outputs": [],
   "source": []
  },
  {
   "cell_type": "code",
   "execution_count": null,
   "id": "c3431218",
   "metadata": {},
   "outputs": [],
   "source": []
  },
  {
   "cell_type": "code",
   "execution_count": null,
   "id": "2190a1d8",
   "metadata": {},
   "outputs": [],
   "source": []
  },
  {
   "cell_type": "code",
   "execution_count": null,
   "id": "207c5be9",
   "metadata": {},
   "outputs": [],
   "source": []
  },
  {
   "cell_type": "code",
   "execution_count": null,
   "id": "690e8111",
   "metadata": {},
   "outputs": [],
   "source": []
  },
  {
   "cell_type": "code",
   "execution_count": null,
   "id": "007c68cd",
   "metadata": {},
   "outputs": [],
   "source": []
  },
  {
   "cell_type": "code",
   "execution_count": null,
   "id": "1d4a1e43",
   "metadata": {},
   "outputs": [],
   "source": []
  },
  {
   "cell_type": "code",
   "execution_count": null,
   "id": "98aa6d62",
   "metadata": {},
   "outputs": [],
   "source": []
  },
  {
   "cell_type": "code",
   "execution_count": null,
   "id": "1ca9ad0c",
   "metadata": {},
   "outputs": [],
   "source": []
  }
 ],
 "metadata": {
  "kernelspec": {
   "display_name": "Python 3",
   "language": "python",
   "name": "python3"
  },
  "language_info": {
   "codemirror_mode": {
    "name": "ipython",
    "version": 3
   },
   "file_extension": ".py",
   "mimetype": "text/x-python",
   "name": "python",
   "nbconvert_exporter": "python",
   "pygments_lexer": "ipython3",
   "version": "3.9.5"
  }
 },
 "nbformat": 4,
 "nbformat_minor": 5
}
