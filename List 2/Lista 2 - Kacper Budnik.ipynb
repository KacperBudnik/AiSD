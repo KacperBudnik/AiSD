{
 "cells": [
  {
   "cell_type": "markdown",
   "metadata": {},
   "source": [
    "# Zadanie 1"
   ]
  },
  {
   "cell_type": "markdown",
   "metadata": {},
   "source": [
    "### Grupa 1\n",
    "<center>$ f_1(n) = n^{0.999999}\\log n $</center>\n",
    "<center>$ f_2(n) = 10000000n $</center>\n",
    "<center>$ f_3(n) = 1.000001^n $</center>\n",
    "<center>$ f_4(n) = n^2 $</center>"
   ]
  },
  {
   "cell_type": "markdown",
   "metadata": {},
   "source": [
    "Twierdzę, że\n",
    "<center>$ f_1\\preccurlyeq f_2\\preccurlyeq f_4 \\preccurlyeq f_3$</center>"
   ]
  },
  {
   "cell_type": "markdown",
   "metadata": {},
   "source": [
    "D-d\n",
    "\n",
    "### $f_1\\preccurlyeq f_2$\n",
    "\n",
    "$ \\lim\\limits_{n\\to\\infty} \\frac{f_1(n)}{f_2(n)} = \\lim\\limits_{n\\to\\infty} \\frac{n^{0.999999}\\log n}{10000000n} = \\lim\\limits_{n\\to\\infty} \\frac{ n*n^{-10^6}\\log n}{10^7n} = \\lim\\limits_{n\\to\\infty} \\frac{1}{10^7} \\frac{\\ln n}{n^{10^{-6}}} \\overset{H}{=} \\lim\\limits_{n\\to\\infty} \\frac{1}{10} \\frac{\\frac{1}{n}}{n^{10^{-6}-1}}= \\frac{1}{10} \\lim\\limits_{n\\to\\infty} \\frac{1}{n^{10^{-6}}}=0 $\n",
    "\n",
    "\n",
    "### $f_2\\preccurlyeq f_4$\n",
    "\n",
    "$ \\lim\\limits_{n\\to\\infty} \\frac{f_2(n)}{f_4(n)} =  \\lim\\limits_{n\\to\\infty} \\frac{10^7n}{n^2} \\overset{H}{=} \\lim\\limits_{n\\to\\infty} \\frac{10^7}{2n} = 0$\n",
    "\n",
    "### $f_4\\preccurlyeq f_3$\n",
    "\n",
    "$ \\lim\\limits_{n\\to\\infty} \\frac{f_4(n)}{f_3(n)} = \\lim\\limits_{n\\to\\infty} \\frac{n^2}{1.000001^n} \\overset{H}{=} \\lim\\limits_{n\\to\\infty} \\frac{2n}{1.000001^n\\ln(1.000001)} \\overset{H}{=} \\lim\\limits_{n\\to\\infty} \\frac{2}{1.000001^n\\ln^2(1.000001)} = 0$"
   ]
  },
  {
   "cell_type": "markdown",
   "metadata": {},
   "source": [
    "### Grupa 2\n",
    "<center>$ f_1(n) = 2^{100n} $</center>\n",
    "<center>$ f_2(n) = {n\\choose2} $</center>\n",
    "<center>$ f_3(n) = n\\sqrt n$</center>"
   ]
  },
  {
   "cell_type": "markdown",
   "metadata": {},
   "source": [
    "Twierdzę, że\n",
    "<center>$ f_3\\preccurlyeq f_2 \\preccurlyeq f_1$</center>"
   ]
  },
  {
   "cell_type": "markdown",
   "metadata": {},
   "source": [
    "### $ f_3\\preccurlyeq f_1 $\n",
    "\n",
    "\\begin{proof}\n",
    "$ \\lim\\limits_{n\\to\\infty} \\frac{f_3(n)}{f_2(n)} = \\lim\\limits_{n\\to\\infty} \\frac{n\\sqrt n}{{n\\choose2}} = \\lim\\limits_{n\\to\\infty} \\frac{n\\sqrt n}{\\frac{n!}{2!(n-2)!}} = \\lim\\limits_{n\\to\\infty} \\frac{n\\sqrt n}{n(n-1)} \\overset{H}{=} \\lim\\limits_{n\\to\\infty} \\frac{3\\sqrt n}{2n - 1} \\overset{H}{=} \\lim\\limits_{n\\to\\infty} \\frac{3}{4\\sqrt n} = 0$\n",
    "\n",
    "### $ f_2 \\preccurlyeq f_1 $\n",
    "\n",
    "$ \\lim\\limits_{n\\to\\infty} \\frac{f_2(n)}{f_1(n)} = \\lim\\limits_{n\\to\\infty} \\frac{{n\\choose2}}{2^{100n}} = \\lim\\limits_{n\\to\\infty} \\frac{\\frac{n!}{2!(n-2)!}}{2^{100n}} = \\lim\\limits_{n\\to\\infty} \\frac{n(n-1)}{2^{100n+1}} \\overset{H}{=} \\lim\\limits_{n\\to\\infty} \\frac{2n - 1}{2^{100n+1}\\ln2\\cdot100} \\overset{H}{=} \\lim\\limits_{n\\to\\infty} \\frac{2}{2^{100n+1}\\ln^2 2\\cdot10^4} = 0$\n",
    "\\end{proof}"
   ]
  },
  {
   "cell_type": "markdown",
   "metadata": {},
   "source": [
    "### Grupa 3\n",
    "\n",
    "<center>$ f_1(n) = n^{\\sqrt n} $</center>\n",
    "<center>$ f_2(n) = 2^n $</center>\n",
    "<center>$ f_3(n) = 10^n2^{n/2} $</center>\n",
    "<center>$ f_4(n) = \\sum\\limits^n_{i=1}(i+1) $</center>"
   ]
  },
  {
   "cell_type": "markdown",
   "metadata": {},
   "source": [
    "Twierdzę, że\n",
    "<center>$ f_4\\preccurlyeq f_1\\preccurlyeq f_2\\preccurlyeq f_3$</center>"
   ]
  },
  {
   "cell_type": "markdown",
   "metadata": {},
   "source": [
    "### $ f_4\\preccurlyeq f_1 $\n",
    "\n",
    "$ \\lim\\limits_{n\\to\\infty} \\frac{f_4(n)}{f_1(n)} = \\lim\\limits_{n\\to\\infty} \\frac{\\sum\\limits^n_{i=1}(i+1)}{n^\\sqrt n} = 0 $, bo\n",
    "\n",
    "$ 0 \\le \\frac{f_4(n)}{f_1(n)} = \\frac{\\frac{1}{2}n(n+1)}{n^\\sqrt n} \\le \\frac{n^2 + n}{2n^3} \\le \\frac{2n^2}{2n^3} \\le \\frac{n^2}{n^3} = \\frac{1}{n} \\overset{n\\to\\infty}{\\to} 0 $\n",
    "\n",
    "i z twierdzenia o 3 ciągach\n",
    "\n",
    "### $ f_1 \\preccurlyeq f_2 $\n",
    "\n",
    "$ \\lim\\limits_{n\\to\\infty} \\frac{f_1(n)}{f_2(n)} = \\lim\\limits_{n\\to\\infty} \\frac{n^{\\sqrt n}}{2^n} = \\lim\\limits_{n\\to\\infty} \\frac{\\exp({\\ln n \\sqrt n})}{\\exp({n \\ln 2})} = \\exp\\left(\\lim\\limits_{n\\to\\infty} \\ln n \\sqrt n - n\\ln2 \\right) = \\exp\\left(\\lim\\limits_{n\\to\\infty} n \\left(\\frac{\\ln n}{\\sqrt n\\ln 2} - 1\\right)\\ln 2 \\right) = 2\\exp\\left(\\lim\\limits_{n\\to\\infty} n \\cdot \\lim\\limits_{n\\to\\infty} \\left(\\frac{\\ln n}{\\sqrt n\\ln 2} - 1\\right)\\right) = 2\\exp\\left(\\lim\\limits_{n\\to\\infty} n \\cdot \\left(\\lim\\limits_{n\\to\\infty}\\frac{\\ln n}{\\sqrt n\\ln 2} - \\lim\\limits_{n\\to\\infty} 1\\right)\\right) \\overset{H}{=} 2\\exp\\left(\\lim\\limits_{n\\to\\infty} n \\cdot \\left(\\lim\\limits_{n\\to\\infty}\\frac{\\frac{1}{n}}{\\frac{\\ln 2}{2\\sqrt n}} - \\lim\\limits_{n\\to\\infty} 1\\right)\\right) = 2\\exp\\left(\\lim\\limits_{n\\to\\infty} n \\cdot \\left(\\lim\\limits_{n\\to\\infty}\\frac{2\\sqrt n}{n\\ln 2} - \\lim\\limits_{n\\to\\infty} 1\\right)\\right) = 2\\exp\\left(\\lim\\limits_{n\\to\\infty} n \\cdot \\left(\\lim\\limits_{n\\to\\infty}\\frac{2}{\\sqrt n\\ln 2} - \\lim\\limits_{n\\to\\infty} 1\\right)\\right){ = 2\\exp\\left( \\infty \\cdot \\left( 0 - 1 \\right)\\right) = 2\\exp\\left(-\\infty)\\right)} = 0$\n",
    "\n",
    "\n",
    "### $ f_2 \\preccurlyeq f_3 $\n",
    "\n",
    "$ \\lim\\limits_{n\\to\\infty} \\frac{f_2(n)}{f_3(n)} = \\lim\\limits_{n\\to\\infty} \\frac{{2^n}}{10^n2^{n/2}} = \\lim\\limits_{n\\to\\infty} \\frac{2^n}{10^n{\\sqrt2}^n} = \\lim\\limits_{n\\to\\infty} {\\left(\\frac{2}{10{\\sqrt2}}\\right)}^n = \\lim\\limits_{n\\to\\infty} {\\left(\\frac{1}{5{\\sqrt2}}\\right)}^n = 0$\n"
   ]
  },
  {
   "cell_type": "markdown",
   "metadata": {},
   "source": [
    " "
   ]
  },
  {
   "cell_type": "markdown",
   "metadata": {},
   "source": [
    "# Zadanie 2"
   ]
  },
  {
   "cell_type": "code",
   "execution_count": 410,
   "metadata": {},
   "outputs": [],
   "source": [
    "import math\n",
    "import random"
   ]
  },
  {
   "cell_type": "code",
   "execution_count": 435,
   "metadata": {},
   "outputs": [],
   "source": [
    "def fun0(n):#Głupie\n",
    "    k=0\n",
    "    a=[x for x in range(1,n+1)]\n",
    "    while a:\n",
    "        x=a.pop(random.randint(0,len(a)-1))\n",
    "        b=[x for x in range(1,n+1)]\n",
    "        while b:\n",
    "            y=b.pop(random.randint(0,len(b)-1))\n",
    "            c=[x for x in range(1,n+1)]\n",
    "            while c:\n",
    "                z=c.pop(random.randint(0,len(c)-1))\n",
    "                k+=8\n",
    "                if x**2+y**2==z**2 and x+y+z==n:\n",
    "                    return(x,y,z,k)\n",
    "    return (0,0,0,k)"
   ]
  },
  {
   "cell_type": "code",
   "execution_count": 455,
   "metadata": {},
   "outputs": [
    {
     "ename": "KeyboardInterrupt",
     "evalue": "",
     "output_type": "error",
     "traceback": [
      "\u001b[1;31m---------------------------------------------------------------------------\u001b[0m",
      "\u001b[1;31mKeyboardInterrupt\u001b[0m                         Traceback (most recent call last)",
      "\u001b[1;32m<ipython-input-455-b7b0fcb11a9a>\u001b[0m in \u001b[0;36m<module>\u001b[1;34m\u001b[0m\n\u001b[0;32m      2\u001b[0m \u001b[1;32mwhile\u001b[0m \u001b[1;32mTrue\u001b[0m\u001b[1;33m:\u001b[0m\u001b[1;33m\u001b[0m\u001b[1;33m\u001b[0m\u001b[0m\n\u001b[0;32m      3\u001b[0m     \u001b[0mi\u001b[0m\u001b[1;33m+=\u001b[0m\u001b[1;36m1\u001b[0m\u001b[1;33m\u001b[0m\u001b[1;33m\u001b[0m\u001b[0m\n\u001b[1;32m----> 4\u001b[1;33m     \u001b[0md\u001b[0m\u001b[1;33m=\u001b[0m\u001b[0mfun0\u001b[0m\u001b[1;33m(\u001b[0m\u001b[1;36m24\u001b[0m\u001b[1;33m)\u001b[0m\u001b[1;33m\u001b[0m\u001b[1;33m\u001b[0m\u001b[0m\n\u001b[0m\u001b[0;32m      5\u001b[0m     \u001b[1;32mif\u001b[0m \u001b[0md\u001b[0m\u001b[1;33m[\u001b[0m\u001b[1;33m-\u001b[0m\u001b[1;36m1\u001b[0m\u001b[1;33m]\u001b[0m\u001b[1;33m<\u001b[0m\u001b[1;36m10\u001b[0m\u001b[1;33m:\u001b[0m\u001b[1;33m\u001b[0m\u001b[1;33m\u001b[0m\u001b[0m\n\u001b[0;32m      6\u001b[0m         \u001b[1;32mbreak\u001b[0m\u001b[1;33m;\u001b[0m\u001b[1;33m\u001b[0m\u001b[1;33m\u001b[0m\u001b[0m\n",
      "\u001b[1;32m<ipython-input-435-06f7247e86b2>\u001b[0m in \u001b[0;36mfun0\u001b[1;34m(n)\u001b[0m\n\u001b[0;32m      9\u001b[0m             \u001b[0mc\u001b[0m\u001b[1;33m=\u001b[0m\u001b[1;33m[\u001b[0m\u001b[0mx\u001b[0m \u001b[1;32mfor\u001b[0m \u001b[0mx\u001b[0m \u001b[1;32min\u001b[0m \u001b[0mrange\u001b[0m\u001b[1;33m(\u001b[0m\u001b[1;36m1\u001b[0m\u001b[1;33m,\u001b[0m\u001b[0mn\u001b[0m\u001b[1;33m+\u001b[0m\u001b[1;36m1\u001b[0m\u001b[1;33m)\u001b[0m\u001b[1;33m]\u001b[0m\u001b[1;33m\u001b[0m\u001b[1;33m\u001b[0m\u001b[0m\n\u001b[0;32m     10\u001b[0m             \u001b[1;32mwhile\u001b[0m \u001b[0mc\u001b[0m\u001b[1;33m:\u001b[0m\u001b[1;33m\u001b[0m\u001b[1;33m\u001b[0m\u001b[0m\n\u001b[1;32m---> 11\u001b[1;33m                 \u001b[0mz\u001b[0m\u001b[1;33m=\u001b[0m\u001b[0mc\u001b[0m\u001b[1;33m.\u001b[0m\u001b[0mpop\u001b[0m\u001b[1;33m(\u001b[0m\u001b[0mrandom\u001b[0m\u001b[1;33m.\u001b[0m\u001b[0mrandint\u001b[0m\u001b[1;33m(\u001b[0m\u001b[1;36m0\u001b[0m\u001b[1;33m,\u001b[0m\u001b[0mlen\u001b[0m\u001b[1;33m(\u001b[0m\u001b[0mc\u001b[0m\u001b[1;33m)\u001b[0m\u001b[1;33m-\u001b[0m\u001b[1;36m1\u001b[0m\u001b[1;33m)\u001b[0m\u001b[1;33m)\u001b[0m\u001b[1;33m\u001b[0m\u001b[1;33m\u001b[0m\u001b[0m\n\u001b[0m\u001b[0;32m     12\u001b[0m                 \u001b[0mk\u001b[0m\u001b[1;33m+=\u001b[0m\u001b[1;36m8\u001b[0m\u001b[1;33m\u001b[0m\u001b[1;33m\u001b[0m\u001b[0m\n\u001b[0;32m     13\u001b[0m                 \u001b[1;32mif\u001b[0m \u001b[0mx\u001b[0m\u001b[1;33m**\u001b[0m\u001b[1;36m2\u001b[0m\u001b[1;33m+\u001b[0m\u001b[0my\u001b[0m\u001b[1;33m**\u001b[0m\u001b[1;36m2\u001b[0m\u001b[1;33m==\u001b[0m\u001b[0mz\u001b[0m\u001b[1;33m**\u001b[0m\u001b[1;36m2\u001b[0m \u001b[1;32mand\u001b[0m \u001b[0mx\u001b[0m\u001b[1;33m+\u001b[0m\u001b[0my\u001b[0m\u001b[1;33m+\u001b[0m\u001b[0mz\u001b[0m\u001b[1;33m==\u001b[0m\u001b[0mn\u001b[0m\u001b[1;33m:\u001b[0m\u001b[1;33m\u001b[0m\u001b[1;33m\u001b[0m\u001b[0m\n",
      "\u001b[1;32mc:\\users\\kacper\\appdata\\local\\programs\\python\\python39\\lib\\random.py\u001b[0m in \u001b[0;36mrandint\u001b[1;34m(self, a, b)\u001b[0m\n\u001b[0;32m    337\u001b[0m         \"\"\"\n\u001b[0;32m    338\u001b[0m \u001b[1;33m\u001b[0m\u001b[0m\n\u001b[1;32m--> 339\u001b[1;33m         \u001b[1;32mreturn\u001b[0m \u001b[0mself\u001b[0m\u001b[1;33m.\u001b[0m\u001b[0mrandrange\u001b[0m\u001b[1;33m(\u001b[0m\u001b[0ma\u001b[0m\u001b[1;33m,\u001b[0m \u001b[0mb\u001b[0m\u001b[1;33m+\u001b[0m\u001b[1;36m1\u001b[0m\u001b[1;33m)\u001b[0m\u001b[1;33m\u001b[0m\u001b[1;33m\u001b[0m\u001b[0m\n\u001b[0m\u001b[0;32m    340\u001b[0m \u001b[1;33m\u001b[0m\u001b[0m\n\u001b[0;32m    341\u001b[0m \u001b[1;33m\u001b[0m\u001b[0m\n",
      "\u001b[1;32mc:\\users\\kacper\\appdata\\local\\programs\\python\\python39\\lib\\random.py\u001b[0m in \u001b[0;36mrandrange\u001b[1;34m(self, start, stop, step)\u001b[0m\n\u001b[0;32m    313\u001b[0m         \u001b[0mwidth\u001b[0m \u001b[1;33m=\u001b[0m \u001b[0mistop\u001b[0m \u001b[1;33m-\u001b[0m \u001b[0mistart\u001b[0m\u001b[1;33m\u001b[0m\u001b[1;33m\u001b[0m\u001b[0m\n\u001b[0;32m    314\u001b[0m         \u001b[1;32mif\u001b[0m \u001b[0mstep\u001b[0m \u001b[1;33m==\u001b[0m \u001b[1;36m1\u001b[0m \u001b[1;32mand\u001b[0m \u001b[0mwidth\u001b[0m \u001b[1;33m>\u001b[0m \u001b[1;36m0\u001b[0m\u001b[1;33m:\u001b[0m\u001b[1;33m\u001b[0m\u001b[1;33m\u001b[0m\u001b[0m\n\u001b[1;32m--> 315\u001b[1;33m             \u001b[1;32mreturn\u001b[0m \u001b[0mistart\u001b[0m \u001b[1;33m+\u001b[0m \u001b[0mself\u001b[0m\u001b[1;33m.\u001b[0m\u001b[0m_randbelow\u001b[0m\u001b[1;33m(\u001b[0m\u001b[0mwidth\u001b[0m\u001b[1;33m)\u001b[0m\u001b[1;33m\u001b[0m\u001b[1;33m\u001b[0m\u001b[0m\n\u001b[0m\u001b[0;32m    316\u001b[0m         \u001b[1;32mif\u001b[0m \u001b[0mstep\u001b[0m \u001b[1;33m==\u001b[0m \u001b[1;36m1\u001b[0m\u001b[1;33m:\u001b[0m\u001b[1;33m\u001b[0m\u001b[1;33m\u001b[0m\u001b[0m\n\u001b[0;32m    317\u001b[0m             \u001b[1;32mraise\u001b[0m \u001b[0mValueError\u001b[0m\u001b[1;33m(\u001b[0m\u001b[1;34m\"empty range for randrange() (%d, %d, %d)\"\u001b[0m \u001b[1;33m%\u001b[0m \u001b[1;33m(\u001b[0m\u001b[0mistart\u001b[0m\u001b[1;33m,\u001b[0m \u001b[0mistop\u001b[0m\u001b[1;33m,\u001b[0m \u001b[0mwidth\u001b[0m\u001b[1;33m)\u001b[0m\u001b[1;33m)\u001b[0m\u001b[1;33m\u001b[0m\u001b[1;33m\u001b[0m\u001b[0m\n",
      "\u001b[1;31mKeyboardInterrupt\u001b[0m: "
     ]
    }
   ],
   "source": [
    "i=0\n",
    "while True:\n",
    "    i+=1\n",
    "    d=fun0(24)\n",
    "    if d[-1]<10:\n",
    "        break;\n",
    "        \n",
    "print(i,d)"
   ]
  },
  {
   "cell_type": "code",
   "execution_count": 424,
   "metadata": {},
   "outputs": [],
   "source": [
    "def fun(n):# Z ćwiczeń\n",
    "    for a in range(1,n+1):\n",
    "        for b in range(1,n+1):\n",
    "            for c in range(1,n+1)\n",
    "                if a**2+b**2==c**2 and a+b+c==n:\n",
    "                    return (a,b,c)\n",
    "    return (0,0,0)"
   ]
  },
  {
   "cell_type": "code",
   "execution_count": 68,
   "metadata": {},
   "outputs": [
    {
     "name": "stdout",
     "output_type": "stream",
     "text": [
      "881 ms ± 3.09 ms per loop (mean ± std. dev. of 7 runs, 1 loop each)\n"
     ]
    }
   ],
   "source": [
    "%%timeit\n",
    "fun(200)"
   ]
  },
  {
   "cell_type": "code",
   "execution_count": 33,
   "metadata": {},
   "outputs": [],
   "source": [
    "def fun2(n): # Z ćwiczeń ulepszone\n",
    "    for a in range(1,n+1):\n",
    "        for b in range(1,n+1):\n",
    "            if a**2+b**2 == (n-a-b)**2:\n",
    "                return (a,b,n-a-b)\n",
    "    return (0,0,0)"
   ]
  },
  {
   "cell_type": "code",
   "execution_count": 63,
   "metadata": {},
   "outputs": [
    {
     "name": "stdout",
     "output_type": "stream",
     "text": [
      "4.67 ms ± 46.6 µs per loop (mean ± std. dev. of 7 runs, 100 loops each)\n"
     ]
    }
   ],
   "source": [
    "%%timeit\n",
    "fun2(200)"
   ]
  },
  {
   "cell_type": "code",
   "execution_count": 298,
   "metadata": {},
   "outputs": [
    {
     "name": "stdout",
     "output_type": "stream",
     "text": [
      "800 [(175, 288, 337), (300, 160, 340)]\n",
      "900 [(252, 275, 373), (300, 225, 375)]\n",
      "1100 [(132, 475, 493), (495, 100, 505)]\n",
      "1400 [(400, 420, 580), (525, 280, 595)]\n",
      "1600 [(350, 576, 674), (600, 320, 680)]\n",
      "1700 [(450, 544, 706), (700, 255, 745)]\n",
      "1800 [(504, 550, 746), (600, 450, 750)]\n",
      "1900 [(456, 650, 794), (900, 95, 905)]\n",
      "2100 [(600, 630, 870), (700, 525, 875)]\n"
     ]
    },
    {
     "ename": "KeyboardInterrupt",
     "evalue": "",
     "output_type": "error",
     "traceback": [
      "\u001b[1;31m---------------------------------------------------------------------------\u001b[0m",
      "\u001b[1;31mKeyboardInterrupt\u001b[0m                         Traceback (most recent call last)",
      "\u001b[1;32m<ipython-input-298-ba550e446a06>\u001b[0m in \u001b[0;36m<module>\u001b[1;34m\u001b[0m\n\u001b[0;32m      1\u001b[0m \u001b[1;32mfor\u001b[0m \u001b[0mi\u001b[0m \u001b[1;32min\u001b[0m \u001b[0mrange\u001b[0m\u001b[1;33m(\u001b[0m\u001b[1;36m10000\u001b[0m\u001b[1;33m)\u001b[0m\u001b[1;33m:\u001b[0m\u001b[1;33m\u001b[0m\u001b[1;33m\u001b[0m\u001b[0m\n\u001b[1;32m----> 2\u001b[1;33m     \u001b[0md\u001b[0m\u001b[1;33m=\u001b[0m\u001b[1;33m[\u001b[0m\u001b[1;33m(\u001b[0m\u001b[0mf\u001b[0m\u001b[1;33m(\u001b[0m\u001b[0mi\u001b[0m\u001b[1;33m)\u001b[0m\u001b[1;33m)\u001b[0m \u001b[1;32mfor\u001b[0m \u001b[0mf\u001b[0m \u001b[1;32min\u001b[0m \u001b[1;33m(\u001b[0m\u001b[0mfun3\u001b[0m\u001b[1;33m,\u001b[0m \u001b[0mfun3_v2\u001b[0m\u001b[1;33m)\u001b[0m\u001b[1;33m]\u001b[0m\u001b[1;33m\u001b[0m\u001b[1;33m\u001b[0m\u001b[0m\n\u001b[0m\u001b[0;32m      3\u001b[0m     \u001b[1;32mif\u001b[0m \u001b[0mset\u001b[0m\u001b[1;33m(\u001b[0m\u001b[0md\u001b[0m\u001b[1;33m[\u001b[0m\u001b[1;36m0\u001b[0m\u001b[1;33m]\u001b[0m\u001b[1;33m)\u001b[0m\u001b[1;33m!=\u001b[0m\u001b[0mset\u001b[0m\u001b[1;33m(\u001b[0m\u001b[0md\u001b[0m\u001b[1;33m[\u001b[0m\u001b[1;36m1\u001b[0m\u001b[1;33m]\u001b[0m\u001b[1;33m)\u001b[0m\u001b[1;33m:\u001b[0m\u001b[1;31m# or d[0]!=d[2] or d[0]!=d[3]:\u001b[0m\u001b[1;33m\u001b[0m\u001b[1;33m\u001b[0m\u001b[0m\n\u001b[0;32m      4\u001b[0m         \u001b[1;32mif\u001b[0m \u001b[0md\u001b[0m\u001b[1;33m[\u001b[0m\u001b[1;36m0\u001b[0m\u001b[1;33m]\u001b[0m\u001b[1;33m[\u001b[0m\u001b[1;36m0\u001b[0m\u001b[1;33m]\u001b[0m\u001b[1;33m**\u001b[0m\u001b[1;36m2\u001b[0m\u001b[1;33m+\u001b[0m\u001b[0md\u001b[0m\u001b[1;33m[\u001b[0m\u001b[1;36m0\u001b[0m\u001b[1;33m]\u001b[0m\u001b[1;33m[\u001b[0m\u001b[1;36m1\u001b[0m\u001b[1;33m]\u001b[0m\u001b[1;33m**\u001b[0m\u001b[1;36m2\u001b[0m\u001b[1;33m!=\u001b[0m\u001b[0md\u001b[0m\u001b[1;33m[\u001b[0m\u001b[1;36m0\u001b[0m\u001b[1;33m]\u001b[0m\u001b[1;33m[\u001b[0m\u001b[1;36m2\u001b[0m\u001b[1;33m]\u001b[0m\u001b[1;33m**\u001b[0m\u001b[1;36m2\u001b[0m \u001b[1;32mor\u001b[0m \u001b[0md\u001b[0m\u001b[1;33m[\u001b[0m\u001b[1;36m1\u001b[0m\u001b[1;33m]\u001b[0m\u001b[1;33m[\u001b[0m\u001b[1;36m0\u001b[0m\u001b[1;33m]\u001b[0m\u001b[1;33m**\u001b[0m\u001b[1;36m2\u001b[0m\u001b[1;33m+\u001b[0m\u001b[0md\u001b[0m\u001b[1;33m[\u001b[0m\u001b[1;36m1\u001b[0m\u001b[1;33m]\u001b[0m\u001b[1;33m[\u001b[0m\u001b[1;36m1\u001b[0m\u001b[1;33m]\u001b[0m\u001b[1;33m**\u001b[0m\u001b[1;36m2\u001b[0m\u001b[1;33m!=\u001b[0m\u001b[0md\u001b[0m\u001b[1;33m[\u001b[0m\u001b[1;36m1\u001b[0m\u001b[1;33m]\u001b[0m\u001b[1;33m[\u001b[0m\u001b[1;36m2\u001b[0m\u001b[1;33m]\u001b[0m\u001b[1;33m**\u001b[0m\u001b[1;36m2\u001b[0m\u001b[1;33m:\u001b[0m\u001b[1;33m\u001b[0m\u001b[1;33m\u001b[0m\u001b[0m\n\u001b[0;32m      5\u001b[0m             \u001b[0mprint\u001b[0m\u001b[1;33m(\u001b[0m\u001b[1;34m\"złe wartości\"\u001b[0m\u001b[1;33m)\u001b[0m\u001b[1;33m\u001b[0m\u001b[1;33m\u001b[0m\u001b[0m\n",
      "\u001b[1;32m<ipython-input-298-ba550e446a06>\u001b[0m in \u001b[0;36m<listcomp>\u001b[1;34m(.0)\u001b[0m\n\u001b[0;32m      1\u001b[0m \u001b[1;32mfor\u001b[0m \u001b[0mi\u001b[0m \u001b[1;32min\u001b[0m \u001b[0mrange\u001b[0m\u001b[1;33m(\u001b[0m\u001b[1;36m10000\u001b[0m\u001b[1;33m)\u001b[0m\u001b[1;33m:\u001b[0m\u001b[1;33m\u001b[0m\u001b[1;33m\u001b[0m\u001b[0m\n\u001b[1;32m----> 2\u001b[1;33m     \u001b[0md\u001b[0m\u001b[1;33m=\u001b[0m\u001b[1;33m[\u001b[0m\u001b[1;33m(\u001b[0m\u001b[0mf\u001b[0m\u001b[1;33m(\u001b[0m\u001b[0mi\u001b[0m\u001b[1;33m)\u001b[0m\u001b[1;33m)\u001b[0m \u001b[1;32mfor\u001b[0m \u001b[0mf\u001b[0m \u001b[1;32min\u001b[0m \u001b[1;33m(\u001b[0m\u001b[0mfun3\u001b[0m\u001b[1;33m,\u001b[0m \u001b[0mfun3_v2\u001b[0m\u001b[1;33m)\u001b[0m\u001b[1;33m]\u001b[0m\u001b[1;33m\u001b[0m\u001b[1;33m\u001b[0m\u001b[0m\n\u001b[0m\u001b[0;32m      3\u001b[0m     \u001b[1;32mif\u001b[0m \u001b[0mset\u001b[0m\u001b[1;33m(\u001b[0m\u001b[0md\u001b[0m\u001b[1;33m[\u001b[0m\u001b[1;36m0\u001b[0m\u001b[1;33m]\u001b[0m\u001b[1;33m)\u001b[0m\u001b[1;33m!=\u001b[0m\u001b[0mset\u001b[0m\u001b[1;33m(\u001b[0m\u001b[0md\u001b[0m\u001b[1;33m[\u001b[0m\u001b[1;36m1\u001b[0m\u001b[1;33m]\u001b[0m\u001b[1;33m)\u001b[0m\u001b[1;33m:\u001b[0m\u001b[1;31m# or d[0]!=d[2] or d[0]!=d[3]:\u001b[0m\u001b[1;33m\u001b[0m\u001b[1;33m\u001b[0m\u001b[0m\n\u001b[0;32m      4\u001b[0m         \u001b[1;32mif\u001b[0m \u001b[0md\u001b[0m\u001b[1;33m[\u001b[0m\u001b[1;36m0\u001b[0m\u001b[1;33m]\u001b[0m\u001b[1;33m[\u001b[0m\u001b[1;36m0\u001b[0m\u001b[1;33m]\u001b[0m\u001b[1;33m**\u001b[0m\u001b[1;36m2\u001b[0m\u001b[1;33m+\u001b[0m\u001b[0md\u001b[0m\u001b[1;33m[\u001b[0m\u001b[1;36m0\u001b[0m\u001b[1;33m]\u001b[0m\u001b[1;33m[\u001b[0m\u001b[1;36m1\u001b[0m\u001b[1;33m]\u001b[0m\u001b[1;33m**\u001b[0m\u001b[1;36m2\u001b[0m\u001b[1;33m!=\u001b[0m\u001b[0md\u001b[0m\u001b[1;33m[\u001b[0m\u001b[1;36m0\u001b[0m\u001b[1;33m]\u001b[0m\u001b[1;33m[\u001b[0m\u001b[1;36m2\u001b[0m\u001b[1;33m]\u001b[0m\u001b[1;33m**\u001b[0m\u001b[1;36m2\u001b[0m \u001b[1;32mor\u001b[0m \u001b[0md\u001b[0m\u001b[1;33m[\u001b[0m\u001b[1;36m1\u001b[0m\u001b[1;33m]\u001b[0m\u001b[1;33m[\u001b[0m\u001b[1;36m0\u001b[0m\u001b[1;33m]\u001b[0m\u001b[1;33m**\u001b[0m\u001b[1;36m2\u001b[0m\u001b[1;33m+\u001b[0m\u001b[0md\u001b[0m\u001b[1;33m[\u001b[0m\u001b[1;36m1\u001b[0m\u001b[1;33m]\u001b[0m\u001b[1;33m[\u001b[0m\u001b[1;36m1\u001b[0m\u001b[1;33m]\u001b[0m\u001b[1;33m**\u001b[0m\u001b[1;36m2\u001b[0m\u001b[1;33m!=\u001b[0m\u001b[0md\u001b[0m\u001b[1;33m[\u001b[0m\u001b[1;36m1\u001b[0m\u001b[1;33m]\u001b[0m\u001b[1;33m[\u001b[0m\u001b[1;36m2\u001b[0m\u001b[1;33m]\u001b[0m\u001b[1;33m**\u001b[0m\u001b[1;36m2\u001b[0m\u001b[1;33m:\u001b[0m\u001b[1;33m\u001b[0m\u001b[1;33m\u001b[0m\u001b[0m\n\u001b[0;32m      5\u001b[0m             \u001b[0mprint\u001b[0m\u001b[1;33m(\u001b[0m\u001b[1;34m\"złe wartości\"\u001b[0m\u001b[1;33m)\u001b[0m\u001b[1;33m\u001b[0m\u001b[1;33m\u001b[0m\u001b[0m\n",
      "\u001b[1;32m<ipython-input-281-7be892be2df6>\u001b[0m in \u001b[0;36mfun3_v2\u001b[1;34m(n)\u001b[0m\n\u001b[0;32m     33\u001b[0m \u001b[1;32mdef\u001b[0m \u001b[0mfun3_v2\u001b[0m\u001b[1;33m(\u001b[0m\u001b[0mn\u001b[0m\u001b[1;33m)\u001b[0m\u001b[1;33m:\u001b[0m\u001b[1;33m\u001b[0m\u001b[1;33m\u001b[0m\u001b[0m\n\u001b[0;32m     34\u001b[0m     \u001b[1;32mfor\u001b[0m \u001b[0mi\u001b[0m \u001b[1;32min\u001b[0m \u001b[0mrange\u001b[0m\u001b[1;33m(\u001b[0m\u001b[1;36m5\u001b[0m\u001b[1;33m,\u001b[0m\u001b[0mn\u001b[0m\u001b[1;33m//\u001b[0m\u001b[1;36m2\u001b[0m\u001b[1;33m,\u001b[0m\u001b[1;36m2\u001b[0m\u001b[1;33m)\u001b[0m\u001b[1;33m:\u001b[0m\u001b[1;33m\u001b[0m\u001b[1;33m\u001b[0m\u001b[0m\n\u001b[1;32m---> 35\u001b[1;33m         \u001b[0md\u001b[0m\u001b[1;33m=\u001b[0m\u001b[0mfun3_help_v2\u001b[0m\u001b[1;33m(\u001b[0m\u001b[0mn\u001b[0m\u001b[1;33m,\u001b[0m\u001b[0mi\u001b[0m\u001b[1;33m)\u001b[0m\u001b[1;33m\u001b[0m\u001b[1;33m\u001b[0m\u001b[0m\n\u001b[0m\u001b[0;32m     36\u001b[0m         \u001b[1;32mif\u001b[0m \u001b[0md\u001b[0m\u001b[1;33m[\u001b[0m\u001b[1;36m0\u001b[0m\u001b[1;33m]\u001b[0m\u001b[1;33m!=\u001b[0m\u001b[1;36m0\u001b[0m\u001b[1;33m:\u001b[0m\u001b[1;33m\u001b[0m\u001b[1;33m\u001b[0m\u001b[0m\n\u001b[0;32m     37\u001b[0m                 \u001b[1;32mreturn\u001b[0m \u001b[1;33m(\u001b[0m\u001b[0md\u001b[0m\u001b[1;33m[\u001b[0m\u001b[1;36m0\u001b[0m\u001b[1;33m]\u001b[0m\u001b[1;33m,\u001b[0m\u001b[0md\u001b[0m\u001b[1;33m[\u001b[0m\u001b[1;36m1\u001b[0m\u001b[1;33m]\u001b[0m\u001b[1;33m,\u001b[0m\u001b[0md\u001b[0m\u001b[1;33m[\u001b[0m\u001b[1;36m2\u001b[0m\u001b[1;33m]\u001b[0m\u001b[1;33m)\u001b[0m\u001b[1;33m\u001b[0m\u001b[1;33m\u001b[0m\u001b[0m\n",
      "\u001b[1;32m<ipython-input-281-7be892be2df6>\u001b[0m in \u001b[0;36mfun3_help_v2\u001b[1;34m(n, c)\u001b[0m\n\u001b[0;32m     19\u001b[0m                 \u001b[0ma\u001b[0m\u001b[1;33m-=\u001b[0m\u001b[1;36m1\u001b[0m\u001b[1;33m\u001b[0m\u001b[1;33m\u001b[0m\u001b[0m\n\u001b[0;32m     20\u001b[0m                 \u001b[0mb\u001b[0m\u001b[1;33m+=\u001b[0m\u001b[1;36m1\u001b[0m\u001b[1;33m\u001b[0m\u001b[1;33m\u001b[0m\u001b[0m\n\u001b[1;32m---> 21\u001b[1;33m         \u001b[0me\u001b[0m\u001b[1;33m=\u001b[0m\u001b[0ma\u001b[0m\u001b[1;33m**\u001b[0m\u001b[1;36m2\u001b[0m\u001b[1;33m+\u001b[0m\u001b[0mb\u001b[0m\u001b[1;33m**\u001b[0m\u001b[1;36m2\u001b[0m\u001b[1;33m\u001b[0m\u001b[1;33m\u001b[0m\u001b[0m\n\u001b[0m\u001b[0;32m     22\u001b[0m \u001b[1;33m\u001b[0m\u001b[0m\n\u001b[0;32m     23\u001b[0m     \u001b[0md\u001b[0m\u001b[1;33m=\u001b[0m\u001b[0mn\u001b[0m\u001b[1;33m/\u001b[0m\u001b[1;33m(\u001b[0m\u001b[0ma\u001b[0m\u001b[1;33m+\u001b[0m\u001b[0mb\u001b[0m\u001b[1;33m+\u001b[0m\u001b[0mc\u001b[0m\u001b[1;33m)\u001b[0m\u001b[1;33m\u001b[0m\u001b[1;33m\u001b[0m\u001b[0m\n",
      "\u001b[1;31mKeyboardInterrupt\u001b[0m: "
     ]
    }
   ],
   "source": [
    "for i in range(10000):\n",
    "    d=[(f(i)) for f in (fun3, fun3_v2)]\n",
    "    if set(d[0])!=set(d[1]):# or d[0]!=d[2] or d[0]!=d[3]:\n",
    "        if d[0][0]**2+d[0][1]**2!=d[0][2]**2 or d[1][0]**2+d[1][1]**2!=d[1][2]**2:\n",
    "            print(\"złe wartości\")\n",
    "            print(d)\n",
    "        if sum(d[0])!=i or sum(d[1])!=i:\n",
    "            print(\"zła suma\")\n",
    "            print(d)\n",
    "        if i%100==0:\n",
    "            print(i,d)"
   ]
  },
  {
   "cell_type": "code",
   "execution_count": 246,
   "metadata": {},
   "outputs": [],
   "source": [
    "# Własny pomysł\n",
    "def fun3_help(n,c):\n",
    "    b=int(c//math.sqrt(2))\n",
    "    a=n-c-b\n",
    "    m=c**2\n",
    "\n",
    "    while a**2+b**2<m and a>0:\n",
    "        a-=1\n",
    "        b+=1\n",
    "    \n",
    "    return (a,b)\n",
    "        \n",
    "    \n",
    "    \n",
    "def fun3(n):\n",
    "    for i in range(1,n//2):\n",
    "        d=fun3_help(n,i)\n",
    "        if d[0]!=0:\n",
    "            if d[0]**2+d[1]**2==i**2:\n",
    "                #print(d[0],d[1],i,d[0]**2+d[1]**2,i**2)\n",
    "                return (d[0],d[1],i)\n",
    "    return (0,0,0)\n",
    "        \n",
    "            \n",
    "        "
   ]
  },
  {
   "cell_type": "code",
   "execution_count": 275,
   "metadata": {},
   "outputs": [],
   "source": [
    "\"\"\"\n",
    "def fun3_help_v2(n,c):\n",
    "    b=1#int(c//math.sqrt(2))\n",
    "    a=c-1#c\n",
    "    m=c**2\n",
    "    \n",
    "    \n",
    "    e=a**2+b**2\n",
    "    \n",
    "    print(a,b,c,m,e)\n",
    "    while e!=m and a>0:\n",
    "        if e>m:\n",
    "            a-=1\n",
    "        else:\n",
    "            b+=1\n",
    "        e=a**2+b**2\n",
    "\n",
    "    d=n/(a+b+c)\n",
    "    print(a,b,c,m,e)\n",
    "    \n",
    "    if d.is_integer() and a**2+b**2==m:\n",
    "        d=int(d)\n",
    "        return (d*a,d*b,d*c)\n",
    "    return (0,0,0)\n",
    "        \n",
    "    \n",
    "    \n",
    "def fun3_v2(n):\n",
    "    for i in range(5,n//2,2):\n",
    "        d=fun3_help_v2(n,i)\n",
    "        if d[0]!=0:\n",
    "                return (d[0],d[1],d[2])\n",
    "    return (0,0,0)\n",
    "\"\"\""
   ]
  },
  {
   "cell_type": "code",
   "execution_count": 457,
   "metadata": {},
   "outputs": [
    {
     "name": "stdout",
     "output_type": "stream",
     "text": [
      "2.82 µs ± 58 ns per loop (mean ± std. dev. of 7 runs, 100000 loops each)\n"
     ]
    }
   ],
   "source": [
    "%%timeit # ale nie zawsze znajduje jeśli trójka nie jest pierwotna\n",
    "fun4(1000)"
   ]
  },
  {
   "cell_type": "code",
   "execution_count": 459,
   "metadata": {},
   "outputs": [
    {
     "name": "stdout",
     "output_type": "stream",
     "text": [
      "968 µs ± 8.29 µs per loop (mean ± std. dev. of 7 runs, 1000 loops each)\n"
     ]
    }
   ],
   "source": [
    "%%timeit\n",
    "fun3(1000)"
   ]
  },
  {
   "cell_type": "code",
   "execution_count": 460,
   "metadata": {},
   "outputs": [
    {
     "name": "stdout",
     "output_type": "stream",
     "text": [
      "30.9 µs ± 277 ns per loop (mean ± std. dev. of 7 runs, 10000 loops each)\n"
     ]
    }
   ],
   "source": [
    "%%timeit\n",
    "fun3_v2(1000)"
   ]
  },
  {
   "cell_type": "code",
   "execution_count": null,
   "metadata": {},
   "outputs": [],
   "source": [
    "%%timeit\n",
    "fun3_v2(1000)"
   ]
  },
  {
   "cell_type": "code",
   "execution_count": 323,
   "metadata": {},
   "outputs": [],
   "source": [
    "#własny pomysł ulepszony\n",
    "def fun3_help_v2(n,c):\n",
    "    b=1#int(c//math.sqrt(2))\n",
    "    a=c-1#c\n",
    "    m=c**2\n",
    "    \n",
    "    \n",
    "    e=a**2+b**2\n",
    "    \n",
    "    while a>b:\n",
    "        if e>m:\n",
    "            a-=1\n",
    "        elif e<m:\n",
    "            b+=1\n",
    "        else:\n",
    "            if (n/(a+b+c)).is_integer():\n",
    "                break\n",
    "            else:\n",
    "                a-=1\n",
    "                b+=1\n",
    "        e=a**2+b**2\n",
    "\n",
    "    d=n/(a+b+c)\n",
    "    \n",
    "    if d.is_integer() and a**2+b**2==m:\n",
    "        d=int(d)\n",
    "        return (d*a,d*b,d*c)\n",
    "    return (0,0,0)\n",
    "        \n",
    "    \n",
    "    \n",
    "def fun3_v2(n,every=False):\n",
    "    if every:\n",
    "        e=[]\n",
    "        for i in range(5,n//2,2):\n",
    "            d=fun3_help_v2(n,i)\n",
    "            if d[0]!=0:\n",
    "                e.append((d[0],d[1],d[2]))\n",
    "        return set(e)\n",
    "    else:\n",
    "        for i in range(5,n//2,2):\n",
    "            d=fun3_help_v2(n,i)\n",
    "            if d[0]!=0:\n",
    "                return (d[0],d[1],d[2])\n",
    "        return (0,0,0)\n",
    "        "
   ]
  },
  {
   "cell_type": "code",
   "execution_count": 303,
   "metadata": {},
   "outputs": [
    {
     "data": {
      "text/plain": [
       "{(630, 600, 870),\n",
       " (700, 525, 875),\n",
       " (840, 350, 910),\n",
       " (850, 336, 914),\n",
       " (875, 300, 925),\n",
       " (924, 225, 951),\n",
       " (975, 140, 985)}"
      ]
     },
     "execution_count": 303,
     "metadata": {},
     "output_type": "execute_result"
    }
   ],
   "source": [
    "fun3_v2(2100)"
   ]
  },
  {
   "cell_type": "code",
   "execution_count": 304,
   "metadata": {},
   "outputs": [
    {
     "name": "stdout",
     "output_type": "stream",
     "text": [
      "127 ms ± 885 µs per loop (mean ± std. dev. of 7 runs, 10 loops each)\n"
     ]
    }
   ],
   "source": [
    "%%timeit\n",
    "fun3_v2(2100)"
   ]
  },
  {
   "cell_type": "code",
   "execution_count": 306,
   "metadata": {},
   "outputs": [
    {
     "name": "stdout",
     "output_type": "stream",
     "text": [
      "28.2 ms ± 240 µs per loop (mean ± std. dev. of 7 runs, 10 loops each)\n"
     ]
    }
   ],
   "source": [
    "%%timeit\n",
    "fun3_v2(1000)"
   ]
  },
  {
   "cell_type": "code",
   "execution_count": 308,
   "metadata": {},
   "outputs": [
    {
     "name": "stdout",
     "output_type": "stream",
     "text": [
      "2.96 s ± 16.9 ms per loop (mean ± std. dev. of 7 runs, 1 loop each)\n"
     ]
    }
   ],
   "source": [
    "%%timeit\n",
    "fun3_v2(10000)"
   ]
  },
  {
   "cell_type": "code",
   "execution_count": 282,
   "metadata": {},
   "outputs": [
    {
     "data": {
      "text/plain": [
       "(56, 33, 65)"
      ]
     },
     "execution_count": 282,
     "metadata": {},
     "output_type": "execute_result"
    }
   ],
   "source": [
    "fun3_v2(56+33+65)"
   ]
  },
  {
   "cell_type": "code",
   "execution_count": 195,
   "metadata": {},
   "outputs": [
    {
     "name": "stdout",
     "output_type": "stream",
     "text": [
      "38.8 µs ± 709 ns per loop (mean ± std. dev. of 7 runs, 10000 loops each)\n"
     ]
    }
   ],
   "source": [
    "%%timeit\n",
    "fun3_v2(10000)"
   ]
  },
  {
   "cell_type": "code",
   "execution_count": 197,
   "metadata": {},
   "outputs": [
    {
     "name": "stdout",
     "output_type": "stream",
     "text": [
      "38.5 µs ± 275 ns per loop (mean ± std. dev. of 7 runs, 10000 loops each)\n"
     ]
    }
   ],
   "source": [
    "%%timeit\n",
    "fun3_v2(1000)"
   ]
  },
  {
   "cell_type": "code",
   "execution_count": 198,
   "metadata": {},
   "outputs": [
    {
     "name": "stdout",
     "output_type": "stream",
     "text": [
      "15.9 µs ± 132 ns per loop (mean ± std. dev. of 7 runs, 100000 loops each)\n"
     ]
    }
   ],
   "source": [
    "%%timeit\n",
    "fun3_v2(20)"
   ]
  },
  {
   "cell_type": "code",
   "execution_count": 283,
   "metadata": {},
   "outputs": [
    {
     "name": "stdout",
     "output_type": "stream",
     "text": [
      "31.8 µs ± 456 ns per loop (mean ± std. dev. of 7 runs, 10000 loops each)\n"
     ]
    }
   ],
   "source": [
    "%%timeit\n",
    "fun3_v2(10000)"
   ]
  },
  {
   "cell_type": "code",
   "execution_count": 284,
   "metadata": {},
   "outputs": [
    {
     "name": "stdout",
     "output_type": "stream",
     "text": [
      "31.5 µs ± 408 ns per loop (mean ± std. dev. of 7 runs, 10000 loops each)\n"
     ]
    }
   ],
   "source": [
    "%%timeit\n",
    "fun3_v2(1000)"
   ]
  },
  {
   "cell_type": "code",
   "execution_count": 285,
   "metadata": {},
   "outputs": [
    {
     "name": "stdout",
     "output_type": "stream",
     "text": [
      "9.47 µs ± 113 ns per loop (mean ± std. dev. of 7 runs, 100000 loops each)\n"
     ]
    }
   ],
   "source": [
    "%%timeit\n",
    "fun3_v2(20)"
   ]
  },
  {
   "cell_type": "code",
   "execution_count": 172,
   "metadata": {},
   "outputs": [
    {
     "data": {
      "text/plain": [
       "(200, 375, 425)"
      ]
     },
     "execution_count": 172,
     "metadata": {},
     "output_type": "execute_result"
    }
   ],
   "source": [
    "fun3(1000)"
   ]
  },
  {
   "cell_type": "code",
   "execution_count": 196,
   "metadata": {},
   "outputs": [
    {
     "name": "stdout",
     "output_type": "stream",
     "text": [
      "33.7 ms ± 175 µs per loop (mean ± std. dev. of 7 runs, 10 loops each)\n"
     ]
    }
   ],
   "source": [
    "%%timeit\n",
    "fun3(10000)"
   ]
  },
  {
   "cell_type": "code",
   "execution_count": 98,
   "metadata": {},
   "outputs": [
    {
     "name": "stdout",
     "output_type": "stream",
     "text": [
      "967 µs ± 9.68 µs per loop (mean ± std. dev. of 7 runs, 1000 loops each)\n"
     ]
    }
   ],
   "source": [
    "%%timeit\n",
    "fun3(1000)"
   ]
  },
  {
   "cell_type": "code",
   "execution_count": 99,
   "metadata": {},
   "outputs": [
    {
     "name": "stdout",
     "output_type": "stream",
     "text": [
      "149 µs ± 548 ns per loop (mean ± std. dev. of 7 runs, 10000 loops each)\n"
     ]
    }
   ],
   "source": [
    "%%timeit\n",
    "fun3(200)"
   ]
  },
  {
   "cell_type": "code",
   "execution_count": 95,
   "metadata": {},
   "outputs": [
    {
     "name": "stdout",
     "output_type": "stream",
     "text": [
      "967 µs ± 5.65 µs per loop (mean ± std. dev. of 7 runs, 1000 loops each)\n"
     ]
    }
   ],
   "source": [
    "%%timeit\n",
    "fun3(1000)"
   ]
  },
  {
   "cell_type": "code",
   "execution_count": 96,
   "metadata": {},
   "outputs": [
    {
     "name": "stdout",
     "output_type": "stream",
     "text": [
      "149 µs ± 581 ns per loop (mean ± std. dev. of 7 runs, 10000 loops each)\n"
     ]
    }
   ],
   "source": [
    "%%timeit\n",
    "fun3(200)"
   ]
  },
  {
   "cell_type": "code",
   "execution_count": 50,
   "metadata": {},
   "outputs": [
    {
     "data": {
      "text/plain": [
       "33.0"
      ]
     },
     "execution_count": 50,
     "metadata": {},
     "output_type": "execute_result"
    }
   ],
   "source": [
    "48//math.sqrt(2)"
   ]
  },
  {
   "cell_type": "code",
   "execution_count": 51,
   "metadata": {},
   "outputs": [
    {
     "data": {
      "text/plain": [
       "16"
      ]
     },
     "execution_count": 51,
     "metadata": {},
     "output_type": "execute_result"
    }
   ],
   "source": [
    "33//2"
   ]
  },
  {
   "cell_type": "code",
   "execution_count": 73,
   "metadata": {},
   "outputs": [
    {
     "data": {
      "text/plain": [
       "(200, 375, 425)"
      ]
     },
     "execution_count": 73,
     "metadata": {},
     "output_type": "execute_result"
    }
   ],
   "source": [
    "fun3(1000)"
   ]
  },
  {
   "cell_type": "code",
   "execution_count": 465,
   "metadata": {},
   "outputs": [],
   "source": [
    "def fun4(n):\n",
    "    k=2\n",
    "    if n%2!=0:\n",
    "        return (0,0,0,k)\n",
    "    x=int(math.sqrt(n))\n",
    "    y=1\n",
    "    m=n//2\n",
    "    k+=3\n",
    "    while x>y:\n",
    "        k+=3\n",
    "        d=x*(x+y)\n",
    "        if m>d:\n",
    "            y+=1\n",
    "            k+=2\n",
    "        elif m<d:\n",
    "            x-=1\n",
    "            k+=3\n",
    "        else:\n",
    "            k+=2\n",
    "            return (x**2-y**2,2*x*y,x**2+y**2,k)\n",
    "        \n",
    "    return (0,0,0,k)"
   ]
  },
  {
   "cell_type": "code",
   "execution_count": 468,
   "metadata": {},
   "outputs": [
    {
     "data": {
      "text/plain": [
       "(375000000000000, 200000000000000, 425000000000000, 94736661)"
      ]
     },
     "execution_count": 468,
     "metadata": {},
     "output_type": "execute_result"
    }
   ],
   "source": [
    "fun4(10**15)"
   ]
  },
  {
   "cell_type": "code",
   "execution_count": 470,
   "metadata": {},
   "outputs": [
    {
     "data": {
      "text/plain": [
       "(4375, 7200, 8425, 596)"
      ]
     },
     "execution_count": 470,
     "metadata": {},
     "output_type": "execute_result"
    }
   ],
   "source": [
    "fun4(2*10**4)"
   ]
  },
  {
   "cell_type": "code",
   "execution_count": 126,
   "metadata": {},
   "outputs": [
    {
     "data": {
      "text/plain": [
       "(40, 75, 85)"
      ]
     },
     "execution_count": 126,
     "metadata": {},
     "output_type": "execute_result"
    }
   ],
   "source": [
    "fun3(200)"
   ]
  },
  {
   "cell_type": "code",
   "execution_count": 127,
   "metadata": {},
   "outputs": [
    {
     "name": "stdout",
     "output_type": "stream",
     "text": [
      "6399 160 6401\n",
      "80 1\n",
      "6240 158 6242\n",
      "79 1\n",
      "6083 156 6085\n",
      "78 1\n",
      "5928 154 5930\n",
      "77 1\n",
      "5775 152 5777\n",
      "76 1\n",
      "5624 150 5626\n",
      "75 1\n",
      "5475 148 5477\n",
      "74 1\n",
      "5328 146 5330\n",
      "73 1\n",
      "5183 144 5185\n",
      "72 1\n",
      "5040 142 5042\n",
      "71 1\n",
      "4899 140 4901\n",
      "70 1\n",
      "4760 138 4762\n",
      "69 1\n",
      "4623 136 4625\n",
      "68 1\n",
      "4488 134 4490\n",
      "67 1\n",
      "4355 132 4357\n",
      "66 1\n",
      "4224 130 4226\n",
      "65 1\n",
      "4095 128 4097\n",
      "64 1\n",
      "3968 126 3970\n",
      "63 1\n",
      "3843 124 3845\n",
      "62 1\n",
      "3720 122 3722\n",
      "61 1\n",
      "3599 120 3601\n",
      "60 1\n",
      "3480 118 3482\n",
      "59 1\n",
      "3363 116 3365\n",
      "58 1\n",
      "3248 114 3250\n",
      "57 1\n",
      "3135 112 3137\n",
      "56 1\n",
      "3024 110 3026\n",
      "55 1\n",
      "2915 108 2917\n",
      "54 1\n",
      "2808 106 2810\n",
      "53 1\n",
      "2703 104 2705\n",
      "52 1\n",
      "2600 102 2602\n",
      "51 1\n",
      "2499 100 2501\n",
      "50 1\n",
      "2400 98 2402\n",
      "49 1\n",
      "2303 96 2305\n",
      "48 1\n",
      "2208 94 2210\n",
      "47 1\n",
      "2115 92 2117\n",
      "46 1\n",
      "2024 90 2026\n",
      "45 1\n",
      "1935 88 1937\n",
      "44 1\n",
      "1848 86 1850\n",
      "43 1\n",
      "1763 84 1765\n",
      "42 1\n",
      "1680 82 1682\n",
      "41 1\n",
      "1599 80 1601\n",
      "40 1\n",
      "1520 78 1522\n",
      "39 1\n",
      "1443 76 1445\n",
      "38 1\n",
      "1368 74 1370\n",
      "37 1\n",
      "1295 72 1297\n",
      "36 1\n",
      "1224 70 1226\n",
      "35 1\n",
      "1155 68 1157\n",
      "34 1\n",
      "1088 66 1090\n",
      "33 1\n",
      "1023 64 1025\n",
      "32 1\n",
      "960 62 962\n",
      "31 1\n",
      "899 60 901\n",
      "30 1\n",
      "840 58 842\n",
      "29 1\n",
      "783 56 785\n",
      "28 1\n",
      "728 54 730\n",
      "27 1\n",
      "675 52 677\n",
      "26 1\n",
      "624 50 626\n",
      "25 1\n",
      "575 48 577\n",
      "24 1\n",
      "528 46 530\n",
      "23 1\n",
      "483 44 485\n",
      "22 1\n",
      "440 42 442\n",
      "21 1\n",
      "399 40 401\n",
      "20 1\n",
      "360 38 362\n",
      "19 1\n",
      "323 36 325\n",
      "18 1\n",
      "288 34 290\n",
      "17 1\n",
      "255 32 257\n",
      "16 1\n",
      "224 30 226\n",
      "15 1\n",
      "195 28 197\n",
      "14 1\n",
      "168 26 170\n",
      "13 1\n",
      "143 24 145\n",
      "12 1\n",
      "120 22 122\n",
      "11 1\n",
      "99 20 101\n",
      "10 1\n",
      "80 18 82\n",
      "9 1\n",
      "63 16 65\n",
      "8 1\n",
      "48 14 50\n",
      "7 1\n",
      "35 12 37\n",
      "6 1\n",
      "24 10 26\n",
      "5 1\n",
      "21 20 29\n",
      "5 2\n",
      "16 30 34\n",
      "5 3\n"
     ]
    },
    {
     "data": {
      "text/plain": [
       "(16, 30, 34)"
      ]
     },
     "execution_count": 127,
     "metadata": {},
     "output_type": "execute_result"
    }
   ],
   "source": [
    "fun4(80)"
   ]
  },
  {
   "cell_type": "code",
   "execution_count": 128,
   "metadata": {},
   "outputs": [
    {
     "name": "stdout",
     "output_type": "stream",
     "text": [
      "1599 80 1601\n",
      "40 1\n",
      "1520 78 1522\n",
      "39 1\n",
      "1443 76 1445\n",
      "38 1\n",
      "1368 74 1370\n",
      "37 1\n",
      "1295 72 1297\n",
      "36 1\n",
      "1224 70 1226\n",
      "35 1\n",
      "1155 68 1157\n",
      "34 1\n",
      "1088 66 1090\n",
      "33 1\n",
      "1023 64 1025\n",
      "32 1\n",
      "960 62 962\n",
      "31 1\n",
      "899 60 901\n",
      "30 1\n",
      "840 58 842\n",
      "29 1\n",
      "783 56 785\n",
      "28 1\n",
      "728 54 730\n",
      "27 1\n",
      "675 52 677\n",
      "26 1\n",
      "624 50 626\n",
      "25 1\n",
      "575 48 577\n",
      "24 1\n",
      "528 46 530\n",
      "23 1\n",
      "483 44 485\n",
      "22 1\n",
      "440 42 442\n",
      "21 1\n",
      "399 40 401\n",
      "20 1\n",
      "360 38 362\n",
      "19 1\n",
      "323 36 325\n",
      "18 1\n",
      "288 34 290\n",
      "17 1\n",
      "255 32 257\n",
      "16 1\n",
      "224 30 226\n",
      "15 1\n",
      "195 28 197\n",
      "14 1\n",
      "168 26 170\n",
      "13 1\n",
      "143 24 145\n",
      "12 1\n",
      "120 22 122\n",
      "11 1\n",
      "99 20 101\n",
      "10 1\n",
      "80 18 82\n",
      "9 1\n",
      "63 16 65\n",
      "8 1\n",
      "48 14 50\n",
      "7 1\n",
      "35 12 37\n",
      "6 1\n",
      "24 10 26\n",
      "5 1\n",
      "15 8 17\n",
      "4 1\n"
     ]
    },
    {
     "data": {
      "text/plain": [
       "(15, 8, 17)"
      ]
     },
     "execution_count": 128,
     "metadata": {},
     "output_type": "execute_result"
    }
   ],
   "source": [
    "fun4(40)"
   ]
  },
  {
   "cell_type": "code",
   "execution_count": 142,
   "metadata": {},
   "outputs": [
    {
     "name": "stdout",
     "output_type": "stream",
     "text": [
      "(3, 4, 5)\n",
      "(8, 6, 10)\n",
      "(5, 12, 13)\n",
      "(15, 8, 17)\n",
      "(12, 16, 20)\n",
      "(7, 24, 25)\n",
      "(24, 10, 26)\n",
      "(21, 20, 29)\n",
      "(16, 30, 34)\n",
      "(35, 12, 37)\n",
      "(9, 40, 41)\n",
      "(32, 24, 40)\n"
     ]
    }
   ],
   "source": [
    "for i in range(100):\n",
    "    d=fun4(i)\n",
    "    if d!=(0,0,0):\n",
    "        print(d)\n",
    "        "
   ]
  },
  {
   "cell_type": "code",
   "execution_count": 148,
   "metadata": {
    "scrolled": true
   },
   "outputs": [
    {
     "name": "stdout",
     "output_type": "stream",
     "text": [
      "(3, 4, 5)\n",
      "(8, 6, 10)\n",
      "(5, 12, 13)\n",
      "(15, 8, 17)\n",
      "(12, 16, 20)\n",
      "(7, 24, 25)\n",
      "(24, 10, 26)\n",
      "(21, 20, 29)\n",
      "(16, 30, 34)\n",
      "(35, 12, 37)\n",
      "(9, 40, 41)\n",
      "(32, 24, 40)\n",
      "(27, 36, 45)\n",
      "(48, 14, 50)\n",
      "(20, 48, 52)\n",
      "(45, 28, 53)\n"
     ]
    }
   ],
   "source": [
    "for i in range(130):\n",
    "    d=fun4(i)\n",
    "    if d!=(0,0,0):\n",
    "        print(d)\n",
    "        "
   ]
  },
  {
   "cell_type": "code",
   "execution_count": 147,
   "metadata": {
    "scrolled": true
   },
   "outputs": [
    {
     "name": "stdout",
     "output_type": "stream",
     "text": [
      "35 12 37\n",
      "6 1\n",
      "24 10 26\n",
      "5 1\n",
      "15 8 17\n",
      "4 1\n",
      "8 6 10\n",
      "3 1\n",
      "5 12 13\n",
      "3 2\n"
     ]
    },
    {
     "data": {
      "text/plain": [
       "(0, 0, 0)"
      ]
     },
     "execution_count": 147,
     "metadata": {},
     "output_type": "execute_result"
    }
   ],
   "source": [
    "fun4_info(36)"
   ]
  },
  {
   "cell_type": "code",
   "execution_count": 134,
   "metadata": {},
   "outputs": [
    {
     "data": {
      "text/plain": [
       "(16, 30, 34)"
      ]
     },
     "execution_count": 134,
     "metadata": {},
     "output_type": "execute_result"
    }
   ],
   "source": [
    "fun4(80)"
   ]
  },
  {
   "cell_type": "code",
   "execution_count": 135,
   "metadata": {},
   "outputs": [
    {
     "data": {
      "text/plain": [
       "(15, 8, 17)"
      ]
     },
     "execution_count": 135,
     "metadata": {},
     "output_type": "execute_result"
    }
   ],
   "source": [
    "fun4(40)"
   ]
  },
  {
   "cell_type": "code",
   "execution_count": 162,
   "metadata": {},
   "outputs": [
    {
     "name": "stdout",
     "output_type": "stream",
     "text": [
      "1 (3, 4, 5)\n",
      "2 (8, 6, 10)\n",
      "4 (12, 16, 20)\n",
      "8 (32, 24, 40)\n",
      "9 (27, 36, 45)\n",
      "16 (48, 64, 80)\n",
      "18 (72, 54, 90)\n",
      "25 (75, 100, 125)\n",
      "32 (128, 96, 160)\n",
      "36 (108, 144, 180)\n",
      "49 (147, 196, 245)\n",
      "50 (200, 150, 250)\n",
      "64 (192, 256, 320)\n",
      "72 (288, 216, 360)\n",
      "81 (243, 324, 405)\n",
      "98 (392, 294, 490)\n",
      "121 (363, 484, 605)\n",
      "128 (512, 384, 640)\n",
      "162 (648, 486, 810)\n",
      "169 (507, 676, 845)\n",
      "196 (588, 784, 980)\n",
      "200 (800, 600, 1000)\n",
      "225 (675, 900, 1125)\n",
      "242 (968, 726, 1210)\n",
      "256 (768, 1024, 1280)\n",
      "288 (1152, 864, 1440)\n",
      "289 (867, 1156, 1445)\n",
      "324 (972, 1296, 1620)\n",
      "338 (1352, 1014, 1690)\n",
      "361 (1083, 1444, 1805)\n",
      "484 (1452, 1936, 2420)\n",
      "512 (2048, 1536, 2560)\n",
      "529 (1587, 2116, 2645)\n",
      "578 (2312, 1734, 2890)\n",
      "625 (1875, 2500, 3125)\n",
      "648 (2592, 1944, 3240)\n",
      "676 (2028, 2704, 3380)\n",
      "722 (2888, 2166, 3610)\n",
      "729 (2187, 2916, 3645)\n",
      "784 (2352, 3136, 3920)\n",
      "841 (2523, 3364, 4205)\n",
      "882 (3528, 2646, 4410)\n",
      "961 (2883, 3844, 4805)\n",
      "968 (3872, 2904, 4840)\n",
      "1024 (3072, 4096, 5120)\n",
      "1058 (4232, 3174, 5290)\n",
      "1089 (3267, 4356, 5445)\n",
      "1152 (4608, 3456, 5760)\n",
      "1156 (3468, 4624, 5780)\n",
      "1250 (5000, 3750, 6250)\n",
      "1352 (5408, 4056, 6760)\n",
      "1369 (4107, 5476, 6845)\n",
      "1444 (4332, 5776, 7220)\n",
      "1458 (5832, 4374, 7290)\n",
      "1521 (4563, 6084, 7605)\n",
      "1681 (5043, 6724, 8405)\n",
      "1682 (6728, 5046, 8410)\n",
      "1849 (5547, 7396, 9245)\n",
      "1922 (7688, 5766, 9610)\n"
     ]
    }
   ],
   "source": [
    "for i in range(1,2000):\n",
    "    d=fun4(i*(3+4+5))\n",
    "    if (d[2]/5==d[1]/3==d[0]/4 or d[2]/5==d[1]/4==d[0]/3 ) and d[-1]!=0:\n",
    "        print(i,d)"
   ]
  },
  {
   "cell_type": "code",
   "execution_count": 164,
   "metadata": {},
   "outputs": [
    {
     "name": "stdout",
     "output_type": "stream",
     "text": [
      "12 (3, 4, 5)\n",
      "24 (8, 6, 10)\n",
      "30 (5, 12, 13)\n",
      "40 (15, 8, 17)\n",
      "48 (12, 16, 20)\n",
      "56 (7, 24, 25)\n",
      "60 (24, 10, 26)\n",
      "70 (21, 20, 29)\n",
      "80 (16, 30, 34)\n",
      "84 (35, 12, 37)\n",
      "90 (9, 40, 41)\n",
      "96 (32, 24, 40)\n",
      "108 (27, 36, 45)\n",
      "112 (48, 14, 50)\n",
      "120 (20, 48, 52)\n",
      "126 (45, 28, 53)\n",
      "132 (11, 60, 61)\n",
      "140 (40, 42, 58)\n",
      "144 (63, 16, 65)\n",
      "154 (33, 56, 65)\n",
      "160 (60, 32, 68)\n",
      "168 (24, 70, 74)\n",
      "176 (55, 48, 73)\n",
      "180 (80, 18, 82)\n",
      "182 (13, 84, 85)\n",
      "192 (48, 64, 80)\n",
      "198 (77, 36, 85)\n",
      "208 (39, 80, 89)\n",
      "216 (72, 54, 90)\n",
      "220 (99, 20, 101)\n",
      "224 (28, 96, 100)\n",
      "234 (65, 72, 97)\n",
      "240 (96, 40, 104)\n",
      "252 (56, 90, 106)\n",
      "260 (91, 60, 109)\n",
      "264 (120, 22, 122)\n",
      "270 (45, 108, 117)\n",
      "280 (84, 80, 116)\n",
      "286 (117, 44, 125)\n",
      "288 (32, 126, 130)\n",
      "300 (75, 100, 125)\n",
      "306 (17, 144, 145)\n",
      "308 (112, 66, 130)\n",
      "312 (143, 24, 145)\n",
      "320 (64, 120, 136)\n",
      "330 (105, 88, 137)\n",
      "336 (140, 48, 148)\n",
      "340 (51, 140, 149)\n",
      "352 (96, 110, 146)\n",
      "360 (135, 72, 153)\n",
      "364 (168, 26, 170)\n",
      "374 (85, 132, 157)\n",
      "380 (19, 180, 181)\n",
      "384 (128, 96, 160)\n",
      "390 (165, 52, 173)\n",
      "396 (72, 154, 170)\n",
      "408 (119, 120, 169)\n",
      "416 (160, 78, 178)\n",
      "418 (57, 176, 185)\n",
      "420 (195, 28, 197)\n",
      "432 (108, 144, 180)\n",
      "440 (40, 198, 202)\n",
      "442 (153, 104, 185)\n",
      "448 (192, 56, 200)\n",
      "456 (95, 168, 193)\n",
      "462 (21, 220, 221)\n",
      "468 (144, 130, 194)\n",
      "476 (187, 84, 205)\n",
      "480 (224, 30, 226)\n",
      "494 (133, 156, 205)\n",
      "504 (180, 112, 212)\n",
      "510 (221, 60, 229)\n",
      "520 (120, 182, 218)\n",
      "528 (44, 240, 244)\n",
      "532 (171, 140, 221)\n",
      "540 (216, 90, 234)\n",
      "544 (255, 32, 257)\n",
      "546 (105, 208, 233)\n",
      "552 (23, 264, 265)\n",
      "560 (160, 168, 232)\n",
      "570 (209, 120, 241)\n",
      "572 (88, 234, 250)\n",
      "576 (252, 64, 260)\n",
      "588 (147, 196, 245)\n",
      "598 (69, 260, 269)\n",
      "600 (200, 150, 250)\n",
      "608 (247, 96, 265)\n",
      "612 (288, 34, 290)\n",
      "616 (132, 224, 260)\n",
      "624 (48, 286, 290)\n",
      "630 (189, 180, 261)\n",
      "640 (240, 128, 272)\n",
      "644 (115, 252, 277)\n",
      "646 (285, 68, 293)\n",
      "650 (25, 312, 313)\n",
      "660 (176, 210, 274)\n",
      "672 (231, 160, 281)\n",
      "680 (280, 102, 298)\n",
      "684 (323, 36, 325)\n",
      "690 (161, 240, 289)\n",
      "700 (75, 308, 317)\n",
      "704 (220, 192, 292)\n",
      "714 (273, 136, 305)\n",
      "720 (320, 72, 328)\n",
      "728 (52, 336, 340)\n",
      "736 (207, 224, 305)\n",
      "748 (264, 170, 314)\n",
      "750 (125, 300, 325)\n",
      "756 (315, 108, 333)\n",
      "760 (360, 38, 362)\n",
      "768 (192, 256, 320)\n",
      "780 (104, 330, 346)\n",
      "782 (253, 204, 325)\n",
      "792 (308, 144, 340)\n",
      "798 (357, 76, 365)\n",
      "800 (175, 288, 337)\n",
      "810 (81, 360, 369)\n",
      "816 (240, 238, 338)\n",
      "828 (299, 180, 349)\n",
      "832 (156, 320, 356)\n",
      "836 (352, 114, 370)\n",
      "840 (399, 40, 401)\n",
      "850 (225, 272, 353)\n",
      "864 (288, 216, 360)\n",
      "870 (29, 420, 421)\n",
      "874 (345, 152, 377)\n",
      "880 (396, 80, 404)\n",
      "884 (208, 306, 370)\n",
      "896 (112, 384, 400)\n",
      "900 (275, 252, 373)\n",
      "912 (336, 190, 386)\n",
      "918 (189, 340, 389)\n",
      "920 (391, 120, 409)\n",
      "924 (440, 42, 442)\n",
      "928 (87, 416, 425)\n",
      "936 (260, 288, 388)\n",
      "950 (325, 228, 397)\n",
      "952 (168, 374, 410)\n",
      "960 (384, 160, 416)\n",
      "966 (437, 84, 445)\n",
      "972 (243, 324, 405)\n",
      "986 (145, 408, 433)\n",
      "988 (312, 266, 410)\n",
      "992 (31, 480, 481)\n",
      "1000 (375, 200, 425)\n",
      "1008 (432, 126, 450)\n",
      "1012 (483, 44, 485)\n",
      "1020 (120, 442, 458)\n",
      "1026 (297, 304, 425)\n",
      "1040 (364, 240, 436)\n",
      "1044 (203, 396, 445)\n",
      "1050 (425, 168, 457)\n",
      "1054 (93, 476, 485)\n",
      "1056 (480, 88, 488)\n",
      "1064 (280, 342, 442)\n",
      "1080 (351, 280, 449)\n",
      "1088 (64, 510, 514)\n",
      "1092 (416, 210, 466)\n",
      "1100 (475, 132, 493)\n",
      "1102 (261, 380, 461)\n",
      "1104 (528, 46, 530)\n",
      "1116 (155, 468, 493)\n",
      "1120 (336, 320, 464)\n",
      "1122 (33, 544, 545)\n",
      "1134 (405, 252, 477)\n",
      "1140 (240, 418, 482)\n",
      "1144 (468, 176, 500)\n",
      "1150 (525, 92, 533)\n",
      "1152 (128, 504, 520)\n",
      "1160 (319, 360, 481)\n",
      "1176 (392, 294, 490)\n",
      "1178 (217, 456, 505)\n",
      "1188 (459, 220, 509)\n",
      "1196 (520, 138, 538)\n",
      "1200 (575, 48, 577)\n",
      "1216 (192, 494, 530)\n",
      "1218 (377, 336, 505)\n",
      "1224 (68, 576, 580)\n",
      "1232 (448, 264, 520)\n",
      "1240 (279, 440, 521)\n",
      "1242 (513, 184, 545)\n",
      "1248 (572, 96, 580)\n",
      "1254 (165, 532, 557)\n",
      "1260 (360, 378, 522)\n",
      "1276 (435, 308, 533)\n",
      "1280 (256, 480, 544)\n",
      "1288 (504, 230, 554)\n",
      "1292 (136, 570, 586)\n",
      "1296 (567, 144, 585)\n",
      "1300 (624, 50, 626)\n",
      "1302 (341, 420, 541)\n",
      "1320 (420, 352, 548)\n",
      "1330 (105, 608, 617)\n",
      "1334 (493, 276, 565)\n",
      "1344 (560, 192, 592)\n",
      "1350 (621, 100, 629)\n",
      "1360 (204, 560, 596)\n",
      "1364 (403, 396, 565)\n",
      "1368 (72, 646, 650)\n",
      "1380 (480, 322, 578)\n",
      "1386 (297, 504, 585)\n",
      "1392 (551, 240, 601)\n",
      "1400 (616, 150, 634)\n",
      "1404 (675, 52, 677)\n",
      "1406 (37, 684, 685)\n",
      "1408 (384, 440, 584)\n",
      "1426 (465, 368, 593)\n",
      "1428 (272, 546, 610)\n",
      "1440 (540, 288, 612)\n",
      "1450 (609, 200, 641)\n",
      "1452 (363, 484, 605)\n",
      "1456 (672, 104, 680)\n",
      "1470 (245, 588, 637)\n",
      "1472 (448, 414, 610)\n",
      "1480 (111, 680, 689)\n",
      "1488 (527, 336, 625)\n",
      "1496 (340, 528, 628)\n",
      "1500 (600, 250, 650)\n",
      "1508 (667, 156, 685)\n",
      "1512 (728, 54, 730)\n",
      "1518 (429, 460, 629)\n",
      "1520 (76, 720, 724)\n",
      "1536 (512, 384, 640)\n",
      "1540 (315, 572, 653)\n",
      "1550 (589, 300, 661)\n",
      "1554 (185, 672, 697)\n",
      "1560 (660, 208, 692)\n",
      "1564 (408, 506, 650)\n",
      "1566 (725, 108, 733)\n",
      "1584 (495, 432, 657)\n",
      "1596 (152, 714, 730)\n",
      "1600 (576, 350, 674)\n",
      "1610 (385, 552, 673)\n",
      "1612 (651, 260, 701)\n",
      "1620 (720, 162, 738)\n",
      "1624 (783, 56, 785)\n",
      "1628 (259, 660, 709)\n",
      "1632 (476, 480, 676)\n",
      "1638 (117, 756, 765)\n",
      "1650 (561, 400, 689)\n",
      "1656 (360, 598, 698)\n",
      "1664 (640, 312, 712)\n",
      "1672 (228, 704, 740)\n",
      "1674 (713, 216, 745)\n",
      "1680 (780, 112, 788)\n",
      "1700 (544, 450, 706)\n",
      "1702 (333, 644, 725)\n",
      "1716 (627, 364, 725)\n",
      "1722 (41, 840, 841)\n",
      "1728 (704, 270, 754)\n",
      "1736 (775, 168, 793)\n",
      "1740 (840, 58, 842)\n",
      "1748 (304, 690, 754)\n",
      "1750 (525, 500, 725)\n",
      "1760 (160, 792, 808)\n",
      "1768 (612, 416, 740)\n",
      "1776 (407, 624, 745)\n",
      "1782 (693, 324, 765)\n",
      "1792 (768, 224, 800)\n",
      "1794 (273, 736, 785)\n",
      "1798 (837, 116, 845)\n",
      "1800 (504, 550, 746)\n",
      "1804 (123, 836, 845)\n",
      "1820 (595, 468, 757)\n",
      "1824 (380, 672, 772)\n",
      "1836 (680, 378, 778)\n",
      "1840 (240, 782, 818)\n",
      "1848 (759, 280, 809)\n",
      "1850 (481, 600, 769)\n",
      "1856 (832, 174, 850)\n",
      "1860 (899, 60, 901)\n",
      "1872 (576, 520, 776)\n",
      "1886 (205, 828, 853)\n",
      "1890 (665, 432, 793)\n",
      "1892 (43, 924, 925)\n",
      "1900 (456, 650, 794)\n",
      "1904 (748, 336, 820)\n",
      "1914 (825, 232, 857)\n",
      "1920 (896, 120, 904)\n",
      "1924 (555, 572, 797)\n",
      "1932 (168, 874, 890)\n",
      "1944 (648, 486, 810)\n",
      "1950 (429, 700, 821)\n",
      "1960 (735, 392, 833)\n",
      "1968 (287, 816, 865)\n",
      "1972 (816, 290, 866)\n",
      "1976 (532, 624, 820)\n",
      "1978 (129, 920, 929)\n",
      "1980 (891, 180, 909)\n",
      "1984 (960, 62, 962)\n",
      "1998 (629, 540, 829)\n",
      "291\n"
     ]
    }
   ],
   "source": [
    "e=0\n",
    "for i in range(1,2000):\n",
    "    d=fun4(i)\n",
    "    if d[-1]!=0:\n",
    "        e+=1\n",
    "        print(i,d)\n",
    "print(e)"
   ]
  },
  {
   "cell_type": "code",
   "execution_count": null,
   "metadata": {},
   "outputs": [],
   "source": []
  },
  {
   "cell_type": "code",
   "execution_count": 143,
   "metadata": {},
   "outputs": [],
   "source": [
    "def fun4_info(n):\n",
    "    if n%2!=0:\n",
    "        return (0,0,0)\n",
    "    x=int(math.sqrt(n))\n",
    "    y=1\n",
    "    m=n//2\n",
    "    while x>y:\n",
    "        print(x**2-y**2,2*x*y,x**2+y**2)\n",
    "        print(x,y)\n",
    "        d=x*(x+y)\n",
    "        if m>d:\n",
    "            y+=1\n",
    "        elif m<d:\n",
    "            x-=1\n",
    "        else:\n",
    "            return (x**2-y**2,2*x*y,x**2+y**2)\n",
    "        \n",
    "    return (0,0,0)"
   ]
  },
  {
   "cell_type": "code",
   "execution_count": null,
   "metadata": {},
   "outputs": [],
   "source": []
  },
  {
   "cell_type": "code",
   "execution_count": 165,
   "metadata": {},
   "outputs": [
    {
     "ename": "SyntaxError",
     "evalue": "invalid syntax (<ipython-input-165-28f31e18248a>, line 1)",
     "output_type": "error",
     "traceback": [
      "\u001b[1;36m  File \u001b[1;32m\"<ipython-input-165-28f31e18248a>\"\u001b[1;36m, line \u001b[1;32m1\u001b[0m\n\u001b[1;33m    for x in 1..N {\u001b[0m\n\u001b[1;37m                  ^\u001b[0m\n\u001b[1;31mSyntaxError\u001b[0m\u001b[1;31m:\u001b[0m invalid syntax\n"
     ]
    }
   ],
   "source": [
    "for x in 1..N {\n",
    "    for y in 1..N {\n",
    "        for z in 1..N {\n",
    "            if x * x + y * y == z * z then {\n",
    "                // use x, y, z\n",
    "            }\n",
    "        }\n",
    "    }\n",
    "}"
   ]
  },
  {
   "cell_type": "code",
   "execution_count": 229,
   "metadata": {},
   "outputs": [
    {
     "name": "stdout",
     "output_type": "stream",
     "text": [
      "[{24, 10, 26}, {24, 10, 26}, {25, 20, 15}]\n",
      "[{35, 12, 37}, {35, 12, 37}, {35, 28, 21}]\n",
      "[{40, 9, 41}, {40, 9, 41}, {36, 39, 15}]\n"
     ]
    }
   ],
   "source": [
    "for i in range(101):\n",
    "    d=[set(f(i)) for f in (fun, fun2, fun3)]\n",
    "    if d[1]!=d[2] or d[0]!=d[2]:# or d[1]!=d[3]:\n",
    "        print(d)"
   ]
  },
  {
   "cell_type": "code",
   "execution_count": 201,
   "metadata": {},
   "outputs": [
    {
     "name": "stdout",
     "output_type": "stream",
     "text": [
      "560 ms ± 3.34 ms per loop (mean ± std. dev. of 7 runs, 1 loop each)\n"
     ]
    }
   ],
   "source": [
    "%%timeit\n",
    "fun(100)"
   ]
  },
  {
   "cell_type": "code",
   "execution_count": 212,
   "metadata": {},
   "outputs": [
    {
     "name": "stdout",
     "output_type": "stream",
     "text": [
      "1\n"
     ]
    }
   ],
   "source": [
    "d=[0,0,0,1]\n",
    "if d[1]!=d[2] or d[0]!=d[3] or d[1]!=d[3]:\n",
    "    print(1)"
   ]
  },
  {
   "cell_type": "code",
   "execution_count": 214,
   "metadata": {},
   "outputs": [
    {
     "data": {
      "text/plain": [
       "{(0, 0, 0)}"
      ]
     },
     "execution_count": 214,
     "metadata": {},
     "output_type": "execute_result"
    }
   ],
   "source": [
    "set(d)"
   ]
  },
  {
   "cell_type": "code",
   "execution_count": 221,
   "metadata": {},
   "outputs": [
    {
     "data": {
      "text/plain": [
       "[{3, 4, 5}, {3, 4, 5}]"
      ]
     },
     "execution_count": 221,
     "metadata": {},
     "output_type": "execute_result"
    }
   ],
   "source": [
    "[ set(i(12)) for i in (fun,fun2)]"
   ]
  },
  {
   "cell_type": "code",
   "execution_count": null,
   "metadata": {},
   "outputs": [],
   "source": []
  },
  {
   "cell_type": "code",
   "execution_count": null,
   "metadata": {},
   "outputs": [],
   "source": []
  },
  {
   "cell_type": "code",
   "execution_count": null,
   "metadata": {},
   "outputs": [],
   "source": []
  },
  {
   "cell_type": "code",
   "execution_count": null,
   "metadata": {},
   "outputs": [],
   "source": []
  },
  {
   "cell_type": "code",
   "execution_count": 373,
   "metadata": {},
   "outputs": [],
   "source": [
    "def fun3_help_v2_count(n,c,k):\n",
    "    b=1#int(c//math.sqrt(2))\n",
    "    a=c-1#c\n",
    "    m=c**2\n",
    "    \n",
    "    e=a**2+b**2\n",
    "    \n",
    "    k+=5\n",
    "    \n",
    "    while a>b:\n",
    "        k+=1\n",
    "        if e>m:\n",
    "            a-=1\n",
    "            k+=2\n",
    "        elif e<m:\n",
    "            b+=1\n",
    "            k+=3\n",
    "        else:\n",
    "            k+=2\n",
    "            if (n/(a+b+c)).is_integer():\n",
    "                k+=4\n",
    "                break\n",
    "            else:\n",
    "                a-=1\n",
    "                b+=1\n",
    "                k+=6\n",
    "        e=a**2+b**2\n",
    "        k+=3\n",
    "\n",
    "    d=n/(a+b+c)\n",
    "    k+=3\n",
    "    \n",
    "    if d.is_integer() and a**2+b**2==m:\n",
    "        k+=6\n",
    "        d=int(d)\n",
    "        k+=4\n",
    "        return (d*a,d*b,d*c,k)\n",
    "    return (0,0,0,k)\n",
    "        \n",
    "    \n",
    "    \n",
    "def fun3_v2_count(n,every=False):\n",
    "    k=0\n",
    "    if every:\n",
    "        k+=1\n",
    "        e=[]\n",
    "        k+=2\n",
    "        for i in range(5,n//2,2):\n",
    "            k+=1\n",
    "            d=fun3_help_v2_count(n,i,k)\n",
    "            k+=d[-1]\n",
    "            k+=1\n",
    "            if d[0]!=0:\n",
    "                k+=1\n",
    "                e.append((d[0],d[1],d[2]))\n",
    "        return (set(e),k)\n",
    "    else:\n",
    "        k+=3\n",
    "        for i in range(5,n//2,2):\n",
    "            k+=1\n",
    "            d=fun3_help_v2_count(n,i,k)\n",
    "            k+=d[-1]\n",
    "            k+=2\n",
    "            if d[0]!=0:\n",
    "                return (d[0],d[1],d[2],k)\n",
    "        return (0,0,0,k)\n",
    "        "
   ]
  },
  {
   "cell_type": "code",
   "execution_count": 382,
   "metadata": {},
   "outputs": [
    {
     "name": "stdout",
     "output_type": "stream",
     "text": [
      "6597562996360943474944316395265784503071225175301996883671986049693122019525699681849043186027\n",
      "6727933298846350584465496919323984705378519152496616803712699038451802422710553231044780618090\n"
     ]
    },
    {
     "data": {
      "text/plain": [
       "0.9806225334445926"
      ]
     },
     "execution_count": 382,
     "metadata": {},
     "output_type": "execute_result"
    }
   ],
   "source": [
    "print(fun3_v2_count(1234,True)[-1])\n",
    "print(fun3_v2_count(1234)[-1])\n",
    "fun3_v2_count(1234,True)[-1]/fun3_v2_count(1234)[-1]"
   ]
  },
  {
   "cell_type": "code",
   "execution_count": 385,
   "metadata": {},
   "outputs": [
    {
     "name": "stdout",
     "output_type": "stream",
     "text": [
      "54.5 ms ± 930 µs per loop (mean ± std. dev. of 7 runs, 10 loops each)\n"
     ]
    }
   ],
   "source": [
    "%%timeit\n",
    "fun3_v2_count(1234)"
   ]
  },
  {
   "cell_type": "code",
   "execution_count": 386,
   "metadata": {},
   "outputs": [
    {
     "name": "stdout",
     "output_type": "stream",
     "text": [
      "53.9 ms ± 632 µs per loop (mean ± std. dev. of 7 runs, 10 loops each)\n"
     ]
    }
   ],
   "source": [
    "%%timeit\n",
    "fun3_v2_count(1234,True)"
   ]
  },
  {
   "cell_type": "code",
   "execution_count": 358,
   "metadata": {},
   "outputs": [],
   "source": [
    "d=fun3_v2_count(10**16)"
   ]
  },
  {
   "cell_type": "code",
   "execution_count": 359,
   "metadata": {},
   "outputs": [
    {
     "data": {
      "text/plain": [
       "True"
      ]
     },
     "execution_count": 359,
     "metadata": {},
     "output_type": "execute_result"
    }
   ],
   "source": [
    "d[0]**2+d[1]**2==d[2]**2"
   ]
  },
  {
   "cell_type": "code",
   "execution_count": 363,
   "metadata": {},
   "outputs": [
    {
     "data": {
      "text/plain": [
       "0"
      ]
     },
     "execution_count": 363,
     "metadata": {},
     "output_type": "execute_result"
    }
   ],
   "source": [
    "sum(d[:-1])-10**16"
   ]
  },
  {
   "cell_type": "code",
   "execution_count": 337,
   "metadata": {},
   "outputs": [
    {
     "data": {
      "text/plain": [
       "(0, 0, 0)"
      ]
     },
     "execution_count": 337,
     "metadata": {},
     "output_type": "execute_result"
    }
   ],
   "source": [
    "fun2(54)"
   ]
  },
  {
   "cell_type": "code",
   "execution_count": 349,
   "metadata": {},
   "outputs": [
    {
     "data": {
      "text/plain": [
       "0"
      ]
     },
     "execution_count": 349,
     "metadata": {},
     "output_type": "execute_result"
    }
   ],
   "source": [
    "3333333333333333224453896013722304246165110619355184909726539264904319486405759542029132894851563520**2+2499999999999999918340422010291728184623832964516388682294904448678239614804319656521849671138672640**2-4166666666666666530567370017152880307706388274193981137158174081130399358007199427536416118564454400**2"
   ]
  },
  {
   "cell_type": "code",
   "execution_count": 351,
   "metadata": {},
   "outputs": [
    {
     "data": {
      "text/plain": [
       "-326638311958833087261504668141934445270820382205287041540782721373912601315445309440"
      ]
     },
     "execution_count": 351,
     "metadata": {},
     "output_type": "execute_result"
    }
   ],
   "source": [
    "3333333333333333224453896013722304246165110619355184909726539264904319486405759542029132894851563520+2499999999999999918340422010291728184623832964516388682294904448678239614804319656521849671138672640+4166666666666666530567370017152880307706388274193981137158174081130399358007199427536416118564454400-10**100"
   ]
  },
  {
   "cell_type": "code",
   "execution_count": null,
   "metadata": {},
   "outputs": [],
   "source": []
  }
 ],
 "metadata": {
  "kernelspec": {
   "display_name": "Python 3",
   "language": "python",
   "name": "python3"
  },
  "language_info": {
   "codemirror_mode": {
    "name": "ipython",
    "version": 3
   },
   "file_extension": ".py",
   "mimetype": "text/x-python",
   "name": "python",
   "nbconvert_exporter": "python",
   "pygments_lexer": "ipython3",
   "version": "3.9.5"
  }
 },
 "nbformat": 4,
 "nbformat_minor": 4
}
