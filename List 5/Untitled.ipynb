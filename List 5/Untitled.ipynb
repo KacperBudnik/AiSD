{
 "cells": [
  {
   "cell_type": "markdown",
   "id": "4bb94798",
   "metadata": {},
   "source": [
    "https://github.com/KacperBudnik/AiSD/tree/main/List%205"
   ]
  },
  {
   "cell_type": "markdown",
   "id": "2d4fc29b",
   "metadata": {},
   "source": [
    "# Zadanie 1"
   ]
  },
  {
   "cell_type": "code",
   "execution_count": 76,
   "id": "71d3b455",
   "metadata": {},
   "outputs": [],
   "source": [
    "import numpy as np\n",
    "from scipy import linalg\n",
    "from scipy.optimize import curve_fit as fit\n",
    "import timeit\n",
    "import random\n",
    "import matplotlib.pyplot as plt\n",
    "import time"
   ]
  },
  {
   "cell_type": "code",
   "execution_count": 2,
   "id": "a4c647e7",
   "metadata": {},
   "outputs": [],
   "source": [
    "a = np.array([[3,2,0],[1,-1,0],[0,5,1]])"
   ]
  },
  {
   "cell_type": "code",
   "execution_count": 3,
   "id": "40e9607e",
   "metadata": {},
   "outputs": [],
   "source": [
    "b = np.array([2, 4, -1])"
   ]
  },
  {
   "cell_type": "code",
   "execution_count": 4,
   "id": "dc9eef9b",
   "metadata": {},
   "outputs": [],
   "source": [
    "x = linalg.solve(a,b)"
   ]
  },
  {
   "cell_type": "code",
   "execution_count": 5,
   "id": "4d902de0",
   "metadata": {},
   "outputs": [
    {
     "data": {
      "text/plain": [
       "array([ 2., -2.,  9.])"
      ]
     },
     "execution_count": 5,
     "metadata": {},
     "output_type": "execute_result"
    }
   ],
   "source": [
    "x"
   ]
  },
  {
   "cell_type": "code",
   "execution_count": 6,
   "id": "75dad622",
   "metadata": {},
   "outputs": [
    {
     "data": {
      "text/plain": [
       "array([ True,  True,  True])"
      ]
     },
     "execution_count": 6,
     "metadata": {},
     "output_type": "execute_result"
    }
   ],
   "source": [
    "np.dot(a,x) == b"
   ]
  },
  {
   "cell_type": "code",
   "execution_count": 7,
   "id": "005a050b",
   "metadata": {},
   "outputs": [],
   "source": [
    "def solve_n_time(n,a=-50,b=50,times=1):\n",
    "    x=np.random.randint(a,b+1,n)\n",
    "    A=np.random.randint(a,b+1,(n,n))\n",
    "    b=[sum(x[i]*a[i] for i in range(n)) for a in A]\n",
    "\n",
    "    return timeit.timeit(\"linalg.solve(A,b)\",\"from scipy import linalg\",number=times,globals=locals())"
   ]
  },
  {
   "cell_type": "code",
   "execution_count": 72,
   "id": "096e2e40",
   "metadata": {},
   "outputs": [],
   "source": [
    "def solve_n_time(n,a=-128,b=128,times=1):\n",
    "    x=np.random.randint(a,b+1,n)\n",
    "    A=np.random.randint(a,b+1,(n,n))\n",
    "    b=[sum(x[i]*a[i] for i in range(n)) for a in A]\n",
    "    \n",
    "    return timeit.timeit(\"linalg.solve(A,b)\",\"from scipy import linalg\",number=times,globals=locals())"
   ]
  },
  {
   "cell_type": "code",
   "execution_count": 85,
   "id": "58bbbb87",
   "metadata": {},
   "outputs": [],
   "source": [
    "for tim in [1, 2, 5, 10, 50, 100]:\n",
    "    times=np.zeros(15)\n",
    "    name=\"Czasy/\"+str(tim)+\"_prob.txt\"\n",
    "    for i in range(15):\n",
    "        times[i]=solve_n_time(2**i,times=tim)\n",
    "    times_log=[np.log2(k) for k in times]\n",
    "    \n",
    "    f = open(name, \"w\")\n",
    "    f.write(\"Liczba prób\\tCzas\\tLogarytm Czasu\\n\")\n",
    "    for i in range(15):\n",
    "        f.write(\"2^\"+str(i)+\"\\t\\t\"+str(times[i])+\"\\t\"+str(times_log[i])+\"\\n\")\n",
    "    f.close()"
   ]
  },
  {
   "cell_type": "code",
   "execution_count": 77,
   "id": "f884f1a4",
   "metadata": {},
   "outputs": [],
   "source": [
    "t_start=time.time()\n",
    "for i in range(15):\n",
    "    times[i]=solve_n_time(2**i,times=1)\n",
    "t_stop=time.time()"
   ]
  },
  {
   "cell_type": "code",
   "execution_count": 78,
   "id": "9bcf12fa",
   "metadata": {},
   "outputs": [],
   "source": [
    "T=-t_start+t_stop"
   ]
  },
  {
   "cell_type": "code",
   "execution_count": 84,
   "id": "d10ca9d9",
   "metadata": {},
   "outputs": [
    {
     "data": {
      "text/plain": [
       "6.055589799880981"
      ]
     },
     "execution_count": 84,
     "metadata": {},
     "output_type": "execute_result"
    }
   ],
   "source": [
    "sum([1, 2, 5, 10, 50, 100])*T/60/60"
   ]
  },
  {
   "cell_type": "code",
   "execution_count": 80,
   "id": "f2463706",
   "metadata": {},
   "outputs": [
    {
     "data": {
      "text/plain": [
       "129.76263856887817"
      ]
     },
     "execution_count": 80,
     "metadata": {},
     "output_type": "execute_result"
    }
   ],
   "source": [
    "T"
   ]
  },
  {
   "cell_type": "code",
   "execution_count": null,
   "id": "8457cbdd",
   "metadata": {},
   "outputs": [],
   "source": []
  },
  {
   "cell_type": "code",
   "execution_count": null,
   "id": "de163218",
   "metadata": {},
   "outputs": [],
   "source": []
  },
  {
   "cell_type": "code",
   "execution_count": null,
   "id": "924b9a7f",
   "metadata": {},
   "outputs": [],
   "source": []
  },
  {
   "cell_type": "code",
   "execution_count": null,
   "id": "32988e37",
   "metadata": {},
   "outputs": [],
   "source": []
  },
  {
   "cell_type": "code",
   "execution_count": null,
   "id": "bfae6c27",
   "metadata": {},
   "outputs": [],
   "source": []
  },
  {
   "cell_type": "code",
   "execution_count": null,
   "id": "667621ba",
   "metadata": {},
   "outputs": [],
   "source": []
  },
  {
   "cell_type": "markdown",
   "id": "cedec0c0",
   "metadata": {},
   "source": [
    "# Zadanie 2"
   ]
  },
  {
   "cell_type": "markdown",
   "id": "c2b911a8",
   "metadata": {},
   "source": [
    "## Z poprzedniej listy\n",
    "Implementacja stosu (delikatnie zmodyfikowanego, funckja peek)"
   ]
  },
  {
   "cell_type": "code",
   "execution_count": 4,
   "id": "00593cef",
   "metadata": {},
   "outputs": [],
   "source": [
    "import numpy as np\n",
    "\n",
    "class Node:\n",
    "    \n",
    "    def __repr__(self):\n",
    "        return str(self.data)\n",
    "    \n",
    "    def __init__(self,init_data):\n",
    "        self.data = init_data\n",
    "        self.next = None\n",
    "  \n",
    "    def get_data(self):\n",
    "        return self.data\n",
    "\n",
    "    def get_next(self):\n",
    "        return self.next\n",
    "  \n",
    "    def set_data(self,new_data):\n",
    "        self.data = new_data\n",
    "  \n",
    "    def set_next(self,new_next):\n",
    "        self.next = new_next\n",
    "    \n",
    "\n",
    "class UnorderedList(object):\n",
    "  \n",
    "    def __init__(self):\n",
    "        self.head = None\n",
    "\n",
    "    def is_empty(self):\n",
    "        return self.head == None\n",
    "\n",
    "    def add(self, item):\n",
    "        temp = Node(item)\n",
    "        temp.set_next(self.head)\n",
    "        self.head = temp\n",
    "\n",
    "    def size(self):\n",
    "        current = self.head\n",
    "        count = 0\n",
    "        while current != None:\n",
    "            count = count + 1\n",
    "            current = current.get_next()\n",
    "        return count\n",
    "    \n",
    "    def search(self,item):\n",
    "        current = self.head\n",
    "        found = False\n",
    "        while current != None and not found:\n",
    "            if current.get_data() == item:\n",
    "                found = True\n",
    "            else:\n",
    "                current = current.get_next()\n",
    "        return found\n",
    "    \n",
    "    def remove(self, item):\n",
    "        current = self.head\n",
    "        previous = None\n",
    "        found = False\n",
    "\n",
    "        while not found:\n",
    "            if current.get_data() == item:\n",
    "                found = True\n",
    "            else:\n",
    "                previous = current\n",
    "                current = current.get_next()\n",
    "\n",
    "        if previous == None: #jeśli usuwamy pierwszy element\n",
    "            self.head = current.get_next()\n",
    "        else:\n",
    "            previous.set_next(current.get_next())\n",
    "\n",
    "##################################################################################################################   \n",
    "#                                               Uzupełnienie                                                     #\n",
    "##################################################################################################################   \n",
    "            \n",
    "    def append(self, item):\n",
    "        \"\"\"\n",
    "        Metoda dodająca element na koniec listy.\n",
    "        Przyjmuje jako argument obiekt, który ma zostać dodany.\n",
    "        Niczego nie zwraca.\n",
    "        \"\"\"\n",
    "        if self.head:\n",
    "            current=self.head\n",
    "            while current:\n",
    "                previous=current\n",
    "                current=current.get_next()\n",
    "            previous.set_next(Node(item))\n",
    "        else:\n",
    "            self.add(item)\n",
    "        \n",
    "    \n",
    "    def index(self, item):\n",
    "        \"\"\"\n",
    "        Metoda podaje miejsce na liście, \n",
    "        na którym znajduje się określony element - \n",
    "        element pod self.head ma indeks 0.\n",
    "        Przyjmuje jako argument element, \n",
    "        którego pozycja ma zostać określona.\n",
    "        Zwraca pozycję elementu na liście lub None w przypadku, \n",
    "        gdy wskazanego elementu na liście nie ma.\n",
    "        \"\"\"\n",
    "        current = self.head\n",
    "        found = False\n",
    "        i=0\n",
    "        while current != None and not found:\n",
    "            if current.get_data() == item:\n",
    "                found = True\n",
    "            else:\n",
    "                current = current.get_next()\n",
    "                i+=1\n",
    "        return i if found else None\n",
    "     \n",
    "        \n",
    "    def insert(self, pos, item):\n",
    "        \"\"\"\n",
    "        Metoda umieszcza na wskazanej pozycji zadany element.\n",
    "        Przyjmuje jako argumenty pozycję, \n",
    "        na której ma umiescić element oraz ten element.\n",
    "        Niczego nie zwraca.\n",
    "        Rzuca wyjątkiem IndexError w przypadku, \n",
    "        gdy nie jest możliwe umieszczenie elementu\n",
    "        na zadanej pozycji (np. na 5. miejsce w 3-elementowej liście).\n",
    "        \"\"\"\n",
    "        current = self.head\n",
    "        previous=None\n",
    "        while current != None and pos >0:\n",
    "            pos-=1\n",
    "            previous=current\n",
    "            current=current.get_next()\n",
    "            \n",
    "        if pos == 0:\n",
    "            if previous:\n",
    "                if current:\n",
    "                    previous.set_next(Node(item))\n",
    "                    previous.get_next().set_next(current)\n",
    "                else:\n",
    "                    previous.set_next(Node(item))\n",
    "            else:\n",
    "                self.add(item)\n",
    "        else:\n",
    "            raise IndexError(\"Wyjście poza zakres\")\n",
    "                    \n",
    "  \n",
    "    def pop(self, pos=-1):\n",
    "        \"\"\"\n",
    "        Metoda usuwa z listy element na zadaniej pozycji.\n",
    "        Przyjmuje jako opcjonalny argument pozycję, \n",
    "        z której ma zostać usunięty element.\n",
    "        Jeśli pozycja nie zostanie podana, \n",
    "        metoda usuwa (odłącza) ostatni element z listy. \n",
    "        Zwraca wartość usuniętego elementu.\n",
    "        Rzuca wyjątkiem IndexError w przypadku,\n",
    "        gdy usunięcie elementu z danej pozycji jest niemożliwe.\n",
    "        \"\"\"\n",
    "        n=self.size()\n",
    "        if pos + 1 > n or -pos > n:\n",
    "            raise IndexError(\"Wyjście poza zekres\")\n",
    "        \n",
    "        if pos > 0:\n",
    "            i = pos\n",
    "        elif pos == 0:\n",
    "            temp=self.head\n",
    "            self.head=self.head.get_next()\n",
    "            return temp.get_data()\n",
    "        else:\n",
    "            i = n + pos\n",
    "            \n",
    "        if i==0:\n",
    "            temp=self.head\n",
    "            self.head=self.head.get_next()\n",
    "            return temp.get_data()\n",
    "            \n",
    "        current = self.head\n",
    "        for _ in range(i-1):\n",
    "            current = current.get_next()\n",
    "        temp=current.get_next()\n",
    "        current.set_next(current.get_next().get_next())\n",
    "        return temp.get_data()\n",
    "    \n",
    "    \n",
    "##################################################################################################################   \n",
    "#                                               Dodatkowe                                                        #\n",
    "##################################################################################################################   \n",
    "            \n",
    "    def __repr__(self):\n",
    "        current=self.head\n",
    "        tab=[]\n",
    "        while current:\n",
    "            tab.append(current.get_data())\n",
    "            current=current.get_next()\n",
    "        return str(tab)\n",
    "    \n",
    "    def reverse(self):\n",
    "        \"\"\"\n",
    "        Metoda odwraca kolejność elementów w liście\n",
    "        \"\"\"\n",
    "        temp=[]\n",
    "        current=self.head\n",
    "        while current:\n",
    "            temp.append(current)\n",
    "            current=current.get_next()\n",
    "                    \n",
    "        current=temp.pop()\n",
    "        current.set_next(temp.pop())\n",
    "        self.head=current\n",
    "        \n",
    "        \n",
    "        while temp:\n",
    "            current=current.get_next()\n",
    "            current.set_next(temp.pop())\n",
    "        current. get_next().set_next(None)\n",
    "        \n",
    "    def count(self, item):\n",
    "        \"\"\"\n",
    "        Metoda zwraca liczbę danego elementu z listy\n",
    "        \"\"\"\n",
    "        i=0\n",
    "        current=self.head\n",
    "        while current:\n",
    "            i += 1 if current.get_data()==item else 0\n",
    "            current = current.get_next()\n",
    "        return i\n",
    "            \n",
    "    def shuffle(self):\n",
    "        \"\"\"\n",
    "        Metoda permutuje listę\n",
    "        \"\"\"\n",
    "        temp=[]\n",
    "        current=self.head\n",
    "        while current:\n",
    "            temp.append(current)\n",
    "            current=current.get_next()\n",
    "            \n",
    "        temp = [i for i in np.random.permutation(temp)]\n",
    "                    \n",
    "        current=temp.pop()\n",
    "        current.set_next(temp.pop())\n",
    "        self.head=current\n",
    "        \n",
    "        while temp:\n",
    "            current=current.get_next()\n",
    "            current.set_next(temp.pop())\n",
    "        current.get_next().set_next(None)\n",
    "        \n",
    "    def __eq__(self, other):\n",
    "        \n",
    "        if type(other) == UnorderedList:\n",
    "            current_self = self.head\n",
    "            current_other = other.head\n",
    "            \n",
    "            while current_self and current_other:\n",
    "                if current_self.get_data() != current_other.get_data():\n",
    "                    return False\n",
    "                current_self = current_self.get_next()\n",
    "                current_other = current_other.get_next()\n",
    "            if current_self or current_other:\n",
    "                return False\n",
    "            return True\n",
    "        raise TypeError(\"'==' not supported between instances of 'UnorderedList' and '\"+str(type(other).__name__)+\"'\")\n",
    "            \n",
    "\n",
    "    def same_element(self,other):\n",
    "        \"\"\"\n",
    "        Sprawdza, czy kolejki mają takie same elementy (i ich liczbę)\n",
    "        \"\"\"\n",
    "        temp_self = []\n",
    "        temp_other = []\n",
    "        current=self.head\n",
    "        while current:\n",
    "            temp_self.append(current.get_data())\n",
    "            current = current.get_next()\n",
    "            \n",
    "        current=other.head\n",
    "        while current:\n",
    "            temp_other.append(current.get_data())\n",
    "            current = current.get_next()\n",
    "            \n",
    "        while temp_self and temp_other:\n",
    "            temp = temp_self.pop()\n",
    "            for i in range(len(temp_other)):\n",
    "                if temp==temp_other[i]:\n",
    "                    temp_other.pop(i)\n",
    "                    break\n",
    "            else:\n",
    "                return False\n",
    "        return False if temp_self or temp_other else True\n",
    "        \n",
    "    def same_type_of_elements(self, other):\n",
    "        \"\"\"\n",
    "        Sprawdza, czy wszystkie elementy jednego są w drugim\n",
    "        \"\"\"\n",
    "        temp_self = []\n",
    "        temp_other = []\n",
    "        current=self.head\n",
    "        while current:\n",
    "            temp_self.append(current.get_data())\n",
    "            current = current.get_next()\n",
    "            \n",
    "        current=other.head\n",
    "        while current:\n",
    "            temp_other.append(current.get_data())\n",
    "            current = current.get_next()\n",
    "            \n",
    "        return all(i in temp_self for i in temp_other) and all(i in temp_other for i in temp_self)\n",
    "    \n",
    "    def __getitem__(self, pos):\n",
    "        n=self.size()\n",
    "        \n",
    "        if pos + 1 > n or -pos > n:\n",
    "            raise IndexError(\"Wyjście poza zekres\")\n",
    "            \n",
    "        if pos > 0:\n",
    "            i = pos\n",
    "        elif pos == 0:\n",
    "            return self.head.get_data()\n",
    "        else:\n",
    "            pos = n + pos\n",
    "        \n",
    "        current=self.head\n",
    "        while current and pos > 0:\n",
    "            current = current.get_next()\n",
    "            pos-=1\n",
    "        \n",
    "        return current.get_data()\n",
    "    \n",
    "    def __contein__(self, item):\n",
    "        return self.search(item)\n",
    "\n",
    "    def __len__(self):\n",
    "        return self.size()"
   ]
  },
  {
   "cell_type": "code",
   "execution_count": 148,
   "id": "ee670e2d",
   "metadata": {},
   "outputs": [],
   "source": [
    "class StackUsingUL(object):\n",
    "    def __init__(self):\n",
    "        self.item = UnorderedList()\n",
    "    \n",
    "    def is_empty(self):\n",
    "        \"\"\"\n",
    "        Metoda sprawdzajacą, czy stos jest pusty.\n",
    "        Nie pobiera argumentów.\n",
    "        Zwraca True lub False.\n",
    "        \"\"\"\n",
    "        return self.item.is_empty()\n",
    "  \n",
    "    def push(self, item):\n",
    "        \"\"\"\n",
    "        Metoda umieszcza nowy element na stosie.\n",
    "        Pobiera element, który ma zostać umieszczony.\n",
    "        Niczego nie zwraca.\n",
    "        \"\"\"\n",
    "        self.item.append(item)\n",
    "    \n",
    "    def pop(self):\n",
    "        \"\"\"\n",
    "        Metoda ściąga element ze stosu.\n",
    "        Nie przyjmuje żadnych argumentów.\n",
    "        Zwraca ściągnięty element.\n",
    "        Jeśli stos jest pusty, rzuca wyjątkiem IndexError.\n",
    "        \"\"\"\n",
    "\n",
    "        return self.item.pop()\n",
    "\n",
    "    def peek(self):\n",
    "        \"\"\"\n",
    "        Metoda podaje wartość elementu na wierzchu stosu\n",
    "        nie ściągajac go.\n",
    "        Nie pobiera argumentów.\n",
    "        Zwraca wierzchni element stosu.\n",
    "        Jeśli stos jest pusty, rzuca wyjątkiem IndexError.\n",
    "        \"\"\"\n",
    "        return self.item[-1] if self.size()>0 else float('inf') # Zmodyfikowane, jeśli nic nie ma na kijku to jest na nim cała podstawa, która w porównaniu z krążkami jest nieskończona\n",
    "\n",
    "    def size(self):\n",
    "        \"\"\"\n",
    "        Metoda zwraca liczę elementów na stosie.\n",
    "        Nie pobiera argumentów.\n",
    "        Zwraca liczbę elementów na stosie.\n",
    "        \"\"\"\n",
    "        return self.item.size()\n",
    "    "
   ]
  },
  {
   "cell_type": "code",
   "execution_count": 208,
   "id": "385d8945",
   "metadata": {},
   "outputs": [],
   "source": [
    "from numpy import base_repr\n",
    "\n",
    "def Hanoi(n:int,sticks:tuple=(1,2),only_one:bool=False):\n",
    "    \"\"\"Algorytm krok po kroku rozwiązujący problem Wieży Hanoi\n",
    "        n - liczba krążków\n",
    "        sticks - dwuelementowa krotka z różnymi liczbami ze zbioru {1,2,3} oznaczająca z którego słupka na k\n",
    "        tóry chcemy przełożyć krążki\n",
    "        only_one - jeśli prawda to krążek można przełożyć jedynie na krążek słupek obok (nie można przykładowo A->C), ale wtedy zawsze przekłada z pierwszego na drugi kijek \"\"\"\n",
    "        \n",
    "    if type(n) is not int or type(sticks) is not tuple:\n",
    "        raise ValueError(\"Niepoprawne dane wejściowe\")\n",
    "    \n",
    "    if len(sticks)!=2 or  sticks[0] not in (1,2,3) or sticks[1] not in (1,2,3):\n",
    "        raise ValueError(\"Złe dane wejściowe\")\n",
    "    \n",
    "    if sticks[0]==sticks[1]:\n",
    "        print(\"Wieża ułożona!\")\n",
    "        return None\n",
    "    \n",
    "    if n == 0:\n",
    "        print(\"Wieża jest ułożona\")\n",
    "        return None\n",
    "    if n < 0:\n",
    "        raise ValueError(\"Liczba krążków musi być liczbą naturalną\")\n",
    "        \n",
    "    last=6//(sticks[1]*sticks[0]) # numer ostatniego krążka\n",
    "    Stick=[StackUsingUL(),StackUsingUL(),StackUsingUL()]\n",
    "    for i in range(n):\n",
    "        Stick[sticks[0]-1].push(n-i)\n",
    "    \n",
    "    if only_one:\n",
    "        d=\"\"\"if sticks[1]==2:\n",
    "            prev=n*\"0\"\n",
    "            right=True\n",
    "            for i in range(1,3**n//2+1):\n",
    "                nxt=(n-len(base_repr(i,base=3)))*\"0\"+str(base_repr(i,base=3))\n",
    "                size=1\n",
    "\n",
    "                while int(nxt[-size])-int(prev[-size])!=1:\n",
    "                    size+=1\n",
    "\n",
    "                if size==Stick[0].peek():\n",
    "                    print(\"Przenieś klocek o rozmiarze\",size,\"z palika 1 na palik 2\")\n",
    "                    Stick[1].push(Stick[0].pop())\n",
    "                    right=True\n",
    "                    #print(Stick[0].peek())\n",
    "\n",
    "                elif size==Stick[2].peek():\n",
    "                    print(\"Przenieś klocek o rozmiarze\",size,\"z palika 3 na palik 2\")\n",
    "                    Stick[1].push(Stick[2].pop())\n",
    "                    right=False\n",
    "                    #print(2)\n",
    "\n",
    "                elif right and Stick[1].peek()<Stick[2].peek():\n",
    "                    print(\"Przenieś klocek o rozmiarze\",size,\"z palika 2 na palik 3\")\n",
    "                    Stick[2].push(Stick[1].pop())\n",
    "                    #print(3)\n",
    "                elif not right and Stick[1].peek()<Stick[0].peek():\n",
    "                    print(\"Przenieś klocek o rozmiarze\",size,\"z palika 2 na palik 1\")\n",
    "                    Stick[0].push(Stick[1].pop())\n",
    "                    #print(4)\n",
    "                elif Stick[1].peek()<Stick[2].peek():\n",
    "                    print(\"Przenieś klocek o rozmiarze\",size,\"z palika 2 na palik 3\")\n",
    "                    Stick[2].push(Stick[1].pop())\n",
    "                else:\n",
    "                    print(\"Przenieś klocek o rozmiarze\",size,\"z palika 2 na palik 1\")\n",
    "                    Stick[0].push(Stick[1].pop())\n",
    "\n",
    "                prev=nxt\"\"\"\n",
    "        \n",
    "        prev=n*\"0\"\n",
    "        \n",
    "        if sticks[0]!=2:\n",
    "            start=1\n",
    "            if sticks[1]==2:\n",
    "                ends=3**n//2+1\n",
    "            else:\n",
    "                ends=3**n\n",
    "        else:\n",
    "            start=3**n//2+1\n",
    "            ends=3**n\n",
    "            right=True\n",
    "            if sticks[1]==1:\n",
    "                right=False\n",
    "\n",
    "        \n",
    "        for i in range(start,ends):\n",
    "            nxt=(n-len(base_repr(i,base=3)))*\"0\"+str(base_repr(i,base=3))\n",
    "            size=1\n",
    "\n",
    "            while int(nxt[-size])-int(prev[-size])!=1:\n",
    "                size+=1\n",
    "\n",
    "            if size==Stick[0].peek():\n",
    "                print(\"Przenieś klocek o rozmiarze\",size,\"z palika 1 na palik 2\")\n",
    "                Stick[1].push(Stick[0].pop())\n",
    "                right=True\n",
    "                #print(Stick[0].peek())\n",
    "\n",
    "            elif size==Stick[2].peek():\n",
    "                print(\"Przenieś klocek o rozmiarze\",size,\"z palika 3 na palik 2\")\n",
    "                Stick[1].push(Stick[2].pop())\n",
    "                right=False\n",
    "                #print(2)\n",
    "\n",
    "            elif right and Stick[1].peek()<Stick[2].peek():\n",
    "                print(\"Przenieś klocek o rozmiarze\",size,\"z palika 2 na palik 3\")\n",
    "                Stick[2].push(Stick[1].pop())\n",
    "                #print(3)\n",
    "            elif not right and Stick[1].peek()<Stick[0].peek():\n",
    "                print(\"Przenieś klocek o rozmiarze\",size,\"z palika 2 na palik 1\")\n",
    "                Stick[0].push(Stick[1].pop())\n",
    "                #print(4)\n",
    "            elif Stick[1].peek()<Stick[2].peek():\n",
    "                print(\"Przenieś klocek o rozmiarze\",size,\"z palika 2 na palik 3\")\n",
    "                Stick[2].push(Stick[1].pop())\n",
    "            else:\n",
    "                print(\"Przenieś klocek o rozmiarze\",size,\"z palika 2 na palik 1\")\n",
    "                Stick[0].push(Stick[1].pop())\n",
    "\n",
    "            prev=nxt\n",
    "\n",
    "        \n",
    "\n",
    "    else:\n",
    "        def hanoi(n,A,B,C,order):\n",
    "            if n>0:\n",
    "                hanoi(n-1,A,C,B,(order[0],order[2],order[1]))\n",
    "                print(\"Przenieś klocek o rozmiarze\",A.peek(),\"z palika\",order[0],\"na palik\", order[2])\n",
    "                C.push(A.pop())\n",
    "                hanoi(n-1,B,A,C,(order[1],order[0],order[2]))\n",
    "            \n",
    "        hanoi(n,Stick[sticks[0]-1],Stick[sticks[1]-1],Stick[last-1],(sticks[0],sticks[1],last))\n",
    "    print(\"Wieża ułożona!\")\n",
    "    return None"
   ]
  },
  {
   "cell_type": "code",
   "execution_count": 209,
   "id": "1604c4ba",
   "metadata": {},
   "outputs": [
    {
     "name": "stdout",
     "output_type": "stream",
     "text": [
      "Przenieś klocek o rozmiarze 1 z palika 1 na palik 2\n",
      "Przenieś klocek o rozmiarze 2 z palika 1 na palik 3\n",
      "Przenieś klocek o rozmiarze 1 z palika 2 na palik 3\n",
      "Przenieś klocek o rozmiarze 3 z palika 1 na palik 2\n",
      "Przenieś klocek o rozmiarze 1 z palika 3 na palik 1\n",
      "Przenieś klocek o rozmiarze 2 z palika 3 na palik 2\n",
      "Przenieś klocek o rozmiarze 1 z palika 1 na palik 2\n",
      "Wieża ułożona!\n"
     ]
    }
   ],
   "source": [
    "Hanoi(3,(1,3))"
   ]
  },
  {
   "cell_type": "code",
   "execution_count": 210,
   "id": "af01afdd",
   "metadata": {},
   "outputs": [
    {
     "name": "stdout",
     "output_type": "stream",
     "text": [
      "Przenieś klocek o rozmiarze 1 z palika 1 na palik 3\n",
      "Przenieś klocek o rozmiarze 2 z palika 1 na palik 2\n",
      "Przenieś klocek o rozmiarze 1 z palika 3 na palik 2\n",
      "Przenieś klocek o rozmiarze 3 z palika 1 na palik 3\n",
      "Przenieś klocek o rozmiarze 1 z palika 2 na palik 1\n",
      "Przenieś klocek o rozmiarze 2 z palika 2 na palik 3\n",
      "Przenieś klocek o rozmiarze 1 z palika 1 na palik 3\n",
      "Wieża ułożona!\n"
     ]
    }
   ],
   "source": [
    "Hanoi(3)"
   ]
  },
  {
   "cell_type": "code",
   "execution_count": 211,
   "id": "c3431218",
   "metadata": {},
   "outputs": [
    {
     "name": "stdout",
     "output_type": "stream",
     "text": [
      "Przenieś klocek o rozmiarze 1 z palika 1 na palik 2\n",
      "Przenieś klocek o rozmiarze 1 z palika 2 na palik 3\n",
      "Przenieś klocek o rozmiarze 2 z palika 1 na palik 2\n",
      "Przenieś klocek o rozmiarze 1 z palika 3 na palik 2\n",
      "Przenieś klocek o rozmiarze 1 z palika 2 na palik 1\n",
      "Przenieś klocek o rozmiarze 2 z palika 2 na palik 3\n",
      "Przenieś klocek o rozmiarze 1 z palika 1 na palik 2\n",
      "Przenieś klocek o rozmiarze 1 z palika 2 na palik 3\n",
      "Wieża ułożona!\n"
     ]
    }
   ],
   "source": [
    "Hanoi(2,(1,3),True)"
   ]
  },
  {
   "cell_type": "code",
   "execution_count": 212,
   "id": "bd3ec08a",
   "metadata": {},
   "outputs": [
    {
     "name": "stdout",
     "output_type": "stream",
     "text": [
      "Przenieś klocek o rozmiarze 1 z palika 1 na palik 2\n",
      "Przenieś klocek o rozmiarze 1 z palika 2 na palik 3\n",
      "Przenieś klocek o rozmiarze 2 z palika 1 na palik 2\n",
      "Przenieś klocek o rozmiarze 1 z palika 3 na palik 2\n",
      "Przenieś klocek o rozmiarze 1 z palika 2 na palik 1\n",
      "Przenieś klocek o rozmiarze 2 z palika 2 na palik 3\n",
      "Przenieś klocek o rozmiarze 1 z palika 1 na palik 2\n",
      "Przenieś klocek o rozmiarze 1 z palika 2 na palik 3\n",
      "Przenieś klocek o rozmiarze 3 z palika 1 na palik 2\n",
      "Przenieś klocek o rozmiarze 1 z palika 3 na palik 2\n",
      "Przenieś klocek o rozmiarze 1 z palika 2 na palik 1\n",
      "Przenieś klocek o rozmiarze 2 z palika 3 na palik 2\n",
      "Przenieś klocek o rozmiarze 1 z palika 1 na palik 2\n",
      "Wieża ułożona!\n"
     ]
    }
   ],
   "source": [
    "Hanoi(3,(1,2),True)"
   ]
  },
  {
   "cell_type": "code",
   "execution_count": 213,
   "id": "e16ce139",
   "metadata": {},
   "outputs": [
    {
     "name": "stdout",
     "output_type": "stream",
     "text": [
      "Przenieś klocek o rozmiarze 1 z palika 3 na palik 2\n",
      "Przenieś klocek o rozmiarze 1 z palika 2 na palik 1\n",
      "Przenieś klocek o rozmiarze 2 z palika 3 na palik 2\n",
      "Przenieś klocek o rozmiarze 1 z palika 1 na palik 2\n",
      "Przenieś klocek o rozmiarze 1 z palika 2 na palik 3\n",
      "Przenieś klocek o rozmiarze 2 z palika 2 na palik 1\n",
      "Przenieś klocek o rozmiarze 1 z palika 3 na palik 2\n",
      "Przenieś klocek o rozmiarze 1 z palika 2 na palik 1\n",
      "Przenieś klocek o rozmiarze 3 z palika 3 na palik 2\n",
      "Przenieś klocek o rozmiarze 1 z palika 1 na palik 2\n",
      "Przenieś klocek o rozmiarze 1 z palika 2 na palik 3\n",
      "Przenieś klocek o rozmiarze 2 z palika 1 na palik 2\n",
      "Przenieś klocek o rozmiarze 1 z palika 3 na palik 2\n",
      "Wieża ułożona!\n"
     ]
    }
   ],
   "source": [
    "Hanoi(3,(3,2),True)"
   ]
  },
  {
   "cell_type": "code",
   "execution_count": 214,
   "id": "1c6cc25f",
   "metadata": {},
   "outputs": [
    {
     "name": "stdout",
     "output_type": "stream",
     "text": [
      "Przenieś klocek o rozmiarze 2 z palika 2 na palik 3\n",
      "Przenieś klocek o rozmiarze 2 z palika 2 na palik 1\n",
      "Przenieś klocek o rozmiarze 1 z palika 3 na palik 2\n",
      "Przenieś klocek o rozmiarze 1 z palika 2 na palik 1\n",
      "Przenieś klocek o rozmiarze 3 z palika 2 na palik 3\n",
      "Przenieś klocek o rozmiarze 1 z palika 1 na palik 2\n",
      "Przenieś klocek o rozmiarze 1 z palika 2 na palik 3\n",
      "Przenieś klocek o rozmiarze 2 z palika 1 na palik 2\n",
      "Przenieś klocek o rozmiarze 1 z palika 3 na palik 2\n",
      "Przenieś klocek o rozmiarze 1 z palika 2 na palik 1\n",
      "Przenieś klocek o rozmiarze 2 z palika 2 na palik 3\n",
      "Przenieś klocek o rozmiarze 1 z palika 1 na palik 2\n",
      "Przenieś klocek o rozmiarze 1 z palika 2 na palik 3\n",
      "Wieża ułożona!\n"
     ]
    }
   ],
   "source": [
    "Hanoi(3,(2,3),True)"
   ]
  },
  {
   "cell_type": "code",
   "execution_count": null,
   "id": "4ec860c8",
   "metadata": {},
   "outputs": [],
   "source": []
  },
  {
   "cell_type": "code",
   "execution_count": null,
   "id": "a7a8d18e",
   "metadata": {},
   "outputs": [],
   "source": []
  },
  {
   "cell_type": "code",
   "execution_count": null,
   "id": "9dd9efa9",
   "metadata": {},
   "outputs": [],
   "source": []
  },
  {
   "cell_type": "code",
   "execution_count": 190,
   "id": "bc4f7618",
   "metadata": {},
   "outputs": [],
   "source": [
    "aaA.peek()"
   ]
  },
  {
   "cell_type": "code",
   "execution_count": 188,
   "id": "2190a1d8",
   "metadata": {},
   "outputs": [],
   "source": [
    "A=StackUsingUL()"
   ]
  },
  {
   "cell_type": "code",
   "execution_count": 2,
   "id": "207c5be9",
   "metadata": {},
   "outputs": [
    {
     "ename": "ValueError",
     "evalue": "invalid literal for int() with base 2: '12'",
     "output_type": "error",
     "traceback": [
      "\u001b[1;31m---------------------------------------------------------------------------\u001b[0m",
      "\u001b[1;31mValueError\u001b[0m                                Traceback (most recent call last)",
      "\u001b[1;32m<ipython-input-2-61472a26402e>\u001b[0m in \u001b[0;36m<module>\u001b[1;34m\u001b[0m\n\u001b[1;32m----> 1\u001b[1;33m \u001b[0mint\u001b[0m\u001b[1;33m(\u001b[0m\u001b[1;34m\"12\"\u001b[0m\u001b[1;33m,\u001b[0m\u001b[1;36m2\u001b[0m\u001b[1;33m)\u001b[0m\u001b[1;33m\u001b[0m\u001b[1;33m\u001b[0m\u001b[0m\n\u001b[0m",
      "\u001b[1;31mValueError\u001b[0m: invalid literal for int() with base 2: '12'"
     ]
    }
   ],
   "source": [
    "int(\"12\",2)"
   ]
  },
  {
   "cell_type": "code",
   "execution_count": 172,
   "id": "690e8111",
   "metadata": {},
   "outputs": [
    {
     "name": "stdout",
     "output_type": "stream",
     "text": [
      "Help on class int in module builtins:\n",
      "\n",
      "class int(object)\n",
      " |  int([x]) -> integer\n",
      " |  int(x, base=10) -> integer\n",
      " |  \n",
      " |  Convert a number or string to an integer, or return 0 if no arguments\n",
      " |  are given.  If x is a number, return x.__int__().  For floating point\n",
      " |  numbers, this truncates towards zero.\n",
      " |  \n",
      " |  If x is not a number or if base is given, then x must be a string,\n",
      " |  bytes, or bytearray instance representing an integer literal in the\n",
      " |  given base.  The literal can be preceded by '+' or '-' and be surrounded\n",
      " |  by whitespace.  The base defaults to 10.  Valid bases are 0 and 2-36.\n",
      " |  Base 0 means to interpret the base from the string as an integer literal.\n",
      " |  >>> int('0b100', base=0)\n",
      " |  4\n",
      " |  \n",
      " |  Built-in subclasses:\n",
      " |      bool\n",
      " |  \n",
      " |  Methods defined here:\n",
      " |  \n",
      " |  __abs__(self, /)\n",
      " |      abs(self)\n",
      " |  \n",
      " |  __add__(self, value, /)\n",
      " |      Return self+value.\n",
      " |  \n",
      " |  __and__(self, value, /)\n",
      " |      Return self&value.\n",
      " |  \n",
      " |  __bool__(self, /)\n",
      " |      self != 0\n",
      " |  \n",
      " |  __ceil__(...)\n",
      " |      Ceiling of an Integral returns itself.\n",
      " |  \n",
      " |  __divmod__(self, value, /)\n",
      " |      Return divmod(self, value).\n",
      " |  \n",
      " |  __eq__(self, value, /)\n",
      " |      Return self==value.\n",
      " |  \n",
      " |  __float__(self, /)\n",
      " |      float(self)\n",
      " |  \n",
      " |  __floor__(...)\n",
      " |      Flooring an Integral returns itself.\n",
      " |  \n",
      " |  __floordiv__(self, value, /)\n",
      " |      Return self//value.\n",
      " |  \n",
      " |  __format__(self, format_spec, /)\n",
      " |      Default object formatter.\n",
      " |  \n",
      " |  __ge__(self, value, /)\n",
      " |      Return self>=value.\n",
      " |  \n",
      " |  __getattribute__(self, name, /)\n",
      " |      Return getattr(self, name).\n",
      " |  \n",
      " |  __getnewargs__(self, /)\n",
      " |  \n",
      " |  __gt__(self, value, /)\n",
      " |      Return self>value.\n",
      " |  \n",
      " |  __hash__(self, /)\n",
      " |      Return hash(self).\n",
      " |  \n",
      " |  __index__(self, /)\n",
      " |      Return self converted to an integer, if self is suitable for use as an index into a list.\n",
      " |  \n",
      " |  __int__(self, /)\n",
      " |      int(self)\n",
      " |  \n",
      " |  __invert__(self, /)\n",
      " |      ~self\n",
      " |  \n",
      " |  __le__(self, value, /)\n",
      " |      Return self<=value.\n",
      " |  \n",
      " |  __lshift__(self, value, /)\n",
      " |      Return self<<value.\n",
      " |  \n",
      " |  __lt__(self, value, /)\n",
      " |      Return self<value.\n",
      " |  \n",
      " |  __mod__(self, value, /)\n",
      " |      Return self%value.\n",
      " |  \n",
      " |  __mul__(self, value, /)\n",
      " |      Return self*value.\n",
      " |  \n",
      " |  __ne__(self, value, /)\n",
      " |      Return self!=value.\n",
      " |  \n",
      " |  __neg__(self, /)\n",
      " |      -self\n",
      " |  \n",
      " |  __or__(self, value, /)\n",
      " |      Return self|value.\n",
      " |  \n",
      " |  __pos__(self, /)\n",
      " |      +self\n",
      " |  \n",
      " |  __pow__(self, value, mod=None, /)\n",
      " |      Return pow(self, value, mod).\n",
      " |  \n",
      " |  __radd__(self, value, /)\n",
      " |      Return value+self.\n",
      " |  \n",
      " |  __rand__(self, value, /)\n",
      " |      Return value&self.\n",
      " |  \n",
      " |  __rdivmod__(self, value, /)\n",
      " |      Return divmod(value, self).\n",
      " |  \n",
      " |  __repr__(self, /)\n",
      " |      Return repr(self).\n",
      " |  \n",
      " |  __rfloordiv__(self, value, /)\n",
      " |      Return value//self.\n",
      " |  \n",
      " |  __rlshift__(self, value, /)\n",
      " |      Return value<<self.\n",
      " |  \n",
      " |  __rmod__(self, value, /)\n",
      " |      Return value%self.\n",
      " |  \n",
      " |  __rmul__(self, value, /)\n",
      " |      Return value*self.\n",
      " |  \n",
      " |  __ror__(self, value, /)\n",
      " |      Return value|self.\n",
      " |  \n",
      " |  __round__(...)\n",
      " |      Rounding an Integral returns itself.\n",
      " |      Rounding with an ndigits argument also returns an integer.\n",
      " |  \n",
      " |  __rpow__(self, value, mod=None, /)\n",
      " |      Return pow(value, self, mod).\n",
      " |  \n",
      " |  __rrshift__(self, value, /)\n",
      " |      Return value>>self.\n",
      " |  \n",
      " |  __rshift__(self, value, /)\n",
      " |      Return self>>value.\n",
      " |  \n",
      " |  __rsub__(self, value, /)\n",
      " |      Return value-self.\n",
      " |  \n",
      " |  __rtruediv__(self, value, /)\n",
      " |      Return value/self.\n",
      " |  \n",
      " |  __rxor__(self, value, /)\n",
      " |      Return value^self.\n",
      " |  \n",
      " |  __sizeof__(self, /)\n",
      " |      Returns size in memory, in bytes.\n",
      " |  \n",
      " |  __sub__(self, value, /)\n",
      " |      Return self-value.\n",
      " |  \n",
      " |  __truediv__(self, value, /)\n",
      " |      Return self/value.\n",
      " |  \n",
      " |  __trunc__(...)\n",
      " |      Truncating an Integral returns itself.\n",
      " |  \n",
      " |  __xor__(self, value, /)\n",
      " |      Return self^value.\n",
      " |  \n",
      " |  as_integer_ratio(self, /)\n",
      " |      Return integer ratio.\n",
      " |      \n",
      " |      Return a pair of integers, whose ratio is exactly equal to the original int\n",
      " |      and with a positive denominator.\n",
      " |      \n",
      " |      >>> (10).as_integer_ratio()\n",
      " |      (10, 1)\n",
      " |      >>> (-10).as_integer_ratio()\n",
      " |      (-10, 1)\n",
      " |      >>> (0).as_integer_ratio()\n",
      " |      (0, 1)\n",
      " |  \n",
      " |  bit_length(self, /)\n",
      " |      Number of bits necessary to represent self in binary.\n",
      " |      \n",
      " |      >>> bin(37)\n",
      " |      '0b100101'\n",
      " |      >>> (37).bit_length()\n",
      " |      6\n",
      " |  \n",
      " |  conjugate(...)\n",
      " |      Returns self, the complex conjugate of any int.\n",
      " |  \n",
      " |  to_bytes(self, /, length, byteorder, *, signed=False)\n",
      " |      Return an array of bytes representing an integer.\n",
      " |      \n",
      " |      length\n",
      " |        Length of bytes object to use.  An OverflowError is raised if the\n",
      " |        integer is not representable with the given number of bytes.\n",
      " |      byteorder\n",
      " |        The byte order used to represent the integer.  If byteorder is 'big',\n",
      " |        the most significant byte is at the beginning of the byte array.  If\n",
      " |        byteorder is 'little', the most significant byte is at the end of the\n",
      " |        byte array.  To request the native byte order of the host system, use\n",
      " |        `sys.byteorder' as the byte order value.\n",
      " |      signed\n",
      " |        Determines whether two's complement is used to represent the integer.\n",
      " |        If signed is False and a negative integer is given, an OverflowError\n",
      " |        is raised.\n",
      " |  \n",
      " |  ----------------------------------------------------------------------\n",
      " |  Class methods defined here:\n",
      " |  \n",
      " |  from_bytes(bytes, byteorder, *, signed=False) from builtins.type\n",
      " |      Return the integer represented by the given array of bytes.\n",
      " |      \n",
      " |      bytes\n",
      " |        Holds the array of bytes to convert.  The argument must either\n",
      " |        support the buffer protocol or be an iterable object producing bytes.\n",
      " |        Bytes and bytearray are examples of built-in objects that support the\n",
      " |        buffer protocol.\n",
      " |      byteorder\n",
      " |        The byte order used to represent the integer.  If byteorder is 'big',\n",
      " |        the most significant byte is at the beginning of the byte array.  If\n",
      " |        byteorder is 'little', the most significant byte is at the end of the\n",
      " |        byte array.  To request the native byte order of the host system, use\n",
      " |        `sys.byteorder' as the byte order value.\n",
      " |      signed\n",
      " |        Indicates whether two's complement is used to represent the integer.\n",
      " |  \n",
      " |  ----------------------------------------------------------------------\n",
      " |  Static methods defined here:\n",
      " |  \n",
      " |  __new__(*args, **kwargs) from builtins.type\n",
      " |      Create and return a new object.  See help(type) for accurate signature.\n",
      " |  \n",
      " |  ----------------------------------------------------------------------\n",
      " |  Data descriptors defined here:\n",
      " |  \n",
      " |  denominator\n",
      " |      the denominator of a rational number in lowest terms\n",
      " |  \n",
      " |  imag\n",
      " |      the imaginary part of a complex number\n",
      " |  \n",
      " |  numerator\n",
      " |      the numerator of a rational number in lowest terms\n",
      " |  \n",
      " |  real\n",
      " |      the real part of a complex number\n",
      "\n"
     ]
    }
   ],
   "source": [
    "help(int)"
   ]
  },
  {
   "cell_type": "code",
   "execution_count": 185,
   "id": "007c68cd",
   "metadata": {},
   "outputs": [
    {
     "name": "stdout",
     "output_type": "stream",
     "text": [
      "00000\n",
      "00001\n",
      "00002\n",
      "00010\n",
      "00011\n",
      "00012\n",
      "00020\n",
      "00021\n",
      "00022\n",
      "00100\n",
      "00101\n",
      "00102\n",
      "00110\n",
      "00111\n",
      "00112\n",
      "00120\n",
      "00121\n",
      "00122\n",
      "00200\n",
      "00201\n",
      "00202\n",
      "00210\n",
      "00211\n",
      "00212\n",
      "00220\n",
      "00221\n",
      "00222\n",
      "01000\n",
      "01001\n",
      "01002\n",
      "01010\n",
      "01011\n",
      "01012\n",
      "01020\n",
      "01021\n",
      "01022\n",
      "01100\n",
      "01101\n",
      "01102\n",
      "01110\n",
      "01111\n",
      "01112\n",
      "01120\n",
      "01121\n",
      "01122\n",
      "01200\n",
      "01201\n",
      "01202\n",
      "01210\n",
      "01211\n",
      "01212\n",
      "01220\n",
      "01221\n",
      "01222\n",
      "02000\n",
      "02001\n",
      "02002\n",
      "02010\n",
      "02011\n",
      "02012\n",
      "02020\n",
      "02021\n",
      "02022\n",
      "02100\n",
      "02101\n",
      "02102\n",
      "02110\n",
      "02111\n",
      "02112\n",
      "02120\n",
      "02121\n",
      "02122\n",
      "02200\n",
      "02201\n",
      "02202\n",
      "02210\n",
      "02211\n",
      "02212\n",
      "02220\n",
      "02221\n",
      "02222\n",
      "10000\n",
      "10001\n",
      "10002\n",
      "10010\n",
      "10011\n",
      "10012\n",
      "10020\n",
      "10021\n",
      "10022\n",
      "10100\n",
      "10101\n",
      "10102\n",
      "10110\n",
      "10111\n",
      "10112\n",
      "10120\n",
      "10121\n",
      "10122\n",
      "10200\n",
      "10201\n"
     ]
    }
   ],
   "source": [
    "\n",
    "\n",
    "for i in range(101):\n",
    "    print((5-len(np.base_repr(i,base=3)))*\"0\"+str(np.base_repr(i,base=3)))"
   ]
  },
  {
   "cell_type": "code",
   "execution_count": 186,
   "id": "1d4a1e43",
   "metadata": {},
   "outputs": [
    {
     "ename": "TypeError",
     "evalue": "'>' not supported between instances of 'int' and 'NoneType'",
     "output_type": "error",
     "traceback": [
      "\u001b[1;31m---------------------------------------------------------------------------\u001b[0m",
      "\u001b[1;31mTypeError\u001b[0m                                 Traceback (most recent call last)",
      "\u001b[1;32m<ipython-input-186-07015b47766f>\u001b[0m in \u001b[0;36m<module>\u001b[1;34m\u001b[0m\n\u001b[1;32m----> 1\u001b[1;33m \u001b[1;36m3\u001b[0m\u001b[1;33m>\u001b[0m\u001b[1;32mNone\u001b[0m\u001b[1;33m\u001b[0m\u001b[1;33m\u001b[0m\u001b[0m\n\u001b[0m",
      "\u001b[1;31mTypeError\u001b[0m: '>' not supported between instances of 'int' and 'NoneType'"
     ]
    }
   ],
   "source": []
  },
  {
   "cell_type": "markdown",
   "id": "3005a165",
   "metadata": {},
   "source": []
  },
  {
   "cell_type": "code",
   "execution_count": null,
   "id": "a0c2d721",
   "metadata": {},
   "outputs": [],
   "source": []
  },
  {
   "cell_type": "code",
   "execution_count": null,
   "id": "39831a38",
   "metadata": {},
   "outputs": [],
   "source": []
  },
  {
   "cell_type": "markdown",
   "id": "7c82809f",
   "metadata": {},
   "source": [
    "# Zadanie 3 i 4"
   ]
  },
  {
   "cell_type": "code",
   "execution_count": 3,
   "id": "5db5b7e0",
   "metadata": {},
   "outputs": [],
   "source": [
    "import turtle as tr"
   ]
  },
  {
   "cell_type": "code",
   "execution_count": null,
   "id": "dc6438be",
   "metadata": {},
   "outputs": [],
   "source": [
    "def Hilbert(n):\n",
    "    "
   ]
  },
  {
   "cell_type": "code",
   "execution_count": 2,
   "id": "3721d17d",
   "metadata": {},
   "outputs": [],
   "source": [
    "def hilbert(level, angle, step):\n",
    "  \n",
    "    # Input Parameters are numeric\n",
    "    # Return Value: None\n",
    "    if level == 0:\n",
    "        return\n",
    "  \n",
    "    tr.right(angle)\n",
    "    hilbert(level-1, -angle, step)\n",
    "  \n",
    "    tr.forward(step)\n",
    "    tr.left(angle)\n",
    "    hilbert(level-1, angle, step)\n",
    "  \n",
    "    tr.forward(step)\n",
    "    hilbert(level-1, angle, step)\n",
    "  \n",
    "    tr.left(angle)\n",
    "    tr.forward(step)\n",
    "    hilbert(level-1, -angle, step)\n",
    "    tr.right(angle)"
   ]
  },
  {
   "cell_type": "code",
   "execution_count": 10,
   "id": "181a7af1",
   "metadata": {},
   "outputs": [],
   "source": [
    "level=3"
   ]
  },
  {
   "cell_type": "code",
   "execution_count": 11,
   "id": "47691dca",
   "metadata": {},
   "outputs": [],
   "source": [
    "size=200"
   ]
  },
  {
   "cell_type": "code",
   "execution_count": 12,
   "id": "f2d6bbcf",
   "metadata": {},
   "outputs": [],
   "source": [
    "tr.penup()"
   ]
  },
  {
   "cell_type": "code",
   "execution_count": 13,
   "id": "98aa6d62",
   "metadata": {},
   "outputs": [],
   "source": [
    "tr.goto(-size/2, size/2)"
   ]
  },
  {
   "cell_type": "code",
   "execution_count": 14,
   "id": "1ca9ad0c",
   "metadata": {},
   "outputs": [],
   "source": [
    "tr.pendown()"
   ]
  },
  {
   "cell_type": "code",
   "execution_count": 15,
   "id": "24778a11",
   "metadata": {},
   "outputs": [
    {
     "ename": "Terminator",
     "evalue": "",
     "output_type": "error",
     "traceback": [
      "\u001b[1;31m---------------------------------------------------------------------------\u001b[0m",
      "\u001b[1;31mTerminator\u001b[0m                                Traceback (most recent call last)",
      "\u001b[1;32m<ipython-input-15-f61a133b86c2>\u001b[0m in \u001b[0;36m<module>\u001b[1;34m\u001b[0m\n\u001b[1;32m----> 1\u001b[1;33m \u001b[0mhilbert\u001b[0m\u001b[1;33m(\u001b[0m\u001b[1;36m5\u001b[0m\u001b[1;33m,\u001b[0m\u001b[1;36m90\u001b[0m\u001b[1;33m,\u001b[0m\u001b[0msize\u001b[0m\u001b[1;33m/\u001b[0m\u001b[1;36m16\u001b[0m\u001b[1;33m)\u001b[0m\u001b[1;33m\u001b[0m\u001b[1;33m\u001b[0m\u001b[0m\n\u001b[0m",
      "\u001b[1;32m<ipython-input-2-a771c7f51f58>\u001b[0m in \u001b[0;36mhilbert\u001b[1;34m(level, angle, step)\u001b[0m\n\u001b[0;32m      7\u001b[0m \u001b[1;33m\u001b[0m\u001b[0m\n\u001b[0;32m      8\u001b[0m     \u001b[0mtr\u001b[0m\u001b[1;33m.\u001b[0m\u001b[0mright\u001b[0m\u001b[1;33m(\u001b[0m\u001b[0mangle\u001b[0m\u001b[1;33m)\u001b[0m\u001b[1;33m\u001b[0m\u001b[1;33m\u001b[0m\u001b[0m\n\u001b[1;32m----> 9\u001b[1;33m     \u001b[0mhilbert\u001b[0m\u001b[1;33m(\u001b[0m\u001b[0mlevel\u001b[0m\u001b[1;33m-\u001b[0m\u001b[1;36m1\u001b[0m\u001b[1;33m,\u001b[0m \u001b[1;33m-\u001b[0m\u001b[0mangle\u001b[0m\u001b[1;33m,\u001b[0m \u001b[0mstep\u001b[0m\u001b[1;33m)\u001b[0m\u001b[1;33m\u001b[0m\u001b[1;33m\u001b[0m\u001b[0m\n\u001b[0m\u001b[0;32m     10\u001b[0m \u001b[1;33m\u001b[0m\u001b[0m\n\u001b[0;32m     11\u001b[0m     \u001b[0mtr\u001b[0m\u001b[1;33m.\u001b[0m\u001b[0mforward\u001b[0m\u001b[1;33m(\u001b[0m\u001b[0mstep\u001b[0m\u001b[1;33m)\u001b[0m\u001b[1;33m\u001b[0m\u001b[1;33m\u001b[0m\u001b[0m\n",
      "\u001b[1;32m<ipython-input-2-a771c7f51f58>\u001b[0m in \u001b[0;36mhilbert\u001b[1;34m(level, angle, step)\u001b[0m\n\u001b[0;32m     11\u001b[0m     \u001b[0mtr\u001b[0m\u001b[1;33m.\u001b[0m\u001b[0mforward\u001b[0m\u001b[1;33m(\u001b[0m\u001b[0mstep\u001b[0m\u001b[1;33m)\u001b[0m\u001b[1;33m\u001b[0m\u001b[1;33m\u001b[0m\u001b[0m\n\u001b[0;32m     12\u001b[0m     \u001b[0mtr\u001b[0m\u001b[1;33m.\u001b[0m\u001b[0mleft\u001b[0m\u001b[1;33m(\u001b[0m\u001b[0mangle\u001b[0m\u001b[1;33m)\u001b[0m\u001b[1;33m\u001b[0m\u001b[1;33m\u001b[0m\u001b[0m\n\u001b[1;32m---> 13\u001b[1;33m     \u001b[0mhilbert\u001b[0m\u001b[1;33m(\u001b[0m\u001b[0mlevel\u001b[0m\u001b[1;33m-\u001b[0m\u001b[1;36m1\u001b[0m\u001b[1;33m,\u001b[0m \u001b[0mangle\u001b[0m\u001b[1;33m,\u001b[0m \u001b[0mstep\u001b[0m\u001b[1;33m)\u001b[0m\u001b[1;33m\u001b[0m\u001b[1;33m\u001b[0m\u001b[0m\n\u001b[0m\u001b[0;32m     14\u001b[0m \u001b[1;33m\u001b[0m\u001b[0m\n\u001b[0;32m     15\u001b[0m     \u001b[0mtr\u001b[0m\u001b[1;33m.\u001b[0m\u001b[0mforward\u001b[0m\u001b[1;33m(\u001b[0m\u001b[0mstep\u001b[0m\u001b[1;33m)\u001b[0m\u001b[1;33m\u001b[0m\u001b[1;33m\u001b[0m\u001b[0m\n",
      "\u001b[1;32m<ipython-input-2-a771c7f51f58>\u001b[0m in \u001b[0;36mhilbert\u001b[1;34m(level, angle, step)\u001b[0m\n\u001b[0;32m     11\u001b[0m     \u001b[0mtr\u001b[0m\u001b[1;33m.\u001b[0m\u001b[0mforward\u001b[0m\u001b[1;33m(\u001b[0m\u001b[0mstep\u001b[0m\u001b[1;33m)\u001b[0m\u001b[1;33m\u001b[0m\u001b[1;33m\u001b[0m\u001b[0m\n\u001b[0;32m     12\u001b[0m     \u001b[0mtr\u001b[0m\u001b[1;33m.\u001b[0m\u001b[0mleft\u001b[0m\u001b[1;33m(\u001b[0m\u001b[0mangle\u001b[0m\u001b[1;33m)\u001b[0m\u001b[1;33m\u001b[0m\u001b[1;33m\u001b[0m\u001b[0m\n\u001b[1;32m---> 13\u001b[1;33m     \u001b[0mhilbert\u001b[0m\u001b[1;33m(\u001b[0m\u001b[0mlevel\u001b[0m\u001b[1;33m-\u001b[0m\u001b[1;36m1\u001b[0m\u001b[1;33m,\u001b[0m \u001b[0mangle\u001b[0m\u001b[1;33m,\u001b[0m \u001b[0mstep\u001b[0m\u001b[1;33m)\u001b[0m\u001b[1;33m\u001b[0m\u001b[1;33m\u001b[0m\u001b[0m\n\u001b[0m\u001b[0;32m     14\u001b[0m \u001b[1;33m\u001b[0m\u001b[0m\n\u001b[0;32m     15\u001b[0m     \u001b[0mtr\u001b[0m\u001b[1;33m.\u001b[0m\u001b[0mforward\u001b[0m\u001b[1;33m(\u001b[0m\u001b[0mstep\u001b[0m\u001b[1;33m)\u001b[0m\u001b[1;33m\u001b[0m\u001b[1;33m\u001b[0m\u001b[0m\n",
      "\u001b[1;32m<ipython-input-2-a771c7f51f58>\u001b[0m in \u001b[0;36mhilbert\u001b[1;34m(level, angle, step)\u001b[0m\n\u001b[0;32m     14\u001b[0m \u001b[1;33m\u001b[0m\u001b[0m\n\u001b[0;32m     15\u001b[0m     \u001b[0mtr\u001b[0m\u001b[1;33m.\u001b[0m\u001b[0mforward\u001b[0m\u001b[1;33m(\u001b[0m\u001b[0mstep\u001b[0m\u001b[1;33m)\u001b[0m\u001b[1;33m\u001b[0m\u001b[1;33m\u001b[0m\u001b[0m\n\u001b[1;32m---> 16\u001b[1;33m     \u001b[0mhilbert\u001b[0m\u001b[1;33m(\u001b[0m\u001b[0mlevel\u001b[0m\u001b[1;33m-\u001b[0m\u001b[1;36m1\u001b[0m\u001b[1;33m,\u001b[0m \u001b[0mangle\u001b[0m\u001b[1;33m,\u001b[0m \u001b[0mstep\u001b[0m\u001b[1;33m)\u001b[0m\u001b[1;33m\u001b[0m\u001b[1;33m\u001b[0m\u001b[0m\n\u001b[0m\u001b[0;32m     17\u001b[0m \u001b[1;33m\u001b[0m\u001b[0m\n\u001b[0;32m     18\u001b[0m     \u001b[0mtr\u001b[0m\u001b[1;33m.\u001b[0m\u001b[0mleft\u001b[0m\u001b[1;33m(\u001b[0m\u001b[0mangle\u001b[0m\u001b[1;33m)\u001b[0m\u001b[1;33m\u001b[0m\u001b[1;33m\u001b[0m\u001b[0m\n",
      "\u001b[1;32m<ipython-input-2-a771c7f51f58>\u001b[0m in \u001b[0;36mhilbert\u001b[1;34m(level, angle, step)\u001b[0m\n\u001b[0;32m     16\u001b[0m     \u001b[0mhilbert\u001b[0m\u001b[1;33m(\u001b[0m\u001b[0mlevel\u001b[0m\u001b[1;33m-\u001b[0m\u001b[1;36m1\u001b[0m\u001b[1;33m,\u001b[0m \u001b[0mangle\u001b[0m\u001b[1;33m,\u001b[0m \u001b[0mstep\u001b[0m\u001b[1;33m)\u001b[0m\u001b[1;33m\u001b[0m\u001b[1;33m\u001b[0m\u001b[0m\n\u001b[0;32m     17\u001b[0m \u001b[1;33m\u001b[0m\u001b[0m\n\u001b[1;32m---> 18\u001b[1;33m     \u001b[0mtr\u001b[0m\u001b[1;33m.\u001b[0m\u001b[0mleft\u001b[0m\u001b[1;33m(\u001b[0m\u001b[0mangle\u001b[0m\u001b[1;33m)\u001b[0m\u001b[1;33m\u001b[0m\u001b[1;33m\u001b[0m\u001b[0m\n\u001b[0m\u001b[0;32m     19\u001b[0m     \u001b[0mtr\u001b[0m\u001b[1;33m.\u001b[0m\u001b[0mforward\u001b[0m\u001b[1;33m(\u001b[0m\u001b[0mstep\u001b[0m\u001b[1;33m)\u001b[0m\u001b[1;33m\u001b[0m\u001b[1;33m\u001b[0m\u001b[0m\n\u001b[0;32m     20\u001b[0m     \u001b[0mhilbert\u001b[0m\u001b[1;33m(\u001b[0m\u001b[0mlevel\u001b[0m\u001b[1;33m-\u001b[0m\u001b[1;36m1\u001b[0m\u001b[1;33m,\u001b[0m \u001b[1;33m-\u001b[0m\u001b[0mangle\u001b[0m\u001b[1;33m,\u001b[0m \u001b[0mstep\u001b[0m\u001b[1;33m)\u001b[0m\u001b[1;33m\u001b[0m\u001b[1;33m\u001b[0m\u001b[0m\n",
      "\u001b[1;32mc:\\users\\kacper\\appdata\\local\\programs\\python\\python39\\lib\\turtle.py\u001b[0m in \u001b[0;36mleft\u001b[1;34m(angle)\u001b[0m\n",
      "\u001b[1;32mc:\\users\\kacper\\appdata\\local\\programs\\python\\python39\\lib\\turtle.py\u001b[0m in \u001b[0;36mleft\u001b[1;34m(self, angle)\u001b[0m\n\u001b[0;32m   1698\u001b[0m         \u001b[1;36m67.0\u001b[0m\u001b[1;33m\u001b[0m\u001b[1;33m\u001b[0m\u001b[0m\n\u001b[0;32m   1699\u001b[0m         \"\"\"\n\u001b[1;32m-> 1700\u001b[1;33m         \u001b[0mself\u001b[0m\u001b[1;33m.\u001b[0m\u001b[0m_rotate\u001b[0m\u001b[1;33m(\u001b[0m\u001b[0mangle\u001b[0m\u001b[1;33m)\u001b[0m\u001b[1;33m\u001b[0m\u001b[1;33m\u001b[0m\u001b[0m\n\u001b[0m\u001b[0;32m   1701\u001b[0m \u001b[1;33m\u001b[0m\u001b[0m\n\u001b[0;32m   1702\u001b[0m     \u001b[1;32mdef\u001b[0m \u001b[0mpos\u001b[0m\u001b[1;33m(\u001b[0m\u001b[0mself\u001b[0m\u001b[1;33m)\u001b[0m\u001b[1;33m:\u001b[0m\u001b[1;33m\u001b[0m\u001b[1;33m\u001b[0m\u001b[0m\n",
      "\u001b[1;32mc:\\users\\kacper\\appdata\\local\\programs\\python\\python39\\lib\\turtle.py\u001b[0m in \u001b[0;36m_rotate\u001b[1;34m(self, angle)\u001b[0m\n\u001b[0;32m   3275\u001b[0m             \u001b[1;32mfor\u001b[0m \u001b[0m_\u001b[0m \u001b[1;32min\u001b[0m \u001b[0mrange\u001b[0m\u001b[1;33m(\u001b[0m\u001b[0msteps\u001b[0m\u001b[1;33m)\u001b[0m\u001b[1;33m:\u001b[0m\u001b[1;33m\u001b[0m\u001b[1;33m\u001b[0m\u001b[0m\n\u001b[0;32m   3276\u001b[0m                 \u001b[0mself\u001b[0m\u001b[1;33m.\u001b[0m\u001b[0m_orient\u001b[0m \u001b[1;33m=\u001b[0m \u001b[0mself\u001b[0m\u001b[1;33m.\u001b[0m\u001b[0m_orient\u001b[0m\u001b[1;33m.\u001b[0m\u001b[0mrotate\u001b[0m\u001b[1;33m(\u001b[0m\u001b[0mdelta\u001b[0m\u001b[1;33m)\u001b[0m\u001b[1;33m\u001b[0m\u001b[1;33m\u001b[0m\u001b[0m\n\u001b[1;32m-> 3277\u001b[1;33m                 \u001b[0mself\u001b[0m\u001b[1;33m.\u001b[0m\u001b[0m_update\u001b[0m\u001b[1;33m(\u001b[0m\u001b[1;33m)\u001b[0m\u001b[1;33m\u001b[0m\u001b[1;33m\u001b[0m\u001b[0m\n\u001b[0m\u001b[0;32m   3278\u001b[0m         \u001b[0mself\u001b[0m\u001b[1;33m.\u001b[0m\u001b[0m_orient\u001b[0m \u001b[1;33m=\u001b[0m \u001b[0mneworient\u001b[0m\u001b[1;33m\u001b[0m\u001b[1;33m\u001b[0m\u001b[0m\n\u001b[0;32m   3279\u001b[0m         \u001b[0mself\u001b[0m\u001b[1;33m.\u001b[0m\u001b[0m_update\u001b[0m\u001b[1;33m(\u001b[0m\u001b[1;33m)\u001b[0m\u001b[1;33m\u001b[0m\u001b[1;33m\u001b[0m\u001b[0m\n",
      "\u001b[1;32mc:\\users\\kacper\\appdata\\local\\programs\\python\\python39\\lib\\turtle.py\u001b[0m in \u001b[0;36m_update\u001b[1;34m(self)\u001b[0m\n\u001b[0;32m   2659\u001b[0m             \u001b[1;32mreturn\u001b[0m\u001b[1;33m\u001b[0m\u001b[1;33m\u001b[0m\u001b[0m\n\u001b[0;32m   2660\u001b[0m         \u001b[1;32melif\u001b[0m \u001b[0mscreen\u001b[0m\u001b[1;33m.\u001b[0m\u001b[0m_tracing\u001b[0m \u001b[1;33m==\u001b[0m \u001b[1;36m1\u001b[0m\u001b[1;33m:\u001b[0m\u001b[1;33m\u001b[0m\u001b[1;33m\u001b[0m\u001b[0m\n\u001b[1;32m-> 2661\u001b[1;33m             \u001b[0mself\u001b[0m\u001b[1;33m.\u001b[0m\u001b[0m_update_data\u001b[0m\u001b[1;33m(\u001b[0m\u001b[1;33m)\u001b[0m\u001b[1;33m\u001b[0m\u001b[1;33m\u001b[0m\u001b[0m\n\u001b[0m\u001b[0;32m   2662\u001b[0m             \u001b[0mself\u001b[0m\u001b[1;33m.\u001b[0m\u001b[0m_drawturtle\u001b[0m\u001b[1;33m(\u001b[0m\u001b[1;33m)\u001b[0m\u001b[1;33m\u001b[0m\u001b[1;33m\u001b[0m\u001b[0m\n\u001b[0;32m   2663\u001b[0m             \u001b[0mscreen\u001b[0m\u001b[1;33m.\u001b[0m\u001b[0m_update\u001b[0m\u001b[1;33m(\u001b[0m\u001b[1;33m)\u001b[0m                  \u001b[1;31m# TurtleScreenBase\u001b[0m\u001b[1;33m\u001b[0m\u001b[1;33m\u001b[0m\u001b[0m\n",
      "\u001b[1;32mc:\\users\\kacper\\appdata\\local\\programs\\python\\python39\\lib\\turtle.py\u001b[0m in \u001b[0;36m_update_data\u001b[1;34m(self)\u001b[0m\n\u001b[0;32m   2645\u001b[0m \u001b[1;33m\u001b[0m\u001b[0m\n\u001b[0;32m   2646\u001b[0m     \u001b[1;32mdef\u001b[0m \u001b[0m_update_data\u001b[0m\u001b[1;33m(\u001b[0m\u001b[0mself\u001b[0m\u001b[1;33m)\u001b[0m\u001b[1;33m:\u001b[0m\u001b[1;33m\u001b[0m\u001b[1;33m\u001b[0m\u001b[0m\n\u001b[1;32m-> 2647\u001b[1;33m         \u001b[0mself\u001b[0m\u001b[1;33m.\u001b[0m\u001b[0mscreen\u001b[0m\u001b[1;33m.\u001b[0m\u001b[0m_incrementudc\u001b[0m\u001b[1;33m(\u001b[0m\u001b[1;33m)\u001b[0m\u001b[1;33m\u001b[0m\u001b[1;33m\u001b[0m\u001b[0m\n\u001b[0m\u001b[0;32m   2648\u001b[0m         \u001b[1;32mif\u001b[0m \u001b[0mself\u001b[0m\u001b[1;33m.\u001b[0m\u001b[0mscreen\u001b[0m\u001b[1;33m.\u001b[0m\u001b[0m_updatecounter\u001b[0m \u001b[1;33m!=\u001b[0m \u001b[1;36m0\u001b[0m\u001b[1;33m:\u001b[0m\u001b[1;33m\u001b[0m\u001b[1;33m\u001b[0m\u001b[0m\n\u001b[0;32m   2649\u001b[0m             \u001b[1;32mreturn\u001b[0m\u001b[1;33m\u001b[0m\u001b[1;33m\u001b[0m\u001b[0m\n",
      "\u001b[1;32mc:\\users\\kacper\\appdata\\local\\programs\\python\\python39\\lib\\turtle.py\u001b[0m in \u001b[0;36m_incrementudc\u001b[1;34m(self)\u001b[0m\n\u001b[0;32m   1291\u001b[0m         \u001b[1;32mif\u001b[0m \u001b[1;32mnot\u001b[0m \u001b[0mTurtleScreen\u001b[0m\u001b[1;33m.\u001b[0m\u001b[0m_RUNNING\u001b[0m\u001b[1;33m:\u001b[0m\u001b[1;33m\u001b[0m\u001b[1;33m\u001b[0m\u001b[0m\n\u001b[0;32m   1292\u001b[0m             \u001b[0mTurtleScreen\u001b[0m\u001b[1;33m.\u001b[0m\u001b[0m_RUNNING\u001b[0m \u001b[1;33m=\u001b[0m \u001b[1;32mTrue\u001b[0m\u001b[1;33m\u001b[0m\u001b[1;33m\u001b[0m\u001b[0m\n\u001b[1;32m-> 1293\u001b[1;33m             \u001b[1;32mraise\u001b[0m \u001b[0mTerminator\u001b[0m\u001b[1;33m\u001b[0m\u001b[1;33m\u001b[0m\u001b[0m\n\u001b[0m\u001b[0;32m   1294\u001b[0m         \u001b[1;32mif\u001b[0m \u001b[0mself\u001b[0m\u001b[1;33m.\u001b[0m\u001b[0m_tracing\u001b[0m \u001b[1;33m>\u001b[0m \u001b[1;36m0\u001b[0m\u001b[1;33m:\u001b[0m\u001b[1;33m\u001b[0m\u001b[1;33m\u001b[0m\u001b[0m\n\u001b[0;32m   1295\u001b[0m             \u001b[0mself\u001b[0m\u001b[1;33m.\u001b[0m\u001b[0m_updatecounter\u001b[0m \u001b[1;33m+=\u001b[0m \u001b[1;36m1\u001b[0m\u001b[1;33m\u001b[0m\u001b[1;33m\u001b[0m\u001b[0m\n",
      "\u001b[1;31mTerminator\u001b[0m: "
     ]
    }
   ],
   "source": [
    "hilbert(5,90,size/16)"
   ]
  },
  {
   "cell_type": "code",
   "execution_count": 2,
   "id": "f7ec7e17",
   "metadata": {},
   "outputs": [],
   "source": [
    "tr.done()"
   ]
  },
  {
   "cell_type": "code",
   "execution_count": 9,
   "id": "332a8e25",
   "metadata": {},
   "outputs": [],
   "source": [
    "tr.clear()"
   ]
  },
  {
   "cell_type": "code",
   "execution_count": null,
   "id": "8a0afa9c",
   "metadata": {},
   "outputs": [],
   "source": []
  },
  {
   "cell_type": "code",
   "execution_count": null,
   "id": "31af5a7e",
   "metadata": {},
   "outputs": [],
   "source": []
  },
  {
   "cell_type": "code",
   "execution_count": 87,
   "id": "6f99ce2e",
   "metadata": {},
   "outputs": [],
   "source": [
    "def koch(n, size, first = False):\n",
    "    if (first):\n",
    "        tr.speed(5*(4/3)**n) # przyśpiesza dla duzych n by wszystkie krzywe wykonywał w tym samym czasie (ale i tak jest ograniczenie procesora)\n",
    "        tr.clear()\n",
    "        tr.penup()\n",
    "        tr.goto(-size/2,size/2)\n",
    "        tr.pendown()\n",
    "        koch(n, size);\n",
    "        tr.left(-120);\n",
    "        koch(n, size);\n",
    "        tr.left(-120);\n",
    "        koch(n, size);\n",
    "        tr.left(-120);\n",
    "    else:\n",
    "        if (n > 0) :\n",
    "            koch(n - 1, size / 3);\n",
    "            tr.left(60);\n",
    "            koch(n - 1, size / 3);\n",
    "            tr.left(-120);\n",
    "            koch(n - 1, size / 3);\n",
    "            tr.left(60);\n",
    "            koch(n - 1, size / 3);\n",
    "        else:\n",
    "            tr.forward(size);\n",
    "        \n",
    "    return False;"
   ]
  },
  {
   "cell_type": "code",
   "execution_count": 89,
   "id": "156b18ad",
   "metadata": {},
   "outputs": [
    {
     "data": {
      "text/plain": [
       "False"
      ]
     },
     "execution_count": 89,
     "metadata": {},
     "output_type": "execute_result"
    }
   ],
   "source": [
    "koch(1,400,True)"
   ]
  },
  {
   "cell_type": "code",
   "execution_count": 142,
   "id": "40b274c4",
   "metadata": {},
   "outputs": [
    {
     "data": {
      "text/plain": [
       "0.0"
      ]
     },
     "execution_count": 142,
     "metadata": {},
     "output_type": "execute_result"
    }
   ],
   "source": [
    "tr.heading()"
   ]
  },
  {
   "cell_type": "code",
   "execution_count": 141,
   "id": "608fdf1f",
   "metadata": {},
   "outputs": [],
   "source": [
    "tr.left(-tr.heading())"
   ]
  },
  {
   "cell_type": "code",
   "execution_count": 147,
   "id": "62c83e06",
   "metadata": {},
   "outputs": [],
   "source": [
    "def hilbert(n,size,angle=90,first=False):\n",
    "    if first:\n",
    "        tr.goto(-size/2,-size/2)\n",
    "        tr.clear()\n",
    "        tr.left(-tr.heading()+90)\n",
    "        size=size/(2**n-1)\n",
    "    if n >0:\n",
    "        tr.right(angle)\n",
    "        hilbert(n-1,size,-angle)\n",
    "        tr.forward(size)\n",
    "        tr.left(angle)\n",
    "        hilbert(n-1,size,angle)\n",
    "        tr.forward(size)\n",
    "        hilbert(n-1,size,angle)\n",
    "        tr.left(angle)\n",
    "        tr.forward(size)\n",
    "        hilbert(n-1,size,-angle)\n",
    "        tr.right(angle)\n",
    "    "
   ]
  },
  {
   "cell_type": "code",
   "execution_count": 161,
   "id": "645db27a",
   "metadata": {},
   "outputs": [],
   "source": [
    "hilbert(1,800,90,True)"
   ]
  },
  {
   "cell_type": "code",
   "execution_count": 26,
   "id": "9ca6ce5f",
   "metadata": {},
   "outputs": [],
   "source": [
    "tr.pendown()"
   ]
  },
  {
   "cell_type": "code",
   "execution_count": 160,
   "id": "715e3dc7",
   "metadata": {},
   "outputs": [],
   "source": [
    "tr.speed(0)"
   ]
  },
  {
   "cell_type": "code",
   "execution_count": 34,
   "id": "ea9cc833",
   "metadata": {},
   "outputs": [],
   "source": [
    "def hilbert(level, angle, step):\n",
    "  \n",
    "    # Input Parameters are numeric\n",
    "    # Return Value: None\n",
    "    if level == 0:\n",
    "        return\n",
    "  \n",
    "    tr.right(angle)\n",
    "    hilbert(level-1, -angle, step)\n",
    "  \n",
    "    tr.forward(step)\n",
    "    tr.left(angle)\n",
    "    hilbert(level-1, angle, step)\n",
    "  \n",
    "    tr.forward(step)\n",
    "    hilbert(level-1, angle, step)\n",
    "  \n",
    "    tr.left(angle)\n",
    "    tr.forward(step)\n",
    "    hilbert(level-1, -angle, step)\n",
    "    tr.right(angle)"
   ]
  },
  {
   "cell_type": "code",
   "execution_count": 168,
   "id": "8be62461",
   "metadata": {},
   "outputs": [
    {
     "ename": "Terminator",
     "evalue": "",
     "output_type": "error",
     "traceback": [
      "\u001b[1;31m---------------------------------------------------------------------------\u001b[0m",
      "\u001b[1;31mTerminator\u001b[0m                                Traceback (most recent call last)",
      "\u001b[1;32m<ipython-input-168-bac71bcb6a39>\u001b[0m in \u001b[0;36m<module>\u001b[1;34m\u001b[0m\n\u001b[1;32m----> 1\u001b[1;33m \u001b[0mHilbert\u001b[0m\u001b[1;33m(\u001b[0m\u001b[1;36m3\u001b[0m\u001b[1;33m,\u001b[0m\u001b[1;36m90\u001b[0m\u001b[1;33m,\u001b[0m\u001b[1;36m25\u001b[0m\u001b[1;33m)\u001b[0m\u001b[1;33m\u001b[0m\u001b[1;33m\u001b[0m\u001b[0m\n\u001b[0m",
      "\u001b[1;32m<ipython-input-32-de81c1167838>\u001b[0m in \u001b[0;36mHilbert\u001b[1;34m(level, angle, step)\u001b[0m\n\u001b[0;32m     14\u001b[0m \u001b[1;33m\u001b[0m\u001b[0m\n\u001b[0;32m     15\u001b[0m     \u001b[0mtr\u001b[0m\u001b[1;33m.\u001b[0m\u001b[0mforward\u001b[0m\u001b[1;33m(\u001b[0m\u001b[0mstep\u001b[0m\u001b[1;33m)\u001b[0m\u001b[1;33m\u001b[0m\u001b[1;33m\u001b[0m\u001b[0m\n\u001b[1;32m---> 16\u001b[1;33m     \u001b[0mhilbert\u001b[0m\u001b[1;33m(\u001b[0m\u001b[0mlevel\u001b[0m\u001b[1;33m-\u001b[0m\u001b[1;36m1\u001b[0m\u001b[1;33m,\u001b[0m \u001b[0mangle\u001b[0m\u001b[1;33m,\u001b[0m \u001b[0mstep\u001b[0m\u001b[1;33m)\u001b[0m\u001b[1;33m\u001b[0m\u001b[1;33m\u001b[0m\u001b[0m\n\u001b[0m\u001b[0;32m     17\u001b[0m \u001b[1;33m\u001b[0m\u001b[0m\n\u001b[0;32m     18\u001b[0m     \u001b[0mtr\u001b[0m\u001b[1;33m.\u001b[0m\u001b[0mleft\u001b[0m\u001b[1;33m(\u001b[0m\u001b[0mangle\u001b[0m\u001b[1;33m)\u001b[0m\u001b[1;33m\u001b[0m\u001b[1;33m\u001b[0m\u001b[0m\n",
      "\u001b[1;32m<ipython-input-147-35d17e82505f>\u001b[0m in \u001b[0;36mhilbert\u001b[1;34m(n, size, angle, first)\u001b[0m\n\u001b[0;32m      7\u001b[0m     \u001b[1;32mif\u001b[0m \u001b[0mn\u001b[0m \u001b[1;33m>\u001b[0m\u001b[1;36m0\u001b[0m\u001b[1;33m:\u001b[0m\u001b[1;33m\u001b[0m\u001b[1;33m\u001b[0m\u001b[0m\n\u001b[0;32m      8\u001b[0m         \u001b[0mtr\u001b[0m\u001b[1;33m.\u001b[0m\u001b[0mright\u001b[0m\u001b[1;33m(\u001b[0m\u001b[0mangle\u001b[0m\u001b[1;33m)\u001b[0m\u001b[1;33m\u001b[0m\u001b[1;33m\u001b[0m\u001b[0m\n\u001b[1;32m----> 9\u001b[1;33m         \u001b[0mhilbert\u001b[0m\u001b[1;33m(\u001b[0m\u001b[0mn\u001b[0m\u001b[1;33m-\u001b[0m\u001b[1;36m1\u001b[0m\u001b[1;33m,\u001b[0m\u001b[0msize\u001b[0m\u001b[1;33m,\u001b[0m\u001b[1;33m-\u001b[0m\u001b[0mangle\u001b[0m\u001b[1;33m)\u001b[0m\u001b[1;33m\u001b[0m\u001b[1;33m\u001b[0m\u001b[0m\n\u001b[0m\u001b[0;32m     10\u001b[0m         \u001b[0mtr\u001b[0m\u001b[1;33m.\u001b[0m\u001b[0mforward\u001b[0m\u001b[1;33m(\u001b[0m\u001b[0msize\u001b[0m\u001b[1;33m)\u001b[0m\u001b[1;33m\u001b[0m\u001b[1;33m\u001b[0m\u001b[0m\n\u001b[0;32m     11\u001b[0m         \u001b[0mtr\u001b[0m\u001b[1;33m.\u001b[0m\u001b[0mleft\u001b[0m\u001b[1;33m(\u001b[0m\u001b[0mangle\u001b[0m\u001b[1;33m)\u001b[0m\u001b[1;33m\u001b[0m\u001b[1;33m\u001b[0m\u001b[0m\n",
      "\u001b[1;32m<ipython-input-147-35d17e82505f>\u001b[0m in \u001b[0;36mhilbert\u001b[1;34m(n, size, angle, first)\u001b[0m\n\u001b[0;32m     11\u001b[0m         \u001b[0mtr\u001b[0m\u001b[1;33m.\u001b[0m\u001b[0mleft\u001b[0m\u001b[1;33m(\u001b[0m\u001b[0mangle\u001b[0m\u001b[1;33m)\u001b[0m\u001b[1;33m\u001b[0m\u001b[1;33m\u001b[0m\u001b[0m\n\u001b[0;32m     12\u001b[0m         \u001b[0mhilbert\u001b[0m\u001b[1;33m(\u001b[0m\u001b[0mn\u001b[0m\u001b[1;33m-\u001b[0m\u001b[1;36m1\u001b[0m\u001b[1;33m,\u001b[0m\u001b[0msize\u001b[0m\u001b[1;33m,\u001b[0m\u001b[0mangle\u001b[0m\u001b[1;33m)\u001b[0m\u001b[1;33m\u001b[0m\u001b[1;33m\u001b[0m\u001b[0m\n\u001b[1;32m---> 13\u001b[1;33m         \u001b[0mtr\u001b[0m\u001b[1;33m.\u001b[0m\u001b[0mforward\u001b[0m\u001b[1;33m(\u001b[0m\u001b[0msize\u001b[0m\u001b[1;33m)\u001b[0m\u001b[1;33m\u001b[0m\u001b[1;33m\u001b[0m\u001b[0m\n\u001b[0m\u001b[0;32m     14\u001b[0m         \u001b[0mhilbert\u001b[0m\u001b[1;33m(\u001b[0m\u001b[0mn\u001b[0m\u001b[1;33m-\u001b[0m\u001b[1;36m1\u001b[0m\u001b[1;33m,\u001b[0m\u001b[0msize\u001b[0m\u001b[1;33m,\u001b[0m\u001b[0mangle\u001b[0m\u001b[1;33m)\u001b[0m\u001b[1;33m\u001b[0m\u001b[1;33m\u001b[0m\u001b[0m\n\u001b[0;32m     15\u001b[0m         \u001b[0mtr\u001b[0m\u001b[1;33m.\u001b[0m\u001b[0mleft\u001b[0m\u001b[1;33m(\u001b[0m\u001b[0mangle\u001b[0m\u001b[1;33m)\u001b[0m\u001b[1;33m\u001b[0m\u001b[1;33m\u001b[0m\u001b[0m\n",
      "\u001b[1;32mc:\\users\\kacper\\appdata\\local\\programs\\python\\python39\\lib\\turtle.py\u001b[0m in \u001b[0;36mforward\u001b[1;34m(distance)\u001b[0m\n",
      "\u001b[1;31mTerminator\u001b[0m: "
     ]
    }
   ],
   "source": [
    "Hilbert(3,90,25)"
   ]
  },
  {
   "cell_type": "code",
   "execution_count": 166,
   "id": "910aff93",
   "metadata": {},
   "outputs": [],
   "source": [
    "tr.clear()"
   ]
  },
  {
   "cell_type": "code",
   "execution_count": 165,
   "id": "2a4f73d1",
   "metadata": {},
   "outputs": [],
   "source": [
    "tr.goto(0,0)"
   ]
  },
  {
   "cell_type": "code",
   "execution_count": 103,
   "id": "823b10dc",
   "metadata": {},
   "outputs": [],
   "source": [
    "tr.speed(3)"
   ]
  },
  {
   "cell_type": "code",
   "execution_count": 133,
   "id": "098fe261",
   "metadata": {},
   "outputs": [],
   "source": [
    "tr.right(90)"
   ]
  },
  {
   "cell_type": "code",
   "execution_count": 134,
   "id": "cd3711ae",
   "metadata": {},
   "outputs": [],
   "source": [
    "tr.forward(100)"
   ]
  },
  {
   "cell_type": "raw",
   "id": "168ed57d",
   "metadata": {},
   "source": []
  },
  {
   "cell_type": "code",
   "execution_count": null,
   "id": "684ee3a6",
   "metadata": {},
   "outputs": [],
   "source": []
  },
  {
   "cell_type": "code",
   "execution_count": null,
   "id": "ef317ce3",
   "metadata": {},
   "outputs": [],
   "source": []
  },
  {
   "cell_type": "code",
   "execution_count": null,
   "id": "a2e9eadb",
   "metadata": {},
   "outputs": [],
   "source": []
  },
  {
   "cell_type": "code",
   "execution_count": null,
   "id": "6c7a7162",
   "metadata": {},
   "outputs": [],
   "source": []
  },
  {
   "cell_type": "code",
   "execution_count": null,
   "id": "3a9f0f7c",
   "metadata": {},
   "outputs": [],
   "source": []
  },
  {
   "cell_type": "code",
   "execution_count": null,
   "id": "724fb6c6",
   "metadata": {},
   "outputs": [],
   "source": []
  }
 ],
 "metadata": {
  "kernelspec": {
   "display_name": "Python 3",
   "language": "python",
   "name": "python3"
  },
  "language_info": {
   "codemirror_mode": {
    "name": "ipython",
    "version": 3
   },
   "file_extension": ".py",
   "mimetype": "text/x-python",
   "name": "python",
   "nbconvert_exporter": "python",
   "pygments_lexer": "ipython3",
   "version": "3.9.5"
  }
 },
 "nbformat": 4,
 "nbformat_minor": 5
}
